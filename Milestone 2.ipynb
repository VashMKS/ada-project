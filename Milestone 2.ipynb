{
 "cells": [
  {
   "cell_type": "markdown",
   "metadata": {},
   "source": [
    "# The Echo Chamber Effect - A Case Study (provisional title)\n",
    "\n",
    "## Milestone 2\n",
    "\n",
    "In this notebook we will download a small sample of the Reddit dataset for the first time and perform some basic statistics on it. We will talk about the structure of the data, our pipepline to handle it and how this new knowledge has affected our plans for the project.\n",
    "\n",
    "We will also load the two recommended NLP libraries and try them out to see how they work and to which extent we can take advantage of them.\n",
    "\n",
    "The full report can be found on the updated README."
   ]
  },
  {
   "cell_type": "code",
   "execution_count": 1,
   "metadata": {},
   "outputs": [],
   "source": [
    "import pandas as pd\n",
    "import numpy as np\n",
    "import scipy as sp\n",
    "import seaborn as sns\n",
    "%matplotlib inline\n",
    "\n",
    "import findspark\n",
    "#findspark.init(r'C:\\Spark\\spark-2.3.2-bin-hadoop2.7')\n",
    "findspark.init('/Users/vikalpkamdar/opt/spark')\n",
    "#findspark.init()\n",
    "findspark.find()\n",
    "\n",
    "from datetime import datetime\n",
    "from matplotlib import pyplot as plt\n",
    "from pyspark.sql import *\n",
    "from pyspark.sql.functions import *\n",
    "\n",
    "from pyspark.sql import SparkSession\n",
    "from pyspark import SparkContext\n",
    "\n",
    "spark = SparkSession.builder.getOrCreate()\n",
    "spark.conf.set('spark.sql.session.timeZone', 'UTC')\n",
    "sc = spark.sparkContext\n",
    "sqlc = SQLContext(sc)"
   ]
  },
  {
   "cell_type": "code",
   "execution_count": 2,
   "metadata": {},
   "outputs": [],
   "source": [
    "DATA_DIR = './data/'"
   ]
  },
  {
   "cell_type": "markdown",
   "metadata": {},
   "source": [
    "## Sampling the data"
   ]
  },
  {
   "cell_type": "markdown",
   "metadata": {},
   "source": [
    "This dataset is big beyond comprehension. Around 2TB of comments from Reddit's inception in 2005 until March 2017. Our machines cannot handle such numbers and even if they could it would take too much time. Instead, we decided to, for now, focus only on 2016 (the year of the US presidential election) which itslef represents already more than 360GB of data and sticked to the following pipeline:\n",
    "\n",
    " - Sample 10% of the data (~12GB compressed)\n",
    " - Try our scripts locally using spark\n",
    " - Once prototyped, upload the scripts to the cluster, run them on the whole year of data and retrieve only the essential parts\n",
    "\n",
    "This way we streamlined the queries to the cluster and created an easily expandable workframe.\n",
    "\n",
    "In order to filter and reduce even more the size of the datasets we dropped the columns that mostly have no use for us, namely: ```author_flair_class```, ```author_flair_text```, ```distinguished```, ```edited```, ```retrieved_on```, ```stickied``` and ```subreddit_id```. (Script used on cluster: `script/drop_col.py`)"
   ]
  },
  {
   "cell_type": "markdown",
   "metadata": {},
   "source": [
    "We don't think a dataset as rich as this needs much enrichment, but we could consider using web scrapping techniques to retrieve subredit data (e.g. the rules of the subreddit)."
   ]
  },
  {
   "cell_type": "markdown",
   "metadata": {},
   "source": [
    "### Using the sample to explain the data\n",
    "\n",
    "The following code does not really need the data in its size as it's for explanatory purposes. The queries and operations were performed on our local system with 1% 2016 reddit comments. Once we figured out the querries we applied them to 10% of the 2016 reddit data (~12GB compressed) by sending python scripts (found in scripts/ folder) to the cluster."
   ]
  },
  {
   "cell_type": "code",
   "execution_count": 50,
   "metadata": {
    "scrolled": true
   },
   "outputs": [],
   "source": [
    "df_spark = spark.read.parquet(DATA_DIR + \"sample2016_1.parquet\")"
   ]
  },
  {
   "cell_type": "code",
   "execution_count": 51,
   "metadata": {},
   "outputs": [
    {
     "data": {
      "text/plain": [
       "7999762"
      ]
     },
     "execution_count": 51,
     "metadata": {},
     "output_type": "execute_result"
    }
   ],
   "source": [
    "# Sample size\n",
    "df_spark.count() # number of comments used for the 1% dataset."
   ]
  },
  {
   "cell_type": "markdown",
   "metadata": {},
   "source": [
    "Firstly we show the column names of the spark data frame and the first row in order to analyze how the data frame is structured, the differents columns and its meanings:"
   ]
  },
  {
   "cell_type": "code",
   "execution_count": 52,
   "metadata": {
    "scrolled": true
   },
   "outputs": [
    {
     "data": {
      "text/plain": [
       "['author',\n",
       " 'author_flair_css_class',\n",
       " 'author_flair_text',\n",
       " 'body',\n",
       " 'controversiality',\n",
       " 'created_utc',\n",
       " 'distinguished',\n",
       " 'edited',\n",
       " 'gilded',\n",
       " 'id',\n",
       " 'link_id',\n",
       " 'parent_id',\n",
       " 'retrieved_on',\n",
       " 'score',\n",
       " 'stickied',\n",
       " 'subreddit',\n",
       " 'subreddit_id',\n",
       " 'ups']"
      ]
     },
     "execution_count": 52,
     "metadata": {},
     "output_type": "execute_result"
    }
   ],
   "source": [
    "df_spark.columns"
   ]
  },
  {
   "cell_type": "code",
   "execution_count": 53,
   "metadata": {
    "scrolled": true
   },
   "outputs": [
    {
     "name": "stdout",
     "output_type": "stream",
     "text": [
      "+-----------+----------------------+-----------------+--------------------+----------------+-----------+-------------+------+------+-------+---------+---------+------------+-----+--------+---------+------------+----+\n",
      "|     author|author_flair_css_class|author_flair_text|                body|controversiality|created_utc|distinguished|edited|gilded|     id|  link_id|parent_id|retrieved_on|score|stickied|subreddit|subreddit_id| ups|\n",
      "+-----------+----------------------+-----------------+--------------------+----------------+-----------+-------------+------+------+-------+---------+---------+------------+-----+--------+---------+------------+----+\n",
      "|Tsobaphomet|               warrior|                 |Thanks :)\n",
      "\n",
      "I was ...|               0| 1478922864|         null| false|     0|d9wsqvf|t3_5ce8ec|t3_5ce8ec|  1481414536|    1|   false|      wow|    t5_2qio8|null|\n",
      "+-----------+----------------------+-----------------+--------------------+----------------+-----------+-------------+------+------+-------+---------+---------+------------+-----+--------+---------+------------+----+\n",
      "only showing top 1 row\n",
      "\n"
     ]
    }
   ],
   "source": [
    "# example of 1 comment\n",
    "df_spark.show(1)"
   ]
  },
  {
   "cell_type": "markdown",
   "metadata": {},
   "source": [
    "Here we explain the columns one by one:\n",
    "* __'author':__ Redditor username\n",
    "* __'author_flair_css_class':__ CSS class, defines the style of the 'author_flair_text' tag within the html of Reddit.\n",
    "* __'author_flair_text':__  A tag associated to your username, which is only visible in the current subreddit. \n",
    "* __'body':__ The content of the comment.\n",
    "* __'controversiality':__ When its value is 1, the comment has been voted above a certain threshold and has roughly the same amount of downvotes and upvotes. 0 Otherwise. [More info](https://www.reddit.com/r/redditdev/comments/29i58s/reddit_change_api_availability_controversiality/)\n",
    "* __'created_utc':__ Unix timestamp of the creation date.\n",
    "* __'distinguished':__ If a comment is distinguished, this means that a moderator or admin of the subreddit has highlighted it (A little [M] will appear next to it).\n",
    "* __'edited':__ Indicates if the comment has been edited. If it has not been edited the variable is False, else its value is the Unix Timestamp of the last edition.\n",
    "* __'gilded':__ When its value is 1, that means a [premium](https://www.reddit.com/premium/) user gave the author [reddit gold](https://www.reddit.com/coins/) (a week of reddit premium). \n",
    "* __'id':__ Unique ID of the comment.\n",
    "* __'link_id':__ Id of the link (similar to post) this comment is anwering to. Always begins with 't3_'.\n",
    "* __'parent_id':__ Id of the post this comment is below. Always begins with 't3_'.\n",
    "* __'retrieved_on':__ Unix Timestamp of the comment retrieval (to this data set).\n",
    "* __'score':__ Upvotes minus downvotes (Reddit mildly obfuscates this value when the comment has lots of votes as a security measure against external meddling. This is called [vote fuzzing](https://www.reddit.com/r/firstdayontheinternet/comments/30b44n/could_someone_explain_how_the_reddit_karma_system/).\n",
    "* __'stickied':__ Boolean value. When a comment is stickied (by a moderator or admin), the comment appears as the first entry right below the original post.\n",
    "* __'subreddit':__ Name of the subreddit where the comment was posted.\n",
    "* __'subreddit_id':__ Unique ID (or full name as refered to in the Rddit API) of the subreddit. Note that those always begin with 't5_'."
   ]
  },
  {
   "cell_type": "markdown",
   "metadata": {},
   "source": [
    "The types of each column:"
   ]
  },
  {
   "cell_type": "code",
   "execution_count": 54,
   "metadata": {
    "scrolled": false
   },
   "outputs": [
    {
     "data": {
      "text/plain": [
       "DataFrame[author: string, author_flair_css_class: string, author_flair_text: string, body: string, controversiality: bigint, created_utc: bigint, distinguished: string, edited: string, gilded: bigint, id: string, link_id: string, parent_id: string, retrieved_on: bigint, score: bigint, stickied: boolean, subreddit: string, subreddit_id: string, ups: bigint]"
      ]
     },
     "execution_count": 54,
     "metadata": {},
     "output_type": "execute_result"
    }
   ],
   "source": [
    "df_spark.distinct()"
   ]
  },
  {
   "cell_type": "markdown",
   "metadata": {},
   "source": [
    "And the different values of some of the columns (only the relevant ones):"
   ]
  },
  {
   "cell_type": "code",
   "execution_count": 55,
   "metadata": {
    "scrolled": false
   },
   "outputs": [
    {
     "name": "stdout",
     "output_type": "stream",
     "text": [
      "+----------------+\n",
      "|controversiality|\n",
      "+----------------+\n",
      "|               0|\n",
      "|               1|\n",
      "+----------------+\n",
      "\n"
     ]
    }
   ],
   "source": [
    "df_spark[['controversiality']].distinct().show(4)"
   ]
  },
  {
   "cell_type": "code",
   "execution_count": 56,
   "metadata": {},
   "outputs": [
    {
     "name": "stdout",
     "output_type": "stream",
     "text": [
      "+-------------+\n",
      "|distinguished|\n",
      "+-------------+\n",
      "|         null|\n",
      "|    moderator|\n",
      "|        admin|\n",
      "+-------------+\n",
      "\n"
     ]
    }
   ],
   "source": [
    "df_spark[['distinguished']].distinct().show(4)"
   ]
  },
  {
   "cell_type": "code",
   "execution_count": 57,
   "metadata": {
    "scrolled": true
   },
   "outputs": [
    {
     "name": "stdout",
     "output_type": "stream",
     "text": [
      "+----------+\n",
      "|    edited|\n",
      "+----------+\n",
      "|1478967096|\n",
      "|1478978657|\n",
      "+----------+\n",
      "only showing top 2 rows\n",
      "\n"
     ]
    }
   ],
   "source": [
    "df_spark[['edited']].distinct().show(2)"
   ]
  },
  {
   "cell_type": "code",
   "execution_count": 58,
   "metadata": {},
   "outputs": [
    {
     "name": "stdout",
     "output_type": "stream",
     "text": [
      "+--------+\n",
      "| link_id|\n",
      "+--------+\n",
      "|t3_y5ggc|\n",
      "|t3_wadsy|\n",
      "|t3_st22f|\n",
      "+--------+\n",
      "only showing top 3 rows\n",
      "\n"
     ]
    }
   ],
   "source": [
    "df_spark[['link_id']].distinct().orderBy(desc(\"link_id\")).show(3)"
   ]
  },
  {
   "cell_type": "code",
   "execution_count": 59,
   "metadata": {},
   "outputs": [
    {
     "name": "stdout",
     "output_type": "stream",
     "text": [
      "+-----+\n",
      "|score|\n",
      "+-----+\n",
      "|-1032|\n",
      "| -722|\n",
      "| -655|\n",
      "+-----+\n",
      "only showing top 3 rows\n",
      "\n"
     ]
    }
   ],
   "source": [
    "df_spark[['score']].orderBy(asc('score')).show(3)"
   ]
  },
  {
   "cell_type": "markdown",
   "metadata": {},
   "source": [
    "Number of subreddits in our 1% sample:"
   ]
  },
  {
   "cell_type": "code",
   "execution_count": 60,
   "metadata": {
    "scrolled": true
   },
   "outputs": [
    {
     "data": {
      "text/plain": [
       "50076"
      ]
     },
     "execution_count": 60,
     "metadata": {},
     "output_type": "execute_result"
    }
   ],
   "source": [
    "df_spark[['subreddit_id']].distinct().count()"
   ]
  },
  {
   "cell_type": "markdown",
   "metadata": {},
   "source": [
    "Number of controversial comments in our 1% sample:"
   ]
  },
  {
   "cell_type": "code",
   "execution_count": 61,
   "metadata": {},
   "outputs": [
    {
     "data": {
      "text/plain": [
       "177039"
      ]
     },
     "execution_count": 61,
     "metadata": {},
     "output_type": "execute_result"
    }
   ],
   "source": [
    "df_spark.filter('controversiality = 1').count()"
   ]
  },
  {
   "cell_type": "markdown",
   "metadata": {},
   "source": [
    "For most of the local processing we will use pandas as it is easier. By the time our data pieces will be filtered and small enough to not run into memory constraints. Using pyarrow we can read parquet files directly into pandas dataframes."
   ]
  },
  {
   "cell_type": "markdown",
   "metadata": {},
   "source": [
    "conda install pyarrow, we get an error if we try to transform the spark dataframe"
   ]
  },
  {
   "cell_type": "code",
   "execution_count": 62,
   "metadata": {
    "scrolled": true
   },
   "outputs": [],
   "source": [
    "df_pd = pd.read_parquet(DATA_DIR + \"sample2016_1.parquet\")"
   ]
  },
  {
   "cell_type": "markdown",
   "metadata": {},
   "source": [
    "We will now print out some basic properties and stats about our 1% data sample."
   ]
  },
  {
   "cell_type": "code",
   "execution_count": 63,
   "metadata": {
    "scrolled": true
   },
   "outputs": [
    {
     "data": {
      "text/html": [
       "<div>\n",
       "<style scoped>\n",
       "    .dataframe tbody tr th:only-of-type {\n",
       "        vertical-align: middle;\n",
       "    }\n",
       "\n",
       "    .dataframe tbody tr th {\n",
       "        vertical-align: top;\n",
       "    }\n",
       "\n",
       "    .dataframe thead th {\n",
       "        text-align: right;\n",
       "    }\n",
       "</style>\n",
       "<table border=\"1\" class=\"dataframe\">\n",
       "  <thead>\n",
       "    <tr style=\"text-align: right;\">\n",
       "      <th></th>\n",
       "      <th>author</th>\n",
       "      <th>author_flair_css_class</th>\n",
       "      <th>author_flair_text</th>\n",
       "      <th>body</th>\n",
       "      <th>controversiality</th>\n",
       "      <th>created_utc</th>\n",
       "      <th>distinguished</th>\n",
       "      <th>edited</th>\n",
       "      <th>gilded</th>\n",
       "      <th>id</th>\n",
       "      <th>link_id</th>\n",
       "      <th>parent_id</th>\n",
       "      <th>retrieved_on</th>\n",
       "      <th>score</th>\n",
       "      <th>stickied</th>\n",
       "      <th>subreddit</th>\n",
       "      <th>subreddit_id</th>\n",
       "      <th>ups</th>\n",
       "    </tr>\n",
       "  </thead>\n",
       "  <tbody>\n",
       "    <tr>\n",
       "      <th>0</th>\n",
       "      <td>AnxiousPatient</td>\n",
       "      <td>None</td>\n",
       "      <td>None</td>\n",
       "      <td>It's possible I may have been that day.</td>\n",
       "      <td>0</td>\n",
       "      <td>1465330644</td>\n",
       "      <td>None</td>\n",
       "      <td>false</td>\n",
       "      <td>0</td>\n",
       "      <td>d3zwugc</td>\n",
       "      <td>t3_4mzr8r</td>\n",
       "      <td>t1_d3zwjop</td>\n",
       "      <td>1468878282</td>\n",
       "      <td>1</td>\n",
       "      <td>False</td>\n",
       "      <td>AskReddit</td>\n",
       "      <td>t5_2qh1i</td>\n",
       "      <td>1.0</td>\n",
       "    </tr>\n",
       "    <tr>\n",
       "      <th>1</th>\n",
       "      <td>dirtymoney</td>\n",
       "      <td>None</td>\n",
       "      <td>None</td>\n",
       "      <td>r/shoplifting would love that</td>\n",
       "      <td>0</td>\n",
       "      <td>1465330650</td>\n",
       "      <td>None</td>\n",
       "      <td>false</td>\n",
       "      <td>0</td>\n",
       "      <td>d3zwum0</td>\n",
       "      <td>t3_4n0ghs</td>\n",
       "      <td>t1_d3zu5ud</td>\n",
       "      <td>1468878284</td>\n",
       "      <td>1</td>\n",
       "      <td>False</td>\n",
       "      <td>WTF</td>\n",
       "      <td>t5_2qh61</td>\n",
       "      <td>1.0</td>\n",
       "    </tr>\n",
       "  </tbody>\n",
       "</table>\n",
       "</div>"
      ],
      "text/plain": [
       "           author author_flair_css_class author_flair_text  \\\n",
       "0  AnxiousPatient                   None              None   \n",
       "1      dirtymoney                   None              None   \n",
       "\n",
       "                                      body  controversiality  created_utc  \\\n",
       "0  It's possible I may have been that day.                 0   1465330644   \n",
       "1           r/shoplifting would love that                  0   1465330650   \n",
       "\n",
       "  distinguished edited  gilded       id    link_id   parent_id  retrieved_on  \\\n",
       "0          None  false       0  d3zwugc  t3_4mzr8r  t1_d3zwjop    1468878282   \n",
       "1          None  false       0  d3zwum0  t3_4n0ghs  t1_d3zu5ud    1468878284   \n",
       "\n",
       "   score  stickied  subreddit subreddit_id  ups  \n",
       "0      1     False  AskReddit     t5_2qh1i  1.0  \n",
       "1      1     False        WTF     t5_2qh61  1.0  "
      ]
     },
     "execution_count": 63,
     "metadata": {},
     "output_type": "execute_result"
    }
   ],
   "source": [
    "df_pd.head(2)"
   ]
  },
  {
   "cell_type": "code",
   "execution_count": 64,
   "metadata": {
    "scrolled": true
   },
   "outputs": [
    {
     "data": {
      "text/plain": [
       "array([[0, None, 'false', 't1_d3zwjop'],\n",
       "       [0, None, 'false', 't1_d3zu5ud'],\n",
       "       [0, None, 'false', 't3_4n1136'],\n",
       "       ...,\n",
       "       [0, None, 'false', 't1_czj41je'],\n",
       "       [0, None, 'false', 't1_czj40e1'],\n",
       "       [0, None, 'false', 't1_czj41ru']], dtype=object)"
      ]
     },
     "execution_count": 64,
     "metadata": {},
     "output_type": "execute_result"
    }
   ],
   "source": [
    "df_pd[['controversiality', 'distinguished', 'edited', 'parent_id']].values"
   ]
  },
  {
   "cell_type": "code",
   "execution_count": 65,
   "metadata": {
    "scrolled": false
   },
   "outputs": [
    {
     "data": {
      "text/plain": [
       "(7999762, 18)"
      ]
     },
     "execution_count": 65,
     "metadata": {},
     "output_type": "execute_result"
    }
   ],
   "source": [
    "df_pd.shape"
   ]
  },
  {
   "cell_type": "code",
   "execution_count": 66,
   "metadata": {},
   "outputs": [
    {
     "data": {
      "text/plain": [
       "7999762"
      ]
     },
     "execution_count": 66,
     "metadata": {},
     "output_type": "execute_result"
    }
   ],
   "source": [
    "len(df_pd['id'].unique())"
   ]
  },
  {
   "cell_type": "markdown",
   "metadata": {},
   "source": [
    "From the two cells above we can confirm that the `id` is unique."
   ]
  },
  {
   "cell_type": "code",
   "execution_count": 67,
   "metadata": {
    "scrolled": true
   },
   "outputs": [
    {
     "data": {
      "image/png": "[encoded data removed]",
      "text/plain": [
       "<matplotlib.figure.Figure at 0x1c6bc50e80>"
      ]
     },
     "metadata": {},
     "output_type": "display_data"
    }
   ],
   "source": [
    "df_pd['subreddit'].value_counts().to_frame().hist(bins=[10,100,1000,2000,3000,10000]);"
   ]
  },
  {
   "cell_type": "markdown",
   "metadata": {},
   "source": [
    "As we can see from the histogram above, a lot of the subreddits have only 1 comment. Hence these subreddits will be considered as outliers, as we feel they do will not help us in our eco-chamber calculations."
   ]
  },
  {
   "cell_type": "markdown",
   "metadata": {},
   "source": [
    "We need to decide a threshold for the number of comments per subreddit. Subreddits below that threshold will not bring us much if not any information in our calculations for milestone 3."
   ]
  },
  {
   "cell_type": "markdown",
   "metadata": {},
   "source": [
    "Let us now see a general pictures for the number of "
   ]
  },
  {
   "cell_type": "code",
   "execution_count": 104,
   "metadata": {},
   "outputs": [
    {
     "data": {
      "text/plain": [
       "([], <a list of 0 Text yticklabel objects>)"
      ]
     },
     "execution_count": 104,
     "metadata": {},
     "output_type": "execute_result"
    },
    {
     "data": {
      "image/png": "[encoded data removed]",
      "text/plain": [
       "<matplotlib.figure.Figure at 0x1a169504a8>"
      ]
     },
     "metadata": {},
     "output_type": "display_data"
    }
   ],
   "source": [
    "df_pd['subreddit'].value_counts().to_frame()[df_pd['subreddit'].value_counts() > 10000].plot(kind='barh', figsize=(20,15));\n",
    "plt.yticks([])"
   ]
  },
  {
   "cell_type": "code",
   "execution_count": 70,
   "metadata": {},
   "outputs": [
    {
     "data": {
      "image/png": "[encoded data removed]",
      "text/plain": [
       "<matplotlib.figure.Figure at 0x1a14d206d8>"
      ]
     },
     "metadata": {},
     "output_type": "display_data"
    }
   ],
   "source": [
    "df_pd['subreddit'].value_counts().hist(bins=[0,10,100,1000,2000,3000,10000]);"
   ]
  },
  {
   "cell_type": "code",
   "execution_count": 71,
   "metadata": {},
   "outputs": [
    {
     "data": {
      "text/html": [
       "<div>\n",
       "<style scoped>\n",
       "    .dataframe tbody tr th:only-of-type {\n",
       "        vertical-align: middle;\n",
       "    }\n",
       "\n",
       "    .dataframe tbody tr th {\n",
       "        vertical-align: top;\n",
       "    }\n",
       "\n",
       "    .dataframe thead th {\n",
       "        text-align: right;\n",
       "    }\n",
       "</style>\n",
       "<table border=\"1\" class=\"dataframe\">\n",
       "  <thead>\n",
       "    <tr style=\"text-align: right;\">\n",
       "      <th></th>\n",
       "      <th>author</th>\n",
       "      <th>author_flair_css_class</th>\n",
       "      <th>author_flair_text</th>\n",
       "      <th>body</th>\n",
       "      <th>controversiality</th>\n",
       "      <th>created_utc</th>\n",
       "      <th>distinguished</th>\n",
       "      <th>edited</th>\n",
       "      <th>gilded</th>\n",
       "      <th>id</th>\n",
       "      <th>link_id</th>\n",
       "      <th>parent_id</th>\n",
       "      <th>retrieved_on</th>\n",
       "      <th>score</th>\n",
       "      <th>stickied</th>\n",
       "      <th>subreddit</th>\n",
       "      <th>subreddit_id</th>\n",
       "      <th>ups</th>\n",
       "    </tr>\n",
       "  </thead>\n",
       "  <tbody>\n",
       "    <tr>\n",
       "      <th>0</th>\n",
       "      <td>AnxiousPatient</td>\n",
       "      <td>None</td>\n",
       "      <td>None</td>\n",
       "      <td>It's possible I may have been that day.</td>\n",
       "      <td>0</td>\n",
       "      <td>1465330644</td>\n",
       "      <td>None</td>\n",
       "      <td>false</td>\n",
       "      <td>0</td>\n",
       "      <td>d3zwugc</td>\n",
       "      <td>t3_4mzr8r</td>\n",
       "      <td>t1_d3zwjop</td>\n",
       "      <td>1468878282</td>\n",
       "      <td>1</td>\n",
       "      <td>False</td>\n",
       "      <td>AskReddit</td>\n",
       "      <td>t5_2qh1i</td>\n",
       "      <td>1.0</td>\n",
       "    </tr>\n",
       "    <tr>\n",
       "      <th>20</th>\n",
       "      <td>RCBurnout11</td>\n",
       "      <td>None</td>\n",
       "      <td>None</td>\n",
       "      <td>They apologize excessively, they're always the...</td>\n",
       "      <td>0</td>\n",
       "      <td>1465330706</td>\n",
       "      <td>None</td>\n",
       "      <td>false</td>\n",
       "      <td>0</td>\n",
       "      <td>d3zww5m</td>\n",
       "      <td>t3_4n10jv</td>\n",
       "      <td>t3_4n10jv</td>\n",
       "      <td>1468878304</td>\n",
       "      <td>3909</td>\n",
       "      <td>False</td>\n",
       "      <td>AskReddit</td>\n",
       "      <td>t5_2qh1i</td>\n",
       "      <td>3909.0</td>\n",
       "    </tr>\n",
       "    <tr>\n",
       "      <th>26</th>\n",
       "      <td>cyberbeast41</td>\n",
       "      <td>None</td>\n",
       "      <td>None</td>\n",
       "      <td>Dr. Ian Malcolm:\"Oh, yeah. Oooh, ahhh, that's ...</td>\n",
       "      <td>0</td>\n",
       "      <td>1465330742</td>\n",
       "      <td>None</td>\n",
       "      <td>false</td>\n",
       "      <td>0</td>\n",
       "      <td>d3zwx5q</td>\n",
       "      <td>t3_4n0rh4</td>\n",
       "      <td>t3_4n0rh4</td>\n",
       "      <td>1468878318</td>\n",
       "      <td>3</td>\n",
       "      <td>False</td>\n",
       "      <td>AskReddit</td>\n",
       "      <td>t5_2qh1i</td>\n",
       "      <td>3.0</td>\n",
       "    </tr>\n",
       "  </tbody>\n",
       "</table>\n",
       "</div>"
      ],
      "text/plain": [
       "            author author_flair_css_class author_flair_text  \\\n",
       "0   AnxiousPatient                   None              None   \n",
       "20     RCBurnout11                   None              None   \n",
       "26    cyberbeast41                   None              None   \n",
       "\n",
       "                                                 body  controversiality  \\\n",
       "0             It's possible I may have been that day.                 0   \n",
       "20  They apologize excessively, they're always the...                 0   \n",
       "26  Dr. Ian Malcolm:\"Oh, yeah. Oooh, ahhh, that's ...                 0   \n",
       "\n",
       "    created_utc distinguished edited  gilded       id    link_id   parent_id  \\\n",
       "0    1465330644          None  false       0  d3zwugc  t3_4mzr8r  t1_d3zwjop   \n",
       "20   1465330706          None  false       0  d3zww5m  t3_4n10jv   t3_4n10jv   \n",
       "26   1465330742          None  false       0  d3zwx5q  t3_4n0rh4   t3_4n0rh4   \n",
       "\n",
       "    retrieved_on  score  stickied  subreddit subreddit_id     ups  \n",
       "0     1468878282      1     False  AskReddit     t5_2qh1i     1.0  \n",
       "20    1468878304   3909     False  AskReddit     t5_2qh1i  3909.0  \n",
       "26    1468878318      3     False  AskReddit     t5_2qh1i     3.0  "
      ]
     },
     "execution_count": 71,
     "metadata": {},
     "output_type": "execute_result"
    }
   ],
   "source": [
    "df_pd[df_pd['subreddit'] == 'AskReddit'].head(3)"
   ]
  },
  {
   "cell_type": "code",
   "execution_count": 72,
   "metadata": {},
   "outputs": [
    {
     "data": {
      "text/plain": [
       "author                     object\n",
       "author_flair_css_class     object\n",
       "author_flair_text          object\n",
       "body                       object\n",
       "controversiality            int64\n",
       "created_utc                 int64\n",
       "distinguished              object\n",
       "edited                     object\n",
       "gilded                      int64\n",
       "id                         object\n",
       "link_id                    object\n",
       "parent_id                  object\n",
       "retrieved_on                int64\n",
       "score                       int64\n",
       "stickied                     bool\n",
       "subreddit                  object\n",
       "subreddit_id               object\n",
       "ups                       float64\n",
       "dtype: object"
      ]
     },
     "execution_count": 72,
     "metadata": {},
     "output_type": "execute_result"
    }
   ],
   "source": [
    "df_pd.dtypes"
   ]
  },
  {
   "cell_type": "markdown",
   "metadata": {},
   "source": [
    "### Statistics on the cluster"
   ]
  },
  {
   "cell_type": "markdown",
   "metadata": {},
   "source": [
    "In this part we show what we can do some of the above operations on a bigger dataset (10% of the 2016 reddit comments). Firstly we will show the functions we will use to obtain simple statistics. In the next part we will export these commands onto a python script (script/stats.py) and run them on the 10% sampled 2016 reddit comments."
   ]
  },
  {
   "cell_type": "markdown",
   "metadata": {},
   "source": [
    "The stats below are done on the 1% sample of the 2016 reddit comments. But they were just done in order to find the right functions."
   ]
  },
  {
   "cell_type": "code",
   "execution_count": 73,
   "metadata": {},
   "outputs": [
    {
     "data": {
      "text/plain": [
       "7999762"
      ]
     },
     "execution_count": 73,
     "metadata": {},
     "output_type": "execute_result"
    }
   ],
   "source": [
    "total_n_comments = df_spark.count()\n",
    "total_n_comments"
   ]
  },
  {
   "cell_type": "markdown",
   "metadata": {},
   "source": [
    "First we compute the number of removed comments (A comment has been removed when its body is \"[deleted]\")"
   ]
  },
  {
   "cell_type": "code",
   "execution_count": 74,
   "metadata": {
    "scrolled": true
   },
   "outputs": [
    {
     "data": {
      "text/plain": [
       "341616"
      ]
     },
     "execution_count": 74,
     "metadata": {},
     "output_type": "execute_result"
    }
   ],
   "source": [
    "n_deleted_comments = df_spark.filter('body = \"[deleted]\"').count()\n",
    "n_deleted_comments "
   ]
  },
  {
   "cell_type": "markdown",
   "metadata": {},
   "source": [
    "The percentage of comments that are \"removed\" according to the above criteria."
   ]
  },
  {
   "cell_type": "code",
   "execution_count": 75,
   "metadata": {},
   "outputs": [
    {
     "data": {
      "text/plain": [
       "4.270327042229506"
      ]
     },
     "execution_count": 75,
     "metadata": {},
     "output_type": "execute_result"
    }
   ],
   "source": [
    "percentage_deleted_comments = 100 * n_deleted_comments  / total_n_comments\n",
    "percentage_deleted_comments"
   ]
  },
  {
   "cell_type": "markdown",
   "metadata": {},
   "source": [
    "And the number of comments posted by removed users (Users who have removed their account after post the comment)"
   ]
  },
  {
   "cell_type": "code",
   "execution_count": 76,
   "metadata": {
    "scrolled": true
   },
   "outputs": [
    {
     "data": {
      "text/plain": [
       "570574"
      ]
     },
     "execution_count": 76,
     "metadata": {},
     "output_type": "execute_result"
    }
   ],
   "source": [
    "comments_by_removed_users = df_spark.filter('author = \"[deleted]\"').count()\n",
    "comments_by_removed_users"
   ]
  },
  {
   "cell_type": "markdown",
   "metadata": {},
   "source": [
    "The percentage of comments that were posted by \"removed\" users according to the above criteria."
   ]
  },
  {
   "cell_type": "code",
   "execution_count": 77,
   "metadata": {
    "scrolled": true
   },
   "outputs": [
    {
     "data": {
      "text/plain": [
       "7.132387188518859"
      ]
     },
     "execution_count": 77,
     "metadata": {},
     "output_type": "execute_result"
    }
   ],
   "source": [
    "percentage_by_dl_user = 100 * comments_by_removed_users / total_n_comments\n",
    "percentage_by_dl_user"
   ]
  },
  {
   "cell_type": "markdown",
   "metadata": {},
   "source": [
    "Now we see the total number of controversial comments and the percentage of them:"
   ]
  },
  {
   "cell_type": "code",
   "execution_count": 78,
   "metadata": {},
   "outputs": [
    {
     "data": {
      "text/plain": [
       "177039"
      ]
     },
     "execution_count": 78,
     "metadata": {},
     "output_type": "execute_result"
    }
   ],
   "source": [
    "n_controversial_comments = df_spark.filter('controversiality = 1').count()\n",
    "n_controversial_comments"
   ]
  },
  {
   "cell_type": "code",
   "execution_count": 79,
   "metadata": {
    "scrolled": true
   },
   "outputs": [
    {
     "data": {
      "text/plain": [
       "2.2130533383368154"
      ]
     },
     "execution_count": 79,
     "metadata": {},
     "output_type": "execute_result"
    }
   ],
   "source": [
    "perc_controversial_comments = 100 * n_controversial_comments / total_n_comments\n",
    "perc_controversial_comments"
   ]
  },
  {
   "cell_type": "markdown",
   "metadata": {},
   "source": [
    "Having easily computed this percentages, we now get a dataframe with the number of comments per subrredit in order to plot the distribution:"
   ]
  },
  {
   "cell_type": "code",
   "execution_count": 80,
   "metadata": {},
   "outputs": [
    {
     "data": {
      "text/plain": [
       "50076"
      ]
     },
     "execution_count": 80,
     "metadata": {},
     "output_type": "execute_result"
    }
   ],
   "source": [
    "#Total number of subreddits:\n",
    "df_spark[['subreddit']].distinct().count()"
   ]
  },
  {
   "cell_type": "code",
   "execution_count": 81,
   "metadata": {},
   "outputs": [
    {
     "data": {
      "text/plain": [
       "DataFrame[subreddit: string, Number of comments: bigint]"
      ]
     },
     "execution_count": 81,
     "metadata": {},
     "output_type": "execute_result"
    }
   ],
   "source": [
    "df_subreddit_count = df_spark.groupBy('subreddit').agg(count('*')).withColumnRenamed('count(1)', 'Number of comments')\n",
    "df_subreddit_count"
   ]
  },
  {
   "cell_type": "code",
   "execution_count": 82,
   "metadata": {
    "scrolled": false
   },
   "outputs": [
    {
     "name": "stdout",
     "output_type": "stream",
     "text": [
      "+----------+------------------+\n",
      "| subreddit|Number of comments|\n",
      "+----------+------------------+\n",
      "|     anime|             27013|\n",
      "|MensRights|              4027|\n",
      "+----------+------------------+\n",
      "only showing top 2 rows\n",
      "\n"
     ]
    }
   ],
   "source": [
    "df_subreddit_count.show(2)"
   ]
  },
  {
   "cell_type": "markdown",
   "metadata": {},
   "source": [
    "We have not analyzed the statistics above as they are merely there for us to find the right functions to use wth the cluster."
   ]
  },
  {
   "cell_type": "markdown",
   "metadata": {},
   "source": [
    "We will now show the stats with a bigger dataset (10% of the 2016 reddit comments)."
   ]
  },
  {
   "cell_type": "markdown",
   "metadata": {},
   "source": [
    "The pipeline we used is the following:\n",
    "1. We first read all of the data in the 2016 .bz2 compressed files and sampled 10% of it to run our querries with the cluster (`script/read_data_original.py`)\n",
    "2. We then sampled another 10% to obtain 1% of the 2016 reddit comments that we played with above (`scripts/read_data.py`)\n",
    "3. Once we found the correct form for our querries on the smaller dataset, we ran them with cluster on the larger dataset (`scripts/`) and saved them to smaller sized parquet files.\n",
    "4. We then imported these smaller parquet files into our local machine and read them and transformed them to pandas dataframes in order to plot the graphs."
   ]
  },
  {
   "cell_type": "markdown",
   "metadata": {},
   "source": [
    "The above stats were obtained using `scripts/stats.py` with cluster. The stats were saved in a text file (`data/stats.txt`). "
   ]
  },
  {
   "cell_type": "markdown",
   "metadata": {},
   "source": [
    "Total number of comments: 79998223  \n",
    "Number of deleted comments: 3414381  \n",
    "% of deleted comments: 4  \n",
    "Number of comments by removed users: 5706216  \n",
    "% comments by deleted users: 7  \n",
    "Number of controversial comments: 1770571  \n",
    "% of controversial comments: 2  \n",
    "Number of subreddits: 131028  "
   ]
  },
  {
   "cell_type": "markdown",
   "metadata": {},
   "source": [
    "We first decided to have a look at the number of querries per subreddit (`scripts/stats.py`)"
   ]
  },
  {
   "cell_type": "code",
   "execution_count": 84,
   "metadata": {},
   "outputs": [],
   "source": [
    "df_subreddit_count = spark.read.parquet(DATA_DIR + 'df_subreddit_count.parquet')"
   ]
  },
  {
   "cell_type": "code",
   "execution_count": 85,
   "metadata": {},
   "outputs": [
    {
     "name": "stdout",
     "output_type": "stream",
     "text": [
      "+-----------------+------------------+\n",
      "|        subreddit|Number_of_comments|\n",
      "+-----------------+------------------+\n",
      "|HollowRealization|               216|\n",
      "|         buildapc|            183435|\n",
      "|NoStupidQuestions|             60895|\n",
      "+-----------------+------------------+\n",
      "only showing top 3 rows\n",
      "\n"
     ]
    }
   ],
   "source": [
    "df_subreddit_count.show(3)"
   ]
  },
  {
   "cell_type": "code",
   "execution_count": 86,
   "metadata": {},
   "outputs": [
    {
     "data": {
      "text/plain": [
       "(131028, 2)"
      ]
     },
     "execution_count": 86,
     "metadata": {},
     "output_type": "execute_result"
    }
   ],
   "source": [
    "df_subreddit_count.toPandas().shape"
   ]
  },
  {
   "cell_type": "markdown",
   "metadata": {},
   "source": [
    "Let us now plot the 10 most 'popular' (commented) subbreddits. As they are the ones to give us the most information in our future calculations."
   ]
  },
  {
   "cell_type": "code",
   "execution_count": 110,
   "metadata": {
    "scrolled": true
   },
   "outputs": [
    {
     "data": {
      "image/png": "[encoded data removed]",
      "text/plain": [
       "<matplotlib.figure.Figure at 0x1a1eb87b00>"
      ]
     },
     "metadata": {},
     "output_type": "display_data"
    }
   ],
   "source": [
    "df_tmp = df_subreddit_count.toPandas().sort_values(by = \"Number_of_comments\", ascending = False).iloc[:10,:]\n",
    "df_tmp.plot(kind='barh',x = \"subreddit\", y = \"Number_of_comments\",legend = None)\n",
    "plt.title('10 most popular (commented) subbreddits')\n",
    "plt.xlabel('number of comments');\n",
    "plt.ylabel('subreddits');"
   ]
  },
  {
   "cell_type": "markdown",
   "metadata": {},
   "source": [
    "And now 10 least popular subreddits, as they will potentially be removed."
   ]
  },
  {
   "cell_type": "code",
   "execution_count": 115,
   "metadata": {},
   "outputs": [
    {
     "data": {
      "image/png": "[encoded data removed]",
      "text/plain": [
       "<matplotlib.figure.Figure at 0x1a206f0f28>"
      ]
     },
     "metadata": {},
     "output_type": "display_data"
    }
   ],
   "source": [
    "df_tmp = df_subreddit_count.toPandas().sort_values(by = \"Number_of_comments\", ascending = True).iloc[:10,:]\n",
    "df_tmp.plot(kind='barh',x = \"subreddit\", y = \"Number_of_comments\", legend = None);\n",
    "plt.title('10 least popular subreddits')\n",
    "plt.xlabel('number of comments');"
   ]
  },
  {
   "cell_type": "markdown",
   "metadata": {},
   "source": [
    "As we can see the last 10 all have exactly 1 comment."
   ]
  },
  {
   "cell_type": "markdown",
   "metadata": {},
   "source": [
    "Let us now try to see how many subreddits have 1 comment."
   ]
  },
  {
   "cell_type": "code",
   "execution_count": 89,
   "metadata": {},
   "outputs": [],
   "source": [
    "df_subreddit_count_pd = df_subreddit_count.toPandas()"
   ]
  },
  {
   "cell_type": "code",
   "execution_count": 90,
   "metadata": {},
   "outputs": [],
   "source": [
    "n_subreddits_per_comment = df_subreddit_count_pd.groupby('Number_of_comments').count()"
   ]
  },
  {
   "cell_type": "code",
   "execution_count": 92,
   "metadata": {},
   "outputs": [
    {
     "data": {
      "text/html": [
       "<div>\n",
       "<style scoped>\n",
       "    .dataframe tbody tr th:only-of-type {\n",
       "        vertical-align: middle;\n",
       "    }\n",
       "\n",
       "    .dataframe tbody tr th {\n",
       "        vertical-align: top;\n",
       "    }\n",
       "\n",
       "    .dataframe thead th {\n",
       "        text-align: right;\n",
       "    }\n",
       "</style>\n",
       "<table border=\"1\" class=\"dataframe\">\n",
       "  <thead>\n",
       "    <tr style=\"text-align: right;\">\n",
       "      <th></th>\n",
       "      <th>subreddit</th>\n",
       "    </tr>\n",
       "    <tr>\n",
       "      <th>Number_of_comments</th>\n",
       "      <th></th>\n",
       "    </tr>\n",
       "  </thead>\n",
       "  <tbody>\n",
       "    <tr>\n",
       "      <th>1</th>\n",
       "      <td>52023</td>\n",
       "    </tr>\n",
       "    <tr>\n",
       "      <th>2</th>\n",
       "      <td>19478</td>\n",
       "    </tr>\n",
       "    <tr>\n",
       "      <th>3</th>\n",
       "      <td>8884</td>\n",
       "    </tr>\n",
       "    <tr>\n",
       "      <th>4</th>\n",
       "      <td>5233</td>\n",
       "    </tr>\n",
       "    <tr>\n",
       "      <th>5</th>\n",
       "      <td>3648</td>\n",
       "    </tr>\n",
       "  </tbody>\n",
       "</table>\n",
       "</div>"
      ],
      "text/plain": [
       "                    subreddit\n",
       "Number_of_comments           \n",
       "1                       52023\n",
       "2                       19478\n",
       "3                        8884\n",
       "4                        5233\n",
       "5                        3648"
      ]
     },
     "execution_count": 92,
     "metadata": {},
     "output_type": "execute_result"
    }
   ],
   "source": [
    "n_subreddits_per_comment.head()"
   ]
  },
  {
   "cell_type": "code",
   "execution_count": 121,
   "metadata": {},
   "outputs": [
    {
     "data": {
      "image/png": "[encoded data removed]",
      "text/plain": [
       "<matplotlib.figure.Figure at 0x1a145f6240>"
      ]
     },
     "metadata": {},
     "output_type": "display_data"
    }
   ],
   "source": [
    "n_subreddits_per_comment.hist(bins = [1,10,100,1000]);\n",
    "plt.title('Histogram showing the comment frequecy');"
   ]
  },
  {
   "cell_type": "markdown",
   "metadata": {},
   "source": [
    "As we can see a lot of the subreddits have 1 comment, hence removing these will reduce the size of our dataset."
   ]
  },
  {
   "cell_type": "markdown",
   "metadata": {},
   "source": [
    "Let us now analyze the controversiality of the comments (`script/stats.py`)"
   ]
  },
  {
   "cell_type": "code",
   "execution_count": 116,
   "metadata": {
    "scrolled": true
   },
   "outputs": [
    {
     "name": "stdout",
     "output_type": "stream",
     "text": [
      "+---------+------------------------+\n",
      "|subreddit|N_controversial_comments|\n",
      "+---------+------------------------+\n",
      "|  Roadcam|                    1820|\n",
      "|      MLS|                    2249|\n",
      "+---------+------------------------+\n",
      "only showing top 2 rows\n",
      "\n"
     ]
    }
   ],
   "source": [
    "df_controversial_per_subr_count = spark.read.parquet(DATA_DIR + \"df_controversial_per_subr_count.parquet\")\n",
    "df_controversial_per_subr_count.show(2)"
   ]
  },
  {
   "cell_type": "code",
   "execution_count": 95,
   "metadata": {},
   "outputs": [],
   "source": [
    "df_controversial_per_subr_count_pd = df_controversial_per_subr_count.toPandas()"
   ]
  },
  {
   "cell_type": "markdown",
   "metadata": {},
   "source": [
    "10 most controversial subreddits"
   ]
  },
  {
   "cell_type": "code",
   "execution_count": 117,
   "metadata": {},
   "outputs": [
    {
     "data": {
      "image/png": "[encoded data removed]",
      "text/plain": [
       "<matplotlib.figure.Figure at 0x1a18a4e2b0>"
      ]
     },
     "metadata": {},
     "output_type": "display_data"
    }
   ],
   "source": [
    "df_controversial_per_subr_count_pd.sort_values(by='N_controversial_comments',ascending=False).iloc[:10,:].plot(kind='barh',x='subreddit',y='N_controversial_comments',legend=None);\n",
    "plt.title('10 most controversial subreddits');\n",
    "plt.xlabel('Number of controversial comments');"
   ]
  },
  {
   "cell_type": "markdown",
   "metadata": {},
   "source": [
    "10 least controversial subreddits"
   ]
  },
  {
   "cell_type": "code",
   "execution_count": 123,
   "metadata": {},
   "outputs": [
    {
     "data": {
      "image/png": "[encoded data removed]",
      "text/plain": [
       "<matplotlib.figure.Figure at 0x1a1dcec390>"
      ]
     },
     "metadata": {},
     "output_type": "display_data"
    }
   ],
   "source": [
    "df_controversial_per_subr_count_pd.sort_values(by='N_controversial_comments',ascending=True).iloc[:10,:].plot(kind='barh',x='subreddit',y='N_controversial_comments',legend = None)\n",
    "plt.title('10 least controversial subreddits');\n",
    "plt.xlabel('number of controversial comments');"
   ]
  },
  {
   "cell_type": "code",
   "execution_count": 98,
   "metadata": {},
   "outputs": [
    {
     "data": {
      "text/plain": [
       "array([[<matplotlib.axes._subplots.AxesSubplot object at 0x1a1828c860>]],\n",
       "      dtype=object)"
      ]
     },
     "execution_count": 98,
     "metadata": {},
     "output_type": "execute_result"
    },
    {
     "data": {
      "image/png": "[encoded data removed]",
      "text/plain": [
       "<matplotlib.figure.Figure at 0x1a1d7a9b38>"
      ]
     },
     "metadata": {},
     "output_type": "display_data"
    }
   ],
   "source": [
    "df_controversial_per_subr_count_pd.groupby('N_controversial_comments').count().hist(bins=[1,10,100,1000])"
   ]
  },
  {
   "cell_type": "markdown",
   "metadata": {},
   "source": [
    "As we can see in the graph for most popular subbreddits (comments and controversial comments)"
   ]
  },
  {
   "cell_type": "markdown",
   "metadata": {},
   "source": [
    "With this two data frames we can check if there exists a correlation between the percentage of controversial comments and the total number of comments; i.e if there exists a correlation between the subreddit controversiality (measured by the percentage of comments that are controversial) with the subreddit popularity (measured by the number of comments in the subreddit). \n",
    "\n",
    "(Note that we do the join between both data frames and then compute the percentage of controversial comments)"
   ]
  },
  {
   "cell_type": "code",
   "execution_count": 17,
   "metadata": {
    "scrolled": true
   },
   "outputs": [
    {
     "name": "stdout",
     "output_type": "stream",
     "text": [
      "+-----------------+----------+-------------------+\n",
      "|        subreddit|Popularity|   Controversiality|\n",
      "+-----------------+----------+-------------------+\n",
      "|         buildapc|    183435|0.38215171586665575|\n",
      "|NoStupidQuestions|     60895|  1.668445685195829|\n",
      "+-----------------+----------+-------------------+\n",
      "only showing top 2 rows\n",
      "\n"
     ]
    }
   ],
   "source": [
    "df_crr = df_controversial_per_subr_count.join(df_subreddit_count, \"subreddit\") \n",
    "df_crr = df_crr.select('subreddit', 'Number_of_comments', 100* df_crr['N_controversial_comments'] / df_crr['Number_of_comments'])\n",
    "df_crr = df_crr.withColumnRenamed(\"Number_of_comments\", \"Popularity\").withColumnRenamed(\"((N_controversial_comments * 100) / Number_of_comments)\", \"Controversiality\")\n",
    "df_crr.show(2)"
   ]
  },
  {
   "cell_type": "code",
   "execution_count": 18,
   "metadata": {},
   "outputs": [
    {
     "data": {
      "text/plain": [
       "0.012989449165195099"
      ]
     },
     "execution_count": 18,
     "metadata": {},
     "output_type": "execute_result"
    }
   ],
   "source": [
    "df_crr.corr(\"Popularity\", \"Controversiality\")"
   ]
  },
  {
   "cell_type": "code",
   "execution_count": 20,
   "metadata": {},
   "outputs": [],
   "source": [
    "df_corr_contr_comm = df_controversial_per_subr_count.join(df_subreddit_count, \"subreddit\")"
   ]
  },
  {
   "cell_type": "code",
   "execution_count": 21,
   "metadata": {},
   "outputs": [
    {
     "name": "stdout",
     "output_type": "stream",
     "text": [
      "+-----------------+------------------------+------------------+\n",
      "|        subreddit|N_controversial_comments|Number_of_comments|\n",
      "+-----------------+------------------------+------------------+\n",
      "|         buildapc|                     701|            183435|\n",
      "|NoStupidQuestions|                    1016|             60895|\n",
      "|            scuba|                      39|              5219|\n",
      "+-----------------+------------------------+------------------+\n",
      "only showing top 3 rows\n",
      "\n"
     ]
    }
   ],
   "source": [
    "df_corr_contr_comm.show(3)"
   ]
  },
  {
   "cell_type": "code",
   "execution_count": 22,
   "metadata": {},
   "outputs": [
    {
     "data": {
      "text/plain": [
       "0.7217845223907968"
      ]
     },
     "execution_count": 22,
     "metadata": {},
     "output_type": "execute_result"
    }
   ],
   "source": [
    "df_corr_contr_comm.corr(\"N_controversial_comments\",\"Number_of_comments\")"
   ]
  },
  {
   "cell_type": "markdown",
   "metadata": {},
   "source": [
    "Stronger correlation."
   ]
  },
  {
   "cell_type": "markdown",
   "metadata": {},
   "source": [
    "We see there is no correlation between popularity and controversiality, what could be a good factor for our analysis of the echo-chambing effect; since this mean that when a subreddit is so big, it does not implie that there would be more discussions (controversial discussions) in percentage."
   ]
  },
  {
   "cell_type": "markdown",
   "metadata": {},
   "source": [
    "At that point we look at the timeline of activity (it could be useful for relating spikes to real-life events). What we are going to do is to fix the first timestamp of our data set as the initial moment, as 0 (and the rest of the timestamp according to this fact). Finally we plot the timeline:\n",
    "\n",
    "Note: Locally, we have loaded a sample from the dataset of January 2017"
   ]
  },
  {
   "cell_type": "code",
   "execution_count": 45,
   "metadata": {},
   "outputs": [
    {
     "name": "stdout",
     "output_type": "stream",
     "text": [
      "+-----------+\n",
      "|created_utc|\n",
      "+-----------+\n",
      "| 1483228800|\n",
      "+-----------+\n",
      "only showing top 1 row\n",
      "\n"
     ]
    }
   ],
   "source": [
    "df_spark[['created_utc']].orderBy(asc('created_utc')).show(1)"
   ]
  },
  {
   "cell_type": "code",
   "execution_count": 46,
   "metadata": {},
   "outputs": [
    {
     "data": {
      "text/plain": [
       "DataFrame[created_utc: bigint]"
      ]
     },
     "execution_count": 46,
     "metadata": {},
     "output_type": "execute_result"
    }
   ],
   "source": [
    "df_spark[['created_utc']]"
   ]
  },
  {
   "cell_type": "code",
   "execution_count": 47,
   "metadata": {},
   "outputs": [
    {
     "data": {
      "text/plain": [
       "array([[<matplotlib.axes._subplots.AxesSubplot object at 0x000001FB6FD315C0>]],\n",
       "      dtype=object)"
      ]
     },
     "execution_count": 47,
     "metadata": {},
     "output_type": "execute_result"
    },
    {
     "data": {
      "image/png": "[encoded data removed]",
      "text/plain": [
       "<Figure size 432x288 with 1 Axes>"
      ]
     },
     "metadata": {
      "needs_background": "light"
     },
     "output_type": "display_data"
    }
   ],
   "source": [
    "df_spark[['created_utc']].toPandas().hist()"
   ]
  },
  {
   "cell_type": "code",
   "execution_count": null,
   "metadata": {},
   "outputs": [],
   "source": []
  },
  {
   "cell_type": "code",
   "execution_count": null,
   "metadata": {},
   "outputs": [],
   "source": []
  },
  {
   "cell_type": "code",
   "execution_count": null,
   "metadata": {},
   "outputs": [],
   "source": []
  },
  {
   "cell_type": "code",
   "execution_count": 48,
   "metadata": {},
   "outputs": [
    {
     "name": "stdout",
     "output_type": "stream",
     "text": [
      "+----------+----------------------+-----------------+--------------------+----------------+-----------+-------------+------+------+-------+---------+----------+------------+-----+--------+------------+------------+\n",
      "|    author|author_flair_css_class|author_flair_text|                body|controversiality|created_utc|distinguished|edited|gilded|     id|  link_id| parent_id|retrieved_on|score|stickied|   subreddit|subreddit_id|\n",
      "+----------+----------------------+-----------------+--------------------+----------------+-----------+-------------+------+------+-------+---------+----------+------------+-----+--------+------------+------------+\n",
      "|    Godcon|                  null|             null|Do you buy the mi...|               0| 1483228800|         null| false|     0|dbumnq3|t3_5l9ny9|t1_dbukpfs|  1485679711|    2|   false|minipainting|    t5_2scss|\n",
      "|Fleetthrow|                  null|             null|Can I ask where y...|               0| 1483228800|         null| false|     0|dbumnq6|t3_5l0tz4|t1_dbuksbh|  1485679711|    1|   false|         gis|    t5_2qmpb|\n",
      "+----------+----------------------+-----------------+--------------------+----------------+-----------+-------------+------+------+-------+---------+----------+------------+-----+--------+------------+------------+\n",
      "only showing top 2 rows\n",
      "\n"
     ]
    }
   ],
   "source": [
    "df_spark.orderBy(\"id\").show(2)"
   ]
  },
  {
   "cell_type": "code",
   "execution_count": 34,
   "metadata": {},
   "outputs": [],
   "source": [
    "df_created_utc = spark.read.parquet(DATA_DIR + \"df_comments_per_month.parquet\")"
   ]
  },
  {
   "cell_type": "code",
   "execution_count": 35,
   "metadata": {},
   "outputs": [],
   "source": [
    "df_created_utc_pd = df_created_utc.toPandas()"
   ]
  },
  {
   "cell_type": "code",
   "execution_count": 36,
   "metadata": {},
   "outputs": [],
   "source": [
    "df_created_utc_pd = df_created_utc_pd.iloc[:12,:].merge(df_created_utc_pd.iloc[12:,:], right_on = 'count', left_on = 'count')\n",
    "df_created_utc_pd = df_created_utc_pd[['month_y','month_x','count']]\n",
    "df_created_utc_pd.columns = ['month_int','month_string','n_of_comments']\n",
    "df_created_utc_pd = df_created_utc_pd.sort_values(by='month_int',ascending=True)"
   ]
  },
  {
   "cell_type": "code",
   "execution_count": 37,
   "metadata": {},
   "outputs": [
    {
     "data": {
      "text/html": [
       "<div>\n",
       "<style scoped>\n",
       "    .dataframe tbody tr th:only-of-type {\n",
       "        vertical-align: middle;\n",
       "    }\n",
       "\n",
       "    .dataframe tbody tr th {\n",
       "        vertical-align: top;\n",
       "    }\n",
       "\n",
       "    .dataframe thead th {\n",
       "        text-align: right;\n",
       "    }\n",
       "</style>\n",
       "<table border=\"1\" class=\"dataframe\">\n",
       "  <thead>\n",
       "    <tr style=\"text-align: right;\">\n",
       "      <th></th>\n",
       "      <th>month_int</th>\n",
       "      <th>month_string</th>\n",
       "      <th>n_of_comments</th>\n",
       "    </tr>\n",
       "  </thead>\n",
       "  <tbody>\n",
       "    <tr>\n",
       "      <th>10</th>\n",
       "      <td>01</td>\n",
       "      <td>Jan</td>\n",
       "      <td>6197158</td>\n",
       "    </tr>\n",
       "    <tr>\n",
       "      <th>8</th>\n",
       "      <td>02</td>\n",
       "      <td>Feb</td>\n",
       "      <td>5920985</td>\n",
       "    </tr>\n",
       "    <tr>\n",
       "      <th>7</th>\n",
       "      <td>03</td>\n",
       "      <td>Mar</td>\n",
       "      <td>6392263</td>\n",
       "    </tr>\n",
       "    <tr>\n",
       "      <th>4</th>\n",
       "      <td>04</td>\n",
       "      <td>Apr</td>\n",
       "      <td>6425634</td>\n",
       "    </tr>\n",
       "    <tr>\n",
       "      <th>0</th>\n",
       "      <td>05</td>\n",
       "      <td>May</td>\n",
       "      <td>6521400</td>\n",
       "    </tr>\n",
       "    <tr>\n",
       "      <th>6</th>\n",
       "      <td>06</td>\n",
       "      <td>Jun</td>\n",
       "      <td>6587116</td>\n",
       "    </tr>\n",
       "    <tr>\n",
       "      <th>3</th>\n",
       "      <td>07</td>\n",
       "      <td>Jul</td>\n",
       "      <td>6695343</td>\n",
       "    </tr>\n",
       "    <tr>\n",
       "      <th>9</th>\n",
       "      <td>08</td>\n",
       "      <td>Aug</td>\n",
       "      <td>6971881</td>\n",
       "    </tr>\n",
       "    <tr>\n",
       "      <th>2</th>\n",
       "      <td>09</td>\n",
       "      <td>Sep</td>\n",
       "      <td>6701333</td>\n",
       "    </tr>\n",
       "    <tr>\n",
       "      <th>5</th>\n",
       "      <td>10</td>\n",
       "      <td>Oct</td>\n",
       "      <td>7183135</td>\n",
       "    </tr>\n",
       "    <tr>\n",
       "      <th>1</th>\n",
       "      <td>11</td>\n",
       "      <td>Nov</td>\n",
       "      <td>7106334</td>\n",
       "    </tr>\n",
       "    <tr>\n",
       "      <th>11</th>\n",
       "      <td>12</td>\n",
       "      <td>Dec</td>\n",
       "      <td>7295641</td>\n",
       "    </tr>\n",
       "  </tbody>\n",
       "</table>\n",
       "</div>"
      ],
      "text/plain": [
       "   month_int month_string  n_of_comments\n",
       "10        01          Jan        6197158\n",
       "8         02          Feb        5920985\n",
       "7         03          Mar        6392263\n",
       "4         04          Apr        6425634\n",
       "0         05          May        6521400\n",
       "6         06          Jun        6587116\n",
       "3         07          Jul        6695343\n",
       "9         08          Aug        6971881\n",
       "2         09          Sep        6701333\n",
       "5         10          Oct        7183135\n",
       "1         11          Nov        7106334\n",
       "11        12          Dec        7295641"
      ]
     },
     "execution_count": 37,
     "metadata": {},
     "output_type": "execute_result"
    }
   ],
   "source": [
    "df_created_utc_pd"
   ]
  },
  {
   "cell_type": "code",
   "execution_count": 44,
   "metadata": {},
   "outputs": [],
   "source": [
    "df_created_utc_controversial = spark.read.parquet(DATA_DIR + \"df_created_utc_controversial.parquet\")"
   ]
  },
  {
   "cell_type": "code",
   "execution_count": 45,
   "metadata": {},
   "outputs": [],
   "source": [
    "df_created_utc_controversial_pd = df_created_utc_controversial.toPandas()\n",
    "df_created_utc_controversial_pd.sort_values(by=\"month\",ascending=True)\n",
    "df_created_utc_controversial_pd.columns = ['month_int','n_of_controversial']"
   ]
  },
  {
   "cell_type": "code",
   "execution_count": 46,
   "metadata": {},
   "outputs": [],
   "source": [
    "df_created_utc_non_controversial = spark.read.parquet(DATA_DIR + \"df_created_utc_non_controversial.parquet\")"
   ]
  },
  {
   "cell_type": "code",
   "execution_count": 47,
   "metadata": {},
   "outputs": [],
   "source": [
    "df_created_utc_non_controversial_pd = df_created_utc_non_controversial.toPandas()\n",
    "df_created_utc_non_controversial_pd = df_created_utc_non_controversial_pd.sort_values(by='month',ascending=True)\n",
    "df_created_utc_non_controversial_pd.columns = ['month_int','n_of_non_controversial']"
   ]
  },
  {
   "cell_type": "code",
   "execution_count": 48,
   "metadata": {},
   "outputs": [],
   "source": [
    "df_created_utc_pd = df_created_utc_pd.merge(df_created_utc_controversial_pd,left_on='month_int',right_on = 'month_int')\n",
    "df_created_utc_pd = df_created_utc_pd.merge(df_created_utc_non_controversial_pd,left_on='month_int',right_on = 'month_int')"
   ]
  },
  {
   "cell_type": "code",
   "execution_count": 49,
   "metadata": {},
   "outputs": [
    {
     "data": {
      "text/html": [
       "<div>\n",
       "<style scoped>\n",
       "    .dataframe tbody tr th:only-of-type {\n",
       "        vertical-align: middle;\n",
       "    }\n",
       "\n",
       "    .dataframe tbody tr th {\n",
       "        vertical-align: top;\n",
       "    }\n",
       "\n",
       "    .dataframe thead th {\n",
       "        text-align: right;\n",
       "    }\n",
       "</style>\n",
       "<table border=\"1\" class=\"dataframe\">\n",
       "  <thead>\n",
       "    <tr style=\"text-align: right;\">\n",
       "      <th></th>\n",
       "      <th>month_int</th>\n",
       "      <th>month_string</th>\n",
       "      <th>n_of_comments</th>\n",
       "      <th>n_of_controversial</th>\n",
       "      <th>n_of_non_controversial</th>\n",
       "    </tr>\n",
       "  </thead>\n",
       "  <tbody>\n",
       "    <tr>\n",
       "      <th>0</th>\n",
       "      <td>01</td>\n",
       "      <td>Jan</td>\n",
       "      <td>6197158</td>\n",
       "      <td>150127</td>\n",
       "      <td>6047031</td>\n",
       "    </tr>\n",
       "    <tr>\n",
       "      <th>1</th>\n",
       "      <td>02</td>\n",
       "      <td>Feb</td>\n",
       "      <td>5920985</td>\n",
       "      <td>141455</td>\n",
       "      <td>5779530</td>\n",
       "    </tr>\n",
       "    <tr>\n",
       "      <th>2</th>\n",
       "      <td>03</td>\n",
       "      <td>Mar</td>\n",
       "      <td>6392263</td>\n",
       "      <td>151851</td>\n",
       "      <td>6240412</td>\n",
       "    </tr>\n",
       "    <tr>\n",
       "      <th>3</th>\n",
       "      <td>04</td>\n",
       "      <td>Apr</td>\n",
       "      <td>6425634</td>\n",
       "      <td>147945</td>\n",
       "      <td>6277689</td>\n",
       "    </tr>\n",
       "    <tr>\n",
       "      <th>4</th>\n",
       "      <td>05</td>\n",
       "      <td>May</td>\n",
       "      <td>6521400</td>\n",
       "      <td>157029</td>\n",
       "      <td>6364371</td>\n",
       "    </tr>\n",
       "    <tr>\n",
       "      <th>5</th>\n",
       "      <td>06</td>\n",
       "      <td>Jun</td>\n",
       "      <td>6587116</td>\n",
       "      <td>147958</td>\n",
       "      <td>6439158</td>\n",
       "    </tr>\n",
       "    <tr>\n",
       "      <th>6</th>\n",
       "      <td>07</td>\n",
       "      <td>Jul</td>\n",
       "      <td>6695343</td>\n",
       "      <td>152563</td>\n",
       "      <td>6542780</td>\n",
       "    </tr>\n",
       "    <tr>\n",
       "      <th>7</th>\n",
       "      <td>08</td>\n",
       "      <td>Aug</td>\n",
       "      <td>6971881</td>\n",
       "      <td>154129</td>\n",
       "      <td>6817752</td>\n",
       "    </tr>\n",
       "    <tr>\n",
       "      <th>8</th>\n",
       "      <td>09</td>\n",
       "      <td>Sep</td>\n",
       "      <td>6701333</td>\n",
       "      <td>148136</td>\n",
       "      <td>6553197</td>\n",
       "    </tr>\n",
       "    <tr>\n",
       "      <th>9</th>\n",
       "      <td>10</td>\n",
       "      <td>Oct</td>\n",
       "      <td>7183135</td>\n",
       "      <td>152879</td>\n",
       "      <td>7030256</td>\n",
       "    </tr>\n",
       "    <tr>\n",
       "      <th>10</th>\n",
       "      <td>11</td>\n",
       "      <td>Nov</td>\n",
       "      <td>7106334</td>\n",
       "      <td>132512</td>\n",
       "      <td>6973822</td>\n",
       "    </tr>\n",
       "    <tr>\n",
       "      <th>11</th>\n",
       "      <td>12</td>\n",
       "      <td>Dec</td>\n",
       "      <td>7295641</td>\n",
       "      <td>133987</td>\n",
       "      <td>7161654</td>\n",
       "    </tr>\n",
       "  </tbody>\n",
       "</table>\n",
       "</div>"
      ],
      "text/plain": [
       "   month_int month_string  n_of_comments  n_of_controversial  \\\n",
       "0         01          Jan        6197158              150127   \n",
       "1         02          Feb        5920985              141455   \n",
       "2         03          Mar        6392263              151851   \n",
       "3         04          Apr        6425634              147945   \n",
       "4         05          May        6521400              157029   \n",
       "5         06          Jun        6587116              147958   \n",
       "6         07          Jul        6695343              152563   \n",
       "7         08          Aug        6971881              154129   \n",
       "8         09          Sep        6701333              148136   \n",
       "9         10          Oct        7183135              152879   \n",
       "10        11          Nov        7106334              132512   \n",
       "11        12          Dec        7295641              133987   \n",
       "\n",
       "    n_of_non_controversial  \n",
       "0                  6047031  \n",
       "1                  5779530  \n",
       "2                  6240412  \n",
       "3                  6277689  \n",
       "4                  6364371  \n",
       "5                  6439158  \n",
       "6                  6542780  \n",
       "7                  6817752  \n",
       "8                  6553197  \n",
       "9                  7030256  \n",
       "10                 6973822  \n",
       "11                 7161654  "
      ]
     },
     "execution_count": 49,
     "metadata": {},
     "output_type": "execute_result"
    }
   ],
   "source": [
    "df_created_utc_pd"
   ]
  },
  {
   "cell_type": "markdown",
   "metadata": {},
   "source": [
    "### Natural Language Processing\n",
    "\n",
    "As a final step wiithin milestone 2, below are our first steps with NLP, basically trying out the sugested libraries. Here's a reference with some more libraries https://elitedatascience.com/python-nlp-libraries\n",
    "\n",
    "To use this libraries in a simple way and in order to execute queries quickly we are going to study now just the comments of one of the subreddits of the sample, \"The_Donald\"."
   ]
  },
  {
   "cell_type": "code",
   "execution_count": 30,
   "metadata": {},
   "outputs": [
    {
     "ename": "NameError",
     "evalue": "name 'df_pd' is not defined",
     "output_type": "error",
     "traceback": [
      "\u001b[0;31m---------------------------------------------------------------------------\u001b[0m",
      "\u001b[0;31mNameError\u001b[0m                                 Traceback (most recent call last)",
      "\u001b[0;32m<ipython-input-30-def41b9c875a>\u001b[0m in \u001b[0;36m<module>\u001b[0;34m()\u001b[0m\n\u001b[0;32m----> 1\u001b[0;31m \u001b[0mdf_nlp\u001b[0m \u001b[0;34m=\u001b[0m \u001b[0mdf_pd\u001b[0m\u001b[0;34m[\u001b[0m\u001b[0mdf_pd\u001b[0m\u001b[0;34m[\u001b[0m\u001b[0;34m\"subreddit\"\u001b[0m\u001b[0;34m]\u001b[0m \u001b[0;34m==\u001b[0m \u001b[0;34m\"The_Donald\"\u001b[0m\u001b[0;34m]\u001b[0m\u001b[0;34m.\u001b[0m\u001b[0msample\u001b[0m\u001b[0;34m(\u001b[0m\u001b[0;36m10000\u001b[0m\u001b[0;34m)\u001b[0m\u001b[0;34m\u001b[0m\u001b[0m\n\u001b[0m",
      "\u001b[0;31mNameError\u001b[0m: name 'df_pd' is not defined"
     ]
    }
   ],
   "source": [
    "df_nlp = df_pd[df_pd[\"subreddit\"] == \"The_Donald\"].sample(10000)"
   ]
  },
  {
   "cell_type": "code",
   "execution_count": 81,
   "metadata": {
    "scrolled": true
   },
   "outputs": [
    {
     "data": {
      "text/plain": [
       "(10000, 17)"
      ]
     },
     "execution_count": 81,
     "metadata": {},
     "output_type": "execute_result"
    }
   ],
   "source": [
    "df_nlp.shape"
   ]
  },
  {
   "cell_type": "markdown",
   "metadata": {},
   "source": [
    "### spaCy\n",
    "\n",
    "spaCy allows us to find named entities, thus identying the topic(s) of a post or discussion. spaCy can be found here https://spacy.io/ with instructions for installing here https://spacy.io/usage/"
   ]
  },
  {
   "cell_type": "code",
   "execution_count": 88,
   "metadata": {},
   "outputs": [],
   "source": [
    "# For the installation: Execute in the anaconda prompt:\n",
    "# pip install spacy\n",
    "# python -m spacy download en_core_web_sm #(With admin permissions)\n",
    "import spacy"
   ]
  },
  {
   "cell_type": "markdown",
   "metadata": {},
   "source": [
    "spaCy features an extremely fast statistical entity recognition system, that assigns labels to contiguous spans of tokens. The default model identifies a variety of named and numeric entities, including companies, locations, organizations and products. You can add arbitrary classes to the entity recognition system, and update the model with new examples."
   ]
  },
  {
   "cell_type": "markdown",
   "metadata": {},
   "source": [
    "From this library we are going to use the \"Named Entity Recognition\" functionality:\n",
    "\n",
    "A named entity is a \"real-world object\" that's assigned a name – for example, a person, a country, a product or a book title. spaCy can recognise various types of named entities in a document, by asking the model for a prediction. Because models are statistical and strongly depend on the examples they were trained on, this doesn't always work perfectly and might need some tuning later, depending on your use case.\n",
    "\n",
    "Named entities are available as the ents property of a Doc:"
   ]
  },
  {
   "cell_type": "code",
   "execution_count": 83,
   "metadata": {
    "scrolled": true
   },
   "outputs": [
    {
     "name": "stdout",
     "output_type": "stream",
     "text": [
      "Apple 0 5 ORG\n",
      "U.K. 27 31 GPE\n",
      "$1 billion 44 54 MONEY\n"
     ]
    }
   ],
   "source": [
    "doc = nlp(u'Apple is looking at buying U.K. startup for $1 billion')\n",
    "for ent in doc.ents:\n",
    "    print(ent.text, ent.start_char, ent.end_char, ent.label_)"
   ]
  },
  {
   "cell_type": "markdown",
   "metadata": {},
   "source": [
    "Having done this simple query, let's see which are the usuals named entities of the \"The_Donald\" subreddit comments. \n",
    "\n",
    "Note: We have done this grammatical analysis using the function npl.pipe, in order to make faster the execution."
   ]
  },
  {
   "cell_type": "code",
   "execution_count": 84,
   "metadata": {},
   "outputs": [],
   "source": [
    "tags = []\n",
    "for doc in nlp.pipe(df_nlp[\"body\"].astype('unicode').values, batch_size=50,\n",
    "                        n_threads=4):\n",
    "    if doc.is_parsed:\n",
    "        tags.append([ent.label_ for ent in doc.ents])\n"
   ]
  },
  {
   "cell_type": "code",
   "execution_count": 85,
   "metadata": {},
   "outputs": [],
   "source": [
    "tags = [val for sublist in tags for val in sublist]  #From a list of lists to a list"
   ]
  },
  {
   "cell_type": "code",
   "execution_count": 86,
   "metadata": {
    "scrolled": true
   },
   "outputs": [
    {
     "data": {
      "text/plain": [
       "ORG       5787\n",
       "PERSON    3013\n",
       "GPE       2126\n",
       "NORP      1338\n",
       "DATE      1231\n",
       "Name: tags, dtype: int64"
      ]
     },
     "execution_count": 86,
     "metadata": {},
     "output_type": "execute_result"
    }
   ],
   "source": [
    "df_npl_pd = pd.DataFrame(tags, columns=[\"tags\"])\n",
    "tags_count = df_npl_pd.tags.value_counts().sort_values(ascending=False)\n",
    "tags_count.head(5)"
   ]
  },
  {
   "cell_type": "markdown",
   "metadata": {},
   "source": [
    "So we see that the most popular tags in this subreddit are  ORG, PERSON, GPE, NORP and DATE. Below you can see the meaning of each tag:\n",
    "* PERSON\tPeople, including fictional.\n",
    "* NORP\tNationalities or religious or political groups.\n",
    "* FAC\tBuildings, airports, highways, bridges, etc.\n",
    "* ORG\tCompanies, agencies, institutions, etc.\n",
    "* GPE\tCountries, cities, states.\n",
    "* LOC\tNon-GPE locations, mountain ranges, bodies of water.\n",
    "* PRODUCT\tObjects, vehicles, foods, etc. (Not services.)\n",
    "* EVENT\tNamed hurricanes, battles, wars, sports events, etc.\n",
    "* WORK_OF_ART\tTitles of books, songs, etc.\n",
    "* LAW\tNamed documents made into laws.\n",
    "* LANGUAGE\tAny named language.\n",
    "* DATE\tAbsolute or relative dates or periods.\n",
    "* TIME\tTimes smaller than a day.\n",
    "* PERCENT\tPercentage, including \"%\".\n",
    "* MONEY\tMonetary values, including unit.\n",
    "* QUANTITY\tMeasurements, as of weight or distance.\n",
    "* ORDINAL\t\"first\", \"second\", etc.\n",
    "* CARDINAL\tNumerals that do not fall under another type."
   ]
  },
  {
   "cell_type": "markdown",
   "metadata": {},
   "source": [
    "Finally we plot the appearances of each tag in the sample studied:"
   ]
  },
  {
   "cell_type": "code",
   "execution_count": 87,
   "metadata": {},
   "outputs": [
    {
     "data": {
      "text/plain": [
       "<matplotlib.axes._subplots.AxesSubplot at 0x25e053f8780>"
      ]
     },
     "execution_count": 87,
     "metadata": {},
     "output_type": "execute_result"
    },
    {
     "data": {
      "image/png": "[encoded data removed]",
      "text/plain": [
       "<Figure size 432x288 with 1 Axes>"
      ]
     },
     "metadata": {
      "needs_background": "light"
     },
     "output_type": "display_data"
    }
   ],
   "source": [
    "df_tags_count = pd.DataFrame(tags_count).reset_index()\n",
    "df_tags_count.columns=[\"Tags\", \"Appearances\"]\n",
    "df_tags_count.set_index(\"Tags\")\n",
    "\n",
    "df_tags_count.plot(kind=\"barh\", x = \"Tags\", y = \"Appearances\")"
   ]
  },
  {
   "cell_type": "markdown",
   "metadata": {},
   "source": [
    "### TextBlob\n",
    "\n",
    "TextBlob allows for sentiment analysis, translation, and more\n",
    "\n",
    "TextBlob can be found here https://textblob.readthedocs.io/en/dev/ with installation instructions here https://textblob.readthedocs.io/en/dev/install.html"
   ]
  },
  {
   "cell_type": "code",
   "execution_count": 75,
   "metadata": {},
   "outputs": [],
   "source": [
    "from textblob import TextBlob"
   ]
  },
  {
   "cell_type": "markdown",
   "metadata": {},
   "source": [
    "We try the sentiment analysis this library offers:"
   ]
  },
  {
   "cell_type": "markdown",
   "metadata": {},
   "source": [
    "The sentiment property returns a namedtuple of the form Sentiment(polarity, subjectivity). The polarity score is a float within the range [-1.0, 1.0]. The subjectivity is a float within the range [0.0, 1.0] where 0.0 is very objective and 1.0 is very subjective.\n",
    "```\n",
    " testimonial = TextBlob(\"Textblob is amazingly simple to use. What great fun!\")\n",
    " testimonial.sentiment\n",
    " Output: Sentiment(polarity=0.39166666666666666, subjectivity=0.4357142857142857)\n",
    " testimonial.sentiment.polarity\n",
    "0.39166666666666666\n",
    "\n",
    "```"
   ]
  },
  {
   "cell_type": "markdown",
   "metadata": {},
   "source": [
    "Now let's try to see how is the sentiment analysis of the \"The_Donald\" subreddit comments. We have added two columns to the original data frame, one with the polarity measured and the other with the other with the subjectivity."
   ]
  },
  {
   "cell_type": "code",
   "execution_count": 89,
   "metadata": {},
   "outputs": [],
   "source": [
    "df_nlp['sentiment_polarity'] = df_nlp[\"body\"].apply(lambda com: TextBlob(str(com)).sentiment.polarity)\n",
    "df_nlp['sentiment_subjectivity'] = df_nlp[\"body\"].apply(lambda com: TextBlob(str(com)).sentiment.subjectivity)"
   ]
  },
  {
   "cell_type": "code",
   "execution_count": 90,
   "metadata": {
    "scrolled": false
   },
   "outputs": [
    {
     "data": {
      "text/html": [
       "<div>\n",
       "<style scoped>\n",
       "    .dataframe tbody tr th:only-of-type {\n",
       "        vertical-align: middle;\n",
       "    }\n",
       "\n",
       "    .dataframe tbody tr th {\n",
       "        vertical-align: top;\n",
       "    }\n",
       "\n",
       "    .dataframe thead th {\n",
       "        text-align: right;\n",
       "    }\n",
       "</style>\n",
       "<table border=\"1\" class=\"dataframe\">\n",
       "  <thead>\n",
       "    <tr style=\"text-align: right;\">\n",
       "      <th></th>\n",
       "      <th>author</th>\n",
       "      <th>author_flair_css_class</th>\n",
       "      <th>author_flair_text</th>\n",
       "      <th>body</th>\n",
       "      <th>controversiality</th>\n",
       "      <th>created_utc</th>\n",
       "      <th>distinguished</th>\n",
       "      <th>edited</th>\n",
       "      <th>gilded</th>\n",
       "      <th>id</th>\n",
       "      <th>link_id</th>\n",
       "      <th>parent_id</th>\n",
       "      <th>retrieved_on</th>\n",
       "      <th>score</th>\n",
       "      <th>stickied</th>\n",
       "      <th>subreddit</th>\n",
       "      <th>subreddit_id</th>\n",
       "      <th>sentiment_polarity</th>\n",
       "      <th>sentiment_subjectivity</th>\n",
       "    </tr>\n",
       "  </thead>\n",
       "  <tbody>\n",
       "    <tr>\n",
       "      <th>4727169</th>\n",
       "      <td>Intergalactic_Walrus</td>\n",
       "      <td>None</td>\n",
       "      <td>None</td>\n",
       "      <td>\"Just in case you didn't read it\" ahahahaha</td>\n",
       "      <td>0</td>\n",
       "      <td>1485829331</td>\n",
       "      <td>None</td>\n",
       "      <td>false</td>\n",
       "      <td>0</td>\n",
       "      <td>dd4k9xc</td>\n",
       "      <td>t3_5r4ix1</td>\n",
       "      <td>t1_dd4k8tj</td>\n",
       "      <td>1486575256</td>\n",
       "      <td>5</td>\n",
       "      <td>False</td>\n",
       "      <td>The_Donald</td>\n",
       "      <td>t5_38unr</td>\n",
       "      <td>0.0</td>\n",
       "      <td>0.0</td>\n",
       "    </tr>\n",
       "    <tr>\n",
       "      <th>1577915</th>\n",
       "      <td>AnyoneButBernie</td>\n",
       "      <td>None</td>\n",
       "      <td>None</td>\n",
       "      <td>I lose a lot of respect for someone if they sa...</td>\n",
       "      <td>0</td>\n",
       "      <td>1484102630</td>\n",
       "      <td>None</td>\n",
       "      <td>false</td>\n",
       "      <td>0</td>\n",
       "      <td>dc9q9rd</td>\n",
       "      <td>t3_5n7is3</td>\n",
       "      <td>t1_dc9odj6</td>\n",
       "      <td>1485949069</td>\n",
       "      <td>3</td>\n",
       "      <td>False</td>\n",
       "      <td>The_Donald</td>\n",
       "      <td>t5_38unr</td>\n",
       "      <td>0.0</td>\n",
       "      <td>0.0</td>\n",
       "    </tr>\n",
       "  </tbody>\n",
       "</table>\n",
       "</div>"
      ],
      "text/plain": [
       "                       author author_flair_css_class author_flair_text  \\\n",
       "4727169  Intergalactic_Walrus                   None              None   \n",
       "1577915       AnyoneButBernie                   None              None   \n",
       "\n",
       "                                                      body  controversiality  \\\n",
       "4727169        \"Just in case you didn't read it\" ahahahaha                 0   \n",
       "1577915  I lose a lot of respect for someone if they sa...                 0   \n",
       "\n",
       "         created_utc distinguished edited  gilded       id    link_id  \\\n",
       "4727169   1485829331          None  false       0  dd4k9xc  t3_5r4ix1   \n",
       "1577915   1484102630          None  false       0  dc9q9rd  t3_5n7is3   \n",
       "\n",
       "          parent_id  retrieved_on  score  stickied   subreddit subreddit_id  \\\n",
       "4727169  t1_dd4k8tj    1486575256      5     False  The_Donald     t5_38unr   \n",
       "1577915  t1_dc9odj6    1485949069      3     False  The_Donald     t5_38unr   \n",
       "\n",
       "         sentiment_polarity  sentiment_subjectivity  \n",
       "4727169                 0.0                     0.0  \n",
       "1577915                 0.0                     0.0  "
      ]
     },
     "execution_count": 90,
     "metadata": {},
     "output_type": "execute_result"
    }
   ],
   "source": [
    "df_nlp.head(2)"
   ]
  },
  {
   "cell_type": "markdown",
   "metadata": {},
   "source": [
    "Finally, we plot the distribution of both polarity and subjectivity.   \n",
    "\n",
    "Reminder: The polarity score is a float within the range [-1.0, 1.0]. The subjectivity is a float within the range [0.0, 1.0] where 0.0 is very objective and 1.0 is very subjective."
   ]
  },
  {
   "cell_type": "code",
   "execution_count": 78,
   "metadata": {
    "scrolled": true
   },
   "outputs": [
    {
     "data": {
      "text/plain": [
       "<matplotlib.axes._subplots.AxesSubplot at 0x25e27872dd8>"
      ]
     },
     "execution_count": 78,
     "metadata": {},
     "output_type": "execute_result"
    },
    {
     "data": {
      "image/png": "[encoded data removed]",
      "text/plain": [
       "<Figure size 432x288 with 1 Axes>"
      ]
     },
     "metadata": {
      "needs_background": "light"
     },
     "output_type": "display_data"
    }
   ],
   "source": [
    "df_nlp['sentiment_polarity'].hist()"
   ]
  },
  {
   "cell_type": "markdown",
   "metadata": {},
   "source": [
    "With the polarity distribution we check that most of the comments usually are no so polarized. However there is a considerable amount of comments polarized. "
   ]
  },
  {
   "cell_type": "code",
   "execution_count": 79,
   "metadata": {},
   "outputs": [
    {
     "data": {
      "text/plain": [
       "<matplotlib.axes._subplots.AxesSubplot at 0x25e278132e8>"
      ]
     },
     "execution_count": 79,
     "metadata": {},
     "output_type": "execute_result"
    },
    {
     "data": {
      "image/png": "[encoded data removed]",
      "text/plain": [
       "<Figure size 432x288 with 1 Axes>"
      ]
     },
     "metadata": {
      "needs_background": "light"
     },
     "output_type": "display_data"
    }
   ],
   "source": [
    "df_nlp['sentiment_subjectivity'].hist()"
   ]
  },
  {
   "cell_type": "markdown",
   "metadata": {},
   "source": [
    "With the subjectivity distribution we also see that there are lots of comments which are somehow subjectives, although the most common is not being subjective."
   ]
  }
 ],
 "metadata": {
  "kernelspec": {
   "display_name": "Python 3",
   "language": "python",
   "name": "python3"
  },
  "language_info": {
   "codemirror_mode": {
    "name": "ipython",
    "version": 3
   },
   "file_extension": ".py",
   "mimetype": "text/x-python",
   "name": "python",
   "nbconvert_exporter": "python",
   "pygments_lexer": "ipython3",
   "version": "3.6.4"
  }
 },
 "nbformat": 4,
 "nbformat_minor": 2
}
