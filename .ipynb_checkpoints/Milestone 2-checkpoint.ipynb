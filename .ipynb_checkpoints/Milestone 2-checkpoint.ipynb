{
 "cells": [
  {
   "cell_type": "markdown",
   "metadata": {},
   "source": [
    "# The Echo Chamber Effect - A Case Study (provisional title)\n",
    "\n",
    "## Milestone 2\n",
    "\n",
    "In this notebook we will download a small sample of the Reddit dataset for the first time and perform some basic statistics on it. We will talk about the structure of the data, our pipepline to handle it and how this new knowledge has affected our plans for the project.\n",
    "\n",
    "We will also load the two recommended NLP libraries and try them out to see how they work and to which extent we can take advantage of them.\n",
    "\n",
    "The full report can be found on the updated README."
   ]
  },
  {
   "cell_type": "code",
   "execution_count": 1,
   "metadata": {},
   "outputs": [],
   "source": [
    "import pandas as pd\n",
    "import numpy as np\n",
    "import scipy as sp\n",
    "import seaborn as sns\n",
    "%matplotlib inline\n",
    "\n",
    "import findspark\n",
    "findspark.init(r'C:\\Spark\\spark-2.3.2-bin-hadoop2.7')\n",
    "#findspark.init('/Users/vikalpkamdar/opt/spark')\n",
    "#findspark.init()\n",
    "findspark.find()\n",
    "\n",
    "from datetime import datetime\n",
    "from matplotlib import pyplot as plt\n",
    "from pyspark.sql import *\n",
    "from pyspark.sql.functions import *\n",
    "\n",
    "from pyspark.sql import SparkSession\n",
    "from pyspark import SparkContext\n",
    "\n",
    "spark = SparkSession.builder.getOrCreate()\n",
    "spark.conf.set('spark.sql.session.timeZone', 'UTC')\n",
    "sc = spark.sparkContext\n",
    "sqlc = SQLContext(sc)"
   ]
  },
  {
   "cell_type": "code",
   "execution_count": 2,
   "metadata": {},
   "outputs": [],
   "source": [
    "DATA_DIR = './data/'"
   ]
  },
  {
   "cell_type": "markdown",
   "metadata": {},
   "source": [
    "## Sampling the data"
   ]
  },
  {
   "cell_type": "markdown",
   "metadata": {},
   "source": [
    "This dataset is big beyond comprehension. Around 2TB of comments from Reddit's inception in 2005 until March 2017. Our machines cannot handle such numbers and even if they could it would take too much time. Instead, we decided to, for now, focus only on 2016 (the year of the US presidential election) which itslef represents already more than 360GB of data and sticked to the following pipeline:\n",
    "\n",
    " - Sample 10% of the data (~12GB compressed)\n",
    " - Try our scripts locally using spark\n",
    " - Once prototyped, upload the scripts to the cluster, run them on the whole year of data and retrieve only the essential parts\n",
    "\n",
    "This way we streamlined the queries to the cluster and created an easily expandable workframe.\n",
    "\n",
    "In order to filter and reduce even more the size of the datasets we dropped the columns that mostly have no use for us, namely: ```author_flair_class```, ```author_flair_text```, ```distinguished```, ```edited```, ```retrieved_on```, ```stickied``` and ```subreddit_id```. (Script used on cluster: `script/drop_col.py`)"
   ]
  },
  {
   "cell_type": "markdown",
   "metadata": {},
   "source": [
    "We don't think a dataset as rich as this needs much enrichment, but we could consider using web scrapping techniques to retrieve subredit data (e.g. the rules of the subreddit)."
   ]
  },
  {
   "cell_type": "markdown",
   "metadata": {},
   "source": [
    "### Using the sample to explain the data\n",
    "\n",
    "The following code does not really need the data in its size as it's for explanatory purposes. The queries and operations were performed on our local system with 1% 2016 reddit comments. Once we figured out the querries we applied them to 10% of the 2016 reddit data (~12GB compressed) by sending python scripts (found in scripts/ folder) to the cluster."
   ]
  },
  {
   "cell_type": "code",
   "execution_count": 3,
   "metadata": {
    "scrolled": true
   },
   "outputs": [],
   "source": [
    "df_spark = spark.read.parquet(DATA_DIR + \"sliced_2017_posts.parquet\")"
   ]
  },
  {
   "cell_type": "code",
   "execution_count": 4,
   "metadata": {},
   "outputs": [
    {
     "data": {
      "text/plain": [
       "1177934"
      ]
     },
     "execution_count": 4,
     "metadata": {},
     "output_type": "execute_result"
    }
   ],
   "source": [
    "# Sample size\n",
    "df_spark.count() # number of comments used for the 1% dataset."
   ]
  },
  {
   "cell_type": "markdown",
   "metadata": {},
   "source": [
    "Firstly we show the column names of the spark data frame and the first row in order to analyze how the data frame is structured, the differents columns and its meanings:"
   ]
  },
  {
   "cell_type": "code",
   "execution_count": 5,
   "metadata": {
    "scrolled": true
   },
   "outputs": [
    {
     "data": {
      "text/plain": [
       "['author',\n",
       " 'author_flair_css_class',\n",
       " 'author_flair_text',\n",
       " 'body',\n",
       " 'controversiality',\n",
       " 'created_utc',\n",
       " 'distinguished',\n",
       " 'edited',\n",
       " 'gilded',\n",
       " 'id',\n",
       " 'link_id',\n",
       " 'parent_id',\n",
       " 'retrieved_on',\n",
       " 'score',\n",
       " 'stickied',\n",
       " 'subreddit',\n",
       " 'subreddit_id']"
      ]
     },
     "execution_count": 5,
     "metadata": {},
     "output_type": "execute_result"
    }
   ],
   "source": [
    "df_spark.columns"
   ]
  },
  {
   "cell_type": "code",
   "execution_count": 6,
   "metadata": {
    "scrolled": true
   },
   "outputs": [
    {
     "name": "stdout",
     "output_type": "stream",
     "text": [
      "+------+----------------------+-----------------+--------------------+----------------+-----------+-------------+------+------+-------+---------+---------+------------+-----+--------+-----------+------------+\n",
      "|author|author_flair_css_class|author_flair_text|                body|controversiality|created_utc|distinguished|edited|gilded|     id|  link_id|parent_id|retrieved_on|score|stickied|  subreddit|subreddit_id|\n",
      "+------+----------------------+-----------------+--------------------+----------------+-----------+-------------+------+------+-------+---------+---------+------------+-----+--------+-----------+------------+\n",
      "|bawzzz|                  null|             null|Worth a try. Powe...|               0| 1483808014|         null| false|     0|dc4ee55|t3_5mk42u|t3_5mk42u|  1485854736|    2|   false|techsupport|    t5_2qioo|\n",
      "+------+----------------------+-----------------+--------------------+----------------+-----------+-------------+------+------+-------+---------+---------+------------+-----+--------+-----------+------------+\n",
      "only showing top 1 row\n",
      "\n"
     ]
    }
   ],
   "source": [
    "# example of 1 comment\n",
    "df_spark.show(1)"
   ]
  },
  {
   "cell_type": "markdown",
   "metadata": {},
   "source": [
    "Here we explain the columns one by one:\n",
    "* __'author':__ Redditor username\n",
    "* __'author_flair_css_class':__ CSS class, defines the style of the 'author_flair_text' tag within the html of Reddit.\n",
    "* __'author_flair_text':__  A tag associated to your username, which is only visible in the current subreddit. \n",
    "* __'body':__ The content of the comment.\n",
    "* __'controversiality':__ When its value is 1, the comment has been voted above a certain threshold and has roughly the same amount of downvotes and upvotes. 0 Otherwise. [More info](https://www.reddit.com/r/redditdev/comments/29i58s/reddit_change_api_availability_controversiality/)\n",
    "* __'created_utc':__ Unix timestamp of the creation date.\n",
    "* __'distinguished':__ If a comment is distinguished, this means that a moderator or admin of the subreddit has highlighted it (A little [M] will appear next to it).\n",
    "* __'edited':__ Indicates if the comment has been edited. If it has not been edited the variable is False, else its value is the Unix Timestamp of the last edition.\n",
    "* __'gilded':__ When its value is 1, that means a [premium](https://www.reddit.com/premium/) user gave the author [reddit gold](https://www.reddit.com/coins/) (a week of reddit premium). \n",
    "* __'id':__ Unique ID of the comment.\n",
    "* __'link_id':__ Id of the link (similar to post) this comment is anwering to. Always begins with 't3_'.\n",
    "* __'parent_id':__ Id of the post this comment is below. Always begins with 't3_'.\n",
    "* __'retrieved_on':__ Unix Timestamp of the comment retrieval (to this data set).\n",
    "* __'score':__ Upvotes minus downvotes (Reddit mildly obfuscates this value when the comment has lots of votes as a security measure against external meddling. This is called [vote fuzzing](https://www.reddit.com/r/firstdayontheinternet/comments/30b44n/could_someone_explain_how_the_reddit_karma_system/).\n",
    "* __'stickied':__ Boolean value. When a comment is stickied (by a moderator or admin), the comment appears as the first entry right below the original post.\n",
    "* __'subreddit':__ Name of the subreddit where the comment was posted.\n",
    "* __'subreddit_id':__ Unique ID (or full name as refered to in the Rddit API) of the subreddit. Note that those always begin with 't5_'."
   ]
  },
  {
   "cell_type": "markdown",
   "metadata": {},
   "source": [
    "The types of each column:"
   ]
  },
  {
   "cell_type": "code",
   "execution_count": 7,
   "metadata": {
    "scrolled": false
   },
   "outputs": [
    {
     "data": {
      "text/plain": [
       "DataFrame[author: string, author_flair_css_class: string, author_flair_text: string, body: string, controversiality: bigint, created_utc: bigint, distinguished: string, edited: string, gilded: bigint, id: string, link_id: string, parent_id: string, retrieved_on: bigint, score: bigint, stickied: boolean, subreddit: string, subreddit_id: string]"
      ]
     },
     "execution_count": 7,
     "metadata": {},
     "output_type": "execute_result"
    }
   ],
   "source": [
    "df_spark.distinct()"
   ]
  },
  {
   "cell_type": "markdown",
   "metadata": {},
   "source": [
    "And the different values of some of the columns (only the relevant ones):"
   ]
  },
  {
   "cell_type": "code",
   "execution_count": 8,
   "metadata": {
    "scrolled": false
   },
   "outputs": [
    {
     "name": "stdout",
     "output_type": "stream",
     "text": [
      "+----------------+\n",
      "|controversiality|\n",
      "+----------------+\n",
      "|               0|\n",
      "|               1|\n",
      "+----------------+\n",
      "\n"
     ]
    }
   ],
   "source": [
    "df_spark[['controversiality']].distinct().show(4)"
   ]
  },
  {
   "cell_type": "code",
   "execution_count": 9,
   "metadata": {},
   "outputs": [
    {
     "name": "stdout",
     "output_type": "stream",
     "text": [
      "+-------------+\n",
      "|distinguished|\n",
      "+-------------+\n",
      "|         null|\n",
      "|    moderator|\n",
      "+-------------+\n",
      "\n"
     ]
    }
   ],
   "source": [
    "df_spark[['distinguished']].distinct().show(4)"
   ]
  },
  {
   "cell_type": "code",
   "execution_count": 10,
   "metadata": {
    "scrolled": true
   },
   "outputs": [
    {
     "name": "stdout",
     "output_type": "stream",
     "text": [
      "+----------+\n",
      "|    edited|\n",
      "+----------+\n",
      "|1483810944|\n",
      "|1483815628|\n",
      "+----------+\n",
      "only showing top 2 rows\n",
      "\n"
     ]
    }
   ],
   "source": [
    "df_spark[['edited']].distinct().show(2)"
   ]
  },
  {
   "cell_type": "code",
   "execution_count": 11,
   "metadata": {},
   "outputs": [
    {
     "name": "stdout",
     "output_type": "stream",
     "text": [
      "+---------+\n",
      "|  link_id|\n",
      "+---------+\n",
      "| t3_by3mu|\n",
      "|t3_5mrjf0|\n",
      "|t3_5mrjbw|\n",
      "+---------+\n",
      "only showing top 3 rows\n",
      "\n"
     ]
    }
   ],
   "source": [
    "df_spark[['link_id']].distinct().orderBy(desc(\"link_id\")).show(3)"
   ]
  },
  {
   "cell_type": "code",
   "execution_count": 12,
   "metadata": {},
   "outputs": [
    {
     "name": "stdout",
     "output_type": "stream",
     "text": [
      "+-----+\n",
      "|score|\n",
      "+-----+\n",
      "| -373|\n",
      "| -354|\n",
      "| -332|\n",
      "+-----+\n",
      "only showing top 3 rows\n",
      "\n"
     ]
    }
   ],
   "source": [
    "df_spark[['score']].orderBy(asc('score')).show(3)"
   ]
  },
  {
   "cell_type": "markdown",
   "metadata": {},
   "source": [
    "Number of subreddits in our 1% sample:"
   ]
  },
  {
   "cell_type": "code",
   "execution_count": 13,
   "metadata": {
    "scrolled": true
   },
   "outputs": [
    {
     "data": {
      "text/plain": [
       "20040"
      ]
     },
     "execution_count": 13,
     "metadata": {},
     "output_type": "execute_result"
    }
   ],
   "source": [
    "df_spark[['subreddit_id']].distinct().count()"
   ]
  },
  {
   "cell_type": "markdown",
   "metadata": {},
   "source": [
    "Number of controversial comments in our 1% sample:"
   ]
  },
  {
   "cell_type": "code",
   "execution_count": 14,
   "metadata": {},
   "outputs": [
    {
     "data": {
      "text/plain": [
       "21841"
      ]
     },
     "execution_count": 14,
     "metadata": {},
     "output_type": "execute_result"
    }
   ],
   "source": [
    "df_spark.filter('controversiality = 1').count()"
   ]
  },
  {
   "cell_type": "markdown",
   "metadata": {},
   "source": [
    "For most of the local processing we will use pandas as it is easier. By the time our data pieces will be filtered and small enough to not run into memory constraints. Using pyarrow we can read parquet files directly into pandas dataframes."
   ]
  },
  {
   "cell_type": "markdown",
   "metadata": {},
   "source": [
    "conda install pyarrow, we get an error if we try to transform the spark dataframe"
   ]
  },
  {
   "cell_type": "code",
   "execution_count": 15,
   "metadata": {
    "scrolled": true
   },
   "outputs": [],
   "source": [
    "df_pd = pd.read_parquet(DATA_DIR + \"sliced_2017_posts.parquet\")"
   ]
  },
  {
   "cell_type": "markdown",
   "metadata": {},
   "source": [
    "We will now print out some basic properties and stats about our 1% data sample."
   ]
  },
  {
   "cell_type": "code",
   "execution_count": 16,
   "metadata": {
    "scrolled": true
   },
   "outputs": [
    {
     "data": {
      "text/html": [
       "<div>\n",
       "<style scoped>\n",
       "    .dataframe tbody tr th:only-of-type {\n",
       "        vertical-align: middle;\n",
       "    }\n",
       "\n",
       "    .dataframe tbody tr th {\n",
       "        vertical-align: top;\n",
       "    }\n",
       "\n",
       "    .dataframe thead th {\n",
       "        text-align: right;\n",
       "    }\n",
       "</style>\n",
       "<table border=\"1\" class=\"dataframe\">\n",
       "  <thead>\n",
       "    <tr style=\"text-align: right;\">\n",
       "      <th></th>\n",
       "      <th>author</th>\n",
       "      <th>author_flair_css_class</th>\n",
       "      <th>author_flair_text</th>\n",
       "      <th>body</th>\n",
       "      <th>controversiality</th>\n",
       "      <th>created_utc</th>\n",
       "      <th>distinguished</th>\n",
       "      <th>edited</th>\n",
       "      <th>gilded</th>\n",
       "      <th>id</th>\n",
       "      <th>link_id</th>\n",
       "      <th>parent_id</th>\n",
       "      <th>retrieved_on</th>\n",
       "      <th>score</th>\n",
       "      <th>stickied</th>\n",
       "      <th>subreddit</th>\n",
       "      <th>subreddit_id</th>\n",
       "    </tr>\n",
       "  </thead>\n",
       "  <tbody>\n",
       "    <tr>\n",
       "      <th>0</th>\n",
       "      <td>Godcon</td>\n",
       "      <td>None</td>\n",
       "      <td>None</td>\n",
       "      <td>Do you buy the minis yourself and include that...</td>\n",
       "      <td>0</td>\n",
       "      <td>1483228800</td>\n",
       "      <td>None</td>\n",
       "      <td>false</td>\n",
       "      <td>0</td>\n",
       "      <td>dbumnq3</td>\n",
       "      <td>t3_5l9ny9</td>\n",
       "      <td>t1_dbukpfs</td>\n",
       "      <td>1485679711</td>\n",
       "      <td>2</td>\n",
       "      <td>False</td>\n",
       "      <td>minipainting</td>\n",
       "      <td>t5_2scss</td>\n",
       "    </tr>\n",
       "    <tr>\n",
       "      <th>1</th>\n",
       "      <td>Fleetthrow</td>\n",
       "      <td>None</td>\n",
       "      <td>None</td>\n",
       "      <td>Can I ask where you work now and what you do, ...</td>\n",
       "      <td>0</td>\n",
       "      <td>1483228800</td>\n",
       "      <td>None</td>\n",
       "      <td>false</td>\n",
       "      <td>0</td>\n",
       "      <td>dbumnq6</td>\n",
       "      <td>t3_5l0tz4</td>\n",
       "      <td>t1_dbuksbh</td>\n",
       "      <td>1485679711</td>\n",
       "      <td>1</td>\n",
       "      <td>False</td>\n",
       "      <td>gis</td>\n",
       "      <td>t5_2qmpb</td>\n",
       "    </tr>\n",
       "  </tbody>\n",
       "</table>\n",
       "</div>"
      ],
      "text/plain": [
       "       author author_flair_css_class author_flair_text  \\\n",
       "0      Godcon                   None              None   \n",
       "1  Fleetthrow                   None              None   \n",
       "\n",
       "                                                body  controversiality  \\\n",
       "0  Do you buy the minis yourself and include that...                 0   \n",
       "1  Can I ask where you work now and what you do, ...                 0   \n",
       "\n",
       "   created_utc distinguished edited  gilded       id    link_id   parent_id  \\\n",
       "0   1483228800          None  false       0  dbumnq3  t3_5l9ny9  t1_dbukpfs   \n",
       "1   1483228800          None  false       0  dbumnq6  t3_5l0tz4  t1_dbuksbh   \n",
       "\n",
       "   retrieved_on  score  stickied     subreddit subreddit_id  \n",
       "0    1485679711      2     False  minipainting     t5_2scss  \n",
       "1    1485679711      1     False           gis     t5_2qmpb  "
      ]
     },
     "execution_count": 16,
     "metadata": {},
     "output_type": "execute_result"
    }
   ],
   "source": [
    "df_pd.head(2)"
   ]
  },
  {
   "cell_type": "code",
   "execution_count": 17,
   "metadata": {
    "scrolled": true
   },
   "outputs": [
    {
     "data": {
      "text/plain": [
       "array([[0, None, 'false', 't1_dbukpfs'],\n",
       "       [0, None, 'false', 't1_dbuksbh'],\n",
       "       [0, None, 'false', 't3_5lb5aj'],\n",
       "       ...,\n",
       "       [0, None, 'false', 't1_dc5f69h'],\n",
       "       [0, None, 'false', 't1_dc5pcj2'],\n",
       "       [0, None, 'false', 't1_dc5qyep']], dtype=object)"
      ]
     },
     "execution_count": 17,
     "metadata": {},
     "output_type": "execute_result"
    }
   ],
   "source": [
    "df_pd[['controversiality', 'distinguished', 'edited', 'parent_id']].values"
   ]
  },
  {
   "cell_type": "code",
   "execution_count": 18,
   "metadata": {
    "scrolled": false
   },
   "outputs": [
    {
     "data": {
      "text/plain": [
       "(1177934, 17)"
      ]
     },
     "execution_count": 18,
     "metadata": {},
     "output_type": "execute_result"
    }
   ],
   "source": [
    "df_pd.shape"
   ]
  },
  {
   "cell_type": "code",
   "execution_count": 19,
   "metadata": {},
   "outputs": [
    {
     "data": {
      "text/plain": [
       "1177934"
      ]
     },
     "execution_count": 19,
     "metadata": {},
     "output_type": "execute_result"
    }
   ],
   "source": [
    "len(df_pd['id'].unique())"
   ]
  },
  {
   "cell_type": "markdown",
   "metadata": {},
   "source": [
    "From the two cells above we can confirm that the `id` is unique."
   ]
  },
  {
   "cell_type": "code",
   "execution_count": 20,
   "metadata": {
    "scrolled": true
   },
   "outputs": [
    {
     "data": {
      "image/png": "[encoded data removed]",
      "text/plain": [
       "<Figure size 432x288 with 1 Axes>"
      ]
     },
     "metadata": {
      "needs_background": "light"
     },
     "output_type": "display_data"
    }
   ],
   "source": [
    "df_pd['subreddit'].value_counts().to_frame().hist(bins=[10,100,1000,2000,3000,10000]);"
   ]
  },
  {
   "cell_type": "markdown",
   "metadata": {},
   "source": [
    "As we can see from the histogram above, a lot of the subreddits have only 1 comment. Hence these subreddits will be considered as outliers, as we feel they do will not help us in our eco-chamber calculations."
   ]
  },
  {
   "cell_type": "markdown",
   "metadata": {},
   "source": [
    "We need to decide a threshold for the number of comments per subreddit. Subreddits below that threshold will not bring us much if not any information in our calculations for milestone 3."
   ]
  },
  {
   "cell_type": "code",
   "execution_count": 21,
   "metadata": {},
   "outputs": [
    {
     "data": {
      "text/plain": [
       "author                    object\n",
       "author_flair_css_class    object\n",
       "author_flair_text         object\n",
       "body                      object\n",
       "controversiality           int64\n",
       "created_utc                int64\n",
       "distinguished             object\n",
       "edited                    object\n",
       "gilded                     int64\n",
       "id                        object\n",
       "link_id                   object\n",
       "parent_id                 object\n",
       "retrieved_on               int64\n",
       "score                      int64\n",
       "stickied                    bool\n",
       "subreddit                 object\n",
       "subreddit_id              object\n",
       "dtype: object"
      ]
     },
     "execution_count": 21,
     "metadata": {},
     "output_type": "execute_result"
    }
   ],
   "source": [
    "df_pd.dtypes"
   ]
  },
  {
   "cell_type": "markdown",
   "metadata": {},
   "source": [
    "### Statistics on the cluster"
   ]
  },
  {
   "cell_type": "markdown",
   "metadata": {},
   "source": [
    "In this part we show what we can do some of the above operations on a bigger dataset (10% of the 2016 reddit comments). Firstly we will show the functions we will use to obtain simple statistics. In the next part we will export these commands onto a python script (script/stats.py) and run them on the 10% sampled 2016 reddit comments."
   ]
  },
  {
   "cell_type": "markdown",
   "metadata": {},
   "source": [
    "The stats below are done on the 1% sample of the 2016 reddit comments. But they were just done in order to find the right functions."
   ]
  },
  {
   "cell_type": "code",
   "execution_count": 22,
   "metadata": {},
   "outputs": [
    {
     "data": {
      "text/plain": [
       "1177934"
      ]
     },
     "execution_count": 22,
     "metadata": {},
     "output_type": "execute_result"
    }
   ],
   "source": [
    "total_n_comments = df_spark.count()\n",
    "total_n_comments"
   ]
  },
  {
   "cell_type": "markdown",
   "metadata": {},
   "source": [
    "First we compute the number of removed comments (A comment has been removed when its body is \"[deleted]\")"
   ]
  },
  {
   "cell_type": "code",
   "execution_count": 23,
   "metadata": {
    "scrolled": true
   },
   "outputs": [
    {
     "data": {
      "text/plain": [
       "51852"
      ]
     },
     "execution_count": 23,
     "metadata": {},
     "output_type": "execute_result"
    }
   ],
   "source": [
    "n_deleted_comments = df_spark.filter('body = \"[deleted]\"').count()\n",
    "n_deleted_comments "
   ]
  },
  {
   "cell_type": "markdown",
   "metadata": {},
   "source": [
    "The percentage of comments that are \"removed\" according to the above criteria."
   ]
  },
  {
   "cell_type": "code",
   "execution_count": 24,
   "metadata": {},
   "outputs": [
    {
     "data": {
      "text/plain": [
       "4.401944421334302"
      ]
     },
     "execution_count": 24,
     "metadata": {},
     "output_type": "execute_result"
    }
   ],
   "source": [
    "percentage_deleted_comments = 100 * n_deleted_comments  / total_n_comments\n",
    "percentage_deleted_comments"
   ]
  },
  {
   "cell_type": "markdown",
   "metadata": {},
   "source": [
    "And the number of comments posted by removed users (Users who have removed their account after post the comment)"
   ]
  },
  {
   "cell_type": "code",
   "execution_count": 25,
   "metadata": {
    "scrolled": true
   },
   "outputs": [
    {
     "data": {
      "text/plain": [
       "89837"
      ]
     },
     "execution_count": 25,
     "metadata": {},
     "output_type": "execute_result"
    }
   ],
   "source": [
    "comments_by_removed_users = df_spark.filter('author = \"[deleted]\"').count()\n",
    "comments_by_removed_users"
   ]
  },
  {
   "cell_type": "markdown",
   "metadata": {},
   "source": [
    "The percentage of comments that were posted by \"removed\" users according to the above criteria."
   ]
  },
  {
   "cell_type": "code",
   "execution_count": 26,
   "metadata": {
    "scrolled": true
   },
   "outputs": [
    {
     "data": {
      "text/plain": [
       "7.6266581998651874"
      ]
     },
     "execution_count": 26,
     "metadata": {},
     "output_type": "execute_result"
    }
   ],
   "source": [
    "percentage_by_dl_user = 100 * comments_by_removed_users / total_n_comments\n",
    "percentage_by_dl_user"
   ]
  },
  {
   "cell_type": "markdown",
   "metadata": {},
   "source": [
    "Now we see the total number of controversial comments and the percentage of them:"
   ]
  },
  {
   "cell_type": "code",
   "execution_count": 27,
   "metadata": {},
   "outputs": [
    {
     "data": {
      "text/plain": [
       "21841"
      ]
     },
     "execution_count": 27,
     "metadata": {},
     "output_type": "execute_result"
    }
   ],
   "source": [
    "n_controversial_comments = df_spark.filter('controversiality = 1').count()\n",
    "n_controversial_comments"
   ]
  },
  {
   "cell_type": "code",
   "execution_count": 28,
   "metadata": {
    "scrolled": true
   },
   "outputs": [
    {
     "data": {
      "text/plain": [
       "1.8541785872553131"
      ]
     },
     "execution_count": 28,
     "metadata": {},
     "output_type": "execute_result"
    }
   ],
   "source": [
    "perc_controversial_comments = 100 * n_controversial_comments / total_n_comments\n",
    "perc_controversial_comments"
   ]
  },
  {
   "cell_type": "markdown",
   "metadata": {},
   "source": [
    "Having easily computed this percentages, we now get a dataframe with the number of comments per subrredit in order to plot the distribution:"
   ]
  },
  {
   "cell_type": "code",
   "execution_count": 29,
   "metadata": {},
   "outputs": [
    {
     "data": {
      "text/plain": [
       "20040"
      ]
     },
     "execution_count": 29,
     "metadata": {},
     "output_type": "execute_result"
    }
   ],
   "source": [
    "#Total number of subreddits:\n",
    "df_spark[['subreddit']].distinct().count()"
   ]
  },
  {
   "cell_type": "code",
   "execution_count": 30,
   "metadata": {},
   "outputs": [
    {
     "data": {
      "text/plain": [
       "DataFrame[subreddit: string, Number of comments: bigint]"
      ]
     },
     "execution_count": 30,
     "metadata": {},
     "output_type": "execute_result"
    }
   ],
   "source": [
    "df_subreddit_count = df_spark.groupBy('subreddit').agg(count('*')).withColumnRenamed('count(1)', 'Number of comments')\n",
    "df_subreddit_count"
   ]
  },
  {
   "cell_type": "code",
   "execution_count": 31,
   "metadata": {
    "scrolled": false
   },
   "outputs": [
    {
     "name": "stdout",
     "output_type": "stream",
     "text": [
      "+---------+------------------+\n",
      "|subreddit|Number of comments|\n",
      "+---------+------------------+\n",
      "|    anime|              4019|\n",
      "|  Amateur|                93|\n",
      "+---------+------------------+\n",
      "only showing top 2 rows\n",
      "\n"
     ]
    }
   ],
   "source": [
    "df_subreddit_count.show(2)"
   ]
  },
  {
   "cell_type": "markdown",
   "metadata": {},
   "source": [
    "We have not analyzed the statistics above as they are merely there for us to find the right functions to use wth the cluster."
   ]
  },
  {
   "cell_type": "markdown",
   "metadata": {},
   "source": [
    "We will now show the stats with a bigger dataset (10% of the 2016 reddit comments)."
   ]
  },
  {
   "cell_type": "markdown",
   "metadata": {},
   "source": [
    "The pipeline we used is the following:\n",
    "1. We first read all of the data in the 2016 .bz2 compressed files and sampled 10% of it to run our querries with the cluster (`script/read_data_original.py`)\n",
    "2. We then sampled another 10% to obtain 1% of the 2016 reddit comments that we played with above (`scripts/read_data.py`)\n",
    "3. Once we found the correct form for our querries on the smaller dataset, we ran them with cluster on the larger dataset (`scripts/`) and saved them to smaller sized parquet files.\n",
    "4. We then imported these smaller parquet files into our local machine and read them and transformed them to pandas dataframes in order to plot the graphs."
   ]
  },
  {
   "cell_type": "markdown",
   "metadata": {},
   "source": [
    "The above stats were obtained using `scripts/stats.py` with cluster. The stats were saved in a text file (`data/stats.txt`). "
   ]
  },
  {
   "cell_type": "markdown",
   "metadata": {},
   "source": [
    "Total number of comments: 79998223  \n",
    "Number of deleted comments: 3414381  \n",
    "% of deleted comments: 4  \n",
    "Number of comments by removed users: 5706216  \n",
    "% comments by deleted users: 7  \n",
    "Number of controversial comments: 1770571  \n",
    "% of controversial comments: 2  \n",
    "Number of subreddits: 131028  "
   ]
  },
  {
   "cell_type": "markdown",
   "metadata": {},
   "source": [
    "We first decided to have a look at the number of querries per subreddit (`scripts/stats.py`)"
   ]
  },
  {
   "cell_type": "code",
   "execution_count": 32,
   "metadata": {},
   "outputs": [],
   "source": [
    "df_subreddit_count = spark.read.parquet(DATA_DIR + 'df_subreddit_count.parquet')"
   ]
  },
  {
   "cell_type": "code",
   "execution_count": 33,
   "metadata": {},
   "outputs": [
    {
     "name": "stdout",
     "output_type": "stream",
     "text": [
      "+-----------------+------------------+\n",
      "|        subreddit|Number_of_comments|\n",
      "+-----------------+------------------+\n",
      "|HollowRealization|               216|\n",
      "|         buildapc|            183435|\n",
      "|NoStupidQuestions|             60895|\n",
      "+-----------------+------------------+\n",
      "only showing top 3 rows\n",
      "\n"
     ]
    }
   ],
   "source": [
    "df_subreddit_count.show(3)"
   ]
  },
  {
   "cell_type": "code",
   "execution_count": 34,
   "metadata": {},
   "outputs": [
    {
     "data": {
      "text/plain": [
       "(131028, 2)"
      ]
     },
     "execution_count": 34,
     "metadata": {},
     "output_type": "execute_result"
    }
   ],
   "source": [
    "df_subreddit_count.toPandas().shape"
   ]
  },
  {
   "cell_type": "markdown",
   "metadata": {},
   "source": [
    "Let us now plot the 10 most 'popular' (commented) subbreddits. As they are the ones to give us the most information in our future calculations."
   ]
  },
  {
   "cell_type": "code",
   "execution_count": 35,
   "metadata": {
    "scrolled": true
   },
   "outputs": [
    {
     "data": {
      "image/png": "[encoded data removed]",
      "text/plain": [
       "<Figure size 432x288 with 1 Axes>"
      ]
     },
     "metadata": {
      "needs_background": "light"
     },
     "output_type": "display_data"
    }
   ],
   "source": [
    "df_tmp = df_subreddit_count.toPandas().sort_values(by = \"Number_of_comments\", ascending = False).iloc[:10,:]\n",
    "df_tmp.plot(kind='barh',x = \"subreddit\", y = \"Number_of_comments\",legend = None)\n",
    "plt.title('10 most popular (commented) subbreddits')\n",
    "plt.xlabel('number of comments');\n",
    "plt.ylabel('subreddits');"
   ]
  },
  {
   "cell_type": "markdown",
   "metadata": {},
   "source": [
    "And now 10 least popular subreddits, as they will potentially be removed."
   ]
  },
  {
   "cell_type": "code",
   "execution_count": 36,
   "metadata": {},
   "outputs": [
    {
     "data": {
      "image/png": "[encoded data removed]",
      "text/plain": [
       "<Figure size 432x288 with 1 Axes>"
      ]
     },
     "metadata": {
      "needs_background": "light"
     },
     "output_type": "display_data"
    }
   ],
   "source": [
    "df_tmp = df_subreddit_count.toPandas().sort_values(by = \"Number_of_comments\", ascending = True).iloc[:10,:]\n",
    "df_tmp.plot(kind='barh',x = \"subreddit\", y = \"Number_of_comments\", legend = None);\n",
    "plt.title('10 least popular subreddits')\n",
    "plt.xlabel('number of comments');"
   ]
  },
  {
   "cell_type": "markdown",
   "metadata": {},
   "source": [
    "As we can see the last 10 all have exactly 1 comment."
   ]
  },
  {
   "cell_type": "markdown",
   "metadata": {},
   "source": [
    "Let us now try to see how many subreddits have 1 comment."
   ]
  },
  {
   "cell_type": "code",
   "execution_count": 37,
   "metadata": {},
   "outputs": [],
   "source": [
    "df_subreddit_count_pd = df_subreddit_count.toPandas()"
   ]
  },
  {
   "cell_type": "code",
   "execution_count": 38,
   "metadata": {},
   "outputs": [],
   "source": [
    "n_subreddits_per_comment = df_subreddit_count_pd.groupby('Number_of_comments').count()"
   ]
  },
  {
   "cell_type": "code",
   "execution_count": 39,
   "metadata": {},
   "outputs": [
    {
     "data": {
      "text/html": [
       "<div>\n",
       "<style scoped>\n",
       "    .dataframe tbody tr th:only-of-type {\n",
       "        vertical-align: middle;\n",
       "    }\n",
       "\n",
       "    .dataframe tbody tr th {\n",
       "        vertical-align: top;\n",
       "    }\n",
       "\n",
       "    .dataframe thead th {\n",
       "        text-align: right;\n",
       "    }\n",
       "</style>\n",
       "<table border=\"1\" class=\"dataframe\">\n",
       "  <thead>\n",
       "    <tr style=\"text-align: right;\">\n",
       "      <th></th>\n",
       "      <th>subreddit</th>\n",
       "    </tr>\n",
       "    <tr>\n",
       "      <th>Number_of_comments</th>\n",
       "      <th></th>\n",
       "    </tr>\n",
       "  </thead>\n",
       "  <tbody>\n",
       "    <tr>\n",
       "      <th>1</th>\n",
       "      <td>52023</td>\n",
       "    </tr>\n",
       "    <tr>\n",
       "      <th>2</th>\n",
       "      <td>19478</td>\n",
       "    </tr>\n",
       "    <tr>\n",
       "      <th>3</th>\n",
       "      <td>8884</td>\n",
       "    </tr>\n",
       "    <tr>\n",
       "      <th>4</th>\n",
       "      <td>5233</td>\n",
       "    </tr>\n",
       "    <tr>\n",
       "      <th>5</th>\n",
       "      <td>3648</td>\n",
       "    </tr>\n",
       "  </tbody>\n",
       "</table>\n",
       "</div>"
      ],
      "text/plain": [
       "                    subreddit\n",
       "Number_of_comments           \n",
       "1                       52023\n",
       "2                       19478\n",
       "3                        8884\n",
       "4                        5233\n",
       "5                        3648"
      ]
     },
     "execution_count": 39,
     "metadata": {},
     "output_type": "execute_result"
    }
   ],
   "source": [
    "n_subreddits_per_comment.head()"
   ]
  },
  {
   "cell_type": "code",
   "execution_count": 40,
   "metadata": {},
   "outputs": [
    {
     "data": {
      "image/png": "[encoded data removed]",
      "text/plain": [
       "<Figure size 432x288 with 1 Axes>"
      ]
     },
     "metadata": {
      "needs_background": "light"
     },
     "output_type": "display_data"
    }
   ],
   "source": [
    "n_subreddits_per_comment.hist(bins = [1,10,100,1000]);\n",
    "plt.title('Histogram showing the comment frequecy');"
   ]
  },
  {
   "cell_type": "markdown",
   "metadata": {},
   "source": [
    "As we can see a lot of the subreddits have 1 comment, hence removing these will reduce the size of our dataset."
   ]
  },
  {
   "cell_type": "markdown",
   "metadata": {},
   "source": [
    "Let us now analyze the controversiality of the comments (`script/stats.py`)"
   ]
  },
  {
   "cell_type": "code",
   "execution_count": 41,
   "metadata": {
    "scrolled": true
   },
   "outputs": [
    {
     "name": "stdout",
     "output_type": "stream",
     "text": [
      "+---------+------------------------+\n",
      "|subreddit|N_controversial_comments|\n",
      "+---------+------------------------+\n",
      "|  Roadcam|                    1820|\n",
      "|      MLS|                    2249|\n",
      "+---------+------------------------+\n",
      "only showing top 2 rows\n",
      "\n"
     ]
    }
   ],
   "source": [
    "df_controversial_per_subr_count = spark.read.parquet(DATA_DIR + \"df_controversial_per_subr_count.parquet\")\n",
    "df_controversial_per_subr_count.show(2)"
   ]
  },
  {
   "cell_type": "code",
   "execution_count": 42,
   "metadata": {},
   "outputs": [],
   "source": [
    "df_controversial_per_subr_count_pd = df_controversial_per_subr_count.toPandas()"
   ]
  },
  {
   "cell_type": "markdown",
   "metadata": {},
   "source": [
    "10 most controversial subreddits"
   ]
  },
  {
   "cell_type": "code",
   "execution_count": 43,
   "metadata": {},
   "outputs": [
    {
     "data": {
      "image/png": "[encoded data removed]",
      "text/plain": [
       "<Figure size 432x288 with 1 Axes>"
      ]
     },
     "metadata": {
      "needs_background": "light"
     },
     "output_type": "display_data"
    }
   ],
   "source": [
    "df_controversial_per_subr_count_pd.sort_values(by='N_controversial_comments',ascending=False).iloc[:10,:].plot(kind='barh',x='subreddit',y='N_controversial_comments',legend=None);\n",
    "plt.title('10 most controversial subreddits');\n",
    "plt.xlabel('Number of controversial comments');"
   ]
  },
  {
   "cell_type": "markdown",
   "metadata": {},
   "source": [
    "10 least controversial subreddits"
   ]
  },
  {
   "cell_type": "code",
   "execution_count": 44,
   "metadata": {},
   "outputs": [
    {
     "data": {
      "image/png": "[encoded data removed]",
      "text/plain": [
       "<Figure size 432x288 with 1 Axes>"
      ]
     },
     "metadata": {
      "needs_background": "light"
     },
     "output_type": "display_data"
    }
   ],
   "source": [
    "df_controversial_per_subr_count_pd.sort_values(by='N_controversial_comments',ascending=True).iloc[:10,:].plot(kind='barh',x='subreddit',y='N_controversial_comments',legend = None)\n",
    "plt.title('10 least controversial subreddits');\n",
    "plt.xlabel('number of controversial comments');"
   ]
  },
  {
   "cell_type": "code",
   "execution_count": 45,
   "metadata": {},
   "outputs": [
    {
     "data": {
      "text/plain": [
       "array([[<matplotlib.axes._subplots.AxesSubplot object at 0x0000019787B98A58>]],\n",
       "      dtype=object)"
      ]
     },
     "execution_count": 45,
     "metadata": {},
     "output_type": "execute_result"
    },
    {
     "data": {
      "image/png": "[encoded data removed]",
      "text/plain": [
       "<Figure size 432x288 with 1 Axes>"
      ]
     },
     "metadata": {
      "needs_background": "light"
     },
     "output_type": "display_data"
    }
   ],
   "source": [
    "df_controversial_per_subr_count_pd.groupby('N_controversial_comments').count().hist(bins=[1,10,100,1000])"
   ]
  },
  {
   "cell_type": "markdown",
   "metadata": {},
   "source": [
    "As we can see in the graph for most popular subbreddits (comments and controversial comments), some of the most popular subreddits are also some of the most controversial ones (askreddit, worldnews, politics,...) Hence there might be a correlation between the number of comments and controversiality."
   ]
  },
  {
   "cell_type": "code",
   "execution_count": 46,
   "metadata": {
    "scrolled": true
   },
   "outputs": [
    {
     "ename": "NameError",
     "evalue": "name 'df_corr_contr_comm' is not defined",
     "output_type": "error",
     "traceback": [
      "\u001b[1;31m---------------------------------------------------------------------------\u001b[0m",
      "\u001b[1;31mNameError\u001b[0m                                 Traceback (most recent call last)",
      "\u001b[1;32m<ipython-input-46-7459d658d0ed>\u001b[0m in \u001b[0;36m<module>\u001b[1;34m\u001b[0m\n\u001b[1;32m----> 1\u001b[1;33m \u001b[0mdf_corr_contr_comm\u001b[0m\u001b[1;33m.\u001b[0m\u001b[0mshow\u001b[0m\u001b[1;33m(\u001b[0m\u001b[1;36m3\u001b[0m\u001b[1;33m)\u001b[0m\u001b[1;33m\u001b[0m\u001b[1;33m\u001b[0m\u001b[0m\n\u001b[0m",
      "\u001b[1;31mNameError\u001b[0m: name 'df_corr_contr_comm' is not defined"
     ]
    }
   ],
   "source": [
    "df_corr_contr_comm.show(3)"
   ]
  },
  {
   "cell_type": "code",
   "execution_count": null,
   "metadata": {},
   "outputs": [],
   "source": [
    "df_corr_contr_comm.corr(\"N_controversial_comments\",\"Number_of_comments\")"
   ]
  },
  {
   "cell_type": "markdown",
   "metadata": {},
   "source": [
    "We see there is a correlation between popularity and controversiality, what could be a good factor for our analysis of the echo-chambing effect."
   ]
  },
  {
   "cell_type": "markdown",
   "metadata": {},
   "source": [
    "Let us now plot a stacked bar chart to see the ratio of controversial to non controversial comments per subreddits."
   ]
  },
  {
   "cell_type": "code",
   "execution_count": null,
   "metadata": {},
   "outputs": [],
   "source": [
    "df_created_utc = spark.read.parquet(DATA_DIR + \"df_comments_per_month.parquet\")"
   ]
  },
  {
   "cell_type": "code",
   "execution_count": null,
   "metadata": {},
   "outputs": [],
   "source": [
    "df_created_utc_pd = df_created_utc.toPandas()"
   ]
  },
  {
   "cell_type": "code",
   "execution_count": null,
   "metadata": {},
   "outputs": [],
   "source": [
    "df_created_utc_pd = df_created_utc_pd.iloc[:12,:].merge(df_created_utc_pd.iloc[12:,:], right_on = 'count', left_on = 'count')\n",
    "df_created_utc_pd = df_created_utc_pd[['month_y','month_x','count']]\n",
    "df_created_utc_pd.columns = ['month_int','month_string','n_of_comments']\n",
    "df_created_utc_pd = df_created_utc_pd.sort_values(by='month_int',ascending=True)"
   ]
  },
  {
   "cell_type": "code",
   "execution_count": null,
   "metadata": {},
   "outputs": [],
   "source": [
    "df_created_utc_controversial = spark.read.parquet(DATA_DIR + \"df_created_utc_controversial.parquet\")"
   ]
  },
  {
   "cell_type": "code",
   "execution_count": null,
   "metadata": {},
   "outputs": [],
   "source": [
    "df_created_utc_controversial_pd = df_created_utc_controversial.toPandas()\n",
    "df_created_utc_controversial_pd.sort_values(by=\"month\",ascending=True)\n",
    "df_created_utc_controversial_pd.columns = ['month_int','n_of_controversial']"
   ]
  },
  {
   "cell_type": "code",
   "execution_count": null,
   "metadata": {},
   "outputs": [],
   "source": [
    "df_created_utc_non_controversial = spark.read.parquet(DATA_DIR + \"df_created_utc_non_controversial.parquet\")"
   ]
  },
  {
   "cell_type": "code",
   "execution_count": null,
   "metadata": {},
   "outputs": [],
   "source": [
    "df_created_utc_non_controversial_pd = df_created_utc_non_controversial.toPandas()\n",
    "df_created_utc_non_controversial_pd = df_created_utc_non_controversial_pd.sort_values(by='month',ascending=True)\n",
    "df_created_utc_non_controversial_pd.columns = ['month_int','n_of_non_controversial']"
   ]
  },
  {
   "cell_type": "code",
   "execution_count": null,
   "metadata": {},
   "outputs": [],
   "source": [
    "df_created_utc_pd = df_created_utc_pd.merge(df_created_utc_controversial_pd,left_on='month_int',right_on = 'month_int')\n",
    "df_created_utc_pd = df_created_utc_pd.merge(df_created_utc_non_controversial_pd,left_on='month_int',right_on = 'month_int')"
   ]
  },
  {
   "cell_type": "code",
   "execution_count": null,
   "metadata": {},
   "outputs": [],
   "source": [
    "df_created_utc_pd"
   ]
  },
  {
   "cell_type": "code",
   "execution_count": null,
   "metadata": {
    "scrolled": true
   },
   "outputs": [],
   "source": [
    "df_created_utc_pd[['n_of_controversial','n_of_non_controversial']].plot(kind='bar', stacked=True);"
   ]
  },
  {
   "cell_type": "markdown",
   "metadata": {},
   "source": [
    "As we can see for each month in 2016 the number of non controversial comments outweigh the number of controversial comments."
   ]
  },
  {
   "cell_type": "markdown",
   "metadata": {},
   "source": [
    "### Natural Language Processing\n",
    "\n",
    "As a final step wiithin milestone 2, below are our first steps with NLP, basically trying out the sugested libraries. Here's a reference with some more libraries https://elitedatascience.com/python-nlp-libraries\n",
    "\n",
    "To use this libraries in a simple way and in order to execute queries quickly we are going to study now just the comments of one of the subreddits of the sample, \"The_Donald\"."
   ]
  },
  {
   "cell_type": "code",
   "execution_count": null,
   "metadata": {},
   "outputs": [],
   "source": [
    "df_nlp = df_pd[df_pd[\"subreddit\"] == \"The_Donald\"].sample(10000)"
   ]
  },
  {
   "cell_type": "code",
   "execution_count": null,
   "metadata": {
    "scrolled": true
   },
   "outputs": [],
   "source": [
    "df_nlp.shape"
   ]
  },
  {
   "cell_type": "markdown",
   "metadata": {},
   "source": [
    "### spaCy\n",
    "\n",
    "spaCy allows us to find named entities, thus identying the topic(s) of a post or discussion. spaCy can be found here https://spacy.io/ with instructions for installing here https://spacy.io/usage/"
   ]
  },
  {
   "cell_type": "code",
   "execution_count": null,
   "metadata": {},
   "outputs": [],
   "source": [
    "# For the installation: Execute in the anaconda prompt:\n",
    "# pip install spacy\n",
    "# python -m spacy download en_core_web_sm #(With admin permissions)\n",
    "import spacy"
   ]
  },
  {
   "cell_type": "markdown",
   "metadata": {},
   "source": [
    "spaCy features an extremely fast statistical entity recognition system, that assigns labels to contiguous spans of tokens. The default model identifies a variety of named and numeric entities, including companies, locations, organizations and products. You can add arbitrary classes to the entity recognition system, and update the model with new examples."
   ]
  },
  {
   "cell_type": "markdown",
   "metadata": {},
   "source": [
    "From this library we are going to use the \"Named Entity Recognition\" functionality:\n",
    "\n",
    "A named entity is a \"real-world object\" that's assigned a name – for example, a person, a country, a product or a book title. spaCy can recognise various types of named entities in a document, by asking the model for a prediction. Because models are statistical and strongly depend on the examples they were trained on, this doesn't always work perfectly and might need some tuning later, depending on your use case.\n",
    "\n",
    "Named entities are available as the ents property of a Doc:"
   ]
  },
  {
   "cell_type": "code",
   "execution_count": null,
   "metadata": {
    "scrolled": true
   },
   "outputs": [],
   "source": [
    "nlp = spacy.load('en_core_web_sm')\n",
    "doc = nlp(u'Apple is looking at buying U.K. startup for $1 billion')\n",
    "for ent in doc.ents:\n",
    "    print(ent.text, ent.start_char, ent.end_char, ent.label_)"
   ]
  },
  {
   "cell_type": "markdown",
   "metadata": {},
   "source": [
    "Having done this simple query, let's see which are the usuals named entities of the \"The_Donald\" subreddit comments. \n",
    "\n",
    "Note: We have done this grammatical analysis using the function npl.pipe, in order to make faster the execution."
   ]
  },
  {
   "cell_type": "code",
   "execution_count": null,
   "metadata": {},
   "outputs": [],
   "source": [
    "tags = []\n",
    "for doc in nlp.pipe(df_nlp[\"body\"].astype('unicode').values, batch_size=50,\n",
    "                        n_threads=4):\n",
    "    if doc.is_parsed:\n",
    "        tags.append([ent.label_ for ent in doc.ents])\n"
   ]
  },
  {
   "cell_type": "code",
   "execution_count": null,
   "metadata": {},
   "outputs": [],
   "source": [
    "tags = [val for sublist in tags for val in sublist]  #From a list of lists to a list"
   ]
  },
  {
   "cell_type": "code",
   "execution_count": null,
   "metadata": {
    "scrolled": true
   },
   "outputs": [],
   "source": [
    "df_npl_pd = pd.DataFrame(tags, columns=[\"tags\"])\n",
    "tags_count = df_npl_pd.tags.value_counts().sort_values(ascending=False)\n",
    "tags_count.head(5)"
   ]
  },
  {
   "cell_type": "markdown",
   "metadata": {},
   "source": [
    "So we see that the most popular tags in this subreddit are  ORG, PERSON, GPE, NORP and DATE. Below you can see the meaning of each tag:\n",
    "* PERSON\tPeople, including fictional.\n",
    "* NORP\tNationalities or religious or political groups.\n",
    "* FAC\tBuildings, airports, highways, bridges, etc.\n",
    "* ORG\tCompanies, agencies, institutions, etc.\n",
    "* GPE\tCountries, cities, states.\n",
    "* LOC\tNon-GPE locations, mountain ranges, bodies of water.\n",
    "* PRODUCT\tObjects, vehicles, foods, etc. (Not services.)\n",
    "* EVENT\tNamed hurricanes, battles, wars, sports events, etc.\n",
    "* WORK_OF_ART\tTitles of books, songs, etc.\n",
    "* LAW\tNamed documents made into laws.\n",
    "* LANGUAGE\tAny named language.\n",
    "* DATE\tAbsolute or relative dates or periods.\n",
    "* TIME\tTimes smaller than a day.\n",
    "* PERCENT\tPercentage, including \"%\".\n",
    "* MONEY\tMonetary values, including unit.\n",
    "* QUANTITY\tMeasurements, as of weight or distance.\n",
    "* ORDINAL\t\"first\", \"second\", etc.\n",
    "* CARDINAL\tNumerals that do not fall under another type."
   ]
  },
  {
   "cell_type": "markdown",
   "metadata": {},
   "source": [
    "Finally we plot the appearances of each tag in the sample studied:"
   ]
  },
  {
   "cell_type": "code",
   "execution_count": null,
   "metadata": {},
   "outputs": [],
   "source": [
    "df_tags_count = pd.DataFrame(tags_count).reset_index()\n",
    "df_tags_count.columns=[\"Tags\", \"Appearances\"]\n",
    "df_tags_count.set_index(\"Tags\")\n",
    "\n",
    "df_tags_count.plot(kind=\"barh\", x = \"Tags\", y = \"Appearances\")"
   ]
  },
  {
   "cell_type": "markdown",
   "metadata": {},
   "source": [
    "### TextBlob\n",
    "\n",
    "TextBlob allows for sentiment analysis, translation, and more\n",
    "\n",
    "TextBlob can be found here https://textblob.readthedocs.io/en/dev/ with installation instructions here https://textblob.readthedocs.io/en/dev/install.html"
   ]
  },
  {
   "cell_type": "code",
   "execution_count": null,
   "metadata": {},
   "outputs": [],
   "source": [
    "from textblob import TextBlob"
   ]
  },
  {
   "cell_type": "markdown",
   "metadata": {},
   "source": [
    "We try the sentiment analysis this library offers:"
   ]
  },
  {
   "cell_type": "markdown",
   "metadata": {},
   "source": [
    "The sentiment property returns a namedtuple of the form Sentiment(polarity, subjectivity). The polarity score is a float within the range [-1.0, 1.0]. The subjectivity is a float within the range [0.0, 1.0] where 0.0 is very objective and 1.0 is very subjective.\n",
    "```\n",
    " testimonial = TextBlob(\"Textblob is amazingly simple to use. What great fun!\")\n",
    " testimonial.sentiment\n",
    " Output: Sentiment(polarity=0.39166666666666666, subjectivity=0.4357142857142857)\n",
    " testimonial.sentiment.polarity\n",
    "0.39166666666666666\n",
    "\n",
    "```"
   ]
  },
  {
   "cell_type": "markdown",
   "metadata": {},
   "source": [
    "Now let's try to see how is the sentiment analysis of the \"The_Donald\" subreddit comments. We have added two columns to the original data frame, one with the polarity measured and the other with the other with the subjectivity."
   ]
  },
  {
   "cell_type": "code",
   "execution_count": null,
   "metadata": {},
   "outputs": [],
   "source": [
    "df_nlp['sentiment_polarity'] = df_nlp[\"body\"].apply(lambda com: TextBlob(str(com)).sentiment.polarity)\n",
    "df_nlp['sentiment_subjectivity'] = df_nlp[\"body\"].apply(lambda com: TextBlob(str(com)).sentiment.subjectivity)"
   ]
  },
  {
   "cell_type": "code",
   "execution_count": null,
   "metadata": {
    "scrolled": false
   },
   "outputs": [],
   "source": [
    "df_nlp.head(2)"
   ]
  },
  {
   "cell_type": "markdown",
   "metadata": {},
   "source": [
    "Finally, we plot the distribution of both polarity and subjectivity.   \n",
    "\n",
    "Reminder: The polarity score is a float within the range [-1.0, 1.0]. The subjectivity is a float within the range [0.0, 1.0] where 0.0 is very objective and 1.0 is very subjective."
   ]
  },
  {
   "cell_type": "code",
   "execution_count": null,
   "metadata": {
    "scrolled": true
   },
   "outputs": [],
   "source": [
    "df_nlp['sentiment_polarity'].hist()"
   ]
  },
  {
   "cell_type": "markdown",
   "metadata": {},
   "source": [
    "With the polarity distribution we check that most of the comments usually are no so polarized. However there is a considerable amount of comments polarized. "
   ]
  },
  {
   "cell_type": "code",
   "execution_count": null,
   "metadata": {},
   "outputs": [],
   "source": [
    "df_nlp['sentiment_subjectivity'].hist()"
   ]
  },
  {
   "cell_type": "markdown",
   "metadata": {},
   "source": [
    "With the subjectivity distribution we also see that there are lots of comments which are somehow subjectives, although the most common is not being subjective."
   ]
  },
  {
   "cell_type": "markdown",
   "metadata": {},
   "source": [
    "# Trying to do the graph"
   ]
  },
  {
   "cell_type": "code",
   "execution_count": 49,
   "metadata": {},
   "outputs": [],
   "source": [
    "df_subreddit_users = df_spark.select('subreddit','author','id').groupby('subreddit') \\\n",
    "                                .agg(collect_set('author').alias('users'),count('id').alias('number_of_posts')) \\\n",
    "                                .filter('number_of_posts > 1000') \\\n",
    "                                .orderBy(asc('subreddit'))\n",
    "\n",
    "df = df_subreddit_users.toPandas()  #NECCESARY FOR A NEXT QUERY\n",
    "\n",
    "adjacency_matrix = np.zeros([df.shape[0],df.shape[0]])\n",
    "\n",
    "for i in range(df.shape[0]):\n",
    "    for j in range(df.shape[0]):\n",
    "        if i == j:\n",
    "            adjacency_matrix[i,j] = 0\n",
    "        else:\n",
    "            subb1_users = set(df.iloc[i]['users'])\n",
    "            subb2_users = set(df.iloc[j]['users'])\n",
    "            n_common_users = len(subb1_users.intersection(subb2_users))\n",
    "            adjacency_matrix[i,j] = n_common_users\n",
    "\n",
    "df_adj = pd.DataFrame(adjacency_matrix)"
   ]
  },
  {
   "cell_type": "code",
   "execution_count": 50,
   "metadata": {
    "scrolled": true
   },
   "outputs": [
    {
     "data": {
      "text/html": [
       "<div>\n",
       "<style scoped>\n",
       "    .dataframe tbody tr th:only-of-type {\n",
       "        vertical-align: middle;\n",
       "    }\n",
       "\n",
       "    .dataframe tbody tr th {\n",
       "        vertical-align: top;\n",
       "    }\n",
       "\n",
       "    .dataframe thead th {\n",
       "        text-align: right;\n",
       "    }\n",
       "</style>\n",
       "<table border=\"1\" class=\"dataframe\">\n",
       "  <thead>\n",
       "    <tr style=\"text-align: right;\">\n",
       "      <th></th>\n",
       "      <th>subreddit</th>\n",
       "      <th>users</th>\n",
       "      <th>number_of_posts</th>\n",
       "    </tr>\n",
       "  </thead>\n",
       "  <tbody>\n",
       "    <tr>\n",
       "      <th>0</th>\n",
       "      <td>2007scape</td>\n",
       "      <td>[Eth111, kurtpal, NoobsHateOnOtherGame, ballid...</td>\n",
       "      <td>3136</td>\n",
       "    </tr>\n",
       "    <tr>\n",
       "      <th>1</th>\n",
       "      <td>3dshacks</td>\n",
       "      <td>[sickneckbeardbro, Deviljho_Lover, schwing-, b...</td>\n",
       "      <td>1243</td>\n",
       "    </tr>\n",
       "    <tr>\n",
       "      <th>2</th>\n",
       "      <td>AdviceAnimals</td>\n",
       "      <td>[doyourworkidiot, niuguy, 707RiverRat, anoncra...</td>\n",
       "      <td>3641</td>\n",
       "    </tr>\n",
       "  </tbody>\n",
       "</table>\n",
       "</div>"
      ],
      "text/plain": [
       "       subreddit                                              users  \\\n",
       "0      2007scape  [Eth111, kurtpal, NoobsHateOnOtherGame, ballid...   \n",
       "1       3dshacks  [sickneckbeardbro, Deviljho_Lover, schwing-, b...   \n",
       "2  AdviceAnimals  [doyourworkidiot, niuguy, 707RiverRat, anoncra...   \n",
       "\n",
       "   number_of_posts  \n",
       "0             3136  \n",
       "1             1243  \n",
       "2             3641  "
      ]
     },
     "execution_count": 50,
     "metadata": {},
     "output_type": "execute_result"
    }
   ],
   "source": [
    "df.head(3)"
   ]
  },
  {
   "cell_type": "code",
   "execution_count": 51,
   "metadata": {},
   "outputs": [],
   "source": [
    "subreddit_list = df[\"subreddit\"].tolist()"
   ]
  },
  {
   "cell_type": "code",
   "execution_count": 52,
   "metadata": {
    "scrolled": true
   },
   "outputs": [],
   "source": [
    "df_adj.columns = subreddit_list"
   ]
  },
  {
   "cell_type": "code",
   "execution_count": 53,
   "metadata": {},
   "outputs": [
    {
     "data": {
      "text/html": [
       "<div>\n",
       "<style scoped>\n",
       "    .dataframe tbody tr th:only-of-type {\n",
       "        vertical-align: middle;\n",
       "    }\n",
       "\n",
       "    .dataframe tbody tr th {\n",
       "        vertical-align: top;\n",
       "    }\n",
       "\n",
       "    .dataframe thead th {\n",
       "        text-align: right;\n",
       "    }\n",
       "</style>\n",
       "<table border=\"1\" class=\"dataframe\">\n",
       "  <thead>\n",
       "    <tr style=\"text-align: right;\">\n",
       "      <th></th>\n",
       "      <th>2007scape</th>\n",
       "      <th>3dshacks</th>\n",
       "      <th>AdviceAnimals</th>\n",
       "      <th>Amd</th>\n",
       "      <th>Android</th>\n",
       "      <th>AskMen</th>\n",
       "      <th>AskReddit</th>\n",
       "      <th>AskWomen</th>\n",
       "      <th>Bitcoin</th>\n",
       "      <th>BlackPeopleTwitter</th>\n",
       "      <th>...</th>\n",
       "      <th>titanfall</th>\n",
       "      <th>todayilearned</th>\n",
       "      <th>trees</th>\n",
       "      <th>ukpolitics</th>\n",
       "      <th>unitedkingdom</th>\n",
       "      <th>videos</th>\n",
       "      <th>wholesomememes</th>\n",
       "      <th>worldnews</th>\n",
       "      <th>wow</th>\n",
       "      <th>xboxone</th>\n",
       "    </tr>\n",
       "    <tr>\n",
       "      <th>subreddits</th>\n",
       "      <th></th>\n",
       "      <th></th>\n",
       "      <th></th>\n",
       "      <th></th>\n",
       "      <th></th>\n",
       "      <th></th>\n",
       "      <th></th>\n",
       "      <th></th>\n",
       "      <th></th>\n",
       "      <th></th>\n",
       "      <th></th>\n",
       "      <th></th>\n",
       "      <th></th>\n",
       "      <th></th>\n",
       "      <th></th>\n",
       "      <th></th>\n",
       "      <th></th>\n",
       "      <th></th>\n",
       "      <th></th>\n",
       "      <th></th>\n",
       "      <th></th>\n",
       "    </tr>\n",
       "  </thead>\n",
       "  <tbody>\n",
       "    <tr>\n",
       "      <th>2007scape</th>\n",
       "      <td>0.0</td>\n",
       "      <td>2.0</td>\n",
       "      <td>8.0</td>\n",
       "      <td>1.0</td>\n",
       "      <td>3.0</td>\n",
       "      <td>3.0</td>\n",
       "      <td>47.0</td>\n",
       "      <td>1.0</td>\n",
       "      <td>4.0</td>\n",
       "      <td>10.0</td>\n",
       "      <td>...</td>\n",
       "      <td>4.0</td>\n",
       "      <td>7.0</td>\n",
       "      <td>3.0</td>\n",
       "      <td>1.0</td>\n",
       "      <td>2.0</td>\n",
       "      <td>8.0</td>\n",
       "      <td>5.0</td>\n",
       "      <td>13.0</td>\n",
       "      <td>8.0</td>\n",
       "      <td>5.0</td>\n",
       "    </tr>\n",
       "    <tr>\n",
       "      <th>3dshacks</th>\n",
       "      <td>2.0</td>\n",
       "      <td>0.0</td>\n",
       "      <td>4.0</td>\n",
       "      <td>1.0</td>\n",
       "      <td>6.0</td>\n",
       "      <td>2.0</td>\n",
       "      <td>16.0</td>\n",
       "      <td>1.0</td>\n",
       "      <td>2.0</td>\n",
       "      <td>4.0</td>\n",
       "      <td>...</td>\n",
       "      <td>2.0</td>\n",
       "      <td>3.0</td>\n",
       "      <td>2.0</td>\n",
       "      <td>2.0</td>\n",
       "      <td>2.0</td>\n",
       "      <td>5.0</td>\n",
       "      <td>2.0</td>\n",
       "      <td>4.0</td>\n",
       "      <td>3.0</td>\n",
       "      <td>5.0</td>\n",
       "    </tr>\n",
       "    <tr>\n",
       "      <th>AdviceAnimals</th>\n",
       "      <td>8.0</td>\n",
       "      <td>4.0</td>\n",
       "      <td>0.0</td>\n",
       "      <td>3.0</td>\n",
       "      <td>15.0</td>\n",
       "      <td>19.0</td>\n",
       "      <td>439.0</td>\n",
       "      <td>6.0</td>\n",
       "      <td>3.0</td>\n",
       "      <td>31.0</td>\n",
       "      <td>...</td>\n",
       "      <td>5.0</td>\n",
       "      <td>158.0</td>\n",
       "      <td>23.0</td>\n",
       "      <td>3.0</td>\n",
       "      <td>9.0</td>\n",
       "      <td>102.0</td>\n",
       "      <td>16.0</td>\n",
       "      <td>136.0</td>\n",
       "      <td>16.0</td>\n",
       "      <td>9.0</td>\n",
       "    </tr>\n",
       "    <tr>\n",
       "      <th>Amd</th>\n",
       "      <td>1.0</td>\n",
       "      <td>1.0</td>\n",
       "      <td>3.0</td>\n",
       "      <td>0.0</td>\n",
       "      <td>7.0</td>\n",
       "      <td>4.0</td>\n",
       "      <td>45.0</td>\n",
       "      <td>2.0</td>\n",
       "      <td>4.0</td>\n",
       "      <td>2.0</td>\n",
       "      <td>...</td>\n",
       "      <td>1.0</td>\n",
       "      <td>15.0</td>\n",
       "      <td>1.0</td>\n",
       "      <td>5.0</td>\n",
       "      <td>4.0</td>\n",
       "      <td>5.0</td>\n",
       "      <td>2.0</td>\n",
       "      <td>13.0</td>\n",
       "      <td>3.0</td>\n",
       "      <td>3.0</td>\n",
       "    </tr>\n",
       "    <tr>\n",
       "      <th>Android</th>\n",
       "      <td>3.0</td>\n",
       "      <td>6.0</td>\n",
       "      <td>15.0</td>\n",
       "      <td>7.0</td>\n",
       "      <td>0.0</td>\n",
       "      <td>8.0</td>\n",
       "      <td>89.0</td>\n",
       "      <td>1.0</td>\n",
       "      <td>6.0</td>\n",
       "      <td>8.0</td>\n",
       "      <td>...</td>\n",
       "      <td>5.0</td>\n",
       "      <td>28.0</td>\n",
       "      <td>5.0</td>\n",
       "      <td>1.0</td>\n",
       "      <td>4.0</td>\n",
       "      <td>26.0</td>\n",
       "      <td>7.0</td>\n",
       "      <td>26.0</td>\n",
       "      <td>2.0</td>\n",
       "      <td>7.0</td>\n",
       "    </tr>\n",
       "    <tr>\n",
       "      <th>AskMen</th>\n",
       "      <td>3.0</td>\n",
       "      <td>2.0</td>\n",
       "      <td>19.0</td>\n",
       "      <td>4.0</td>\n",
       "      <td>8.0</td>\n",
       "      <td>0.0</td>\n",
       "      <td>222.0</td>\n",
       "      <td>43.0</td>\n",
       "      <td>1.0</td>\n",
       "      <td>11.0</td>\n",
       "      <td>...</td>\n",
       "      <td>3.0</td>\n",
       "      <td>29.0</td>\n",
       "      <td>8.0</td>\n",
       "      <td>4.0</td>\n",
       "      <td>7.0</td>\n",
       "      <td>26.0</td>\n",
       "      <td>4.0</td>\n",
       "      <td>33.0</td>\n",
       "      <td>5.0</td>\n",
       "      <td>3.0</td>\n",
       "    </tr>\n",
       "    <tr>\n",
       "      <th>AskReddit</th>\n",
       "      <td>47.0</td>\n",
       "      <td>16.0</td>\n",
       "      <td>439.0</td>\n",
       "      <td>45.0</td>\n",
       "      <td>89.0</td>\n",
       "      <td>222.0</td>\n",
       "      <td>0.0</td>\n",
       "      <td>164.0</td>\n",
       "      <td>29.0</td>\n",
       "      <td>176.0</td>\n",
       "      <td>...</td>\n",
       "      <td>37.0</td>\n",
       "      <td>1177.0</td>\n",
       "      <td>149.0</td>\n",
       "      <td>34.0</td>\n",
       "      <td>84.0</td>\n",
       "      <td>818.0</td>\n",
       "      <td>104.0</td>\n",
       "      <td>903.0</td>\n",
       "      <td>75.0</td>\n",
       "      <td>64.0</td>\n",
       "    </tr>\n",
       "    <tr>\n",
       "      <th>AskWomen</th>\n",
       "      <td>1.0</td>\n",
       "      <td>1.0</td>\n",
       "      <td>6.0</td>\n",
       "      <td>2.0</td>\n",
       "      <td>1.0</td>\n",
       "      <td>43.0</td>\n",
       "      <td>164.0</td>\n",
       "      <td>0.0</td>\n",
       "      <td>2.0</td>\n",
       "      <td>2.0</td>\n",
       "      <td>...</td>\n",
       "      <td>1.0</td>\n",
       "      <td>10.0</td>\n",
       "      <td>6.0</td>\n",
       "      <td>2.0</td>\n",
       "      <td>2.0</td>\n",
       "      <td>8.0</td>\n",
       "      <td>2.0</td>\n",
       "      <td>7.0</td>\n",
       "      <td>2.0</td>\n",
       "      <td>1.0</td>\n",
       "    </tr>\n",
       "    <tr>\n",
       "      <th>Bitcoin</th>\n",
       "      <td>4.0</td>\n",
       "      <td>2.0</td>\n",
       "      <td>3.0</td>\n",
       "      <td>4.0</td>\n",
       "      <td>6.0</td>\n",
       "      <td>1.0</td>\n",
       "      <td>29.0</td>\n",
       "      <td>2.0</td>\n",
       "      <td>0.0</td>\n",
       "      <td>1.0</td>\n",
       "      <td>...</td>\n",
       "      <td>3.0</td>\n",
       "      <td>13.0</td>\n",
       "      <td>6.0</td>\n",
       "      <td>3.0</td>\n",
       "      <td>2.0</td>\n",
       "      <td>13.0</td>\n",
       "      <td>2.0</td>\n",
       "      <td>22.0</td>\n",
       "      <td>1.0</td>\n",
       "      <td>2.0</td>\n",
       "    </tr>\n",
       "    <tr>\n",
       "      <th>BlackPeopleTwitter</th>\n",
       "      <td>10.0</td>\n",
       "      <td>4.0</td>\n",
       "      <td>31.0</td>\n",
       "      <td>2.0</td>\n",
       "      <td>8.0</td>\n",
       "      <td>11.0</td>\n",
       "      <td>176.0</td>\n",
       "      <td>2.0</td>\n",
       "      <td>1.0</td>\n",
       "      <td>0.0</td>\n",
       "      <td>...</td>\n",
       "      <td>3.0</td>\n",
       "      <td>52.0</td>\n",
       "      <td>10.0</td>\n",
       "      <td>3.0</td>\n",
       "      <td>5.0</td>\n",
       "      <td>46.0</td>\n",
       "      <td>20.0</td>\n",
       "      <td>52.0</td>\n",
       "      <td>4.0</td>\n",
       "      <td>7.0</td>\n",
       "    </tr>\n",
       "    <tr>\n",
       "      <th>CFB</th>\n",
       "      <td>7.0</td>\n",
       "      <td>4.0</td>\n",
       "      <td>33.0</td>\n",
       "      <td>4.0</td>\n",
       "      <td>11.0</td>\n",
       "      <td>19.0</td>\n",
       "      <td>235.0</td>\n",
       "      <td>3.0</td>\n",
       "      <td>3.0</td>\n",
       "      <td>26.0</td>\n",
       "      <td>...</td>\n",
       "      <td>3.0</td>\n",
       "      <td>67.0</td>\n",
       "      <td>8.0</td>\n",
       "      <td>2.0</td>\n",
       "      <td>3.0</td>\n",
       "      <td>45.0</td>\n",
       "      <td>9.0</td>\n",
       "      <td>70.0</td>\n",
       "      <td>15.0</td>\n",
       "      <td>11.0</td>\n",
       "    </tr>\n",
       "    <tr>\n",
       "      <th>CFBOffTopic</th>\n",
       "      <td>2.0</td>\n",
       "      <td>2.0</td>\n",
       "      <td>2.0</td>\n",
       "      <td>1.0</td>\n",
       "      <td>2.0</td>\n",
       "      <td>2.0</td>\n",
       "      <td>4.0</td>\n",
       "      <td>1.0</td>\n",
       "      <td>1.0</td>\n",
       "      <td>2.0</td>\n",
       "      <td>...</td>\n",
       "      <td>2.0</td>\n",
       "      <td>3.0</td>\n",
       "      <td>2.0</td>\n",
       "      <td>1.0</td>\n",
       "      <td>1.0</td>\n",
       "      <td>2.0</td>\n",
       "      <td>2.0</td>\n",
       "      <td>2.0</td>\n",
       "      <td>2.0</td>\n",
       "      <td>2.0</td>\n",
       "    </tr>\n",
       "    <tr>\n",
       "      <th>CasualConversation</th>\n",
       "      <td>2.0</td>\n",
       "      <td>3.0</td>\n",
       "      <td>10.0</td>\n",
       "      <td>1.0</td>\n",
       "      <td>5.0</td>\n",
       "      <td>15.0</td>\n",
       "      <td>114.0</td>\n",
       "      <td>12.0</td>\n",
       "      <td>1.0</td>\n",
       "      <td>7.0</td>\n",
       "      <td>...</td>\n",
       "      <td>2.0</td>\n",
       "      <td>13.0</td>\n",
       "      <td>4.0</td>\n",
       "      <td>2.0</td>\n",
       "      <td>4.0</td>\n",
       "      <td>11.0</td>\n",
       "      <td>8.0</td>\n",
       "      <td>13.0</td>\n",
       "      <td>4.0</td>\n",
       "      <td>2.0</td>\n",
       "    </tr>\n",
       "    <tr>\n",
       "      <th>Christianity</th>\n",
       "      <td>2.0</td>\n",
       "      <td>2.0</td>\n",
       "      <td>3.0</td>\n",
       "      <td>1.0</td>\n",
       "      <td>2.0</td>\n",
       "      <td>4.0</td>\n",
       "      <td>45.0</td>\n",
       "      <td>3.0</td>\n",
       "      <td>2.0</td>\n",
       "      <td>2.0</td>\n",
       "      <td>...</td>\n",
       "      <td>2.0</td>\n",
       "      <td>9.0</td>\n",
       "      <td>2.0</td>\n",
       "      <td>1.0</td>\n",
       "      <td>2.0</td>\n",
       "      <td>4.0</td>\n",
       "      <td>2.0</td>\n",
       "      <td>13.0</td>\n",
       "      <td>3.0</td>\n",
       "      <td>2.0</td>\n",
       "    </tr>\n",
       "    <tr>\n",
       "      <th>ClashRoyale</th>\n",
       "      <td>5.0</td>\n",
       "      <td>2.0</td>\n",
       "      <td>3.0</td>\n",
       "      <td>2.0</td>\n",
       "      <td>4.0</td>\n",
       "      <td>3.0</td>\n",
       "      <td>30.0</td>\n",
       "      <td>1.0</td>\n",
       "      <td>1.0</td>\n",
       "      <td>4.0</td>\n",
       "      <td>...</td>\n",
       "      <td>6.0</td>\n",
       "      <td>9.0</td>\n",
       "      <td>3.0</td>\n",
       "      <td>3.0</td>\n",
       "      <td>2.0</td>\n",
       "      <td>10.0</td>\n",
       "      <td>5.0</td>\n",
       "      <td>6.0</td>\n",
       "      <td>3.0</td>\n",
       "      <td>4.0</td>\n",
       "    </tr>\n",
       "    <tr>\n",
       "      <th>CollegeBasketball</th>\n",
       "      <td>5.0</td>\n",
       "      <td>1.0</td>\n",
       "      <td>6.0</td>\n",
       "      <td>2.0</td>\n",
       "      <td>1.0</td>\n",
       "      <td>5.0</td>\n",
       "      <td>64.0</td>\n",
       "      <td>1.0</td>\n",
       "      <td>3.0</td>\n",
       "      <td>6.0</td>\n",
       "      <td>...</td>\n",
       "      <td>3.0</td>\n",
       "      <td>11.0</td>\n",
       "      <td>1.0</td>\n",
       "      <td>2.0</td>\n",
       "      <td>1.0</td>\n",
       "      <td>16.0</td>\n",
       "      <td>1.0</td>\n",
       "      <td>15.0</td>\n",
       "      <td>2.0</td>\n",
       "      <td>2.0</td>\n",
       "    </tr>\n",
       "    <tr>\n",
       "      <th>Competitiveoverwatch</th>\n",
       "      <td>2.0</td>\n",
       "      <td>3.0</td>\n",
       "      <td>2.0</td>\n",
       "      <td>3.0</td>\n",
       "      <td>5.0</td>\n",
       "      <td>2.0</td>\n",
       "      <td>24.0</td>\n",
       "      <td>2.0</td>\n",
       "      <td>2.0</td>\n",
       "      <td>4.0</td>\n",
       "      <td>...</td>\n",
       "      <td>2.0</td>\n",
       "      <td>9.0</td>\n",
       "      <td>2.0</td>\n",
       "      <td>1.0</td>\n",
       "      <td>1.0</td>\n",
       "      <td>9.0</td>\n",
       "      <td>3.0</td>\n",
       "      <td>6.0</td>\n",
       "      <td>5.0</td>\n",
       "      <td>2.0</td>\n",
       "    </tr>\n",
       "    <tr>\n",
       "      <th>Cricket</th>\n",
       "      <td>2.0</td>\n",
       "      <td>4.0</td>\n",
       "      <td>2.0</td>\n",
       "      <td>1.0</td>\n",
       "      <td>2.0</td>\n",
       "      <td>4.0</td>\n",
       "      <td>26.0</td>\n",
       "      <td>1.0</td>\n",
       "      <td>2.0</td>\n",
       "      <td>5.0</td>\n",
       "      <td>...</td>\n",
       "      <td>2.0</td>\n",
       "      <td>11.0</td>\n",
       "      <td>2.0</td>\n",
       "      <td>5.0</td>\n",
       "      <td>1.0</td>\n",
       "      <td>6.0</td>\n",
       "      <td>2.0</td>\n",
       "      <td>13.0</td>\n",
       "      <td>3.0</td>\n",
       "      <td>2.0</td>\n",
       "    </tr>\n",
       "    <tr>\n",
       "      <th>CringeAnarchy</th>\n",
       "      <td>6.0</td>\n",
       "      <td>3.0</td>\n",
       "      <td>32.0</td>\n",
       "      <td>4.0</td>\n",
       "      <td>5.0</td>\n",
       "      <td>9.0</td>\n",
       "      <td>148.0</td>\n",
       "      <td>4.0</td>\n",
       "      <td>2.0</td>\n",
       "      <td>23.0</td>\n",
       "      <td>...</td>\n",
       "      <td>9.0</td>\n",
       "      <td>56.0</td>\n",
       "      <td>12.0</td>\n",
       "      <td>1.0</td>\n",
       "      <td>4.0</td>\n",
       "      <td>24.0</td>\n",
       "      <td>8.0</td>\n",
       "      <td>54.0</td>\n",
       "      <td>8.0</td>\n",
       "      <td>8.0</td>\n",
       "    </tr>\n",
       "    <tr>\n",
       "      <th>DBZDokkanBattle</th>\n",
       "      <td>2.0</td>\n",
       "      <td>2.0</td>\n",
       "      <td>5.0</td>\n",
       "      <td>1.0</td>\n",
       "      <td>2.0</td>\n",
       "      <td>2.0</td>\n",
       "      <td>12.0</td>\n",
       "      <td>1.0</td>\n",
       "      <td>1.0</td>\n",
       "      <td>2.0</td>\n",
       "      <td>...</td>\n",
       "      <td>2.0</td>\n",
       "      <td>3.0</td>\n",
       "      <td>2.0</td>\n",
       "      <td>1.0</td>\n",
       "      <td>1.0</td>\n",
       "      <td>2.0</td>\n",
       "      <td>2.0</td>\n",
       "      <td>2.0</td>\n",
       "      <td>2.0</td>\n",
       "      <td>2.0</td>\n",
       "    </tr>\n",
       "    <tr>\n",
       "      <th>DestinyTheGame</th>\n",
       "      <td>2.0</td>\n",
       "      <td>1.0</td>\n",
       "      <td>3.0</td>\n",
       "      <td>1.0</td>\n",
       "      <td>5.0</td>\n",
       "      <td>1.0</td>\n",
       "      <td>65.0</td>\n",
       "      <td>1.0</td>\n",
       "      <td>1.0</td>\n",
       "      <td>5.0</td>\n",
       "      <td>...</td>\n",
       "      <td>9.0</td>\n",
       "      <td>7.0</td>\n",
       "      <td>2.0</td>\n",
       "      <td>1.0</td>\n",
       "      <td>1.0</td>\n",
       "      <td>4.0</td>\n",
       "      <td>2.0</td>\n",
       "      <td>7.0</td>\n",
       "      <td>4.0</td>\n",
       "      <td>14.0</td>\n",
       "    </tr>\n",
       "    <tr>\n",
       "      <th>DnD</th>\n",
       "      <td>2.0</td>\n",
       "      <td>2.0</td>\n",
       "      <td>6.0</td>\n",
       "      <td>2.0</td>\n",
       "      <td>3.0</td>\n",
       "      <td>4.0</td>\n",
       "      <td>74.0</td>\n",
       "      <td>1.0</td>\n",
       "      <td>1.0</td>\n",
       "      <td>4.0</td>\n",
       "      <td>...</td>\n",
       "      <td>2.0</td>\n",
       "      <td>15.0</td>\n",
       "      <td>3.0</td>\n",
       "      <td>1.0</td>\n",
       "      <td>1.0</td>\n",
       "      <td>8.0</td>\n",
       "      <td>7.0</td>\n",
       "      <td>14.0</td>\n",
       "      <td>2.0</td>\n",
       "      <td>2.0</td>\n",
       "    </tr>\n",
       "    <tr>\n",
       "      <th>Documentaries</th>\n",
       "      <td>3.0</td>\n",
       "      <td>3.0</td>\n",
       "      <td>19.0</td>\n",
       "      <td>3.0</td>\n",
       "      <td>4.0</td>\n",
       "      <td>9.0</td>\n",
       "      <td>121.0</td>\n",
       "      <td>2.0</td>\n",
       "      <td>3.0</td>\n",
       "      <td>6.0</td>\n",
       "      <td>...</td>\n",
       "      <td>3.0</td>\n",
       "      <td>55.0</td>\n",
       "      <td>11.0</td>\n",
       "      <td>3.0</td>\n",
       "      <td>5.0</td>\n",
       "      <td>49.0</td>\n",
       "      <td>5.0</td>\n",
       "      <td>80.0</td>\n",
       "      <td>4.0</td>\n",
       "      <td>2.0</td>\n",
       "    </tr>\n",
       "    <tr>\n",
       "      <th>DotA2</th>\n",
       "      <td>7.0</td>\n",
       "      <td>4.0</td>\n",
       "      <td>10.0</td>\n",
       "      <td>7.0</td>\n",
       "      <td>8.0</td>\n",
       "      <td>5.0</td>\n",
       "      <td>64.0</td>\n",
       "      <td>2.0</td>\n",
       "      <td>3.0</td>\n",
       "      <td>9.0</td>\n",
       "      <td>...</td>\n",
       "      <td>6.0</td>\n",
       "      <td>21.0</td>\n",
       "      <td>3.0</td>\n",
       "      <td>3.0</td>\n",
       "      <td>3.0</td>\n",
       "      <td>22.0</td>\n",
       "      <td>6.0</td>\n",
       "      <td>26.0</td>\n",
       "      <td>8.0</td>\n",
       "      <td>4.0</td>\n",
       "    </tr>\n",
       "    <tr>\n",
       "      <th>Drugs</th>\n",
       "      <td>4.0</td>\n",
       "      <td>2.0</td>\n",
       "      <td>7.0</td>\n",
       "      <td>2.0</td>\n",
       "      <td>2.0</td>\n",
       "      <td>4.0</td>\n",
       "      <td>61.0</td>\n",
       "      <td>3.0</td>\n",
       "      <td>3.0</td>\n",
       "      <td>7.0</td>\n",
       "      <td>...</td>\n",
       "      <td>2.0</td>\n",
       "      <td>14.0</td>\n",
       "      <td>28.0</td>\n",
       "      <td>1.0</td>\n",
       "      <td>1.0</td>\n",
       "      <td>12.0</td>\n",
       "      <td>3.0</td>\n",
       "      <td>18.0</td>\n",
       "      <td>3.0</td>\n",
       "      <td>3.0</td>\n",
       "    </tr>\n",
       "    <tr>\n",
       "      <th>EliteDangerous</th>\n",
       "      <td>2.0</td>\n",
       "      <td>3.0</td>\n",
       "      <td>7.0</td>\n",
       "      <td>4.0</td>\n",
       "      <td>4.0</td>\n",
       "      <td>2.0</td>\n",
       "      <td>38.0</td>\n",
       "      <td>1.0</td>\n",
       "      <td>4.0</td>\n",
       "      <td>3.0</td>\n",
       "      <td>...</td>\n",
       "      <td>6.0</td>\n",
       "      <td>11.0</td>\n",
       "      <td>6.0</td>\n",
       "      <td>4.0</td>\n",
       "      <td>5.0</td>\n",
       "      <td>10.0</td>\n",
       "      <td>4.0</td>\n",
       "      <td>20.0</td>\n",
       "      <td>3.0</td>\n",
       "      <td>9.0</td>\n",
       "    </tr>\n",
       "    <tr>\n",
       "      <th>EnoughTrumpSpam</th>\n",
       "      <td>6.0</td>\n",
       "      <td>3.0</td>\n",
       "      <td>19.0</td>\n",
       "      <td>4.0</td>\n",
       "      <td>2.0</td>\n",
       "      <td>7.0</td>\n",
       "      <td>89.0</td>\n",
       "      <td>2.0</td>\n",
       "      <td>3.0</td>\n",
       "      <td>17.0</td>\n",
       "      <td>...</td>\n",
       "      <td>2.0</td>\n",
       "      <td>40.0</td>\n",
       "      <td>3.0</td>\n",
       "      <td>4.0</td>\n",
       "      <td>4.0</td>\n",
       "      <td>22.0</td>\n",
       "      <td>7.0</td>\n",
       "      <td>61.0</td>\n",
       "      <td>2.0</td>\n",
       "      <td>4.0</td>\n",
       "    </tr>\n",
       "    <tr>\n",
       "      <th>Eve</th>\n",
       "      <td>3.0</td>\n",
       "      <td>3.0</td>\n",
       "      <td>3.0</td>\n",
       "      <td>1.0</td>\n",
       "      <td>3.0</td>\n",
       "      <td>2.0</td>\n",
       "      <td>31.0</td>\n",
       "      <td>1.0</td>\n",
       "      <td>2.0</td>\n",
       "      <td>4.0</td>\n",
       "      <td>...</td>\n",
       "      <td>3.0</td>\n",
       "      <td>14.0</td>\n",
       "      <td>3.0</td>\n",
       "      <td>5.0</td>\n",
       "      <td>3.0</td>\n",
       "      <td>9.0</td>\n",
       "      <td>3.0</td>\n",
       "      <td>9.0</td>\n",
       "      <td>4.0</td>\n",
       "      <td>2.0</td>\n",
       "    </tr>\n",
       "    <tr>\n",
       "      <th>FFBraveExvius</th>\n",
       "      <td>2.0</td>\n",
       "      <td>3.0</td>\n",
       "      <td>4.0</td>\n",
       "      <td>1.0</td>\n",
       "      <td>2.0</td>\n",
       "      <td>4.0</td>\n",
       "      <td>11.0</td>\n",
       "      <td>1.0</td>\n",
       "      <td>1.0</td>\n",
       "      <td>3.0</td>\n",
       "      <td>...</td>\n",
       "      <td>2.0</td>\n",
       "      <td>3.0</td>\n",
       "      <td>4.0</td>\n",
       "      <td>1.0</td>\n",
       "      <td>1.0</td>\n",
       "      <td>4.0</td>\n",
       "      <td>2.0</td>\n",
       "      <td>3.0</td>\n",
       "      <td>3.0</td>\n",
       "      <td>3.0</td>\n",
       "    </tr>\n",
       "    <tr>\n",
       "      <th>FFRecordKeeper</th>\n",
       "      <td>2.0</td>\n",
       "      <td>2.0</td>\n",
       "      <td>3.0</td>\n",
       "      <td>1.0</td>\n",
       "      <td>2.0</td>\n",
       "      <td>2.0</td>\n",
       "      <td>6.0</td>\n",
       "      <td>1.0</td>\n",
       "      <td>1.0</td>\n",
       "      <td>2.0</td>\n",
       "      <td>...</td>\n",
       "      <td>2.0</td>\n",
       "      <td>3.0</td>\n",
       "      <td>2.0</td>\n",
       "      <td>1.0</td>\n",
       "      <td>1.0</td>\n",
       "      <td>3.0</td>\n",
       "      <td>3.0</td>\n",
       "      <td>4.0</td>\n",
       "      <td>2.0</td>\n",
       "      <td>2.0</td>\n",
       "    </tr>\n",
       "    <tr>\n",
       "      <th>...</th>\n",
       "      <td>...</td>\n",
       "      <td>...</td>\n",
       "      <td>...</td>\n",
       "      <td>...</td>\n",
       "      <td>...</td>\n",
       "      <td>...</td>\n",
       "      <td>...</td>\n",
       "      <td>...</td>\n",
       "      <td>...</td>\n",
       "      <td>...</td>\n",
       "      <td>...</td>\n",
       "      <td>...</td>\n",
       "      <td>...</td>\n",
       "      <td>...</td>\n",
       "      <td>...</td>\n",
       "      <td>...</td>\n",
       "      <td>...</td>\n",
       "      <td>...</td>\n",
       "      <td>...</td>\n",
       "      <td>...</td>\n",
       "      <td>...</td>\n",
       "    </tr>\n",
       "    <tr>\n",
       "      <th>runescape</th>\n",
       "      <td>62.0</td>\n",
       "      <td>2.0</td>\n",
       "      <td>4.0</td>\n",
       "      <td>2.0</td>\n",
       "      <td>2.0</td>\n",
       "      <td>2.0</td>\n",
       "      <td>20.0</td>\n",
       "      <td>1.0</td>\n",
       "      <td>1.0</td>\n",
       "      <td>5.0</td>\n",
       "      <td>...</td>\n",
       "      <td>4.0</td>\n",
       "      <td>7.0</td>\n",
       "      <td>2.0</td>\n",
       "      <td>2.0</td>\n",
       "      <td>1.0</td>\n",
       "      <td>5.0</td>\n",
       "      <td>3.0</td>\n",
       "      <td>6.0</td>\n",
       "      <td>3.0</td>\n",
       "      <td>2.0</td>\n",
       "    </tr>\n",
       "    <tr>\n",
       "      <th>science</th>\n",
       "      <td>2.0</td>\n",
       "      <td>2.0</td>\n",
       "      <td>14.0</td>\n",
       "      <td>4.0</td>\n",
       "      <td>6.0</td>\n",
       "      <td>4.0</td>\n",
       "      <td>72.0</td>\n",
       "      <td>1.0</td>\n",
       "      <td>3.0</td>\n",
       "      <td>5.0</td>\n",
       "      <td>...</td>\n",
       "      <td>2.0</td>\n",
       "      <td>38.0</td>\n",
       "      <td>3.0</td>\n",
       "      <td>2.0</td>\n",
       "      <td>5.0</td>\n",
       "      <td>15.0</td>\n",
       "      <td>4.0</td>\n",
       "      <td>37.0</td>\n",
       "      <td>5.0</td>\n",
       "      <td>3.0</td>\n",
       "    </tr>\n",
       "    <tr>\n",
       "      <th>sex</th>\n",
       "      <td>2.0</td>\n",
       "      <td>2.0</td>\n",
       "      <td>5.0</td>\n",
       "      <td>2.0</td>\n",
       "      <td>4.0</td>\n",
       "      <td>15.0</td>\n",
       "      <td>80.0</td>\n",
       "      <td>12.0</td>\n",
       "      <td>1.0</td>\n",
       "      <td>6.0</td>\n",
       "      <td>...</td>\n",
       "      <td>3.0</td>\n",
       "      <td>9.0</td>\n",
       "      <td>6.0</td>\n",
       "      <td>2.0</td>\n",
       "      <td>1.0</td>\n",
       "      <td>7.0</td>\n",
       "      <td>3.0</td>\n",
       "      <td>4.0</td>\n",
       "      <td>3.0</td>\n",
       "      <td>4.0</td>\n",
       "    </tr>\n",
       "    <tr>\n",
       "      <th>skyrim</th>\n",
       "      <td>4.0</td>\n",
       "      <td>1.0</td>\n",
       "      <td>9.0</td>\n",
       "      <td>2.0</td>\n",
       "      <td>1.0</td>\n",
       "      <td>1.0</td>\n",
       "      <td>64.0</td>\n",
       "      <td>2.0</td>\n",
       "      <td>3.0</td>\n",
       "      <td>3.0</td>\n",
       "      <td>...</td>\n",
       "      <td>3.0</td>\n",
       "      <td>14.0</td>\n",
       "      <td>4.0</td>\n",
       "      <td>3.0</td>\n",
       "      <td>2.0</td>\n",
       "      <td>3.0</td>\n",
       "      <td>4.0</td>\n",
       "      <td>7.0</td>\n",
       "      <td>3.0</td>\n",
       "      <td>4.0</td>\n",
       "    </tr>\n",
       "    <tr>\n",
       "      <th>smashbros</th>\n",
       "      <td>5.0</td>\n",
       "      <td>6.0</td>\n",
       "      <td>2.0</td>\n",
       "      <td>3.0</td>\n",
       "      <td>3.0</td>\n",
       "      <td>2.0</td>\n",
       "      <td>24.0</td>\n",
       "      <td>1.0</td>\n",
       "      <td>1.0</td>\n",
       "      <td>3.0</td>\n",
       "      <td>...</td>\n",
       "      <td>2.0</td>\n",
       "      <td>10.0</td>\n",
       "      <td>4.0</td>\n",
       "      <td>1.0</td>\n",
       "      <td>1.0</td>\n",
       "      <td>3.0</td>\n",
       "      <td>4.0</td>\n",
       "      <td>7.0</td>\n",
       "      <td>4.0</td>\n",
       "      <td>4.0</td>\n",
       "    </tr>\n",
       "    <tr>\n",
       "      <th>soccer</th>\n",
       "      <td>6.0</td>\n",
       "      <td>2.0</td>\n",
       "      <td>14.0</td>\n",
       "      <td>4.0</td>\n",
       "      <td>7.0</td>\n",
       "      <td>5.0</td>\n",
       "      <td>141.0</td>\n",
       "      <td>2.0</td>\n",
       "      <td>3.0</td>\n",
       "      <td>19.0</td>\n",
       "      <td>...</td>\n",
       "      <td>3.0</td>\n",
       "      <td>37.0</td>\n",
       "      <td>5.0</td>\n",
       "      <td>33.0</td>\n",
       "      <td>37.0</td>\n",
       "      <td>28.0</td>\n",
       "      <td>5.0</td>\n",
       "      <td>58.0</td>\n",
       "      <td>3.0</td>\n",
       "      <td>9.0</td>\n",
       "    </tr>\n",
       "    <tr>\n",
       "      <th>space</th>\n",
       "      <td>4.0</td>\n",
       "      <td>2.0</td>\n",
       "      <td>9.0</td>\n",
       "      <td>2.0</td>\n",
       "      <td>9.0</td>\n",
       "      <td>3.0</td>\n",
       "      <td>82.0</td>\n",
       "      <td>1.0</td>\n",
       "      <td>2.0</td>\n",
       "      <td>6.0</td>\n",
       "      <td>...</td>\n",
       "      <td>2.0</td>\n",
       "      <td>33.0</td>\n",
       "      <td>4.0</td>\n",
       "      <td>1.0</td>\n",
       "      <td>2.0</td>\n",
       "      <td>21.0</td>\n",
       "      <td>5.0</td>\n",
       "      <td>49.0</td>\n",
       "      <td>4.0</td>\n",
       "      <td>4.0</td>\n",
       "    </tr>\n",
       "    <tr>\n",
       "      <th>sports</th>\n",
       "      <td>2.0</td>\n",
       "      <td>2.0</td>\n",
       "      <td>15.0</td>\n",
       "      <td>3.0</td>\n",
       "      <td>4.0</td>\n",
       "      <td>6.0</td>\n",
       "      <td>131.0</td>\n",
       "      <td>2.0</td>\n",
       "      <td>2.0</td>\n",
       "      <td>13.0</td>\n",
       "      <td>...</td>\n",
       "      <td>3.0</td>\n",
       "      <td>48.0</td>\n",
       "      <td>8.0</td>\n",
       "      <td>6.0</td>\n",
       "      <td>4.0</td>\n",
       "      <td>55.0</td>\n",
       "      <td>3.0</td>\n",
       "      <td>51.0</td>\n",
       "      <td>2.0</td>\n",
       "      <td>3.0</td>\n",
       "    </tr>\n",
       "    <tr>\n",
       "      <th>starcitizen</th>\n",
       "      <td>1.0</td>\n",
       "      <td>2.0</td>\n",
       "      <td>7.0</td>\n",
       "      <td>5.0</td>\n",
       "      <td>1.0</td>\n",
       "      <td>2.0</td>\n",
       "      <td>24.0</td>\n",
       "      <td>1.0</td>\n",
       "      <td>3.0</td>\n",
       "      <td>2.0</td>\n",
       "      <td>...</td>\n",
       "      <td>2.0</td>\n",
       "      <td>9.0</td>\n",
       "      <td>2.0</td>\n",
       "      <td>3.0</td>\n",
       "      <td>2.0</td>\n",
       "      <td>9.0</td>\n",
       "      <td>4.0</td>\n",
       "      <td>13.0</td>\n",
       "      <td>2.0</td>\n",
       "      <td>1.0</td>\n",
       "    </tr>\n",
       "    <tr>\n",
       "      <th>stevenuniverse</th>\n",
       "      <td>1.0</td>\n",
       "      <td>2.0</td>\n",
       "      <td>2.0</td>\n",
       "      <td>1.0</td>\n",
       "      <td>3.0</td>\n",
       "      <td>2.0</td>\n",
       "      <td>47.0</td>\n",
       "      <td>1.0</td>\n",
       "      <td>1.0</td>\n",
       "      <td>2.0</td>\n",
       "      <td>...</td>\n",
       "      <td>2.0</td>\n",
       "      <td>7.0</td>\n",
       "      <td>1.0</td>\n",
       "      <td>1.0</td>\n",
       "      <td>2.0</td>\n",
       "      <td>10.0</td>\n",
       "      <td>2.0</td>\n",
       "      <td>5.0</td>\n",
       "      <td>3.0</td>\n",
       "      <td>2.0</td>\n",
       "    </tr>\n",
       "    <tr>\n",
       "      <th>stopdrinking</th>\n",
       "      <td>1.0</td>\n",
       "      <td>1.0</td>\n",
       "      <td>2.0</td>\n",
       "      <td>1.0</td>\n",
       "      <td>2.0</td>\n",
       "      <td>3.0</td>\n",
       "      <td>18.0</td>\n",
       "      <td>1.0</td>\n",
       "      <td>1.0</td>\n",
       "      <td>1.0</td>\n",
       "      <td>...</td>\n",
       "      <td>1.0</td>\n",
       "      <td>3.0</td>\n",
       "      <td>1.0</td>\n",
       "      <td>1.0</td>\n",
       "      <td>1.0</td>\n",
       "      <td>3.0</td>\n",
       "      <td>2.0</td>\n",
       "      <td>5.0</td>\n",
       "      <td>1.0</td>\n",
       "      <td>1.0</td>\n",
       "    </tr>\n",
       "    <tr>\n",
       "      <th>streetwear</th>\n",
       "      <td>5.0</td>\n",
       "      <td>3.0</td>\n",
       "      <td>4.0</td>\n",
       "      <td>1.0</td>\n",
       "      <td>4.0</td>\n",
       "      <td>6.0</td>\n",
       "      <td>49.0</td>\n",
       "      <td>2.0</td>\n",
       "      <td>2.0</td>\n",
       "      <td>14.0</td>\n",
       "      <td>...</td>\n",
       "      <td>2.0</td>\n",
       "      <td>7.0</td>\n",
       "      <td>10.0</td>\n",
       "      <td>3.0</td>\n",
       "      <td>3.0</td>\n",
       "      <td>11.0</td>\n",
       "      <td>5.0</td>\n",
       "      <td>4.0</td>\n",
       "      <td>3.0</td>\n",
       "      <td>4.0</td>\n",
       "    </tr>\n",
       "    <tr>\n",
       "      <th>summonerswar</th>\n",
       "      <td>2.0</td>\n",
       "      <td>4.0</td>\n",
       "      <td>1.0</td>\n",
       "      <td>1.0</td>\n",
       "      <td>3.0</td>\n",
       "      <td>1.0</td>\n",
       "      <td>11.0</td>\n",
       "      <td>1.0</td>\n",
       "      <td>2.0</td>\n",
       "      <td>2.0</td>\n",
       "      <td>...</td>\n",
       "      <td>1.0</td>\n",
       "      <td>2.0</td>\n",
       "      <td>1.0</td>\n",
       "      <td>2.0</td>\n",
       "      <td>1.0</td>\n",
       "      <td>3.0</td>\n",
       "      <td>1.0</td>\n",
       "      <td>3.0</td>\n",
       "      <td>1.0</td>\n",
       "      <td>1.0</td>\n",
       "    </tr>\n",
       "    <tr>\n",
       "      <th>technology</th>\n",
       "      <td>5.0</td>\n",
       "      <td>3.0</td>\n",
       "      <td>71.0</td>\n",
       "      <td>6.0</td>\n",
       "      <td>31.0</td>\n",
       "      <td>16.0</td>\n",
       "      <td>217.0</td>\n",
       "      <td>2.0</td>\n",
       "      <td>25.0</td>\n",
       "      <td>19.0</td>\n",
       "      <td>...</td>\n",
       "      <td>3.0</td>\n",
       "      <td>115.0</td>\n",
       "      <td>15.0</td>\n",
       "      <td>4.0</td>\n",
       "      <td>7.0</td>\n",
       "      <td>68.0</td>\n",
       "      <td>9.0</td>\n",
       "      <td>138.0</td>\n",
       "      <td>7.0</td>\n",
       "      <td>7.0</td>\n",
       "    </tr>\n",
       "    <tr>\n",
       "      <th>teenagers</th>\n",
       "      <td>4.0</td>\n",
       "      <td>2.0</td>\n",
       "      <td>10.0</td>\n",
       "      <td>1.0</td>\n",
       "      <td>4.0</td>\n",
       "      <td>7.0</td>\n",
       "      <td>99.0</td>\n",
       "      <td>3.0</td>\n",
       "      <td>1.0</td>\n",
       "      <td>10.0</td>\n",
       "      <td>...</td>\n",
       "      <td>3.0</td>\n",
       "      <td>10.0</td>\n",
       "      <td>6.0</td>\n",
       "      <td>1.0</td>\n",
       "      <td>2.0</td>\n",
       "      <td>10.0</td>\n",
       "      <td>8.0</td>\n",
       "      <td>11.0</td>\n",
       "      <td>3.0</td>\n",
       "      <td>3.0</td>\n",
       "    </tr>\n",
       "    <tr>\n",
       "      <th>teenmom</th>\n",
       "      <td>1.0</td>\n",
       "      <td>1.0</td>\n",
       "      <td>3.0</td>\n",
       "      <td>1.0</td>\n",
       "      <td>1.0</td>\n",
       "      <td>1.0</td>\n",
       "      <td>24.0</td>\n",
       "      <td>6.0</td>\n",
       "      <td>1.0</td>\n",
       "      <td>1.0</td>\n",
       "      <td>...</td>\n",
       "      <td>1.0</td>\n",
       "      <td>3.0</td>\n",
       "      <td>2.0</td>\n",
       "      <td>1.0</td>\n",
       "      <td>1.0</td>\n",
       "      <td>2.0</td>\n",
       "      <td>1.0</td>\n",
       "      <td>4.0</td>\n",
       "      <td>1.0</td>\n",
       "      <td>1.0</td>\n",
       "    </tr>\n",
       "    <tr>\n",
       "      <th>television</th>\n",
       "      <td>4.0</td>\n",
       "      <td>2.0</td>\n",
       "      <td>27.0</td>\n",
       "      <td>3.0</td>\n",
       "      <td>12.0</td>\n",
       "      <td>10.0</td>\n",
       "      <td>268.0</td>\n",
       "      <td>1.0</td>\n",
       "      <td>4.0</td>\n",
       "      <td>15.0</td>\n",
       "      <td>...</td>\n",
       "      <td>3.0</td>\n",
       "      <td>95.0</td>\n",
       "      <td>15.0</td>\n",
       "      <td>2.0</td>\n",
       "      <td>5.0</td>\n",
       "      <td>88.0</td>\n",
       "      <td>11.0</td>\n",
       "      <td>126.0</td>\n",
       "      <td>13.0</td>\n",
       "      <td>15.0</td>\n",
       "    </tr>\n",
       "    <tr>\n",
       "      <th>tf2</th>\n",
       "      <td>3.0</td>\n",
       "      <td>2.0</td>\n",
       "      <td>5.0</td>\n",
       "      <td>2.0</td>\n",
       "      <td>2.0</td>\n",
       "      <td>4.0</td>\n",
       "      <td>32.0</td>\n",
       "      <td>1.0</td>\n",
       "      <td>1.0</td>\n",
       "      <td>4.0</td>\n",
       "      <td>...</td>\n",
       "      <td>3.0</td>\n",
       "      <td>7.0</td>\n",
       "      <td>3.0</td>\n",
       "      <td>2.0</td>\n",
       "      <td>1.0</td>\n",
       "      <td>4.0</td>\n",
       "      <td>5.0</td>\n",
       "      <td>3.0</td>\n",
       "      <td>4.0</td>\n",
       "      <td>2.0</td>\n",
       "    </tr>\n",
       "    <tr>\n",
       "      <th>thedivision</th>\n",
       "      <td>2.0</td>\n",
       "      <td>2.0</td>\n",
       "      <td>4.0</td>\n",
       "      <td>3.0</td>\n",
       "      <td>2.0</td>\n",
       "      <td>2.0</td>\n",
       "      <td>12.0</td>\n",
       "      <td>1.0</td>\n",
       "      <td>1.0</td>\n",
       "      <td>2.0</td>\n",
       "      <td>...</td>\n",
       "      <td>3.0</td>\n",
       "      <td>6.0</td>\n",
       "      <td>2.0</td>\n",
       "      <td>1.0</td>\n",
       "      <td>1.0</td>\n",
       "      <td>5.0</td>\n",
       "      <td>2.0</td>\n",
       "      <td>8.0</td>\n",
       "      <td>3.0</td>\n",
       "      <td>5.0</td>\n",
       "    </tr>\n",
       "    <tr>\n",
       "      <th>tifu</th>\n",
       "      <td>6.0</td>\n",
       "      <td>2.0</td>\n",
       "      <td>22.0</td>\n",
       "      <td>6.0</td>\n",
       "      <td>7.0</td>\n",
       "      <td>7.0</td>\n",
       "      <td>277.0</td>\n",
       "      <td>3.0</td>\n",
       "      <td>2.0</td>\n",
       "      <td>9.0</td>\n",
       "      <td>...</td>\n",
       "      <td>4.0</td>\n",
       "      <td>62.0</td>\n",
       "      <td>12.0</td>\n",
       "      <td>1.0</td>\n",
       "      <td>3.0</td>\n",
       "      <td>34.0</td>\n",
       "      <td>5.0</td>\n",
       "      <td>31.0</td>\n",
       "      <td>6.0</td>\n",
       "      <td>4.0</td>\n",
       "    </tr>\n",
       "    <tr>\n",
       "      <th>titanfall</th>\n",
       "      <td>4.0</td>\n",
       "      <td>2.0</td>\n",
       "      <td>5.0</td>\n",
       "      <td>1.0</td>\n",
       "      <td>5.0</td>\n",
       "      <td>3.0</td>\n",
       "      <td>37.0</td>\n",
       "      <td>1.0</td>\n",
       "      <td>3.0</td>\n",
       "      <td>3.0</td>\n",
       "      <td>...</td>\n",
       "      <td>0.0</td>\n",
       "      <td>7.0</td>\n",
       "      <td>4.0</td>\n",
       "      <td>2.0</td>\n",
       "      <td>2.0</td>\n",
       "      <td>8.0</td>\n",
       "      <td>3.0</td>\n",
       "      <td>10.0</td>\n",
       "      <td>3.0</td>\n",
       "      <td>9.0</td>\n",
       "    </tr>\n",
       "    <tr>\n",
       "      <th>todayilearned</th>\n",
       "      <td>7.0</td>\n",
       "      <td>3.0</td>\n",
       "      <td>158.0</td>\n",
       "      <td>15.0</td>\n",
       "      <td>28.0</td>\n",
       "      <td>29.0</td>\n",
       "      <td>1177.0</td>\n",
       "      <td>10.0</td>\n",
       "      <td>13.0</td>\n",
       "      <td>52.0</td>\n",
       "      <td>...</td>\n",
       "      <td>7.0</td>\n",
       "      <td>0.0</td>\n",
       "      <td>32.0</td>\n",
       "      <td>18.0</td>\n",
       "      <td>39.0</td>\n",
       "      <td>272.0</td>\n",
       "      <td>24.0</td>\n",
       "      <td>420.0</td>\n",
       "      <td>25.0</td>\n",
       "      <td>16.0</td>\n",
       "    </tr>\n",
       "    <tr>\n",
       "      <th>trees</th>\n",
       "      <td>3.0</td>\n",
       "      <td>2.0</td>\n",
       "      <td>23.0</td>\n",
       "      <td>1.0</td>\n",
       "      <td>5.0</td>\n",
       "      <td>8.0</td>\n",
       "      <td>149.0</td>\n",
       "      <td>6.0</td>\n",
       "      <td>6.0</td>\n",
       "      <td>10.0</td>\n",
       "      <td>...</td>\n",
       "      <td>4.0</td>\n",
       "      <td>32.0</td>\n",
       "      <td>0.0</td>\n",
       "      <td>2.0</td>\n",
       "      <td>4.0</td>\n",
       "      <td>37.0</td>\n",
       "      <td>8.0</td>\n",
       "      <td>25.0</td>\n",
       "      <td>3.0</td>\n",
       "      <td>5.0</td>\n",
       "    </tr>\n",
       "    <tr>\n",
       "      <th>ukpolitics</th>\n",
       "      <td>1.0</td>\n",
       "      <td>2.0</td>\n",
       "      <td>3.0</td>\n",
       "      <td>5.0</td>\n",
       "      <td>1.0</td>\n",
       "      <td>4.0</td>\n",
       "      <td>34.0</td>\n",
       "      <td>2.0</td>\n",
       "      <td>3.0</td>\n",
       "      <td>3.0</td>\n",
       "      <td>...</td>\n",
       "      <td>2.0</td>\n",
       "      <td>18.0</td>\n",
       "      <td>2.0</td>\n",
       "      <td>0.0</td>\n",
       "      <td>104.0</td>\n",
       "      <td>13.0</td>\n",
       "      <td>1.0</td>\n",
       "      <td>40.0</td>\n",
       "      <td>2.0</td>\n",
       "      <td>1.0</td>\n",
       "    </tr>\n",
       "    <tr>\n",
       "      <th>unitedkingdom</th>\n",
       "      <td>2.0</td>\n",
       "      <td>2.0</td>\n",
       "      <td>9.0</td>\n",
       "      <td>4.0</td>\n",
       "      <td>4.0</td>\n",
       "      <td>7.0</td>\n",
       "      <td>84.0</td>\n",
       "      <td>2.0</td>\n",
       "      <td>2.0</td>\n",
       "      <td>5.0</td>\n",
       "      <td>...</td>\n",
       "      <td>2.0</td>\n",
       "      <td>39.0</td>\n",
       "      <td>4.0</td>\n",
       "      <td>104.0</td>\n",
       "      <td>0.0</td>\n",
       "      <td>25.0</td>\n",
       "      <td>4.0</td>\n",
       "      <td>66.0</td>\n",
       "      <td>4.0</td>\n",
       "      <td>3.0</td>\n",
       "    </tr>\n",
       "    <tr>\n",
       "      <th>videos</th>\n",
       "      <td>8.0</td>\n",
       "      <td>5.0</td>\n",
       "      <td>102.0</td>\n",
       "      <td>5.0</td>\n",
       "      <td>26.0</td>\n",
       "      <td>26.0</td>\n",
       "      <td>818.0</td>\n",
       "      <td>8.0</td>\n",
       "      <td>13.0</td>\n",
       "      <td>46.0</td>\n",
       "      <td>...</td>\n",
       "      <td>8.0</td>\n",
       "      <td>272.0</td>\n",
       "      <td>37.0</td>\n",
       "      <td>13.0</td>\n",
       "      <td>25.0</td>\n",
       "      <td>0.0</td>\n",
       "      <td>20.0</td>\n",
       "      <td>253.0</td>\n",
       "      <td>24.0</td>\n",
       "      <td>18.0</td>\n",
       "    </tr>\n",
       "    <tr>\n",
       "      <th>wholesomememes</th>\n",
       "      <td>5.0</td>\n",
       "      <td>2.0</td>\n",
       "      <td>16.0</td>\n",
       "      <td>2.0</td>\n",
       "      <td>7.0</td>\n",
       "      <td>4.0</td>\n",
       "      <td>104.0</td>\n",
       "      <td>2.0</td>\n",
       "      <td>2.0</td>\n",
       "      <td>20.0</td>\n",
       "      <td>...</td>\n",
       "      <td>3.0</td>\n",
       "      <td>24.0</td>\n",
       "      <td>8.0</td>\n",
       "      <td>1.0</td>\n",
       "      <td>4.0</td>\n",
       "      <td>20.0</td>\n",
       "      <td>0.0</td>\n",
       "      <td>22.0</td>\n",
       "      <td>5.0</td>\n",
       "      <td>5.0</td>\n",
       "    </tr>\n",
       "    <tr>\n",
       "      <th>worldnews</th>\n",
       "      <td>13.0</td>\n",
       "      <td>4.0</td>\n",
       "      <td>136.0</td>\n",
       "      <td>13.0</td>\n",
       "      <td>26.0</td>\n",
       "      <td>33.0</td>\n",
       "      <td>903.0</td>\n",
       "      <td>7.0</td>\n",
       "      <td>22.0</td>\n",
       "      <td>52.0</td>\n",
       "      <td>...</td>\n",
       "      <td>10.0</td>\n",
       "      <td>420.0</td>\n",
       "      <td>25.0</td>\n",
       "      <td>40.0</td>\n",
       "      <td>66.0</td>\n",
       "      <td>253.0</td>\n",
       "      <td>22.0</td>\n",
       "      <td>0.0</td>\n",
       "      <td>23.0</td>\n",
       "      <td>15.0</td>\n",
       "    </tr>\n",
       "    <tr>\n",
       "      <th>wow</th>\n",
       "      <td>8.0</td>\n",
       "      <td>3.0</td>\n",
       "      <td>16.0</td>\n",
       "      <td>3.0</td>\n",
       "      <td>2.0</td>\n",
       "      <td>5.0</td>\n",
       "      <td>75.0</td>\n",
       "      <td>2.0</td>\n",
       "      <td>1.0</td>\n",
       "      <td>4.0</td>\n",
       "      <td>...</td>\n",
       "      <td>3.0</td>\n",
       "      <td>25.0</td>\n",
       "      <td>3.0</td>\n",
       "      <td>2.0</td>\n",
       "      <td>4.0</td>\n",
       "      <td>24.0</td>\n",
       "      <td>5.0</td>\n",
       "      <td>23.0</td>\n",
       "      <td>0.0</td>\n",
       "      <td>3.0</td>\n",
       "    </tr>\n",
       "    <tr>\n",
       "      <th>xboxone</th>\n",
       "      <td>5.0</td>\n",
       "      <td>5.0</td>\n",
       "      <td>9.0</td>\n",
       "      <td>3.0</td>\n",
       "      <td>7.0</td>\n",
       "      <td>3.0</td>\n",
       "      <td>64.0</td>\n",
       "      <td>1.0</td>\n",
       "      <td>2.0</td>\n",
       "      <td>7.0</td>\n",
       "      <td>...</td>\n",
       "      <td>9.0</td>\n",
       "      <td>16.0</td>\n",
       "      <td>5.0</td>\n",
       "      <td>1.0</td>\n",
       "      <td>3.0</td>\n",
       "      <td>18.0</td>\n",
       "      <td>5.0</td>\n",
       "      <td>15.0</td>\n",
       "      <td>3.0</td>\n",
       "      <td>0.0</td>\n",
       "    </tr>\n",
       "  </tbody>\n",
       "</table>\n",
       "<p>179 rows × 179 columns</p>\n",
       "</div>"
      ],
      "text/plain": [
       "                      2007scape  3dshacks  AdviceAnimals   Amd  Android  \\\n",
       "subreddits                                                                \n",
       "2007scape                   0.0       2.0            8.0   1.0      3.0   \n",
       "3dshacks                    2.0       0.0            4.0   1.0      6.0   \n",
       "AdviceAnimals               8.0       4.0            0.0   3.0     15.0   \n",
       "Amd                         1.0       1.0            3.0   0.0      7.0   \n",
       "Android                     3.0       6.0           15.0   7.0      0.0   \n",
       "AskMen                      3.0       2.0           19.0   4.0      8.0   \n",
       "AskReddit                  47.0      16.0          439.0  45.0     89.0   \n",
       "AskWomen                    1.0       1.0            6.0   2.0      1.0   \n",
       "Bitcoin                     4.0       2.0            3.0   4.0      6.0   \n",
       "BlackPeopleTwitter         10.0       4.0           31.0   2.0      8.0   \n",
       "CFB                         7.0       4.0           33.0   4.0     11.0   \n",
       "CFBOffTopic                 2.0       2.0            2.0   1.0      2.0   \n",
       "CasualConversation          2.0       3.0           10.0   1.0      5.0   \n",
       "Christianity                2.0       2.0            3.0   1.0      2.0   \n",
       "ClashRoyale                 5.0       2.0            3.0   2.0      4.0   \n",
       "CollegeBasketball           5.0       1.0            6.0   2.0      1.0   \n",
       "Competitiveoverwatch        2.0       3.0            2.0   3.0      5.0   \n",
       "Cricket                     2.0       4.0            2.0   1.0      2.0   \n",
       "CringeAnarchy               6.0       3.0           32.0   4.0      5.0   \n",
       "DBZDokkanBattle             2.0       2.0            5.0   1.0      2.0   \n",
       "DestinyTheGame              2.0       1.0            3.0   1.0      5.0   \n",
       "DnD                         2.0       2.0            6.0   2.0      3.0   \n",
       "Documentaries               3.0       3.0           19.0   3.0      4.0   \n",
       "DotA2                       7.0       4.0           10.0   7.0      8.0   \n",
       "Drugs                       4.0       2.0            7.0   2.0      2.0   \n",
       "EliteDangerous              2.0       3.0            7.0   4.0      4.0   \n",
       "EnoughTrumpSpam             6.0       3.0           19.0   4.0      2.0   \n",
       "Eve                         3.0       3.0            3.0   1.0      3.0   \n",
       "FFBraveExvius               2.0       3.0            4.0   1.0      2.0   \n",
       "FFRecordKeeper              2.0       2.0            3.0   1.0      2.0   \n",
       "...                         ...       ...            ...   ...      ...   \n",
       "runescape                  62.0       2.0            4.0   2.0      2.0   \n",
       "science                     2.0       2.0           14.0   4.0      6.0   \n",
       "sex                         2.0       2.0            5.0   2.0      4.0   \n",
       "skyrim                      4.0       1.0            9.0   2.0      1.0   \n",
       "smashbros                   5.0       6.0            2.0   3.0      3.0   \n",
       "soccer                      6.0       2.0           14.0   4.0      7.0   \n",
       "space                       4.0       2.0            9.0   2.0      9.0   \n",
       "sports                      2.0       2.0           15.0   3.0      4.0   \n",
       "starcitizen                 1.0       2.0            7.0   5.0      1.0   \n",
       "stevenuniverse              1.0       2.0            2.0   1.0      3.0   \n",
       "stopdrinking                1.0       1.0            2.0   1.0      2.0   \n",
       "streetwear                  5.0       3.0            4.0   1.0      4.0   \n",
       "summonerswar                2.0       4.0            1.0   1.0      3.0   \n",
       "technology                  5.0       3.0           71.0   6.0     31.0   \n",
       "teenagers                   4.0       2.0           10.0   1.0      4.0   \n",
       "teenmom                     1.0       1.0            3.0   1.0      1.0   \n",
       "television                  4.0       2.0           27.0   3.0     12.0   \n",
       "tf2                         3.0       2.0            5.0   2.0      2.0   \n",
       "thedivision                 2.0       2.0            4.0   3.0      2.0   \n",
       "tifu                        6.0       2.0           22.0   6.0      7.0   \n",
       "titanfall                   4.0       2.0            5.0   1.0      5.0   \n",
       "todayilearned               7.0       3.0          158.0  15.0     28.0   \n",
       "trees                       3.0       2.0           23.0   1.0      5.0   \n",
       "ukpolitics                  1.0       2.0            3.0   5.0      1.0   \n",
       "unitedkingdom               2.0       2.0            9.0   4.0      4.0   \n",
       "videos                      8.0       5.0          102.0   5.0     26.0   \n",
       "wholesomememes              5.0       2.0           16.0   2.0      7.0   \n",
       "worldnews                  13.0       4.0          136.0  13.0     26.0   \n",
       "wow                         8.0       3.0           16.0   3.0      2.0   \n",
       "xboxone                     5.0       5.0            9.0   3.0      7.0   \n",
       "\n",
       "                      AskMen  AskReddit  AskWomen  Bitcoin  \\\n",
       "subreddits                                                   \n",
       "2007scape                3.0       47.0       1.0      4.0   \n",
       "3dshacks                 2.0       16.0       1.0      2.0   \n",
       "AdviceAnimals           19.0      439.0       6.0      3.0   \n",
       "Amd                      4.0       45.0       2.0      4.0   \n",
       "Android                  8.0       89.0       1.0      6.0   \n",
       "AskMen                   0.0      222.0      43.0      1.0   \n",
       "AskReddit              222.0        0.0     164.0     29.0   \n",
       "AskWomen                43.0      164.0       0.0      2.0   \n",
       "Bitcoin                  1.0       29.0       2.0      0.0   \n",
       "BlackPeopleTwitter      11.0      176.0       2.0      1.0   \n",
       "CFB                     19.0      235.0       3.0      3.0   \n",
       "CFBOffTopic              2.0        4.0       1.0      1.0   \n",
       "CasualConversation      15.0      114.0      12.0      1.0   \n",
       "Christianity             4.0       45.0       3.0      2.0   \n",
       "ClashRoyale              3.0       30.0       1.0      1.0   \n",
       "CollegeBasketball        5.0       64.0       1.0      3.0   \n",
       "Competitiveoverwatch     2.0       24.0       2.0      2.0   \n",
       "Cricket                  4.0       26.0       1.0      2.0   \n",
       "CringeAnarchy            9.0      148.0       4.0      2.0   \n",
       "DBZDokkanBattle          2.0       12.0       1.0      1.0   \n",
       "DestinyTheGame           1.0       65.0       1.0      1.0   \n",
       "DnD                      4.0       74.0       1.0      1.0   \n",
       "Documentaries            9.0      121.0       2.0      3.0   \n",
       "DotA2                    5.0       64.0       2.0      3.0   \n",
       "Drugs                    4.0       61.0       3.0      3.0   \n",
       "EliteDangerous           2.0       38.0       1.0      4.0   \n",
       "EnoughTrumpSpam          7.0       89.0       2.0      3.0   \n",
       "Eve                      2.0       31.0       1.0      2.0   \n",
       "FFBraveExvius            4.0       11.0       1.0      1.0   \n",
       "FFRecordKeeper           2.0        6.0       1.0      1.0   \n",
       "...                      ...        ...       ...      ...   \n",
       "runescape                2.0       20.0       1.0      1.0   \n",
       "science                  4.0       72.0       1.0      3.0   \n",
       "sex                     15.0       80.0      12.0      1.0   \n",
       "skyrim                   1.0       64.0       2.0      3.0   \n",
       "smashbros                2.0       24.0       1.0      1.0   \n",
       "soccer                   5.0      141.0       2.0      3.0   \n",
       "space                    3.0       82.0       1.0      2.0   \n",
       "sports                   6.0      131.0       2.0      2.0   \n",
       "starcitizen              2.0       24.0       1.0      3.0   \n",
       "stevenuniverse           2.0       47.0       1.0      1.0   \n",
       "stopdrinking             3.0       18.0       1.0      1.0   \n",
       "streetwear               6.0       49.0       2.0      2.0   \n",
       "summonerswar             1.0       11.0       1.0      2.0   \n",
       "technology              16.0      217.0       2.0     25.0   \n",
       "teenagers                7.0       99.0       3.0      1.0   \n",
       "teenmom                  1.0       24.0       6.0      1.0   \n",
       "television              10.0      268.0       1.0      4.0   \n",
       "tf2                      4.0       32.0       1.0      1.0   \n",
       "thedivision              2.0       12.0       1.0      1.0   \n",
       "tifu                     7.0      277.0       3.0      2.0   \n",
       "titanfall                3.0       37.0       1.0      3.0   \n",
       "todayilearned           29.0     1177.0      10.0     13.0   \n",
       "trees                    8.0      149.0       6.0      6.0   \n",
       "ukpolitics               4.0       34.0       2.0      3.0   \n",
       "unitedkingdom            7.0       84.0       2.0      2.0   \n",
       "videos                  26.0      818.0       8.0     13.0   \n",
       "wholesomememes           4.0      104.0       2.0      2.0   \n",
       "worldnews               33.0      903.0       7.0     22.0   \n",
       "wow                      5.0       75.0       2.0      1.0   \n",
       "xboxone                  3.0       64.0       1.0      2.0   \n",
       "\n",
       "                      BlackPeopleTwitter   ...     titanfall  todayilearned  \\\n",
       "subreddits                                 ...                                \n",
       "2007scape                           10.0   ...           4.0            7.0   \n",
       "3dshacks                             4.0   ...           2.0            3.0   \n",
       "AdviceAnimals                       31.0   ...           5.0          158.0   \n",
       "Amd                                  2.0   ...           1.0           15.0   \n",
       "Android                              8.0   ...           5.0           28.0   \n",
       "AskMen                              11.0   ...           3.0           29.0   \n",
       "AskReddit                          176.0   ...          37.0         1177.0   \n",
       "AskWomen                             2.0   ...           1.0           10.0   \n",
       "Bitcoin                              1.0   ...           3.0           13.0   \n",
       "BlackPeopleTwitter                   0.0   ...           3.0           52.0   \n",
       "CFB                                 26.0   ...           3.0           67.0   \n",
       "CFBOffTopic                          2.0   ...           2.0            3.0   \n",
       "CasualConversation                   7.0   ...           2.0           13.0   \n",
       "Christianity                         2.0   ...           2.0            9.0   \n",
       "ClashRoyale                          4.0   ...           6.0            9.0   \n",
       "CollegeBasketball                    6.0   ...           3.0           11.0   \n",
       "Competitiveoverwatch                 4.0   ...           2.0            9.0   \n",
       "Cricket                              5.0   ...           2.0           11.0   \n",
       "CringeAnarchy                       23.0   ...           9.0           56.0   \n",
       "DBZDokkanBattle                      2.0   ...           2.0            3.0   \n",
       "DestinyTheGame                       5.0   ...           9.0            7.0   \n",
       "DnD                                  4.0   ...           2.0           15.0   \n",
       "Documentaries                        6.0   ...           3.0           55.0   \n",
       "DotA2                                9.0   ...           6.0           21.0   \n",
       "Drugs                                7.0   ...           2.0           14.0   \n",
       "EliteDangerous                       3.0   ...           6.0           11.0   \n",
       "EnoughTrumpSpam                     17.0   ...           2.0           40.0   \n",
       "Eve                                  4.0   ...           3.0           14.0   \n",
       "FFBraveExvius                        3.0   ...           2.0            3.0   \n",
       "FFRecordKeeper                       2.0   ...           2.0            3.0   \n",
       "...                                  ...   ...           ...            ...   \n",
       "runescape                            5.0   ...           4.0            7.0   \n",
       "science                              5.0   ...           2.0           38.0   \n",
       "sex                                  6.0   ...           3.0            9.0   \n",
       "skyrim                               3.0   ...           3.0           14.0   \n",
       "smashbros                            3.0   ...           2.0           10.0   \n",
       "soccer                              19.0   ...           3.0           37.0   \n",
       "space                                6.0   ...           2.0           33.0   \n",
       "sports                              13.0   ...           3.0           48.0   \n",
       "starcitizen                          2.0   ...           2.0            9.0   \n",
       "stevenuniverse                       2.0   ...           2.0            7.0   \n",
       "stopdrinking                         1.0   ...           1.0            3.0   \n",
       "streetwear                          14.0   ...           2.0            7.0   \n",
       "summonerswar                         2.0   ...           1.0            2.0   \n",
       "technology                          19.0   ...           3.0          115.0   \n",
       "teenagers                           10.0   ...           3.0           10.0   \n",
       "teenmom                              1.0   ...           1.0            3.0   \n",
       "television                          15.0   ...           3.0           95.0   \n",
       "tf2                                  4.0   ...           3.0            7.0   \n",
       "thedivision                          2.0   ...           3.0            6.0   \n",
       "tifu                                 9.0   ...           4.0           62.0   \n",
       "titanfall                            3.0   ...           0.0            7.0   \n",
       "todayilearned                       52.0   ...           7.0            0.0   \n",
       "trees                               10.0   ...           4.0           32.0   \n",
       "ukpolitics                           3.0   ...           2.0           18.0   \n",
       "unitedkingdom                        5.0   ...           2.0           39.0   \n",
       "videos                              46.0   ...           8.0          272.0   \n",
       "wholesomememes                      20.0   ...           3.0           24.0   \n",
       "worldnews                           52.0   ...          10.0          420.0   \n",
       "wow                                  4.0   ...           3.0           25.0   \n",
       "xboxone                              7.0   ...           9.0           16.0   \n",
       "\n",
       "                      trees  ukpolitics  unitedkingdom  videos  \\\n",
       "subreddits                                                       \n",
       "2007scape               3.0         1.0            2.0     8.0   \n",
       "3dshacks                2.0         2.0            2.0     5.0   \n",
       "AdviceAnimals          23.0         3.0            9.0   102.0   \n",
       "Amd                     1.0         5.0            4.0     5.0   \n",
       "Android                 5.0         1.0            4.0    26.0   \n",
       "AskMen                  8.0         4.0            7.0    26.0   \n",
       "AskReddit             149.0        34.0           84.0   818.0   \n",
       "AskWomen                6.0         2.0            2.0     8.0   \n",
       "Bitcoin                 6.0         3.0            2.0    13.0   \n",
       "BlackPeopleTwitter     10.0         3.0            5.0    46.0   \n",
       "CFB                     8.0         2.0            3.0    45.0   \n",
       "CFBOffTopic             2.0         1.0            1.0     2.0   \n",
       "CasualConversation      4.0         2.0            4.0    11.0   \n",
       "Christianity            2.0         1.0            2.0     4.0   \n",
       "ClashRoyale             3.0         3.0            2.0    10.0   \n",
       "CollegeBasketball       1.0         2.0            1.0    16.0   \n",
       "Competitiveoverwatch    2.0         1.0            1.0     9.0   \n",
       "Cricket                 2.0         5.0            1.0     6.0   \n",
       "CringeAnarchy          12.0         1.0            4.0    24.0   \n",
       "DBZDokkanBattle         2.0         1.0            1.0     2.0   \n",
       "DestinyTheGame          2.0         1.0            1.0     4.0   \n",
       "DnD                     3.0         1.0            1.0     8.0   \n",
       "Documentaries          11.0         3.0            5.0    49.0   \n",
       "DotA2                   3.0         3.0            3.0    22.0   \n",
       "Drugs                  28.0         1.0            1.0    12.0   \n",
       "EliteDangerous          6.0         4.0            5.0    10.0   \n",
       "EnoughTrumpSpam         3.0         4.0            4.0    22.0   \n",
       "Eve                     3.0         5.0            3.0     9.0   \n",
       "FFBraveExvius           4.0         1.0            1.0     4.0   \n",
       "FFRecordKeeper          2.0         1.0            1.0     3.0   \n",
       "...                     ...         ...            ...     ...   \n",
       "runescape               2.0         2.0            1.0     5.0   \n",
       "science                 3.0         2.0            5.0    15.0   \n",
       "sex                     6.0         2.0            1.0     7.0   \n",
       "skyrim                  4.0         3.0            2.0     3.0   \n",
       "smashbros               4.0         1.0            1.0     3.0   \n",
       "soccer                  5.0        33.0           37.0    28.0   \n",
       "space                   4.0         1.0            2.0    21.0   \n",
       "sports                  8.0         6.0            4.0    55.0   \n",
       "starcitizen             2.0         3.0            2.0     9.0   \n",
       "stevenuniverse          1.0         1.0            2.0    10.0   \n",
       "stopdrinking            1.0         1.0            1.0     3.0   \n",
       "streetwear             10.0         3.0            3.0    11.0   \n",
       "summonerswar            1.0         2.0            1.0     3.0   \n",
       "technology             15.0         4.0            7.0    68.0   \n",
       "teenagers               6.0         1.0            2.0    10.0   \n",
       "teenmom                 2.0         1.0            1.0     2.0   \n",
       "television             15.0         2.0            5.0    88.0   \n",
       "tf2                     3.0         2.0            1.0     4.0   \n",
       "thedivision             2.0         1.0            1.0     5.0   \n",
       "tifu                   12.0         1.0            3.0    34.0   \n",
       "titanfall               4.0         2.0            2.0     8.0   \n",
       "todayilearned          32.0        18.0           39.0   272.0   \n",
       "trees                   0.0         2.0            4.0    37.0   \n",
       "ukpolitics              2.0         0.0          104.0    13.0   \n",
       "unitedkingdom           4.0       104.0            0.0    25.0   \n",
       "videos                 37.0        13.0           25.0     0.0   \n",
       "wholesomememes          8.0         1.0            4.0    20.0   \n",
       "worldnews              25.0        40.0           66.0   253.0   \n",
       "wow                     3.0         2.0            4.0    24.0   \n",
       "xboxone                 5.0         1.0            3.0    18.0   \n",
       "\n",
       "                      wholesomememes  worldnews   wow  xboxone  \n",
       "subreddits                                                      \n",
       "2007scape                        5.0       13.0   8.0      5.0  \n",
       "3dshacks                         2.0        4.0   3.0      5.0  \n",
       "AdviceAnimals                   16.0      136.0  16.0      9.0  \n",
       "Amd                              2.0       13.0   3.0      3.0  \n",
       "Android                          7.0       26.0   2.0      7.0  \n",
       "AskMen                           4.0       33.0   5.0      3.0  \n",
       "AskReddit                      104.0      903.0  75.0     64.0  \n",
       "AskWomen                         2.0        7.0   2.0      1.0  \n",
       "Bitcoin                          2.0       22.0   1.0      2.0  \n",
       "BlackPeopleTwitter              20.0       52.0   4.0      7.0  \n",
       "CFB                              9.0       70.0  15.0     11.0  \n",
       "CFBOffTopic                      2.0        2.0   2.0      2.0  \n",
       "CasualConversation               8.0       13.0   4.0      2.0  \n",
       "Christianity                     2.0       13.0   3.0      2.0  \n",
       "ClashRoyale                      5.0        6.0   3.0      4.0  \n",
       "CollegeBasketball                1.0       15.0   2.0      2.0  \n",
       "Competitiveoverwatch             3.0        6.0   5.0      2.0  \n",
       "Cricket                          2.0       13.0   3.0      2.0  \n",
       "CringeAnarchy                    8.0       54.0   8.0      8.0  \n",
       "DBZDokkanBattle                  2.0        2.0   2.0      2.0  \n",
       "DestinyTheGame                   2.0        7.0   4.0     14.0  \n",
       "DnD                              7.0       14.0   2.0      2.0  \n",
       "Documentaries                    5.0       80.0   4.0      2.0  \n",
       "DotA2                            6.0       26.0   8.0      4.0  \n",
       "Drugs                            3.0       18.0   3.0      3.0  \n",
       "EliteDangerous                   4.0       20.0   3.0      9.0  \n",
       "EnoughTrumpSpam                  7.0       61.0   2.0      4.0  \n",
       "Eve                              3.0        9.0   4.0      2.0  \n",
       "FFBraveExvius                    2.0        3.0   3.0      3.0  \n",
       "FFRecordKeeper                   3.0        4.0   2.0      2.0  \n",
       "...                              ...        ...   ...      ...  \n",
       "runescape                        3.0        6.0   3.0      2.0  \n",
       "science                          4.0       37.0   5.0      3.0  \n",
       "sex                              3.0        4.0   3.0      4.0  \n",
       "skyrim                           4.0        7.0   3.0      4.0  \n",
       "smashbros                        4.0        7.0   4.0      4.0  \n",
       "soccer                           5.0       58.0   3.0      9.0  \n",
       "space                            5.0       49.0   4.0      4.0  \n",
       "sports                           3.0       51.0   2.0      3.0  \n",
       "starcitizen                      4.0       13.0   2.0      1.0  \n",
       "stevenuniverse                   2.0        5.0   3.0      2.0  \n",
       "stopdrinking                     2.0        5.0   1.0      1.0  \n",
       "streetwear                       5.0        4.0   3.0      4.0  \n",
       "summonerswar                     1.0        3.0   1.0      1.0  \n",
       "technology                       9.0      138.0   7.0      7.0  \n",
       "teenagers                        8.0       11.0   3.0      3.0  \n",
       "teenmom                          1.0        4.0   1.0      1.0  \n",
       "television                      11.0      126.0  13.0     15.0  \n",
       "tf2                              5.0        3.0   4.0      2.0  \n",
       "thedivision                      2.0        8.0   3.0      5.0  \n",
       "tifu                             5.0       31.0   6.0      4.0  \n",
       "titanfall                        3.0       10.0   3.0      9.0  \n",
       "todayilearned                   24.0      420.0  25.0     16.0  \n",
       "trees                            8.0       25.0   3.0      5.0  \n",
       "ukpolitics                       1.0       40.0   2.0      1.0  \n",
       "unitedkingdom                    4.0       66.0   4.0      3.0  \n",
       "videos                          20.0      253.0  24.0     18.0  \n",
       "wholesomememes                   0.0       22.0   5.0      5.0  \n",
       "worldnews                       22.0        0.0  23.0     15.0  \n",
       "wow                              5.0       23.0   0.0      3.0  \n",
       "xboxone                          5.0       15.0   3.0      0.0  \n",
       "\n",
       "[179 rows x 179 columns]"
      ]
     },
     "execution_count": 53,
     "metadata": {},
     "output_type": "execute_result"
    }
   ],
   "source": [
    "df_adj[\"subreddits\"] = df[\"subreddit\"]\n",
    "df_adj.set_index(\"subreddits\", inplace = True)\n",
    "df_adj"
   ]
  },
  {
   "cell_type": "markdown",
   "metadata": {},
   "source": [
    "We obtain now the edge list:"
   ]
  },
  {
   "cell_type": "code",
   "execution_count": 54,
   "metadata": {
    "scrolled": true
   },
   "outputs": [
    {
     "data": {
      "text/plain": [
       "'xboxone'"
      ]
     },
     "execution_count": 54,
     "metadata": {},
     "output_type": "execute_result"
    }
   ],
   "source": [
    "subreddit_list[i]"
   ]
  },
  {
   "cell_type": "code",
   "execution_count": 55,
   "metadata": {},
   "outputs": [
    {
     "data": {
      "text/plain": [
       "179"
      ]
     },
     "execution_count": 55,
     "metadata": {},
     "output_type": "execute_result"
    }
   ],
   "source": [
    "len(subreddit_list)"
   ]
  },
  {
   "cell_type": "code",
   "execution_count": 56,
   "metadata": {
    "scrolled": true
   },
   "outputs": [
    {
     "data": {
      "text/html": [
       "<div>\n",
       "<style scoped>\n",
       "    .dataframe tbody tr th:only-of-type {\n",
       "        vertical-align: middle;\n",
       "    }\n",
       "\n",
       "    .dataframe tbody tr th {\n",
       "        vertical-align: top;\n",
       "    }\n",
       "\n",
       "    .dataframe thead th {\n",
       "        text-align: right;\n",
       "    }\n",
       "</style>\n",
       "<table border=\"1\" class=\"dataframe\">\n",
       "  <thead>\n",
       "    <tr style=\"text-align: right;\">\n",
       "      <th></th>\n",
       "      <th>Subreddit1</th>\n",
       "      <th>Subreddit2</th>\n",
       "      <th>Weight</th>\n",
       "    </tr>\n",
       "  </thead>\n",
       "  <tbody>\n",
       "    <tr>\n",
       "      <th>0</th>\n",
       "      <td>2007scape</td>\n",
       "      <td>3dshacks</td>\n",
       "      <td>2.0</td>\n",
       "    </tr>\n",
       "    <tr>\n",
       "      <th>1</th>\n",
       "      <td>2007scape</td>\n",
       "      <td>3dshacks</td>\n",
       "      <td>2.0</td>\n",
       "    </tr>\n",
       "    <tr>\n",
       "      <th>2</th>\n",
       "      <td>2007scape</td>\n",
       "      <td>AdviceAnimals</td>\n",
       "      <td>8.0</td>\n",
       "    </tr>\n",
       "    <tr>\n",
       "      <th>3</th>\n",
       "      <td>2007scape</td>\n",
       "      <td>Amd</td>\n",
       "      <td>1.0</td>\n",
       "    </tr>\n",
       "    <tr>\n",
       "      <th>4</th>\n",
       "      <td>2007scape</td>\n",
       "      <td>Android</td>\n",
       "      <td>3.0</td>\n",
       "    </tr>\n",
       "    <tr>\n",
       "      <th>5</th>\n",
       "      <td>2007scape</td>\n",
       "      <td>AskMen</td>\n",
       "      <td>3.0</td>\n",
       "    </tr>\n",
       "    <tr>\n",
       "      <th>6</th>\n",
       "      <td>2007scape</td>\n",
       "      <td>AskReddit</td>\n",
       "      <td>47.0</td>\n",
       "    </tr>\n",
       "    <tr>\n",
       "      <th>7</th>\n",
       "      <td>2007scape</td>\n",
       "      <td>AskWomen</td>\n",
       "      <td>1.0</td>\n",
       "    </tr>\n",
       "    <tr>\n",
       "      <th>8</th>\n",
       "      <td>2007scape</td>\n",
       "      <td>Bitcoin</td>\n",
       "      <td>4.0</td>\n",
       "    </tr>\n",
       "    <tr>\n",
       "      <th>9</th>\n",
       "      <td>2007scape</td>\n",
       "      <td>BlackPeopleTwitter</td>\n",
       "      <td>10.0</td>\n",
       "    </tr>\n",
       "    <tr>\n",
       "      <th>10</th>\n",
       "      <td>2007scape</td>\n",
       "      <td>CFB</td>\n",
       "      <td>7.0</td>\n",
       "    </tr>\n",
       "    <tr>\n",
       "      <th>11</th>\n",
       "      <td>2007scape</td>\n",
       "      <td>CFBOffTopic</td>\n",
       "      <td>2.0</td>\n",
       "    </tr>\n",
       "    <tr>\n",
       "      <th>12</th>\n",
       "      <td>2007scape</td>\n",
       "      <td>CasualConversation</td>\n",
       "      <td>2.0</td>\n",
       "    </tr>\n",
       "    <tr>\n",
       "      <th>13</th>\n",
       "      <td>2007scape</td>\n",
       "      <td>Christianity</td>\n",
       "      <td>2.0</td>\n",
       "    </tr>\n",
       "    <tr>\n",
       "      <th>14</th>\n",
       "      <td>2007scape</td>\n",
       "      <td>ClashRoyale</td>\n",
       "      <td>5.0</td>\n",
       "    </tr>\n",
       "    <tr>\n",
       "      <th>15</th>\n",
       "      <td>2007scape</td>\n",
       "      <td>CollegeBasketball</td>\n",
       "      <td>5.0</td>\n",
       "    </tr>\n",
       "    <tr>\n",
       "      <th>16</th>\n",
       "      <td>2007scape</td>\n",
       "      <td>Competitiveoverwatch</td>\n",
       "      <td>2.0</td>\n",
       "    </tr>\n",
       "    <tr>\n",
       "      <th>17</th>\n",
       "      <td>2007scape</td>\n",
       "      <td>Cricket</td>\n",
       "      <td>2.0</td>\n",
       "    </tr>\n",
       "    <tr>\n",
       "      <th>18</th>\n",
       "      <td>2007scape</td>\n",
       "      <td>CringeAnarchy</td>\n",
       "      <td>6.0</td>\n",
       "    </tr>\n",
       "    <tr>\n",
       "      <th>19</th>\n",
       "      <td>2007scape</td>\n",
       "      <td>DBZDokkanBattle</td>\n",
       "      <td>2.0</td>\n",
       "    </tr>\n",
       "    <tr>\n",
       "      <th>20</th>\n",
       "      <td>2007scape</td>\n",
       "      <td>DestinyTheGame</td>\n",
       "      <td>2.0</td>\n",
       "    </tr>\n",
       "    <tr>\n",
       "      <th>21</th>\n",
       "      <td>2007scape</td>\n",
       "      <td>DnD</td>\n",
       "      <td>2.0</td>\n",
       "    </tr>\n",
       "    <tr>\n",
       "      <th>22</th>\n",
       "      <td>2007scape</td>\n",
       "      <td>Documentaries</td>\n",
       "      <td>3.0</td>\n",
       "    </tr>\n",
       "    <tr>\n",
       "      <th>23</th>\n",
       "      <td>2007scape</td>\n",
       "      <td>DotA2</td>\n",
       "      <td>7.0</td>\n",
       "    </tr>\n",
       "    <tr>\n",
       "      <th>24</th>\n",
       "      <td>2007scape</td>\n",
       "      <td>Drugs</td>\n",
       "      <td>4.0</td>\n",
       "    </tr>\n",
       "    <tr>\n",
       "      <th>25</th>\n",
       "      <td>2007scape</td>\n",
       "      <td>EliteDangerous</td>\n",
       "      <td>2.0</td>\n",
       "    </tr>\n",
       "    <tr>\n",
       "      <th>26</th>\n",
       "      <td>2007scape</td>\n",
       "      <td>EnoughTrumpSpam</td>\n",
       "      <td>6.0</td>\n",
       "    </tr>\n",
       "    <tr>\n",
       "      <th>27</th>\n",
       "      <td>2007scape</td>\n",
       "      <td>Eve</td>\n",
       "      <td>3.0</td>\n",
       "    </tr>\n",
       "    <tr>\n",
       "      <th>28</th>\n",
       "      <td>2007scape</td>\n",
       "      <td>FFBraveExvius</td>\n",
       "      <td>2.0</td>\n",
       "    </tr>\n",
       "    <tr>\n",
       "      <th>29</th>\n",
       "      <td>2007scape</td>\n",
       "      <td>FFRecordKeeper</td>\n",
       "      <td>2.0</td>\n",
       "    </tr>\n",
       "    <tr>\n",
       "      <th>...</th>\n",
       "      <td>...</td>\n",
       "      <td>...</td>\n",
       "      <td>...</td>\n",
       "    </tr>\n",
       "    <tr>\n",
       "      <th>15902</th>\n",
       "      <td>todayilearned</td>\n",
       "      <td>wow</td>\n",
       "      <td>25.0</td>\n",
       "    </tr>\n",
       "    <tr>\n",
       "      <th>15903</th>\n",
       "      <td>todayilearned</td>\n",
       "      <td>xboxone</td>\n",
       "      <td>16.0</td>\n",
       "    </tr>\n",
       "    <tr>\n",
       "      <th>15904</th>\n",
       "      <td>trees</td>\n",
       "      <td>ukpolitics</td>\n",
       "      <td>2.0</td>\n",
       "    </tr>\n",
       "    <tr>\n",
       "      <th>15905</th>\n",
       "      <td>trees</td>\n",
       "      <td>unitedkingdom</td>\n",
       "      <td>4.0</td>\n",
       "    </tr>\n",
       "    <tr>\n",
       "      <th>15906</th>\n",
       "      <td>trees</td>\n",
       "      <td>videos</td>\n",
       "      <td>37.0</td>\n",
       "    </tr>\n",
       "    <tr>\n",
       "      <th>15907</th>\n",
       "      <td>trees</td>\n",
       "      <td>wholesomememes</td>\n",
       "      <td>8.0</td>\n",
       "    </tr>\n",
       "    <tr>\n",
       "      <th>15908</th>\n",
       "      <td>trees</td>\n",
       "      <td>worldnews</td>\n",
       "      <td>25.0</td>\n",
       "    </tr>\n",
       "    <tr>\n",
       "      <th>15909</th>\n",
       "      <td>trees</td>\n",
       "      <td>wow</td>\n",
       "      <td>3.0</td>\n",
       "    </tr>\n",
       "    <tr>\n",
       "      <th>15910</th>\n",
       "      <td>trees</td>\n",
       "      <td>xboxone</td>\n",
       "      <td>5.0</td>\n",
       "    </tr>\n",
       "    <tr>\n",
       "      <th>15911</th>\n",
       "      <td>ukpolitics</td>\n",
       "      <td>unitedkingdom</td>\n",
       "      <td>104.0</td>\n",
       "    </tr>\n",
       "    <tr>\n",
       "      <th>15912</th>\n",
       "      <td>ukpolitics</td>\n",
       "      <td>videos</td>\n",
       "      <td>13.0</td>\n",
       "    </tr>\n",
       "    <tr>\n",
       "      <th>15913</th>\n",
       "      <td>ukpolitics</td>\n",
       "      <td>wholesomememes</td>\n",
       "      <td>1.0</td>\n",
       "    </tr>\n",
       "    <tr>\n",
       "      <th>15914</th>\n",
       "      <td>ukpolitics</td>\n",
       "      <td>worldnews</td>\n",
       "      <td>40.0</td>\n",
       "    </tr>\n",
       "    <tr>\n",
       "      <th>15915</th>\n",
       "      <td>ukpolitics</td>\n",
       "      <td>wow</td>\n",
       "      <td>2.0</td>\n",
       "    </tr>\n",
       "    <tr>\n",
       "      <th>15916</th>\n",
       "      <td>ukpolitics</td>\n",
       "      <td>xboxone</td>\n",
       "      <td>1.0</td>\n",
       "    </tr>\n",
       "    <tr>\n",
       "      <th>15917</th>\n",
       "      <td>unitedkingdom</td>\n",
       "      <td>videos</td>\n",
       "      <td>25.0</td>\n",
       "    </tr>\n",
       "    <tr>\n",
       "      <th>15918</th>\n",
       "      <td>unitedkingdom</td>\n",
       "      <td>wholesomememes</td>\n",
       "      <td>4.0</td>\n",
       "    </tr>\n",
       "    <tr>\n",
       "      <th>15919</th>\n",
       "      <td>unitedkingdom</td>\n",
       "      <td>worldnews</td>\n",
       "      <td>66.0</td>\n",
       "    </tr>\n",
       "    <tr>\n",
       "      <th>15920</th>\n",
       "      <td>unitedkingdom</td>\n",
       "      <td>wow</td>\n",
       "      <td>4.0</td>\n",
       "    </tr>\n",
       "    <tr>\n",
       "      <th>15921</th>\n",
       "      <td>unitedkingdom</td>\n",
       "      <td>xboxone</td>\n",
       "      <td>3.0</td>\n",
       "    </tr>\n",
       "    <tr>\n",
       "      <th>15922</th>\n",
       "      <td>videos</td>\n",
       "      <td>wholesomememes</td>\n",
       "      <td>20.0</td>\n",
       "    </tr>\n",
       "    <tr>\n",
       "      <th>15923</th>\n",
       "      <td>videos</td>\n",
       "      <td>worldnews</td>\n",
       "      <td>253.0</td>\n",
       "    </tr>\n",
       "    <tr>\n",
       "      <th>15924</th>\n",
       "      <td>videos</td>\n",
       "      <td>wow</td>\n",
       "      <td>24.0</td>\n",
       "    </tr>\n",
       "    <tr>\n",
       "      <th>15925</th>\n",
       "      <td>videos</td>\n",
       "      <td>xboxone</td>\n",
       "      <td>18.0</td>\n",
       "    </tr>\n",
       "    <tr>\n",
       "      <th>15926</th>\n",
       "      <td>wholesomememes</td>\n",
       "      <td>worldnews</td>\n",
       "      <td>22.0</td>\n",
       "    </tr>\n",
       "    <tr>\n",
       "      <th>15927</th>\n",
       "      <td>wholesomememes</td>\n",
       "      <td>wow</td>\n",
       "      <td>5.0</td>\n",
       "    </tr>\n",
       "    <tr>\n",
       "      <th>15928</th>\n",
       "      <td>wholesomememes</td>\n",
       "      <td>xboxone</td>\n",
       "      <td>5.0</td>\n",
       "    </tr>\n",
       "    <tr>\n",
       "      <th>15929</th>\n",
       "      <td>worldnews</td>\n",
       "      <td>wow</td>\n",
       "      <td>23.0</td>\n",
       "    </tr>\n",
       "    <tr>\n",
       "      <th>15930</th>\n",
       "      <td>worldnews</td>\n",
       "      <td>xboxone</td>\n",
       "      <td>15.0</td>\n",
       "    </tr>\n",
       "    <tr>\n",
       "      <th>15931</th>\n",
       "      <td>wow</td>\n",
       "      <td>xboxone</td>\n",
       "      <td>3.0</td>\n",
       "    </tr>\n",
       "  </tbody>\n",
       "</table>\n",
       "<p>15932 rows × 3 columns</p>\n",
       "</div>"
      ],
      "text/plain": [
       "           Subreddit1            Subreddit2  Weight\n",
       "0           2007scape              3dshacks     2.0\n",
       "1           2007scape              3dshacks     2.0\n",
       "2           2007scape         AdviceAnimals     8.0\n",
       "3           2007scape                   Amd     1.0\n",
       "4           2007scape               Android     3.0\n",
       "5           2007scape                AskMen     3.0\n",
       "6           2007scape             AskReddit    47.0\n",
       "7           2007scape              AskWomen     1.0\n",
       "8           2007scape               Bitcoin     4.0\n",
       "9           2007scape    BlackPeopleTwitter    10.0\n",
       "10          2007scape                   CFB     7.0\n",
       "11          2007scape           CFBOffTopic     2.0\n",
       "12          2007scape    CasualConversation     2.0\n",
       "13          2007scape          Christianity     2.0\n",
       "14          2007scape           ClashRoyale     5.0\n",
       "15          2007scape     CollegeBasketball     5.0\n",
       "16          2007scape  Competitiveoverwatch     2.0\n",
       "17          2007scape               Cricket     2.0\n",
       "18          2007scape         CringeAnarchy     6.0\n",
       "19          2007scape       DBZDokkanBattle     2.0\n",
       "20          2007scape        DestinyTheGame     2.0\n",
       "21          2007scape                   DnD     2.0\n",
       "22          2007scape         Documentaries     3.0\n",
       "23          2007scape                 DotA2     7.0\n",
       "24          2007scape                 Drugs     4.0\n",
       "25          2007scape        EliteDangerous     2.0\n",
       "26          2007scape       EnoughTrumpSpam     6.0\n",
       "27          2007scape                   Eve     3.0\n",
       "28          2007scape         FFBraveExvius     2.0\n",
       "29          2007scape        FFRecordKeeper     2.0\n",
       "...               ...                   ...     ...\n",
       "15902   todayilearned                   wow    25.0\n",
       "15903   todayilearned               xboxone    16.0\n",
       "15904           trees            ukpolitics     2.0\n",
       "15905           trees         unitedkingdom     4.0\n",
       "15906           trees                videos    37.0\n",
       "15907           trees        wholesomememes     8.0\n",
       "15908           trees             worldnews    25.0\n",
       "15909           trees                   wow     3.0\n",
       "15910           trees               xboxone     5.0\n",
       "15911      ukpolitics         unitedkingdom   104.0\n",
       "15912      ukpolitics                videos    13.0\n",
       "15913      ukpolitics        wholesomememes     1.0\n",
       "15914      ukpolitics             worldnews    40.0\n",
       "15915      ukpolitics                   wow     2.0\n",
       "15916      ukpolitics               xboxone     1.0\n",
       "15917   unitedkingdom                videos    25.0\n",
       "15918   unitedkingdom        wholesomememes     4.0\n",
       "15919   unitedkingdom             worldnews    66.0\n",
       "15920   unitedkingdom                   wow     4.0\n",
       "15921   unitedkingdom               xboxone     3.0\n",
       "15922          videos        wholesomememes    20.0\n",
       "15923          videos             worldnews   253.0\n",
       "15924          videos                   wow    24.0\n",
       "15925          videos               xboxone    18.0\n",
       "15926  wholesomememes             worldnews    22.0\n",
       "15927  wholesomememes                   wow     5.0\n",
       "15928  wholesomememes               xboxone     5.0\n",
       "15929       worldnews                   wow    23.0\n",
       "15930       worldnews               xboxone    15.0\n",
       "15931             wow               xboxone     3.0\n",
       "\n",
       "[15932 rows x 3 columns]"
      ]
     },
     "execution_count": 56,
     "metadata": {},
     "output_type": "execute_result"
    }
   ],
   "source": [
    "edge_list = pd.DataFrame([[subreddit_list[0], subreddit_list[1], adjacency_matrix[0,1]]], columns = [\"Subreddit1\", \"Subreddit2\", \"Weight\"])\n",
    "n_subreddits = len(subreddit_list)\n",
    "\n",
    "for i in range(n_subreddits):\n",
    "    for j in range(i+1, n_subreddits):\n",
    "        df_tmp = pd.DataFrame([[subreddit_list[i], subreddit_list[j], adjacency_matrix[i,j]]] , columns = [\"Subreddit1\", \"Subreddit2\", \"Weight\"])\n",
    "        edge_list = edge_list.append(df_tmp, ignore_index=True)\n",
    "\n",
    "edge_list"
   ]
  },
  {
   "cell_type": "code",
   "execution_count": 57,
   "metadata": {},
   "outputs": [],
   "source": [
    "edge_list[\"Weight\"].mean()\n",
    "#edge_list[\"Weight\"] = edge_list[\"Weight\"].apply(lambda x: 0 if x < 15 else x) #Removing soft links for seeing a better graph (weights to 0)\n",
    "edge_list.drop(edge_list[edge_list.Weight < 9].index, inplace = True) #Removing soft links for seeing a better graph (remove edges)"
   ]
  },
  {
   "cell_type": "code",
   "execution_count": 58,
   "metadata": {},
   "outputs": [],
   "source": [
    "edge_list.set_index(\"Subreddit1\", inplace = True) #In order to not export the indexes to the .csv"
   ]
  },
  {
   "cell_type": "code",
   "execution_count": 59,
   "metadata": {},
   "outputs": [],
   "source": [
    "edge_list[\"Weight\"] = edge_list[\"Weight\"] * 100 #Too do a clearly visualization\n",
    "edge_list.to_csv(DATA_DIR + 'edge_list.csv')"
   ]
  },
  {
   "cell_type": "code",
   "execution_count": 60,
   "metadata": {},
   "outputs": [],
   "source": [
    "df_topics = pd.read_parquet(DATA_DIR + \"topics.parquet\")"
   ]
  },
  {
   "cell_type": "code",
   "execution_count": 61,
   "metadata": {
    "scrolled": true
   },
   "outputs": [],
   "source": [
    "political_subreddits_1 = df_topics[df_topics[\"topic\"] == \"politics\"][\"subreddit\"].tolist()\n",
    "edge_list_politics = edge_list.loc[(edge_list.index.isin(political_subreddits_1)) & edge_list['Subreddit2'].isin(political_subreddits_1)]"
   ]
  },
  {
   "cell_type": "code",
   "execution_count": 62,
   "metadata": {},
   "outputs": [],
   "source": [
    "#edge_list_politics.to_csv(DATA_DIR + 'edge_list.csv')"
   ]
  },
  {
   "cell_type": "markdown",
   "metadata": {},
   "source": [
    "### Now let's see what are the subreddits which are more connected with other subreddits (whose users post also in other subreddits)\n"
   ]
  },
  {
   "cell_type": "code",
   "execution_count": null,
   "metadata": {
    "scrolled": true
   },
   "outputs": [],
   "source": [
    "df_centralized = pd.DataFrame(index = subreddit_list, columns = ['Centralized_value']) \n",
    "for i in range(n_subreddits):\n",
    "    centralized_value = 0\n",
    "    for j in range(i+1, n_subreddits):\n",
    "        centralized_value = centralized_value + adjacency_matrix[i,j]\n",
    "    df_centralized.loc[subreddit_list[i]] = centralized_value\n",
    "    \n",
    "df_centralized.head(3)"
   ]
  },
  {
   "cell_type": "code",
   "execution_count": null,
   "metadata": {},
   "outputs": [],
   "source": [
    "df_centralized.sort_values('Centralized_value', ascending = False).head(30).index"
   ]
  },
  {
   "cell_type": "markdown",
   "metadata": {},
   "source": [
    "## Using igraph library:"
   ]
  },
  {
   "cell_type": "code",
   "execution_count": 63,
   "metadata": {
    "scrolled": false
   },
   "outputs": [],
   "source": [
    "#import igraph\n",
    "import cairo \n",
    "from igraph import *"
   ]
  },
  {
   "cell_type": "code",
   "execution_count": 64,
   "metadata": {},
   "outputs": [],
   "source": [
    "A = df_adj.values"
   ]
  },
  {
   "cell_type": "code",
   "execution_count": 65,
   "metadata": {},
   "outputs": [
    {
     "data": {
      "text/plain": [
       "['2007scape',\n",
       " '3dshacks',\n",
       " 'AdviceAnimals',\n",
       " 'Amd',\n",
       " 'Android',\n",
       " 'AskMen',\n",
       " 'AskReddit',\n",
       " 'AskWomen',\n",
       " 'Bitcoin',\n",
       " 'BlackPeopleTwitter',\n",
       " 'CFB',\n",
       " 'CFBOffTopic',\n",
       " 'CasualConversation',\n",
       " 'Christianity',\n",
       " 'ClashRoyale',\n",
       " 'CollegeBasketball',\n",
       " 'Competitiveoverwatch',\n",
       " 'Cricket',\n",
       " 'CringeAnarchy',\n",
       " 'DBZDokkanBattle',\n",
       " 'DestinyTheGame',\n",
       " 'DnD',\n",
       " 'Documentaries',\n",
       " 'DotA2',\n",
       " 'Drugs',\n",
       " 'EliteDangerous',\n",
       " 'EnoughTrumpSpam',\n",
       " 'Eve',\n",
       " 'FFBraveExvius',\n",
       " 'FFRecordKeeper',\n",
       " 'FFXV',\n",
       " 'FIFA',\n",
       " 'FashionReps',\n",
       " 'Fitness',\n",
       " 'Futurology',\n",
       " 'Games',\n",
       " 'GlobalOffensive',\n",
       " 'GlobalOffensiveTrade',\n",
       " 'Gunners',\n",
       " 'IAmA',\n",
       " 'Incels',\n",
       " 'Jokes',\n",
       " 'KotakuInAction',\n",
       " 'LifeProTips',\n",
       " 'LiverpoolFC',\n",
       " 'MMA',\n",
       " 'MaddenUltimateTeam',\n",
       " 'MakeupAddiction',\n",
       " 'MechanicalKeyboards',\n",
       " 'Music',\n",
       " 'NHLHUT',\n",
       " 'NintendoSwitch',\n",
       " 'NoFap',\n",
       " 'NoStupidQuestions',\n",
       " 'OkCupid',\n",
       " 'OldSchoolCool',\n",
       " 'Overwatch',\n",
       " 'PS4',\n",
       " 'Patriots',\n",
       " 'Philippines',\n",
       " 'PokeMoonSun',\n",
       " 'Pokemongiveaway',\n",
       " 'RWBY',\n",
       " 'Rainbow6',\n",
       " 'Random_Acts_Of_Amazon',\n",
       " 'RoastMe',\n",
       " 'RocketLeague',\n",
       " 'RocketLeagueExchange',\n",
       " 'SVExchange',\n",
       " 'SandersForPresident',\n",
       " 'Shadowverse',\n",
       " 'Showerthoughts',\n",
       " 'Smite',\n",
       " 'Sneakers',\n",
       " 'SquaredCircle',\n",
       " 'StarWars',\n",
       " 'SubredditDrama',\n",
       " 'TheSilphRoad',\n",
       " 'The_Donald',\n",
       " 'TumblrInAction',\n",
       " 'TwoXChromosomes',\n",
       " 'Vive',\n",
       " 'WTF',\n",
       " 'Warframe',\n",
       " 'altright',\n",
       " 'anime',\n",
       " 'apple',\n",
       " 'askgaybros',\n",
       " 'atheism',\n",
       " 'australia',\n",
       " 'aww',\n",
       " 'baseball',\n",
       " 'battlefield_one',\n",
       " 'bindingofisaac',\n",
       " 'bodybuilding',\n",
       " 'books',\n",
       " 'brasil',\n",
       " 'buildapc',\n",
       " 'canada',\n",
       " 'cars',\n",
       " 'changemyview',\n",
       " 'churning',\n",
       " 'conspiracy',\n",
       " 'counting',\n",
       " 'dankmemes',\n",
       " 'darksouls3',\n",
       " 'dataisbeautiful',\n",
       " 'de',\n",
       " 'electronic_cigarette',\n",
       " 'europe',\n",
       " 'exmormon',\n",
       " 'explainlikeimfive',\n",
       " 'ffxiv',\n",
       " 'fivenightsatfreddys',\n",
       " 'food',\n",
       " 'funny',\n",
       " 'gaming',\n",
       " 'gifs',\n",
       " 'gonewild',\n",
       " 'guns',\n",
       " 'hardwareswap',\n",
       " 'hearthstone',\n",
       " 'heroesofthestorm',\n",
       " 'hiphopheads',\n",
       " 'hockey',\n",
       " 'india',\n",
       " 'jailbreak',\n",
       " 'leagueoflegends',\n",
       " 'legaladvice',\n",
       " 'loseit',\n",
       " 'magicTCG',\n",
       " 'me_irl',\n",
       " 'mildlyinteresting',\n",
       " 'movies',\n",
       " 'nba',\n",
       " 'news',\n",
       " 'nfl',\n",
       " 'nottheonion',\n",
       " 'pathofexile',\n",
       " 'pcgaming',\n",
       " 'pcmasterrace',\n",
       " 'personalfinance',\n",
       " 'pics',\n",
       " 'pokemon',\n",
       " 'pokemongo',\n",
       " 'pokemontrades',\n",
       " 'politics',\n",
       " 'reddevils',\n",
       " 'relationships',\n",
       " 'runescape',\n",
       " 'science',\n",
       " 'sex',\n",
       " 'skyrim',\n",
       " 'smashbros',\n",
       " 'soccer',\n",
       " 'space',\n",
       " 'sports',\n",
       " 'starcitizen',\n",
       " 'stevenuniverse',\n",
       " 'stopdrinking',\n",
       " 'streetwear',\n",
       " 'summonerswar',\n",
       " 'technology',\n",
       " 'teenagers',\n",
       " 'teenmom',\n",
       " 'television',\n",
       " 'tf2',\n",
       " 'thedivision',\n",
       " 'tifu',\n",
       " 'titanfall',\n",
       " 'todayilearned',\n",
       " 'trees',\n",
       " 'ukpolitics',\n",
       " 'unitedkingdom',\n",
       " 'videos',\n",
       " 'wholesomememes',\n",
       " 'worldnews',\n",
       " 'wow',\n",
       " 'xboxone']"
      ]
     },
     "execution_count": 65,
     "metadata": {},
     "output_type": "execute_result"
    }
   ],
   "source": [
    "subreddit_list"
   ]
  },
  {
   "cell_type": "code",
   "execution_count": null,
   "metadata": {},
   "outputs": [],
   "source": [
    "for i in range(len(A)):                  #Removing soft links for seeing a better graph\n",
    "    for j in range(len(A[i])):\n",
    "        if A[i,j]<5:\n",
    "            A[i,j]=0"
   ]
  },
  {
   "cell_type": "code",
   "execution_count": null,
   "metadata": {},
   "outputs": [],
   "source": [
    "A"
   ]
  },
  {
   "cell_type": "code",
   "execution_count": null,
   "metadata": {},
   "outputs": [],
   "source": [
    "#g_all_subreddits = igraph.Graph.Adjacency((A > 0).tolist())\n",
    "g_all_subreddits = Graph()\n",
    "g_all_subreddits = g_all_subreddits.Adjacency((A > 0).tolist())"
   ]
  },
  {
   "cell_type": "code",
   "execution_count": null,
   "metadata": {},
   "outputs": [],
   "source": [
    "# Add edge weights and node labels.\n",
    "g_all_subreddits.es['weight'] = A[A.nonzero()]\n",
    "g_all_subreddits.vs['label'] = subreddit_list  # or a.index/a.columns"
   ]
  },
  {
   "cell_type": "code",
   "execution_count": null,
   "metadata": {},
   "outputs": [],
   "source": [
    "layout = g_all_subreddits.layout"
   ]
  },
  {
   "cell_type": "code",
   "execution_count": null,
   "metadata": {
    "scrolled": true
   },
   "outputs": [],
   "source": [
    "plot(g_all_subreddits)"
   ]
  },
  {
   "cell_type": "code",
   "execution_count": null,
   "metadata": {
    "scrolled": true
   },
   "outputs": [],
   "source": [
    "layout = g_all_subreddits.layout_fruchterman_reingold()\n",
    "plot(g_all_subreddits, layout = layout)"
   ]
  },
  {
   "cell_type": "markdown",
   "metadata": {},
   "source": [
    "We obtain the list of politic subreddits that we have in the current dataset:"
   ]
  },
  {
   "cell_type": "code",
   "execution_count": 66,
   "metadata": {},
   "outputs": [
    {
     "data": {
      "text/html": [
       "<div>\n",
       "<style scoped>\n",
       "    .dataframe tbody tr th:only-of-type {\n",
       "        vertical-align: middle;\n",
       "    }\n",
       "\n",
       "    .dataframe tbody tr th {\n",
       "        vertical-align: top;\n",
       "    }\n",
       "\n",
       "    .dataframe thead th {\n",
       "        text-align: right;\n",
       "    }\n",
       "</style>\n",
       "<table border=\"1\" class=\"dataframe\">\n",
       "  <thead>\n",
       "    <tr style=\"text-align: right;\">\n",
       "      <th></th>\n",
       "      <th>Subreddit1</th>\n",
       "      <th>Subreddit2</th>\n",
       "      <th>Weight</th>\n",
       "    </tr>\n",
       "  </thead>\n",
       "  <tbody>\n",
       "    <tr>\n",
       "      <th>0</th>\n",
       "      <td>EnoughTrumpSpam</td>\n",
       "      <td>SandersForPresident</td>\n",
       "      <td>2700.0</td>\n",
       "    </tr>\n",
       "    <tr>\n",
       "      <th>1</th>\n",
       "      <td>EnoughTrumpSpam</td>\n",
       "      <td>The_Donald</td>\n",
       "      <td>2700.0</td>\n",
       "    </tr>\n",
       "  </tbody>\n",
       "</table>\n",
       "</div>"
      ],
      "text/plain": [
       "        Subreddit1           Subreddit2  Weight\n",
       "0  EnoughTrumpSpam  SandersForPresident  2700.0\n",
       "1  EnoughTrumpSpam           The_Donald  2700.0"
      ]
     },
     "execution_count": 66,
     "metadata": {},
     "output_type": "execute_result"
    }
   ],
   "source": [
    "edge_list_politics.reset_index().head(2)"
   ]
  },
  {
   "cell_type": "code",
   "execution_count": 67,
   "metadata": {
    "scrolled": true
   },
   "outputs": [
    {
     "data": {
      "text/plain": [
       "['conspiracy',\n",
       " 'SandersForPresident',\n",
       " 'politics',\n",
       " 'EnoughTrumpSpam',\n",
       " 'The_Donald',\n",
       " 'ukpolitics']"
      ]
     },
     "execution_count": 67,
     "metadata": {},
     "output_type": "execute_result"
    }
   ],
   "source": [
    "edge_list_politics.reset_index(inplace = True)\n",
    "politic_subreddits = edge_list_politics['Subreddit1'].values.tolist()\n",
    "politic_subreddits= politic_subreddits + (edge_list_politics['Subreddit2'].values.tolist())\n",
    "politic_subreddits = list(set(politic_subreddits))\n",
    "politic_subreddits"
   ]
  },
  {
   "cell_type": "code",
   "execution_count": 68,
   "metadata": {},
   "outputs": [
    {
     "data": {
      "text/html": [
       "<div>\n",
       "<style scoped>\n",
       "    .dataframe tbody tr th:only-of-type {\n",
       "        vertical-align: middle;\n",
       "    }\n",
       "\n",
       "    .dataframe tbody tr th {\n",
       "        vertical-align: top;\n",
       "    }\n",
       "\n",
       "    .dataframe thead th {\n",
       "        text-align: right;\n",
       "    }\n",
       "</style>\n",
       "<table border=\"1\" class=\"dataframe\">\n",
       "  <thead>\n",
       "    <tr style=\"text-align: right;\">\n",
       "      <th></th>\n",
       "      <th>EnoughTrumpSpam</th>\n",
       "      <th>SandersForPresident</th>\n",
       "      <th>The_Donald</th>\n",
       "      <th>conspiracy</th>\n",
       "      <th>politics</th>\n",
       "      <th>ukpolitics</th>\n",
       "    </tr>\n",
       "    <tr>\n",
       "      <th>subreddits</th>\n",
       "      <th></th>\n",
       "      <th></th>\n",
       "      <th></th>\n",
       "      <th></th>\n",
       "      <th></th>\n",
       "      <th></th>\n",
       "    </tr>\n",
       "  </thead>\n",
       "  <tbody>\n",
       "    <tr>\n",
       "      <th>EnoughTrumpSpam</th>\n",
       "      <td>0.0</td>\n",
       "      <td>27.0</td>\n",
       "      <td>27.0</td>\n",
       "      <td>10.0</td>\n",
       "      <td>173.0</td>\n",
       "      <td>4.0</td>\n",
       "    </tr>\n",
       "    <tr>\n",
       "      <th>SandersForPresident</th>\n",
       "      <td>27.0</td>\n",
       "      <td>0.0</td>\n",
       "      <td>51.0</td>\n",
       "      <td>25.0</td>\n",
       "      <td>175.0</td>\n",
       "      <td>4.0</td>\n",
       "    </tr>\n",
       "    <tr>\n",
       "      <th>The_Donald</th>\n",
       "      <td>27.0</td>\n",
       "      <td>51.0</td>\n",
       "      <td>0.0</td>\n",
       "      <td>116.0</td>\n",
       "      <td>441.0</td>\n",
       "      <td>12.0</td>\n",
       "    </tr>\n",
       "    <tr>\n",
       "      <th>conspiracy</th>\n",
       "      <td>10.0</td>\n",
       "      <td>25.0</td>\n",
       "      <td>116.0</td>\n",
       "      <td>0.0</td>\n",
       "      <td>106.0</td>\n",
       "      <td>2.0</td>\n",
       "    </tr>\n",
       "    <tr>\n",
       "      <th>politics</th>\n",
       "      <td>173.0</td>\n",
       "      <td>175.0</td>\n",
       "      <td>441.0</td>\n",
       "      <td>106.0</td>\n",
       "      <td>0.0</td>\n",
       "      <td>19.0</td>\n",
       "    </tr>\n",
       "    <tr>\n",
       "      <th>ukpolitics</th>\n",
       "      <td>4.0</td>\n",
       "      <td>4.0</td>\n",
       "      <td>12.0</td>\n",
       "      <td>2.0</td>\n",
       "      <td>19.0</td>\n",
       "      <td>0.0</td>\n",
       "    </tr>\n",
       "  </tbody>\n",
       "</table>\n",
       "</div>"
      ],
      "text/plain": [
       "                     EnoughTrumpSpam  SandersForPresident  The_Donald  \\\n",
       "subreddits                                                              \n",
       "EnoughTrumpSpam                  0.0                 27.0        27.0   \n",
       "SandersForPresident             27.0                  0.0        51.0   \n",
       "The_Donald                      27.0                 51.0         0.0   \n",
       "conspiracy                      10.0                 25.0       116.0   \n",
       "politics                       173.0                175.0       441.0   \n",
       "ukpolitics                       4.0                  4.0        12.0   \n",
       "\n",
       "                     conspiracy  politics  ukpolitics  \n",
       "subreddits                                             \n",
       "EnoughTrumpSpam            10.0     173.0         4.0  \n",
       "SandersForPresident        25.0     175.0         4.0  \n",
       "The_Donald                116.0     441.0        12.0  \n",
       "conspiracy                  0.0     106.0         2.0  \n",
       "politics                  106.0       0.0        19.0  \n",
       "ukpolitics                  2.0      19.0         0.0  "
      ]
     },
     "execution_count": 68,
     "metadata": {},
     "output_type": "execute_result"
    }
   ],
   "source": [
    "df_politics_adj = df_adj.loc[df_adj.index.isin(politic_subreddits)]\n",
    "politic_subreddits = df_politics_adj.index.unique().tolist()  #For get the list in the correct order\n",
    "df_politics_adj= df_politics_adj[politic_subreddits].copy()\n",
    "df_politics_adj"
   ]
  },
  {
   "cell_type": "code",
   "execution_count": 69,
   "metadata": {},
   "outputs": [],
   "source": [
    "A = df_politics_adj.values"
   ]
  },
  {
   "cell_type": "code",
   "execution_count": 70,
   "metadata": {
    "scrolled": true
   },
   "outputs": [
    {
     "data": {
      "text/plain": [
       "array([[  0.,  27.,  27.,  10., 173.,   4.],\n",
       "       [ 27.,   0.,  51.,  25., 175.,   4.],\n",
       "       [ 27.,  51.,   0., 116., 441.,  12.],\n",
       "       [ 10.,  25., 116.,   0., 106.,   2.],\n",
       "       [173., 175., 441., 106.,   0.,  19.],\n",
       "       [  4.,   4.,  12.,   2.,  19.,   0.]])"
      ]
     },
     "execution_count": 70,
     "metadata": {},
     "output_type": "execute_result"
    }
   ],
   "source": [
    "A"
   ]
  },
  {
   "cell_type": "code",
   "execution_count": 80,
   "metadata": {},
   "outputs": [],
   "source": [
    "#g_politic_subreddits = igraph.Graph.Adjacency((A > 0).tolist())\n",
    "g_politic_subreddits = Graph()\n",
    "\n",
    "to_delete_ids = [v.index for v in g_politic_subreddits.vs]\n",
    "g_politic_subreddits.delete_vertices(to_delete_ids)\n",
    "\n",
    "g_politic_subreddits = g_politic_subreddits.Adjacency((A > 0).tolist())"
   ]
  },
  {
   "cell_type": "code",
   "execution_count": 81,
   "metadata": {
    "scrolled": false
   },
   "outputs": [
    {
     "data": {
      "image/svg+xml": [
       "<?xml version=\"1.0\" encoding=\"UTF-8\"?>\n",
       "<svg xmlns=\"http://www.w3.org/2000/svg\" xmlns:xlink=\"http://www.w3.org/1999/xlink\" width=\"600pt\" height=\"600pt\" viewBox=\"0 0 600 600\" version=\"1.1\">\n",
       "<defs>\n",
       "<g>\n",
       "<symbol overflow=\"visible\" id=\"glyph0-0\">\n",
       "<path style=\"stroke:none;\" d=\"M 1.75 0 L 1.75 -8.75 L 8.75 -8.75 L 8.75 0 Z M 1.96875 -0.21875 L 8.53125 -0.21875 L 8.53125 -8.53125 L 1.96875 -8.53125 Z M 1.96875 -0.21875 \"/>\n",
       "</symbol>\n",
       "<symbol overflow=\"visible\" id=\"glyph0-1\">\n",
       "<path style=\"stroke:none;\" d=\"M 1.109375 0 L 1.109375 -10.023438 L 8.351563 -10.023438 L 8.351563 -8.839844 L 2.433594 -8.839844 L 2.433594 -5.769531 L 7.976563 -5.769531 L 7.976563 -4.59375 L 2.433594 -4.59375 L 2.433594 -1.183594 L 8.585938 -1.183594 L 8.585938 0 Z M 1.109375 0 \"/>\n",
       "</symbol>\n",
       "<symbol overflow=\"visible\" id=\"glyph0-2\">\n",
       "<path style=\"stroke:none;\" d=\"M 0.921875 0 L 0.921875 -7.257813 L 2.03125 -7.257813 L 2.03125 -6.226563 C 2.558594 -7.019531 3.328125 -7.417969 4.339844 -7.421875 C 4.773438 -7.417969 5.175781 -7.339844 5.546875 -7.1875 C 5.910156 -7.027344 6.183594 -6.820313 6.371094 -6.570313 C 6.550781 -6.3125 6.679688 -6.011719 6.753906 -5.660156 C 6.796875 -5.433594 6.820313 -5.035156 6.820313 -4.464844 L 6.820313 0 L 5.59375 0 L 5.59375 -4.414063 C 5.589844 -4.914063 5.542969 -5.289063 5.449219 -5.539063 C 5.351563 -5.785156 5.179688 -5.984375 4.9375 -6.136719 C 4.691406 -6.28125 4.40625 -6.355469 4.082031 -6.359375 C 3.554688 -6.355469 3.101563 -6.191406 2.722656 -5.859375 C 2.339844 -5.523438 2.148438 -4.890625 2.152344 -3.964844 L 2.152344 0 Z M 0.921875 0 \"/>\n",
       "</symbol>\n",
       "<symbol overflow=\"visible\" id=\"glyph0-3\">\n",
       "<path style=\"stroke:none;\" d=\"M 0.464844 -3.628906 C 0.460938 -4.972656 0.835938 -5.96875 1.585938 -6.617188 C 2.207031 -7.148438 2.96875 -7.417969 3.867188 -7.421875 C 4.867188 -7.417969 5.683594 -7.089844 6.316406 -6.441406 C 6.949219 -5.785156 7.265625 -4.882813 7.265625 -3.734375 C 7.265625 -2.796875 7.125 -2.0625 6.84375 -1.527344 C 6.5625 -0.992188 6.152344 -0.578125 5.621094 -0.28125 C 5.082031 0.015625 4.5 0.164063 3.867188 0.164063 C 2.851563 0.164063 2.027344 -0.160156 1.402344 -0.8125 C 0.773438 -1.460938 0.460938 -2.398438 0.464844 -3.628906 Z M 1.730469 -3.628906 C 1.726563 -2.695313 1.929688 -2 2.335938 -1.539063 C 2.738281 -1.074219 3.25 -0.84375 3.867188 -0.847656 C 4.476563 -0.84375 4.984375 -1.074219 5.390625 -1.542969 C 5.796875 -2.003906 6 -2.714844 6 -3.671875 C 6 -4.566406 5.792969 -5.246094 5.386719 -5.710938 C 4.976563 -6.171875 4.472656 -6.402344 3.867188 -6.40625 C 3.25 -6.402344 2.738281 -6.171875 2.335938 -5.714844 C 1.929688 -5.25 1.726563 -4.554688 1.730469 -3.628906 Z M 1.730469 -3.628906 \"/>\n",
       "</symbol>\n",
       "<symbol overflow=\"visible\" id=\"glyph0-4\">\n",
       "<path style=\"stroke:none;\" d=\"M 5.679688 0 L 5.679688 -1.066406 C 5.109375 -0.246094 4.34375 0.164063 3.375 0.164063 C 2.945313 0.164063 2.542969 0.0820313 2.175781 -0.0820313 C 1.800781 -0.246094 1.527344 -0.449219 1.347656 -0.699219 C 1.167969 -0.945313 1.039063 -1.25 0.96875 -1.613281 C 0.914063 -1.851563 0.890625 -2.234375 0.894531 -2.761719 L 0.894531 -7.257813 L 2.125 -7.257813 L 2.125 -3.234375 C 2.121094 -2.589844 2.148438 -2.15625 2.203125 -1.933594 C 2.277344 -1.609375 2.4375 -1.355469 2.691406 -1.171875 C 2.941406 -0.984375 3.253906 -0.890625 3.625 -0.894531 C 3.988281 -0.890625 4.332031 -0.984375 4.660156 -1.175781 C 4.980469 -1.363281 5.210938 -1.621094 5.347656 -1.949219 C 5.480469 -2.273438 5.546875 -2.746094 5.550781 -3.371094 L 5.550781 -7.257813 L 6.78125 -7.257813 L 6.78125 0 Z M 5.679688 0 \"/>\n",
       "</symbol>\n",
       "<symbol overflow=\"visible\" id=\"glyph0-5\">\n",
       "<path style=\"stroke:none;\" d=\"M 0.695313 0.601563 L 1.894531 0.78125 C 1.941406 1.144531 2.082031 1.414063 2.3125 1.585938 C 2.613281 1.8125 3.03125 1.925781 3.5625 1.929688 C 4.128906 1.925781 4.566406 1.8125 4.878906 1.585938 C 5.1875 1.355469 5.398438 1.035156 5.507813 0.628906 C 5.570313 0.375 5.597656 -0.148438 5.597656 -0.949219 C 5.058594 -0.316406 4.390625 0 3.589844 0 C 2.589844 0 1.816406 -0.359375 1.273438 -1.078125 C 0.722656 -1.796875 0.449219 -2.660156 0.453125 -3.671875 C 0.449219 -4.363281 0.574219 -5.003906 0.828125 -5.589844 C 1.074219 -6.175781 1.4375 -6.625 1.917969 -6.945313 C 2.390625 -7.257813 2.949219 -7.417969 3.59375 -7.421875 C 4.449219 -7.417969 5.15625 -7.070313 5.714844 -6.382813 L 5.714844 -7.257813 L 6.851563 -7.257813 L 6.851563 -0.984375 C 6.847656 0.144531 6.734375 0.945313 6.503906 1.417969 C 6.273438 1.886719 5.90625 2.257813 5.410156 2.535156 C 4.910156 2.804688 4.296875 2.941406 3.570313 2.945313 C 2.699219 2.941406 2 2.746094 1.46875 2.359375 C 0.933594 1.96875 0.675781 1.382813 0.695313 0.601563 Z M 1.714844 -3.757813 C 1.710938 -2.804688 1.898438 -2.113281 2.28125 -1.675781 C 2.65625 -1.238281 3.132813 -1.019531 3.703125 -1.019531 C 4.269531 -1.019531 4.742188 -1.234375 5.128906 -1.671875 C 5.507813 -2.101563 5.699219 -2.785156 5.703125 -3.71875 C 5.699219 -4.605469 5.503906 -5.273438 5.109375 -5.726563 C 4.714844 -6.175781 4.238281 -6.402344 3.683594 -6.40625 C 3.132813 -6.402344 2.667969 -6.179688 2.289063 -5.738281 C 1.902344 -5.289063 1.710938 -4.628906 1.714844 -3.757813 Z M 1.714844 -3.757813 \"/>\n",
       "</symbol>\n",
       "<symbol overflow=\"visible\" id=\"glyph0-6\">\n",
       "<path style=\"stroke:none;\" d=\"M 0.921875 0 L 0.921875 -10.023438 L 2.152344 -10.023438 L 2.152344 -6.425781 C 2.722656 -7.085938 3.449219 -7.417969 4.328125 -7.421875 C 4.863281 -7.417969 5.328125 -7.3125 5.726563 -7.105469 C 6.121094 -6.890625 6.40625 -6.597656 6.578125 -6.226563 C 6.746094 -5.851563 6.832031 -5.308594 6.835938 -4.601563 L 6.835938 0 L 5.605469 0 L 5.605469 -4.601563 C 5.601563 -5.210938 5.46875 -5.660156 5.203125 -5.941406 C 4.9375 -6.222656 4.558594 -6.363281 4.074219 -6.363281 C 3.707031 -6.363281 3.363281 -6.265625 3.042969 -6.078125 C 2.71875 -5.886719 2.492188 -5.632813 2.355469 -5.3125 C 2.21875 -4.988281 2.148438 -4.542969 2.152344 -3.972656 L 2.152344 0 Z M 0.921875 0 \"/>\n",
       "</symbol>\n",
       "<symbol overflow=\"visible\" id=\"glyph0-7\">\n",
       "<path style=\"stroke:none;\" d=\"M 3.628906 0 L 3.628906 -8.839844 L 0.328125 -8.839844 L 0.328125 -10.023438 L 8.273438 -10.023438 L 8.273438 -8.839844 L 4.957031 -8.839844 L 4.957031 0 Z M 3.628906 0 \"/>\n",
       "</symbol>\n",
       "<symbol overflow=\"visible\" id=\"glyph0-8\">\n",
       "<path style=\"stroke:none;\" d=\"M 0.910156 0 L 0.910156 -7.257813 L 2.015625 -7.257813 L 2.015625 -6.160156 C 2.296875 -6.667969 2.554688 -7.007813 2.796875 -7.175781 C 3.03125 -7.335938 3.296875 -7.417969 3.589844 -7.421875 C 4 -7.417969 4.421875 -7.285156 4.851563 -7.027344 L 4.429688 -5.886719 C 4.125 -6.0625 3.824219 -6.152344 3.527344 -6.152344 C 3.257813 -6.152344 3.015625 -6.070313 2.800781 -5.910156 C 2.585938 -5.746094 2.433594 -5.519531 2.34375 -5.234375 C 2.207031 -4.792969 2.136719 -4.316406 2.140625 -3.800781 L 2.140625 0 Z M 0.910156 0 \"/>\n",
       "</symbol>\n",
       "<symbol overflow=\"visible\" id=\"glyph0-9\">\n",
       "<path style=\"stroke:none;\" d=\"M 0.921875 0 L 0.921875 -7.257813 L 2.023438 -7.257813 L 2.023438 -6.242188 C 2.25 -6.59375 2.554688 -6.878906 2.933594 -7.097656 C 3.308594 -7.308594 3.738281 -7.417969 4.226563 -7.421875 C 4.757813 -7.417969 5.199219 -7.304688 5.546875 -7.085938 C 5.886719 -6.859375 6.128906 -6.550781 6.273438 -6.152344 C 6.847656 -6.996094 7.59375 -7.417969 8.515625 -7.421875 C 9.234375 -7.417969 9.789063 -7.21875 10.175781 -6.824219 C 10.5625 -6.421875 10.757813 -5.808594 10.757813 -4.984375 L 10.757813 0 L 9.535156 0 L 9.535156 -4.574219 C 9.53125 -5.0625 9.492188 -5.417969 9.414063 -5.636719 C 9.332031 -5.851563 9.1875 -6.023438 8.980469 -6.160156 C 8.769531 -6.289063 8.523438 -6.355469 8.242188 -6.359375 C 7.730469 -6.355469 7.308594 -6.1875 6.972656 -5.847656 C 6.636719 -5.507813 6.46875 -4.964844 6.46875 -4.21875 L 6.46875 0 L 5.234375 0 L 5.234375 -4.71875 C 5.230469 -5.261719 5.132813 -5.671875 4.933594 -5.949219 C 4.730469 -6.21875 4.402344 -6.355469 3.953125 -6.359375 C 3.601563 -6.355469 3.28125 -6.265625 2.988281 -6.085938 C 2.695313 -5.902344 2.480469 -5.636719 2.351563 -5.285156 C 2.214844 -4.933594 2.148438 -4.425781 2.152344 -3.765625 L 2.152344 0 Z M 0.921875 0 \"/>\n",
       "</symbol>\n",
       "<symbol overflow=\"visible\" id=\"glyph0-10\">\n",
       "<path style=\"stroke:none;\" d=\"M 0.921875 2.78125 L 0.921875 -7.257813 L 2.042969 -7.257813 L 2.042969 -6.316406 C 2.304688 -6.683594 2.601563 -6.957031 2.9375 -7.144531 C 3.265625 -7.324219 3.671875 -7.417969 4.148438 -7.421875 C 4.765625 -7.417969 5.3125 -7.257813 5.789063 -6.945313 C 6.261719 -6.625 6.617188 -6.175781 6.863281 -5.59375 C 7.101563 -5.011719 7.222656 -4.375 7.226563 -3.683594 C 7.222656 -2.9375 7.089844 -2.269531 6.824219 -1.675781 C 6.554688 -1.082031 6.167969 -0.625 5.664063 -0.308594 C 5.152344 0.0078125 4.617188 0.164063 4.0625 0.164063 C 3.648438 0.164063 3.28125 0.078125 2.957031 -0.09375 C 2.628906 -0.265625 2.359375 -0.484375 2.152344 -0.75 L 2.152344 2.78125 Z M 2.039063 -3.589844 C 2.039063 -2.652344 2.226563 -1.960938 2.605469 -1.515625 C 2.980469 -1.066406 3.4375 -0.84375 3.976563 -0.847656 C 4.519531 -0.84375 4.988281 -1.074219 5.382813 -1.539063 C 5.769531 -2 5.964844 -2.71875 5.96875 -3.691406 C 5.964844 -4.613281 5.773438 -5.304688 5.398438 -5.769531 C 5.015625 -6.226563 4.5625 -6.457031 4.03125 -6.460938 C 3.507813 -6.457031 3.042969 -6.210938 2.640625 -5.726563 C 2.238281 -5.234375 2.039063 -4.523438 2.039063 -3.589844 Z M 2.039063 -3.589844 \"/>\n",
       "</symbol>\n",
       "<symbol overflow=\"visible\" id=\"glyph0-11\">\n",
       "<path style=\"stroke:none;\" d=\"M 0.628906 -3.21875 L 1.878906 -3.328125 C 1.9375 -2.828125 2.074219 -2.414063 2.292969 -2.09375 C 2.503906 -1.769531 2.839844 -1.511719 3.300781 -1.316406 C 3.753906 -1.117188 4.269531 -1.019531 4.839844 -1.019531 C 5.34375 -1.019531 5.789063 -1.09375 6.179688 -1.242188 C 6.566406 -1.390625 6.855469 -1.597656 7.042969 -1.863281 C 7.230469 -2.125 7.324219 -2.410156 7.328125 -2.71875 C 7.324219 -3.03125 7.234375 -3.304688 7.054688 -3.542969 C 6.871094 -3.777344 6.570313 -3.976563 6.152344 -4.136719 C 5.882813 -4.238281 5.285156 -4.398438 4.367188 -4.625 C 3.445313 -4.84375 2.800781 -5.054688 2.433594 -5.25 C 1.949219 -5.5 1.59375 -5.808594 1.363281 -6.183594 C 1.125 -6.550781 1.007813 -6.96875 1.011719 -7.429688 C 1.007813 -7.933594 1.152344 -8.40625 1.441406 -8.847656 C 1.730469 -9.285156 2.148438 -9.617188 2.699219 -9.847656 C 3.25 -10.074219 3.863281 -10.1875 4.539063 -10.191406 C 5.277344 -10.1875 5.933594 -10.070313 6.503906 -9.832031 C 7.070313 -9.59375 7.503906 -9.242188 7.8125 -8.777344 C 8.117188 -8.308594 8.28125 -7.78125 8.304688 -7.199219 L 7.035156 -7.101563 C 6.960938 -7.734375 6.730469 -8.210938 6.339844 -8.539063 C 5.945313 -8.859375 5.363281 -9.023438 4.59375 -9.023438 C 3.789063 -9.023438 3.203125 -8.875 2.839844 -8.582031 C 2.46875 -8.285156 2.285156 -7.929688 2.289063 -7.519531 C 2.285156 -7.15625 2.414063 -6.863281 2.679688 -6.632813 C 2.929688 -6.398438 3.597656 -6.15625 4.679688 -5.914063 C 5.753906 -5.667969 6.492188 -5.457031 6.898438 -5.277344 C 7.476563 -5.007813 7.90625 -4.667969 8.1875 -4.253906 C 8.460938 -3.839844 8.601563 -3.363281 8.605469 -2.828125 C 8.601563 -2.292969 8.449219 -1.792969 8.148438 -1.324219 C 7.839844 -0.851563 7.402344 -0.484375 6.832031 -0.222656 C 6.261719 0.0390625 5.617188 0.167969 4.902344 0.171875 C 3.992188 0.167969 3.230469 0.0390625 2.621094 -0.222656 C 2.003906 -0.488281 1.523438 -0.886719 1.179688 -1.417969 C 0.828125 -1.949219 0.644531 -2.546875 0.628906 -3.21875 Z M 0.628906 -3.21875 \"/>\n",
       "</symbol>\n",
       "<symbol overflow=\"visible\" id=\"glyph0-12\">\n",
       "<path style=\"stroke:none;\" d=\"M 5.660156 -0.894531 C 5.203125 -0.503906 4.761719 -0.230469 4.34375 -0.0742188 C 3.917969 0.0859375 3.46875 0.164063 2.988281 0.164063 C 2.1875 0.164063 1.574219 -0.0273438 1.148438 -0.417969 C 0.71875 -0.804688 0.503906 -1.304688 0.507813 -1.914063 C 0.503906 -2.265625 0.585938 -2.589844 0.75 -2.886719 C 0.910156 -3.179688 1.121094 -3.414063 1.382813 -3.59375 C 1.644531 -3.769531 1.9375 -3.90625 2.269531 -4 C 2.507813 -4.058594 2.875 -4.121094 3.363281 -4.183594 C 4.355469 -4.300781 5.085938 -4.441406 5.558594 -4.609375 C 5.558594 -4.773438 5.558594 -4.878906 5.5625 -4.929688 C 5.558594 -5.425781 5.445313 -5.78125 5.214844 -5.988281 C 4.898438 -6.265625 4.429688 -6.402344 3.8125 -6.40625 C 3.230469 -6.402344 2.804688 -6.300781 2.53125 -6.101563 C 2.253906 -5.894531 2.050781 -5.535156 1.921875 -5.023438 L 0.71875 -5.1875 C 0.824219 -5.699219 1.003906 -6.117188 1.257813 -6.433594 C 1.503906 -6.75 1.867188 -6.992188 2.34375 -7.164063 C 2.816406 -7.332031 3.363281 -7.417969 3.992188 -7.421875 C 4.609375 -7.417969 5.113281 -7.34375 5.503906 -7.203125 C 5.886719 -7.054688 6.171875 -6.871094 6.359375 -6.652344 C 6.539063 -6.429688 6.667969 -6.152344 6.742188 -5.816406 C 6.777344 -5.605469 6.796875 -5.226563 6.800781 -4.683594 L 6.800781 -3.042969 C 6.796875 -1.894531 6.824219 -1.171875 6.878906 -0.871094 C 6.933594 -0.566406 7.035156 -0.277344 7.191406 0 L 5.90625 0 C 5.777344 -0.253906 5.695313 -0.550781 5.660156 -0.894531 Z M 5.558594 -3.644531 C 5.109375 -3.460938 4.4375 -3.304688 3.546875 -3.179688 C 3.039063 -3.105469 2.683594 -3.023438 2.472656 -2.933594 C 2.261719 -2.839844 2.097656 -2.707031 1.988281 -2.53125 C 1.871094 -2.355469 1.816406 -2.160156 1.820313 -1.949219 C 1.816406 -1.617188 1.941406 -1.34375 2.191406 -1.128906 C 2.4375 -0.90625 2.800781 -0.796875 3.28125 -0.800781 C 3.753906 -0.796875 4.175781 -0.898438 4.546875 -1.109375 C 4.914063 -1.3125 5.183594 -1.597656 5.359375 -1.960938 C 5.488281 -2.238281 5.554688 -2.648438 5.558594 -3.191406 Z M 5.558594 -3.644531 \"/>\n",
       "</symbol>\n",
       "<symbol overflow=\"visible\" id=\"glyph0-13\">\n",
       "<path style=\"stroke:none;\" d=\"M 5.632813 0 L 5.632813 -0.914063 C 5.167969 -0.195313 4.492188 0.164063 3.601563 0.164063 C 3.019531 0.164063 2.488281 0.0078125 2.003906 -0.3125 C 1.519531 -0.628906 1.140625 -1.074219 0.875 -1.648438 C 0.605469 -2.21875 0.472656 -2.878906 0.476563 -3.625 C 0.472656 -4.347656 0.59375 -5.003906 0.839844 -5.59375 C 1.078125 -6.183594 1.441406 -6.636719 1.925781 -6.949219 C 2.40625 -7.261719 2.945313 -7.417969 3.546875 -7.421875 C 3.980469 -7.417969 4.371094 -7.324219 4.714844 -7.144531 C 5.054688 -6.957031 5.332031 -6.71875 5.550781 -6.425781 L 5.550781 -10.023438 L 6.773438 -10.023438 L 6.773438 0 Z M 1.742188 -3.625 C 1.738281 -2.691406 1.933594 -1.996094 2.328125 -1.535156 C 2.71875 -1.074219 3.183594 -0.84375 3.71875 -0.847656 C 4.253906 -0.84375 4.710938 -1.0625 5.085938 -1.507813 C 5.460938 -1.945313 5.648438 -2.617188 5.652344 -3.519531 C 5.648438 -4.511719 5.457031 -5.242188 5.078125 -5.707031 C 4.691406 -6.171875 4.21875 -6.402344 3.664063 -6.40625 C 3.113281 -6.402344 2.65625 -6.179688 2.292969 -5.734375 C 1.921875 -5.285156 1.738281 -4.582031 1.742188 -3.625 Z M 1.742188 -3.625 \"/>\n",
       "</symbol>\n",
       "<symbol overflow=\"visible\" id=\"glyph0-14\">\n",
       "<path style=\"stroke:none;\" d=\"M 5.890625 -2.335938 L 7.164063 -2.179688 C 6.960938 -1.4375 6.589844 -0.859375 6.046875 -0.449219 C 5.503906 -0.0390625 4.8125 0.164063 3.972656 0.164063 C 2.910156 0.164063 2.066406 -0.160156 1.445313 -0.816406 C 0.820313 -1.464844 0.507813 -2.382813 0.511719 -3.570313 C 0.507813 -4.785156 0.824219 -5.734375 1.453125 -6.410156 C 2.082031 -7.082031 2.898438 -7.417969 3.902344 -7.421875 C 4.871094 -7.417969 5.664063 -7.085938 6.28125 -6.429688 C 6.894531 -5.765625 7.199219 -4.839844 7.203125 -3.644531 C 7.199219 -3.570313 7.199219 -3.460938 7.199219 -3.316406 L 1.785156 -3.316406 C 1.828125 -2.515625 2.054688 -1.902344 2.460938 -1.480469 C 2.867188 -1.054688 3.371094 -0.84375 3.976563 -0.847656 C 4.425781 -0.84375 4.8125 -0.960938 5.132813 -1.203125 C 5.453125 -1.4375 5.703125 -1.816406 5.890625 -2.335938 Z M 1.851563 -4.328125 L 5.90625 -4.328125 C 5.851563 -4.933594 5.695313 -5.390625 5.441406 -5.703125 C 5.046875 -6.171875 4.539063 -6.410156 3.917969 -6.414063 C 3.351563 -6.410156 2.875 -6.21875 2.492188 -5.84375 C 2.101563 -5.460938 1.890625 -4.957031 1.851563 -4.328125 Z M 1.851563 -4.328125 \"/>\n",
       "</symbol>\n",
       "<symbol overflow=\"visible\" id=\"glyph0-15\">\n",
       "<path style=\"stroke:none;\" d=\"M 0.429688 -2.167969 L 1.648438 -2.359375 C 1.710938 -1.867188 1.902344 -1.492188 2.21875 -1.234375 C 2.527344 -0.972656 2.964844 -0.84375 3.527344 -0.847656 C 4.089844 -0.84375 4.507813 -0.957031 4.785156 -1.191406 C 5.054688 -1.417969 5.191406 -1.691406 5.195313 -2.003906 C 5.191406 -2.28125 5.070313 -2.5 4.832031 -2.660156 C 4.660156 -2.769531 4.242188 -2.90625 3.574219 -3.078125 C 2.671875 -3.300781 2.046875 -3.5 1.699219 -3.667969 C 1.347656 -3.832031 1.082031 -4.058594 0.90625 -4.355469 C 0.722656 -4.644531 0.632813 -4.972656 0.636719 -5.332031 C 0.632813 -5.652344 0.707031 -5.949219 0.855469 -6.230469 C 1.003906 -6.503906 1.203125 -6.734375 1.460938 -6.917969 C 1.648438 -7.054688 1.910156 -7.171875 2.246094 -7.273438 C 2.574219 -7.367188 2.929688 -7.417969 3.308594 -7.421875 C 3.875 -7.417969 4.375 -7.335938 4.808594 -7.175781 C 5.234375 -7.007813 5.550781 -6.785156 5.761719 -6.507813 C 5.964844 -6.226563 6.109375 -5.851563 6.1875 -5.386719 L 4.984375 -5.222656 C 4.925781 -5.589844 4.765625 -5.882813 4.507813 -6.097656 C 4.242188 -6.304688 3.875 -6.410156 3.398438 -6.414063 C 2.832031 -6.410156 2.425781 -6.316406 2.1875 -6.132813 C 1.941406 -5.941406 1.820313 -5.722656 1.824219 -5.476563 C 1.820313 -5.3125 1.871094 -5.167969 1.976563 -5.046875 C 2.070313 -4.910156 2.226563 -4.800781 2.445313 -4.71875 C 2.566406 -4.667969 2.929688 -4.5625 3.535156 -4.402344 C 4.402344 -4.167969 5.011719 -3.980469 5.355469 -3.832031 C 5.699219 -3.683594 5.96875 -3.464844 6.164063 -3.183594 C 6.359375 -2.898438 6.457031 -2.550781 6.460938 -2.132813 C 6.457031 -1.71875 6.335938 -1.332031 6.101563 -0.972656 C 5.859375 -0.609375 5.515625 -0.328125 5.066406 -0.132813 C 4.613281 0.0664063 4.101563 0.164063 3.535156 0.164063 C 2.585938 0.164063 1.867188 -0.03125 1.375 -0.421875 C 0.878906 -0.8125 0.5625 -1.394531 0.429688 -2.167969 Z M 0.429688 -2.167969 \"/>\n",
       "</symbol>\n",
       "<symbol overflow=\"visible\" id=\"glyph0-16\">\n",
       "<path style=\"stroke:none;\" d=\"M 1.148438 0 L 1.148438 -10.023438 L 7.910156 -10.023438 L 7.910156 -8.839844 L 2.476563 -8.839844 L 2.476563 -5.734375 L 7.179688 -5.734375 L 7.179688 -4.554688 L 2.476563 -4.554688 L 2.476563 0 Z M 1.148438 0 \"/>\n",
       "</symbol>\n",
       "<symbol overflow=\"visible\" id=\"glyph0-17\">\n",
       "<path style=\"stroke:none;\" d=\"M 1.078125 0 L 1.078125 -10.023438 L 4.859375 -10.023438 C 5.523438 -10.019531 6.03125 -9.988281 6.382813 -9.925781 C 6.875 -9.84375 7.289063 -9.6875 7.621094 -9.457031 C 7.953125 -9.226563 8.222656 -8.902344 8.425781 -8.488281 C 8.628906 -8.070313 8.730469 -7.617188 8.730469 -7.125 C 8.730469 -6.269531 8.457031 -5.546875 7.914063 -4.957031 C 7.371094 -4.367188 6.390625 -4.070313 4.976563 -4.074219 L 2.40625 -4.074219 L 2.40625 0 Z M 2.40625 -5.257813 L 4.996094 -5.257813 C 5.851563 -5.253906 6.460938 -5.414063 6.820313 -5.734375 C 7.179688 -6.050781 7.359375 -6.5 7.363281 -7.082031 C 7.359375 -7.5 7.253906 -7.859375 7.042969 -8.15625 C 6.832031 -8.453125 6.550781 -8.648438 6.207031 -8.75 C 5.980469 -8.804688 5.570313 -8.835938 4.96875 -8.839844 L 2.40625 -8.839844 Z M 2.40625 -5.257813 \"/>\n",
       "</symbol>\n",
       "<symbol overflow=\"visible\" id=\"glyph0-18\">\n",
       "<path style=\"stroke:none;\" d=\"M 0.929688 -8.605469 L 0.929688 -10.023438 L 2.160156 -10.023438 L 2.160156 -8.605469 Z M 0.929688 0 L 0.929688 -7.257813 L 2.160156 -7.257813 L 2.160156 0 Z M 0.929688 0 \"/>\n",
       "</symbol>\n",
       "<symbol overflow=\"visible\" id=\"glyph0-19\">\n",
       "<path style=\"stroke:none;\" d=\"M 3.609375 -1.101563 L 3.789063 -0.015625 C 3.4375 0.0585938 3.128906 0.09375 2.859375 0.09375 C 2.410156 0.09375 2.0625 0.0234375 1.816406 -0.117188 C 1.570313 -0.257813 1.394531 -0.441406 1.296875 -0.671875 C 1.195313 -0.902344 1.148438 -1.386719 1.148438 -2.125 L 1.148438 -6.304688 L 0.246094 -6.304688 L 0.246094 -7.257813 L 1.148438 -7.257813 L 1.148438 -9.058594 L 2.371094 -9.796875 L 2.371094 -7.257813 L 3.609375 -7.257813 L 3.609375 -6.304688 L 2.371094 -6.304688 L 2.371094 -2.058594 C 2.367188 -1.703125 2.386719 -1.476563 2.433594 -1.378906 C 2.472656 -1.277344 2.546875 -1.199219 2.648438 -1.140625 C 2.746094 -1.082031 2.886719 -1.054688 3.070313 -1.054688 C 3.203125 -1.054688 3.382813 -1.070313 3.609375 -1.101563 Z M 3.609375 -1.101563 \"/>\n",
       "</symbol>\n",
       "<symbol overflow=\"visible\" id=\"glyph0-20\">\n",
       "<path style=\"stroke:none;\" d=\"M -0.210938 2.78125 L -0.210938 1.894531 L 7.945313 1.894531 L 7.945313 2.78125 Z M -0.210938 2.78125 \"/>\n",
       "</symbol>\n",
       "<symbol overflow=\"visible\" id=\"glyph0-21\">\n",
       "<path style=\"stroke:none;\" d=\"M 1.078125 0 L 1.078125 -10.023438 L 4.53125 -10.023438 C 5.308594 -10.019531 5.90625 -9.972656 6.316406 -9.878906 C 6.890625 -9.746094 7.378906 -9.503906 7.785156 -9.160156 C 8.3125 -8.710938 8.707031 -8.140625 8.972656 -7.449219 C 9.230469 -6.75 9.363281 -5.957031 9.367188 -5.066406 C 9.363281 -4.300781 9.273438 -3.625 9.097656 -3.039063 C 8.917969 -2.449219 8.691406 -1.964844 8.414063 -1.582031 C 8.136719 -1.195313 7.832031 -0.890625 7.503906 -0.671875 C 7.171875 -0.449219 6.773438 -0.28125 6.304688 -0.171875 C 5.835938 -0.0546875 5.296875 0 4.695313 0 Z M 2.40625 -1.183594 L 4.546875 -1.183594 C 5.207031 -1.183594 5.722656 -1.242188 6.101563 -1.367188 C 6.472656 -1.484375 6.773438 -1.660156 7 -1.886719 C 7.3125 -2.199219 7.558594 -2.621094 7.734375 -3.15625 C 7.910156 -3.683594 7.996094 -4.328125 8 -5.085938 C 7.996094 -6.132813 7.824219 -6.9375 7.480469 -7.5 C 7.132813 -8.0625 6.714844 -8.4375 6.226563 -8.632813 C 5.871094 -8.765625 5.300781 -8.835938 4.511719 -8.839844 L 2.40625 -8.839844 Z M 2.40625 -1.183594 \"/>\n",
       "</symbol>\n",
       "<symbol overflow=\"visible\" id=\"glyph0-22\">\n",
       "<path style=\"stroke:none;\" d=\"M 0.894531 0 L 0.894531 -10.023438 L 2.125 -10.023438 L 2.125 0 Z M 0.894531 0 \"/>\n",
       "</symbol>\n",
       "<symbol overflow=\"visible\" id=\"glyph0-23\">\n",
       "<path style=\"stroke:none;\" d=\"M 5.660156 -2.660156 L 6.871094 -2.5 C 6.734375 -1.664063 6.394531 -1.011719 5.855469 -0.542969 C 5.308594 -0.0703125 4.640625 0.164063 3.847656 0.164063 C 2.851563 0.164063 2.054688 -0.160156 1.453125 -0.808594 C 0.847656 -1.457031 0.542969 -2.386719 0.546875 -3.601563 C 0.542969 -4.382813 0.675781 -5.070313 0.9375 -5.660156 C 1.195313 -6.246094 1.589844 -6.683594 2.121094 -6.980469 C 2.652344 -7.269531 3.230469 -7.417969 3.855469 -7.421875 C 4.644531 -7.417969 5.289063 -7.21875 5.789063 -6.824219 C 6.289063 -6.421875 6.609375 -5.855469 6.753906 -5.125 L 5.558594 -4.941406 C 5.441406 -5.425781 5.238281 -5.792969 4.953125 -6.042969 C 4.660156 -6.285156 4.3125 -6.410156 3.902344 -6.414063 C 3.28125 -6.410156 2.777344 -6.1875 2.390625 -5.746094 C 2.003906 -5.296875 1.808594 -4.59375 1.8125 -3.636719 C 1.808594 -2.65625 1.996094 -1.945313 2.371094 -1.507813 C 2.742188 -1.0625 3.230469 -0.84375 3.835938 -0.847656 C 4.316406 -0.84375 4.71875 -0.992188 5.042969 -1.289063 C 5.367188 -1.585938 5.574219 -2.042969 5.660156 -2.660156 Z M 5.660156 -2.660156 \"/>\n",
       "</symbol>\n",
       "<symbol overflow=\"visible\" id=\"glyph0-24\">\n",
       "<path style=\"stroke:none;\" d=\"M 0.867188 2.796875 L 0.730469 1.640625 C 0.996094 1.710938 1.230469 1.746094 1.4375 1.75 C 1.703125 1.746094 1.921875 1.699219 2.089844 1.613281 C 2.25 1.519531 2.386719 1.394531 2.496094 1.230469 C 2.570313 1.105469 2.695313 0.796875 2.871094 0.3125 C 2.894531 0.242188 2.929688 0.144531 2.980469 0.015625 L 0.226563 -7.257813 L 1.550781 -7.257813 L 3.0625 -3.054688 C 3.253906 -2.519531 3.429688 -1.960938 3.589844 -1.375 C 3.726563 -1.9375 3.894531 -2.488281 4.09375 -3.027344 L 5.648438 -7.257813 L 6.875 -7.257813 L 4.117188 0.125 C 3.816406 0.917969 3.585938 1.46875 3.425781 1.769531 C 3.203125 2.175781 2.953125 2.472656 2.671875 2.660156 C 2.390625 2.847656 2.050781 2.941406 1.660156 2.945313 C 1.417969 2.941406 1.15625 2.890625 0.867188 2.796875 Z M 0.867188 2.796875 \"/>\n",
       "</symbol>\n",
       "<symbol overflow=\"visible\" id=\"glyph0-25\">\n",
       "<path style=\"stroke:none;\" d=\"M 0.929688 0 L 0.929688 -10.023438 L 2.160156 -10.023438 L 2.160156 -4.304688 L 5.070313 -7.257813 L 6.664063 -7.257813 L 3.890625 -4.566406 L 6.945313 0 L 5.429688 0 L 3.027344 -3.710938 L 2.160156 -2.878906 L 2.160156 0 Z M 0.929688 0 \"/>\n",
       "</symbol>\n",
       "</g>\n",
       "</defs>\n",
       "<g id=\"surface26\">\n",
       "<rect x=\"0\" y=\"0\" width=\"600\" height=\"600\" style=\"fill:rgb(100%,100%,100%);fill-opacity:1;stroke:none;\"/>\n",
       "<path style=\"fill:none;stroke-width:0.27;stroke-linecap:butt;stroke-linejoin:miter;stroke:rgb(26.666667%,26.666667%,26.666667%);stroke-opacity:1;stroke-miterlimit:10;\" d=\"M 364.007813 20 C 244.714844 21.597656 164.8125 78.855469 137.265625 194.851563 \"/>\n",
       "<path style=\" stroke:none;fill-rule:nonzero;fill:rgb(26.666667%,26.666667%,26.666667%);fill-opacity:1;\" d=\"M 133.96875 208.734375 L 132.757813 193.78125 L 141.777344 195.925781 L 133.96875 208.734375 \"/>\n",
       "<path style=\"fill:none;stroke-width:0.27;stroke-linecap:butt;stroke-linejoin:miter;stroke:rgb(26.666667%,26.666667%,26.666667%);stroke-opacity:1;stroke-miterlimit:10;\" d=\"M 364.007813 20 C 354.765625 126.605469 398.585938 203.46875 499.773438 237.992188 \"/>\n",
       "<path style=\" stroke:none;fill-rule:nonzero;fill:rgb(26.666667%,26.666667%,26.666667%);fill-opacity:1;\" d=\"M 513.273438 242.601563 L 498.273438 242.378906 L 501.269531 233.605469 L 513.273438 242.601563 \"/>\n",
       "<path style=\"fill:none;stroke-width:0.1;stroke-linecap:butt;stroke-linejoin:miter;stroke:rgb(26.666667%,26.666667%,26.666667%);stroke-opacity:1;stroke-miterlimit:10;\" d=\"M 364.007813 20 C 337.203125 190.25 399.976563 316.152344 557.703125 385.476563 \"/>\n",
       "<path style=\" stroke:none;fill-rule:nonzero;fill:rgb(26.666667%,26.666667%,26.666667%);fill-opacity:1;\" d=\"M 570.765625 391.21875 L 555.839844 389.722656 L 559.570313 381.234375 L 570.765625 391.21875 \"/>\n",
       "<path style=\"fill:none;stroke-width:1.73;stroke-linecap:butt;stroke-linejoin:miter;stroke:rgb(26.666667%,26.666667%,26.666667%);stroke-opacity:1;stroke-miterlimit:10;\" d=\"M 364.007813 20 C 313.96875 75.324219 304.875 137.285156 347.59375 198.277344 \"/>\n",
       "<path style=\" stroke:none;fill-rule:nonzero;fill:rgb(26.666667%,26.666667%,26.666667%);fill-opacity:1;\" d=\"M 355.777344 209.960938 L 343.796875 200.9375 L 351.390625 195.617188 L 355.777344 209.960938 \"/>\n",
       "<path style=\"fill:none;stroke-width:0.04;stroke-linecap:butt;stroke-linejoin:miter;stroke:rgb(26.666667%,26.666667%,26.666667%);stroke-opacity:1;stroke-miterlimit:10;\" d=\"M 364.007813 20 C 114.707031 112.042969 -5.113281 291 17.890625 555.714844 \"/>\n",
       "<path style=\" stroke:none;fill-rule:nonzero;fill:rgb(26.666667%,26.666667%,26.666667%);fill-opacity:1;\" d=\"M 19.125 569.925781 L 13.273438 556.117188 L 22.507813 555.3125 L 19.125 569.925781 \"/>\n",
       "<path style=\"fill:none;stroke-width:0.27;stroke-linecap:butt;stroke-linejoin:miter;stroke:rgb(26.666667%,26.666667%,26.666667%);stroke-opacity:1;stroke-miterlimit:10;\" d=\"M 131.644531 218.519531 C 250.9375 216.921875 330.839844 159.664063 358.386719 43.667969 \"/>\n",
       "<path style=\" stroke:none;fill-rule:nonzero;fill:rgb(26.666667%,26.666667%,26.666667%);fill-opacity:1;\" d=\"M 361.683594 29.789063 L 362.898438 44.738281 L 353.878906 42.597656 L 361.683594 29.789063 \"/>\n",
       "<path style=\"fill:none;stroke-width:0.51;stroke-linecap:butt;stroke-linejoin:miter;stroke:rgb(26.666667%,26.666667%,26.666667%);stroke-opacity:1;stroke-miterlimit:10;\" d=\"M 131.644531 218.519531 C 245.082031 324.605469 370.980469 341.8125 502.207031 258.855469 \"/>\n",
       "<path style=\" stroke:none;fill-rule:nonzero;fill:rgb(26.666667%,26.666667%,26.666667%);fill-opacity:1;\" d=\"M 514.265625 251.230469 L 504.683594 262.773438 L 499.730469 254.9375 L 514.265625 251.230469 \"/>\n",
       "<path style=\"fill:none;stroke-width:0.25;stroke-linecap:butt;stroke-linejoin:miter;stroke:rgb(26.666667%,26.666667%,26.666667%);stroke-opacity:1;stroke-miterlimit:10;\" d=\"M 131.644531 218.519531 C 227.496094 385.730469 370.242188 451.039063 556.457031 401.535156 \"/>\n",
       "<path style=\" stroke:none;fill-rule:nonzero;fill:rgb(26.666667%,26.666667%,26.666667%);fill-opacity:1;\" d=\"M 570.242188 397.871094 L 557.648438 406.015625 L 555.265625 397.054688 L 570.242188 397.871094 \"/>\n",
       "<path style=\"fill:none;stroke-width:1.75;stroke-linecap:butt;stroke-linejoin:miter;stroke:rgb(26.666667%,26.666667%,26.666667%);stroke-opacity:1;stroke-miterlimit:10;\" d=\"M 131.644531 218.519531 C 198.238281 275.710938 270.910156 283.929688 341.859375 232.429688 \"/>\n",
       "<path style=\" stroke:none;fill-rule:nonzero;fill:rgb(26.666667%,26.666667%,26.666667%);fill-opacity:1;\" d=\"M 353.40625 224.050781 L 344.582031 236.183594 L 339.136719 228.679688 L 353.40625 224.050781 \"/>\n",
       "<path style=\"fill:none;stroke-width:0.04;stroke-linecap:butt;stroke-linejoin:miter;stroke:rgb(26.666667%,26.666667%,26.666667%);stroke-opacity:1;stroke-miterlimit:10;\" d=\"M 131.644531 218.519531 C 7.152344 301.441406 -36.921875 415.722656 12.03125 556.996094 \"/>\n",
       "<path style=\" stroke:none;fill-rule:nonzero;fill:rgb(26.666667%,26.666667%,26.666667%);fill-opacity:1;\" d=\"M 16.699219 570.476563 L 7.648438 558.515625 L 16.410156 555.480469 L 16.699219 570.476563 \"/>\n",
       "<path style=\"fill:none;stroke-width:0.27;stroke-linecap:butt;stroke-linejoin:miter;stroke:rgb(26.666667%,26.666667%,26.666667%);stroke-opacity:1;stroke-miterlimit:10;\" d=\"M 522.785156 245.84375 C 532.027344 139.238281 488.207031 62.375 387.019531 27.851563 \"/>\n",
       "<path style=\" stroke:none;fill-rule:nonzero;fill:rgb(26.666667%,26.666667%,26.666667%);fill-opacity:1;\" d=\"M 373.519531 23.246094 L 388.515625 23.464844 L 385.523438 32.238281 L 373.519531 23.246094 \"/>\n",
       "<path style=\"fill:none;stroke-width:0.51;stroke-linecap:butt;stroke-linejoin:miter;stroke:rgb(26.666667%,26.666667%,26.666667%);stroke-opacity:1;stroke-miterlimit:10;\" d=\"M 522.785156 245.84375 C 409.347656 139.761719 283.449219 122.554688 152.226563 205.511719 \"/>\n",
       "<path style=\" stroke:none;fill-rule:nonzero;fill:rgb(26.666667%,26.666667%,26.666667%);fill-opacity:1;\" d=\"M 140.167969 213.132813 L 149.746094 201.59375 L 154.703125 209.429688 L 140.167969 213.132813 \"/>\n",
       "<path style=\"fill:none;stroke-width:1.16;stroke-linecap:butt;stroke-linejoin:miter;stroke:rgb(26.666667%,26.666667%,26.666667%);stroke-opacity:1;stroke-miterlimit:10;\" d=\"M 522.785156 245.84375 C 501.121094 300.441406 511.027344 349.449219 559.8125 381.863281 \"/>\n",
       "<path style=\" stroke:none;fill-rule:nonzero;fill:rgb(26.666667%,26.666667%,26.666667%);fill-opacity:1;\" d=\"M 571.691406 389.757813 L 557.246094 385.722656 L 562.375 378.003906 L 571.691406 389.757813 \"/>\n",
       "<path style=\"fill:none;stroke-width:4.41;stroke-linecap:butt;stroke-linejoin:miter;stroke:rgb(26.666667%,26.666667%,26.666667%);stroke-opacity:1;stroke-miterlimit:10;\" d=\"M 522.785156 245.84375 C 485.863281 198.25 437.472656 181.542969 383.359375 207.632813 \"/>\n",
       "<path style=\" stroke:none;fill-rule:nonzero;fill:rgb(26.666667%,26.666667%,26.666667%);fill-opacity:1;\" d=\"M 370.507813 213.828125 L 381.34375 203.457031 L 385.371094 211.808594 L 370.507813 213.828125 \"/>\n",
       "<path style=\"fill:none;stroke-width:0.12;stroke-linecap:butt;stroke-linejoin:miter;stroke:rgb(26.666667%,26.666667%,26.666667%);stroke-opacity:1;stroke-miterlimit:10;\" d=\"M 522.785156 245.84375 C 280.144531 225.96875 111.121094 328.195313 28.292969 557.082031 \"/>\n",
       "<path style=\" stroke:none;fill-rule:nonzero;fill:rgb(26.666667%,26.666667%,26.666667%);fill-opacity:1;\" d=\"M 23.4375 570.496094 L 23.933594 555.503906 L 32.652344 558.660156 L 23.4375 570.496094 \"/>\n",
       "<path style=\"fill:none;stroke-width:0.1;stroke-linecap:butt;stroke-linejoin:miter;stroke:rgb(26.666667%,26.666667%,26.666667%);stroke-opacity:1;stroke-miterlimit:10;\" d=\"M 580 395.277344 C 606.804688 225.027344 544.03125 99.125 386.304688 29.800781 \"/>\n",
       "<path style=\" stroke:none;fill-rule:nonzero;fill:rgb(26.666667%,26.666667%,26.666667%);fill-opacity:1;\" d=\"M 373.242188 24.058594 L 388.167969 25.554688 L 384.4375 34.042969 L 373.242188 24.058594 \"/>\n",
       "<path style=\"fill:none;stroke-width:0.25;stroke-linecap:butt;stroke-linejoin:miter;stroke:rgb(26.666667%,26.666667%,26.666667%);stroke-opacity:1;stroke-miterlimit:10;\" d=\"M 580 395.277344 C 484.148438 228.070313 341.402344 162.757813 155.1875 212.261719 \"/>\n",
       "<path style=\" stroke:none;fill-rule:nonzero;fill:rgb(26.666667%,26.666667%,26.666667%);fill-opacity:1;\" d=\"M 141.402344 215.925781 L 153.996094 207.78125 L 156.378906 216.742188 L 141.402344 215.925781 \"/>\n",
       "<path style=\"fill:none;stroke-width:1.16;stroke-linecap:butt;stroke-linejoin:miter;stroke:rgb(26.666667%,26.666667%,26.666667%);stroke-opacity:1;stroke-miterlimit:10;\" d=\"M 580 395.277344 C 601.664063 340.679688 591.757813 291.671875 542.972656 259.257813 \"/>\n",
       "<path style=\" stroke:none;fill-rule:nonzero;fill:rgb(26.666667%,26.666667%,26.666667%);fill-opacity:1;\" d=\"M 531.09375 251.363281 L 545.539063 255.398438 L 540.410156 263.121094 L 531.09375 251.363281 \"/>\n",
       "<path style=\"fill:none;stroke-width:1.06;stroke-linecap:butt;stroke-linejoin:miter;stroke:rgb(26.666667%,26.666667%,26.666667%);stroke-opacity:1;stroke-miterlimit:10;\" d=\"M 580 395.277344 C 559.234375 288.109375 494.730469 225.058594 385.804688 219.417969 \"/>\n",
       "<path style=\" stroke:none;fill-rule:nonzero;fill:rgb(26.666667%,26.666667%,26.666667%);fill-opacity:1;\" d=\"M 371.558594 218.679688 L 386.042969 214.789063 L 385.566406 224.046875 L 371.558594 218.679688 \"/>\n",
       "<path style=\"fill:none;stroke-width:0.02;stroke-linecap:butt;stroke-linejoin:miter;stroke:rgb(26.666667%,26.666667%,26.666667%);stroke-opacity:1;stroke-miterlimit:10;\" d=\"M 580 395.277344 C 356.816406 313.734375 171.199219 366.101563 34.066406 560.097656 \"/>\n",
       "<path style=\" stroke:none;fill-rule:nonzero;fill:rgb(26.666667%,26.666667%,26.666667%);fill-opacity:1;\" d=\"M 25.832031 571.746094 L 30.28125 557.421875 L 37.851563 562.773438 L 25.832031 571.746094 \"/>\n",
       "<path style=\"fill:none;stroke-width:1.73;stroke-linecap:butt;stroke-linejoin:miter;stroke:rgb(26.666667%,26.666667%,26.666667%);stroke-opacity:1;stroke-miterlimit:10;\" d=\"M 361.519531 218.160156 C 411.558594 162.835938 420.652344 100.875 377.933594 39.882813 \"/>\n",
       "<path style=\" stroke:none;fill-rule:nonzero;fill:rgb(26.666667%,26.666667%,26.666667%);fill-opacity:1;\" d=\"M 369.75 28.199219 L 381.730469 37.222656 L 374.136719 42.542969 L 369.75 28.199219 \"/>\n",
       "<path style=\"fill:none;stroke-width:1.75;stroke-linecap:butt;stroke-linejoin:miter;stroke:rgb(26.666667%,26.666667%,26.666667%);stroke-opacity:1;stroke-miterlimit:10;\" d=\"M 361.519531 218.160156 C 294.925781 160.96875 222.253906 152.75 151.304688 204.25 \"/>\n",
       "<path style=\" stroke:none;fill-rule:nonzero;fill:rgb(26.666667%,26.666667%,26.666667%);fill-opacity:1;\" d=\"M 139.761719 212.628906 L 148.582031 200.496094 L 154.027344 208 L 139.761719 212.628906 \"/>\n",
       "<path style=\"fill:none;stroke-width:4.41;stroke-linecap:butt;stroke-linejoin:miter;stroke:rgb(26.666667%,26.666667%,26.666667%);stroke-opacity:1;stroke-miterlimit:10;\" d=\"M 361.519531 218.160156 C 398.441406 265.753906 446.832031 282.460938 500.945313 256.375 \"/>\n",
       "<path style=\" stroke:none;fill-rule:nonzero;fill:rgb(26.666667%,26.666667%,26.666667%);fill-opacity:1;\" d=\"M 513.796875 250.179688 L 502.960938 260.546875 L 498.933594 252.199219 L 513.796875 250.179688 \"/>\n",
       "<path style=\"fill:none;stroke-width:1.06;stroke-linecap:butt;stroke-linejoin:miter;stroke:rgb(26.666667%,26.666667%,26.666667%);stroke-opacity:1;stroke-miterlimit:10;\" d=\"M 361.519531 218.160156 C 382.285156 325.328125 446.789063 388.378906 555.714844 394.019531 \"/>\n",
       "<path style=\" stroke:none;fill-rule:nonzero;fill:rgb(26.666667%,26.666667%,26.666667%);fill-opacity:1;\" d=\"M 569.960938 394.757813 L 555.476563 398.648438 L 555.953125 389.390625 L 569.960938 394.757813 \"/>\n",
       "<path style=\"fill:none;stroke-width:0.19;stroke-linecap:butt;stroke-linejoin:miter;stroke:rgb(26.666667%,26.666667%,26.666667%);stroke-opacity:1;stroke-miterlimit:10;\" d=\"M 361.519531 218.160156 C 164.246094 246.066406 46.960938 358.082031 22.9375 555.816406 \"/>\n",
       "<path style=\" stroke:none;fill-rule:nonzero;fill:rgb(26.666667%,26.666667%,26.666667%);fill-opacity:1;\" d=\"M 21.21875 569.976563 L 18.335938 555.257813 L 27.539063 556.375 L 21.21875 569.976563 \"/>\n",
       "<path style=\"fill:none;stroke-width:0.04;stroke-linecap:butt;stroke-linejoin:miter;stroke:rgb(26.666667%,26.666667%,26.666667%);stroke-opacity:1;stroke-miterlimit:10;\" d=\"M 20 580 C 269.300781 487.957031 389.117188 309 366.117188 44.285156 \"/>\n",
       "<path style=\" stroke:none;fill-rule:nonzero;fill:rgb(26.666667%,26.666667%,26.666667%);fill-opacity:1;\" d=\"M 364.882813 30.074219 L 370.734375 43.882813 L 361.5 44.6875 L 364.882813 30.074219 \"/>\n",
       "<path style=\"fill:none;stroke-width:0.04;stroke-linecap:butt;stroke-linejoin:miter;stroke:rgb(26.666667%,26.666667%,26.666667%);stroke-opacity:1;stroke-miterlimit:10;\" d=\"M 20 580 C 144.492188 497.078125 188.566406 382.796875 139.617188 241.523438 \"/>\n",
       "<path style=\" stroke:none;fill-rule:nonzero;fill:rgb(26.666667%,26.666667%,26.666667%);fill-opacity:1;\" d=\"M 134.945313 228.042969 L 143.996094 240.003906 L 135.234375 243.039063 L 134.945313 228.042969 \"/>\n",
       "<path style=\"fill:none;stroke-width:0.12;stroke-linecap:butt;stroke-linejoin:miter;stroke:rgb(26.666667%,26.666667%,26.666667%);stroke-opacity:1;stroke-miterlimit:10;\" d=\"M 20 580 C 262.640625 599.878906 431.664063 497.648438 514.492188 268.765625 \"/>\n",
       "<path style=\" stroke:none;fill-rule:nonzero;fill:rgb(26.666667%,26.666667%,26.666667%);fill-opacity:1;\" d=\"M 519.34375 255.347656 L 518.851563 270.339844 L 510.132813 267.1875 L 519.34375 255.347656 \"/>\n",
       "<path style=\"fill:none;stroke-width:0.02;stroke-linecap:butt;stroke-linejoin:miter;stroke:rgb(26.666667%,26.666667%,26.666667%);stroke-opacity:1;stroke-miterlimit:10;\" d=\"M 20 580 C 243.183594 661.542969 428.800781 609.175781 565.933594 415.179688 \"/>\n",
       "<path style=\" stroke:none;fill-rule:nonzero;fill:rgb(26.666667%,26.666667%,26.666667%);fill-opacity:1;\" d=\"M 574.167969 403.53125 L 569.71875 417.855469 L 562.148438 412.503906 L 574.167969 403.53125 \"/>\n",
       "<path style=\"fill:none;stroke-width:0.19;stroke-linecap:butt;stroke-linejoin:miter;stroke:rgb(26.666667%,26.666667%,26.666667%);stroke-opacity:1;stroke-miterlimit:10;\" d=\"M 20 580 C 217.273438 552.09375 334.558594 440.078125 358.582031 242.34375 \"/>\n",
       "<path style=\" stroke:none;fill-rule:nonzero;fill:rgb(26.666667%,26.666667%,26.666667%);fill-opacity:1;\" d=\"M 360.300781 228.183594 L 363.183594 242.902344 L 353.980469 241.785156 L 360.300781 228.183594 \"/>\n",
       "<path style=\"fill-rule:nonzero;fill:rgb(100%,0%,0%);fill-opacity:1;stroke-width:1;stroke-linecap:butt;stroke-linejoin:miter;stroke:rgb(0%,0%,0%);stroke-opacity:1;stroke-miterlimit:10;\" d=\"M 374.007813 20 C 374.007813 25.523438 369.53125 30 364.007813 30 C 358.484375 30 354.007813 25.523438 354.007813 20 C 354.007813 14.476563 358.484375 10 364.007813 10 C 369.53125 10 374.007813 14.476563 374.007813 20 \"/>\n",
       "<path style=\"fill-rule:nonzero;fill:rgb(100%,0%,0%);fill-opacity:1;stroke-width:1;stroke-linecap:butt;stroke-linejoin:miter;stroke:rgb(0%,0%,0%);stroke-opacity:1;stroke-miterlimit:10;\" d=\"M 141.644531 218.519531 C 141.644531 224.042969 137.167969 228.519531 131.644531 228.519531 C 126.121094 228.519531 121.644531 224.042969 121.644531 218.519531 C 121.644531 212.996094 126.121094 208.519531 131.644531 208.519531 C 137.167969 208.519531 141.644531 212.996094 141.644531 218.519531 \"/>\n",
       "<path style=\"fill-rule:nonzero;fill:rgb(100%,0%,0%);fill-opacity:1;stroke-width:1;stroke-linecap:butt;stroke-linejoin:miter;stroke:rgb(0%,0%,0%);stroke-opacity:1;stroke-miterlimit:10;\" d=\"M 532.785156 245.84375 C 532.785156 251.367188 528.308594 255.84375 522.785156 255.84375 C 517.261719 255.84375 512.785156 251.367188 512.785156 245.84375 C 512.785156 240.324219 517.261719 235.84375 522.785156 235.84375 C 528.308594 235.84375 532.785156 240.324219 532.785156 245.84375 \"/>\n",
       "<path style=\"fill-rule:nonzero;fill:rgb(100%,0%,0%);fill-opacity:1;stroke-width:1;stroke-linecap:butt;stroke-linejoin:miter;stroke:rgb(0%,0%,0%);stroke-opacity:1;stroke-miterlimit:10;\" d=\"M 590 395.277344 C 590 400.800781 585.523438 405.277344 580 405.277344 C 574.476563 405.277344 570 400.800781 570 395.277344 C 570 389.753906 574.476563 385.277344 580 385.277344 C 585.523438 385.277344 590 389.753906 590 395.277344 \"/>\n",
       "<path style=\"fill-rule:nonzero;fill:rgb(100%,0%,0%);fill-opacity:1;stroke-width:1;stroke-linecap:butt;stroke-linejoin:miter;stroke:rgb(0%,0%,0%);stroke-opacity:1;stroke-miterlimit:10;\" d=\"M 371.519531 218.160156 C 371.519531 223.683594 367.042969 228.160156 361.519531 228.160156 C 355.996094 228.160156 351.519531 223.683594 351.519531 218.160156 C 351.519531 212.636719 355.996094 208.160156 361.519531 208.160156 C 367.042969 208.160156 371.519531 212.636719 371.519531 218.160156 \"/>\n",
       "<path style=\"fill-rule:nonzero;fill:rgb(100%,0%,0%);fill-opacity:1;stroke-width:1;stroke-linecap:butt;stroke-linejoin:miter;stroke:rgb(0%,0%,0%);stroke-opacity:1;stroke-miterlimit:10;\" d=\"M 30 580 C 30 585.523438 25.523438 590 20 590 C 14.476563 590 10 585.523438 10 580 C 10 574.476563 14.476563 570 20 570 C 25.523438 570 30 574.476563 30 580 \"/>\n",
       "<g style=\"fill:rgb(0%,0%,0%);fill-opacity:1;\">\n",
       "  <use xlink:href=\"#glyph0-1\" x=\"301.261719\" y=\"26.597656\"/>\n",
       "  <use xlink:href=\"#glyph0-2\" x=\"310.599609\" y=\"26.597656\"/>\n",
       "  <use xlink:href=\"#glyph0-3\" x=\"318.385742\" y=\"26.597656\"/>\n",
       "  <use xlink:href=\"#glyph0-4\" x=\"326.171875\" y=\"26.597656\"/>\n",
       "  <use xlink:href=\"#glyph0-5\" x=\"333.958008\" y=\"26.597656\"/>\n",
       "  <use xlink:href=\"#glyph0-6\" x=\"341.744141\" y=\"26.597656\"/>\n",
       "  <use xlink:href=\"#glyph0-7\" x=\"349.530273\" y=\"26.597656\"/>\n",
       "  <use xlink:href=\"#glyph0-8\" x=\"358.082031\" y=\"26.597656\"/>\n",
       "  <use xlink:href=\"#glyph0-4\" x=\"362.744141\" y=\"26.597656\"/>\n",
       "  <use xlink:href=\"#glyph0-9\" x=\"370.530273\" y=\"26.597656\"/>\n",
       "  <use xlink:href=\"#glyph0-10\" x=\"382.192383\" y=\"26.597656\"/>\n",
       "  <use xlink:href=\"#glyph0-11\" x=\"389.978516\" y=\"26.597656\"/>\n",
       "  <use xlink:href=\"#glyph0-10\" x=\"399.316406\" y=\"26.597656\"/>\n",
       "  <use xlink:href=\"#glyph0-12\" x=\"407.102539\" y=\"26.597656\"/>\n",
       "  <use xlink:href=\"#glyph0-9\" x=\"414.888672\" y=\"26.597656\"/>\n",
       "</g>\n",
       "<g style=\"fill:rgb(0%,0%,0%);fill-opacity:1;\">\n",
       "  <use xlink:href=\"#glyph0-11\" x=\"65.238281\" y=\"225.117188\"/>\n",
       "  <use xlink:href=\"#glyph0-12\" x=\"74.576172\" y=\"225.117188\"/>\n",
       "  <use xlink:href=\"#glyph0-2\" x=\"82.362305\" y=\"225.117188\"/>\n",
       "  <use xlink:href=\"#glyph0-13\" x=\"90.148438\" y=\"225.117188\"/>\n",
       "  <use xlink:href=\"#glyph0-14\" x=\"97.93457\" y=\"225.117188\"/>\n",
       "  <use xlink:href=\"#glyph0-8\" x=\"105.720703\" y=\"225.117188\"/>\n",
       "  <use xlink:href=\"#glyph0-15\" x=\"110.382813\" y=\"225.117188\"/>\n",
       "  <use xlink:href=\"#glyph0-16\" x=\"117.382813\" y=\"225.117188\"/>\n",
       "  <use xlink:href=\"#glyph0-3\" x=\"125.93457\" y=\"225.117188\"/>\n",
       "  <use xlink:href=\"#glyph0-8\" x=\"133.720703\" y=\"225.117188\"/>\n",
       "  <use xlink:href=\"#glyph0-17\" x=\"138.382813\" y=\"225.117188\"/>\n",
       "  <use xlink:href=\"#glyph0-8\" x=\"147.720703\" y=\"225.117188\"/>\n",
       "  <use xlink:href=\"#glyph0-14\" x=\"152.382813\" y=\"225.117188\"/>\n",
       "  <use xlink:href=\"#glyph0-15\" x=\"160.168945\" y=\"225.117188\"/>\n",
       "  <use xlink:href=\"#glyph0-18\" x=\"167.168945\" y=\"225.117188\"/>\n",
       "  <use xlink:href=\"#glyph0-13\" x=\"170.279297\" y=\"225.117188\"/>\n",
       "  <use xlink:href=\"#glyph0-14\" x=\"178.06543\" y=\"225.117188\"/>\n",
       "  <use xlink:href=\"#glyph0-2\" x=\"185.851563\" y=\"225.117188\"/>\n",
       "  <use xlink:href=\"#glyph0-19\" x=\"193.637695\" y=\"225.117188\"/>\n",
       "</g>\n",
       "<g style=\"fill:rgb(0%,0%,0%);fill-opacity:1;\">\n",
       "  <use xlink:href=\"#glyph0-7\" x=\"484.988281\" y=\"252.355469\"/>\n",
       "  <use xlink:href=\"#glyph0-6\" x=\"493.540039\" y=\"252.355469\"/>\n",
       "  <use xlink:href=\"#glyph0-14\" x=\"501.326172\" y=\"252.355469\"/>\n",
       "  <use xlink:href=\"#glyph0-20\" x=\"509.112305\" y=\"252.355469\"/>\n",
       "  <use xlink:href=\"#glyph0-21\" x=\"516.898438\" y=\"252.355469\"/>\n",
       "  <use xlink:href=\"#glyph0-3\" x=\"527.008789\" y=\"252.355469\"/>\n",
       "  <use xlink:href=\"#glyph0-2\" x=\"534.794922\" y=\"252.355469\"/>\n",
       "  <use xlink:href=\"#glyph0-12\" x=\"542.581055\" y=\"252.355469\"/>\n",
       "  <use xlink:href=\"#glyph0-22\" x=\"550.367188\" y=\"252.355469\"/>\n",
       "  <use xlink:href=\"#glyph0-13\" x=\"553.477539\" y=\"252.355469\"/>\n",
       "</g>\n",
       "<g style=\"fill:rgb(0%,0%,0%);fill-opacity:1;\">\n",
       "  <use xlink:href=\"#glyph0-23\" x=\"546.328125\" y=\"401.789063\"/>\n",
       "  <use xlink:href=\"#glyph0-3\" x=\"553.328125\" y=\"401.789063\"/>\n",
       "  <use xlink:href=\"#glyph0-2\" x=\"561.114258\" y=\"401.789063\"/>\n",
       "  <use xlink:href=\"#glyph0-15\" x=\"568.900391\" y=\"401.789063\"/>\n",
       "  <use xlink:href=\"#glyph0-10\" x=\"575.900391\" y=\"401.789063\"/>\n",
       "  <use xlink:href=\"#glyph0-18\" x=\"583.686523\" y=\"401.789063\"/>\n",
       "  <use xlink:href=\"#glyph0-8\" x=\"586.796875\" y=\"401.789063\"/>\n",
       "  <use xlink:href=\"#glyph0-12\" x=\"591.458984\" y=\"401.789063\"/>\n",
       "  <use xlink:href=\"#glyph0-23\" x=\"599.245117\" y=\"401.789063\"/>\n",
       "  <use xlink:href=\"#glyph0-24\" x=\"606.245117\" y=\"401.789063\"/>\n",
       "</g>\n",
       "<g style=\"fill:rgb(0%,0%,0%);fill-opacity:1;\">\n",
       "  <use xlink:href=\"#glyph0-10\" x=\"339.933594\" y=\"224.671875\"/>\n",
       "  <use xlink:href=\"#glyph0-3\" x=\"347.719727\" y=\"224.671875\"/>\n",
       "  <use xlink:href=\"#glyph0-22\" x=\"355.505859\" y=\"224.671875\"/>\n",
       "  <use xlink:href=\"#glyph0-18\" x=\"358.616211\" y=\"224.671875\"/>\n",
       "  <use xlink:href=\"#glyph0-19\" x=\"361.726563\" y=\"224.671875\"/>\n",
       "  <use xlink:href=\"#glyph0-18\" x=\"365.616211\" y=\"224.671875\"/>\n",
       "  <use xlink:href=\"#glyph0-23\" x=\"368.726563\" y=\"224.671875\"/>\n",
       "  <use xlink:href=\"#glyph0-15\" x=\"375.726563\" y=\"224.671875\"/>\n",
       "</g>\n",
       "<g style=\"fill:rgb(0%,0%,0%);fill-opacity:1;\">\n",
       "  <use xlink:href=\"#glyph0-4\" x=\"-8.96875\" y=\"586.511719\"/>\n",
       "  <use xlink:href=\"#glyph0-25\" x=\"-1.182617\" y=\"586.511719\"/>\n",
       "  <use xlink:href=\"#glyph0-10\" x=\"5.817383\" y=\"586.511719\"/>\n",
       "  <use xlink:href=\"#glyph0-3\" x=\"13.603516\" y=\"586.511719\"/>\n",
       "  <use xlink:href=\"#glyph0-22\" x=\"21.389648\" y=\"586.511719\"/>\n",
       "  <use xlink:href=\"#glyph0-18\" x=\"24.5\" y=\"586.511719\"/>\n",
       "  <use xlink:href=\"#glyph0-19\" x=\"27.610352\" y=\"586.511719\"/>\n",
       "  <use xlink:href=\"#glyph0-18\" x=\"31.5\" y=\"586.511719\"/>\n",
       "  <use xlink:href=\"#glyph0-23\" x=\"34.610352\" y=\"586.511719\"/>\n",
       "  <use xlink:href=\"#glyph0-15\" x=\"41.610352\" y=\"586.511719\"/>\n",
       "</g>\n",
       "</g>\n",
       "</svg>\n"
      ],
      "text/plain": [
       "<igraph.drawing.Plot at 0x1978b303cc0>"
      ]
     },
     "execution_count": 81,
     "metadata": {},
     "output_type": "execute_result"
    }
   ],
   "source": [
    "# Add edge weights and node labels.\n",
    "g_politic_subreddits.es['weight'] = A[A.nonzero()]\n",
    "g_politic_subreddits.vs['label'] = politic_subreddits\n",
    "g_politic_subreddits.es['widht'] = A[A.nonzero()] * 0.01\n",
    "\n",
    "#What this algorithm (fruchterman_reingold) do is printing the nodes which have less weight connection more distanciated\n",
    "layout = g_politic_subreddits.layout_fruchterman_reingold(weights = g_politic_subreddits.es['weight'])  \n",
    "plot(g_politic_subreddits, layout = layout, edge_width = g_politic_subreddits.es['widht'], vertex_label = politic_subreddits)"
   ]
  },
  {
   "cell_type": "code",
   "execution_count": 82,
   "metadata": {},
   "outputs": [],
   "source": [
    "df_for_total_users = df.set_index(\"subreddit\")\n",
    "\n",
    "df_politics_adj_percentages = df_politics_adj.copy()\n",
    "for i in df_politics_adj_percentages.index:\n",
    "    total_users = len(df_for_total_users.loc[i].users)\n",
    "    df_politics_adj_percentages.loc[i] = df_politics_adj_percentages.loc[i] / total_users * 100\n",
    "    #print(i)\n",
    "    #print(df_politics_adj_percentages.loc[i])"
   ]
  },
  {
   "cell_type": "code",
   "execution_count": 83,
   "metadata": {},
   "outputs": [
    {
     "data": {
      "image/svg+xml": [
       "<?xml version=\"1.0\" encoding=\"UTF-8\"?>\n",
       "<svg xmlns=\"http://www.w3.org/2000/svg\" xmlns:xlink=\"http://www.w3.org/1999/xlink\" width=\"600pt\" height=\"600pt\" viewBox=\"0 0 600 600\" version=\"1.1\">\n",
       "<defs>\n",
       "<g>\n",
       "<symbol overflow=\"visible\" id=\"glyph0-0\">\n",
       "<path style=\"stroke:none;\" d=\"M 1.75 0 L 1.75 -8.75 L 8.75 -8.75 L 8.75 0 Z M 1.96875 -0.21875 L 8.53125 -0.21875 L 8.53125 -8.53125 L 1.96875 -8.53125 Z M 1.96875 -0.21875 \"/>\n",
       "</symbol>\n",
       "<symbol overflow=\"visible\" id=\"glyph0-1\">\n",
       "<path style=\"stroke:none;\" d=\"M 1.109375 0 L 1.109375 -10.023438 L 8.351563 -10.023438 L 8.351563 -8.839844 L 2.433594 -8.839844 L 2.433594 -5.769531 L 7.976563 -5.769531 L 7.976563 -4.59375 L 2.433594 -4.59375 L 2.433594 -1.183594 L 8.585938 -1.183594 L 8.585938 0 Z M 1.109375 0 \"/>\n",
       "</symbol>\n",
       "<symbol overflow=\"visible\" id=\"glyph0-2\">\n",
       "<path style=\"stroke:none;\" d=\"M 0.921875 0 L 0.921875 -7.257813 L 2.03125 -7.257813 L 2.03125 -6.226563 C 2.558594 -7.019531 3.328125 -7.417969 4.339844 -7.421875 C 4.773438 -7.417969 5.175781 -7.339844 5.546875 -7.1875 C 5.910156 -7.027344 6.183594 -6.820313 6.371094 -6.570313 C 6.550781 -6.3125 6.679688 -6.011719 6.753906 -5.660156 C 6.796875 -5.433594 6.820313 -5.035156 6.820313 -4.464844 L 6.820313 0 L 5.59375 0 L 5.59375 -4.414063 C 5.589844 -4.914063 5.542969 -5.289063 5.449219 -5.539063 C 5.351563 -5.785156 5.179688 -5.984375 4.9375 -6.136719 C 4.691406 -6.28125 4.40625 -6.355469 4.082031 -6.359375 C 3.554688 -6.355469 3.101563 -6.191406 2.722656 -5.859375 C 2.339844 -5.523438 2.148438 -4.890625 2.152344 -3.964844 L 2.152344 0 Z M 0.921875 0 \"/>\n",
       "</symbol>\n",
       "<symbol overflow=\"visible\" id=\"glyph0-3\">\n",
       "<path style=\"stroke:none;\" d=\"M 0.464844 -3.628906 C 0.460938 -4.972656 0.835938 -5.96875 1.585938 -6.617188 C 2.207031 -7.148438 2.96875 -7.417969 3.867188 -7.421875 C 4.867188 -7.417969 5.683594 -7.089844 6.316406 -6.441406 C 6.949219 -5.785156 7.265625 -4.882813 7.265625 -3.734375 C 7.265625 -2.796875 7.125 -2.0625 6.84375 -1.527344 C 6.5625 -0.992188 6.152344 -0.578125 5.621094 -0.28125 C 5.082031 0.015625 4.5 0.164063 3.867188 0.164063 C 2.851563 0.164063 2.027344 -0.160156 1.402344 -0.8125 C 0.773438 -1.460938 0.460938 -2.398438 0.464844 -3.628906 Z M 1.730469 -3.628906 C 1.726563 -2.695313 1.929688 -2 2.335938 -1.539063 C 2.738281 -1.074219 3.25 -0.84375 3.867188 -0.847656 C 4.476563 -0.84375 4.984375 -1.074219 5.390625 -1.542969 C 5.796875 -2.003906 6 -2.714844 6 -3.671875 C 6 -4.566406 5.792969 -5.246094 5.386719 -5.710938 C 4.976563 -6.171875 4.472656 -6.402344 3.867188 -6.40625 C 3.25 -6.402344 2.738281 -6.171875 2.335938 -5.714844 C 1.929688 -5.25 1.726563 -4.554688 1.730469 -3.628906 Z M 1.730469 -3.628906 \"/>\n",
       "</symbol>\n",
       "<symbol overflow=\"visible\" id=\"glyph0-4\">\n",
       "<path style=\"stroke:none;\" d=\"M 5.679688 0 L 5.679688 -1.066406 C 5.109375 -0.246094 4.34375 0.164063 3.375 0.164063 C 2.945313 0.164063 2.542969 0.0820313 2.175781 -0.0820313 C 1.800781 -0.246094 1.527344 -0.449219 1.347656 -0.699219 C 1.167969 -0.945313 1.039063 -1.25 0.96875 -1.613281 C 0.914063 -1.851563 0.890625 -2.234375 0.894531 -2.761719 L 0.894531 -7.257813 L 2.125 -7.257813 L 2.125 -3.234375 C 2.121094 -2.589844 2.148438 -2.15625 2.203125 -1.933594 C 2.277344 -1.609375 2.4375 -1.355469 2.691406 -1.171875 C 2.941406 -0.984375 3.253906 -0.890625 3.625 -0.894531 C 3.988281 -0.890625 4.332031 -0.984375 4.660156 -1.175781 C 4.980469 -1.363281 5.210938 -1.621094 5.347656 -1.949219 C 5.480469 -2.273438 5.546875 -2.746094 5.550781 -3.371094 L 5.550781 -7.257813 L 6.78125 -7.257813 L 6.78125 0 Z M 5.679688 0 \"/>\n",
       "</symbol>\n",
       "<symbol overflow=\"visible\" id=\"glyph0-5\">\n",
       "<path style=\"stroke:none;\" d=\"M 0.695313 0.601563 L 1.894531 0.78125 C 1.941406 1.144531 2.082031 1.414063 2.3125 1.585938 C 2.613281 1.8125 3.03125 1.925781 3.5625 1.929688 C 4.128906 1.925781 4.566406 1.8125 4.878906 1.585938 C 5.1875 1.355469 5.398438 1.035156 5.507813 0.628906 C 5.570313 0.375 5.597656 -0.148438 5.597656 -0.949219 C 5.058594 -0.316406 4.390625 0 3.589844 0 C 2.589844 0 1.816406 -0.359375 1.273438 -1.078125 C 0.722656 -1.796875 0.449219 -2.660156 0.453125 -3.671875 C 0.449219 -4.363281 0.574219 -5.003906 0.828125 -5.589844 C 1.074219 -6.175781 1.4375 -6.625 1.917969 -6.945313 C 2.390625 -7.257813 2.949219 -7.417969 3.59375 -7.421875 C 4.449219 -7.417969 5.15625 -7.070313 5.714844 -6.382813 L 5.714844 -7.257813 L 6.851563 -7.257813 L 6.851563 -0.984375 C 6.847656 0.144531 6.734375 0.945313 6.503906 1.417969 C 6.273438 1.886719 5.90625 2.257813 5.410156 2.535156 C 4.910156 2.804688 4.296875 2.941406 3.570313 2.945313 C 2.699219 2.941406 2 2.746094 1.46875 2.359375 C 0.933594 1.96875 0.675781 1.382813 0.695313 0.601563 Z M 1.714844 -3.757813 C 1.710938 -2.804688 1.898438 -2.113281 2.28125 -1.675781 C 2.65625 -1.238281 3.132813 -1.019531 3.703125 -1.019531 C 4.269531 -1.019531 4.742188 -1.234375 5.128906 -1.671875 C 5.507813 -2.101563 5.699219 -2.785156 5.703125 -3.71875 C 5.699219 -4.605469 5.503906 -5.273438 5.109375 -5.726563 C 4.714844 -6.175781 4.238281 -6.402344 3.683594 -6.40625 C 3.132813 -6.402344 2.667969 -6.179688 2.289063 -5.738281 C 1.902344 -5.289063 1.710938 -4.628906 1.714844 -3.757813 Z M 1.714844 -3.757813 \"/>\n",
       "</symbol>\n",
       "<symbol overflow=\"visible\" id=\"glyph0-6\">\n",
       "<path style=\"stroke:none;\" d=\"M 0.921875 0 L 0.921875 -10.023438 L 2.152344 -10.023438 L 2.152344 -6.425781 C 2.722656 -7.085938 3.449219 -7.417969 4.328125 -7.421875 C 4.863281 -7.417969 5.328125 -7.3125 5.726563 -7.105469 C 6.121094 -6.890625 6.40625 -6.597656 6.578125 -6.226563 C 6.746094 -5.851563 6.832031 -5.308594 6.835938 -4.601563 L 6.835938 0 L 5.605469 0 L 5.605469 -4.601563 C 5.601563 -5.210938 5.46875 -5.660156 5.203125 -5.941406 C 4.9375 -6.222656 4.558594 -6.363281 4.074219 -6.363281 C 3.707031 -6.363281 3.363281 -6.265625 3.042969 -6.078125 C 2.71875 -5.886719 2.492188 -5.632813 2.355469 -5.3125 C 2.21875 -4.988281 2.148438 -4.542969 2.152344 -3.972656 L 2.152344 0 Z M 0.921875 0 \"/>\n",
       "</symbol>\n",
       "<symbol overflow=\"visible\" id=\"glyph0-7\">\n",
       "<path style=\"stroke:none;\" d=\"M 3.628906 0 L 3.628906 -8.839844 L 0.328125 -8.839844 L 0.328125 -10.023438 L 8.273438 -10.023438 L 8.273438 -8.839844 L 4.957031 -8.839844 L 4.957031 0 Z M 3.628906 0 \"/>\n",
       "</symbol>\n",
       "<symbol overflow=\"visible\" id=\"glyph0-8\">\n",
       "<path style=\"stroke:none;\" d=\"M 0.910156 0 L 0.910156 -7.257813 L 2.015625 -7.257813 L 2.015625 -6.160156 C 2.296875 -6.667969 2.554688 -7.007813 2.796875 -7.175781 C 3.03125 -7.335938 3.296875 -7.417969 3.589844 -7.421875 C 4 -7.417969 4.421875 -7.285156 4.851563 -7.027344 L 4.429688 -5.886719 C 4.125 -6.0625 3.824219 -6.152344 3.527344 -6.152344 C 3.257813 -6.152344 3.015625 -6.070313 2.800781 -5.910156 C 2.585938 -5.746094 2.433594 -5.519531 2.34375 -5.234375 C 2.207031 -4.792969 2.136719 -4.316406 2.140625 -3.800781 L 2.140625 0 Z M 0.910156 0 \"/>\n",
       "</symbol>\n",
       "<symbol overflow=\"visible\" id=\"glyph0-9\">\n",
       "<path style=\"stroke:none;\" d=\"M 0.921875 0 L 0.921875 -7.257813 L 2.023438 -7.257813 L 2.023438 -6.242188 C 2.25 -6.59375 2.554688 -6.878906 2.933594 -7.097656 C 3.308594 -7.308594 3.738281 -7.417969 4.226563 -7.421875 C 4.757813 -7.417969 5.199219 -7.304688 5.546875 -7.085938 C 5.886719 -6.859375 6.128906 -6.550781 6.273438 -6.152344 C 6.847656 -6.996094 7.59375 -7.417969 8.515625 -7.421875 C 9.234375 -7.417969 9.789063 -7.21875 10.175781 -6.824219 C 10.5625 -6.421875 10.757813 -5.808594 10.757813 -4.984375 L 10.757813 0 L 9.535156 0 L 9.535156 -4.574219 C 9.53125 -5.0625 9.492188 -5.417969 9.414063 -5.636719 C 9.332031 -5.851563 9.1875 -6.023438 8.980469 -6.160156 C 8.769531 -6.289063 8.523438 -6.355469 8.242188 -6.359375 C 7.730469 -6.355469 7.308594 -6.1875 6.972656 -5.847656 C 6.636719 -5.507813 6.46875 -4.964844 6.46875 -4.21875 L 6.46875 0 L 5.234375 0 L 5.234375 -4.71875 C 5.230469 -5.261719 5.132813 -5.671875 4.933594 -5.949219 C 4.730469 -6.21875 4.402344 -6.355469 3.953125 -6.359375 C 3.601563 -6.355469 3.28125 -6.265625 2.988281 -6.085938 C 2.695313 -5.902344 2.480469 -5.636719 2.351563 -5.285156 C 2.214844 -4.933594 2.148438 -4.425781 2.152344 -3.765625 L 2.152344 0 Z M 0.921875 0 \"/>\n",
       "</symbol>\n",
       "<symbol overflow=\"visible\" id=\"glyph0-10\">\n",
       "<path style=\"stroke:none;\" d=\"M 0.921875 2.78125 L 0.921875 -7.257813 L 2.042969 -7.257813 L 2.042969 -6.316406 C 2.304688 -6.683594 2.601563 -6.957031 2.9375 -7.144531 C 3.265625 -7.324219 3.671875 -7.417969 4.148438 -7.421875 C 4.765625 -7.417969 5.3125 -7.257813 5.789063 -6.945313 C 6.261719 -6.625 6.617188 -6.175781 6.863281 -5.59375 C 7.101563 -5.011719 7.222656 -4.375 7.226563 -3.683594 C 7.222656 -2.9375 7.089844 -2.269531 6.824219 -1.675781 C 6.554688 -1.082031 6.167969 -0.625 5.664063 -0.308594 C 5.152344 0.0078125 4.617188 0.164063 4.0625 0.164063 C 3.648438 0.164063 3.28125 0.078125 2.957031 -0.09375 C 2.628906 -0.265625 2.359375 -0.484375 2.152344 -0.75 L 2.152344 2.78125 Z M 2.039063 -3.589844 C 2.039063 -2.652344 2.226563 -1.960938 2.605469 -1.515625 C 2.980469 -1.066406 3.4375 -0.84375 3.976563 -0.847656 C 4.519531 -0.84375 4.988281 -1.074219 5.382813 -1.539063 C 5.769531 -2 5.964844 -2.71875 5.96875 -3.691406 C 5.964844 -4.613281 5.773438 -5.304688 5.398438 -5.769531 C 5.015625 -6.226563 4.5625 -6.457031 4.03125 -6.460938 C 3.507813 -6.457031 3.042969 -6.210938 2.640625 -5.726563 C 2.238281 -5.234375 2.039063 -4.523438 2.039063 -3.589844 Z M 2.039063 -3.589844 \"/>\n",
       "</symbol>\n",
       "<symbol overflow=\"visible\" id=\"glyph0-11\">\n",
       "<path style=\"stroke:none;\" d=\"M 0.628906 -3.21875 L 1.878906 -3.328125 C 1.9375 -2.828125 2.074219 -2.414063 2.292969 -2.09375 C 2.503906 -1.769531 2.839844 -1.511719 3.300781 -1.316406 C 3.753906 -1.117188 4.269531 -1.019531 4.839844 -1.019531 C 5.34375 -1.019531 5.789063 -1.09375 6.179688 -1.242188 C 6.566406 -1.390625 6.855469 -1.597656 7.042969 -1.863281 C 7.230469 -2.125 7.324219 -2.410156 7.328125 -2.71875 C 7.324219 -3.03125 7.234375 -3.304688 7.054688 -3.542969 C 6.871094 -3.777344 6.570313 -3.976563 6.152344 -4.136719 C 5.882813 -4.238281 5.285156 -4.398438 4.367188 -4.625 C 3.445313 -4.84375 2.800781 -5.054688 2.433594 -5.25 C 1.949219 -5.5 1.59375 -5.808594 1.363281 -6.183594 C 1.125 -6.550781 1.007813 -6.96875 1.011719 -7.429688 C 1.007813 -7.933594 1.152344 -8.40625 1.441406 -8.847656 C 1.730469 -9.285156 2.148438 -9.617188 2.699219 -9.847656 C 3.25 -10.074219 3.863281 -10.1875 4.539063 -10.191406 C 5.277344 -10.1875 5.933594 -10.070313 6.503906 -9.832031 C 7.070313 -9.59375 7.503906 -9.242188 7.8125 -8.777344 C 8.117188 -8.308594 8.28125 -7.78125 8.304688 -7.199219 L 7.035156 -7.101563 C 6.960938 -7.734375 6.730469 -8.210938 6.339844 -8.539063 C 5.945313 -8.859375 5.363281 -9.023438 4.59375 -9.023438 C 3.789063 -9.023438 3.203125 -8.875 2.839844 -8.582031 C 2.46875 -8.285156 2.285156 -7.929688 2.289063 -7.519531 C 2.285156 -7.15625 2.414063 -6.863281 2.679688 -6.632813 C 2.929688 -6.398438 3.597656 -6.15625 4.679688 -5.914063 C 5.753906 -5.667969 6.492188 -5.457031 6.898438 -5.277344 C 7.476563 -5.007813 7.90625 -4.667969 8.1875 -4.253906 C 8.460938 -3.839844 8.601563 -3.363281 8.605469 -2.828125 C 8.601563 -2.292969 8.449219 -1.792969 8.148438 -1.324219 C 7.839844 -0.851563 7.402344 -0.484375 6.832031 -0.222656 C 6.261719 0.0390625 5.617188 0.167969 4.902344 0.171875 C 3.992188 0.167969 3.230469 0.0390625 2.621094 -0.222656 C 2.003906 -0.488281 1.523438 -0.886719 1.179688 -1.417969 C 0.828125 -1.949219 0.644531 -2.546875 0.628906 -3.21875 Z M 0.628906 -3.21875 \"/>\n",
       "</symbol>\n",
       "<symbol overflow=\"visible\" id=\"glyph0-12\">\n",
       "<path style=\"stroke:none;\" d=\"M 5.660156 -0.894531 C 5.203125 -0.503906 4.761719 -0.230469 4.34375 -0.0742188 C 3.917969 0.0859375 3.46875 0.164063 2.988281 0.164063 C 2.1875 0.164063 1.574219 -0.0273438 1.148438 -0.417969 C 0.71875 -0.804688 0.503906 -1.304688 0.507813 -1.914063 C 0.503906 -2.265625 0.585938 -2.589844 0.75 -2.886719 C 0.910156 -3.179688 1.121094 -3.414063 1.382813 -3.59375 C 1.644531 -3.769531 1.9375 -3.90625 2.269531 -4 C 2.507813 -4.058594 2.875 -4.121094 3.363281 -4.183594 C 4.355469 -4.300781 5.085938 -4.441406 5.558594 -4.609375 C 5.558594 -4.773438 5.558594 -4.878906 5.5625 -4.929688 C 5.558594 -5.425781 5.445313 -5.78125 5.214844 -5.988281 C 4.898438 -6.265625 4.429688 -6.402344 3.8125 -6.40625 C 3.230469 -6.402344 2.804688 -6.300781 2.53125 -6.101563 C 2.253906 -5.894531 2.050781 -5.535156 1.921875 -5.023438 L 0.71875 -5.1875 C 0.824219 -5.699219 1.003906 -6.117188 1.257813 -6.433594 C 1.503906 -6.75 1.867188 -6.992188 2.34375 -7.164063 C 2.816406 -7.332031 3.363281 -7.417969 3.992188 -7.421875 C 4.609375 -7.417969 5.113281 -7.34375 5.503906 -7.203125 C 5.886719 -7.054688 6.171875 -6.871094 6.359375 -6.652344 C 6.539063 -6.429688 6.667969 -6.152344 6.742188 -5.816406 C 6.777344 -5.605469 6.796875 -5.226563 6.800781 -4.683594 L 6.800781 -3.042969 C 6.796875 -1.894531 6.824219 -1.171875 6.878906 -0.871094 C 6.933594 -0.566406 7.035156 -0.277344 7.191406 0 L 5.90625 0 C 5.777344 -0.253906 5.695313 -0.550781 5.660156 -0.894531 Z M 5.558594 -3.644531 C 5.109375 -3.460938 4.4375 -3.304688 3.546875 -3.179688 C 3.039063 -3.105469 2.683594 -3.023438 2.472656 -2.933594 C 2.261719 -2.839844 2.097656 -2.707031 1.988281 -2.53125 C 1.871094 -2.355469 1.816406 -2.160156 1.820313 -1.949219 C 1.816406 -1.617188 1.941406 -1.34375 2.191406 -1.128906 C 2.4375 -0.90625 2.800781 -0.796875 3.28125 -0.800781 C 3.753906 -0.796875 4.175781 -0.898438 4.546875 -1.109375 C 4.914063 -1.3125 5.183594 -1.597656 5.359375 -1.960938 C 5.488281 -2.238281 5.554688 -2.648438 5.558594 -3.191406 Z M 5.558594 -3.644531 \"/>\n",
       "</symbol>\n",
       "<symbol overflow=\"visible\" id=\"glyph0-13\">\n",
       "<path style=\"stroke:none;\" d=\"M 5.632813 0 L 5.632813 -0.914063 C 5.167969 -0.195313 4.492188 0.164063 3.601563 0.164063 C 3.019531 0.164063 2.488281 0.0078125 2.003906 -0.3125 C 1.519531 -0.628906 1.140625 -1.074219 0.875 -1.648438 C 0.605469 -2.21875 0.472656 -2.878906 0.476563 -3.625 C 0.472656 -4.347656 0.59375 -5.003906 0.839844 -5.59375 C 1.078125 -6.183594 1.441406 -6.636719 1.925781 -6.949219 C 2.40625 -7.261719 2.945313 -7.417969 3.546875 -7.421875 C 3.980469 -7.417969 4.371094 -7.324219 4.714844 -7.144531 C 5.054688 -6.957031 5.332031 -6.71875 5.550781 -6.425781 L 5.550781 -10.023438 L 6.773438 -10.023438 L 6.773438 0 Z M 1.742188 -3.625 C 1.738281 -2.691406 1.933594 -1.996094 2.328125 -1.535156 C 2.71875 -1.074219 3.183594 -0.84375 3.71875 -0.847656 C 4.253906 -0.84375 4.710938 -1.0625 5.085938 -1.507813 C 5.460938 -1.945313 5.648438 -2.617188 5.652344 -3.519531 C 5.648438 -4.511719 5.457031 -5.242188 5.078125 -5.707031 C 4.691406 -6.171875 4.21875 -6.402344 3.664063 -6.40625 C 3.113281 -6.402344 2.65625 -6.179688 2.292969 -5.734375 C 1.921875 -5.285156 1.738281 -4.582031 1.742188 -3.625 Z M 1.742188 -3.625 \"/>\n",
       "</symbol>\n",
       "<symbol overflow=\"visible\" id=\"glyph0-14\">\n",
       "<path style=\"stroke:none;\" d=\"M 5.890625 -2.335938 L 7.164063 -2.179688 C 6.960938 -1.4375 6.589844 -0.859375 6.046875 -0.449219 C 5.503906 -0.0390625 4.8125 0.164063 3.972656 0.164063 C 2.910156 0.164063 2.066406 -0.160156 1.445313 -0.816406 C 0.820313 -1.464844 0.507813 -2.382813 0.511719 -3.570313 C 0.507813 -4.785156 0.824219 -5.734375 1.453125 -6.410156 C 2.082031 -7.082031 2.898438 -7.417969 3.902344 -7.421875 C 4.871094 -7.417969 5.664063 -7.085938 6.28125 -6.429688 C 6.894531 -5.765625 7.199219 -4.839844 7.203125 -3.644531 C 7.199219 -3.570313 7.199219 -3.460938 7.199219 -3.316406 L 1.785156 -3.316406 C 1.828125 -2.515625 2.054688 -1.902344 2.460938 -1.480469 C 2.867188 -1.054688 3.371094 -0.84375 3.976563 -0.847656 C 4.425781 -0.84375 4.8125 -0.960938 5.132813 -1.203125 C 5.453125 -1.4375 5.703125 -1.816406 5.890625 -2.335938 Z M 1.851563 -4.328125 L 5.90625 -4.328125 C 5.851563 -4.933594 5.695313 -5.390625 5.441406 -5.703125 C 5.046875 -6.171875 4.539063 -6.410156 3.917969 -6.414063 C 3.351563 -6.410156 2.875 -6.21875 2.492188 -5.84375 C 2.101563 -5.460938 1.890625 -4.957031 1.851563 -4.328125 Z M 1.851563 -4.328125 \"/>\n",
       "</symbol>\n",
       "<symbol overflow=\"visible\" id=\"glyph0-15\">\n",
       "<path style=\"stroke:none;\" d=\"M 0.429688 -2.167969 L 1.648438 -2.359375 C 1.710938 -1.867188 1.902344 -1.492188 2.21875 -1.234375 C 2.527344 -0.972656 2.964844 -0.84375 3.527344 -0.847656 C 4.089844 -0.84375 4.507813 -0.957031 4.785156 -1.191406 C 5.054688 -1.417969 5.191406 -1.691406 5.195313 -2.003906 C 5.191406 -2.28125 5.070313 -2.5 4.832031 -2.660156 C 4.660156 -2.769531 4.242188 -2.90625 3.574219 -3.078125 C 2.671875 -3.300781 2.046875 -3.5 1.699219 -3.667969 C 1.347656 -3.832031 1.082031 -4.058594 0.90625 -4.355469 C 0.722656 -4.644531 0.632813 -4.972656 0.636719 -5.332031 C 0.632813 -5.652344 0.707031 -5.949219 0.855469 -6.230469 C 1.003906 -6.503906 1.203125 -6.734375 1.460938 -6.917969 C 1.648438 -7.054688 1.910156 -7.171875 2.246094 -7.273438 C 2.574219 -7.367188 2.929688 -7.417969 3.308594 -7.421875 C 3.875 -7.417969 4.375 -7.335938 4.808594 -7.175781 C 5.234375 -7.007813 5.550781 -6.785156 5.761719 -6.507813 C 5.964844 -6.226563 6.109375 -5.851563 6.1875 -5.386719 L 4.984375 -5.222656 C 4.925781 -5.589844 4.765625 -5.882813 4.507813 -6.097656 C 4.242188 -6.304688 3.875 -6.410156 3.398438 -6.414063 C 2.832031 -6.410156 2.425781 -6.316406 2.1875 -6.132813 C 1.941406 -5.941406 1.820313 -5.722656 1.824219 -5.476563 C 1.820313 -5.3125 1.871094 -5.167969 1.976563 -5.046875 C 2.070313 -4.910156 2.226563 -4.800781 2.445313 -4.71875 C 2.566406 -4.667969 2.929688 -4.5625 3.535156 -4.402344 C 4.402344 -4.167969 5.011719 -3.980469 5.355469 -3.832031 C 5.699219 -3.683594 5.96875 -3.464844 6.164063 -3.183594 C 6.359375 -2.898438 6.457031 -2.550781 6.460938 -2.132813 C 6.457031 -1.71875 6.335938 -1.332031 6.101563 -0.972656 C 5.859375 -0.609375 5.515625 -0.328125 5.066406 -0.132813 C 4.613281 0.0664063 4.101563 0.164063 3.535156 0.164063 C 2.585938 0.164063 1.867188 -0.03125 1.375 -0.421875 C 0.878906 -0.8125 0.5625 -1.394531 0.429688 -2.167969 Z M 0.429688 -2.167969 \"/>\n",
       "</symbol>\n",
       "<symbol overflow=\"visible\" id=\"glyph0-16\">\n",
       "<path style=\"stroke:none;\" d=\"M 1.148438 0 L 1.148438 -10.023438 L 7.910156 -10.023438 L 7.910156 -8.839844 L 2.476563 -8.839844 L 2.476563 -5.734375 L 7.179688 -5.734375 L 7.179688 -4.554688 L 2.476563 -4.554688 L 2.476563 0 Z M 1.148438 0 \"/>\n",
       "</symbol>\n",
       "<symbol overflow=\"visible\" id=\"glyph0-17\">\n",
       "<path style=\"stroke:none;\" d=\"M 1.078125 0 L 1.078125 -10.023438 L 4.859375 -10.023438 C 5.523438 -10.019531 6.03125 -9.988281 6.382813 -9.925781 C 6.875 -9.84375 7.289063 -9.6875 7.621094 -9.457031 C 7.953125 -9.226563 8.222656 -8.902344 8.425781 -8.488281 C 8.628906 -8.070313 8.730469 -7.617188 8.730469 -7.125 C 8.730469 -6.269531 8.457031 -5.546875 7.914063 -4.957031 C 7.371094 -4.367188 6.390625 -4.070313 4.976563 -4.074219 L 2.40625 -4.074219 L 2.40625 0 Z M 2.40625 -5.257813 L 4.996094 -5.257813 C 5.851563 -5.253906 6.460938 -5.414063 6.820313 -5.734375 C 7.179688 -6.050781 7.359375 -6.5 7.363281 -7.082031 C 7.359375 -7.5 7.253906 -7.859375 7.042969 -8.15625 C 6.832031 -8.453125 6.550781 -8.648438 6.207031 -8.75 C 5.980469 -8.804688 5.570313 -8.835938 4.96875 -8.839844 L 2.40625 -8.839844 Z M 2.40625 -5.257813 \"/>\n",
       "</symbol>\n",
       "<symbol overflow=\"visible\" id=\"glyph0-18\">\n",
       "<path style=\"stroke:none;\" d=\"M 0.929688 -8.605469 L 0.929688 -10.023438 L 2.160156 -10.023438 L 2.160156 -8.605469 Z M 0.929688 0 L 0.929688 -7.257813 L 2.160156 -7.257813 L 2.160156 0 Z M 0.929688 0 \"/>\n",
       "</symbol>\n",
       "<symbol overflow=\"visible\" id=\"glyph0-19\">\n",
       "<path style=\"stroke:none;\" d=\"M 3.609375 -1.101563 L 3.789063 -0.015625 C 3.4375 0.0585938 3.128906 0.09375 2.859375 0.09375 C 2.410156 0.09375 2.0625 0.0234375 1.816406 -0.117188 C 1.570313 -0.257813 1.394531 -0.441406 1.296875 -0.671875 C 1.195313 -0.902344 1.148438 -1.386719 1.148438 -2.125 L 1.148438 -6.304688 L 0.246094 -6.304688 L 0.246094 -7.257813 L 1.148438 -7.257813 L 1.148438 -9.058594 L 2.371094 -9.796875 L 2.371094 -7.257813 L 3.609375 -7.257813 L 3.609375 -6.304688 L 2.371094 -6.304688 L 2.371094 -2.058594 C 2.367188 -1.703125 2.386719 -1.476563 2.433594 -1.378906 C 2.472656 -1.277344 2.546875 -1.199219 2.648438 -1.140625 C 2.746094 -1.082031 2.886719 -1.054688 3.070313 -1.054688 C 3.203125 -1.054688 3.382813 -1.070313 3.609375 -1.101563 Z M 3.609375 -1.101563 \"/>\n",
       "</symbol>\n",
       "<symbol overflow=\"visible\" id=\"glyph0-20\">\n",
       "<path style=\"stroke:none;\" d=\"M -0.210938 2.78125 L -0.210938 1.894531 L 7.945313 1.894531 L 7.945313 2.78125 Z M -0.210938 2.78125 \"/>\n",
       "</symbol>\n",
       "<symbol overflow=\"visible\" id=\"glyph0-21\">\n",
       "<path style=\"stroke:none;\" d=\"M 1.078125 0 L 1.078125 -10.023438 L 4.53125 -10.023438 C 5.308594 -10.019531 5.90625 -9.972656 6.316406 -9.878906 C 6.890625 -9.746094 7.378906 -9.503906 7.785156 -9.160156 C 8.3125 -8.710938 8.707031 -8.140625 8.972656 -7.449219 C 9.230469 -6.75 9.363281 -5.957031 9.367188 -5.066406 C 9.363281 -4.300781 9.273438 -3.625 9.097656 -3.039063 C 8.917969 -2.449219 8.691406 -1.964844 8.414063 -1.582031 C 8.136719 -1.195313 7.832031 -0.890625 7.503906 -0.671875 C 7.171875 -0.449219 6.773438 -0.28125 6.304688 -0.171875 C 5.835938 -0.0546875 5.296875 0 4.695313 0 Z M 2.40625 -1.183594 L 4.546875 -1.183594 C 5.207031 -1.183594 5.722656 -1.242188 6.101563 -1.367188 C 6.472656 -1.484375 6.773438 -1.660156 7 -1.886719 C 7.3125 -2.199219 7.558594 -2.621094 7.734375 -3.15625 C 7.910156 -3.683594 7.996094 -4.328125 8 -5.085938 C 7.996094 -6.132813 7.824219 -6.9375 7.480469 -7.5 C 7.132813 -8.0625 6.714844 -8.4375 6.226563 -8.632813 C 5.871094 -8.765625 5.300781 -8.835938 4.511719 -8.839844 L 2.40625 -8.839844 Z M 2.40625 -1.183594 \"/>\n",
       "</symbol>\n",
       "<symbol overflow=\"visible\" id=\"glyph0-22\">\n",
       "<path style=\"stroke:none;\" d=\"M 0.894531 0 L 0.894531 -10.023438 L 2.125 -10.023438 L 2.125 0 Z M 0.894531 0 \"/>\n",
       "</symbol>\n",
       "<symbol overflow=\"visible\" id=\"glyph0-23\">\n",
       "<path style=\"stroke:none;\" d=\"M 5.660156 -2.660156 L 6.871094 -2.5 C 6.734375 -1.664063 6.394531 -1.011719 5.855469 -0.542969 C 5.308594 -0.0703125 4.640625 0.164063 3.847656 0.164063 C 2.851563 0.164063 2.054688 -0.160156 1.453125 -0.808594 C 0.847656 -1.457031 0.542969 -2.386719 0.546875 -3.601563 C 0.542969 -4.382813 0.675781 -5.070313 0.9375 -5.660156 C 1.195313 -6.246094 1.589844 -6.683594 2.121094 -6.980469 C 2.652344 -7.269531 3.230469 -7.417969 3.855469 -7.421875 C 4.644531 -7.417969 5.289063 -7.21875 5.789063 -6.824219 C 6.289063 -6.421875 6.609375 -5.855469 6.753906 -5.125 L 5.558594 -4.941406 C 5.441406 -5.425781 5.238281 -5.792969 4.953125 -6.042969 C 4.660156 -6.285156 4.3125 -6.410156 3.902344 -6.414063 C 3.28125 -6.410156 2.777344 -6.1875 2.390625 -5.746094 C 2.003906 -5.296875 1.808594 -4.59375 1.8125 -3.636719 C 1.808594 -2.65625 1.996094 -1.945313 2.371094 -1.507813 C 2.742188 -1.0625 3.230469 -0.84375 3.835938 -0.847656 C 4.316406 -0.84375 4.71875 -0.992188 5.042969 -1.289063 C 5.367188 -1.585938 5.574219 -2.042969 5.660156 -2.660156 Z M 5.660156 -2.660156 \"/>\n",
       "</symbol>\n",
       "<symbol overflow=\"visible\" id=\"glyph0-24\">\n",
       "<path style=\"stroke:none;\" d=\"M 0.867188 2.796875 L 0.730469 1.640625 C 0.996094 1.710938 1.230469 1.746094 1.4375 1.75 C 1.703125 1.746094 1.921875 1.699219 2.089844 1.613281 C 2.25 1.519531 2.386719 1.394531 2.496094 1.230469 C 2.570313 1.105469 2.695313 0.796875 2.871094 0.3125 C 2.894531 0.242188 2.929688 0.144531 2.980469 0.015625 L 0.226563 -7.257813 L 1.550781 -7.257813 L 3.0625 -3.054688 C 3.253906 -2.519531 3.429688 -1.960938 3.589844 -1.375 C 3.726563 -1.9375 3.894531 -2.488281 4.09375 -3.027344 L 5.648438 -7.257813 L 6.875 -7.257813 L 4.117188 0.125 C 3.816406 0.917969 3.585938 1.46875 3.425781 1.769531 C 3.203125 2.175781 2.953125 2.472656 2.671875 2.660156 C 2.390625 2.847656 2.050781 2.941406 1.660156 2.945313 C 1.417969 2.941406 1.15625 2.890625 0.867188 2.796875 Z M 0.867188 2.796875 \"/>\n",
       "</symbol>\n",
       "<symbol overflow=\"visible\" id=\"glyph0-25\">\n",
       "<path style=\"stroke:none;\" d=\"M 0.929688 0 L 0.929688 -10.023438 L 2.160156 -10.023438 L 2.160156 -4.304688 L 5.070313 -7.257813 L 6.664063 -7.257813 L 3.890625 -4.566406 L 6.945313 0 L 5.429688 0 L 3.027344 -3.710938 L 2.160156 -2.878906 L 2.160156 0 Z M 0.929688 0 \"/>\n",
       "</symbol>\n",
       "</g>\n",
       "</defs>\n",
       "<g id=\"surface32\">\n",
       "<rect x=\"0\" y=\"0\" width=\"600\" height=\"600\" style=\"fill:rgb(100%,100%,100%);fill-opacity:1;stroke:none;\"/>\n",
       "<path style=\"fill:none;stroke-width:0.86262;stroke-linecap:butt;stroke-linejoin:miter;stroke:rgb(26.666667%,26.666667%,26.666667%);stroke-opacity:1;stroke-miterlimit:10;\" d=\"M 85.148438 493.207031 C 153.179688 593.753906 246.496094 629.621094 360.554688 588.289063 \"/>\n",
       "<path style=\" stroke:none;fill-rule:nonzero;fill:rgb(26.666667%,26.666667%,26.666667%);fill-opacity:1;\" d=\"M 373.964844 583.429688 L 362.132813 592.644531 L 358.976563 583.929688 L 373.964844 583.429688 \"/>\n",
       "<path style=\"fill:none;stroke-width:0.86262;stroke-linecap:butt;stroke-linejoin:miter;stroke:rgb(26.666667%,26.666667%,26.666667%);stroke-opacity:1;stroke-miterlimit:10;\" d=\"M 85.148438 493.207031 C 220 505.804688 316.539063 450.636719 362.207031 323.207031 \"/>\n",
       "<path style=\" stroke:none;fill-rule:nonzero;fill:rgb(26.666667%,26.666667%,26.666667%);fill-opacity:1;\" d=\"M 367.019531 309.777344 L 366.570313 324.769531 L 357.84375 321.644531 L 367.019531 309.777344 \"/>\n",
       "<path style=\"fill:none;stroke-width:0.319489;stroke-linecap:butt;stroke-linejoin:miter;stroke:rgb(26.666667%,26.666667%,26.666667%);stroke-opacity:1;stroke-miterlimit:10;\" d=\"M 85.148438 493.207031 C 272.667969 576.207031 435.988281 542.117188 564.703125 382.539063 \"/>\n",
       "<path style=\" stroke:none;fill-rule:nonzero;fill:rgb(26.666667%,26.666667%,26.666667%);fill-opacity:1;\" d=\"M 573.660156 371.4375 L 568.3125 385.449219 L 561.09375 379.628906 L 573.660156 371.4375 \"/>\n",
       "<path style=\"fill:none;stroke-width:5.527157;stroke-linecap:butt;stroke-linejoin:miter;stroke:rgb(26.666667%,26.666667%,26.666667%);stroke-opacity:1;stroke-miterlimit:10;\" d=\"M 85.148438 493.207031 C 166.796875 521.546875 236.394531 502.871094 282.726563 430.046875 \"/>\n",
       "<path style=\" stroke:none;fill-rule:nonzero;fill:rgb(26.666667%,26.666667%,26.666667%);fill-opacity:1;\" d=\"M 290.386719 418.011719 L 286.636719 432.535156 L 278.816406 427.558594 L 290.386719 418.011719 \"/>\n",
       "<path style=\"fill:none;stroke-width:0.127796;stroke-linecap:butt;stroke-linejoin:miter;stroke:rgb(26.666667%,26.666667%,26.666667%);stroke-opacity:1;stroke-miterlimit:10;\" d=\"M 85.148438 493.207031 C 183.035156 329.25 170.175781 174.222656 36.996094 37.453125 \"/>\n",
       "<path style=\" stroke:none;fill-rule:nonzero;fill:rgb(26.666667%,26.666667%,26.666667%);fill-opacity:1;\" d=\"M 27.042969 27.230469 L 40.316406 34.21875 L 33.671875 40.6875 L 27.042969 27.230469 \"/>\n",
       "<path style=\"fill:none;stroke-width:0.845511;stroke-linecap:butt;stroke-linejoin:miter;stroke:rgb(26.666667%,26.666667%,26.666667%);stroke-opacity:1;stroke-miterlimit:10;\" d=\"M 383.425781 580 C 315.394531 479.453125 222.078125 443.585938 108.019531 484.917969 \"/>\n",
       "<path style=\" stroke:none;fill-rule:nonzero;fill:rgb(26.666667%,26.666667%,26.666667%);fill-opacity:1;\" d=\"M 94.605469 489.777344 L 106.441406 480.5625 L 109.597656 489.277344 L 94.605469 489.777344 \"/>\n",
       "<path style=\"fill:none;stroke-width:1.597077;stroke-linecap:butt;stroke-linejoin:miter;stroke:rgb(26.666667%,26.666667%,26.666667%);stroke-opacity:1;stroke-miterlimit:10;\" d=\"M 383.425781 580 C 449.34375 493.640625 453.539063 403.953125 385.632813 319.269531 \"/>\n",
       "<path style=\" stroke:none;fill-rule:nonzero;fill:rgb(26.666667%,26.666667%,26.666667%);fill-opacity:1;\" d=\"M 376.707031 308.136719 L 389.246094 316.367188 L 382.015625 322.167969 L 376.707031 308.136719 \"/>\n",
       "<path style=\"fill:none;stroke-width:0.782881;stroke-linecap:butt;stroke-linejoin:miter;stroke:rgb(26.666667%,26.666667%,26.666667%);stroke-opacity:1;stroke-miterlimit:10;\" d=\"M 383.425781 580 C 496.144531 564.410156 565.210938 500.804688 577.394531 387.757813 \"/>\n",
       "<path style=\" stroke:none;fill-rule:nonzero;fill:rgb(26.666667%,26.666667%,26.666667%);fill-opacity:1;\" d=\"M 578.921875 373.574219 L 582.003906 388.253906 L 572.785156 387.261719 L 578.921875 373.574219 \"/>\n",
       "<path style=\"fill:none;stroke-width:5.480167;stroke-linecap:butt;stroke-linejoin:miter;stroke:rgb(26.666667%,26.666667%,26.666667%);stroke-opacity:1;stroke-miterlimit:10;\" d=\"M 383.425781 580 C 401.257813 510.355469 381.25 453.292969 317.371094 420.605469 \"/>\n",
       "<path style=\" stroke:none;fill-rule:nonzero;fill:rgb(26.666667%,26.666667%,26.666667%);fill-opacity:1;\" d=\"M 304.671875 414.109375 L 319.484375 416.480469 L 315.261719 424.730469 L 304.671875 414.109375 \"/>\n",
       "<path style=\"fill:none;stroke-width:0.125261;stroke-linecap:butt;stroke-linejoin:miter;stroke:rgb(26.666667%,26.666667%,26.666667%);stroke-opacity:1;stroke-miterlimit:10;\" d=\"M 383.425781 580 C 407.761719 311.03125 295.796875 123.027344 42.835938 28.53125 \"/>\n",
       "<path style=\" stroke:none;fill-rule:nonzero;fill:rgb(26.666667%,26.666667%,26.666667%);fill-opacity:1;\" d=\"M 29.472656 23.539063 L 44.457031 24.1875 L 41.214844 32.871094 L 29.472656 23.539063 \"/>\n",
       "<path style=\"fill:none;stroke-width:0.110024;stroke-linecap:butt;stroke-linejoin:miter;stroke:rgb(26.666667%,26.666667%,26.666667%);stroke-opacity:1;stroke-miterlimit:10;\" d=\"M 370.417969 300.296875 C 235.566406 287.699219 139.027344 342.867188 93.359375 470.296875 \"/>\n",
       "<path style=\" stroke:none;fill-rule:nonzero;fill:rgb(26.666667%,26.666667%,26.666667%);fill-opacity:1;\" d=\"M 88.546875 483.726563 L 88.996094 468.734375 L 97.722656 471.859375 L 88.546875 483.726563 \"/>\n",
       "<path style=\"fill:none;stroke-width:0.207824;stroke-linecap:butt;stroke-linejoin:miter;stroke:rgb(26.666667%,26.666667%,26.666667%);stroke-opacity:1;stroke-miterlimit:10;\" d=\"M 370.417969 300.296875 C 304.5 386.65625 300.304688 476.34375 368.214844 561.027344 \"/>\n",
       "<path style=\" stroke:none;fill-rule:nonzero;fill:rgb(26.666667%,26.666667%,26.666667%);fill-opacity:1;\" d=\"M 377.136719 572.160156 L 364.597656 563.929688 L 371.828125 558.128906 L 377.136719 572.160156 \"/>\n",
       "<path style=\"fill:none;stroke-width:0.472698;stroke-linecap:butt;stroke-linejoin:miter;stroke:rgb(26.666667%,26.666667%,26.666667%);stroke-opacity:1;stroke-miterlimit:10;\" d=\"M 370.417969 300.296875 C 414.824219 370.6875 478.476563 398.601563 557.039063 371.496094 \"/>\n",
       "<path style=\" stroke:none;fill-rule:nonzero;fill:rgb(26.666667%,26.666667%,26.666667%);fill-opacity:1;\" d=\"M 570.527344 366.84375 L 558.550781 375.878906 L 555.527344 367.113281 L 570.527344 366.84375 \"/>\n",
       "<path style=\"fill:none;stroke-width:1.797066;stroke-linecap:butt;stroke-linejoin:miter;stroke:rgb(26.666667%,26.666667%,26.666667%);stroke-opacity:1;stroke-miterlimit:10;\" d=\"M 370.417969 300.296875 C 324.160156 309.902344 294.773438 338.3125 295.429688 385.351563 \"/>\n",
       "<path style=\" stroke:none;fill-rule:nonzero;fill:rgb(26.666667%,26.666667%,26.666667%);fill-opacity:1;\" d=\"M 295.628906 399.617188 L 290.796875 385.414063 L 300.066406 385.285156 L 295.628906 399.617188 \"/>\n",
       "<path style=\"fill:none;stroke-width:0.0488998;stroke-linecap:butt;stroke-linejoin:miter;stroke:rgb(26.666667%,26.666667%,26.666667%);stroke-opacity:1;stroke-miterlimit:10;\" d=\"M 370.417969 300.296875 C 331.554688 125.667969 223.039063 28.109375 44.335938 20.972656 \"/>\n",
       "<path style=\" stroke:none;fill-rule:nonzero;fill:rgb(26.666667%,26.666667%,26.666667%);fill-opacity:1;\" d=\"M 30.082031 20.402344 L 44.523438 16.339844 L 44.152344 25.605469 L 30.082031 20.402344 \"/>\n",
       "<path style=\"fill:none;stroke-width:0.191816;stroke-linecap:butt;stroke-linejoin:miter;stroke:rgb(26.666667%,26.666667%,26.666667%);stroke-opacity:1;stroke-miterlimit:10;\" d=\"M 580 363.574219 C 392.480469 280.574219 229.160156 314.667969 100.445313 474.242188 \"/>\n",
       "<path style=\" stroke:none;fill-rule:nonzero;fill:rgb(26.666667%,26.666667%,26.666667%);fill-opacity:1;\" d=\"M 91.488281 485.347656 L 96.835938 471.332031 L 104.050781 477.152344 L 91.488281 485.347656 \"/>\n",
       "<path style=\"fill:none;stroke-width:0.47954;stroke-linecap:butt;stroke-linejoin:miter;stroke:rgb(26.666667%,26.666667%,26.666667%);stroke-opacity:1;stroke-miterlimit:10;\" d=\"M 580 363.574219 C 467.28125 379.164063 398.214844 442.769531 386.03125 555.820313 \"/>\n",
       "<path style=\" stroke:none;fill-rule:nonzero;fill:rgb(26.666667%,26.666667%,26.666667%);fill-opacity:1;\" d=\"M 384.503906 570.003906 L 381.421875 555.320313 L 390.640625 556.316406 L 384.503906 570.003906 \"/>\n",
       "<path style=\"fill:none;stroke-width:2.225064;stroke-linecap:butt;stroke-linejoin:miter;stroke:rgb(26.666667%,26.666667%,26.666667%);stroke-opacity:1;stroke-miterlimit:10;\" d=\"M 580 363.574219 C 535.59375 293.1875 471.941406 265.269531 393.378906 292.375 \"/>\n",
       "<path style=\" stroke:none;fill-rule:nonzero;fill:rgb(26.666667%,26.666667%,26.666667%);fill-opacity:1;\" d=\"M 379.894531 297.027344 L 391.867188 287.992188 L 394.890625 296.757813 L 379.894531 297.027344 \"/>\n",
       "<path style=\"fill:none;stroke-width:2.033248;stroke-linecap:butt;stroke-linejoin:miter;stroke:rgb(26.666667%,26.666667%,26.666667%);stroke-opacity:1;stroke-miterlimit:10;\" d=\"M 580 363.574219 C 483.785156 306.363281 391.59375 312.804688 312.882813 392.273438 \"/>\n",
       "<path style=\" stroke:none;fill-rule:nonzero;fill:rgb(26.666667%,26.666667%,26.666667%);fill-opacity:1;\" d=\"M 302.84375 402.40625 L 309.589844 389.011719 L 316.175781 395.535156 L 302.84375 402.40625 \"/>\n",
       "<path style=\"fill:none;stroke-width:0.0383632;stroke-linecap:butt;stroke-linejoin:miter;stroke:rgb(26.666667%,26.666667%,26.666667%);stroke-opacity:1;stroke-miterlimit:10;\" d=\"M 580 363.574219 C 487.851563 114.414063 308.890625 -5.265625 44.285156 17.875 \"/>\n",
       "<path style=\" stroke:none;fill-rule:nonzero;fill:rgb(26.666667%,26.666667%,26.666667%);fill-opacity:1;\" d=\"M 30.074219 19.117188 L 43.878906 13.257813 L 44.6875 22.492188 L 30.074219 19.117188 \"/>\n",
       "<path style=\"fill:none;stroke-width:0.495749;stroke-linecap:butt;stroke-linejoin:miter;stroke:rgb(26.666667%,26.666667%,26.666667%);stroke-opacity:1;stroke-miterlimit:10;\" d=\"M 295.769531 409.550781 C 214.117188 381.210938 144.523438 399.886719 98.1875 472.710938 \"/>\n",
       "<path style=\" stroke:none;fill-rule:nonzero;fill:rgb(26.666667%,26.666667%,26.666667%);fill-opacity:1;\" d=\"M 90.53125 484.746094 L 94.277344 470.222656 L 102.097656 475.199219 L 90.53125 484.746094 \"/>\n",
       "<path style=\"fill:none;stroke-width:0.501481;stroke-linecap:butt;stroke-linejoin:miter;stroke:rgb(26.666667%,26.666667%,26.666667%);stroke-opacity:1;stroke-miterlimit:10;\" d=\"M 295.769531 409.550781 C 277.9375 479.195313 297.941406 536.257813 361.820313 568.945313 \"/>\n",
       "<path style=\" stroke:none;fill-rule:nonzero;fill:rgb(26.666667%,26.666667%,26.666667%);fill-opacity:1;\" d=\"M 374.519531 575.441406 L 359.710938 573.070313 L 363.933594 564.820313 L 374.519531 575.441406 \"/>\n",
       "<path style=\"fill:none;stroke-width:1.263731;stroke-linecap:butt;stroke-linejoin:miter;stroke:rgb(26.666667%,26.666667%,26.666667%);stroke-opacity:1;stroke-miterlimit:10;\" d=\"M 295.769531 409.550781 C 342.027344 399.945313 371.414063 371.535156 370.757813 324.496094 \"/>\n",
       "<path style=\" stroke:none;fill-rule:nonzero;fill:rgb(26.666667%,26.666667%,26.666667%);fill-opacity:1;\" d=\"M 370.558594 310.234375 L 375.390625 324.433594 L 366.121094 324.5625 L 370.558594 310.234375 \"/>\n",
       "<path style=\"fill:none;stroke-width:0.303754;stroke-linecap:butt;stroke-linejoin:miter;stroke:rgb(26.666667%,26.666667%,26.666667%);stroke-opacity:1;stroke-miterlimit:10;\" d=\"M 295.769531 409.550781 C 391.980469 466.765625 484.175781 460.324219 562.886719 380.855469 \"/>\n",
       "<path style=\" stroke:none;fill-rule:nonzero;fill:rgb(26.666667%,26.666667%,26.666667%);fill-opacity:1;\" d=\"M 572.925781 370.71875 L 566.179688 384.117188 L 559.59375 377.59375 L 572.925781 370.71875 \"/>\n",
       "<path style=\"fill:none;stroke-width:0.0544465;stroke-linecap:butt;stroke-linejoin:miter;stroke:rgb(26.666667%,26.666667%,26.666667%);stroke-opacity:1;stroke-miterlimit:10;\" d=\"M 295.769531 409.550781 C 307.027344 219.089844 224.214844 87.5625 43.128906 27.652344 \"/>\n",
       "<path style=\" stroke:none;fill-rule:nonzero;fill:rgb(26.666667%,26.666667%,26.666667%);fill-opacity:1;\" d=\"M 29.582031 23.171875 L 44.582031 23.25 L 41.671875 32.050781 L 29.582031 23.171875 \"/>\n",
       "<path style=\"fill:none;stroke-width:0.173661;stroke-linecap:butt;stroke-linejoin:miter;stroke:rgb(26.666667%,26.666667%,26.666667%);stroke-opacity:1;stroke-miterlimit:10;\" d=\"M 20 20 C -77.886719 183.957031 -65.027344 338.980469 68.152344 475.753906 \"/>\n",
       "<path style=\" stroke:none;fill-rule:nonzero;fill:rgb(26.666667%,26.666667%,26.666667%);fill-opacity:1;\" d=\"M 78.105469 485.976563 L 64.832031 478.988281 L 71.472656 472.519531 L 78.105469 485.976563 \"/>\n",
       "<path style=\"fill:none;stroke-width:0.173661;stroke-linecap:butt;stroke-linejoin:miter;stroke:rgb(26.666667%,26.666667%,26.666667%);stroke-opacity:1;stroke-miterlimit:10;\" d=\"M 20 20 C -4.335938 288.96875 107.632813 476.972656 360.589844 571.46875 \"/>\n",
       "<path style=\" stroke:none;fill-rule:nonzero;fill:rgb(26.666667%,26.666667%,26.666667%);fill-opacity:1;\" d=\"M 373.953125 576.460938 L 358.96875 575.8125 L 362.210938 567.128906 L 373.953125 576.460938 \"/>\n",
       "<path style=\"fill:none;stroke-width:0.520984;stroke-linecap:butt;stroke-linejoin:miter;stroke:rgb(26.666667%,26.666667%,26.666667%);stroke-opacity:1;stroke-miterlimit:10;\" d=\"M 20 20 C 58.863281 194.628906 167.378906 292.1875 346.082031 299.324219 \"/>\n",
       "<path style=\" stroke:none;fill-rule:nonzero;fill:rgb(26.666667%,26.666667%,26.666667%);fill-opacity:1;\" d=\"M 360.335938 299.894531 L 345.898438 303.957031 L 346.265625 294.695313 L 360.335938 299.894531 \"/>\n",
       "<path style=\"fill:none;stroke-width:0.0868307;stroke-linecap:butt;stroke-linejoin:miter;stroke:rgb(26.666667%,26.666667%,26.666667%);stroke-opacity:1;stroke-miterlimit:10;\" d=\"M 20 20 C 112.148438 269.160156 291.109375 388.839844 555.714844 365.699219 \"/>\n",
       "<path style=\" stroke:none;fill-rule:nonzero;fill:rgb(26.666667%,26.666667%,26.666667%);fill-opacity:1;\" d=\"M 569.925781 364.457031 L 556.121094 370.316406 L 555.3125 361.082031 L 569.925781 364.457031 \"/>\n",
       "<path style=\"fill:none;stroke-width:0.824891;stroke-linecap:butt;stroke-linejoin:miter;stroke:rgb(26.666667%,26.666667%,26.666667%);stroke-opacity:1;stroke-miterlimit:10;\" d=\"M 20 20 C 8.738281 210.460938 91.550781 341.988281 272.640625 401.898438 \"/>\n",
       "<path style=\" stroke:none;fill-rule:nonzero;fill:rgb(26.666667%,26.666667%,26.666667%);fill-opacity:1;\" d=\"M 286.183594 406.378906 L 271.183594 406.300781 L 274.097656 397.5 L 286.183594 406.378906 \"/>\n",
       "<path style=\"fill-rule:nonzero;fill:rgb(100%,0%,0%);fill-opacity:1;stroke-width:1;stroke-linecap:butt;stroke-linejoin:miter;stroke:rgb(0%,0%,0%);stroke-opacity:1;stroke-miterlimit:10;\" d=\"M 95.148438 493.207031 C 95.148438 498.730469 90.671875 503.207031 85.148438 503.207031 C 79.625 503.207031 75.148438 498.730469 75.148438 493.207031 C 75.148438 487.683594 79.625 483.207031 85.148438 483.207031 C 90.671875 483.207031 95.148438 487.683594 95.148438 493.207031 \"/>\n",
       "<path style=\"fill-rule:nonzero;fill:rgb(100%,0%,0%);fill-opacity:1;stroke-width:1;stroke-linecap:butt;stroke-linejoin:miter;stroke:rgb(0%,0%,0%);stroke-opacity:1;stroke-miterlimit:10;\" d=\"M 393.425781 580 C 393.425781 585.523438 388.949219 590 383.425781 590 C 377.902344 590 373.425781 585.523438 373.425781 580 C 373.425781 574.476563 377.902344 570 383.425781 570 C 388.949219 570 393.425781 574.476563 393.425781 580 \"/>\n",
       "<path style=\"fill-rule:nonzero;fill:rgb(100%,0%,0%);fill-opacity:1;stroke-width:1;stroke-linecap:butt;stroke-linejoin:miter;stroke:rgb(0%,0%,0%);stroke-opacity:1;stroke-miterlimit:10;\" d=\"M 380.417969 300.296875 C 380.417969 305.820313 375.941406 310.296875 370.417969 310.296875 C 364.894531 310.296875 360.417969 305.820313 360.417969 300.296875 C 360.417969 294.773438 364.894531 290.296875 370.417969 290.296875 C 375.941406 290.296875 380.417969 294.773438 380.417969 300.296875 \"/>\n",
       "<path style=\"fill-rule:nonzero;fill:rgb(100%,0%,0%);fill-opacity:1;stroke-width:1;stroke-linecap:butt;stroke-linejoin:miter;stroke:rgb(0%,0%,0%);stroke-opacity:1;stroke-miterlimit:10;\" d=\"M 590 363.574219 C 590 369.097656 585.523438 373.574219 580 373.574219 C 574.476563 373.574219 570 369.097656 570 363.574219 C 570 358.050781 574.476563 353.574219 580 353.574219 C 585.523438 353.574219 590 358.050781 590 363.574219 \"/>\n",
       "<path style=\"fill-rule:nonzero;fill:rgb(100%,0%,0%);fill-opacity:1;stroke-width:1;stroke-linecap:butt;stroke-linejoin:miter;stroke:rgb(0%,0%,0%);stroke-opacity:1;stroke-miterlimit:10;\" d=\"M 305.769531 409.550781 C 305.769531 415.074219 301.289063 419.550781 295.769531 419.550781 C 290.246094 419.550781 285.769531 415.074219 285.769531 409.550781 C 285.769531 404.027344 290.246094 399.550781 295.769531 399.550781 C 301.289063 399.550781 305.769531 404.027344 305.769531 409.550781 \"/>\n",
       "<path style=\"fill-rule:nonzero;fill:rgb(100%,0%,0%);fill-opacity:1;stroke-width:1;stroke-linecap:butt;stroke-linejoin:miter;stroke:rgb(0%,0%,0%);stroke-opacity:1;stroke-miterlimit:10;\" d=\"M 30 20 C 30 25.523438 25.523438 30 20 30 C 14.476563 30 10 25.523438 10 20 C 10 14.476563 14.476563 10 20 10 C 25.523438 10 30 14.476563 30 20 \"/>\n",
       "<g style=\"fill:rgb(0%,0%,0%);fill-opacity:1;\">\n",
       "  <use xlink:href=\"#glyph0-1\" x=\"22.402344\" y=\"499.804688\"/>\n",
       "  <use xlink:href=\"#glyph0-2\" x=\"31.740234\" y=\"499.804688\"/>\n",
       "  <use xlink:href=\"#glyph0-3\" x=\"39.526367\" y=\"499.804688\"/>\n",
       "  <use xlink:href=\"#glyph0-4\" x=\"47.3125\" y=\"499.804688\"/>\n",
       "  <use xlink:href=\"#glyph0-5\" x=\"55.098633\" y=\"499.804688\"/>\n",
       "  <use xlink:href=\"#glyph0-6\" x=\"62.884766\" y=\"499.804688\"/>\n",
       "  <use xlink:href=\"#glyph0-7\" x=\"70.670898\" y=\"499.804688\"/>\n",
       "  <use xlink:href=\"#glyph0-8\" x=\"79.222656\" y=\"499.804688\"/>\n",
       "  <use xlink:href=\"#glyph0-4\" x=\"83.884766\" y=\"499.804688\"/>\n",
       "  <use xlink:href=\"#glyph0-9\" x=\"91.670898\" y=\"499.804688\"/>\n",
       "  <use xlink:href=\"#glyph0-10\" x=\"103.333008\" y=\"499.804688\"/>\n",
       "  <use xlink:href=\"#glyph0-11\" x=\"111.119141\" y=\"499.804688\"/>\n",
       "  <use xlink:href=\"#glyph0-10\" x=\"120.457031\" y=\"499.804688\"/>\n",
       "  <use xlink:href=\"#glyph0-12\" x=\"128.243164\" y=\"499.804688\"/>\n",
       "  <use xlink:href=\"#glyph0-9\" x=\"136.029297\" y=\"499.804688\"/>\n",
       "</g>\n",
       "<g style=\"fill:rgb(0%,0%,0%);fill-opacity:1;\">\n",
       "  <use xlink:href=\"#glyph0-11\" x=\"317.019531\" y=\"586.597656\"/>\n",
       "  <use xlink:href=\"#glyph0-12\" x=\"326.357422\" y=\"586.597656\"/>\n",
       "  <use xlink:href=\"#glyph0-2\" x=\"334.143555\" y=\"586.597656\"/>\n",
       "  <use xlink:href=\"#glyph0-13\" x=\"341.929688\" y=\"586.597656\"/>\n",
       "  <use xlink:href=\"#glyph0-14\" x=\"349.71582\" y=\"586.597656\"/>\n",
       "  <use xlink:href=\"#glyph0-8\" x=\"357.501953\" y=\"586.597656\"/>\n",
       "  <use xlink:href=\"#glyph0-15\" x=\"362.164063\" y=\"586.597656\"/>\n",
       "  <use xlink:href=\"#glyph0-16\" x=\"369.164063\" y=\"586.597656\"/>\n",
       "  <use xlink:href=\"#glyph0-3\" x=\"377.71582\" y=\"586.597656\"/>\n",
       "  <use xlink:href=\"#glyph0-8\" x=\"385.501953\" y=\"586.597656\"/>\n",
       "  <use xlink:href=\"#glyph0-17\" x=\"390.164063\" y=\"586.597656\"/>\n",
       "  <use xlink:href=\"#glyph0-8\" x=\"399.501953\" y=\"586.597656\"/>\n",
       "  <use xlink:href=\"#glyph0-14\" x=\"404.164063\" y=\"586.597656\"/>\n",
       "  <use xlink:href=\"#glyph0-15\" x=\"411.950195\" y=\"586.597656\"/>\n",
       "  <use xlink:href=\"#glyph0-18\" x=\"418.950195\" y=\"586.597656\"/>\n",
       "  <use xlink:href=\"#glyph0-13\" x=\"422.060547\" y=\"586.597656\"/>\n",
       "  <use xlink:href=\"#glyph0-14\" x=\"429.84668\" y=\"586.597656\"/>\n",
       "  <use xlink:href=\"#glyph0-2\" x=\"437.632813\" y=\"586.597656\"/>\n",
       "  <use xlink:href=\"#glyph0-19\" x=\"445.418945\" y=\"586.597656\"/>\n",
       "</g>\n",
       "<g style=\"fill:rgb(0%,0%,0%);fill-opacity:1;\">\n",
       "  <use xlink:href=\"#glyph0-7\" x=\"332.621094\" y=\"306.808594\"/>\n",
       "  <use xlink:href=\"#glyph0-6\" x=\"341.172852\" y=\"306.808594\"/>\n",
       "  <use xlink:href=\"#glyph0-14\" x=\"348.958984\" y=\"306.808594\"/>\n",
       "  <use xlink:href=\"#glyph0-20\" x=\"356.745117\" y=\"306.808594\"/>\n",
       "  <use xlink:href=\"#glyph0-21\" x=\"364.53125\" y=\"306.808594\"/>\n",
       "  <use xlink:href=\"#glyph0-3\" x=\"374.641602\" y=\"306.808594\"/>\n",
       "  <use xlink:href=\"#glyph0-2\" x=\"382.427734\" y=\"306.808594\"/>\n",
       "  <use xlink:href=\"#glyph0-12\" x=\"390.213867\" y=\"306.808594\"/>\n",
       "  <use xlink:href=\"#glyph0-22\" x=\"398\" y=\"306.808594\"/>\n",
       "  <use xlink:href=\"#glyph0-13\" x=\"401.110352\" y=\"306.808594\"/>\n",
       "</g>\n",
       "<g style=\"fill:rgb(0%,0%,0%);fill-opacity:1;\">\n",
       "  <use xlink:href=\"#glyph0-23\" x=\"546.328125\" y=\"370.085938\"/>\n",
       "  <use xlink:href=\"#glyph0-3\" x=\"553.328125\" y=\"370.085938\"/>\n",
       "  <use xlink:href=\"#glyph0-2\" x=\"561.114258\" y=\"370.085938\"/>\n",
       "  <use xlink:href=\"#glyph0-15\" x=\"568.900391\" y=\"370.085938\"/>\n",
       "  <use xlink:href=\"#glyph0-10\" x=\"575.900391\" y=\"370.085938\"/>\n",
       "  <use xlink:href=\"#glyph0-18\" x=\"583.686523\" y=\"370.085938\"/>\n",
       "  <use xlink:href=\"#glyph0-8\" x=\"586.796875\" y=\"370.085938\"/>\n",
       "  <use xlink:href=\"#glyph0-12\" x=\"591.458984\" y=\"370.085938\"/>\n",
       "  <use xlink:href=\"#glyph0-23\" x=\"599.245117\" y=\"370.085938\"/>\n",
       "  <use xlink:href=\"#glyph0-24\" x=\"606.245117\" y=\"370.085938\"/>\n",
       "</g>\n",
       "<g style=\"fill:rgb(0%,0%,0%);fill-opacity:1;\">\n",
       "  <use xlink:href=\"#glyph0-10\" x=\"274.179688\" y=\"416.0625\"/>\n",
       "  <use xlink:href=\"#glyph0-3\" x=\"281.96582\" y=\"416.0625\"/>\n",
       "  <use xlink:href=\"#glyph0-22\" x=\"289.751953\" y=\"416.0625\"/>\n",
       "  <use xlink:href=\"#glyph0-18\" x=\"292.862305\" y=\"416.0625\"/>\n",
       "  <use xlink:href=\"#glyph0-19\" x=\"295.972656\" y=\"416.0625\"/>\n",
       "  <use xlink:href=\"#glyph0-18\" x=\"299.862305\" y=\"416.0625\"/>\n",
       "  <use xlink:href=\"#glyph0-23\" x=\"302.972656\" y=\"416.0625\"/>\n",
       "  <use xlink:href=\"#glyph0-15\" x=\"309.972656\" y=\"416.0625\"/>\n",
       "</g>\n",
       "<g style=\"fill:rgb(0%,0%,0%);fill-opacity:1;\">\n",
       "  <use xlink:href=\"#glyph0-4\" x=\"-8.96875\" y=\"26.511719\"/>\n",
       "  <use xlink:href=\"#glyph0-25\" x=\"-1.182617\" y=\"26.511719\"/>\n",
       "  <use xlink:href=\"#glyph0-10\" x=\"5.817383\" y=\"26.511719\"/>\n",
       "  <use xlink:href=\"#glyph0-3\" x=\"13.603516\" y=\"26.511719\"/>\n",
       "  <use xlink:href=\"#glyph0-22\" x=\"21.389648\" y=\"26.511719\"/>\n",
       "  <use xlink:href=\"#glyph0-18\" x=\"24.5\" y=\"26.511719\"/>\n",
       "  <use xlink:href=\"#glyph0-19\" x=\"27.610352\" y=\"26.511719\"/>\n",
       "  <use xlink:href=\"#glyph0-18\" x=\"31.5\" y=\"26.511719\"/>\n",
       "  <use xlink:href=\"#glyph0-23\" x=\"34.610352\" y=\"26.511719\"/>\n",
       "  <use xlink:href=\"#glyph0-15\" x=\"41.610352\" y=\"26.511719\"/>\n",
       "</g>\n",
       "</g>\n",
       "</svg>\n"
      ],
      "text/plain": [
       "<igraph.drawing.Plot at 0x1978b303dd8>"
      ]
     },
     "execution_count": 83,
     "metadata": {},
     "output_type": "execute_result"
    }
   ],
   "source": [
    "A_perc = df_politics_adj_percentages.values\n",
    "g_politic_subreddits_2 = Graph().Adjacency((A_perc > 0).tolist())\n",
    "# Add edge weights and node labels.\n",
    "g_politic_subreddits_2.es['weight'] = A[A.nonzero()]\n",
    "g_politic_subreddits_2.vs['label'] = politic_subreddits\n",
    "g_politic_subreddits_2.es['widht'] = A_perc[A_perc.nonzero()] *0.3\n",
    "\n",
    "#What this algorithm (fruchterman_reingold) do is printing the nodes which have less weight connection more distanciated\n",
    "layout = g_politic_subreddits_2.layout_fruchterman_reingold(weights = g_politic_subreddits_2.es['weight'])  \n",
    "plot(g_politic_subreddits_2, layout = layout, edge_width = g_politic_subreddits_2.es['widht'])"
   ]
  },
  {
   "cell_type": "code",
   "execution_count": 84,
   "metadata": {},
   "outputs": [
    {
     "data": {
      "text/plain": [
       "['EnoughTrumpSpam',\n",
       " 'SandersForPresident',\n",
       " 'The_Donald',\n",
       " 'conspiracy',\n",
       " 'politics',\n",
       " 'ukpolitics']"
      ]
     },
     "execution_count": 84,
     "metadata": {},
     "output_type": "execute_result"
    }
   ],
   "source": [
    "g_politic_subreddits.vs['label']"
   ]
  },
  {
   "cell_type": "code",
   "execution_count": null,
   "metadata": {},
   "outputs": [],
   "source": []
  },
  {
   "cell_type": "markdown",
   "metadata": {},
   "source": [
    "Next step is to try to classify the users ideology. Assuming that every of these subreddits have their own \"personality\" and ideology, we are going to determine which of them represents better the ideology of every user. For doing that we are going to see in which of the subreddits the user has more score (meaning this that the user opinion is well or bad accepted by the general opinion of the subreddit) and by the number of comments posted in each subreddit (it is normal to thing that people who usually post in an specific subreddit is close to the way of thinking of general people in this subreddit; else this user could be revealed by the score of his comments!) "
   ]
  },
  {
   "cell_type": "markdown",
   "metadata": {},
   "source": [
    "Let's obtain first a data frame with all the neccesary data. First we extract a list with all the users which have posted commments in some of these subreddits:"
   ]
  },
  {
   "cell_type": "code",
   "execution_count": 85,
   "metadata": {},
   "outputs": [
    {
     "data": {
      "text/plain": [
       "20859"
      ]
     },
     "execution_count": 85,
     "metadata": {},
     "output_type": "execute_result"
    }
   ],
   "source": [
    "df_total = df.set_index(\"subreddit\")\n",
    "df_politic_subreddits = df_total.loc[politic_subreddits]\n",
    "\n",
    "users_list = []\n",
    "for u in df_politic_subreddits[\"users\"]:\n",
    "    users_list = users_list + u\n",
    "    \n",
    "users_list = list(set(users_list)) #Drop duplicates\n",
    "len(users_list)"
   ]
  },
  {
   "cell_type": "markdown",
   "metadata": {},
   "source": [
    "So, we have to classify every user of this list. The idea is to for every user and for each political subreddit determine a value which means the grade of belonging to it; finally we classify the user according to the gratest value. If there is a tie we add this user to both(or more) kinds of user:\n",
    "\n",
    "\n",
    "Note: Every comment posted in a certain subreddit add +1 point for belonging to it. The score is just added (do not mater if it is positive or negative). With this way of classification we are giving more importance to the score (in case there are great values)."
   ]
  },
  {
   "cell_type": "code",
   "execution_count": 99,
   "metadata": {
    "scrolled": true
   },
   "outputs": [],
   "source": [
    "df_classifier = pd.DataFrame(index = politic_subreddits)\n",
    "df_classifier[\"Users_list\"] = [list() for x in range(len(df_classifier.index))]\n",
    "\n",
    "#We use the original data frame df_pd in order to get the score and the number of comments in each political subreddit!!\n",
    "df_classifying = df_pd.loc[df_pd[\"subreddit\"].isin(politic_subreddits)][[\"author\", \"score\", \"subreddit\"]]\n",
    "for u in users_list:\n",
    "    subreddit_values = np.zeros(len(politic_subreddits))\n",
    "    df_user_comments = df_classifying[df_classifying[\"author\"] == u]\n",
    "    for index, row in df_user_comments.iterrows():\n",
    "        value = 1\n",
    "        value = value + row.score\n",
    "        sreddit_index = politic_subreddits.index(row.subreddit)\n",
    "        subreddit_values[sreddit_index] = subreddit_values[sreddit_index] + value\n",
    "    greatest_value = subreddit_values.max()\n",
    "    for i in range(len(subreddit_values)):         #Neccesary in case there is a tie\n",
    "        if(greatest_value > 0 and subreddit_values[i] == greatest_value):\n",
    "            df_classifier[\"Users_list\"].loc[politic_subreddits[i]] = df_classifier[\"Users_list\"].loc[politic_subreddits[i]] + [u] \n",
    "    "
   ]
  },
  {
   "cell_type": "code",
   "execution_count": 100,
   "metadata": {},
   "outputs": [
    {
     "data": {
      "text/html": [
       "<div>\n",
       "<style scoped>\n",
       "    .dataframe tbody tr th:only-of-type {\n",
       "        vertical-align: middle;\n",
       "    }\n",
       "\n",
       "    .dataframe tbody tr th {\n",
       "        vertical-align: top;\n",
       "    }\n",
       "\n",
       "    .dataframe thead th {\n",
       "        text-align: right;\n",
       "    }\n",
       "</style>\n",
       "<table border=\"1\" class=\"dataframe\">\n",
       "  <thead>\n",
       "    <tr style=\"text-align: right;\">\n",
       "      <th></th>\n",
       "      <th>Users_list</th>\n",
       "      <th>Number_of_Users_Belonging</th>\n",
       "    </tr>\n",
       "  </thead>\n",
       "  <tbody>\n",
       "    <tr>\n",
       "      <th>EnoughTrumpSpam</th>\n",
       "      <td>[Lewon_S, Dr_Fuckenstein, rareas, theirmoss, C...</td>\n",
       "      <td>761</td>\n",
       "    </tr>\n",
       "    <tr>\n",
       "      <th>SandersForPresident</th>\n",
       "      <td>[Gadfly360, MrBrainstorm, Bac0nLegs, domnation...</td>\n",
       "      <td>788</td>\n",
       "    </tr>\n",
       "    <tr>\n",
       "      <th>The_Donald</th>\n",
       "      <td>[risquebiz, blade55555, PartyPenguin, bc81696,...</td>\n",
       "      <td>7182</td>\n",
       "    </tr>\n",
       "    <tr>\n",
       "      <th>conspiracy</th>\n",
       "      <td>[OnlyDopesQuoteSnopes, ZeePirate, bozobozo, WC...</td>\n",
       "      <td>1395</td>\n",
       "    </tr>\n",
       "    <tr>\n",
       "      <th>politics</th>\n",
       "      <td>[AutoModerator, combatwombat-, skeeter1234, fo...</td>\n",
       "      <td>9065</td>\n",
       "    </tr>\n",
       "    <tr>\n",
       "      <th>ukpolitics</th>\n",
       "      <td>[itz4mna, MangoMarr, Idontreallythinkso, Yotta...</td>\n",
       "      <td>632</td>\n",
       "    </tr>\n",
       "  </tbody>\n",
       "</table>\n",
       "</div>"
      ],
      "text/plain": [
       "                                                            Users_list  \\\n",
       "EnoughTrumpSpam      [Lewon_S, Dr_Fuckenstein, rareas, theirmoss, C...   \n",
       "SandersForPresident  [Gadfly360, MrBrainstorm, Bac0nLegs, domnation...   \n",
       "The_Donald           [risquebiz, blade55555, PartyPenguin, bc81696,...   \n",
       "conspiracy           [OnlyDopesQuoteSnopes, ZeePirate, bozobozo, WC...   \n",
       "politics             [AutoModerator, combatwombat-, skeeter1234, fo...   \n",
       "ukpolitics           [itz4mna, MangoMarr, Idontreallythinkso, Yotta...   \n",
       "\n",
       "                     Number_of_Users_Belonging  \n",
       "EnoughTrumpSpam                            761  \n",
       "SandersForPresident                        788  \n",
       "The_Donald                                7182  \n",
       "conspiracy                                1395  \n",
       "politics                                  9065  \n",
       "ukpolitics                                 632  "
      ]
     },
     "execution_count": 100,
     "metadata": {},
     "output_type": "execute_result"
    }
   ],
   "source": [
    "df_classifier[\"Number_of_Users_Belonging\"] = [len(i) for i in df_classifier[\"Users_list\"]]\n",
    "df_classifier"
   ]
  },
  {
   "cell_type": "markdown",
   "metadata": {},
   "source": [
    "With the classification done, it is time to do the last graph of this kind:\n",
    "\n",
    "First we need a new adjacency matrix, where the value in the position subreddit1-subreddit2 will mean the quantity of users who are from the subreddit1-ideology and who have posted in the subreddit2. (For compute this matrix we use the dataframe `df` obtained at the beginning of this section, which have the list of users who have posted in each subreddit):"
   ]
  },
  {
   "cell_type": "code",
   "execution_count": 133,
   "metadata": {},
   "outputs": [
    {
     "data": {
      "text/html": [
       "<div>\n",
       "<style scoped>\n",
       "    .dataframe tbody tr th:only-of-type {\n",
       "        vertical-align: middle;\n",
       "    }\n",
       "\n",
       "    .dataframe tbody tr th {\n",
       "        vertical-align: top;\n",
       "    }\n",
       "\n",
       "    .dataframe thead th {\n",
       "        text-align: right;\n",
       "    }\n",
       "</style>\n",
       "<table border=\"1\" class=\"dataframe\">\n",
       "  <thead>\n",
       "    <tr style=\"text-align: right;\">\n",
       "      <th></th>\n",
       "      <th>users</th>\n",
       "      <th>number_of_posts</th>\n",
       "    </tr>\n",
       "    <tr>\n",
       "      <th>subreddit</th>\n",
       "      <th></th>\n",
       "      <th></th>\n",
       "    </tr>\n",
       "  </thead>\n",
       "  <tbody>\n",
       "    <tr>\n",
       "      <th>2007scape</th>\n",
       "      <td>[Eth111, kurtpal, NoobsHateOnOtherGame, ballid...</td>\n",
       "      <td>3136</td>\n",
       "    </tr>\n",
       "    <tr>\n",
       "      <th>3dshacks</th>\n",
       "      <td>[sickneckbeardbro, Deviljho_Lover, schwing-, b...</td>\n",
       "      <td>1243</td>\n",
       "    </tr>\n",
       "  </tbody>\n",
       "</table>\n",
       "</div>"
      ],
      "text/plain": [
       "                                                       users  number_of_posts\n",
       "subreddit                                                                    \n",
       "2007scape  [Eth111, kurtpal, NoobsHateOnOtherGame, ballid...             3136\n",
       "3dshacks   [sickneckbeardbro, Deviljho_Lover, schwing-, b...             1243"
      ]
     },
     "execution_count": 133,
     "metadata": {},
     "output_type": "execute_result"
    }
   ],
   "source": [
    "df.set_index(\"subreddit\", inplace = True)\n",
    "df.head(2)"
   ]
  },
  {
   "cell_type": "code",
   "execution_count": 134,
   "metadata": {},
   "outputs": [],
   "source": [
    "df_pol_final = df_politics_adj.copy()\n",
    "for i in df_pol_final.index:\n",
    "    for j in df_pol_final.columns:\n",
    "        if i == j:\n",
    "            df_pol_final.loc[i][j]=0\n",
    "        else:\n",
    "            df_pol_final.loc[i][j] = len(list(set(df_classifier.loc[i][\"Users_list\"]) & set(df.loc[j][\"users\"])))"
   ]
  },
  {
   "cell_type": "code",
   "execution_count": 135,
   "metadata": {},
   "outputs": [
    {
     "data": {
      "text/html": [
       "<div>\n",
       "<style scoped>\n",
       "    .dataframe tbody tr th:only-of-type {\n",
       "        vertical-align: middle;\n",
       "    }\n",
       "\n",
       "    .dataframe tbody tr th {\n",
       "        vertical-align: top;\n",
       "    }\n",
       "\n",
       "    .dataframe thead th {\n",
       "        text-align: right;\n",
       "    }\n",
       "</style>\n",
       "<table border=\"1\" class=\"dataframe\">\n",
       "  <thead>\n",
       "    <tr style=\"text-align: right;\">\n",
       "      <th></th>\n",
       "      <th>EnoughTrumpSpam</th>\n",
       "      <th>SandersForPresident</th>\n",
       "      <th>The_Donald</th>\n",
       "      <th>conspiracy</th>\n",
       "      <th>politics</th>\n",
       "      <th>ukpolitics</th>\n",
       "    </tr>\n",
       "    <tr>\n",
       "      <th>subreddits</th>\n",
       "      <th></th>\n",
       "      <th></th>\n",
       "      <th></th>\n",
       "      <th></th>\n",
       "      <th></th>\n",
       "      <th></th>\n",
       "    </tr>\n",
       "  </thead>\n",
       "  <tbody>\n",
       "    <tr>\n",
       "      <th>EnoughTrumpSpam</th>\n",
       "      <td>0.0</td>\n",
       "      <td>12.0</td>\n",
       "      <td>3.0</td>\n",
       "      <td>6.0</td>\n",
       "      <td>79.0</td>\n",
       "      <td>1.0</td>\n",
       "    </tr>\n",
       "    <tr>\n",
       "      <th>SandersForPresident</th>\n",
       "      <td>13.0</td>\n",
       "      <td>0.0</td>\n",
       "      <td>14.0</td>\n",
       "      <td>8.0</td>\n",
       "      <td>90.0</td>\n",
       "      <td>1.0</td>\n",
       "    </tr>\n",
       "    <tr>\n",
       "      <th>The_Donald</th>\n",
       "      <td>22.0</td>\n",
       "      <td>36.0</td>\n",
       "      <td>0.0</td>\n",
       "      <td>77.0</td>\n",
       "      <td>370.0</td>\n",
       "      <td>8.0</td>\n",
       "    </tr>\n",
       "    <tr>\n",
       "      <th>conspiracy</th>\n",
       "      <td>3.0</td>\n",
       "      <td>13.0</td>\n",
       "      <td>44.0</td>\n",
       "      <td>0.0</td>\n",
       "      <td>59.0</td>\n",
       "      <td>0.0</td>\n",
       "    </tr>\n",
       "    <tr>\n",
       "      <th>politics</th>\n",
       "      <td>86.0</td>\n",
       "      <td>84.0</td>\n",
       "      <td>85.0</td>\n",
       "      <td>42.0</td>\n",
       "      <td>0.0</td>\n",
       "      <td>9.0</td>\n",
       "    </tr>\n",
       "    <tr>\n",
       "      <th>ukpolitics</th>\n",
       "      <td>2.0</td>\n",
       "      <td>2.0</td>\n",
       "      <td>4.0</td>\n",
       "      <td>1.0</td>\n",
       "      <td>8.0</td>\n",
       "      <td>0.0</td>\n",
       "    </tr>\n",
       "  </tbody>\n",
       "</table>\n",
       "</div>"
      ],
      "text/plain": [
       "                     EnoughTrumpSpam  SandersForPresident  The_Donald  \\\n",
       "subreddits                                                              \n",
       "EnoughTrumpSpam                  0.0                 12.0         3.0   \n",
       "SandersForPresident             13.0                  0.0        14.0   \n",
       "The_Donald                      22.0                 36.0         0.0   \n",
       "conspiracy                       3.0                 13.0        44.0   \n",
       "politics                        86.0                 84.0        85.0   \n",
       "ukpolitics                       2.0                  2.0         4.0   \n",
       "\n",
       "                     conspiracy  politics  ukpolitics  \n",
       "subreddits                                             \n",
       "EnoughTrumpSpam             6.0      79.0         1.0  \n",
       "SandersForPresident         8.0      90.0         1.0  \n",
       "The_Donald                 77.0     370.0         8.0  \n",
       "conspiracy                  0.0      59.0         0.0  \n",
       "politics                   42.0       0.0         9.0  \n",
       "ukpolitics                  1.0       8.0         0.0  "
      ]
     },
     "execution_count": 135,
     "metadata": {},
     "output_type": "execute_result"
    }
   ],
   "source": [
    "df_pol_final"
   ]
  },
  {
   "cell_type": "code",
   "execution_count": 136,
   "metadata": {},
   "outputs": [],
   "source": [
    "df_politics_adj_classified = df_pol_final\n",
    "for i in df_politics_adj_classified.index:\n",
    "    total_users = df_classifier.loc[i][\"Number_of_Users_Belonging\"]\n",
    "    df_politics_adj_classified.loc[i] = df_politics_adj_classified.loc[i] / total_users * 100"
   ]
  },
  {
   "cell_type": "code",
   "execution_count": 137,
   "metadata": {},
   "outputs": [
    {
     "data": {
      "text/html": [
       "<div>\n",
       "<style scoped>\n",
       "    .dataframe tbody tr th:only-of-type {\n",
       "        vertical-align: middle;\n",
       "    }\n",
       "\n",
       "    .dataframe tbody tr th {\n",
       "        vertical-align: top;\n",
       "    }\n",
       "\n",
       "    .dataframe thead th {\n",
       "        text-align: right;\n",
       "    }\n",
       "</style>\n",
       "<table border=\"1\" class=\"dataframe\">\n",
       "  <thead>\n",
       "    <tr style=\"text-align: right;\">\n",
       "      <th></th>\n",
       "      <th>EnoughTrumpSpam</th>\n",
       "      <th>SandersForPresident</th>\n",
       "      <th>The_Donald</th>\n",
       "      <th>conspiracy</th>\n",
       "      <th>politics</th>\n",
       "      <th>ukpolitics</th>\n",
       "    </tr>\n",
       "    <tr>\n",
       "      <th>subreddits</th>\n",
       "      <th></th>\n",
       "      <th></th>\n",
       "      <th></th>\n",
       "      <th></th>\n",
       "      <th></th>\n",
       "      <th></th>\n",
       "    </tr>\n",
       "  </thead>\n",
       "  <tbody>\n",
       "    <tr>\n",
       "      <th>EnoughTrumpSpam</th>\n",
       "      <td>0.000000</td>\n",
       "      <td>1.576873</td>\n",
       "      <td>0.394218</td>\n",
       "      <td>0.788436</td>\n",
       "      <td>10.381078</td>\n",
       "      <td>0.131406</td>\n",
       "    </tr>\n",
       "    <tr>\n",
       "      <th>SandersForPresident</th>\n",
       "      <td>1.649746</td>\n",
       "      <td>0.000000</td>\n",
       "      <td>1.776650</td>\n",
       "      <td>1.015228</td>\n",
       "      <td>11.421320</td>\n",
       "      <td>0.126904</td>\n",
       "    </tr>\n",
       "    <tr>\n",
       "      <th>The_Donald</th>\n",
       "      <td>0.306321</td>\n",
       "      <td>0.501253</td>\n",
       "      <td>0.000000</td>\n",
       "      <td>1.072125</td>\n",
       "      <td>5.151768</td>\n",
       "      <td>0.111390</td>\n",
       "    </tr>\n",
       "    <tr>\n",
       "      <th>conspiracy</th>\n",
       "      <td>0.215054</td>\n",
       "      <td>0.931900</td>\n",
       "      <td>3.154122</td>\n",
       "      <td>0.000000</td>\n",
       "      <td>4.229391</td>\n",
       "      <td>0.000000</td>\n",
       "    </tr>\n",
       "    <tr>\n",
       "      <th>politics</th>\n",
       "      <td>0.948704</td>\n",
       "      <td>0.926641</td>\n",
       "      <td>0.937672</td>\n",
       "      <td>0.463320</td>\n",
       "      <td>0.000000</td>\n",
       "      <td>0.099283</td>\n",
       "    </tr>\n",
       "    <tr>\n",
       "      <th>ukpolitics</th>\n",
       "      <td>0.316456</td>\n",
       "      <td>0.316456</td>\n",
       "      <td>0.632911</td>\n",
       "      <td>0.158228</td>\n",
       "      <td>1.265823</td>\n",
       "      <td>0.000000</td>\n",
       "    </tr>\n",
       "  </tbody>\n",
       "</table>\n",
       "</div>"
      ],
      "text/plain": [
       "                     EnoughTrumpSpam  SandersForPresident  The_Donald  \\\n",
       "subreddits                                                              \n",
       "EnoughTrumpSpam             0.000000             1.576873    0.394218   \n",
       "SandersForPresident         1.649746             0.000000    1.776650   \n",
       "The_Donald                  0.306321             0.501253    0.000000   \n",
       "conspiracy                  0.215054             0.931900    3.154122   \n",
       "politics                    0.948704             0.926641    0.937672   \n",
       "ukpolitics                  0.316456             0.316456    0.632911   \n",
       "\n",
       "                     conspiracy   politics  ukpolitics  \n",
       "subreddits                                              \n",
       "EnoughTrumpSpam        0.788436  10.381078    0.131406  \n",
       "SandersForPresident    1.015228  11.421320    0.126904  \n",
       "The_Donald             1.072125   5.151768    0.111390  \n",
       "conspiracy             0.000000   4.229391    0.000000  \n",
       "politics               0.463320   0.000000    0.099283  \n",
       "ukpolitics             0.158228   1.265823    0.000000  "
      ]
     },
     "execution_count": 137,
     "metadata": {},
     "output_type": "execute_result"
    }
   ],
   "source": [
    "df_politics_adj_classified"
   ]
  },
  {
   "cell_type": "code",
   "execution_count": 139,
   "metadata": {},
   "outputs": [
    {
     "data": {
      "image/svg+xml": [
       "<?xml version=\"1.0\" encoding=\"UTF-8\"?>\n",
       "<svg xmlns=\"http://www.w3.org/2000/svg\" xmlns:xlink=\"http://www.w3.org/1999/xlink\" width=\"600pt\" height=\"600pt\" viewBox=\"0 0 600 600\" version=\"1.1\">\n",
       "<defs>\n",
       "<g>\n",
       "<symbol overflow=\"visible\" id=\"glyph0-0\">\n",
       "<path style=\"stroke:none;\" d=\"M 1.75 0 L 1.75 -8.75 L 8.75 -8.75 L 8.75 0 Z M 1.96875 -0.21875 L 8.53125 -0.21875 L 8.53125 -8.53125 L 1.96875 -8.53125 Z M 1.96875 -0.21875 \"/>\n",
       "</symbol>\n",
       "<symbol overflow=\"visible\" id=\"glyph0-1\">\n",
       "<path style=\"stroke:none;\" d=\"M 1.109375 0 L 1.109375 -10.023438 L 8.351563 -10.023438 L 8.351563 -8.839844 L 2.433594 -8.839844 L 2.433594 -5.769531 L 7.976563 -5.769531 L 7.976563 -4.59375 L 2.433594 -4.59375 L 2.433594 -1.183594 L 8.585938 -1.183594 L 8.585938 0 Z M 1.109375 0 \"/>\n",
       "</symbol>\n",
       "<symbol overflow=\"visible\" id=\"glyph0-2\">\n",
       "<path style=\"stroke:none;\" d=\"M 0.921875 0 L 0.921875 -7.257813 L 2.03125 -7.257813 L 2.03125 -6.226563 C 2.558594 -7.019531 3.328125 -7.417969 4.339844 -7.421875 C 4.773438 -7.417969 5.175781 -7.339844 5.546875 -7.1875 C 5.910156 -7.027344 6.183594 -6.820313 6.371094 -6.570313 C 6.550781 -6.3125 6.679688 -6.011719 6.753906 -5.660156 C 6.796875 -5.433594 6.820313 -5.035156 6.820313 -4.464844 L 6.820313 0 L 5.59375 0 L 5.59375 -4.414063 C 5.589844 -4.914063 5.542969 -5.289063 5.449219 -5.539063 C 5.351563 -5.785156 5.179688 -5.984375 4.9375 -6.136719 C 4.691406 -6.28125 4.40625 -6.355469 4.082031 -6.359375 C 3.554688 -6.355469 3.101563 -6.191406 2.722656 -5.859375 C 2.339844 -5.523438 2.148438 -4.890625 2.152344 -3.964844 L 2.152344 0 Z M 0.921875 0 \"/>\n",
       "</symbol>\n",
       "<symbol overflow=\"visible\" id=\"glyph0-3\">\n",
       "<path style=\"stroke:none;\" d=\"M 0.464844 -3.628906 C 0.460938 -4.972656 0.835938 -5.96875 1.585938 -6.617188 C 2.207031 -7.148438 2.96875 -7.417969 3.867188 -7.421875 C 4.867188 -7.417969 5.683594 -7.089844 6.316406 -6.441406 C 6.949219 -5.785156 7.265625 -4.882813 7.265625 -3.734375 C 7.265625 -2.796875 7.125 -2.0625 6.84375 -1.527344 C 6.5625 -0.992188 6.152344 -0.578125 5.621094 -0.28125 C 5.082031 0.015625 4.5 0.164063 3.867188 0.164063 C 2.851563 0.164063 2.027344 -0.160156 1.402344 -0.8125 C 0.773438 -1.460938 0.460938 -2.398438 0.464844 -3.628906 Z M 1.730469 -3.628906 C 1.726563 -2.695313 1.929688 -2 2.335938 -1.539063 C 2.738281 -1.074219 3.25 -0.84375 3.867188 -0.847656 C 4.476563 -0.84375 4.984375 -1.074219 5.390625 -1.542969 C 5.796875 -2.003906 6 -2.714844 6 -3.671875 C 6 -4.566406 5.792969 -5.246094 5.386719 -5.710938 C 4.976563 -6.171875 4.472656 -6.402344 3.867188 -6.40625 C 3.25 -6.402344 2.738281 -6.171875 2.335938 -5.714844 C 1.929688 -5.25 1.726563 -4.554688 1.730469 -3.628906 Z M 1.730469 -3.628906 \"/>\n",
       "</symbol>\n",
       "<symbol overflow=\"visible\" id=\"glyph0-4\">\n",
       "<path style=\"stroke:none;\" d=\"M 5.679688 0 L 5.679688 -1.066406 C 5.109375 -0.246094 4.34375 0.164063 3.375 0.164063 C 2.945313 0.164063 2.542969 0.0820313 2.175781 -0.0820313 C 1.800781 -0.246094 1.527344 -0.449219 1.347656 -0.699219 C 1.167969 -0.945313 1.039063 -1.25 0.96875 -1.613281 C 0.914063 -1.851563 0.890625 -2.234375 0.894531 -2.761719 L 0.894531 -7.257813 L 2.125 -7.257813 L 2.125 -3.234375 C 2.121094 -2.589844 2.148438 -2.15625 2.203125 -1.933594 C 2.277344 -1.609375 2.4375 -1.355469 2.691406 -1.171875 C 2.941406 -0.984375 3.253906 -0.890625 3.625 -0.894531 C 3.988281 -0.890625 4.332031 -0.984375 4.660156 -1.175781 C 4.980469 -1.363281 5.210938 -1.621094 5.347656 -1.949219 C 5.480469 -2.273438 5.546875 -2.746094 5.550781 -3.371094 L 5.550781 -7.257813 L 6.78125 -7.257813 L 6.78125 0 Z M 5.679688 0 \"/>\n",
       "</symbol>\n",
       "<symbol overflow=\"visible\" id=\"glyph0-5\">\n",
       "<path style=\"stroke:none;\" d=\"M 0.695313 0.601563 L 1.894531 0.78125 C 1.941406 1.144531 2.082031 1.414063 2.3125 1.585938 C 2.613281 1.8125 3.03125 1.925781 3.5625 1.929688 C 4.128906 1.925781 4.566406 1.8125 4.878906 1.585938 C 5.1875 1.355469 5.398438 1.035156 5.507813 0.628906 C 5.570313 0.375 5.597656 -0.148438 5.597656 -0.949219 C 5.058594 -0.316406 4.390625 0 3.589844 0 C 2.589844 0 1.816406 -0.359375 1.273438 -1.078125 C 0.722656 -1.796875 0.449219 -2.660156 0.453125 -3.671875 C 0.449219 -4.363281 0.574219 -5.003906 0.828125 -5.589844 C 1.074219 -6.175781 1.4375 -6.625 1.917969 -6.945313 C 2.390625 -7.257813 2.949219 -7.417969 3.59375 -7.421875 C 4.449219 -7.417969 5.15625 -7.070313 5.714844 -6.382813 L 5.714844 -7.257813 L 6.851563 -7.257813 L 6.851563 -0.984375 C 6.847656 0.144531 6.734375 0.945313 6.503906 1.417969 C 6.273438 1.886719 5.90625 2.257813 5.410156 2.535156 C 4.910156 2.804688 4.296875 2.941406 3.570313 2.945313 C 2.699219 2.941406 2 2.746094 1.46875 2.359375 C 0.933594 1.96875 0.675781 1.382813 0.695313 0.601563 Z M 1.714844 -3.757813 C 1.710938 -2.804688 1.898438 -2.113281 2.28125 -1.675781 C 2.65625 -1.238281 3.132813 -1.019531 3.703125 -1.019531 C 4.269531 -1.019531 4.742188 -1.234375 5.128906 -1.671875 C 5.507813 -2.101563 5.699219 -2.785156 5.703125 -3.71875 C 5.699219 -4.605469 5.503906 -5.273438 5.109375 -5.726563 C 4.714844 -6.175781 4.238281 -6.402344 3.683594 -6.40625 C 3.132813 -6.402344 2.667969 -6.179688 2.289063 -5.738281 C 1.902344 -5.289063 1.710938 -4.628906 1.714844 -3.757813 Z M 1.714844 -3.757813 \"/>\n",
       "</symbol>\n",
       "<symbol overflow=\"visible\" id=\"glyph0-6\">\n",
       "<path style=\"stroke:none;\" d=\"M 0.921875 0 L 0.921875 -10.023438 L 2.152344 -10.023438 L 2.152344 -6.425781 C 2.722656 -7.085938 3.449219 -7.417969 4.328125 -7.421875 C 4.863281 -7.417969 5.328125 -7.3125 5.726563 -7.105469 C 6.121094 -6.890625 6.40625 -6.597656 6.578125 -6.226563 C 6.746094 -5.851563 6.832031 -5.308594 6.835938 -4.601563 L 6.835938 0 L 5.605469 0 L 5.605469 -4.601563 C 5.601563 -5.210938 5.46875 -5.660156 5.203125 -5.941406 C 4.9375 -6.222656 4.558594 -6.363281 4.074219 -6.363281 C 3.707031 -6.363281 3.363281 -6.265625 3.042969 -6.078125 C 2.71875 -5.886719 2.492188 -5.632813 2.355469 -5.3125 C 2.21875 -4.988281 2.148438 -4.542969 2.152344 -3.972656 L 2.152344 0 Z M 0.921875 0 \"/>\n",
       "</symbol>\n",
       "<symbol overflow=\"visible\" id=\"glyph0-7\">\n",
       "<path style=\"stroke:none;\" d=\"M 3.628906 0 L 3.628906 -8.839844 L 0.328125 -8.839844 L 0.328125 -10.023438 L 8.273438 -10.023438 L 8.273438 -8.839844 L 4.957031 -8.839844 L 4.957031 0 Z M 3.628906 0 \"/>\n",
       "</symbol>\n",
       "<symbol overflow=\"visible\" id=\"glyph0-8\">\n",
       "<path style=\"stroke:none;\" d=\"M 0.910156 0 L 0.910156 -7.257813 L 2.015625 -7.257813 L 2.015625 -6.160156 C 2.296875 -6.667969 2.554688 -7.007813 2.796875 -7.175781 C 3.03125 -7.335938 3.296875 -7.417969 3.589844 -7.421875 C 4 -7.417969 4.421875 -7.285156 4.851563 -7.027344 L 4.429688 -5.886719 C 4.125 -6.0625 3.824219 -6.152344 3.527344 -6.152344 C 3.257813 -6.152344 3.015625 -6.070313 2.800781 -5.910156 C 2.585938 -5.746094 2.433594 -5.519531 2.34375 -5.234375 C 2.207031 -4.792969 2.136719 -4.316406 2.140625 -3.800781 L 2.140625 0 Z M 0.910156 0 \"/>\n",
       "</symbol>\n",
       "<symbol overflow=\"visible\" id=\"glyph0-9\">\n",
       "<path style=\"stroke:none;\" d=\"M 0.921875 0 L 0.921875 -7.257813 L 2.023438 -7.257813 L 2.023438 -6.242188 C 2.25 -6.59375 2.554688 -6.878906 2.933594 -7.097656 C 3.308594 -7.308594 3.738281 -7.417969 4.226563 -7.421875 C 4.757813 -7.417969 5.199219 -7.304688 5.546875 -7.085938 C 5.886719 -6.859375 6.128906 -6.550781 6.273438 -6.152344 C 6.847656 -6.996094 7.59375 -7.417969 8.515625 -7.421875 C 9.234375 -7.417969 9.789063 -7.21875 10.175781 -6.824219 C 10.5625 -6.421875 10.757813 -5.808594 10.757813 -4.984375 L 10.757813 0 L 9.535156 0 L 9.535156 -4.574219 C 9.53125 -5.0625 9.492188 -5.417969 9.414063 -5.636719 C 9.332031 -5.851563 9.1875 -6.023438 8.980469 -6.160156 C 8.769531 -6.289063 8.523438 -6.355469 8.242188 -6.359375 C 7.730469 -6.355469 7.308594 -6.1875 6.972656 -5.847656 C 6.636719 -5.507813 6.46875 -4.964844 6.46875 -4.21875 L 6.46875 0 L 5.234375 0 L 5.234375 -4.71875 C 5.230469 -5.261719 5.132813 -5.671875 4.933594 -5.949219 C 4.730469 -6.21875 4.402344 -6.355469 3.953125 -6.359375 C 3.601563 -6.355469 3.28125 -6.265625 2.988281 -6.085938 C 2.695313 -5.902344 2.480469 -5.636719 2.351563 -5.285156 C 2.214844 -4.933594 2.148438 -4.425781 2.152344 -3.765625 L 2.152344 0 Z M 0.921875 0 \"/>\n",
       "</symbol>\n",
       "<symbol overflow=\"visible\" id=\"glyph0-10\">\n",
       "<path style=\"stroke:none;\" d=\"M 0.921875 2.78125 L 0.921875 -7.257813 L 2.042969 -7.257813 L 2.042969 -6.316406 C 2.304688 -6.683594 2.601563 -6.957031 2.9375 -7.144531 C 3.265625 -7.324219 3.671875 -7.417969 4.148438 -7.421875 C 4.765625 -7.417969 5.3125 -7.257813 5.789063 -6.945313 C 6.261719 -6.625 6.617188 -6.175781 6.863281 -5.59375 C 7.101563 -5.011719 7.222656 -4.375 7.226563 -3.683594 C 7.222656 -2.9375 7.089844 -2.269531 6.824219 -1.675781 C 6.554688 -1.082031 6.167969 -0.625 5.664063 -0.308594 C 5.152344 0.0078125 4.617188 0.164063 4.0625 0.164063 C 3.648438 0.164063 3.28125 0.078125 2.957031 -0.09375 C 2.628906 -0.265625 2.359375 -0.484375 2.152344 -0.75 L 2.152344 2.78125 Z M 2.039063 -3.589844 C 2.039063 -2.652344 2.226563 -1.960938 2.605469 -1.515625 C 2.980469 -1.066406 3.4375 -0.84375 3.976563 -0.847656 C 4.519531 -0.84375 4.988281 -1.074219 5.382813 -1.539063 C 5.769531 -2 5.964844 -2.71875 5.96875 -3.691406 C 5.964844 -4.613281 5.773438 -5.304688 5.398438 -5.769531 C 5.015625 -6.226563 4.5625 -6.457031 4.03125 -6.460938 C 3.507813 -6.457031 3.042969 -6.210938 2.640625 -5.726563 C 2.238281 -5.234375 2.039063 -4.523438 2.039063 -3.589844 Z M 2.039063 -3.589844 \"/>\n",
       "</symbol>\n",
       "<symbol overflow=\"visible\" id=\"glyph0-11\">\n",
       "<path style=\"stroke:none;\" d=\"M 0.628906 -3.21875 L 1.878906 -3.328125 C 1.9375 -2.828125 2.074219 -2.414063 2.292969 -2.09375 C 2.503906 -1.769531 2.839844 -1.511719 3.300781 -1.316406 C 3.753906 -1.117188 4.269531 -1.019531 4.839844 -1.019531 C 5.34375 -1.019531 5.789063 -1.09375 6.179688 -1.242188 C 6.566406 -1.390625 6.855469 -1.597656 7.042969 -1.863281 C 7.230469 -2.125 7.324219 -2.410156 7.328125 -2.71875 C 7.324219 -3.03125 7.234375 -3.304688 7.054688 -3.542969 C 6.871094 -3.777344 6.570313 -3.976563 6.152344 -4.136719 C 5.882813 -4.238281 5.285156 -4.398438 4.367188 -4.625 C 3.445313 -4.84375 2.800781 -5.054688 2.433594 -5.25 C 1.949219 -5.5 1.59375 -5.808594 1.363281 -6.183594 C 1.125 -6.550781 1.007813 -6.96875 1.011719 -7.429688 C 1.007813 -7.933594 1.152344 -8.40625 1.441406 -8.847656 C 1.730469 -9.285156 2.148438 -9.617188 2.699219 -9.847656 C 3.25 -10.074219 3.863281 -10.1875 4.539063 -10.191406 C 5.277344 -10.1875 5.933594 -10.070313 6.503906 -9.832031 C 7.070313 -9.59375 7.503906 -9.242188 7.8125 -8.777344 C 8.117188 -8.308594 8.28125 -7.78125 8.304688 -7.199219 L 7.035156 -7.101563 C 6.960938 -7.734375 6.730469 -8.210938 6.339844 -8.539063 C 5.945313 -8.859375 5.363281 -9.023438 4.59375 -9.023438 C 3.789063 -9.023438 3.203125 -8.875 2.839844 -8.582031 C 2.46875 -8.285156 2.285156 -7.929688 2.289063 -7.519531 C 2.285156 -7.15625 2.414063 -6.863281 2.679688 -6.632813 C 2.929688 -6.398438 3.597656 -6.15625 4.679688 -5.914063 C 5.753906 -5.667969 6.492188 -5.457031 6.898438 -5.277344 C 7.476563 -5.007813 7.90625 -4.667969 8.1875 -4.253906 C 8.460938 -3.839844 8.601563 -3.363281 8.605469 -2.828125 C 8.601563 -2.292969 8.449219 -1.792969 8.148438 -1.324219 C 7.839844 -0.851563 7.402344 -0.484375 6.832031 -0.222656 C 6.261719 0.0390625 5.617188 0.167969 4.902344 0.171875 C 3.992188 0.167969 3.230469 0.0390625 2.621094 -0.222656 C 2.003906 -0.488281 1.523438 -0.886719 1.179688 -1.417969 C 0.828125 -1.949219 0.644531 -2.546875 0.628906 -3.21875 Z M 0.628906 -3.21875 \"/>\n",
       "</symbol>\n",
       "<symbol overflow=\"visible\" id=\"glyph0-12\">\n",
       "<path style=\"stroke:none;\" d=\"M 5.660156 -0.894531 C 5.203125 -0.503906 4.761719 -0.230469 4.34375 -0.0742188 C 3.917969 0.0859375 3.46875 0.164063 2.988281 0.164063 C 2.1875 0.164063 1.574219 -0.0273438 1.148438 -0.417969 C 0.71875 -0.804688 0.503906 -1.304688 0.507813 -1.914063 C 0.503906 -2.265625 0.585938 -2.589844 0.75 -2.886719 C 0.910156 -3.179688 1.121094 -3.414063 1.382813 -3.59375 C 1.644531 -3.769531 1.9375 -3.90625 2.269531 -4 C 2.507813 -4.058594 2.875 -4.121094 3.363281 -4.183594 C 4.355469 -4.300781 5.085938 -4.441406 5.558594 -4.609375 C 5.558594 -4.773438 5.558594 -4.878906 5.5625 -4.929688 C 5.558594 -5.425781 5.445313 -5.78125 5.214844 -5.988281 C 4.898438 -6.265625 4.429688 -6.402344 3.8125 -6.40625 C 3.230469 -6.402344 2.804688 -6.300781 2.53125 -6.101563 C 2.253906 -5.894531 2.050781 -5.535156 1.921875 -5.023438 L 0.71875 -5.1875 C 0.824219 -5.699219 1.003906 -6.117188 1.257813 -6.433594 C 1.503906 -6.75 1.867188 -6.992188 2.34375 -7.164063 C 2.816406 -7.332031 3.363281 -7.417969 3.992188 -7.421875 C 4.609375 -7.417969 5.113281 -7.34375 5.503906 -7.203125 C 5.886719 -7.054688 6.171875 -6.871094 6.359375 -6.652344 C 6.539063 -6.429688 6.667969 -6.152344 6.742188 -5.816406 C 6.777344 -5.605469 6.796875 -5.226563 6.800781 -4.683594 L 6.800781 -3.042969 C 6.796875 -1.894531 6.824219 -1.171875 6.878906 -0.871094 C 6.933594 -0.566406 7.035156 -0.277344 7.191406 0 L 5.90625 0 C 5.777344 -0.253906 5.695313 -0.550781 5.660156 -0.894531 Z M 5.558594 -3.644531 C 5.109375 -3.460938 4.4375 -3.304688 3.546875 -3.179688 C 3.039063 -3.105469 2.683594 -3.023438 2.472656 -2.933594 C 2.261719 -2.839844 2.097656 -2.707031 1.988281 -2.53125 C 1.871094 -2.355469 1.816406 -2.160156 1.820313 -1.949219 C 1.816406 -1.617188 1.941406 -1.34375 2.191406 -1.128906 C 2.4375 -0.90625 2.800781 -0.796875 3.28125 -0.800781 C 3.753906 -0.796875 4.175781 -0.898438 4.546875 -1.109375 C 4.914063 -1.3125 5.183594 -1.597656 5.359375 -1.960938 C 5.488281 -2.238281 5.554688 -2.648438 5.558594 -3.191406 Z M 5.558594 -3.644531 \"/>\n",
       "</symbol>\n",
       "<symbol overflow=\"visible\" id=\"glyph0-13\">\n",
       "<path style=\"stroke:none;\" d=\"M 5.632813 0 L 5.632813 -0.914063 C 5.167969 -0.195313 4.492188 0.164063 3.601563 0.164063 C 3.019531 0.164063 2.488281 0.0078125 2.003906 -0.3125 C 1.519531 -0.628906 1.140625 -1.074219 0.875 -1.648438 C 0.605469 -2.21875 0.472656 -2.878906 0.476563 -3.625 C 0.472656 -4.347656 0.59375 -5.003906 0.839844 -5.59375 C 1.078125 -6.183594 1.441406 -6.636719 1.925781 -6.949219 C 2.40625 -7.261719 2.945313 -7.417969 3.546875 -7.421875 C 3.980469 -7.417969 4.371094 -7.324219 4.714844 -7.144531 C 5.054688 -6.957031 5.332031 -6.71875 5.550781 -6.425781 L 5.550781 -10.023438 L 6.773438 -10.023438 L 6.773438 0 Z M 1.742188 -3.625 C 1.738281 -2.691406 1.933594 -1.996094 2.328125 -1.535156 C 2.71875 -1.074219 3.183594 -0.84375 3.71875 -0.847656 C 4.253906 -0.84375 4.710938 -1.0625 5.085938 -1.507813 C 5.460938 -1.945313 5.648438 -2.617188 5.652344 -3.519531 C 5.648438 -4.511719 5.457031 -5.242188 5.078125 -5.707031 C 4.691406 -6.171875 4.21875 -6.402344 3.664063 -6.40625 C 3.113281 -6.402344 2.65625 -6.179688 2.292969 -5.734375 C 1.921875 -5.285156 1.738281 -4.582031 1.742188 -3.625 Z M 1.742188 -3.625 \"/>\n",
       "</symbol>\n",
       "<symbol overflow=\"visible\" id=\"glyph0-14\">\n",
       "<path style=\"stroke:none;\" d=\"M 5.890625 -2.335938 L 7.164063 -2.179688 C 6.960938 -1.4375 6.589844 -0.859375 6.046875 -0.449219 C 5.503906 -0.0390625 4.8125 0.164063 3.972656 0.164063 C 2.910156 0.164063 2.066406 -0.160156 1.445313 -0.816406 C 0.820313 -1.464844 0.507813 -2.382813 0.511719 -3.570313 C 0.507813 -4.785156 0.824219 -5.734375 1.453125 -6.410156 C 2.082031 -7.082031 2.898438 -7.417969 3.902344 -7.421875 C 4.871094 -7.417969 5.664063 -7.085938 6.28125 -6.429688 C 6.894531 -5.765625 7.199219 -4.839844 7.203125 -3.644531 C 7.199219 -3.570313 7.199219 -3.460938 7.199219 -3.316406 L 1.785156 -3.316406 C 1.828125 -2.515625 2.054688 -1.902344 2.460938 -1.480469 C 2.867188 -1.054688 3.371094 -0.84375 3.976563 -0.847656 C 4.425781 -0.84375 4.8125 -0.960938 5.132813 -1.203125 C 5.453125 -1.4375 5.703125 -1.816406 5.890625 -2.335938 Z M 1.851563 -4.328125 L 5.90625 -4.328125 C 5.851563 -4.933594 5.695313 -5.390625 5.441406 -5.703125 C 5.046875 -6.171875 4.539063 -6.410156 3.917969 -6.414063 C 3.351563 -6.410156 2.875 -6.21875 2.492188 -5.84375 C 2.101563 -5.460938 1.890625 -4.957031 1.851563 -4.328125 Z M 1.851563 -4.328125 \"/>\n",
       "</symbol>\n",
       "<symbol overflow=\"visible\" id=\"glyph0-15\">\n",
       "<path style=\"stroke:none;\" d=\"M 0.429688 -2.167969 L 1.648438 -2.359375 C 1.710938 -1.867188 1.902344 -1.492188 2.21875 -1.234375 C 2.527344 -0.972656 2.964844 -0.84375 3.527344 -0.847656 C 4.089844 -0.84375 4.507813 -0.957031 4.785156 -1.191406 C 5.054688 -1.417969 5.191406 -1.691406 5.195313 -2.003906 C 5.191406 -2.28125 5.070313 -2.5 4.832031 -2.660156 C 4.660156 -2.769531 4.242188 -2.90625 3.574219 -3.078125 C 2.671875 -3.300781 2.046875 -3.5 1.699219 -3.667969 C 1.347656 -3.832031 1.082031 -4.058594 0.90625 -4.355469 C 0.722656 -4.644531 0.632813 -4.972656 0.636719 -5.332031 C 0.632813 -5.652344 0.707031 -5.949219 0.855469 -6.230469 C 1.003906 -6.503906 1.203125 -6.734375 1.460938 -6.917969 C 1.648438 -7.054688 1.910156 -7.171875 2.246094 -7.273438 C 2.574219 -7.367188 2.929688 -7.417969 3.308594 -7.421875 C 3.875 -7.417969 4.375 -7.335938 4.808594 -7.175781 C 5.234375 -7.007813 5.550781 -6.785156 5.761719 -6.507813 C 5.964844 -6.226563 6.109375 -5.851563 6.1875 -5.386719 L 4.984375 -5.222656 C 4.925781 -5.589844 4.765625 -5.882813 4.507813 -6.097656 C 4.242188 -6.304688 3.875 -6.410156 3.398438 -6.414063 C 2.832031 -6.410156 2.425781 -6.316406 2.1875 -6.132813 C 1.941406 -5.941406 1.820313 -5.722656 1.824219 -5.476563 C 1.820313 -5.3125 1.871094 -5.167969 1.976563 -5.046875 C 2.070313 -4.910156 2.226563 -4.800781 2.445313 -4.71875 C 2.566406 -4.667969 2.929688 -4.5625 3.535156 -4.402344 C 4.402344 -4.167969 5.011719 -3.980469 5.355469 -3.832031 C 5.699219 -3.683594 5.96875 -3.464844 6.164063 -3.183594 C 6.359375 -2.898438 6.457031 -2.550781 6.460938 -2.132813 C 6.457031 -1.71875 6.335938 -1.332031 6.101563 -0.972656 C 5.859375 -0.609375 5.515625 -0.328125 5.066406 -0.132813 C 4.613281 0.0664063 4.101563 0.164063 3.535156 0.164063 C 2.585938 0.164063 1.867188 -0.03125 1.375 -0.421875 C 0.878906 -0.8125 0.5625 -1.394531 0.429688 -2.167969 Z M 0.429688 -2.167969 \"/>\n",
       "</symbol>\n",
       "<symbol overflow=\"visible\" id=\"glyph0-16\">\n",
       "<path style=\"stroke:none;\" d=\"M 1.148438 0 L 1.148438 -10.023438 L 7.910156 -10.023438 L 7.910156 -8.839844 L 2.476563 -8.839844 L 2.476563 -5.734375 L 7.179688 -5.734375 L 7.179688 -4.554688 L 2.476563 -4.554688 L 2.476563 0 Z M 1.148438 0 \"/>\n",
       "</symbol>\n",
       "<symbol overflow=\"visible\" id=\"glyph0-17\">\n",
       "<path style=\"stroke:none;\" d=\"M 1.078125 0 L 1.078125 -10.023438 L 4.859375 -10.023438 C 5.523438 -10.019531 6.03125 -9.988281 6.382813 -9.925781 C 6.875 -9.84375 7.289063 -9.6875 7.621094 -9.457031 C 7.953125 -9.226563 8.222656 -8.902344 8.425781 -8.488281 C 8.628906 -8.070313 8.730469 -7.617188 8.730469 -7.125 C 8.730469 -6.269531 8.457031 -5.546875 7.914063 -4.957031 C 7.371094 -4.367188 6.390625 -4.070313 4.976563 -4.074219 L 2.40625 -4.074219 L 2.40625 0 Z M 2.40625 -5.257813 L 4.996094 -5.257813 C 5.851563 -5.253906 6.460938 -5.414063 6.820313 -5.734375 C 7.179688 -6.050781 7.359375 -6.5 7.363281 -7.082031 C 7.359375 -7.5 7.253906 -7.859375 7.042969 -8.15625 C 6.832031 -8.453125 6.550781 -8.648438 6.207031 -8.75 C 5.980469 -8.804688 5.570313 -8.835938 4.96875 -8.839844 L 2.40625 -8.839844 Z M 2.40625 -5.257813 \"/>\n",
       "</symbol>\n",
       "<symbol overflow=\"visible\" id=\"glyph0-18\">\n",
       "<path style=\"stroke:none;\" d=\"M 0.929688 -8.605469 L 0.929688 -10.023438 L 2.160156 -10.023438 L 2.160156 -8.605469 Z M 0.929688 0 L 0.929688 -7.257813 L 2.160156 -7.257813 L 2.160156 0 Z M 0.929688 0 \"/>\n",
       "</symbol>\n",
       "<symbol overflow=\"visible\" id=\"glyph0-19\">\n",
       "<path style=\"stroke:none;\" d=\"M 3.609375 -1.101563 L 3.789063 -0.015625 C 3.4375 0.0585938 3.128906 0.09375 2.859375 0.09375 C 2.410156 0.09375 2.0625 0.0234375 1.816406 -0.117188 C 1.570313 -0.257813 1.394531 -0.441406 1.296875 -0.671875 C 1.195313 -0.902344 1.148438 -1.386719 1.148438 -2.125 L 1.148438 -6.304688 L 0.246094 -6.304688 L 0.246094 -7.257813 L 1.148438 -7.257813 L 1.148438 -9.058594 L 2.371094 -9.796875 L 2.371094 -7.257813 L 3.609375 -7.257813 L 3.609375 -6.304688 L 2.371094 -6.304688 L 2.371094 -2.058594 C 2.367188 -1.703125 2.386719 -1.476563 2.433594 -1.378906 C 2.472656 -1.277344 2.546875 -1.199219 2.648438 -1.140625 C 2.746094 -1.082031 2.886719 -1.054688 3.070313 -1.054688 C 3.203125 -1.054688 3.382813 -1.070313 3.609375 -1.101563 Z M 3.609375 -1.101563 \"/>\n",
       "</symbol>\n",
       "<symbol overflow=\"visible\" id=\"glyph0-20\">\n",
       "<path style=\"stroke:none;\" d=\"M -0.210938 2.78125 L -0.210938 1.894531 L 7.945313 1.894531 L 7.945313 2.78125 Z M -0.210938 2.78125 \"/>\n",
       "</symbol>\n",
       "<symbol overflow=\"visible\" id=\"glyph0-21\">\n",
       "<path style=\"stroke:none;\" d=\"M 1.078125 0 L 1.078125 -10.023438 L 4.53125 -10.023438 C 5.308594 -10.019531 5.90625 -9.972656 6.316406 -9.878906 C 6.890625 -9.746094 7.378906 -9.503906 7.785156 -9.160156 C 8.3125 -8.710938 8.707031 -8.140625 8.972656 -7.449219 C 9.230469 -6.75 9.363281 -5.957031 9.367188 -5.066406 C 9.363281 -4.300781 9.273438 -3.625 9.097656 -3.039063 C 8.917969 -2.449219 8.691406 -1.964844 8.414063 -1.582031 C 8.136719 -1.195313 7.832031 -0.890625 7.503906 -0.671875 C 7.171875 -0.449219 6.773438 -0.28125 6.304688 -0.171875 C 5.835938 -0.0546875 5.296875 0 4.695313 0 Z M 2.40625 -1.183594 L 4.546875 -1.183594 C 5.207031 -1.183594 5.722656 -1.242188 6.101563 -1.367188 C 6.472656 -1.484375 6.773438 -1.660156 7 -1.886719 C 7.3125 -2.199219 7.558594 -2.621094 7.734375 -3.15625 C 7.910156 -3.683594 7.996094 -4.328125 8 -5.085938 C 7.996094 -6.132813 7.824219 -6.9375 7.480469 -7.5 C 7.132813 -8.0625 6.714844 -8.4375 6.226563 -8.632813 C 5.871094 -8.765625 5.300781 -8.835938 4.511719 -8.839844 L 2.40625 -8.839844 Z M 2.40625 -1.183594 \"/>\n",
       "</symbol>\n",
       "<symbol overflow=\"visible\" id=\"glyph0-22\">\n",
       "<path style=\"stroke:none;\" d=\"M 0.894531 0 L 0.894531 -10.023438 L 2.125 -10.023438 L 2.125 0 Z M 0.894531 0 \"/>\n",
       "</symbol>\n",
       "<symbol overflow=\"visible\" id=\"glyph0-23\">\n",
       "<path style=\"stroke:none;\" d=\"M 5.660156 -2.660156 L 6.871094 -2.5 C 6.734375 -1.664063 6.394531 -1.011719 5.855469 -0.542969 C 5.308594 -0.0703125 4.640625 0.164063 3.847656 0.164063 C 2.851563 0.164063 2.054688 -0.160156 1.453125 -0.808594 C 0.847656 -1.457031 0.542969 -2.386719 0.546875 -3.601563 C 0.542969 -4.382813 0.675781 -5.070313 0.9375 -5.660156 C 1.195313 -6.246094 1.589844 -6.683594 2.121094 -6.980469 C 2.652344 -7.269531 3.230469 -7.417969 3.855469 -7.421875 C 4.644531 -7.417969 5.289063 -7.21875 5.789063 -6.824219 C 6.289063 -6.421875 6.609375 -5.855469 6.753906 -5.125 L 5.558594 -4.941406 C 5.441406 -5.425781 5.238281 -5.792969 4.953125 -6.042969 C 4.660156 -6.285156 4.3125 -6.410156 3.902344 -6.414063 C 3.28125 -6.410156 2.777344 -6.1875 2.390625 -5.746094 C 2.003906 -5.296875 1.808594 -4.59375 1.8125 -3.636719 C 1.808594 -2.65625 1.996094 -1.945313 2.371094 -1.507813 C 2.742188 -1.0625 3.230469 -0.84375 3.835938 -0.847656 C 4.316406 -0.84375 4.71875 -0.992188 5.042969 -1.289063 C 5.367188 -1.585938 5.574219 -2.042969 5.660156 -2.660156 Z M 5.660156 -2.660156 \"/>\n",
       "</symbol>\n",
       "<symbol overflow=\"visible\" id=\"glyph0-24\">\n",
       "<path style=\"stroke:none;\" d=\"M 0.867188 2.796875 L 0.730469 1.640625 C 0.996094 1.710938 1.230469 1.746094 1.4375 1.75 C 1.703125 1.746094 1.921875 1.699219 2.089844 1.613281 C 2.25 1.519531 2.386719 1.394531 2.496094 1.230469 C 2.570313 1.105469 2.695313 0.796875 2.871094 0.3125 C 2.894531 0.242188 2.929688 0.144531 2.980469 0.015625 L 0.226563 -7.257813 L 1.550781 -7.257813 L 3.0625 -3.054688 C 3.253906 -2.519531 3.429688 -1.960938 3.589844 -1.375 C 3.726563 -1.9375 3.894531 -2.488281 4.09375 -3.027344 L 5.648438 -7.257813 L 6.875 -7.257813 L 4.117188 0.125 C 3.816406 0.917969 3.585938 1.46875 3.425781 1.769531 C 3.203125 2.175781 2.953125 2.472656 2.671875 2.660156 C 2.390625 2.847656 2.050781 2.941406 1.660156 2.945313 C 1.417969 2.941406 1.15625 2.890625 0.867188 2.796875 Z M 0.867188 2.796875 \"/>\n",
       "</symbol>\n",
       "<symbol overflow=\"visible\" id=\"glyph0-25\">\n",
       "<path style=\"stroke:none;\" d=\"M 0.929688 0 L 0.929688 -10.023438 L 2.160156 -10.023438 L 2.160156 -4.304688 L 5.070313 -7.257813 L 6.664063 -7.257813 L 3.890625 -4.566406 L 6.945313 0 L 5.429688 0 L 3.027344 -3.710938 L 2.160156 -2.878906 L 2.160156 0 Z M 0.929688 0 \"/>\n",
       "</symbol>\n",
       "</g>\n",
       "</defs>\n",
       "<g id=\"surface100\">\n",
       "<rect x=\"0\" y=\"0\" width=\"600\" height=\"600\" style=\"fill:rgb(100%,100%,100%);fill-opacity:1;stroke:none;\"/>\n",
       "<path style=\"fill:none;stroke-width:0.473062;stroke-linecap:butt;stroke-linejoin:miter;stroke:rgb(26.666667%,26.666667%,26.666667%);stroke-opacity:1;stroke-miterlimit:10;\" d=\"M 580 239.207031 C 511.179688 289.695313 487.785156 356.535156 520.570313 435.246094 \"/>\n",
       "<path style=\" stroke:none;fill-rule:nonzero;fill:rgb(26.666667%,26.666667%,26.666667%);fill-opacity:1;\" d=\"M 526.054688 448.417969 L 516.292969 437.03125 L 524.847656 433.464844 L 526.054688 448.417969 \"/>\n",
       "<path style=\"fill:none;stroke-width:0.118265;stroke-linecap:butt;stroke-linejoin:miter;stroke:rgb(26.666667%,26.666667%,26.666667%);stroke-opacity:1;stroke-miterlimit:10;\" d=\"M 580 239.207031 C 372.046875 147.6875 190.085938 185.015625 48.9375 362.945313 \"/>\n",
       "<path style=\" stroke:none;fill-rule:nonzero;fill:rgb(26.666667%,26.666667%,26.666667%);fill-opacity:1;\" d=\"M 40.074219 374.121094 L 45.308594 360.0625 L 52.570313 365.824219 L 40.074219 374.121094 \"/>\n",
       "<path style=\"fill:none;stroke-width:0.236531;stroke-linecap:butt;stroke-linejoin:miter;stroke:rgb(26.666667%,26.666667%,26.666667%);stroke-opacity:1;stroke-miterlimit:10;\" d=\"M 580 239.207031 C 375.449219 252.757813 246.988281 358.808594 206.773438 559.78125 \"/>\n",
       "<path style=\" stroke:none;fill-rule:nonzero;fill:rgb(26.666667%,26.666667%,26.666667%);fill-opacity:1;\" d=\"M 203.976563 573.769531 L 202.230469 558.871094 L 211.320313 560.691406 L 203.976563 573.769531 \"/>\n",
       "<path style=\"fill:none;stroke-width:3.114323;stroke-linecap:butt;stroke-linejoin:miter;stroke:rgb(26.666667%,26.666667%,26.666667%);stroke-opacity:1;stroke-miterlimit:10;\" d=\"M 580 239.207031 C 496.503906 204.722656 420.976563 218.9375 370.027344 293.234375 \"/>\n",
       "<path style=\" stroke:none;fill-rule:nonzero;fill:rgb(26.666667%,26.666667%,26.666667%);fill-opacity:1;\" d=\"M 361.957031 304.996094 L 366.203125 290.609375 L 373.851563 295.855469 L 361.957031 304.996094 \"/>\n",
       "<path style=\"fill:none;stroke-width:0.0394218;stroke-linecap:butt;stroke-linejoin:miter;stroke:rgb(26.666667%,26.666667%,26.666667%);stroke-opacity:1;stroke-miterlimit:10;\" d=\"M 580 239.207031 C 460.914063 33.453125 284.96875 -44.769531 55.074219 15.640625 \"/>\n",
       "<path style=\" stroke:none;fill-rule:nonzero;fill:rgb(26.666667%,26.666667%,26.666667%);fill-opacity:1;\" d=\"M 41.277344 19.265625 L 53.894531 11.160156 L 56.25 20.125 L 41.277344 19.265625 \"/>\n",
       "<path style=\"fill:none;stroke-width:0.494924;stroke-linecap:butt;stroke-linejoin:miter;stroke:rgb(26.666667%,26.666667%,26.666667%);stroke-opacity:1;stroke-miterlimit:10;\" d=\"M 527.433594 451.726563 C 596.269531 401.1875 619.636719 334.3125 586.820313 255.570313 \"/>\n",
       "<path style=\" stroke:none;fill-rule:nonzero;fill:rgb(26.666667%,26.666667%,26.666667%);fill-opacity:1;\" d=\"M 581.332031 242.402344 L 591.097656 253.789063 L 582.542969 257.355469 L 581.332031 242.402344 \"/>\n",
       "<path style=\"fill:none;stroke-width:0.532995;stroke-linecap:butt;stroke-linejoin:miter;stroke:rgb(26.666667%,26.666667%,26.666667%);stroke-opacity:1;stroke-miterlimit:10;\" d=\"M 527.433594 451.726563 C 390.578125 309.902344 231.824219 279.371094 60.445313 376.5 \"/>\n",
       "<path style=\" stroke:none;fill-rule:nonzero;fill:rgb(26.666667%,26.666667%,26.666667%);fill-opacity:1;\" d=\"M 48.035156 383.535156 L 58.160156 372.46875 L 62.734375 380.53125 L 48.035156 383.535156 \"/>\n",
       "<path style=\"fill:none;stroke-width:0.304569;stroke-linecap:butt;stroke-linejoin:miter;stroke:rgb(26.666667%,26.666667%,26.666667%);stroke-opacity:1;stroke-miterlimit:10;\" d=\"M 527.433594 451.726563 C 395.136719 410.210938 287.042969 444.953125 213.644531 562.519531 \"/>\n",
       "<path style=\" stroke:none;fill-rule:nonzero;fill:rgb(26.666667%,26.666667%,26.666667%);fill-opacity:1;\" d=\"M 206.089844 574.621094 L 209.710938 560.0625 L 217.574219 564.972656 L 206.089844 574.621094 \"/>\n",
       "<path style=\"fill:none;stroke-width:3.426396;stroke-linecap:butt;stroke-linejoin:miter;stroke:rgb(26.666667%,26.666667%,26.666667%);stroke-opacity:1;stroke-miterlimit:10;\" d=\"M 527.433594 451.726563 C 511.371094 380.6875 466.808594 336.386719 394.300781 338.460938 \"/>\n",
       "<path style=\" stroke:none;fill-rule:nonzero;fill:rgb(26.666667%,26.666667%,26.666667%);fill-opacity:1;\" d=\"M 380.042969 338.867188 L 394.167969 333.828125 L 394.433594 343.09375 L 380.042969 338.867188 \"/>\n",
       "<path style=\"fill:none;stroke-width:0.0380711;stroke-linecap:butt;stroke-linejoin:miter;stroke:rgb(26.666667%,26.666667%,26.666667%);stroke-opacity:1;stroke-miterlimit:10;\" d=\"M 527.433594 451.726563 C 477.730469 190.320313 320.757813 43.0625 55.578125 21.398438 \"/>\n",
       "<path style=\" stroke:none;fill-rule:nonzero;fill:rgb(26.666667%,26.666667%,26.666667%);fill-opacity:1;\" d=\"M 41.359375 20.234375 L 55.957031 16.777344 L 55.203125 26.015625 L 41.359375 20.234375 \"/>\n",
       "<path style=\"fill:none;stroke-width:0.0918964;stroke-linecap:butt;stroke-linejoin:miter;stroke:rgb(26.666667%,26.666667%,26.666667%);stroke-opacity:1;stroke-miterlimit:10;\" d=\"M 20 399.425781 C 239.609375 488.035156 425.777344 441.683594 569.253906 253.316406 \"/>\n",
       "<path style=\" stroke:none;fill-rule:nonzero;fill:rgb(26.666667%,26.666667%,26.666667%);fill-opacity:1;\" d=\"M 577.894531 241.96875 L 572.941406 256.125 L 565.566406 250.507813 L 577.894531 241.96875 \"/>\n",
       "<path style=\"fill:none;stroke-width:0.150376;stroke-linecap:butt;stroke-linejoin:miter;stroke:rgb(26.666667%,26.666667%,26.666667%);stroke-opacity:1;stroke-miterlimit:10;\" d=\"M 20 399.425781 C 168.667969 542.933594 334.695313 566.757813 512.097656 460.878906 \"/>\n",
       "<path style=\" stroke:none;fill-rule:nonzero;fill:rgb(26.666667%,26.666667%,26.666667%);fill-opacity:1;\" d=\"M 524.347656 453.566406 L 514.472656 464.859375 L 509.722656 456.898438 L 524.347656 453.566406 \"/>\n",
       "<path style=\"fill:none;stroke-width:0.321637;stroke-linecap:butt;stroke-linejoin:miter;stroke:rgb(26.666667%,26.666667%,26.666667%);stroke-opacity:1;stroke-miterlimit:10;\" d=\"M 20 399.425781 C 29.71875 499.207031 83.238281 562.480469 182.351563 577.011719 \"/>\n",
       "<path style=\" stroke:none;fill-rule:nonzero;fill:rgb(26.666667%,26.666667%,26.666667%);fill-opacity:1;\" d=\"M 196.464844 579.082031 L 181.679688 581.597656 L 183.023438 572.425781 L 196.464844 579.082031 \"/>\n",
       "<path style=\"fill:none;stroke-width:1.54553;stroke-linecap:butt;stroke-linejoin:miter;stroke:rgb(26.666667%,26.666667%,26.666667%);stroke-opacity:1;stroke-miterlimit:10;\" d=\"M 20 399.425781 C 118.414063 462.125 216.183594 459.777344 299.246094 378.089844 \"/>\n",
       "<path style=\" stroke:none;fill-rule:nonzero;fill:rgb(26.666667%,26.666667%,26.666667%);fill-opacity:1;\" d=\"M 309.417969 368.085938 L 302.496094 381.394531 L 295.996094 374.785156 L 309.417969 368.085938 \"/>\n",
       "<path style=\"fill:none;stroke-width:0.0334169;stroke-linecap:butt;stroke-linejoin:miter;stroke:rgb(26.666667%,26.666667%,26.666667%);stroke-opacity:1;stroke-miterlimit:10;\" d=\"M 20 399.425781 C 120.648438 284.707031 133.175781 160.84375 48.054688 34.230469 \"/>\n",
       "<path style=\" stroke:none;fill-rule:nonzero;fill:rgb(26.666667%,26.666667%,26.666667%);fill-opacity:1;\" d=\"M 40.09375 22.390625 L 51.898438 31.644531 L 44.207031 36.816406 L 40.09375 22.390625 \"/>\n",
       "<path style=\"fill:none;stroke-width:0.0645161;stroke-linecap:butt;stroke-linejoin:miter;stroke:rgb(26.666667%,26.666667%,26.666667%);stroke-opacity:1;stroke-miterlimit:10;\" d=\"M 202.730469 580 C 408.1875 565.660156 536.601563 458.613281 576.558594 256.605469 \"/>\n",
       "<path style=\" stroke:none;fill-rule:nonzero;fill:rgb(26.666667%,26.666667%,26.666667%);fill-opacity:1;\" d=\"M 579.328125 242.613281 L 581.105469 257.507813 L 572.011719 255.707031 L 579.328125 242.613281 \"/>\n",
       "<path style=\"fill:none;stroke-width:0.27957;stroke-linecap:butt;stroke-linejoin:miter;stroke:rgb(26.666667%,26.666667%,26.666667%);stroke-opacity:1;stroke-miterlimit:10;\" d=\"M 202.730469 580 C 336.101563 621.125 444.503906 585.472656 518.023438 466.902344 \"/>\n",
       "<path style=\" stroke:none;fill-rule:nonzero;fill:rgb(26.666667%,26.666667%,26.666667%);fill-opacity:1;\" d=\"M 525.542969 454.777344 L 521.964844 469.34375 L 514.085938 464.457031 L 525.542969 454.777344 \"/>\n",
       "<path style=\"fill:none;stroke-width:0.946237;stroke-linecap:butt;stroke-linejoin:miter;stroke:rgb(26.666667%,26.666667%,26.666667%);stroke-opacity:1;stroke-miterlimit:10;\" d=\"M 202.730469 580 C 199.871094 488.25 155.125 424.972656 65.125 407.957031 \"/>\n",
       "<path style=\" stroke:none;fill-rule:nonzero;fill:rgb(26.666667%,26.666667%,26.666667%);fill-opacity:1;\" d=\"M 51.105469 405.304688 L 65.984375 403.402344 L 64.261719 412.511719 L 51.105469 405.304688 \"/>\n",
       "<path style=\"fill:none;stroke-width:1.268817;stroke-linecap:butt;stroke-linejoin:miter;stroke:rgb(26.666667%,26.666667%,26.666667%);stroke-opacity:1;stroke-miterlimit:10;\" d=\"M 202.730469 580 C 294.8125 553.667969 347.84375 492.175781 341.613281 396.84375 \"/>\n",
       "<path style=\" stroke:none;fill-rule:nonzero;fill:rgb(26.666667%,26.666667%,26.666667%);fill-opacity:1;\" d=\"M 340.683594 382.609375 L 346.242188 396.542969 L 336.988281 397.144531 L 340.683594 382.609375 \"/>\n",
       "<path style=\"fill:none;stroke-width:0.284611;stroke-linecap:butt;stroke-linejoin:miter;stroke:rgb(26.666667%,26.666667%,26.666667%);stroke-opacity:1;stroke-miterlimit:10;\" d=\"M 337.90625 340.074219 C 436.984375 369.78125 517.984375 343.21875 570.921875 254.4375 \"/>\n",
       "<path style=\" stroke:none;fill-rule:nonzero;fill:rgb(26.666667%,26.666667%,26.666667%);fill-opacity:1;\" d=\"M 578.226563 242.183594 L 574.902344 256.808594 L 566.9375 252.0625 L 578.226563 242.183594 \"/>\n",
       "<path style=\"fill:none;stroke-width:0.277992;stroke-linecap:butt;stroke-linejoin:miter;stroke:rgb(26.666667%,26.666667%,26.666667%);stroke-opacity:1;stroke-miterlimit:10;\" d=\"M 337.90625 340.074219 C 366.785156 420.859375 424.449219 462.558594 509.679688 453.59375 \"/>\n",
       "<path style=\" stroke:none;fill-rule:nonzero;fill:rgb(26.666667%,26.666667%,26.666667%);fill-opacity:1;\" d=\"M 523.867188 452.101563 L 510.167969 458.203125 L 509.195313 448.984375 L 523.867188 452.101563 \"/>\n",
       "<path style=\"fill:none;stroke-width:0.281302;stroke-linecap:butt;stroke-linejoin:miter;stroke:rgb(26.666667%,26.666667%,26.666667%);stroke-opacity:1;stroke-miterlimit:10;\" d=\"M 337.90625 340.074219 C 236.128906 277.613281 136.664063 282.164063 52.554688 366.703125 \"/>\n",
       "<path style=\" stroke:none;fill-rule:nonzero;fill:rgb(26.666667%,26.666667%,26.666667%);fill-opacity:1;\" d=\"M 42.492188 376.816406 L 49.269531 363.433594 L 55.839844 369.972656 L 42.492188 376.816406 \"/>\n",
       "<path style=\"fill:none;stroke-width:0.138996;stroke-linecap:butt;stroke-linejoin:miter;stroke:rgb(26.666667%,26.666667%,26.666667%);stroke-opacity:1;stroke-miterlimit:10;\" d=\"M 337.90625 340.074219 C 237.144531 378.816406 187.160156 452.472656 200.234375 559.550781 \"/>\n",
       "<path style=\" stroke:none;fill-rule:nonzero;fill:rgb(26.666667%,26.666667%,26.666667%);fill-opacity:1;\" d=\"M 201.960938 573.714844 L 195.632813 560.113281 L 204.835938 558.992188 L 201.960938 573.714844 \"/>\n",
       "<path style=\"fill:none;stroke-width:0.0297849;stroke-linecap:butt;stroke-linejoin:miter;stroke:rgb(26.666667%,26.666667%,26.666667%);stroke-opacity:1;stroke-miterlimit:10;\" d=\"M 337.90625 340.074219 C 322.984375 163.757813 229.480469 54.3125 55.363281 23.03125 \"/>\n",
       "<path style=\" stroke:none;fill-rule:nonzero;fill:rgb(26.666667%,26.666667%,26.666667%);fill-opacity:1;\" d=\"M 41.324219 20.511719 L 56.183594 18.46875 L 54.542969 27.59375 L 41.324219 20.511719 \"/>\n",
       "<path style=\"fill:none;stroke-width:0.0949367;stroke-linecap:butt;stroke-linejoin:miter;stroke:rgb(26.666667%,26.666667%,26.666667%);stroke-opacity:1;stroke-miterlimit:10;\" d=\"M 38.484375 20 C 157.34375 225.660156 333.113281 303.976563 562.84375 243.707031 \"/>\n",
       "<path style=\" stroke:none;fill-rule:nonzero;fill:rgb(26.666667%,26.666667%,26.666667%);fill-opacity:1;\" d=\"M 576.640625 240.085938 L 564.019531 248.191406 L 561.667969 239.222656 L 576.640625 240.085938 \"/>\n",
       "<path style=\"fill:none;stroke-width:0.0949367;stroke-linecap:butt;stroke-linejoin:miter;stroke:rgb(26.666667%,26.666667%,26.666667%);stroke-opacity:1;stroke-miterlimit:10;\" d=\"M 38.484375 20 C 87.96875 281.207031 244.699219 428.503906 509.632813 450.261719 \"/>\n",
       "<path style=\" stroke:none;fill-rule:nonzero;fill:rgb(26.666667%,26.666667%,26.666667%);fill-opacity:1;\" d=\"M 523.851563 451.429688 L 509.253906 454.882813 L 510.011719 445.644531 L 523.851563 451.429688 \"/>\n",
       "<path style=\"fill:none;stroke-width:0.189873;stroke-linecap:butt;stroke-linejoin:miter;stroke:rgb(26.666667%,26.666667%,26.666667%);stroke-opacity:1;stroke-miterlimit:10;\" d=\"M 38.484375 20 C -60.9375 122.632813 -80.550781 239.332031 -4.621094 360.222656 \"/>\n",
       "<path style=\" stroke:none;fill-rule:nonzero;fill:rgb(26.666667%,26.666667%,26.666667%);fill-opacity:1;\" d=\"M 2.964844 372.304688 L -8.546875 362.6875 L -0.695313 357.757813 L 2.964844 372.304688 \"/>\n",
       "<path style=\"fill:none;stroke-width:0.0474684;stroke-linecap:butt;stroke-linejoin:miter;stroke:rgb(26.666667%,26.666667%,26.666667%);stroke-opacity:1;stroke-miterlimit:10;\" d=\"M 38.484375 20 L 196.949219 560.285156 \"/>\n",
       "<path style=\" stroke:none;fill-rule:nonzero;fill:rgb(26.666667%,26.666667%,26.666667%);fill-opacity:1;\" d=\"M 200.960938 573.976563 L 192.5 561.589844 L 201.394531 558.984375 L 200.960938 573.976563 \"/>\n",
       "<path style=\"fill:none;stroke-width:0.379747;stroke-linecap:butt;stroke-linejoin:miter;stroke:rgb(26.666667%,26.666667%,26.666667%);stroke-opacity:1;stroke-miterlimit:10;\" d=\"M 38.484375 20 C 43.363281 184.367188 123.9375 293.902344 284.539063 328.558594 \"/>\n",
       "<path style=\" stroke:none;fill-rule:nonzero;fill:rgb(26.666667%,26.666667%,26.666667%);fill-opacity:1;\" d=\"M 298.484375 331.566406 L 283.558594 333.089844 L 285.515625 324.027344 L 298.484375 331.566406 \"/>\n",
       "<path style=\"fill-rule:nonzero;fill:rgb(100%,0%,0%);fill-opacity:1;stroke-width:1;stroke-linecap:butt;stroke-linejoin:miter;stroke:rgb(0%,0%,0%);stroke-opacity:1;stroke-miterlimit:10;\" d=\"M 583.425781 239.207031 C 583.425781 243.773438 576.574219 243.773438 576.574219 239.207031 C 576.574219 234.640625 583.425781 234.640625 583.425781 239.207031 \"/>\n",
       "<path style=\"fill-rule:nonzero;fill:rgb(100%,0%,0%);fill-opacity:1;stroke-width:1;stroke-linecap:butt;stroke-linejoin:miter;stroke:rgb(0%,0%,0%);stroke-opacity:1;stroke-miterlimit:10;\" d=\"M 530.980469 451.726563 C 530.980469 456.453125 523.886719 456.453125 523.886719 451.726563 C 523.886719 446.996094 530.980469 446.996094 530.980469 451.726563 \"/>\n",
       "<path style=\"fill-rule:nonzero;fill:rgb(100%,0%,0%);fill-opacity:1;stroke-width:1;stroke-linecap:butt;stroke-linejoin:miter;stroke:rgb(0%,0%,0%);stroke-opacity:1;stroke-miterlimit:10;\" d=\"M 52.320313 399.425781 C 52.320313 417.273438 37.847656 431.742188 20 431.742188 C 2.152344 431.742188 -12.320313 417.273438 -12.320313 399.425781 C -12.320313 381.574219 2.152344 367.105469 20 367.105469 C 37.847656 367.105469 52.320313 381.574219 52.320313 399.425781 \"/>\n",
       "<path style=\"fill-rule:nonzero;fill:rgb(100%,0%,0%);fill-opacity:1;stroke-width:1;stroke-linecap:butt;stroke-linejoin:miter;stroke:rgb(0%,0%,0%);stroke-opacity:1;stroke-miterlimit:10;\" d=\"M 209.007813 580 C 209.007813 583.46875 206.195313 586.277344 202.730469 586.277344 C 199.261719 586.277344 196.453125 583.46875 196.453125 580 C 196.453125 576.53125 199.261719 573.722656 202.730469 573.722656 C 206.195313 573.722656 209.007813 576.53125 209.007813 580 \"/>\n",
       "<path style=\"fill-rule:nonzero;fill:rgb(100%,0%,0%);fill-opacity:1;stroke-width:1;stroke-linecap:butt;stroke-linejoin:miter;stroke:rgb(0%,0%,0%);stroke-opacity:1;stroke-miterlimit:10;\" d=\"M 378.699219 340.074219 C 378.699219 362.601563 360.433594 380.867188 337.90625 380.867188 C 315.375 380.867188 297.113281 362.601563 297.113281 340.074219 C 297.113281 317.542969 315.375 299.28125 337.90625 299.28125 C 360.433594 299.28125 378.699219 317.542969 378.699219 340.074219 \"/>\n",
       "<path style=\"fill-rule:nonzero;fill:rgb(100%,0%,0%);fill-opacity:1;stroke-width:1;stroke-linecap:butt;stroke-linejoin:miter;stroke:rgb(0%,0%,0%);stroke-opacity:1;stroke-miterlimit:10;\" d=\"M 41.328125 20 C 41.328125 23.792969 35.640625 23.792969 35.640625 20 C 35.640625 16.207031 41.328125 16.207031 41.328125 20 \"/>\n",
       "<g style=\"fill:rgb(0%,0%,0%);fill-opacity:1;\">\n",
       "  <use xlink:href=\"#glyph0-1\" x=\"517.253906\" y=\"245.804688\"/>\n",
       "  <use xlink:href=\"#glyph0-2\" x=\"526.591797\" y=\"245.804688\"/>\n",
       "  <use xlink:href=\"#glyph0-3\" x=\"534.37793\" y=\"245.804688\"/>\n",
       "  <use xlink:href=\"#glyph0-4\" x=\"542.164063\" y=\"245.804688\"/>\n",
       "  <use xlink:href=\"#glyph0-5\" x=\"549.950195\" y=\"245.804688\"/>\n",
       "  <use xlink:href=\"#glyph0-6\" x=\"557.736328\" y=\"245.804688\"/>\n",
       "  <use xlink:href=\"#glyph0-7\" x=\"565.522461\" y=\"245.804688\"/>\n",
       "  <use xlink:href=\"#glyph0-8\" x=\"574.074219\" y=\"245.804688\"/>\n",
       "  <use xlink:href=\"#glyph0-4\" x=\"578.736328\" y=\"245.804688\"/>\n",
       "  <use xlink:href=\"#glyph0-9\" x=\"586.522461\" y=\"245.804688\"/>\n",
       "  <use xlink:href=\"#glyph0-10\" x=\"598.18457\" y=\"245.804688\"/>\n",
       "  <use xlink:href=\"#glyph0-11\" x=\"605.970703\" y=\"245.804688\"/>\n",
       "  <use xlink:href=\"#glyph0-10\" x=\"615.308594\" y=\"245.804688\"/>\n",
       "  <use xlink:href=\"#glyph0-12\" x=\"623.094727\" y=\"245.804688\"/>\n",
       "  <use xlink:href=\"#glyph0-9\" x=\"630.880859\" y=\"245.804688\"/>\n",
       "</g>\n",
       "<g style=\"fill:rgb(0%,0%,0%);fill-opacity:1;\">\n",
       "  <use xlink:href=\"#glyph0-11\" x=\"461.027344\" y=\"458.320313\"/>\n",
       "  <use xlink:href=\"#glyph0-12\" x=\"470.365234\" y=\"458.320313\"/>\n",
       "  <use xlink:href=\"#glyph0-2\" x=\"478.151367\" y=\"458.320313\"/>\n",
       "  <use xlink:href=\"#glyph0-13\" x=\"485.9375\" y=\"458.320313\"/>\n",
       "  <use xlink:href=\"#glyph0-14\" x=\"493.723633\" y=\"458.320313\"/>\n",
       "  <use xlink:href=\"#glyph0-8\" x=\"501.509766\" y=\"458.320313\"/>\n",
       "  <use xlink:href=\"#glyph0-15\" x=\"506.171875\" y=\"458.320313\"/>\n",
       "  <use xlink:href=\"#glyph0-16\" x=\"513.171875\" y=\"458.320313\"/>\n",
       "  <use xlink:href=\"#glyph0-3\" x=\"521.723633\" y=\"458.320313\"/>\n",
       "  <use xlink:href=\"#glyph0-8\" x=\"529.509766\" y=\"458.320313\"/>\n",
       "  <use xlink:href=\"#glyph0-17\" x=\"534.171875\" y=\"458.320313\"/>\n",
       "  <use xlink:href=\"#glyph0-8\" x=\"543.509766\" y=\"458.320313\"/>\n",
       "  <use xlink:href=\"#glyph0-14\" x=\"548.171875\" y=\"458.320313\"/>\n",
       "  <use xlink:href=\"#glyph0-15\" x=\"555.958008\" y=\"458.320313\"/>\n",
       "  <use xlink:href=\"#glyph0-18\" x=\"562.958008\" y=\"458.320313\"/>\n",
       "  <use xlink:href=\"#glyph0-13\" x=\"566.068359\" y=\"458.320313\"/>\n",
       "  <use xlink:href=\"#glyph0-14\" x=\"573.854492\" y=\"458.320313\"/>\n",
       "  <use xlink:href=\"#glyph0-2\" x=\"581.640625\" y=\"458.320313\"/>\n",
       "  <use xlink:href=\"#glyph0-19\" x=\"589.426758\" y=\"458.320313\"/>\n",
       "</g>\n",
       "<g style=\"fill:rgb(0%,0%,0%);fill-opacity:1;\">\n",
       "  <use xlink:href=\"#glyph0-7\" x=\"-17.796875\" y=\"405.933594\"/>\n",
       "  <use xlink:href=\"#glyph0-6\" x=\"-9.245117\" y=\"405.933594\"/>\n",
       "  <use xlink:href=\"#glyph0-14\" x=\"-1.458984\" y=\"405.933594\"/>\n",
       "  <use xlink:href=\"#glyph0-20\" x=\"6.327148\" y=\"405.933594\"/>\n",
       "  <use xlink:href=\"#glyph0-21\" x=\"14.113281\" y=\"405.933594\"/>\n",
       "  <use xlink:href=\"#glyph0-3\" x=\"24.223633\" y=\"405.933594\"/>\n",
       "  <use xlink:href=\"#glyph0-2\" x=\"32.009766\" y=\"405.933594\"/>\n",
       "  <use xlink:href=\"#glyph0-12\" x=\"39.795898\" y=\"405.933594\"/>\n",
       "  <use xlink:href=\"#glyph0-22\" x=\"47.582031\" y=\"405.933594\"/>\n",
       "  <use xlink:href=\"#glyph0-13\" x=\"50.692383\" y=\"405.933594\"/>\n",
       "</g>\n",
       "<g style=\"fill:rgb(0%,0%,0%);fill-opacity:1;\">\n",
       "  <use xlink:href=\"#glyph0-23\" x=\"169.058594\" y=\"586.511719\"/>\n",
       "  <use xlink:href=\"#glyph0-3\" x=\"176.058594\" y=\"586.511719\"/>\n",
       "  <use xlink:href=\"#glyph0-2\" x=\"183.844727\" y=\"586.511719\"/>\n",
       "  <use xlink:href=\"#glyph0-15\" x=\"191.630859\" y=\"586.511719\"/>\n",
       "  <use xlink:href=\"#glyph0-10\" x=\"198.630859\" y=\"586.511719\"/>\n",
       "  <use xlink:href=\"#glyph0-18\" x=\"206.416992\" y=\"586.511719\"/>\n",
       "  <use xlink:href=\"#glyph0-8\" x=\"209.527344\" y=\"586.511719\"/>\n",
       "  <use xlink:href=\"#glyph0-12\" x=\"214.189453\" y=\"586.511719\"/>\n",
       "  <use xlink:href=\"#glyph0-23\" x=\"221.975586\" y=\"586.511719\"/>\n",
       "  <use xlink:href=\"#glyph0-24\" x=\"228.975586\" y=\"586.511719\"/>\n",
       "</g>\n",
       "<g style=\"fill:rgb(0%,0%,0%);fill-opacity:1;\">\n",
       "  <use xlink:href=\"#glyph0-10\" x=\"316.316406\" y=\"346.585938\"/>\n",
       "  <use xlink:href=\"#glyph0-3\" x=\"324.102539\" y=\"346.585938\"/>\n",
       "  <use xlink:href=\"#glyph0-22\" x=\"331.888672\" y=\"346.585938\"/>\n",
       "  <use xlink:href=\"#glyph0-18\" x=\"334.999023\" y=\"346.585938\"/>\n",
       "  <use xlink:href=\"#glyph0-19\" x=\"338.109375\" y=\"346.585938\"/>\n",
       "  <use xlink:href=\"#glyph0-18\" x=\"341.999023\" y=\"346.585938\"/>\n",
       "  <use xlink:href=\"#glyph0-23\" x=\"345.109375\" y=\"346.585938\"/>\n",
       "  <use xlink:href=\"#glyph0-15\" x=\"352.109375\" y=\"346.585938\"/>\n",
       "</g>\n",
       "<g style=\"fill:rgb(0%,0%,0%);fill-opacity:1;\">\n",
       "  <use xlink:href=\"#glyph0-4\" x=\"9.519531\" y=\"26.511719\"/>\n",
       "  <use xlink:href=\"#glyph0-25\" x=\"17.305664\" y=\"26.511719\"/>\n",
       "  <use xlink:href=\"#glyph0-10\" x=\"24.305664\" y=\"26.511719\"/>\n",
       "  <use xlink:href=\"#glyph0-3\" x=\"32.091797\" y=\"26.511719\"/>\n",
       "  <use xlink:href=\"#glyph0-22\" x=\"39.87793\" y=\"26.511719\"/>\n",
       "  <use xlink:href=\"#glyph0-18\" x=\"42.988281\" y=\"26.511719\"/>\n",
       "  <use xlink:href=\"#glyph0-19\" x=\"46.098633\" y=\"26.511719\"/>\n",
       "  <use xlink:href=\"#glyph0-18\" x=\"49.988281\" y=\"26.511719\"/>\n",
       "  <use xlink:href=\"#glyph0-23\" x=\"53.098633\" y=\"26.511719\"/>\n",
       "  <use xlink:href=\"#glyph0-15\" x=\"60.098633\" y=\"26.511719\"/>\n",
       "</g>\n",
       "</g>\n",
       "</svg>\n"
      ],
      "text/plain": [
       "<igraph.drawing.Plot at 0x19786e5ce10>"
      ]
     },
     "execution_count": 139,
     "metadata": {},
     "output_type": "execute_result"
    }
   ],
   "source": [
    "A_classified = df_politics_adj_classified.values\n",
    "g_politic_subreddits_3 = Graph().Adjacency((A_classified > 0).tolist())\n",
    "# Add edge weights and node labels.\n",
    "g_politic_subreddits_3.es['weight'] = A_classified[A_classified.nonzero()]\n",
    "g_politic_subreddits_3.vs['label'] = politic_subreddits\n",
    "g_politic_subreddits_3.es['widht'] = A_classified[A_classified.nonzero()] *0.3\n",
    "\n",
    "v_size = [df_classifier.loc[s][\"Number_of_Users_Belonging\"] * 0.009 for s in politic_subreddits]\n",
    "g_politic_subreddits_3.es['vertex_size'] = v_size \n",
    "\n",
    "#What this algorithm (fruchterman_reingold) do is printing the nodes which have less weight connection more distanciated\n",
    "layout = g_politic_subreddits_3.layout_fruchterman_reingold(weights = g_politic_subreddits_3.es['weight'])  \n",
    "plot(g_politic_subreddits_3, layout = layout, edge_width = g_politic_subreddits_3.es['widht'], vertex_size = v_size)"
   ]
  },
  {
   "cell_type": "code",
   "execution_count": null,
   "metadata": {},
   "outputs": [],
   "source": []
  },
  {
   "cell_type": "code",
   "execution_count": null,
   "metadata": {},
   "outputs": [],
   "source": []
  },
  {
   "cell_type": "code",
   "execution_count": null,
   "metadata": {},
   "outputs": [],
   "source": []
  },
  {
   "cell_type": "code",
   "execution_count": null,
   "metadata": {},
   "outputs": [],
   "source": []
  },
  {
   "cell_type": "code",
   "execution_count": null,
   "metadata": {},
   "outputs": [],
   "source": []
  },
  {
   "cell_type": "code",
   "execution_count": null,
   "metadata": {},
   "outputs": [],
   "source": []
  },
  {
   "cell_type": "markdown",
   "metadata": {},
   "source": [
    "## TOPIC DETECTION - TRYED: Classifying users "
   ]
  },
  {
   "cell_type": "code",
   "execution_count": null,
   "metadata": {},
   "outputs": [],
   "source": [
    "import warnings; warnings.simplefilter('ignore')\n",
    "import os, codecs, string, random\n",
    "import numpy as np\n",
    "from numpy.random import seed as random_seed\n",
    "from numpy.random import shuffle as random_shuffle\n",
    "\n",
    "\n",
    "seed = 42\n",
    "random.seed(seed)\n",
    "np.random.seed(seed)\n",
    "\n",
    "#NLP libraries\n",
    "import spacy, nltk, gensim, sklearn\n",
    "import pyLDAvis.gensim"
   ]
  },
  {
   "cell_type": "code",
   "execution_count": null,
   "metadata": {},
   "outputs": [],
   "source": [
    "subreddits_for_training = [\"The_Donald\", \"politics\"]\n",
    "republicans_for_training = [\"The_Donald\"]\n",
    "democrats_for_training = [\"politics\"]\n",
    "\n",
    "df_training = (df_pd.loc[df_pd['subreddit'].isin(subreddits_for_training)])[[\"subreddit\", \"body\"]]"
   ]
  },
  {
   "cell_type": "code",
   "execution_count": null,
   "metadata": {},
   "outputs": [],
   "source": [
    "df_training[\"Conservative\"] = df_pd['subreddit'].isin(republicans_for_training)"
   ]
  },
  {
   "cell_type": "code",
   "execution_count": null,
   "metadata": {},
   "outputs": [],
   "source": [
    "df_training[\"Conservative\"] = df_training[\"Conservative\"].apply(lambda x: 1 if x == True else 0)"
   ]
  },
  {
   "cell_type": "code",
   "execution_count": null,
   "metadata": {},
   "outputs": [],
   "source": [
    "df_training[df_training[\"Conservative\"]==1].count()"
   ]
  },
  {
   "cell_type": "code",
   "execution_count": null,
   "metadata": {},
   "outputs": [],
   "source": [
    "comments_list = df_training[\"body\"].values\n",
    "comments_list_class = df_training[\"Conservative\"].values"
   ]
  },
  {
   "cell_type": "code",
   "execution_count": null,
   "metadata": {},
   "outputs": [],
   "source": [
    "comments_list"
   ]
  },
  {
   "cell_type": "code",
   "execution_count": null,
   "metadata": {
    "scrolled": false
   },
   "outputs": [],
   "source": [
    "STOPWORDS = spacy.lang.en.stop_words.STOP_WORDS\n",
    "\n",
    "processed_docs = list()\n",
    "for doc in nlp.pipe(comments_list, n_threads=5, batch_size=10):\n",
    "\n",
    "    # Process document using Spacy NLP pipeline.\n",
    "    ents = doc.ents  # Named entities\n",
    "\n",
    "    # Keep only words (no numbers, no punctuation).\n",
    "    # Lemmatize tokens, remove punctuation and remove stopwords.\n",
    "    doc = [token.lemma_ for token in doc if token.is_alpha and not token.is_stop]\n",
    "\n",
    "    # Remove common words from a stopword list and keep only words of length 3 or more.\n",
    "    doc = [token for token in doc if token not in STOPWORDS and len(token) > 2]\n",
    "\n",
    "    # Add named entities, but only if they are a compound of more than word.\n",
    "    doc.extend([str(entity) for entity in ents if len(entity) > 1])\n",
    "\n",
    "    processed_docs.append(doc)\n",
    "docs = processed_docs\n",
    "del processed_docs"
   ]
  },
  {
   "cell_type": "code",
   "execution_count": null,
   "metadata": {},
   "outputs": [],
   "source": [
    "# Add bigrams too\n",
    "from gensim.models.phrases import Phrases\n",
    "\n",
    "# Add bigrams to docs (only ones that appear 15 times or more).\n",
    "bigram = Phrases(docs, min_count=15)\n",
    "\n",
    "for idx in range(len(docs)):\n",
    "    for token in bigram[docs[idx]]:\n",
    "        if '_' in token:\n",
    "            # Token is a bigram, add to document.\n",
    "            docs[idx].append(token)"
   ]
  },
  {
   "cell_type": "code",
   "execution_count": null,
   "metadata": {},
   "outputs": [],
   "source": [
    "# Create a dictionary representation of the documents, and filter out frequent and rare words.\n",
    "from gensim.corpora import Dictionary\n",
    "dictionary = Dictionary(docs)\n",
    "\n",
    "# Remove rare and common tokens.\n",
    "# Filter out words that occur too frequently or too rarely.\n",
    "max_freq = 0.5\n",
    "min_wordcount = 5\n",
    "dictionary.filter_extremes(no_below=min_wordcount, no_above=max_freq)\n",
    "\n",
    "# Bag-of-words representation of the documents.\n",
    "corpus = [dictionary.doc2bow(doc) for doc in docs]\n",
    "#MmCorpus.serialize(\"models/corpus.mm\", corpus)\n",
    "\n",
    "print('Number of unique tokens: %d' % len(dictionary))\n",
    "print('Number of chunks: %d' % len(corpus))"
   ]
  },
  {
   "cell_type": "code",
   "execution_count": null,
   "metadata": {},
   "outputs": [],
   "source": [
    "# models\n",
    "from gensim.models import LdaMulticore\n",
    "params = {'passes': 10, 'random_state': seed}\n",
    "base_models = dict()\n",
    "model = LdaMulticore(corpus=corpus, num_topics=2, id2word=dictionary, workers=6,\n",
    "                passes=params['passes'], random_state=params['random_state'])"
   ]
  },
  {
   "cell_type": "code",
   "execution_count": null,
   "metadata": {},
   "outputs": [],
   "source": [
    "model.show_topics(num_words=5)"
   ]
  },
  {
   "cell_type": "code",
   "execution_count": null,
   "metadata": {},
   "outputs": [],
   "source": [
    "model.show_topic(1,20)"
   ]
  },
  {
   "cell_type": "code",
   "execution_count": null,
   "metadata": {},
   "outputs": [],
   "source": [
    "sorted(model[corpus[0]],key=lambda x:x[1],reverse=True)"
   ]
  },
  {
   "cell_type": "code",
   "execution_count": null,
   "metadata": {},
   "outputs": [],
   "source": [
    "# plot topics\n",
    "data =  pyLDAvis.gensim.prepare(model, corpus, dictionary)\n",
    "pyLDAvis.display(data)"
   ]
  },
  {
   "cell_type": "code",
   "execution_count": null,
   "metadata": {},
   "outputs": [],
   "source": [
    "# assignment\n",
    "sent_to_cluster = list()\n",
    "for n,doc in enumerate(corpus):\n",
    "    if doc:\n",
    "        cluster = max(model[doc],key=lambda x:x[1])\n",
    "        sent_to_cluster.append(cluster[0])"
   ]
  },
  {
   "cell_type": "code",
   "execution_count": null,
   "metadata": {},
   "outputs": [],
   "source": [
    "# accuracy\n",
    "from collections import Counter\n",
    "for book, cluster in book_id.items():\n",
    "    assignments = list()\n",
    "    for real,given in zip(comments_list_class,sent_to_cluster):\n",
    "        if real == cluster:\n",
    "            assignments.append(given)\n",
    "    most_common,num_most_common = Counter(assignments).most_common(1)[0] # 4, 6 times\n",
    "    print(book,\":\",most_common,\"-\",num_most_common)\n",
    "    print(\"Accuracy:\",num_most_common/limit)\n",
    "    print(\"------\")"
   ]
  },
  {
   "cell_type": "code",
   "execution_count": null,
   "metadata": {},
   "outputs": [],
   "source": []
  }
 ],
 "metadata": {
  "kernelspec": {
   "display_name": "Python 3",
   "language": "python",
   "name": "python3"
  },
  "language_info": {
   "codemirror_mode": {
    "name": "ipython",
    "version": 3
   },
   "file_extension": ".py",
   "mimetype": "text/x-python",
   "name": "python",
   "nbconvert_exporter": "python",
   "pygments_lexer": "ipython3",
   "version": "3.6.7"
  }
 },
 "nbformat": 4,
 "nbformat_minor": 2
}
