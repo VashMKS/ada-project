{
 "cells": [
  {
   "cell_type": "markdown",
   "metadata": {},
   "source": [
    "# The Echo Chamber Effect - A Case Study (provisional title)\n",
    "\n",
    "## Milestone 2\n",
    "\n",
    "In this notebook we will download a small sample of the Reddit dataset for the first time and perform some basic statistics on it. We will talk about the structure of the data, our pipepline to handle it and how this new knowledge has affected our plans for the project.\n",
    "\n",
    "We will also load the two recommended NLP libraries and try them out to see how they work and to which extent we can take advantage of them.\n",
    "\n",
    "The full report can be found on the updated README."
   ]
  },
  {
   "cell_type": "code",
   "execution_count": 115,
   "metadata": {},
   "outputs": [],
   "source": [
    "import pandas as pd\n",
    "import numpy as np\n",
    "import scipy as sp\n",
    "import seaborn as sns\n",
    "%matplotlib inline\n",
    "\n",
    "import cairo #For the graphs visualizations\n",
    "from igraph import *\n",
    "\n",
    "import random\n",
    "\n",
    "import findspark\n",
    "findspark.init(r'C:\\Spark\\spark-2.3.2-bin-hadoop2.7')\n",
    "#findspark.init('/Users/vikalpkamdar/opt/spark')\n",
    "#findspark.init()\n",
    "findspark.find()\n",
    "\n",
    "from datetime import datetime\n",
    "from matplotlib import pyplot as plt\n",
    "from pyspark.sql import *\n",
    "from pyspark.sql.functions import *\n",
    "\n",
    "from pyspark.sql import SparkSession\n",
    "from pyspark import SparkContext\n",
    "\n",
    "spark = SparkSession.builder.getOrCreate()\n",
    "spark.conf.set('spark.sql.session.timeZone', 'UTC')\n",
    "sc = spark.sparkContext\n",
    "sqlc = SQLContext(sc)"
   ]
  },
  {
   "cell_type": "code",
   "execution_count": 116,
   "metadata": {},
   "outputs": [],
   "source": [
    "DATA_DIR = './data/'"
   ]
  },
  {
   "cell_type": "markdown",
   "metadata": {},
   "source": [
    "## Sampling the data"
   ]
  },
  {
   "cell_type": "markdown",
   "metadata": {},
   "source": [
    "This dataset is big beyond comprehension. Around 2TB of comments from Reddit's inception in 2005 until March 2017. Our machines cannot handle such numbers and even if they could it would take too much time. Instead, we decided to, for now, focus only on 2016 (the year of the US presidential election) which itslef represents already more than 360GB of data and sticked to the following pipeline:\n",
    "\n",
    " - Sample 10% of the data (~12GB compressed)\n",
    " - Try our scripts locally using spark\n",
    " - Once prototyped, upload the scripts to the cluster, run them on the whole year of data and retrieve only the essential parts\n",
    "\n",
    "This way we streamlined the queries to the cluster and created an easily expandable workframe.\n",
    "\n",
    "In order to filter and reduce even more the size of the datasets we dropped the columns that mostly have no use for us, namely: ```author_flair_class```, ```author_flair_text```, ```distinguished```, ```edited```, ```retrieved_on```, ```stickied``` and ```subreddit_id```. (Script used on cluster: `script/drop_col.py`)"
   ]
  },
  {
   "cell_type": "markdown",
   "metadata": {},
   "source": [
    "We don't think a dataset as rich as this needs much enrichment, but we could consider using web scrapping techniques to retrieve subredit data (e.g. the rules of the subreddit)."
   ]
  },
  {
   "cell_type": "markdown",
   "metadata": {},
   "source": [
    "### Using the sample to explain the data\n",
    "\n",
    "The following code does not really need the data in its size as it's for explanatory purposes. The queries and operations were performed on our local system with 1% 2016 reddit comments. Once we figured out the querries we applied them to 10% of the 2016 reddit data (~12GB compressed) by sending python scripts (found in scripts/ folder) to the cluster."
   ]
  },
  {
   "cell_type": "code",
   "execution_count": 3,
   "metadata": {
    "scrolled": true
   },
   "outputs": [],
   "source": [
    "df_spark = spark.read.parquet(DATA_DIR + \"sliced_2017_posts.parquet\")"
   ]
  },
  {
   "cell_type": "code",
   "execution_count": 4,
   "metadata": {},
   "outputs": [
    {
     "data": {
      "text/plain": [
       "28212401"
      ]
     },
     "execution_count": 4,
     "metadata": {},
     "output_type": "execute_result"
    }
   ],
   "source": [
    "# Sample size\n",
    "df_spark.count() # number of comments used for the 1% dataset."
   ]
  },
  {
   "cell_type": "markdown",
   "metadata": {},
   "source": [
    "Firstly we show the column names of the spark data frame and the first row in order to analyze how the data frame is structured, the differents columns and its meanings:"
   ]
  },
  {
   "cell_type": "code",
   "execution_count": 14,
   "metadata": {
    "scrolled": true
   },
   "outputs": [
    {
     "data": {
      "text/plain": [
       "['author',\n",
       " 'subreddit',\n",
       " 'id',\n",
       " 'body',\n",
       " 'created_utc',\n",
       " 'score',\n",
       " 'controversiality',\n",
       " 'pos_sent',\n",
       " 'neg_sent',\n",
       " 'neut_sent',\n",
       " 'compound_sent',\n",
       " 'post_length']"
      ]
     },
     "execution_count": 14,
     "metadata": {},
     "output_type": "execute_result"
    }
   ],
   "source": [
    "df_spark.columns"
   ]
  },
  {
   "cell_type": "code",
   "execution_count": 15,
   "metadata": {
    "scrolled": true
   },
   "outputs": [
    {
     "name": "stdout",
     "output_type": "stream",
     "text": [
      "+------+--------------+-------+--------------------+-----------+-----+----------------+--------+--------+---------+-------------+-----------+\n",
      "|author|     subreddit|     id|                body|created_utc|score|controversiality|pos_sent|neg_sent|neut_sent|compound_sent|post_length|\n",
      "+------+--------------+-------+--------------------+-----------+-----+----------------+--------+--------+---------+-------------+-----------+\n",
      "|ablaaa|syriancivilwar|d19th0x|Not official. See...| 1458690378|    1|               0|     0.0|     0.0|      1.0|          0.0|         41|\n",
      "+------+--------------+-------+--------------------+-----------+-----+----------------+--------+--------+---------+-------------+-----------+\n",
      "only showing top 1 row\n",
      "\n"
     ]
    }
   ],
   "source": [
    "# example of 1 comment\n",
    "df_spark.show(1)"
   ]
  },
  {
   "cell_type": "markdown",
   "metadata": {},
   "source": [
    "Here we explain the columns one by one:\n",
    "* __'author':__ Redditor username\n",
    "* __'author_flair_css_class':__ CSS class, defines the style of the 'author_flair_text' tag within the html of Reddit.\n",
    "* __'author_flair_text':__  A tag associated to your username, which is only visible in the current subreddit. \n",
    "* __'body':__ The content of the comment.\n",
    "* __'controversiality':__ When its value is 1, the comment has been voted above a certain threshold and has roughly the same amount of downvotes and upvotes. 0 Otherwise. [More info](https://www.reddit.com/r/redditdev/comments/29i58s/reddit_change_api_availability_controversiality/)\n",
    "* __'created_utc':__ Unix timestamp of the creation date.\n",
    "* __'distinguished':__ If a comment is distinguished, this means that a moderator or admin of the subreddit has highlighted it (A little [M] will appear next to it).\n",
    "* __'edited':__ Indicates if the comment has been edited. If it has not been edited the variable is False, else its value is the Unix Timestamp of the last edition.\n",
    "* __'gilded':__ When its value is 1, that means a [premium](https://www.reddit.com/premium/) user gave the author [reddit gold](https://www.reddit.com/coins/) (a week of reddit premium). \n",
    "* __'id':__ Unique ID of the comment.\n",
    "* __'link_id':__ Id of the link (similar to post) this comment is anwering to. Always begins with 't3_'.\n",
    "* __'parent_id':__ Id of the post this comment is below. Always begins with 't3_'.\n",
    "* __'retrieved_on':__ Unix Timestamp of the comment retrieval (to this data set).\n",
    "* __'score':__ Upvotes minus downvotes (Reddit mildly obfuscates this value when the comment has lots of votes as a security measure against external meddling. This is called [vote fuzzing](https://www.reddit.com/r/firstdayontheinternet/comments/30b44n/could_someone_explain_how_the_reddit_karma_system/).\n",
    "* __'stickied':__ Boolean value. When a comment is stickied (by a moderator or admin), the comment appears as the first entry right below the original post.\n",
    "* __'subreddit':__ Name of the subreddit where the comment was posted.\n",
    "* __'subreddit_id':__ Unique ID (or full name as refered to in the Rddit API) of the subreddit. Note that those always begin with 't5_'."
   ]
  },
  {
   "cell_type": "markdown",
   "metadata": {},
   "source": [
    "The types of each column:"
   ]
  },
  {
   "cell_type": "code",
   "execution_count": 16,
   "metadata": {
    "scrolled": false
   },
   "outputs": [
    {
     "data": {
      "text/plain": [
       "DataFrame[author: string, subreddit: string, id: string, body: string, created_utc: bigint, score: bigint, controversiality: bigint, pos_sent: string, neg_sent: string, neut_sent: string, compound_sent: string, post_length: string]"
      ]
     },
     "execution_count": 16,
     "metadata": {},
     "output_type": "execute_result"
    }
   ],
   "source": [
    "df_spark.distinct()"
   ]
  },
  {
   "cell_type": "markdown",
   "metadata": {},
   "source": [
    "And the different values of some of the columns (only the relevant ones):"
   ]
  },
  {
   "cell_type": "code",
   "execution_count": 17,
   "metadata": {
    "scrolled": false
   },
   "outputs": [
    {
     "name": "stdout",
     "output_type": "stream",
     "text": [
      "+----------------+\n",
      "|controversiality|\n",
      "+----------------+\n",
      "|               0|\n",
      "|               1|\n",
      "+----------------+\n",
      "\n"
     ]
    }
   ],
   "source": [
    "df_spark[['controversiality']].distinct().show(4)"
   ]
  },
  {
   "cell_type": "code",
   "execution_count": 18,
   "metadata": {},
   "outputs": [
    {
     "ename": "AnalysisException",
     "evalue": "\"cannot resolve '`distinguished`' given input columns: [author, controversiality, id, score, neut_sent, subreddit, pos_sent, neg_sent, created_utc, compound_sent, body, post_length];;\\n'Project ['distinguished]\\n+- Relation[author#87,subreddit#88,id#89,body#90,created_utc#91L,score#92L,controversiality#93L,pos_sent#94,neg_sent#95,neut_sent#96,compound_sent#97,post_length#98] parquet\\n\"",
     "output_type": "error",
     "traceback": [
      "\u001b[1;31m---------------------------------------------------------------------------\u001b[0m",
      "\u001b[1;31mPy4JJavaError\u001b[0m                             Traceback (most recent call last)",
      "\u001b[1;32mC:\\Spark\\spark-2.3.2-bin-hadoop2.7\\python\\pyspark\\sql\\utils.py\u001b[0m in \u001b[0;36mdeco\u001b[1;34m(*a, **kw)\u001b[0m\n\u001b[0;32m     62\u001b[0m         \u001b[1;32mtry\u001b[0m\u001b[1;33m:\u001b[0m\u001b[1;33m\u001b[0m\u001b[1;33m\u001b[0m\u001b[0m\n\u001b[1;32m---> 63\u001b[1;33m             \u001b[1;32mreturn\u001b[0m \u001b[0mf\u001b[0m\u001b[1;33m(\u001b[0m\u001b[1;33m*\u001b[0m\u001b[0ma\u001b[0m\u001b[1;33m,\u001b[0m \u001b[1;33m**\u001b[0m\u001b[0mkw\u001b[0m\u001b[1;33m)\u001b[0m\u001b[1;33m\u001b[0m\u001b[1;33m\u001b[0m\u001b[0m\n\u001b[0m\u001b[0;32m     64\u001b[0m         \u001b[1;32mexcept\u001b[0m \u001b[0mpy4j\u001b[0m\u001b[1;33m.\u001b[0m\u001b[0mprotocol\u001b[0m\u001b[1;33m.\u001b[0m\u001b[0mPy4JJavaError\u001b[0m \u001b[1;32mas\u001b[0m \u001b[0me\u001b[0m\u001b[1;33m:\u001b[0m\u001b[1;33m\u001b[0m\u001b[1;33m\u001b[0m\u001b[0m\n",
      "\u001b[1;32mC:\\Spark\\spark-2.3.2-bin-hadoop2.7\\python\\lib\\py4j-0.10.7-src.zip\\py4j\\protocol.py\u001b[0m in \u001b[0;36mget_return_value\u001b[1;34m(answer, gateway_client, target_id, name)\u001b[0m\n\u001b[0;32m    327\u001b[0m                     \u001b[1;34m\"An error occurred while calling {0}{1}{2}.\\n\"\u001b[0m\u001b[1;33m.\u001b[0m\u001b[1;33m\u001b[0m\u001b[1;33m\u001b[0m\u001b[0m\n\u001b[1;32m--> 328\u001b[1;33m                     format(target_id, \".\", name), value)\n\u001b[0m\u001b[0;32m    329\u001b[0m             \u001b[1;32melse\u001b[0m\u001b[1;33m:\u001b[0m\u001b[1;33m\u001b[0m\u001b[1;33m\u001b[0m\u001b[0m\n",
      "\u001b[1;31mPy4JJavaError\u001b[0m: An error occurred while calling o95.select.\n: org.apache.spark.sql.AnalysisException: cannot resolve '`distinguished`' given input columns: [author, controversiality, id, score, neut_sent, subreddit, pos_sent, neg_sent, created_utc, compound_sent, body, post_length];;\n'Project ['distinguished]\n+- Relation[author#87,subreddit#88,id#89,body#90,created_utc#91L,score#92L,controversiality#93L,pos_sent#94,neg_sent#95,neut_sent#96,compound_sent#97,post_length#98] parquet\n\r\n\tat org.apache.spark.sql.catalyst.analysis.package$AnalysisErrorAt.failAnalysis(package.scala:42)\r\n\tat org.apache.spark.sql.catalyst.analysis.CheckAnalysis$$anonfun$checkAnalysis$1$$anonfun$apply$2.applyOrElse(CheckAnalysis.scala:92)\r\n\tat org.apache.spark.sql.catalyst.analysis.CheckAnalysis$$anonfun$checkAnalysis$1$$anonfun$apply$2.applyOrElse(CheckAnalysis.scala:89)\r\n\tat org.apache.spark.sql.catalyst.trees.TreeNode$$anonfun$transformUp$1.apply(TreeNode.scala:289)\r\n\tat org.apache.spark.sql.catalyst.trees.TreeNode$$anonfun$transformUp$1.apply(TreeNode.scala:289)\r\n\tat org.apache.spark.sql.catalyst.trees.CurrentOrigin$.withOrigin(TreeNode.scala:70)\r\n\tat org.apache.spark.sql.catalyst.trees.TreeNode.transformUp(TreeNode.scala:288)\r\n\tat org.apache.spark.sql.catalyst.plans.QueryPlan$$anonfun$transformExpressionsUp$1.apply(QueryPlan.scala:95)\r\n\tat org.apache.spark.sql.catalyst.plans.QueryPlan$$anonfun$transformExpressionsUp$1.apply(QueryPlan.scala:95)\r\n\tat org.apache.spark.sql.catalyst.plans.QueryPlan$$anonfun$1.apply(QueryPlan.scala:107)\r\n\tat org.apache.spark.sql.catalyst.plans.QueryPlan$$anonfun$1.apply(QueryPlan.scala:107)\r\n\tat org.apache.spark.sql.catalyst.trees.CurrentOrigin$.withOrigin(TreeNode.scala:70)\r\n\tat org.apache.spark.sql.catalyst.plans.QueryPlan.transformExpression$1(QueryPlan.scala:106)\r\n\tat org.apache.spark.sql.catalyst.plans.QueryPlan.org$apache$spark$sql$catalyst$plans$QueryPlan$$recursiveTransform$1(QueryPlan.scala:118)\r\n\tat org.apache.spark.sql.catalyst.plans.QueryPlan$$anonfun$org$apache$spark$sql$catalyst$plans$QueryPlan$$recursiveTransform$1$1.apply(QueryPlan.scala:122)\r\n\tat scala.collection.TraversableLike$$anonfun$map$1.apply(TraversableLike.scala:234)\r\n\tat scala.collection.TraversableLike$$anonfun$map$1.apply(TraversableLike.scala:234)\r\n\tat scala.collection.mutable.ResizableArray$class.foreach(ResizableArray.scala:59)\r\n\tat scala.collection.mutable.ArrayBuffer.foreach(ArrayBuffer.scala:48)\r\n\tat scala.collection.TraversableLike$class.map(TraversableLike.scala:234)\r\n\tat scala.collection.AbstractTraversable.map(Traversable.scala:104)\r\n\tat org.apache.spark.sql.catalyst.plans.QueryPlan.org$apache$spark$sql$catalyst$plans$QueryPlan$$recursiveTransform$1(QueryPlan.scala:122)\r\n\tat org.apache.spark.sql.catalyst.plans.QueryPlan$$anonfun$2.apply(QueryPlan.scala:127)\r\n\tat org.apache.spark.sql.catalyst.trees.TreeNode.mapProductIterator(TreeNode.scala:187)\r\n\tat org.apache.spark.sql.catalyst.plans.QueryPlan.mapExpressions(QueryPlan.scala:127)\r\n\tat org.apache.spark.sql.catalyst.plans.QueryPlan.transformExpressionsUp(QueryPlan.scala:95)\r\n\tat org.apache.spark.sql.catalyst.analysis.CheckAnalysis$$anonfun$checkAnalysis$1.apply(CheckAnalysis.scala:89)\r\n\tat org.apache.spark.sql.catalyst.analysis.CheckAnalysis$$anonfun$checkAnalysis$1.apply(CheckAnalysis.scala:84)\r\n\tat org.apache.spark.sql.catalyst.trees.TreeNode.foreachUp(TreeNode.scala:127)\r\n\tat org.apache.spark.sql.catalyst.analysis.CheckAnalysis$class.checkAnalysis(CheckAnalysis.scala:84)\r\n\tat org.apache.spark.sql.catalyst.analysis.Analyzer.checkAnalysis(Analyzer.scala:92)\r\n\tat org.apache.spark.sql.catalyst.analysis.Analyzer.executeAndCheck(Analyzer.scala:105)\r\n\tat org.apache.spark.sql.execution.QueryExecution.analyzed$lzycompute(QueryExecution.scala:57)\r\n\tat org.apache.spark.sql.execution.QueryExecution.analyzed(QueryExecution.scala:55)\r\n\tat org.apache.spark.sql.execution.QueryExecution.assertAnalyzed(QueryExecution.scala:47)\r\n\tat org.apache.spark.sql.Dataset$.ofRows(Dataset.scala:74)\r\n\tat org.apache.spark.sql.Dataset.org$apache$spark$sql$Dataset$$withPlan(Dataset.scala:3301)\r\n\tat org.apache.spark.sql.Dataset.select(Dataset.scala:1312)\r\n\tat sun.reflect.NativeMethodAccessorImpl.invoke0(Native Method)\r\n\tat sun.reflect.NativeMethodAccessorImpl.invoke(Unknown Source)\r\n\tat sun.reflect.DelegatingMethodAccessorImpl.invoke(Unknown Source)\r\n\tat java.lang.reflect.Method.invoke(Unknown Source)\r\n\tat py4j.reflection.MethodInvoker.invoke(MethodInvoker.java:244)\r\n\tat py4j.reflection.ReflectionEngine.invoke(ReflectionEngine.java:357)\r\n\tat py4j.Gateway.invoke(Gateway.java:282)\r\n\tat py4j.commands.AbstractCommand.invokeMethod(AbstractCommand.java:132)\r\n\tat py4j.commands.CallCommand.execute(CallCommand.java:79)\r\n\tat py4j.GatewayConnection.run(GatewayConnection.java:238)\r\n\tat java.lang.Thread.run(Unknown Source)\r\n",
      "\nDuring handling of the above exception, another exception occurred:\n",
      "\u001b[1;31mAnalysisException\u001b[0m                         Traceback (most recent call last)",
      "\u001b[1;32m<ipython-input-18-8a4312cb3b86>\u001b[0m in \u001b[0;36m<module>\u001b[1;34m\u001b[0m\n\u001b[1;32m----> 1\u001b[1;33m \u001b[0mdf_spark\u001b[0m\u001b[1;33m[\u001b[0m\u001b[1;33m[\u001b[0m\u001b[1;34m'distinguished'\u001b[0m\u001b[1;33m]\u001b[0m\u001b[1;33m]\u001b[0m\u001b[1;33m.\u001b[0m\u001b[0mdistinct\u001b[0m\u001b[1;33m(\u001b[0m\u001b[1;33m)\u001b[0m\u001b[1;33m.\u001b[0m\u001b[0mshow\u001b[0m\u001b[1;33m(\u001b[0m\u001b[1;36m4\u001b[0m\u001b[1;33m)\u001b[0m\u001b[1;33m\u001b[0m\u001b[1;33m\u001b[0m\u001b[0m\n\u001b[0m",
      "\u001b[1;32mC:\\Spark\\spark-2.3.2-bin-hadoop2.7\\python\\pyspark\\sql\\dataframe.py\u001b[0m in \u001b[0;36m__getitem__\u001b[1;34m(self, item)\u001b[0m\n\u001b[0;32m   1164\u001b[0m             \u001b[1;32mreturn\u001b[0m \u001b[0mself\u001b[0m\u001b[1;33m.\u001b[0m\u001b[0mfilter\u001b[0m\u001b[1;33m(\u001b[0m\u001b[0mitem\u001b[0m\u001b[1;33m)\u001b[0m\u001b[1;33m\u001b[0m\u001b[1;33m\u001b[0m\u001b[0m\n\u001b[0;32m   1165\u001b[0m         \u001b[1;32melif\u001b[0m \u001b[0misinstance\u001b[0m\u001b[1;33m(\u001b[0m\u001b[0mitem\u001b[0m\u001b[1;33m,\u001b[0m \u001b[1;33m(\u001b[0m\u001b[0mlist\u001b[0m\u001b[1;33m,\u001b[0m \u001b[0mtuple\u001b[0m\u001b[1;33m)\u001b[0m\u001b[1;33m)\u001b[0m\u001b[1;33m:\u001b[0m\u001b[1;33m\u001b[0m\u001b[1;33m\u001b[0m\u001b[0m\n\u001b[1;32m-> 1166\u001b[1;33m             \u001b[1;32mreturn\u001b[0m \u001b[0mself\u001b[0m\u001b[1;33m.\u001b[0m\u001b[0mselect\u001b[0m\u001b[1;33m(\u001b[0m\u001b[1;33m*\u001b[0m\u001b[0mitem\u001b[0m\u001b[1;33m)\u001b[0m\u001b[1;33m\u001b[0m\u001b[1;33m\u001b[0m\u001b[0m\n\u001b[0m\u001b[0;32m   1167\u001b[0m         \u001b[1;32melif\u001b[0m \u001b[0misinstance\u001b[0m\u001b[1;33m(\u001b[0m\u001b[0mitem\u001b[0m\u001b[1;33m,\u001b[0m \u001b[0mint\u001b[0m\u001b[1;33m)\u001b[0m\u001b[1;33m:\u001b[0m\u001b[1;33m\u001b[0m\u001b[1;33m\u001b[0m\u001b[0m\n\u001b[0;32m   1168\u001b[0m             \u001b[0mjc\u001b[0m \u001b[1;33m=\u001b[0m \u001b[0mself\u001b[0m\u001b[1;33m.\u001b[0m\u001b[0m_jdf\u001b[0m\u001b[1;33m.\u001b[0m\u001b[0mapply\u001b[0m\u001b[1;33m(\u001b[0m\u001b[0mself\u001b[0m\u001b[1;33m.\u001b[0m\u001b[0mcolumns\u001b[0m\u001b[1;33m[\u001b[0m\u001b[0mitem\u001b[0m\u001b[1;33m]\u001b[0m\u001b[1;33m)\u001b[0m\u001b[1;33m\u001b[0m\u001b[1;33m\u001b[0m\u001b[0m\n",
      "\u001b[1;32mC:\\Spark\\spark-2.3.2-bin-hadoop2.7\\python\\pyspark\\sql\\dataframe.py\u001b[0m in \u001b[0;36mselect\u001b[1;34m(self, *cols)\u001b[0m\n\u001b[0;32m   1200\u001b[0m         \u001b[1;33m[\u001b[0m\u001b[0mRow\u001b[0m\u001b[1;33m(\u001b[0m\u001b[0mname\u001b[0m\u001b[1;33m=\u001b[0m\u001b[1;34mu'Alice'\u001b[0m\u001b[1;33m,\u001b[0m \u001b[0mage\u001b[0m\u001b[1;33m=\u001b[0m\u001b[1;36m12\u001b[0m\u001b[1;33m)\u001b[0m\u001b[1;33m,\u001b[0m \u001b[0mRow\u001b[0m\u001b[1;33m(\u001b[0m\u001b[0mname\u001b[0m\u001b[1;33m=\u001b[0m\u001b[1;34mu'Bob'\u001b[0m\u001b[1;33m,\u001b[0m \u001b[0mage\u001b[0m\u001b[1;33m=\u001b[0m\u001b[1;36m15\u001b[0m\u001b[1;33m)\u001b[0m\u001b[1;33m]\u001b[0m\u001b[1;33m\u001b[0m\u001b[1;33m\u001b[0m\u001b[0m\n\u001b[0;32m   1201\u001b[0m         \"\"\"\n\u001b[1;32m-> 1202\u001b[1;33m         \u001b[0mjdf\u001b[0m \u001b[1;33m=\u001b[0m \u001b[0mself\u001b[0m\u001b[1;33m.\u001b[0m\u001b[0m_jdf\u001b[0m\u001b[1;33m.\u001b[0m\u001b[0mselect\u001b[0m\u001b[1;33m(\u001b[0m\u001b[0mself\u001b[0m\u001b[1;33m.\u001b[0m\u001b[0m_jcols\u001b[0m\u001b[1;33m(\u001b[0m\u001b[1;33m*\u001b[0m\u001b[0mcols\u001b[0m\u001b[1;33m)\u001b[0m\u001b[1;33m)\u001b[0m\u001b[1;33m\u001b[0m\u001b[1;33m\u001b[0m\u001b[0m\n\u001b[0m\u001b[0;32m   1203\u001b[0m         \u001b[1;32mreturn\u001b[0m \u001b[0mDataFrame\u001b[0m\u001b[1;33m(\u001b[0m\u001b[0mjdf\u001b[0m\u001b[1;33m,\u001b[0m \u001b[0mself\u001b[0m\u001b[1;33m.\u001b[0m\u001b[0msql_ctx\u001b[0m\u001b[1;33m)\u001b[0m\u001b[1;33m\u001b[0m\u001b[1;33m\u001b[0m\u001b[0m\n\u001b[0;32m   1204\u001b[0m \u001b[1;33m\u001b[0m\u001b[0m\n",
      "\u001b[1;32mC:\\Spark\\spark-2.3.2-bin-hadoop2.7\\python\\lib\\py4j-0.10.7-src.zip\\py4j\\java_gateway.py\u001b[0m in \u001b[0;36m__call__\u001b[1;34m(self, *args)\u001b[0m\n\u001b[0;32m   1255\u001b[0m         \u001b[0manswer\u001b[0m \u001b[1;33m=\u001b[0m \u001b[0mself\u001b[0m\u001b[1;33m.\u001b[0m\u001b[0mgateway_client\u001b[0m\u001b[1;33m.\u001b[0m\u001b[0msend_command\u001b[0m\u001b[1;33m(\u001b[0m\u001b[0mcommand\u001b[0m\u001b[1;33m)\u001b[0m\u001b[1;33m\u001b[0m\u001b[1;33m\u001b[0m\u001b[0m\n\u001b[0;32m   1256\u001b[0m         return_value = get_return_value(\n\u001b[1;32m-> 1257\u001b[1;33m             answer, self.gateway_client, self.target_id, self.name)\n\u001b[0m\u001b[0;32m   1258\u001b[0m \u001b[1;33m\u001b[0m\u001b[0m\n\u001b[0;32m   1259\u001b[0m         \u001b[1;32mfor\u001b[0m \u001b[0mtemp_arg\u001b[0m \u001b[1;32min\u001b[0m \u001b[0mtemp_args\u001b[0m\u001b[1;33m:\u001b[0m\u001b[1;33m\u001b[0m\u001b[1;33m\u001b[0m\u001b[0m\n",
      "\u001b[1;32mC:\\Spark\\spark-2.3.2-bin-hadoop2.7\\python\\pyspark\\sql\\utils.py\u001b[0m in \u001b[0;36mdeco\u001b[1;34m(*a, **kw)\u001b[0m\n\u001b[0;32m     67\u001b[0m                                              e.java_exception.getStackTrace()))\n\u001b[0;32m     68\u001b[0m             \u001b[1;32mif\u001b[0m \u001b[0ms\u001b[0m\u001b[1;33m.\u001b[0m\u001b[0mstartswith\u001b[0m\u001b[1;33m(\u001b[0m\u001b[1;34m'org.apache.spark.sql.AnalysisException: '\u001b[0m\u001b[1;33m)\u001b[0m\u001b[1;33m:\u001b[0m\u001b[1;33m\u001b[0m\u001b[1;33m\u001b[0m\u001b[0m\n\u001b[1;32m---> 69\u001b[1;33m                 \u001b[1;32mraise\u001b[0m \u001b[0mAnalysisException\u001b[0m\u001b[1;33m(\u001b[0m\u001b[0ms\u001b[0m\u001b[1;33m.\u001b[0m\u001b[0msplit\u001b[0m\u001b[1;33m(\u001b[0m\u001b[1;34m': '\u001b[0m\u001b[1;33m,\u001b[0m \u001b[1;36m1\u001b[0m\u001b[1;33m)\u001b[0m\u001b[1;33m[\u001b[0m\u001b[1;36m1\u001b[0m\u001b[1;33m]\u001b[0m\u001b[1;33m,\u001b[0m \u001b[0mstackTrace\u001b[0m\u001b[1;33m)\u001b[0m\u001b[1;33m\u001b[0m\u001b[1;33m\u001b[0m\u001b[0m\n\u001b[0m\u001b[0;32m     70\u001b[0m             \u001b[1;32mif\u001b[0m \u001b[0ms\u001b[0m\u001b[1;33m.\u001b[0m\u001b[0mstartswith\u001b[0m\u001b[1;33m(\u001b[0m\u001b[1;34m'org.apache.spark.sql.catalyst.analysis'\u001b[0m\u001b[1;33m)\u001b[0m\u001b[1;33m:\u001b[0m\u001b[1;33m\u001b[0m\u001b[1;33m\u001b[0m\u001b[0m\n\u001b[0;32m     71\u001b[0m                 \u001b[1;32mraise\u001b[0m \u001b[0mAnalysisException\u001b[0m\u001b[1;33m(\u001b[0m\u001b[0ms\u001b[0m\u001b[1;33m.\u001b[0m\u001b[0msplit\u001b[0m\u001b[1;33m(\u001b[0m\u001b[1;34m': '\u001b[0m\u001b[1;33m,\u001b[0m \u001b[1;36m1\u001b[0m\u001b[1;33m)\u001b[0m\u001b[1;33m[\u001b[0m\u001b[1;36m1\u001b[0m\u001b[1;33m]\u001b[0m\u001b[1;33m,\u001b[0m \u001b[0mstackTrace\u001b[0m\u001b[1;33m)\u001b[0m\u001b[1;33m\u001b[0m\u001b[1;33m\u001b[0m\u001b[0m\n",
      "\u001b[1;31mAnalysisException\u001b[0m: \"cannot resolve '`distinguished`' given input columns: [author, controversiality, id, score, neut_sent, subreddit, pos_sent, neg_sent, created_utc, compound_sent, body, post_length];;\\n'Project ['distinguished]\\n+- Relation[author#87,subreddit#88,id#89,body#90,created_utc#91L,score#92L,controversiality#93L,pos_sent#94,neg_sent#95,neut_sent#96,compound_sent#97,post_length#98] parquet\\n\""
     ]
    }
   ],
   "source": [
    "df_spark[['distinguished']].distinct().show(4)"
   ]
  },
  {
   "cell_type": "code",
   "execution_count": null,
   "metadata": {
    "scrolled": true
   },
   "outputs": [],
   "source": [
    "df_spark[['edited']].distinct().show(2)"
   ]
  },
  {
   "cell_type": "code",
   "execution_count": null,
   "metadata": {},
   "outputs": [],
   "source": [
    "df_spark[['link_id']].distinct().orderBy(desc(\"link_id\")).show(3)"
   ]
  },
  {
   "cell_type": "code",
   "execution_count": null,
   "metadata": {},
   "outputs": [],
   "source": [
    "df_spark[['score']].orderBy(asc('score')).show(3)"
   ]
  },
  {
   "cell_type": "markdown",
   "metadata": {},
   "source": [
    "Number of subreddits in our 1% sample:"
   ]
  },
  {
   "cell_type": "code",
   "execution_count": null,
   "metadata": {
    "scrolled": true
   },
   "outputs": [],
   "source": [
    "df_spark[['subreddit_id']].distinct().count()"
   ]
  },
  {
   "cell_type": "markdown",
   "metadata": {},
   "source": [
    "Number of controversial comments in our 1% sample:"
   ]
  },
  {
   "cell_type": "code",
   "execution_count": null,
   "metadata": {},
   "outputs": [],
   "source": [
    "df_spark.filter('controversiality = 1').count()"
   ]
  },
  {
   "cell_type": "markdown",
   "metadata": {},
   "source": [
    "For most of the local processing we will use pandas as it is easier. By the time our data pieces will be filtered and small enough to not run into memory constraints. Using pyarrow we can read parquet files directly into pandas dataframes."
   ]
  },
  {
   "cell_type": "markdown",
   "metadata": {},
   "source": [
    "conda install pyarrow, we get an error if we try to transform the spark dataframe"
   ]
  },
  {
   "cell_type": "code",
   "execution_count": 5,
   "metadata": {
    "scrolled": true
   },
   "outputs": [],
   "source": [
    "df_pd = pd.read_parquet(DATA_DIR + \"sliced_2017_posts.parquet\")"
   ]
  },
  {
   "cell_type": "markdown",
   "metadata": {},
   "source": [
    "We will now print out some basic properties and stats about our 1% data sample."
   ]
  },
  {
   "cell_type": "code",
   "execution_count": null,
   "metadata": {
    "scrolled": true
   },
   "outputs": [],
   "source": [
    "df_pd.head(2)"
   ]
  },
  {
   "cell_type": "code",
   "execution_count": null,
   "metadata": {
    "scrolled": true
   },
   "outputs": [],
   "source": [
    "df_pd[['controversiality', 'distinguished', 'edited', 'parent_id']].values"
   ]
  },
  {
   "cell_type": "code",
   "execution_count": null,
   "metadata": {
    "scrolled": false
   },
   "outputs": [],
   "source": [
    "df_pd.shape"
   ]
  },
  {
   "cell_type": "code",
   "execution_count": null,
   "metadata": {},
   "outputs": [],
   "source": [
    "len(df_pd['id'].unique())"
   ]
  },
  {
   "cell_type": "markdown",
   "metadata": {},
   "source": [
    "From the two cells above we can confirm that the `id` is unique."
   ]
  },
  {
   "cell_type": "code",
   "execution_count": null,
   "metadata": {
    "scrolled": true
   },
   "outputs": [],
   "source": [
    "df_pd['subreddit'].value_counts().to_frame().hist(bins=[10,100,1000,2000,3000,10000]);"
   ]
  },
  {
   "cell_type": "markdown",
   "metadata": {},
   "source": [
    "As we can see from the histogram above, a lot of the subreddits have only 1 comment. Hence these subreddits will be considered as outliers, as we feel they do will not help us in our eco-chamber calculations."
   ]
  },
  {
   "cell_type": "markdown",
   "metadata": {},
   "source": [
    "We need to decide a threshold for the number of comments per subreddit. Subreddits below that threshold will not bring us much if not any information in our calculations for milestone 3."
   ]
  },
  {
   "cell_type": "code",
   "execution_count": null,
   "metadata": {},
   "outputs": [],
   "source": [
    "df_pd.dtypes"
   ]
  },
  {
   "cell_type": "markdown",
   "metadata": {},
   "source": [
    "### Statistics on the cluster"
   ]
  },
  {
   "cell_type": "markdown",
   "metadata": {},
   "source": [
    "In this part we show what we can do some of the above operations on a bigger dataset (10% of the 2016 reddit comments). Firstly we will show the functions we will use to obtain simple statistics. In the next part we will export these commands onto a python script (script/stats.py) and run them on the 10% sampled 2016 reddit comments."
   ]
  },
  {
   "cell_type": "markdown",
   "metadata": {},
   "source": [
    "The stats below are done on the 1% sample of the 2016 reddit comments. But they were just done in order to find the right functions."
   ]
  },
  {
   "cell_type": "code",
   "execution_count": null,
   "metadata": {},
   "outputs": [],
   "source": [
    "total_n_comments = df_spark.count()\n",
    "total_n_comments"
   ]
  },
  {
   "cell_type": "markdown",
   "metadata": {},
   "source": [
    "First we compute the number of removed comments (A comment has been removed when its body is \"[deleted]\")"
   ]
  },
  {
   "cell_type": "code",
   "execution_count": null,
   "metadata": {
    "scrolled": true
   },
   "outputs": [],
   "source": [
    "n_deleted_comments = df_spark.filter('body = \"[deleted]\"').count()\n",
    "n_deleted_comments "
   ]
  },
  {
   "cell_type": "markdown",
   "metadata": {},
   "source": [
    "The percentage of comments that are \"removed\" according to the above criteria."
   ]
  },
  {
   "cell_type": "code",
   "execution_count": null,
   "metadata": {},
   "outputs": [],
   "source": [
    "percentage_deleted_comments = 100 * n_deleted_comments  / total_n_comments\n",
    "percentage_deleted_comments"
   ]
  },
  {
   "cell_type": "markdown",
   "metadata": {},
   "source": [
    "And the number of comments posted by removed users (Users who have removed their account after post the comment)"
   ]
  },
  {
   "cell_type": "code",
   "execution_count": null,
   "metadata": {
    "scrolled": true
   },
   "outputs": [],
   "source": [
    "comments_by_removed_users = df_spark.filter('author = \"[deleted]\"').count()\n",
    "comments_by_removed_users"
   ]
  },
  {
   "cell_type": "markdown",
   "metadata": {},
   "source": [
    "The percentage of comments that were posted by \"removed\" users according to the above criteria."
   ]
  },
  {
   "cell_type": "code",
   "execution_count": null,
   "metadata": {
    "scrolled": true
   },
   "outputs": [],
   "source": [
    "percentage_by_dl_user = 100 * comments_by_removed_users / total_n_comments\n",
    "percentage_by_dl_user"
   ]
  },
  {
   "cell_type": "markdown",
   "metadata": {},
   "source": [
    "Now we see the total number of controversial comments and the percentage of them:"
   ]
  },
  {
   "cell_type": "code",
   "execution_count": null,
   "metadata": {},
   "outputs": [],
   "source": [
    "n_controversial_comments = df_spark.filter('controversiality = 1').count()\n",
    "n_controversial_comments"
   ]
  },
  {
   "cell_type": "code",
   "execution_count": null,
   "metadata": {
    "scrolled": true
   },
   "outputs": [],
   "source": [
    "perc_controversial_comments = 100 * n_controversial_comments / total_n_comments\n",
    "perc_controversial_comments"
   ]
  },
  {
   "cell_type": "markdown",
   "metadata": {},
   "source": [
    "Having easily computed this percentages, we now get a dataframe with the number of comments per subrredit in order to plot the distribution:"
   ]
  },
  {
   "cell_type": "code",
   "execution_count": null,
   "metadata": {},
   "outputs": [],
   "source": [
    "#Total number of subreddits:\n",
    "df_spark[['subreddit']].distinct().count()"
   ]
  },
  {
   "cell_type": "code",
   "execution_count": null,
   "metadata": {},
   "outputs": [],
   "source": [
    "df_subreddit_count = df_spark.groupBy('subreddit').agg(count('*')).withColumnRenamed('count(1)', 'Number of comments')\n",
    "df_subreddit_count"
   ]
  },
  {
   "cell_type": "code",
   "execution_count": null,
   "metadata": {
    "scrolled": false
   },
   "outputs": [],
   "source": [
    "df_subreddit_count.show(2)"
   ]
  },
  {
   "cell_type": "markdown",
   "metadata": {},
   "source": [
    "We have not analyzed the statistics above as they are merely there for us to find the right functions to use wth the cluster."
   ]
  },
  {
   "cell_type": "markdown",
   "metadata": {},
   "source": [
    "We will now show the stats with a bigger dataset (10% of the 2016 reddit comments)."
   ]
  },
  {
   "cell_type": "markdown",
   "metadata": {},
   "source": [
    "The pipeline we used is the following:\n",
    "1. We first read all of the data in the 2016 .bz2 compressed files and sampled 10% of it to run our querries with the cluster (`script/read_data_original.py`)\n",
    "2. We then sampled another 10% to obtain 1% of the 2016 reddit comments that we played with above (`scripts/read_data.py`)\n",
    "3. Once we found the correct form for our querries on the smaller dataset, we ran them with cluster on the larger dataset (`scripts/`) and saved them to smaller sized parquet files.\n",
    "4. We then imported these smaller parquet files into our local machine and read them and transformed them to pandas dataframes in order to plot the graphs."
   ]
  },
  {
   "cell_type": "markdown",
   "metadata": {},
   "source": [
    "The above stats were obtained using `scripts/stats.py` with cluster. The stats were saved in a text file (`data/stats.txt`). "
   ]
  },
  {
   "cell_type": "markdown",
   "metadata": {},
   "source": [
    "Total number of comments: 79998223  \n",
    "Number of deleted comments: 3414381  \n",
    "% of deleted comments: 4  \n",
    "Number of comments by removed users: 5706216  \n",
    "% comments by deleted users: 7  \n",
    "Number of controversial comments: 1770571  \n",
    "% of controversial comments: 2  \n",
    "Number of subreddits: 131028  "
   ]
  },
  {
   "cell_type": "markdown",
   "metadata": {},
   "source": [
    "We first decided to have a look at the number of querries per subreddit (`scripts/stats.py`)"
   ]
  },
  {
   "cell_type": "code",
   "execution_count": null,
   "metadata": {},
   "outputs": [],
   "source": [
    "df_subreddit_count = spark.read.parquet(DATA_DIR + 'df_subreddit_count.parquet')"
   ]
  },
  {
   "cell_type": "code",
   "execution_count": null,
   "metadata": {},
   "outputs": [],
   "source": [
    "df_subreddit_count.show(3)"
   ]
  },
  {
   "cell_type": "code",
   "execution_count": null,
   "metadata": {},
   "outputs": [],
   "source": [
    "df_subreddit_count.toPandas().shape"
   ]
  },
  {
   "cell_type": "markdown",
   "metadata": {},
   "source": [
    "Let us now plot the 10 most 'popular' (commented) subbreddits. As they are the ones to give us the most information in our future calculations."
   ]
  },
  {
   "cell_type": "code",
   "execution_count": null,
   "metadata": {
    "scrolled": true
   },
   "outputs": [],
   "source": [
    "df_tmp = df_subreddit_count.toPandas().sort_values(by = \"Number_of_comments\", ascending = False).iloc[:10,:]\n",
    "df_tmp.plot(kind='barh',x = \"subreddit\", y = \"Number_of_comments\",legend = None)\n",
    "plt.title('10 most popular (commented) subbreddits')\n",
    "plt.xlabel('number of comments');\n",
    "plt.ylabel('subreddits');"
   ]
  },
  {
   "cell_type": "markdown",
   "metadata": {},
   "source": [
    "And now 10 least popular subreddits, as they will potentially be removed."
   ]
  },
  {
   "cell_type": "code",
   "execution_count": null,
   "metadata": {},
   "outputs": [],
   "source": [
    "df_tmp = df_subreddit_count.toPandas().sort_values(by = \"Number_of_comments\", ascending = True).iloc[:10,:]\n",
    "df_tmp.plot(kind='barh',x = \"subreddit\", y = \"Number_of_comments\", legend = None);\n",
    "plt.title('10 least popular subreddits')\n",
    "plt.xlabel('number of comments');"
   ]
  },
  {
   "cell_type": "markdown",
   "metadata": {},
   "source": [
    "As we can see the last 10 all have exactly 1 comment."
   ]
  },
  {
   "cell_type": "markdown",
   "metadata": {},
   "source": [
    "Let us now try to see how many subreddits have 1 comment."
   ]
  },
  {
   "cell_type": "code",
   "execution_count": null,
   "metadata": {},
   "outputs": [],
   "source": [
    "df_subreddit_count_pd = df_subreddit_count.toPandas()"
   ]
  },
  {
   "cell_type": "code",
   "execution_count": null,
   "metadata": {},
   "outputs": [],
   "source": [
    "n_subreddits_per_comment = df_subreddit_count_pd.groupby('Number_of_comments').count()"
   ]
  },
  {
   "cell_type": "code",
   "execution_count": null,
   "metadata": {},
   "outputs": [],
   "source": [
    "n_subreddits_per_comment.head()"
   ]
  },
  {
   "cell_type": "code",
   "execution_count": null,
   "metadata": {},
   "outputs": [],
   "source": [
    "n_subreddits_per_comment.hist(bins = [1,10,100,1000]);\n",
    "plt.title('Histogram showing the comment frequecy');"
   ]
  },
  {
   "cell_type": "markdown",
   "metadata": {},
   "source": [
    "As we can see a lot of the subreddits have 1 comment, hence removing these will reduce the size of our dataset."
   ]
  },
  {
   "cell_type": "markdown",
   "metadata": {},
   "source": [
    "Let us now analyze the controversiality of the comments (`script/stats.py`)"
   ]
  },
  {
   "cell_type": "code",
   "execution_count": null,
   "metadata": {
    "scrolled": true
   },
   "outputs": [],
   "source": [
    "df_controversial_per_subr_count = spark.read.parquet(DATA_DIR + \"df_controversial_per_subr_count.parquet\")\n",
    "df_controversial_per_subr_count.show(2)"
   ]
  },
  {
   "cell_type": "code",
   "execution_count": null,
   "metadata": {},
   "outputs": [],
   "source": [
    "df_controversial_per_subr_count_pd = df_controversial_per_subr_count.toPandas()"
   ]
  },
  {
   "cell_type": "markdown",
   "metadata": {},
   "source": [
    "10 most controversial subreddits"
   ]
  },
  {
   "cell_type": "code",
   "execution_count": null,
   "metadata": {},
   "outputs": [],
   "source": [
    "df_controversial_per_subr_count_pd.sort_values(by='N_controversial_comments',ascending=False).iloc[:10,:].plot(kind='barh',x='subreddit',y='N_controversial_comments',legend=None);\n",
    "plt.title('10 most controversial subreddits');\n",
    "plt.xlabel('Number of controversial comments');"
   ]
  },
  {
   "cell_type": "markdown",
   "metadata": {},
   "source": [
    "10 least controversial subreddits"
   ]
  },
  {
   "cell_type": "code",
   "execution_count": null,
   "metadata": {},
   "outputs": [],
   "source": [
    "df_controversial_per_subr_count_pd.sort_values(by='N_controversial_comments',ascending=True).iloc[:10,:].plot(kind='barh',x='subreddit',y='N_controversial_comments',legend = None)\n",
    "plt.title('10 least controversial subreddits');\n",
    "plt.xlabel('number of controversial comments');"
   ]
  },
  {
   "cell_type": "code",
   "execution_count": null,
   "metadata": {},
   "outputs": [],
   "source": [
    "df_controversial_per_subr_count_pd.groupby('N_controversial_comments').count().hist(bins=[1,10,100,1000])"
   ]
  },
  {
   "cell_type": "markdown",
   "metadata": {},
   "source": [
    "As we can see in the graph for most popular subbreddits (comments and controversial comments), some of the most popular subreddits are also some of the most controversial ones (askreddit, worldnews, politics,...) Hence there might be a correlation between the number of comments and controversiality."
   ]
  },
  {
   "cell_type": "code",
   "execution_count": null,
   "metadata": {
    "scrolled": true
   },
   "outputs": [],
   "source": [
    "df_corr_contr_comm.show(3)"
   ]
  },
  {
   "cell_type": "code",
   "execution_count": null,
   "metadata": {},
   "outputs": [],
   "source": [
    "df_corr_contr_comm.corr(\"N_controversial_comments\",\"Number_of_comments\")"
   ]
  },
  {
   "cell_type": "markdown",
   "metadata": {},
   "source": [
    "We see there is a correlation between popularity and controversiality, what could be a good factor for our analysis of the echo-chambing effect."
   ]
  },
  {
   "cell_type": "markdown",
   "metadata": {},
   "source": [
    "Let us now plot a stacked bar chart to see the ratio of controversial to non controversial comments per subreddits."
   ]
  },
  {
   "cell_type": "code",
   "execution_count": null,
   "metadata": {},
   "outputs": [],
   "source": [
    "df_created_utc = spark.read.parquet(DATA_DIR + \"df_comments_per_month.parquet\")"
   ]
  },
  {
   "cell_type": "code",
   "execution_count": null,
   "metadata": {},
   "outputs": [],
   "source": [
    "df_created_utc_pd = df_created_utc.toPandas()"
   ]
  },
  {
   "cell_type": "code",
   "execution_count": null,
   "metadata": {},
   "outputs": [],
   "source": [
    "df_created_utc_pd = df_created_utc_pd.iloc[:12,:].merge(df_created_utc_pd.iloc[12:,:], right_on = 'count', left_on = 'count')\n",
    "df_created_utc_pd = df_created_utc_pd[['month_y','month_x','count']]\n",
    "df_created_utc_pd.columns = ['month_int','month_string','n_of_comments']\n",
    "df_created_utc_pd = df_created_utc_pd.sort_values(by='month_int',ascending=True)"
   ]
  },
  {
   "cell_type": "code",
   "execution_count": null,
   "metadata": {},
   "outputs": [],
   "source": [
    "df_created_utc_controversial = spark.read.parquet(DATA_DIR + \"df_created_utc_controversial.parquet\")"
   ]
  },
  {
   "cell_type": "code",
   "execution_count": null,
   "metadata": {},
   "outputs": [],
   "source": [
    "df_created_utc_controversial_pd = df_created_utc_controversial.toPandas()\n",
    "df_created_utc_controversial_pd.sort_values(by=\"month\",ascending=True)\n",
    "df_created_utc_controversial_pd.columns = ['month_int','n_of_controversial']"
   ]
  },
  {
   "cell_type": "code",
   "execution_count": null,
   "metadata": {},
   "outputs": [],
   "source": [
    "df_created_utc_non_controversial = spark.read.parquet(DATA_DIR + \"df_created_utc_non_controversial.parquet\")"
   ]
  },
  {
   "cell_type": "code",
   "execution_count": null,
   "metadata": {},
   "outputs": [],
   "source": [
    "df_created_utc_non_controversial_pd = df_created_utc_non_controversial.toPandas()\n",
    "df_created_utc_non_controversial_pd = df_created_utc_non_controversial_pd.sort_values(by='month',ascending=True)\n",
    "df_created_utc_non_controversial_pd.columns = ['month_int','n_of_non_controversial']"
   ]
  },
  {
   "cell_type": "code",
   "execution_count": null,
   "metadata": {},
   "outputs": [],
   "source": [
    "df_created_utc_pd = df_created_utc_pd.merge(df_created_utc_controversial_pd,left_on='month_int',right_on = 'month_int')\n",
    "df_created_utc_pd = df_created_utc_pd.merge(df_created_utc_non_controversial_pd,left_on='month_int',right_on = 'month_int')"
   ]
  },
  {
   "cell_type": "code",
   "execution_count": null,
   "metadata": {},
   "outputs": [],
   "source": [
    "df_created_utc_pd"
   ]
  },
  {
   "cell_type": "code",
   "execution_count": null,
   "metadata": {
    "scrolled": true
   },
   "outputs": [],
   "source": [
    "df_created_utc_pd[['n_of_controversial','n_of_non_controversial']].plot(kind='bar', stacked=True);"
   ]
  },
  {
   "cell_type": "markdown",
   "metadata": {},
   "source": [
    "As we can see for each month in 2016 the number of non controversial comments outweigh the number of controversial comments."
   ]
  },
  {
   "cell_type": "markdown",
   "metadata": {},
   "source": [
    "### Natural Language Processing\n",
    "\n",
    "As a final step wiithin milestone 2, below are our first steps with NLP, basically trying out the sugested libraries. Here's a reference with some more libraries https://elitedatascience.com/python-nlp-libraries\n",
    "\n",
    "To use this libraries in a simple way and in order to execute queries quickly we are going to study now just the comments of one of the subreddits of the sample, \"The_Donald\"."
   ]
  },
  {
   "cell_type": "code",
   "execution_count": null,
   "metadata": {},
   "outputs": [],
   "source": [
    "df_nlp = df_pd[df_pd[\"subreddit\"] == \"The_Donald\"].sample(10000)"
   ]
  },
  {
   "cell_type": "code",
   "execution_count": null,
   "metadata": {
    "scrolled": true
   },
   "outputs": [],
   "source": [
    "df_nlp.shape"
   ]
  },
  {
   "cell_type": "markdown",
   "metadata": {},
   "source": [
    "### spaCy\n",
    "\n",
    "spaCy allows us to find named entities, thus identying the topic(s) of a post or discussion. spaCy can be found here https://spacy.io/ with instructions for installing here https://spacy.io/usage/"
   ]
  },
  {
   "cell_type": "code",
   "execution_count": null,
   "metadata": {},
   "outputs": [],
   "source": [
    "# For the installation: Execute in the anaconda prompt:\n",
    "# pip install spacy\n",
    "# python -m spacy download en_core_web_sm #(With admin permissions)\n",
    "import spacy"
   ]
  },
  {
   "cell_type": "markdown",
   "metadata": {},
   "source": [
    "spaCy features an extremely fast statistical entity recognition system, that assigns labels to contiguous spans of tokens. The default model identifies a variety of named and numeric entities, including companies, locations, organizations and products. You can add arbitrary classes to the entity recognition system, and update the model with new examples."
   ]
  },
  {
   "cell_type": "markdown",
   "metadata": {},
   "source": [
    "From this library we are going to use the \"Named Entity Recognition\" functionality:\n",
    "\n",
    "A named entity is a \"real-world object\" that's assigned a name – for example, a person, a country, a product or a book title. spaCy can recognise various types of named entities in a document, by asking the model for a prediction. Because models are statistical and strongly depend on the examples they were trained on, this doesn't always work perfectly and might need some tuning later, depending on your use case.\n",
    "\n",
    "Named entities are available as the ents property of a Doc:"
   ]
  },
  {
   "cell_type": "code",
   "execution_count": null,
   "metadata": {
    "scrolled": true
   },
   "outputs": [],
   "source": [
    "nlp = spacy.load('en_core_web_sm')\n",
    "doc = nlp(u'Apple is looking at buying U.K. startup for $1 billion')\n",
    "for ent in doc.ents:\n",
    "    print(ent.text, ent.start_char, ent.end_char, ent.label_)"
   ]
  },
  {
   "cell_type": "markdown",
   "metadata": {},
   "source": [
    "Having done this simple query, let's see which are the usuals named entities of the \"The_Donald\" subreddit comments. \n",
    "\n",
    "Note: We have done this grammatical analysis using the function npl.pipe, in order to make faster the execution."
   ]
  },
  {
   "cell_type": "code",
   "execution_count": null,
   "metadata": {},
   "outputs": [],
   "source": [
    "tags = []\n",
    "for doc in nlp.pipe(df_nlp[\"body\"].astype('unicode').values, batch_size=50,\n",
    "                        n_threads=4):\n",
    "    if doc.is_parsed:\n",
    "        tags.append([ent.label_ for ent in doc.ents])\n"
   ]
  },
  {
   "cell_type": "code",
   "execution_count": null,
   "metadata": {},
   "outputs": [],
   "source": [
    "tags = [val for sublist in tags for val in sublist]  #From a list of lists to a list"
   ]
  },
  {
   "cell_type": "code",
   "execution_count": null,
   "metadata": {
    "scrolled": true
   },
   "outputs": [],
   "source": [
    "df_npl_pd = pd.DataFrame(tags, columns=[\"tags\"])\n",
    "tags_count = df_npl_pd.tags.value_counts().sort_values(ascending=False)\n",
    "tags_count.head(5)"
   ]
  },
  {
   "cell_type": "markdown",
   "metadata": {},
   "source": [
    "So we see that the most popular tags in this subreddit are  ORG, PERSON, GPE, NORP and DATE. Below you can see the meaning of each tag:\n",
    "* PERSON\tPeople, including fictional.\n",
    "* NORP\tNationalities or religious or political groups.\n",
    "* FAC\tBuildings, airports, highways, bridges, etc.\n",
    "* ORG\tCompanies, agencies, institutions, etc.\n",
    "* GPE\tCountries, cities, states.\n",
    "* LOC\tNon-GPE locations, mountain ranges, bodies of water.\n",
    "* PRODUCT\tObjects, vehicles, foods, etc. (Not services.)\n",
    "* EVENT\tNamed hurricanes, battles, wars, sports events, etc.\n",
    "* WORK_OF_ART\tTitles of books, songs, etc.\n",
    "* LAW\tNamed documents made into laws.\n",
    "* LANGUAGE\tAny named language.\n",
    "* DATE\tAbsolute or relative dates or periods.\n",
    "* TIME\tTimes smaller than a day.\n",
    "* PERCENT\tPercentage, including \"%\".\n",
    "* MONEY\tMonetary values, including unit.\n",
    "* QUANTITY\tMeasurements, as of weight or distance.\n",
    "* ORDINAL\t\"first\", \"second\", etc.\n",
    "* CARDINAL\tNumerals that do not fall under another type."
   ]
  },
  {
   "cell_type": "markdown",
   "metadata": {},
   "source": [
    "Finally we plot the appearances of each tag in the sample studied:"
   ]
  },
  {
   "cell_type": "code",
   "execution_count": null,
   "metadata": {},
   "outputs": [],
   "source": [
    "df_tags_count = pd.DataFrame(tags_count).reset_index()\n",
    "df_tags_count.columns=[\"Tags\", \"Appearances\"]\n",
    "df_tags_count.set_index(\"Tags\")\n",
    "\n",
    "df_tags_count.plot(kind=\"barh\", x = \"Tags\", y = \"Appearances\")"
   ]
  },
  {
   "cell_type": "markdown",
   "metadata": {},
   "source": [
    "### TextBlob\n",
    "\n",
    "TextBlob allows for sentiment analysis, translation, and more\n",
    "\n",
    "TextBlob can be found here https://textblob.readthedocs.io/en/dev/ with installation instructions here https://textblob.readthedocs.io/en/dev/install.html"
   ]
  },
  {
   "cell_type": "code",
   "execution_count": null,
   "metadata": {},
   "outputs": [],
   "source": [
    "from textblob import TextBlob"
   ]
  },
  {
   "cell_type": "markdown",
   "metadata": {},
   "source": [
    "We try the sentiment analysis this library offers:"
   ]
  },
  {
   "cell_type": "markdown",
   "metadata": {},
   "source": [
    "The sentiment property returns a namedtuple of the form Sentiment(polarity, subjectivity). The polarity score is a float within the range [-1.0, 1.0]. The subjectivity is a float within the range [0.0, 1.0] where 0.0 is very objective and 1.0 is very subjective.\n",
    "```\n",
    " testimonial = TextBlob(\"Textblob is amazingly simple to use. What great fun!\")\n",
    " testimonial.sentiment\n",
    " Output: Sentiment(polarity=0.39166666666666666, subjectivity=0.4357142857142857)\n",
    " testimonial.sentiment.polarity\n",
    "0.39166666666666666\n",
    "\n",
    "```"
   ]
  },
  {
   "cell_type": "markdown",
   "metadata": {},
   "source": [
    "Now let's try to see how is the sentiment analysis of the \"The_Donald\" subreddit comments. We have added two columns to the original data frame, one with the polarity measured and the other with the other with the subjectivity."
   ]
  },
  {
   "cell_type": "code",
   "execution_count": null,
   "metadata": {},
   "outputs": [],
   "source": [
    "df_nlp['sentiment_polarity'] = df_nlp[\"body\"].apply(lambda com: TextBlob(str(com)).sentiment.polarity)\n",
    "df_nlp['sentiment_subjectivity'] = df_nlp[\"body\"].apply(lambda com: TextBlob(str(com)).sentiment.subjectivity)"
   ]
  },
  {
   "cell_type": "code",
   "execution_count": null,
   "metadata": {
    "scrolled": false
   },
   "outputs": [],
   "source": [
    "df_nlp.head(2)"
   ]
  },
  {
   "cell_type": "markdown",
   "metadata": {},
   "source": [
    "Finally, we plot the distribution of both polarity and subjectivity.   \n",
    "\n",
    "Reminder: The polarity score is a float within the range [-1.0, 1.0]. The subjectivity is a float within the range [0.0, 1.0] where 0.0 is very objective and 1.0 is very subjective."
   ]
  },
  {
   "cell_type": "code",
   "execution_count": null,
   "metadata": {
    "scrolled": true
   },
   "outputs": [],
   "source": [
    "df_nlp['sentiment_polarity'].hist()"
   ]
  },
  {
   "cell_type": "markdown",
   "metadata": {},
   "source": [
    "With the polarity distribution we check that most of the comments usually are no so polarized. However there is a considerable amount of comments polarized. "
   ]
  },
  {
   "cell_type": "code",
   "execution_count": null,
   "metadata": {},
   "outputs": [],
   "source": [
    "df_nlp['sentiment_subjectivity'].hist()"
   ]
  },
  {
   "cell_type": "markdown",
   "metadata": {},
   "source": [
    "With the subjectivity distribution we also see that there are lots of comments which are somehow subjectives, although the most common is not being subjective."
   ]
  },
  {
   "cell_type": "markdown",
   "metadata": {},
   "source": [
    "# Milestone 3"
   ]
  },
  {
   "cell_type": "markdown",
   "metadata": {},
   "source": [
    "# Analyzing the echo-chambering effect between subreddits"
   ]
  },
  {
   "cell_type": "code",
   "execution_count": 13,
   "metadata": {},
   "outputs": [],
   "source": [
    "df_spark = spark.read.parquet(DATA_DIR + \"final_dataset_2016_user_sampled_post_filtered.parquet\")"
   ]
  },
  {
   "cell_type": "markdown",
   "metadata": {},
   "source": [
    "In this part we are going to use the data set contained in `final_dataset_2016_user_sampled_post_filtered.parquet`, which contains the comments in the top 200 subreddits in number of comments in 2016, which have not been deleted or removed (their body is not \"[deleted]\" or \"[removed]\") and with just the useful columns. We will analyze how the different subreddits are connected, i.e. how the communities that live inside reddit are connected. \n",
    "\n",
    "To do this we first consider the number of users who are commenting in the different subreddits as a measure of the connection between the subreddits. For example: Given two subreddits `subreddit1` and `subreddit2`, their connection would be as great as much users are commenting in both subreddits."
   ]
  },
  {
   "cell_type": "markdown",
   "metadata": {},
   "source": [
    "## Connection between subreddits\n",
    "\n",
    "So, our first step is to obtain this value (number of users commenting in both subreddits) which measures the size of the connection between every pair of subreddits. We are going to compute this value in an adjacency matrix (since it seems like an ntuitive way of storing this information)"
   ]
  },
  {
   "cell_type": "code",
   "execution_count": 316,
   "metadata": {},
   "outputs": [],
   "source": [
    "df_subreddit_users = df_spark.select('subreddit','author','id').groupby('subreddit') \\\n",
    "                                .agg(collect_set('author').alias('users'),count('id').alias('number_of_comments')) \\\n",
    "                                .filter('number_of_comments > 1000') \\\n",
    "                                .orderBy(asc('subreddit'))\n",
    "\n",
    "df = df_subreddit_users.toPandas()  #Used in next subsection\n",
    "\n",
    "adjacency_matrix = np.zeros([df.shape[0],df.shape[0]])\n",
    "\n",
    "for i in range(df.shape[0]):\n",
    "    for j in range(df.shape[0]):\n",
    "        if i == j:\n",
    "            adjacency_matrix[i,j] = 0\n",
    "        else:\n",
    "            subb1_users = set(df.iloc[i]['users'])\n",
    "            subb2_users = set(df.iloc[j]['users'])\n",
    "            n_common_users = len(subb1_users.intersection(subb2_users))\n",
    "            adjacency_matrix[i,j] = n_common_users\n",
    "\n",
    "df_adj = pd.DataFrame(adjacency_matrix)"
   ]
  },
  {
   "cell_type": "code",
   "execution_count": 317,
   "metadata": {},
   "outputs": [
    {
     "data": {
      "text/html": [
       "<div>\n",
       "<style scoped>\n",
       "    .dataframe tbody tr th:only-of-type {\n",
       "        vertical-align: middle;\n",
       "    }\n",
       "\n",
       "    .dataframe tbody tr th {\n",
       "        vertical-align: top;\n",
       "    }\n",
       "\n",
       "    .dataframe thead th {\n",
       "        text-align: right;\n",
       "    }\n",
       "</style>\n",
       "<table border=\"1\" class=\"dataframe\">\n",
       "  <thead>\n",
       "    <tr style=\"text-align: right;\">\n",
       "      <th></th>\n",
       "      <th>2007scape</th>\n",
       "      <th>4chan</th>\n",
       "      <th>AdviceAnimals</th>\n",
       "      <th>Amd</th>\n",
       "      <th>Android</th>\n",
       "      <th>AskMen</th>\n",
       "      <th>AskWomen</th>\n",
       "      <th>BabyBumps</th>\n",
       "      <th>BigBrother</th>\n",
       "      <th>Bitcoin</th>\n",
       "      <th>...</th>\n",
       "      <th>tifu</th>\n",
       "      <th>todayilearned</th>\n",
       "      <th>trees</th>\n",
       "      <th>ukpolitics</th>\n",
       "      <th>unitedkingdom</th>\n",
       "      <th>videos</th>\n",
       "      <th>whowouldwin</th>\n",
       "      <th>worldnews</th>\n",
       "      <th>wow</th>\n",
       "      <th>xboxone</th>\n",
       "    </tr>\n",
       "    <tr>\n",
       "      <th>subreddits</th>\n",
       "      <th></th>\n",
       "      <th></th>\n",
       "      <th></th>\n",
       "      <th></th>\n",
       "      <th></th>\n",
       "      <th></th>\n",
       "      <th></th>\n",
       "      <th></th>\n",
       "      <th></th>\n",
       "      <th></th>\n",
       "      <th></th>\n",
       "      <th></th>\n",
       "      <th></th>\n",
       "      <th></th>\n",
       "      <th></th>\n",
       "      <th></th>\n",
       "      <th></th>\n",
       "      <th></th>\n",
       "      <th></th>\n",
       "      <th></th>\n",
       "      <th></th>\n",
       "    </tr>\n",
       "  </thead>\n",
       "  <tbody>\n",
       "    <tr>\n",
       "      <th>2007scape</th>\n",
       "      <td>0.0</td>\n",
       "      <td>471.0</td>\n",
       "      <td>860.0</td>\n",
       "      <td>63.0</td>\n",
       "      <td>273.0</td>\n",
       "      <td>156.0</td>\n",
       "      <td>62.0</td>\n",
       "      <td>5.0</td>\n",
       "      <td>16.0</td>\n",
       "      <td>45.0</td>\n",
       "      <td>...</td>\n",
       "      <td>430.0</td>\n",
       "      <td>1095.0</td>\n",
       "      <td>458.0</td>\n",
       "      <td>80.0</td>\n",
       "      <td>89.0</td>\n",
       "      <td>1121.0</td>\n",
       "      <td>65.0</td>\n",
       "      <td>1035.0</td>\n",
       "      <td>339.0</td>\n",
       "      <td>242.0</td>\n",
       "    </tr>\n",
       "    <tr>\n",
       "      <th>4chan</th>\n",
       "      <td>471.0</td>\n",
       "      <td>0.0</td>\n",
       "      <td>4517.0</td>\n",
       "      <td>260.0</td>\n",
       "      <td>1499.0</td>\n",
       "      <td>922.0</td>\n",
       "      <td>361.0</td>\n",
       "      <td>17.0</td>\n",
       "      <td>53.0</td>\n",
       "      <td>233.0</td>\n",
       "      <td>...</td>\n",
       "      <td>2220.0</td>\n",
       "      <td>5762.0</td>\n",
       "      <td>2100.0</td>\n",
       "      <td>363.0</td>\n",
       "      <td>513.0</td>\n",
       "      <td>5481.0</td>\n",
       "      <td>468.0</td>\n",
       "      <td>5544.0</td>\n",
       "      <td>945.0</td>\n",
       "      <td>812.0</td>\n",
       "    </tr>\n",
       "    <tr>\n",
       "      <th>AdviceAnimals</th>\n",
       "      <td>860.0</td>\n",
       "      <td>4517.0</td>\n",
       "      <td>0.0</td>\n",
       "      <td>559.0</td>\n",
       "      <td>4151.0</td>\n",
       "      <td>2649.0</td>\n",
       "      <td>1329.0</td>\n",
       "      <td>141.0</td>\n",
       "      <td>221.0</td>\n",
       "      <td>657.0</td>\n",
       "      <td>...</td>\n",
       "      <td>6365.0</td>\n",
       "      <td>21460.0</td>\n",
       "      <td>6250.0</td>\n",
       "      <td>786.0</td>\n",
       "      <td>1162.0</td>\n",
       "      <td>20097.0</td>\n",
       "      <td>822.0</td>\n",
       "      <td>19174.0</td>\n",
       "      <td>2740.0</td>\n",
       "      <td>2498.0</td>\n",
       "    </tr>\n",
       "    <tr>\n",
       "      <th>Amd</th>\n",
       "      <td>63.0</td>\n",
       "      <td>260.0</td>\n",
       "      <td>559.0</td>\n",
       "      <td>0.0</td>\n",
       "      <td>460.0</td>\n",
       "      <td>117.0</td>\n",
       "      <td>53.0</td>\n",
       "      <td>3.0</td>\n",
       "      <td>11.0</td>\n",
       "      <td>76.0</td>\n",
       "      <td>...</td>\n",
       "      <td>357.0</td>\n",
       "      <td>861.0</td>\n",
       "      <td>222.0</td>\n",
       "      <td>92.0</td>\n",
       "      <td>114.0</td>\n",
       "      <td>810.0</td>\n",
       "      <td>58.0</td>\n",
       "      <td>948.0</td>\n",
       "      <td>190.0</td>\n",
       "      <td>191.0</td>\n",
       "    </tr>\n",
       "  </tbody>\n",
       "</table>\n",
       "<p>4 rows × 200 columns</p>\n",
       "</div>"
      ],
      "text/plain": [
       "               2007scape   4chan  AdviceAnimals    Amd  Android  AskMen  \\\n",
       "subreddits                                                                \n",
       "2007scape            0.0   471.0          860.0   63.0    273.0   156.0   \n",
       "4chan              471.0     0.0         4517.0  260.0   1499.0   922.0   \n",
       "AdviceAnimals      860.0  4517.0            0.0  559.0   4151.0  2649.0   \n",
       "Amd                 63.0   260.0          559.0    0.0    460.0   117.0   \n",
       "\n",
       "               AskWomen  BabyBumps  BigBrother  Bitcoin   ...       tifu  \\\n",
       "subreddits                                                ...              \n",
       "2007scape          62.0        5.0        16.0     45.0   ...      430.0   \n",
       "4chan             361.0       17.0        53.0    233.0   ...     2220.0   \n",
       "AdviceAnimals    1329.0      141.0       221.0    657.0   ...     6365.0   \n",
       "Amd                53.0        3.0        11.0     76.0   ...      357.0   \n",
       "\n",
       "               todayilearned   trees  ukpolitics  unitedkingdom   videos  \\\n",
       "subreddits                                                                 \n",
       "2007scape             1095.0   458.0        80.0           89.0   1121.0   \n",
       "4chan                 5762.0  2100.0       363.0          513.0   5481.0   \n",
       "AdviceAnimals        21460.0  6250.0       786.0         1162.0  20097.0   \n",
       "Amd                    861.0   222.0        92.0          114.0    810.0   \n",
       "\n",
       "               whowouldwin  worldnews     wow  xboxone  \n",
       "subreddits                                              \n",
       "2007scape             65.0     1035.0   339.0    242.0  \n",
       "4chan                468.0     5544.0   945.0    812.0  \n",
       "AdviceAnimals        822.0    19174.0  2740.0   2498.0  \n",
       "Amd                   58.0      948.0   190.0    191.0  \n",
       "\n",
       "[4 rows x 200 columns]"
      ]
     },
     "execution_count": 317,
     "metadata": {},
     "output_type": "execute_result"
    }
   ],
   "source": [
    "#List of subreddits\n",
    "subreddit_list = df[\"subreddit\"].tolist()\n",
    "#Name the columns and the rows\n",
    "df_adj.columns = subreddit_list\n",
    "df_adj[\"subreddits\"] = df[\"subreddit\"]\n",
    "df_adj.set_index(\"subreddits\", inplace = True)\n",
    "df_adj.head(4)"
   ]
  },
  {
   "cell_type": "markdown",
   "metadata": {},
   "source": [
    "So, we can easily interpret this data by seeing in the data frame (`df_adj`) the index and the column (or viceversa). \n",
    "\n",
    "For example, in the first row we see that the subreddit `2007scape` is connected with the subreddit `AskMen` by 156 users (there exists 156 users who have commented in both subreddits); in the fourth row we see that `Amd` subreddit is connected with `Android` by 460 users."
   ]
  },
  {
   "cell_type": "markdown",
   "metadata": {},
   "source": [
    "#### Visualization 1\n",
    "\n",
    "As it could not be otherwise, to visualize this data we have chosen a network graph. Because the quantity of nodes is big we have used a library called ggplot2 in R. You can see the code used for obtaining the graph in the notebook `./reddit-graph-visualizations-r/subreddit_network_pdf` based on the notebook of Max Woolf (@minimaxir): See it on [GitHub](https://github.com/minimaxir/reddit-graph).\n",
    "\n",
    "To run this notebook we have computed the edge list from the adjacency matrix, as its preferred as a data structure for storing and representing graphs:"
   ]
  },
  {
   "cell_type": "code",
   "execution_count": 197,
   "metadata": {},
   "outputs": [
    {
     "data": {
      "text/html": [
       "<div>\n",
       "<style scoped>\n",
       "    .dataframe tbody tr th:only-of-type {\n",
       "        vertical-align: middle;\n",
       "    }\n",
       "\n",
       "    .dataframe tbody tr th {\n",
       "        vertical-align: top;\n",
       "    }\n",
       "\n",
       "    .dataframe thead th {\n",
       "        text-align: right;\n",
       "    }\n",
       "</style>\n",
       "<table border=\"1\" class=\"dataframe\">\n",
       "  <thead>\n",
       "    <tr style=\"text-align: right;\">\n",
       "      <th></th>\n",
       "      <th>Subreddit1</th>\n",
       "      <th>Subreddit2</th>\n",
       "      <th>Weight</th>\n",
       "    </tr>\n",
       "  </thead>\n",
       "  <tbody>\n",
       "    <tr>\n",
       "      <th>0</th>\n",
       "      <td>2007scape</td>\n",
       "      <td>4chan</td>\n",
       "      <td>471.0</td>\n",
       "    </tr>\n",
       "    <tr>\n",
       "      <th>1</th>\n",
       "      <td>2007scape</td>\n",
       "      <td>4chan</td>\n",
       "      <td>471.0</td>\n",
       "    </tr>\n",
       "  </tbody>\n",
       "</table>\n",
       "</div>"
      ],
      "text/plain": [
       "  Subreddit1 Subreddit2  Weight\n",
       "0  2007scape      4chan   471.0\n",
       "1  2007scape      4chan   471.0"
      ]
     },
     "execution_count": 197,
     "metadata": {},
     "output_type": "execute_result"
    }
   ],
   "source": [
    "edge_list = pd.DataFrame([[subreddit_list[0], subreddit_list[1], adjacency_matrix[0,1]]], columns = [\"Subreddit1\", \"Subreddit2\", \"Weight\"])\n",
    "n_subreddits = len(subreddit_list)\n",
    "\n",
    "for i in range(n_subreddits):\n",
    "    for j in range(i+1, n_subreddits):\n",
    "        df_tmp = pd.DataFrame([[subreddit_list[i], subreddit_list[j], adjacency_matrix[i,j]]] , columns = [\"Subreddit1\", \"Subreddit2\", \"Weight\"])\n",
    "        edge_list = edge_list.append(df_tmp, ignore_index=True)\n",
    "\n",
    "edge_list.head(2)"
   ]
  },
  {
   "cell_type": "markdown",
   "metadata": {},
   "source": [
    "We have deleted the edges with few weight connections (otherwise the graph is not appreciable)"
   ]
  },
  {
   "cell_type": "code",
   "execution_count": 97,
   "metadata": {},
   "outputs": [
    {
     "name": "stdout",
     "output_type": "stream",
     "text": [
      "885.5705240942666\n"
     ]
    }
   ],
   "source": [
    "edge_list_filt = edge_list.copy()\n",
    "mean = edge_list_filt[\"Weight\"].mean()\n",
    "print(mean)\n",
    "#edge_list_filt[\"Weight\"] = edge_list_filt[\"Weight\"].apply(lambda x: 0 if x < 15 else x) #Removing soft links for seeing a better graph (weights to 0)\n",
    "edge_list_filt.drop(edge_list_filt[edge_list_filt.Weight < 900].index, inplace = True) #Removing soft links for seeing a better graph (remove edges)"
   ]
  },
  {
   "cell_type": "markdown",
   "metadata": {},
   "source": [
    "Finally export it into a `.csv` file and run the other notebook (manually because it is in R, not python)"
   ]
  },
  {
   "cell_type": "code",
   "execution_count": 98,
   "metadata": {
    "scrolled": true
   },
   "outputs": [],
   "source": [
    "#edge_list_filt[\"Weight\"] = edge_list[\"Weight\"] * 100 #To do a clearly visualization\n",
    "edge_list_filt.set_index(\"Subreddit1\", inplace = True) #In order to not export the indexes to the .csv\n",
    "edge_list_filt.to_csv(\"./reddit-graph-visualizations-r/\" + 'edge_list.csv')"
   ]
  },
  {
   "cell_type": "code",
   "execution_count": 106,
   "metadata": {},
   "outputs": [
    {
     "data": {
      "text/html": [
       "\n",
       "        <iframe\n",
       "            width=\"800\"\n",
       "            height=\"400\"\n",
       "            src=\"./reddit-graph-visualizations-r/subreddit-1.svg\"\n",
       "            frameborder=\"0\"\n",
       "            allowfullscreen\n",
       "        ></iframe>\n",
       "        "
      ],
      "text/plain": [
       "<IPython.lib.display.IFrame at 0x2210ba50898>"
      ]
     },
     "execution_count": 106,
     "metadata": {},
     "output_type": "execute_result"
    }
   ],
   "source": [
    "from IPython.display import IFrame\n",
    "IFrame(\"./reddit-graph-visualizations-r/subreddit-1.svg\", width=800, height=400)"
   ]
  },
  {
   "cell_type": "markdown",
   "metadata": {},
   "source": [
    "This visualization do not seems to be very useful right now for study the echo-chambing; however we will use this kind of graph in the last section of our project, when studiying the ideology of the usual users of every subreddits.\n",
    "\n",
    "Note: Default subreddits in this graph have been chosen manually; this graph is just a previous to the final one (in which the nodes are colored in terms of their \"conservative-ideology vs liberal-ideology\")"
   ]
  },
  {
   "cell_type": "markdown",
   "metadata": {},
   "source": [
    "## Echo-chambing effect between political subreddits"
   ]
  },
  {
   "cell_type": "markdown",
   "metadata": {},
   "source": [
    "As finally our project has been conceived as a political study, and considering that one of the main problem for study and interpret our data is the amount of subreddits, we are going to focus on the political subreddits (that are in the 200 greatest subreddist set):"
   ]
  },
  {
   "cell_type": "code",
   "execution_count": 318,
   "metadata": {},
   "outputs": [
    {
     "data": {
      "text/plain": [
       "['conspiracy',\n",
       " 'politics',\n",
       " 'hillaryclinton',\n",
       " 'SandersForPresident',\n",
       " 'PoliticalDiscussion',\n",
       " 'EnoughTrumpSpam',\n",
       " 'ukpolitics',\n",
       " 'The_Donald']"
      ]
     },
     "execution_count": 318,
     "metadata": {},
     "output_type": "execute_result"
    }
   ],
   "source": [
    "df_topics = pd.read_parquet(DATA_DIR + \"topics.parquet\")\n",
    "political_subreddits = df_topics[df_topics[\"topic\"] == \"politics\"][\"subreddit\"].tolist()\n",
    "political_subreddits"
   ]
  },
  {
   "cell_type": "markdown",
   "metadata": {},
   "source": [
    "We extract the new edge list and the new adjacency matrix (with just the political communities data) from the last one:"
   ]
  },
  {
   "cell_type": "code",
   "execution_count": 319,
   "metadata": {},
   "outputs": [],
   "source": [
    "#Edge list\n",
    "edge_list_politics = edge_list.loc[(edge_list['Subreddit1'].isin(political_subreddits)) & edge_list['Subreddit2'].isin(political_subreddits)]"
   ]
  },
  {
   "cell_type": "code",
   "execution_count": 338,
   "metadata": {},
   "outputs": [
    {
     "data": {
      "text/html": [
       "<div>\n",
       "<style scoped>\n",
       "    .dataframe tbody tr th:only-of-type {\n",
       "        vertical-align: middle;\n",
       "    }\n",
       "\n",
       "    .dataframe tbody tr th {\n",
       "        vertical-align: top;\n",
       "    }\n",
       "\n",
       "    .dataframe thead th {\n",
       "        text-align: right;\n",
       "    }\n",
       "</style>\n",
       "<table border=\"1\" class=\"dataframe\">\n",
       "  <thead>\n",
       "    <tr style=\"text-align: right;\">\n",
       "      <th></th>\n",
       "      <th>EnoughTrumpSpam</th>\n",
       "      <th>PoliticalDiscussion</th>\n",
       "      <th>SandersForPresident</th>\n",
       "      <th>The_Donald</th>\n",
       "      <th>conspiracy</th>\n",
       "      <th>hillaryclinton</th>\n",
       "      <th>politics</th>\n",
       "      <th>ukpolitics</th>\n",
       "    </tr>\n",
       "    <tr>\n",
       "      <th>subreddits</th>\n",
       "      <th></th>\n",
       "      <th></th>\n",
       "      <th></th>\n",
       "      <th></th>\n",
       "      <th></th>\n",
       "      <th></th>\n",
       "      <th></th>\n",
       "      <th></th>\n",
       "    </tr>\n",
       "  </thead>\n",
       "  <tbody>\n",
       "    <tr>\n",
       "      <th>EnoughTrumpSpam</th>\n",
       "      <td>0.0</td>\n",
       "      <td>1846.0</td>\n",
       "      <td>3960.0</td>\n",
       "      <td>5539.0</td>\n",
       "      <td>2332.0</td>\n",
       "      <td>1854.0</td>\n",
       "      <td>8333.0</td>\n",
       "      <td>413.0</td>\n",
       "    </tr>\n",
       "    <tr>\n",
       "      <th>PoliticalDiscussion</th>\n",
       "      <td>1846.0</td>\n",
       "      <td>0.0</td>\n",
       "      <td>3155.0</td>\n",
       "      <td>3038.0</td>\n",
       "      <td>1386.0</td>\n",
       "      <td>1744.0</td>\n",
       "      <td>6681.0</td>\n",
       "      <td>372.0</td>\n",
       "    </tr>\n",
       "    <tr>\n",
       "      <th>SandersForPresident</th>\n",
       "      <td>3960.0</td>\n",
       "      <td>3155.0</td>\n",
       "      <td>0.0</td>\n",
       "      <td>9975.0</td>\n",
       "      <td>3654.0</td>\n",
       "      <td>2971.0</td>\n",
       "      <td>16819.0</td>\n",
       "      <td>495.0</td>\n",
       "    </tr>\n",
       "    <tr>\n",
       "      <th>The_Donald</th>\n",
       "      <td>5539.0</td>\n",
       "      <td>3038.0</td>\n",
       "      <td>9975.0</td>\n",
       "      <td>0.0</td>\n",
       "      <td>5961.0</td>\n",
       "      <td>2911.0</td>\n",
       "      <td>21723.0</td>\n",
       "      <td>868.0</td>\n",
       "    </tr>\n",
       "    <tr>\n",
       "      <th>conspiracy</th>\n",
       "      <td>2332.0</td>\n",
       "      <td>1386.0</td>\n",
       "      <td>3654.0</td>\n",
       "      <td>5961.0</td>\n",
       "      <td>0.0</td>\n",
       "      <td>1155.0</td>\n",
       "      <td>7454.0</td>\n",
       "      <td>401.0</td>\n",
       "    </tr>\n",
       "    <tr>\n",
       "      <th>hillaryclinton</th>\n",
       "      <td>1854.0</td>\n",
       "      <td>1744.0</td>\n",
       "      <td>2971.0</td>\n",
       "      <td>2911.0</td>\n",
       "      <td>1155.0</td>\n",
       "      <td>0.0</td>\n",
       "      <td>4865.0</td>\n",
       "      <td>235.0</td>\n",
       "    </tr>\n",
       "    <tr>\n",
       "      <th>politics</th>\n",
       "      <td>8333.0</td>\n",
       "      <td>6681.0</td>\n",
       "      <td>16819.0</td>\n",
       "      <td>21723.0</td>\n",
       "      <td>7454.0</td>\n",
       "      <td>4865.0</td>\n",
       "      <td>0.0</td>\n",
       "      <td>1397.0</td>\n",
       "    </tr>\n",
       "    <tr>\n",
       "      <th>ukpolitics</th>\n",
       "      <td>413.0</td>\n",
       "      <td>372.0</td>\n",
       "      <td>495.0</td>\n",
       "      <td>868.0</td>\n",
       "      <td>401.0</td>\n",
       "      <td>235.0</td>\n",
       "      <td>1397.0</td>\n",
       "      <td>0.0</td>\n",
       "    </tr>\n",
       "  </tbody>\n",
       "</table>\n",
       "</div>"
      ],
      "text/plain": [
       "                     EnoughTrumpSpam  PoliticalDiscussion  \\\n",
       "subreddits                                                  \n",
       "EnoughTrumpSpam                  0.0               1846.0   \n",
       "PoliticalDiscussion           1846.0                  0.0   \n",
       "SandersForPresident           3960.0               3155.0   \n",
       "The_Donald                    5539.0               3038.0   \n",
       "conspiracy                    2332.0               1386.0   \n",
       "hillaryclinton                1854.0               1744.0   \n",
       "politics                      8333.0               6681.0   \n",
       "ukpolitics                     413.0                372.0   \n",
       "\n",
       "                     SandersForPresident  The_Donald  conspiracy  \\\n",
       "subreddits                                                         \n",
       "EnoughTrumpSpam                   3960.0      5539.0      2332.0   \n",
       "PoliticalDiscussion               3155.0      3038.0      1386.0   \n",
       "SandersForPresident                  0.0      9975.0      3654.0   \n",
       "The_Donald                        9975.0         0.0      5961.0   \n",
       "conspiracy                        3654.0      5961.0         0.0   \n",
       "hillaryclinton                    2971.0      2911.0      1155.0   \n",
       "politics                         16819.0     21723.0      7454.0   \n",
       "ukpolitics                         495.0       868.0       401.0   \n",
       "\n",
       "                     hillaryclinton  politics  ukpolitics  \n",
       "subreddits                                                 \n",
       "EnoughTrumpSpam              1854.0    8333.0       413.0  \n",
       "PoliticalDiscussion          1744.0    6681.0       372.0  \n",
       "SandersForPresident          2971.0   16819.0       495.0  \n",
       "The_Donald                   2911.0   21723.0       868.0  \n",
       "conspiracy                   1155.0    7454.0       401.0  \n",
       "hillaryclinton                  0.0    4865.0       235.0  \n",
       "politics                     4865.0       0.0      1397.0  \n",
       "ukpolitics                    235.0    1397.0         0.0  "
      ]
     },
     "execution_count": 338,
     "metadata": {},
     "output_type": "execute_result"
    }
   ],
   "source": [
    "#Adjacency matrix data frame\n",
    "df_politics_adj = df_adj.loc[df_adj.index.isin(political_subreddits)]\n",
    "political_subreddits = df_politics_adj.index.unique().tolist()  #For get the list in the correct order\n",
    "df_politics_adj= df_politics_adj[political_subreddits].copy()\n",
    "df_politics_adj"
   ]
  },
  {
   "cell_type": "markdown",
   "metadata": {},
   "source": [
    "Compute the number of different users who have commented in each subreddit:"
   ]
  },
  {
   "cell_type": "code",
   "execution_count": 322,
   "metadata": {},
   "outputs": [
    {
     "data": {
      "text/html": [
       "<div>\n",
       "<style scoped>\n",
       "    .dataframe tbody tr th:only-of-type {\n",
       "        vertical-align: middle;\n",
       "    }\n",
       "\n",
       "    .dataframe tbody tr th {\n",
       "        vertical-align: top;\n",
       "    }\n",
       "\n",
       "    .dataframe thead th {\n",
       "        text-align: right;\n",
       "    }\n",
       "</style>\n",
       "<table border=\"1\" class=\"dataframe\">\n",
       "  <thead>\n",
       "    <tr style=\"text-align: right;\">\n",
       "      <th></th>\n",
       "      <th>users</th>\n",
       "      <th>number_of_comments</th>\n",
       "      <th>number_of_users</th>\n",
       "    </tr>\n",
       "    <tr>\n",
       "      <th>subreddit</th>\n",
       "      <th></th>\n",
       "      <th></th>\n",
       "      <th></th>\n",
       "    </tr>\n",
       "  </thead>\n",
       "  <tbody>\n",
       "    <tr>\n",
       "      <th>2007scape</th>\n",
       "      <td>[PregnantMale, Mr_Abel, ExtremeWindyGuy, Slaye...</td>\n",
       "      <td>62157</td>\n",
       "      <td>1988</td>\n",
       "    </tr>\n",
       "    <tr>\n",
       "      <th>4chan</th>\n",
       "      <td>[matthewgstat, Boxxi, baconlover24, ChaseDPat,...</td>\n",
       "      <td>69400</td>\n",
       "      <td>8069</td>\n",
       "    </tr>\n",
       "  </tbody>\n",
       "</table>\n",
       "</div>"
      ],
      "text/plain": [
       "                                                       users  \\\n",
       "subreddit                                                      \n",
       "2007scape  [PregnantMale, Mr_Abel, ExtremeWindyGuy, Slaye...   \n",
       "4chan      [matthewgstat, Boxxi, baconlover24, ChaseDPat,...   \n",
       "\n",
       "           number_of_comments  number_of_users  \n",
       "subreddit                                       \n",
       "2007scape               62157             1988  \n",
       "4chan                   69400             8069  "
      ]
     },
     "execution_count": 322,
     "metadata": {},
     "output_type": "execute_result"
    }
   ],
   "source": [
    "df_number_of_users = df.copy()\n",
    "df_number_of_users[\"number_of_users\"] = df_number_of_users[\"users\"].apply(lambda x: len(x))\n",
    "df_number_of_users.set_index(\"subreddit\", inplace = True)\n",
    "df_number_of_users.head(2)"
   ]
  },
  {
   "cell_type": "markdown",
   "metadata": {},
   "source": [
    "And use the igraph library for plot the graph:\n",
    "\n",
    "#### Visualization 2 (From the edge list)"
   ]
  },
  {
   "cell_type": "code",
   "execution_count": 383,
   "metadata": {
    "scrolled": false
   },
   "outputs": [
    {
     "data": {
      "image/svg+xml": [
       "<?xml version=\"1.0\" encoding=\"UTF-8\"?>\n",
       "<svg xmlns=\"http://www.w3.org/2000/svg\" xmlns:xlink=\"http://www.w3.org/1999/xlink\" width=\"700pt\" height=\"600pt\" viewBox=\"0 0 700 600\" version=\"1.1\">\n",
       "<defs>\n",
       "<g>\n",
       "<symbol overflow=\"visible\" id=\"glyph0-0\">\n",
       "<path style=\"stroke:none;\" d=\"M 1.75 0 L 1.75 -8.75 L 8.75 -8.75 L 8.75 0 Z M 1.96875 -0.21875 L 8.53125 -0.21875 L 8.53125 -8.53125 L 1.96875 -8.53125 Z M 1.96875 -0.21875 \"/>\n",
       "</symbol>\n",
       "<symbol overflow=\"visible\" id=\"glyph0-1\">\n",
       "<path style=\"stroke:none;\" d=\"M 1.109375 0 L 1.109375 -10.023438 L 8.351563 -10.023438 L 8.351563 -8.839844 L 2.433594 -8.839844 L 2.433594 -5.769531 L 7.976563 -5.769531 L 7.976563 -4.59375 L 2.433594 -4.59375 L 2.433594 -1.183594 L 8.585938 -1.183594 L 8.585938 0 Z M 1.109375 0 \"/>\n",
       "</symbol>\n",
       "<symbol overflow=\"visible\" id=\"glyph0-2\">\n",
       "<path style=\"stroke:none;\" d=\"M 0.921875 0 L 0.921875 -7.257813 L 2.03125 -7.257813 L 2.03125 -6.226563 C 2.558594 -7.019531 3.328125 -7.417969 4.339844 -7.421875 C 4.773438 -7.417969 5.175781 -7.339844 5.546875 -7.1875 C 5.910156 -7.027344 6.183594 -6.820313 6.371094 -6.570313 C 6.550781 -6.3125 6.679688 -6.011719 6.753906 -5.660156 C 6.796875 -5.433594 6.820313 -5.035156 6.820313 -4.464844 L 6.820313 0 L 5.59375 0 L 5.59375 -4.414063 C 5.589844 -4.914063 5.542969 -5.289063 5.449219 -5.539063 C 5.351563 -5.785156 5.179688 -5.984375 4.9375 -6.136719 C 4.691406 -6.28125 4.40625 -6.355469 4.082031 -6.359375 C 3.554688 -6.355469 3.101563 -6.191406 2.722656 -5.859375 C 2.339844 -5.523438 2.148438 -4.890625 2.152344 -3.964844 L 2.152344 0 Z M 0.921875 0 \"/>\n",
       "</symbol>\n",
       "<symbol overflow=\"visible\" id=\"glyph0-3\">\n",
       "<path style=\"stroke:none;\" d=\"M 0.464844 -3.628906 C 0.460938 -4.972656 0.835938 -5.96875 1.585938 -6.617188 C 2.207031 -7.148438 2.96875 -7.417969 3.867188 -7.421875 C 4.867188 -7.417969 5.683594 -7.089844 6.316406 -6.441406 C 6.949219 -5.785156 7.265625 -4.882813 7.265625 -3.734375 C 7.265625 -2.796875 7.125 -2.0625 6.84375 -1.527344 C 6.5625 -0.992188 6.152344 -0.578125 5.621094 -0.28125 C 5.082031 0.015625 4.5 0.164063 3.867188 0.164063 C 2.851563 0.164063 2.027344 -0.160156 1.402344 -0.8125 C 0.773438 -1.460938 0.460938 -2.398438 0.464844 -3.628906 Z M 1.730469 -3.628906 C 1.726563 -2.695313 1.929688 -2 2.335938 -1.539063 C 2.738281 -1.074219 3.25 -0.84375 3.867188 -0.847656 C 4.476563 -0.84375 4.984375 -1.074219 5.390625 -1.542969 C 5.796875 -2.003906 6 -2.714844 6 -3.671875 C 6 -4.566406 5.792969 -5.246094 5.386719 -5.710938 C 4.976563 -6.171875 4.472656 -6.402344 3.867188 -6.40625 C 3.25 -6.402344 2.738281 -6.171875 2.335938 -5.714844 C 1.929688 -5.25 1.726563 -4.554688 1.730469 -3.628906 Z M 1.730469 -3.628906 \"/>\n",
       "</symbol>\n",
       "<symbol overflow=\"visible\" id=\"glyph0-4\">\n",
       "<path style=\"stroke:none;\" d=\"M 5.679688 0 L 5.679688 -1.066406 C 5.109375 -0.246094 4.34375 0.164063 3.375 0.164063 C 2.945313 0.164063 2.542969 0.0820313 2.175781 -0.0820313 C 1.800781 -0.246094 1.527344 -0.449219 1.347656 -0.699219 C 1.167969 -0.945313 1.039063 -1.25 0.96875 -1.613281 C 0.914063 -1.851563 0.890625 -2.234375 0.894531 -2.761719 L 0.894531 -7.257813 L 2.125 -7.257813 L 2.125 -3.234375 C 2.121094 -2.589844 2.148438 -2.15625 2.203125 -1.933594 C 2.277344 -1.609375 2.4375 -1.355469 2.691406 -1.171875 C 2.941406 -0.984375 3.253906 -0.890625 3.625 -0.894531 C 3.988281 -0.890625 4.332031 -0.984375 4.660156 -1.175781 C 4.980469 -1.363281 5.210938 -1.621094 5.347656 -1.949219 C 5.480469 -2.273438 5.546875 -2.746094 5.550781 -3.371094 L 5.550781 -7.257813 L 6.78125 -7.257813 L 6.78125 0 Z M 5.679688 0 \"/>\n",
       "</symbol>\n",
       "<symbol overflow=\"visible\" id=\"glyph0-5\">\n",
       "<path style=\"stroke:none;\" d=\"M 0.695313 0.601563 L 1.894531 0.78125 C 1.941406 1.144531 2.082031 1.414063 2.3125 1.585938 C 2.613281 1.8125 3.03125 1.925781 3.5625 1.929688 C 4.128906 1.925781 4.566406 1.8125 4.878906 1.585938 C 5.1875 1.355469 5.398438 1.035156 5.507813 0.628906 C 5.570313 0.375 5.597656 -0.148438 5.597656 -0.949219 C 5.058594 -0.316406 4.390625 0 3.589844 0 C 2.589844 0 1.816406 -0.359375 1.273438 -1.078125 C 0.722656 -1.796875 0.449219 -2.660156 0.453125 -3.671875 C 0.449219 -4.363281 0.574219 -5.003906 0.828125 -5.589844 C 1.074219 -6.175781 1.4375 -6.625 1.917969 -6.945313 C 2.390625 -7.257813 2.949219 -7.417969 3.59375 -7.421875 C 4.449219 -7.417969 5.15625 -7.070313 5.714844 -6.382813 L 5.714844 -7.257813 L 6.851563 -7.257813 L 6.851563 -0.984375 C 6.847656 0.144531 6.734375 0.945313 6.503906 1.417969 C 6.273438 1.886719 5.90625 2.257813 5.410156 2.535156 C 4.910156 2.804688 4.296875 2.941406 3.570313 2.945313 C 2.699219 2.941406 2 2.746094 1.46875 2.359375 C 0.933594 1.96875 0.675781 1.382813 0.695313 0.601563 Z M 1.714844 -3.757813 C 1.710938 -2.804688 1.898438 -2.113281 2.28125 -1.675781 C 2.65625 -1.238281 3.132813 -1.019531 3.703125 -1.019531 C 4.269531 -1.019531 4.742188 -1.234375 5.128906 -1.671875 C 5.507813 -2.101563 5.699219 -2.785156 5.703125 -3.71875 C 5.699219 -4.605469 5.503906 -5.273438 5.109375 -5.726563 C 4.714844 -6.175781 4.238281 -6.402344 3.683594 -6.40625 C 3.132813 -6.402344 2.667969 -6.179688 2.289063 -5.738281 C 1.902344 -5.289063 1.710938 -4.628906 1.714844 -3.757813 Z M 1.714844 -3.757813 \"/>\n",
       "</symbol>\n",
       "<symbol overflow=\"visible\" id=\"glyph0-6\">\n",
       "<path style=\"stroke:none;\" d=\"M 0.921875 0 L 0.921875 -10.023438 L 2.152344 -10.023438 L 2.152344 -6.425781 C 2.722656 -7.085938 3.449219 -7.417969 4.328125 -7.421875 C 4.863281 -7.417969 5.328125 -7.3125 5.726563 -7.105469 C 6.121094 -6.890625 6.40625 -6.597656 6.578125 -6.226563 C 6.746094 -5.851563 6.832031 -5.308594 6.835938 -4.601563 L 6.835938 0 L 5.605469 0 L 5.605469 -4.601563 C 5.601563 -5.210938 5.46875 -5.660156 5.203125 -5.941406 C 4.9375 -6.222656 4.558594 -6.363281 4.074219 -6.363281 C 3.707031 -6.363281 3.363281 -6.265625 3.042969 -6.078125 C 2.71875 -5.886719 2.492188 -5.632813 2.355469 -5.3125 C 2.21875 -4.988281 2.148438 -4.542969 2.152344 -3.972656 L 2.152344 0 Z M 0.921875 0 \"/>\n",
       "</symbol>\n",
       "<symbol overflow=\"visible\" id=\"glyph0-7\">\n",
       "<path style=\"stroke:none;\" d=\"M 3.628906 0 L 3.628906 -8.839844 L 0.328125 -8.839844 L 0.328125 -10.023438 L 8.273438 -10.023438 L 8.273438 -8.839844 L 4.957031 -8.839844 L 4.957031 0 Z M 3.628906 0 \"/>\n",
       "</symbol>\n",
       "<symbol overflow=\"visible\" id=\"glyph0-8\">\n",
       "<path style=\"stroke:none;\" d=\"M 0.910156 0 L 0.910156 -7.257813 L 2.015625 -7.257813 L 2.015625 -6.160156 C 2.296875 -6.667969 2.554688 -7.007813 2.796875 -7.175781 C 3.03125 -7.335938 3.296875 -7.417969 3.589844 -7.421875 C 4 -7.417969 4.421875 -7.285156 4.851563 -7.027344 L 4.429688 -5.886719 C 4.125 -6.0625 3.824219 -6.152344 3.527344 -6.152344 C 3.257813 -6.152344 3.015625 -6.070313 2.800781 -5.910156 C 2.585938 -5.746094 2.433594 -5.519531 2.34375 -5.234375 C 2.207031 -4.792969 2.136719 -4.316406 2.140625 -3.800781 L 2.140625 0 Z M 0.910156 0 \"/>\n",
       "</symbol>\n",
       "<symbol overflow=\"visible\" id=\"glyph0-9\">\n",
       "<path style=\"stroke:none;\" d=\"M 0.921875 0 L 0.921875 -7.257813 L 2.023438 -7.257813 L 2.023438 -6.242188 C 2.25 -6.59375 2.554688 -6.878906 2.933594 -7.097656 C 3.308594 -7.308594 3.738281 -7.417969 4.226563 -7.421875 C 4.757813 -7.417969 5.199219 -7.304688 5.546875 -7.085938 C 5.886719 -6.859375 6.128906 -6.550781 6.273438 -6.152344 C 6.847656 -6.996094 7.59375 -7.417969 8.515625 -7.421875 C 9.234375 -7.417969 9.789063 -7.21875 10.175781 -6.824219 C 10.5625 -6.421875 10.757813 -5.808594 10.757813 -4.984375 L 10.757813 0 L 9.535156 0 L 9.535156 -4.574219 C 9.53125 -5.0625 9.492188 -5.417969 9.414063 -5.636719 C 9.332031 -5.851563 9.1875 -6.023438 8.980469 -6.160156 C 8.769531 -6.289063 8.523438 -6.355469 8.242188 -6.359375 C 7.730469 -6.355469 7.308594 -6.1875 6.972656 -5.847656 C 6.636719 -5.507813 6.46875 -4.964844 6.46875 -4.21875 L 6.46875 0 L 5.234375 0 L 5.234375 -4.71875 C 5.230469 -5.261719 5.132813 -5.671875 4.933594 -5.949219 C 4.730469 -6.21875 4.402344 -6.355469 3.953125 -6.359375 C 3.601563 -6.355469 3.28125 -6.265625 2.988281 -6.085938 C 2.695313 -5.902344 2.480469 -5.636719 2.351563 -5.285156 C 2.214844 -4.933594 2.148438 -4.425781 2.152344 -3.765625 L 2.152344 0 Z M 0.921875 0 \"/>\n",
       "</symbol>\n",
       "<symbol overflow=\"visible\" id=\"glyph0-10\">\n",
       "<path style=\"stroke:none;\" d=\"M 0.921875 2.78125 L 0.921875 -7.257813 L 2.042969 -7.257813 L 2.042969 -6.316406 C 2.304688 -6.683594 2.601563 -6.957031 2.9375 -7.144531 C 3.265625 -7.324219 3.671875 -7.417969 4.148438 -7.421875 C 4.765625 -7.417969 5.3125 -7.257813 5.789063 -6.945313 C 6.261719 -6.625 6.617188 -6.175781 6.863281 -5.59375 C 7.101563 -5.011719 7.222656 -4.375 7.226563 -3.683594 C 7.222656 -2.9375 7.089844 -2.269531 6.824219 -1.675781 C 6.554688 -1.082031 6.167969 -0.625 5.664063 -0.308594 C 5.152344 0.0078125 4.617188 0.164063 4.0625 0.164063 C 3.648438 0.164063 3.28125 0.078125 2.957031 -0.09375 C 2.628906 -0.265625 2.359375 -0.484375 2.152344 -0.75 L 2.152344 2.78125 Z M 2.039063 -3.589844 C 2.039063 -2.652344 2.226563 -1.960938 2.605469 -1.515625 C 2.980469 -1.066406 3.4375 -0.84375 3.976563 -0.847656 C 4.519531 -0.84375 4.988281 -1.074219 5.382813 -1.539063 C 5.769531 -2 5.964844 -2.71875 5.96875 -3.691406 C 5.964844 -4.613281 5.773438 -5.304688 5.398438 -5.769531 C 5.015625 -6.226563 4.5625 -6.457031 4.03125 -6.460938 C 3.507813 -6.457031 3.042969 -6.210938 2.640625 -5.726563 C 2.238281 -5.234375 2.039063 -4.523438 2.039063 -3.589844 Z M 2.039063 -3.589844 \"/>\n",
       "</symbol>\n",
       "<symbol overflow=\"visible\" id=\"glyph0-11\">\n",
       "<path style=\"stroke:none;\" d=\"M 0.628906 -3.21875 L 1.878906 -3.328125 C 1.9375 -2.828125 2.074219 -2.414063 2.292969 -2.09375 C 2.503906 -1.769531 2.839844 -1.511719 3.300781 -1.316406 C 3.753906 -1.117188 4.269531 -1.019531 4.839844 -1.019531 C 5.34375 -1.019531 5.789063 -1.09375 6.179688 -1.242188 C 6.566406 -1.390625 6.855469 -1.597656 7.042969 -1.863281 C 7.230469 -2.125 7.324219 -2.410156 7.328125 -2.71875 C 7.324219 -3.03125 7.234375 -3.304688 7.054688 -3.542969 C 6.871094 -3.777344 6.570313 -3.976563 6.152344 -4.136719 C 5.882813 -4.238281 5.285156 -4.398438 4.367188 -4.625 C 3.445313 -4.84375 2.800781 -5.054688 2.433594 -5.25 C 1.949219 -5.5 1.59375 -5.808594 1.363281 -6.183594 C 1.125 -6.550781 1.007813 -6.96875 1.011719 -7.429688 C 1.007813 -7.933594 1.152344 -8.40625 1.441406 -8.847656 C 1.730469 -9.285156 2.148438 -9.617188 2.699219 -9.847656 C 3.25 -10.074219 3.863281 -10.1875 4.539063 -10.191406 C 5.277344 -10.1875 5.933594 -10.070313 6.503906 -9.832031 C 7.070313 -9.59375 7.503906 -9.242188 7.8125 -8.777344 C 8.117188 -8.308594 8.28125 -7.78125 8.304688 -7.199219 L 7.035156 -7.101563 C 6.960938 -7.734375 6.730469 -8.210938 6.339844 -8.539063 C 5.945313 -8.859375 5.363281 -9.023438 4.59375 -9.023438 C 3.789063 -9.023438 3.203125 -8.875 2.839844 -8.582031 C 2.46875 -8.285156 2.285156 -7.929688 2.289063 -7.519531 C 2.285156 -7.15625 2.414063 -6.863281 2.679688 -6.632813 C 2.929688 -6.398438 3.597656 -6.15625 4.679688 -5.914063 C 5.753906 -5.667969 6.492188 -5.457031 6.898438 -5.277344 C 7.476563 -5.007813 7.90625 -4.667969 8.1875 -4.253906 C 8.460938 -3.839844 8.601563 -3.363281 8.605469 -2.828125 C 8.601563 -2.292969 8.449219 -1.792969 8.148438 -1.324219 C 7.839844 -0.851563 7.402344 -0.484375 6.832031 -0.222656 C 6.261719 0.0390625 5.617188 0.167969 4.902344 0.171875 C 3.992188 0.167969 3.230469 0.0390625 2.621094 -0.222656 C 2.003906 -0.488281 1.523438 -0.886719 1.179688 -1.417969 C 0.828125 -1.949219 0.644531 -2.546875 0.628906 -3.21875 Z M 0.628906 -3.21875 \"/>\n",
       "</symbol>\n",
       "<symbol overflow=\"visible\" id=\"glyph0-12\">\n",
       "<path style=\"stroke:none;\" d=\"M 5.660156 -0.894531 C 5.203125 -0.503906 4.761719 -0.230469 4.34375 -0.0742188 C 3.917969 0.0859375 3.46875 0.164063 2.988281 0.164063 C 2.1875 0.164063 1.574219 -0.0273438 1.148438 -0.417969 C 0.71875 -0.804688 0.503906 -1.304688 0.507813 -1.914063 C 0.503906 -2.265625 0.585938 -2.589844 0.75 -2.886719 C 0.910156 -3.179688 1.121094 -3.414063 1.382813 -3.59375 C 1.644531 -3.769531 1.9375 -3.90625 2.269531 -4 C 2.507813 -4.058594 2.875 -4.121094 3.363281 -4.183594 C 4.355469 -4.300781 5.085938 -4.441406 5.558594 -4.609375 C 5.558594 -4.773438 5.558594 -4.878906 5.5625 -4.929688 C 5.558594 -5.425781 5.445313 -5.78125 5.214844 -5.988281 C 4.898438 -6.265625 4.429688 -6.402344 3.8125 -6.40625 C 3.230469 -6.402344 2.804688 -6.300781 2.53125 -6.101563 C 2.253906 -5.894531 2.050781 -5.535156 1.921875 -5.023438 L 0.71875 -5.1875 C 0.824219 -5.699219 1.003906 -6.117188 1.257813 -6.433594 C 1.503906 -6.75 1.867188 -6.992188 2.34375 -7.164063 C 2.816406 -7.332031 3.363281 -7.417969 3.992188 -7.421875 C 4.609375 -7.417969 5.113281 -7.34375 5.503906 -7.203125 C 5.886719 -7.054688 6.171875 -6.871094 6.359375 -6.652344 C 6.539063 -6.429688 6.667969 -6.152344 6.742188 -5.816406 C 6.777344 -5.605469 6.796875 -5.226563 6.800781 -4.683594 L 6.800781 -3.042969 C 6.796875 -1.894531 6.824219 -1.171875 6.878906 -0.871094 C 6.933594 -0.566406 7.035156 -0.277344 7.191406 0 L 5.90625 0 C 5.777344 -0.253906 5.695313 -0.550781 5.660156 -0.894531 Z M 5.558594 -3.644531 C 5.109375 -3.460938 4.4375 -3.304688 3.546875 -3.179688 C 3.039063 -3.105469 2.683594 -3.023438 2.472656 -2.933594 C 2.261719 -2.839844 2.097656 -2.707031 1.988281 -2.53125 C 1.871094 -2.355469 1.816406 -2.160156 1.820313 -1.949219 C 1.816406 -1.617188 1.941406 -1.34375 2.191406 -1.128906 C 2.4375 -0.90625 2.800781 -0.796875 3.28125 -0.800781 C 3.753906 -0.796875 4.175781 -0.898438 4.546875 -1.109375 C 4.914063 -1.3125 5.183594 -1.597656 5.359375 -1.960938 C 5.488281 -2.238281 5.554688 -2.648438 5.558594 -3.191406 Z M 5.558594 -3.644531 \"/>\n",
       "</symbol>\n",
       "<symbol overflow=\"visible\" id=\"glyph0-13\">\n",
       "<path style=\"stroke:none;\" d=\"M 1.078125 0 L 1.078125 -10.023438 L 4.859375 -10.023438 C 5.523438 -10.019531 6.03125 -9.988281 6.382813 -9.925781 C 6.875 -9.84375 7.289063 -9.6875 7.621094 -9.457031 C 7.953125 -9.226563 8.222656 -8.902344 8.425781 -8.488281 C 8.628906 -8.070313 8.730469 -7.617188 8.730469 -7.125 C 8.730469 -6.269531 8.457031 -5.546875 7.914063 -4.957031 C 7.371094 -4.367188 6.390625 -4.070313 4.976563 -4.074219 L 2.40625 -4.074219 L 2.40625 0 Z M 2.40625 -5.257813 L 4.996094 -5.257813 C 5.851563 -5.253906 6.460938 -5.414063 6.820313 -5.734375 C 7.179688 -6.050781 7.359375 -6.5 7.363281 -7.082031 C 7.359375 -7.5 7.253906 -7.859375 7.042969 -8.15625 C 6.832031 -8.453125 6.550781 -8.648438 6.207031 -8.75 C 5.980469 -8.804688 5.570313 -8.835938 4.96875 -8.839844 L 2.40625 -8.839844 Z M 2.40625 -5.257813 \"/>\n",
       "</symbol>\n",
       "<symbol overflow=\"visible\" id=\"glyph0-14\">\n",
       "<path style=\"stroke:none;\" d=\"M 0.894531 0 L 0.894531 -10.023438 L 2.125 -10.023438 L 2.125 0 Z M 0.894531 0 \"/>\n",
       "</symbol>\n",
       "<symbol overflow=\"visible\" id=\"glyph0-15\">\n",
       "<path style=\"stroke:none;\" d=\"M 0.929688 -8.605469 L 0.929688 -10.023438 L 2.160156 -10.023438 L 2.160156 -8.605469 Z M 0.929688 0 L 0.929688 -7.257813 L 2.160156 -7.257813 L 2.160156 0 Z M 0.929688 0 \"/>\n",
       "</symbol>\n",
       "<symbol overflow=\"visible\" id=\"glyph0-16\">\n",
       "<path style=\"stroke:none;\" d=\"M 3.609375 -1.101563 L 3.789063 -0.015625 C 3.4375 0.0585938 3.128906 0.09375 2.859375 0.09375 C 2.410156 0.09375 2.0625 0.0234375 1.816406 -0.117188 C 1.570313 -0.257813 1.394531 -0.441406 1.296875 -0.671875 C 1.195313 -0.902344 1.148438 -1.386719 1.148438 -2.125 L 1.148438 -6.304688 L 0.246094 -6.304688 L 0.246094 -7.257813 L 1.148438 -7.257813 L 1.148438 -9.058594 L 2.371094 -9.796875 L 2.371094 -7.257813 L 3.609375 -7.257813 L 3.609375 -6.304688 L 2.371094 -6.304688 L 2.371094 -2.058594 C 2.367188 -1.703125 2.386719 -1.476563 2.433594 -1.378906 C 2.472656 -1.277344 2.546875 -1.199219 2.648438 -1.140625 C 2.746094 -1.082031 2.886719 -1.054688 3.070313 -1.054688 C 3.203125 -1.054688 3.382813 -1.070313 3.609375 -1.101563 Z M 3.609375 -1.101563 \"/>\n",
       "</symbol>\n",
       "<symbol overflow=\"visible\" id=\"glyph0-17\">\n",
       "<path style=\"stroke:none;\" d=\"M 5.660156 -2.660156 L 6.871094 -2.5 C 6.734375 -1.664063 6.394531 -1.011719 5.855469 -0.542969 C 5.308594 -0.0703125 4.640625 0.164063 3.847656 0.164063 C 2.851563 0.164063 2.054688 -0.160156 1.453125 -0.808594 C 0.847656 -1.457031 0.542969 -2.386719 0.546875 -3.601563 C 0.542969 -4.382813 0.675781 -5.070313 0.9375 -5.660156 C 1.195313 -6.246094 1.589844 -6.683594 2.121094 -6.980469 C 2.652344 -7.269531 3.230469 -7.417969 3.855469 -7.421875 C 4.644531 -7.417969 5.289063 -7.21875 5.789063 -6.824219 C 6.289063 -6.421875 6.609375 -5.855469 6.753906 -5.125 L 5.558594 -4.941406 C 5.441406 -5.425781 5.238281 -5.792969 4.953125 -6.042969 C 4.660156 -6.285156 4.3125 -6.410156 3.902344 -6.414063 C 3.28125 -6.410156 2.777344 -6.1875 2.390625 -5.746094 C 2.003906 -5.296875 1.808594 -4.59375 1.8125 -3.636719 C 1.808594 -2.65625 1.996094 -1.945313 2.371094 -1.507813 C 2.742188 -1.0625 3.230469 -0.84375 3.835938 -0.847656 C 4.316406 -0.84375 4.71875 -0.992188 5.042969 -1.289063 C 5.367188 -1.585938 5.574219 -2.042969 5.660156 -2.660156 Z M 5.660156 -2.660156 \"/>\n",
       "</symbol>\n",
       "<symbol overflow=\"visible\" id=\"glyph0-18\">\n",
       "<path style=\"stroke:none;\" d=\"M 1.078125 0 L 1.078125 -10.023438 L 4.53125 -10.023438 C 5.308594 -10.019531 5.90625 -9.972656 6.316406 -9.878906 C 6.890625 -9.746094 7.378906 -9.503906 7.785156 -9.160156 C 8.3125 -8.710938 8.707031 -8.140625 8.972656 -7.449219 C 9.230469 -6.75 9.363281 -5.957031 9.367188 -5.066406 C 9.363281 -4.300781 9.273438 -3.625 9.097656 -3.039063 C 8.917969 -2.449219 8.691406 -1.964844 8.414063 -1.582031 C 8.136719 -1.195313 7.832031 -0.890625 7.503906 -0.671875 C 7.171875 -0.449219 6.773438 -0.28125 6.304688 -0.171875 C 5.835938 -0.0546875 5.296875 0 4.695313 0 Z M 2.40625 -1.183594 L 4.546875 -1.183594 C 5.207031 -1.183594 5.722656 -1.242188 6.101563 -1.367188 C 6.472656 -1.484375 6.773438 -1.660156 7 -1.886719 C 7.3125 -2.199219 7.558594 -2.621094 7.734375 -3.15625 C 7.910156 -3.683594 7.996094 -4.328125 8 -5.085938 C 7.996094 -6.132813 7.824219 -6.9375 7.480469 -7.5 C 7.132813 -8.0625 6.714844 -8.4375 6.226563 -8.632813 C 5.871094 -8.765625 5.300781 -8.835938 4.511719 -8.839844 L 2.40625 -8.839844 Z M 2.40625 -1.183594 \"/>\n",
       "</symbol>\n",
       "<symbol overflow=\"visible\" id=\"glyph0-19\">\n",
       "<path style=\"stroke:none;\" d=\"M 0.429688 -2.167969 L 1.648438 -2.359375 C 1.710938 -1.867188 1.902344 -1.492188 2.21875 -1.234375 C 2.527344 -0.972656 2.964844 -0.84375 3.527344 -0.847656 C 4.089844 -0.84375 4.507813 -0.957031 4.785156 -1.191406 C 5.054688 -1.417969 5.191406 -1.691406 5.195313 -2.003906 C 5.191406 -2.28125 5.070313 -2.5 4.832031 -2.660156 C 4.660156 -2.769531 4.242188 -2.90625 3.574219 -3.078125 C 2.671875 -3.300781 2.046875 -3.5 1.699219 -3.667969 C 1.347656 -3.832031 1.082031 -4.058594 0.90625 -4.355469 C 0.722656 -4.644531 0.632813 -4.972656 0.636719 -5.332031 C 0.632813 -5.652344 0.707031 -5.949219 0.855469 -6.230469 C 1.003906 -6.503906 1.203125 -6.734375 1.460938 -6.917969 C 1.648438 -7.054688 1.910156 -7.171875 2.246094 -7.273438 C 2.574219 -7.367188 2.929688 -7.417969 3.308594 -7.421875 C 3.875 -7.417969 4.375 -7.335938 4.808594 -7.175781 C 5.234375 -7.007813 5.550781 -6.785156 5.761719 -6.507813 C 5.964844 -6.226563 6.109375 -5.851563 6.1875 -5.386719 L 4.984375 -5.222656 C 4.925781 -5.589844 4.765625 -5.882813 4.507813 -6.097656 C 4.242188 -6.304688 3.875 -6.410156 3.398438 -6.414063 C 2.832031 -6.410156 2.425781 -6.316406 2.1875 -6.132813 C 1.941406 -5.941406 1.820313 -5.722656 1.824219 -5.476563 C 1.820313 -5.3125 1.871094 -5.167969 1.976563 -5.046875 C 2.070313 -4.910156 2.226563 -4.800781 2.445313 -4.71875 C 2.566406 -4.667969 2.929688 -4.5625 3.535156 -4.402344 C 4.402344 -4.167969 5.011719 -3.980469 5.355469 -3.832031 C 5.699219 -3.683594 5.96875 -3.464844 6.164063 -3.183594 C 6.359375 -2.898438 6.457031 -2.550781 6.460938 -2.132813 C 6.457031 -1.71875 6.335938 -1.332031 6.101563 -0.972656 C 5.859375 -0.609375 5.515625 -0.328125 5.066406 -0.132813 C 4.613281 0.0664063 4.101563 0.164063 3.535156 0.164063 C 2.585938 0.164063 1.867188 -0.03125 1.375 -0.421875 C 0.878906 -0.8125 0.5625 -1.394531 0.429688 -2.167969 Z M 0.429688 -2.167969 \"/>\n",
       "</symbol>\n",
       "<symbol overflow=\"visible\" id=\"glyph0-20\">\n",
       "<path style=\"stroke:none;\" d=\"M 5.632813 0 L 5.632813 -0.914063 C 5.167969 -0.195313 4.492188 0.164063 3.601563 0.164063 C 3.019531 0.164063 2.488281 0.0078125 2.003906 -0.3125 C 1.519531 -0.628906 1.140625 -1.074219 0.875 -1.648438 C 0.605469 -2.21875 0.472656 -2.878906 0.476563 -3.625 C 0.472656 -4.347656 0.59375 -5.003906 0.839844 -5.59375 C 1.078125 -6.183594 1.441406 -6.636719 1.925781 -6.949219 C 2.40625 -7.261719 2.945313 -7.417969 3.546875 -7.421875 C 3.980469 -7.417969 4.371094 -7.324219 4.714844 -7.144531 C 5.054688 -6.957031 5.332031 -6.71875 5.550781 -6.425781 L 5.550781 -10.023438 L 6.773438 -10.023438 L 6.773438 0 Z M 1.742188 -3.625 C 1.738281 -2.691406 1.933594 -1.996094 2.328125 -1.535156 C 2.71875 -1.074219 3.183594 -0.84375 3.71875 -0.847656 C 4.253906 -0.84375 4.710938 -1.0625 5.085938 -1.507813 C 5.460938 -1.945313 5.648438 -2.617188 5.652344 -3.519531 C 5.648438 -4.511719 5.457031 -5.242188 5.078125 -5.707031 C 4.691406 -6.171875 4.21875 -6.402344 3.664063 -6.40625 C 3.113281 -6.402344 2.65625 -6.179688 2.292969 -5.734375 C 1.921875 -5.285156 1.738281 -4.582031 1.742188 -3.625 Z M 1.742188 -3.625 \"/>\n",
       "</symbol>\n",
       "<symbol overflow=\"visible\" id=\"glyph0-21\">\n",
       "<path style=\"stroke:none;\" d=\"M 5.890625 -2.335938 L 7.164063 -2.179688 C 6.960938 -1.4375 6.589844 -0.859375 6.046875 -0.449219 C 5.503906 -0.0390625 4.8125 0.164063 3.972656 0.164063 C 2.910156 0.164063 2.066406 -0.160156 1.445313 -0.816406 C 0.820313 -1.464844 0.507813 -2.382813 0.511719 -3.570313 C 0.507813 -4.785156 0.824219 -5.734375 1.453125 -6.410156 C 2.082031 -7.082031 2.898438 -7.417969 3.902344 -7.421875 C 4.871094 -7.417969 5.664063 -7.085938 6.28125 -6.429688 C 6.894531 -5.765625 7.199219 -4.839844 7.203125 -3.644531 C 7.199219 -3.570313 7.199219 -3.460938 7.199219 -3.316406 L 1.785156 -3.316406 C 1.828125 -2.515625 2.054688 -1.902344 2.460938 -1.480469 C 2.867188 -1.054688 3.371094 -0.84375 3.976563 -0.847656 C 4.425781 -0.84375 4.8125 -0.960938 5.132813 -1.203125 C 5.453125 -1.4375 5.703125 -1.816406 5.890625 -2.335938 Z M 1.851563 -4.328125 L 5.90625 -4.328125 C 5.851563 -4.933594 5.695313 -5.390625 5.441406 -5.703125 C 5.046875 -6.171875 4.539063 -6.410156 3.917969 -6.414063 C 3.351563 -6.410156 2.875 -6.21875 2.492188 -5.84375 C 2.101563 -5.460938 1.890625 -4.957031 1.851563 -4.328125 Z M 1.851563 -4.328125 \"/>\n",
       "</symbol>\n",
       "<symbol overflow=\"visible\" id=\"glyph0-22\">\n",
       "<path style=\"stroke:none;\" d=\"M 1.148438 0 L 1.148438 -10.023438 L 7.910156 -10.023438 L 7.910156 -8.839844 L 2.476563 -8.839844 L 2.476563 -5.734375 L 7.179688 -5.734375 L 7.179688 -4.554688 L 2.476563 -4.554688 L 2.476563 0 Z M 1.148438 0 \"/>\n",
       "</symbol>\n",
       "<symbol overflow=\"visible\" id=\"glyph0-23\">\n",
       "<path style=\"stroke:none;\" d=\"M -0.210938 2.78125 L -0.210938 1.894531 L 7.945313 1.894531 L 7.945313 2.78125 Z M -0.210938 2.78125 \"/>\n",
       "</symbol>\n",
       "<symbol overflow=\"visible\" id=\"glyph0-24\">\n",
       "<path style=\"stroke:none;\" d=\"M 0.867188 2.796875 L 0.730469 1.640625 C 0.996094 1.710938 1.230469 1.746094 1.4375 1.75 C 1.703125 1.746094 1.921875 1.699219 2.089844 1.613281 C 2.25 1.519531 2.386719 1.394531 2.496094 1.230469 C 2.570313 1.105469 2.695313 0.796875 2.871094 0.3125 C 2.894531 0.242188 2.929688 0.144531 2.980469 0.015625 L 0.226563 -7.257813 L 1.550781 -7.257813 L 3.0625 -3.054688 C 3.253906 -2.519531 3.429688 -1.960938 3.589844 -1.375 C 3.726563 -1.9375 3.894531 -2.488281 4.09375 -3.027344 L 5.648438 -7.257813 L 6.875 -7.257813 L 4.117188 0.125 C 3.816406 0.917969 3.585938 1.46875 3.425781 1.769531 C 3.203125 2.175781 2.953125 2.472656 2.671875 2.660156 C 2.390625 2.847656 2.050781 2.941406 1.660156 2.945313 C 1.417969 2.941406 1.15625 2.890625 0.867188 2.796875 Z M 0.867188 2.796875 \"/>\n",
       "</symbol>\n",
       "<symbol overflow=\"visible\" id=\"glyph0-25\">\n",
       "<path style=\"stroke:none;\" d=\"M 0.929688 0 L 0.929688 -10.023438 L 2.160156 -10.023438 L 2.160156 -4.304688 L 5.070313 -7.257813 L 6.664063 -7.257813 L 3.890625 -4.566406 L 6.945313 0 L 5.429688 0 L 3.027344 -3.710938 L 2.160156 -2.878906 L 2.160156 0 Z M 0.929688 0 \"/>\n",
       "</symbol>\n",
       "</g>\n",
       "</defs>\n",
       "<g id=\"surface603\">\n",
       "<rect x=\"0\" y=\"0\" width=\"700\" height=\"600\" style=\"fill:rgb(100%,100%,100%);fill-opacity:1;stroke:none;\"/>\n",
       "<path style=\"fill:none;stroke-width:0.7384;stroke-linecap:butt;stroke-linejoin:miter;stroke:rgb(26.666667%,26.666667%,26.666667%);stroke-opacity:1;stroke-miterlimit:10;\" d=\"M 297.910156 510 L 171.601563 90 \"/>\n",
       "<path style=\"fill:none;stroke-width:1.584;stroke-linecap:butt;stroke-linejoin:miter;stroke:rgb(26.666667%,26.666667%,26.666667%);stroke-opacity:1;stroke-miterlimit:10;\" d=\"M 297.910156 510 L 214.664063 352.078125 \"/>\n",
       "<path style=\"fill:none;stroke-width:2.2156;stroke-linecap:butt;stroke-linejoin:miter;stroke:rgb(26.666667%,26.666667%,26.666667%);stroke-opacity:1;stroke-miterlimit:10;\" d=\"M 297.910156 510 L 346.410156 329.710938 \"/>\n",
       "<path style=\"fill:none;stroke-width:0.9328;stroke-linecap:butt;stroke-linejoin:miter;stroke:rgb(26.666667%,26.666667%,26.666667%);stroke-opacity:1;stroke-miterlimit:10;\" d=\"M 297.910156 510 L 364.601563 111.214844 \"/>\n",
       "<path style=\"fill:none;stroke-width:0.7416;stroke-linecap:butt;stroke-linejoin:miter;stroke:rgb(26.666667%,26.666667%,26.666667%);stroke-opacity:1;stroke-miterlimit:10;\" d=\"M 297.910156 510 L 90 383.054688 \"/>\n",
       "<path style=\"fill:none;stroke-width:3.3332;stroke-linecap:butt;stroke-linejoin:miter;stroke:rgb(26.666667%,26.666667%,26.666667%);stroke-opacity:1;stroke-miterlimit:10;\" d=\"M 297.910156 510 L 273.664063 254.265625 \"/>\n",
       "<path style=\"fill:none;stroke-width:0.1652;stroke-linecap:butt;stroke-linejoin:miter;stroke:rgb(26.666667%,26.666667%,26.666667%);stroke-opacity:1;stroke-miterlimit:10;\" d=\"M 297.910156 510 L 610 331.308594 \"/>\n",
       "<path style=\"fill:none;stroke-width:1.262;stroke-linecap:butt;stroke-linejoin:miter;stroke:rgb(26.666667%,26.666667%,26.666667%);stroke-opacity:1;stroke-miterlimit:10;\" d=\"M 171.601563 90 L 214.664063 352.078125 \"/>\n",
       "<path style=\"fill:none;stroke-width:1.2152;stroke-linecap:butt;stroke-linejoin:miter;stroke:rgb(26.666667%,26.666667%,26.666667%);stroke-opacity:1;stroke-miterlimit:10;\" d=\"M 171.601563 90 L 346.410156 329.710938 \"/>\n",
       "<path style=\"fill:none;stroke-width:0.5544;stroke-linecap:butt;stroke-linejoin:miter;stroke:rgb(26.666667%,26.666667%,26.666667%);stroke-opacity:1;stroke-miterlimit:10;\" d=\"M 171.601563 90 L 364.601563 111.214844 \"/>\n",
       "<path style=\"fill:none;stroke-width:0.6976;stroke-linecap:butt;stroke-linejoin:miter;stroke:rgb(26.666667%,26.666667%,26.666667%);stroke-opacity:1;stroke-miterlimit:10;\" d=\"M 171.601563 90 L 90 383.054688 \"/>\n",
       "<path style=\"fill:none;stroke-width:2.6724;stroke-linecap:butt;stroke-linejoin:miter;stroke:rgb(26.666667%,26.666667%,26.666667%);stroke-opacity:1;stroke-miterlimit:10;\" d=\"M 171.601563 90 L 273.664063 254.265625 \"/>\n",
       "<path style=\"fill:none;stroke-width:0.1488;stroke-linecap:butt;stroke-linejoin:miter;stroke:rgb(26.666667%,26.666667%,26.666667%);stroke-opacity:1;stroke-miterlimit:10;\" d=\"M 171.601563 90 L 610 331.308594 \"/>\n",
       "<path style=\"fill:none;stroke-width:3.99;stroke-linecap:butt;stroke-linejoin:miter;stroke:rgb(26.666667%,26.666667%,26.666667%);stroke-opacity:1;stroke-miterlimit:10;\" d=\"M 214.664063 352.078125 L 346.410156 329.710938 \"/>\n",
       "<path style=\"fill:none;stroke-width:1.4616;stroke-linecap:butt;stroke-linejoin:miter;stroke:rgb(26.666667%,26.666667%,26.666667%);stroke-opacity:1;stroke-miterlimit:10;\" d=\"M 214.664063 352.078125 L 364.601563 111.214844 \"/>\n",
       "<path style=\"fill:none;stroke-width:1.1884;stroke-linecap:butt;stroke-linejoin:miter;stroke:rgb(26.666667%,26.666667%,26.666667%);stroke-opacity:1;stroke-miterlimit:10;\" d=\"M 214.664063 352.078125 L 90 383.054688 \"/>\n",
       "<path style=\"fill:none;stroke-width:6.7276;stroke-linecap:butt;stroke-linejoin:miter;stroke:rgb(26.666667%,26.666667%,26.666667%);stroke-opacity:1;stroke-miterlimit:10;\" d=\"M 214.664063 352.078125 L 273.664063 254.265625 \"/>\n",
       "<path style=\"fill:none;stroke-width:0.198;stroke-linecap:butt;stroke-linejoin:miter;stroke:rgb(26.666667%,26.666667%,26.666667%);stroke-opacity:1;stroke-miterlimit:10;\" d=\"M 214.664063 352.078125 L 610 331.308594 \"/>\n",
       "<path style=\"fill:none;stroke-width:2.3844;stroke-linecap:butt;stroke-linejoin:miter;stroke:rgb(26.666667%,26.666667%,26.666667%);stroke-opacity:1;stroke-miterlimit:10;\" d=\"M 346.410156 329.710938 L 364.601563 111.214844 \"/>\n",
       "<path style=\"fill:none;stroke-width:1.1644;stroke-linecap:butt;stroke-linejoin:miter;stroke:rgb(26.666667%,26.666667%,26.666667%);stroke-opacity:1;stroke-miterlimit:10;\" d=\"M 346.410156 329.710938 L 90 383.054688 \"/>\n",
       "<path style=\"fill:none;stroke-width:8.6892;stroke-linecap:butt;stroke-linejoin:miter;stroke:rgb(26.666667%,26.666667%,26.666667%);stroke-opacity:1;stroke-miterlimit:10;\" d=\"M 346.410156 329.710938 L 273.664063 254.265625 \"/>\n",
       "<path style=\"fill:none;stroke-width:0.3472;stroke-linecap:butt;stroke-linejoin:miter;stroke:rgb(26.666667%,26.666667%,26.666667%);stroke-opacity:1;stroke-miterlimit:10;\" d=\"M 346.410156 329.710938 L 610 331.308594 \"/>\n",
       "<path style=\"fill:none;stroke-width:0.462;stroke-linecap:butt;stroke-linejoin:miter;stroke:rgb(26.666667%,26.666667%,26.666667%);stroke-opacity:1;stroke-miterlimit:10;\" d=\"M 364.601563 111.214844 L 90 383.054688 \"/>\n",
       "<path style=\"fill:none;stroke-width:2.9816;stroke-linecap:butt;stroke-linejoin:miter;stroke:rgb(26.666667%,26.666667%,26.666667%);stroke-opacity:1;stroke-miterlimit:10;\" d=\"M 364.601563 111.214844 L 273.664063 254.265625 \"/>\n",
       "<path style=\"fill:none;stroke-width:0.1604;stroke-linecap:butt;stroke-linejoin:miter;stroke:rgb(26.666667%,26.666667%,26.666667%);stroke-opacity:1;stroke-miterlimit:10;\" d=\"M 364.601563 111.214844 L 610 331.308594 \"/>\n",
       "<path style=\"fill:none;stroke-width:1.946;stroke-linecap:butt;stroke-linejoin:miter;stroke:rgb(26.666667%,26.666667%,26.666667%);stroke-opacity:1;stroke-miterlimit:10;\" d=\"M 90 383.054688 L 273.664063 254.265625 \"/>\n",
       "<path style=\"fill:none;stroke-width:0.094;stroke-linecap:butt;stroke-linejoin:miter;stroke:rgb(26.666667%,26.666667%,26.666667%);stroke-opacity:1;stroke-miterlimit:10;\" d=\"M 90 383.054688 L 610 331.308594 \"/>\n",
       "<path style=\"fill:none;stroke-width:0.5588;stroke-linecap:butt;stroke-linejoin:miter;stroke:rgb(26.666667%,26.666667%,26.666667%);stroke-opacity:1;stroke-miterlimit:10;\" d=\"M 273.664063 254.265625 L 610 331.308594 \"/>\n",
       "<path style=\"fill-rule:nonzero;fill:rgb(100%,0%,0%);fill-opacity:1;stroke-width:1;stroke-linecap:butt;stroke-linejoin:miter;stroke:rgb(0%,0%,0%);stroke-opacity:1;stroke-miterlimit:10;\" d=\"M 303.90625 510 C 303.90625 513.3125 301.222656 515.996094 297.910156 515.996094 C 294.597656 515.996094 291.910156 513.3125 291.910156 510 C 291.910156 506.6875 294.597656 504.003906 297.910156 504.003906 C 301.222656 504.003906 303.90625 506.6875 303.90625 510 \"/>\n",
       "<path style=\"fill-rule:nonzero;fill:rgb(100%,64.705882%,0%);fill-opacity:1;stroke-width:1;stroke-linecap:butt;stroke-linejoin:miter;stroke:rgb(0%,0%,0%);stroke-opacity:1;stroke-miterlimit:10;\" d=\"M 175.929688 90 C 175.929688 95.769531 167.273438 95.769531 167.273438 90 C 167.273438 84.230469 175.929688 84.230469 175.929688 90 \"/>\n",
       "<path style=\"fill-rule:nonzero;fill:rgb(100%,0%,0%);fill-opacity:1;stroke-width:1;stroke-linecap:butt;stroke-linejoin:miter;stroke:rgb(0%,0%,0%);stroke-opacity:1;stroke-miterlimit:10;\" d=\"M 228.480469 352.078125 C 228.480469 359.707031 222.296875 365.894531 214.664063 365.894531 C 207.035156 365.894531 200.847656 359.707031 200.847656 352.078125 C 200.847656 344.445313 207.035156 338.261719 214.664063 338.261719 C 222.296875 338.261719 228.480469 344.445313 228.480469 352.078125 \"/>\n",
       "<path style=\"fill-rule:nonzero;fill:rgb(0%,0%,100%);fill-opacity:1;stroke-width:1;stroke-linecap:butt;stroke-linejoin:miter;stroke:rgb(0%,0%,0%);stroke-opacity:1;stroke-miterlimit:10;\" d=\"M 371.792969 329.710938 C 371.792969 343.730469 360.429688 355.09375 346.410156 355.09375 C 332.390625 355.09375 321.027344 343.730469 321.027344 329.710938 C 321.027344 315.691406 332.390625 304.324219 346.410156 304.324219 C 360.429688 304.324219 371.792969 315.691406 371.792969 329.710938 \"/>\n",
       "<path style=\"fill-rule:nonzero;fill:rgb(100%,64.705882%,0%);fill-opacity:1;stroke-width:1;stroke-linecap:butt;stroke-linejoin:miter;stroke:rgb(0%,0%,0%);stroke-opacity:1;stroke-miterlimit:10;\" d=\"M 371.785156 111.214844 C 371.785156 115.183594 368.570313 118.402344 364.601563 118.402344 C 360.632813 118.402344 357.414063 115.183594 357.414063 111.214844 C 357.414063 107.246094 360.632813 104.027344 364.601563 104.027344 C 368.570313 104.027344 371.785156 107.246094 371.785156 111.214844 \"/>\n",
       "<path style=\"fill-rule:nonzero;fill:rgb(100%,0%,0%);fill-opacity:1;stroke-width:1;stroke-linecap:butt;stroke-linejoin:miter;stroke:rgb(0%,0%,0%);stroke-opacity:1;stroke-miterlimit:10;\" d=\"M 93.355469 383.054688 C 93.355469 387.53125 86.644531 387.53125 86.644531 383.054688 C 86.644531 378.582031 93.355469 378.582031 93.355469 383.054688 \"/>\n",
       "<path style=\"fill-rule:nonzero;fill:rgb(100%,64.705882%,0%);fill-opacity:1;stroke-width:1;stroke-linecap:butt;stroke-linejoin:miter;stroke:rgb(0%,0%,0%);stroke-opacity:1;stroke-miterlimit:10;\" d=\"M 313.210938 254.265625 C 313.210938 276.105469 295.503906 293.808594 273.664063 293.808594 C 251.824219 293.808594 234.121094 276.105469 234.121094 254.265625 C 234.121094 232.425781 251.824219 214.71875 273.664063 214.71875 C 295.503906 214.71875 313.210938 232.425781 313.210938 254.265625 \"/>\n",
       "<path style=\"fill-rule:nonzero;fill:rgb(0%,100%,0%);fill-opacity:1;stroke-width:1;stroke-linecap:butt;stroke-linejoin:miter;stroke:rgb(0%,0%,0%);stroke-opacity:1;stroke-miterlimit:10;\" d=\"M 611.960938 331.308594 C 611.960938 333.925781 608.039063 333.925781 608.039063 331.308594 C 608.039063 328.695313 611.960938 328.695313 611.960938 331.308594 \"/>\n",
       "<g style=\"fill:rgb(0%,0%,0%);fill-opacity:1;\">\n",
       "  <use xlink:href=\"#glyph0-1\" x=\"235.164063\" y=\"516.597656\"/>\n",
       "  <use xlink:href=\"#glyph0-2\" x=\"244.501953\" y=\"516.597656\"/>\n",
       "  <use xlink:href=\"#glyph0-3\" x=\"252.288086\" y=\"516.597656\"/>\n",
       "  <use xlink:href=\"#glyph0-4\" x=\"260.074219\" y=\"516.597656\"/>\n",
       "  <use xlink:href=\"#glyph0-5\" x=\"267.860352\" y=\"516.597656\"/>\n",
       "  <use xlink:href=\"#glyph0-6\" x=\"275.646484\" y=\"516.597656\"/>\n",
       "  <use xlink:href=\"#glyph0-7\" x=\"283.432617\" y=\"516.597656\"/>\n",
       "  <use xlink:href=\"#glyph0-8\" x=\"291.984375\" y=\"516.597656\"/>\n",
       "  <use xlink:href=\"#glyph0-4\" x=\"296.646484\" y=\"516.597656\"/>\n",
       "  <use xlink:href=\"#glyph0-9\" x=\"304.432617\" y=\"516.597656\"/>\n",
       "  <use xlink:href=\"#glyph0-10\" x=\"316.094727\" y=\"516.597656\"/>\n",
       "  <use xlink:href=\"#glyph0-11\" x=\"323.880859\" y=\"516.597656\"/>\n",
       "  <use xlink:href=\"#glyph0-10\" x=\"333.21875\" y=\"516.597656\"/>\n",
       "  <use xlink:href=\"#glyph0-12\" x=\"341.004883\" y=\"516.597656\"/>\n",
       "  <use xlink:href=\"#glyph0-9\" x=\"348.791016\" y=\"516.597656\"/>\n",
       "</g>\n",
       "<g style=\"fill:rgb(0%,0%,0%);fill-opacity:1;\">\n",
       "  <use xlink:href=\"#glyph0-13\" x=\"113.578125\" y=\"96.511719\"/>\n",
       "  <use xlink:href=\"#glyph0-3\" x=\"122.916016\" y=\"96.511719\"/>\n",
       "  <use xlink:href=\"#glyph0-14\" x=\"130.702148\" y=\"96.511719\"/>\n",
       "  <use xlink:href=\"#glyph0-15\" x=\"133.8125\" y=\"96.511719\"/>\n",
       "  <use xlink:href=\"#glyph0-16\" x=\"136.922852\" y=\"96.511719\"/>\n",
       "  <use xlink:href=\"#glyph0-15\" x=\"140.8125\" y=\"96.511719\"/>\n",
       "  <use xlink:href=\"#glyph0-17\" x=\"143.922852\" y=\"96.511719\"/>\n",
       "  <use xlink:href=\"#glyph0-12\" x=\"150.922852\" y=\"96.511719\"/>\n",
       "  <use xlink:href=\"#glyph0-14\" x=\"158.708984\" y=\"96.511719\"/>\n",
       "  <use xlink:href=\"#glyph0-18\" x=\"161.819336\" y=\"96.511719\"/>\n",
       "  <use xlink:href=\"#glyph0-15\" x=\"171.929688\" y=\"96.511719\"/>\n",
       "  <use xlink:href=\"#glyph0-19\" x=\"175.040039\" y=\"96.511719\"/>\n",
       "  <use xlink:href=\"#glyph0-17\" x=\"182.040039\" y=\"96.511719\"/>\n",
       "  <use xlink:href=\"#glyph0-4\" x=\"189.040039\" y=\"96.511719\"/>\n",
       "  <use xlink:href=\"#glyph0-19\" x=\"196.826172\" y=\"96.511719\"/>\n",
       "  <use xlink:href=\"#glyph0-19\" x=\"203.826172\" y=\"96.511719\"/>\n",
       "  <use xlink:href=\"#glyph0-15\" x=\"210.826172\" y=\"96.511719\"/>\n",
       "  <use xlink:href=\"#glyph0-3\" x=\"213.936523\" y=\"96.511719\"/>\n",
       "  <use xlink:href=\"#glyph0-2\" x=\"221.722656\" y=\"96.511719\"/>\n",
       "</g>\n",
       "<g style=\"fill:rgb(0%,0%,0%);fill-opacity:1;\">\n",
       "  <use xlink:href=\"#glyph0-11\" x=\"148.257813\" y=\"358.671875\"/>\n",
       "  <use xlink:href=\"#glyph0-12\" x=\"157.595703\" y=\"358.671875\"/>\n",
       "  <use xlink:href=\"#glyph0-2\" x=\"165.381836\" y=\"358.671875\"/>\n",
       "  <use xlink:href=\"#glyph0-20\" x=\"173.167969\" y=\"358.671875\"/>\n",
       "  <use xlink:href=\"#glyph0-21\" x=\"180.954102\" y=\"358.671875\"/>\n",
       "  <use xlink:href=\"#glyph0-8\" x=\"188.740234\" y=\"358.671875\"/>\n",
       "  <use xlink:href=\"#glyph0-19\" x=\"193.402344\" y=\"358.671875\"/>\n",
       "  <use xlink:href=\"#glyph0-22\" x=\"200.402344\" y=\"358.671875\"/>\n",
       "  <use xlink:href=\"#glyph0-3\" x=\"208.954102\" y=\"358.671875\"/>\n",
       "  <use xlink:href=\"#glyph0-8\" x=\"216.740234\" y=\"358.671875\"/>\n",
       "  <use xlink:href=\"#glyph0-13\" x=\"221.402344\" y=\"358.671875\"/>\n",
       "  <use xlink:href=\"#glyph0-8\" x=\"230.740234\" y=\"358.671875\"/>\n",
       "  <use xlink:href=\"#glyph0-21\" x=\"235.402344\" y=\"358.671875\"/>\n",
       "  <use xlink:href=\"#glyph0-19\" x=\"243.188477\" y=\"358.671875\"/>\n",
       "  <use xlink:href=\"#glyph0-15\" x=\"250.188477\" y=\"358.671875\"/>\n",
       "  <use xlink:href=\"#glyph0-20\" x=\"253.298828\" y=\"358.671875\"/>\n",
       "  <use xlink:href=\"#glyph0-21\" x=\"261.084961\" y=\"358.671875\"/>\n",
       "  <use xlink:href=\"#glyph0-2\" x=\"268.871094\" y=\"358.671875\"/>\n",
       "  <use xlink:href=\"#glyph0-16\" x=\"276.657227\" y=\"358.671875\"/>\n",
       "</g>\n",
       "<g style=\"fill:rgb(0%,0%,0%);fill-opacity:1;\">\n",
       "  <use xlink:href=\"#glyph0-7\" x=\"308.613281\" y=\"336.21875\"/>\n",
       "  <use xlink:href=\"#glyph0-6\" x=\"317.165039\" y=\"336.21875\"/>\n",
       "  <use xlink:href=\"#glyph0-21\" x=\"324.951172\" y=\"336.21875\"/>\n",
       "  <use xlink:href=\"#glyph0-23\" x=\"332.737305\" y=\"336.21875\"/>\n",
       "  <use xlink:href=\"#glyph0-18\" x=\"340.523438\" y=\"336.21875\"/>\n",
       "  <use xlink:href=\"#glyph0-3\" x=\"350.633789\" y=\"336.21875\"/>\n",
       "  <use xlink:href=\"#glyph0-2\" x=\"358.419922\" y=\"336.21875\"/>\n",
       "  <use xlink:href=\"#glyph0-12\" x=\"366.206055\" y=\"336.21875\"/>\n",
       "  <use xlink:href=\"#glyph0-14\" x=\"373.992188\" y=\"336.21875\"/>\n",
       "  <use xlink:href=\"#glyph0-20\" x=\"377.102539\" y=\"336.21875\"/>\n",
       "</g>\n",
       "<g style=\"fill:rgb(0%,0%,0%);fill-opacity:1;\">\n",
       "  <use xlink:href=\"#glyph0-17\" x=\"330.929688\" y=\"117.726563\"/>\n",
       "  <use xlink:href=\"#glyph0-3\" x=\"337.929688\" y=\"117.726563\"/>\n",
       "  <use xlink:href=\"#glyph0-2\" x=\"345.71582\" y=\"117.726563\"/>\n",
       "  <use xlink:href=\"#glyph0-19\" x=\"353.501953\" y=\"117.726563\"/>\n",
       "  <use xlink:href=\"#glyph0-10\" x=\"360.501953\" y=\"117.726563\"/>\n",
       "  <use xlink:href=\"#glyph0-15\" x=\"368.288086\" y=\"117.726563\"/>\n",
       "  <use xlink:href=\"#glyph0-8\" x=\"371.398438\" y=\"117.726563\"/>\n",
       "  <use xlink:href=\"#glyph0-12\" x=\"376.060547\" y=\"117.726563\"/>\n",
       "  <use xlink:href=\"#glyph0-17\" x=\"383.84668\" y=\"117.726563\"/>\n",
       "  <use xlink:href=\"#glyph0-24\" x=\"390.84668\" y=\"117.726563\"/>\n",
       "</g>\n",
       "<g style=\"fill:rgb(0%,0%,0%);fill-opacity:1;\">\n",
       "  <use xlink:href=\"#glyph0-6\" x=\"51.503906\" y=\"389.566406\"/>\n",
       "  <use xlink:href=\"#glyph0-15\" x=\"59.290039\" y=\"389.566406\"/>\n",
       "  <use xlink:href=\"#glyph0-14\" x=\"62.400391\" y=\"389.566406\"/>\n",
       "  <use xlink:href=\"#glyph0-14\" x=\"65.510742\" y=\"389.566406\"/>\n",
       "  <use xlink:href=\"#glyph0-12\" x=\"68.621094\" y=\"389.566406\"/>\n",
       "  <use xlink:href=\"#glyph0-8\" x=\"76.407227\" y=\"389.566406\"/>\n",
       "  <use xlink:href=\"#glyph0-24\" x=\"81.069336\" y=\"389.566406\"/>\n",
       "  <use xlink:href=\"#glyph0-17\" x=\"88.069336\" y=\"389.566406\"/>\n",
       "  <use xlink:href=\"#glyph0-14\" x=\"95.069336\" y=\"389.566406\"/>\n",
       "  <use xlink:href=\"#glyph0-15\" x=\"98.179688\" y=\"389.566406\"/>\n",
       "  <use xlink:href=\"#glyph0-2\" x=\"101.290039\" y=\"389.566406\"/>\n",
       "  <use xlink:href=\"#glyph0-16\" x=\"109.076172\" y=\"389.566406\"/>\n",
       "  <use xlink:href=\"#glyph0-3\" x=\"112.96582\" y=\"389.566406\"/>\n",
       "  <use xlink:href=\"#glyph0-2\" x=\"120.751953\" y=\"389.566406\"/>\n",
       "</g>\n",
       "<g style=\"fill:rgb(0%,0%,0%);fill-opacity:1;\">\n",
       "  <use xlink:href=\"#glyph0-10\" x=\"252.078125\" y=\"260.777344\"/>\n",
       "  <use xlink:href=\"#glyph0-3\" x=\"259.864258\" y=\"260.777344\"/>\n",
       "  <use xlink:href=\"#glyph0-14\" x=\"267.650391\" y=\"260.777344\"/>\n",
       "  <use xlink:href=\"#glyph0-15\" x=\"270.760742\" y=\"260.777344\"/>\n",
       "  <use xlink:href=\"#glyph0-16\" x=\"273.871094\" y=\"260.777344\"/>\n",
       "  <use xlink:href=\"#glyph0-15\" x=\"277.760742\" y=\"260.777344\"/>\n",
       "  <use xlink:href=\"#glyph0-17\" x=\"280.871094\" y=\"260.777344\"/>\n",
       "  <use xlink:href=\"#glyph0-19\" x=\"287.871094\" y=\"260.777344\"/>\n",
       "</g>\n",
       "<g style=\"fill:rgb(0%,0%,0%);fill-opacity:1;\">\n",
       "  <use xlink:href=\"#glyph0-4\" x=\"581.03125\" y=\"337.820313\"/>\n",
       "  <use xlink:href=\"#glyph0-25\" x=\"588.817383\" y=\"337.820313\"/>\n",
       "  <use xlink:href=\"#glyph0-10\" x=\"595.817383\" y=\"337.820313\"/>\n",
       "  <use xlink:href=\"#glyph0-3\" x=\"603.603516\" y=\"337.820313\"/>\n",
       "  <use xlink:href=\"#glyph0-14\" x=\"611.389648\" y=\"337.820313\"/>\n",
       "  <use xlink:href=\"#glyph0-15\" x=\"614.5\" y=\"337.820313\"/>\n",
       "  <use xlink:href=\"#glyph0-16\" x=\"617.610352\" y=\"337.820313\"/>\n",
       "  <use xlink:href=\"#glyph0-15\" x=\"621.5\" y=\"337.820313\"/>\n",
       "  <use xlink:href=\"#glyph0-17\" x=\"624.610352\" y=\"337.820313\"/>\n",
       "  <use xlink:href=\"#glyph0-19\" x=\"631.610352\" y=\"337.820313\"/>\n",
       "</g>\n",
       "</g>\n",
       "</svg>\n"
      ],
      "text/plain": [
       "<igraph.drawing.Plot at 0x22134cfb4e0>"
      ]
     },
     "execution_count": 383,
     "metadata": {},
     "output_type": "execute_result"
    }
   ],
   "source": [
    "g_politics_undirected = Graph()\n",
    "\n",
    "to_delete_ids = [v.index for v in g_politics_undirected.vs]\n",
    "g_politics_undirected.delete_vertices(to_delete_ids)\n",
    "\n",
    "g_politics_undirected.add_vertices(len(political_subreddits))\n",
    "g_politics_undirected.vs['label'] = political_subreddits\n",
    "edg_list = []\n",
    "for i in range(len(political_subreddits)):\n",
    "    for j in range(len(political_subreddits)):\n",
    "        mask = (edge_list_politics[\"Subreddit1\"] == political_subreddits[i]) & (edge_list_politics[\"Subreddit2\"] == political_subreddits[j])\n",
    "        if len(edge_list_politics[mask]) > 0:\n",
    "            edg_list = edg_list +[(i,j)]\n",
    "            \n",
    "g_politics_undirected.add_edges(edg_list)\n",
    "g_politics_undirected.es['weight'] = edge_list_politics[\"Weight\"].values\n",
    "\n",
    "g_politics_undirected.es['widht'] = edge_list_politics[\"Weight\"].values * 0.0004\n",
    "#What this algorithm (fruchterman_reingold) do is printing the nodes which have less weight connection more distanciated\n",
    "layout = g_politics_undirected.layout_fruchterman_reingold(weights = g_politics_undirected.es['weight'])\n",
    "\n",
    "visual_style = {}\n",
    "visual_style[\"bbox\"] = (700, 600)\n",
    "visual_style[\"margin\"] = 90\n",
    "visual_style[\"vertex_size\"] = [df_number_of_users.loc[s][\"number_of_users\"] * 0.001 for s in political_subreddits]\n",
    "subreddit_politic_colors = ['red', 'orange', 'red', 'blue', 'orange', 'red','orange', 'green']\n",
    "visual_style[\"vertex_color\"] = subreddit_politic_colors\n",
    "  \n",
    "plot(g_politics_undirected, layout = layout, **visual_style, edge_width = g_politics_undirected.es['widht'])"
   ]
  },
  {
   "cell_type": "markdown",
   "metadata": {},
   "source": [
    "In this graph:\n",
    "* The balls size means the number of users who have commented in the respective subreddit.\n",
    "* The edges width means the number of users who have commented in both subreddits. \n",
    "* The layout algorithm (fruchterman_reingold) print the nodes which have less weight connection more distanciated (See more about it: https://github.com/gephi/gephi/wiki/Fruchterman-Reingold).\n",
    "\n",
    "We can clearly see that the `ukpolitics` subreddit is far away from the others due to its connection greatness is very small. This is obviously because it is the only one which is not focus in USA politics, so we see that there are not so much users who comment about both UK and USA politics.\n",
    "\n",
    "On the other hand we see that the `politics` is the most connected subreddit followed by `The_Donald`. So what we conclude is that the subreddits which have more users usually have more users in common with the others what makes sense. Unfortunately this is not revealing anything about the echo-chambing effect.\n",
    "\n",
    "So, let´s see what happens if we consider the greatness of the subreddit when we assign the edges width, i.e. if we now plot a directed graph in which the width of every edge is assigned in terms of the number of users in both origin and destination subreddits divided by the total number of users in the origin; so computing the percentage of users who have commented in the origin subreddit who have also commented in the destination:"
   ]
  },
  {
   "cell_type": "markdown",
   "metadata": {},
   "source": [
    "### Edges width ~ Percentage of users of the origin subreddit who have also commented in the destination subreddit\n",
    "First let's compute the new adjacency matrix; as we have described previously, now the weights are `Number_of_users_commenting_in_both/Number_of_users_commenting_in_origin`"
   ]
  },
  {
   "cell_type": "code",
   "execution_count": 386,
   "metadata": {},
   "outputs": [
    {
     "data": {
      "text/html": [
       "<div>\n",
       "<style scoped>\n",
       "    .dataframe tbody tr th:only-of-type {\n",
       "        vertical-align: middle;\n",
       "    }\n",
       "\n",
       "    .dataframe tbody tr th {\n",
       "        vertical-align: top;\n",
       "    }\n",
       "\n",
       "    .dataframe thead th {\n",
       "        text-align: right;\n",
       "    }\n",
       "</style>\n",
       "<table border=\"1\" class=\"dataframe\">\n",
       "  <thead>\n",
       "    <tr style=\"text-align: right;\">\n",
       "      <th></th>\n",
       "      <th>EnoughTrumpSpam</th>\n",
       "      <th>PoliticalDiscussion</th>\n",
       "      <th>SandersForPresident</th>\n",
       "      <th>The_Donald</th>\n",
       "      <th>conspiracy</th>\n",
       "      <th>hillaryclinton</th>\n",
       "      <th>politics</th>\n",
       "      <th>ukpolitics</th>\n",
       "    </tr>\n",
       "    <tr>\n",
       "      <th>subreddits</th>\n",
       "      <th></th>\n",
       "      <th></th>\n",
       "      <th></th>\n",
       "      <th></th>\n",
       "      <th></th>\n",
       "      <th></th>\n",
       "      <th></th>\n",
       "      <th></th>\n",
       "    </tr>\n",
       "  </thead>\n",
       "  <tbody>\n",
       "    <tr>\n",
       "      <th>EnoughTrumpSpam</th>\n",
       "      <td>0.000000</td>\n",
       "      <td>15.388463</td>\n",
       "      <td>33.011004</td>\n",
       "      <td>46.173725</td>\n",
       "      <td>19.439813</td>\n",
       "      <td>15.455152</td>\n",
       "      <td>69.464822</td>\n",
       "      <td>3.442814</td>\n",
       "    </tr>\n",
       "    <tr>\n",
       "      <th>PoliticalDiscussion</th>\n",
       "      <td>21.328712</td>\n",
       "      <td>0.000000</td>\n",
       "      <td>36.452917</td>\n",
       "      <td>35.101098</td>\n",
       "      <td>16.013865</td>\n",
       "      <td>20.150202</td>\n",
       "      <td>77.192374</td>\n",
       "      <td>4.298094</td>\n",
       "    </tr>\n",
       "    <tr>\n",
       "      <th>SandersForPresident</th>\n",
       "      <td>14.330692</td>\n",
       "      <td>11.417508</td>\n",
       "      <td>0.000000</td>\n",
       "      <td>36.098144</td>\n",
       "      <td>13.223320</td>\n",
       "      <td>10.751638</td>\n",
       "      <td>60.865632</td>\n",
       "      <td>1.791336</td>\n",
       "    </tr>\n",
       "    <tr>\n",
       "      <th>The_Donald</th>\n",
       "      <td>10.910416</td>\n",
       "      <td>5.984084</td>\n",
       "      <td>19.648204</td>\n",
       "      <td>0.000000</td>\n",
       "      <td>11.741648</td>\n",
       "      <td>5.733927</td>\n",
       "      <td>42.788765</td>\n",
       "      <td>1.709738</td>\n",
       "    </tr>\n",
       "    <tr>\n",
       "      <th>conspiracy</th>\n",
       "      <td>16.224866</td>\n",
       "      <td>9.643081</td>\n",
       "      <td>25.422668</td>\n",
       "      <td>41.473596</td>\n",
       "      <td>0.000000</td>\n",
       "      <td>8.035901</td>\n",
       "      <td>51.861129</td>\n",
       "      <td>2.789953</td>\n",
       "    </tr>\n",
       "    <tr>\n",
       "      <th>hillaryclinton</th>\n",
       "      <td>27.622169</td>\n",
       "      <td>25.983313</td>\n",
       "      <td>44.264005</td>\n",
       "      <td>43.370083</td>\n",
       "      <td>17.207986</td>\n",
       "      <td>0.000000</td>\n",
       "      <td>72.482122</td>\n",
       "      <td>3.501192</td>\n",
       "    </tr>\n",
       "    <tr>\n",
       "      <th>politics</th>\n",
       "      <td>10.536098</td>\n",
       "      <td>8.447338</td>\n",
       "      <td>21.265647</td>\n",
       "      <td>27.466178</td>\n",
       "      <td>9.424706</td>\n",
       "      <td>6.151220</td>\n",
       "      <td>0.000000</td>\n",
       "      <td>1.766342</td>\n",
       "    </tr>\n",
       "    <tr>\n",
       "      <th>ukpolitics</th>\n",
       "      <td>10.522293</td>\n",
       "      <td>9.477707</td>\n",
       "      <td>12.611465</td>\n",
       "      <td>22.114650</td>\n",
       "      <td>10.216561</td>\n",
       "      <td>5.987261</td>\n",
       "      <td>35.592357</td>\n",
       "      <td>0.000000</td>\n",
       "    </tr>\n",
       "  </tbody>\n",
       "</table>\n",
       "</div>"
      ],
      "text/plain": [
       "                     EnoughTrumpSpam  PoliticalDiscussion  \\\n",
       "subreddits                                                  \n",
       "EnoughTrumpSpam             0.000000            15.388463   \n",
       "PoliticalDiscussion        21.328712             0.000000   \n",
       "SandersForPresident        14.330692            11.417508   \n",
       "The_Donald                 10.910416             5.984084   \n",
       "conspiracy                 16.224866             9.643081   \n",
       "hillaryclinton             27.622169            25.983313   \n",
       "politics                   10.536098             8.447338   \n",
       "ukpolitics                 10.522293             9.477707   \n",
       "\n",
       "                     SandersForPresident  The_Donald  conspiracy  \\\n",
       "subreddits                                                         \n",
       "EnoughTrumpSpam                33.011004   46.173725   19.439813   \n",
       "PoliticalDiscussion            36.452917   35.101098   16.013865   \n",
       "SandersForPresident             0.000000   36.098144   13.223320   \n",
       "The_Donald                     19.648204    0.000000   11.741648   \n",
       "conspiracy                     25.422668   41.473596    0.000000   \n",
       "hillaryclinton                 44.264005   43.370083   17.207986   \n",
       "politics                       21.265647   27.466178    9.424706   \n",
       "ukpolitics                     12.611465   22.114650   10.216561   \n",
       "\n",
       "                     hillaryclinton   politics  ukpolitics  \n",
       "subreddits                                                  \n",
       "EnoughTrumpSpam           15.455152  69.464822    3.442814  \n",
       "PoliticalDiscussion       20.150202  77.192374    4.298094  \n",
       "SandersForPresident       10.751638  60.865632    1.791336  \n",
       "The_Donald                 5.733927  42.788765    1.709738  \n",
       "conspiracy                 8.035901  51.861129    2.789953  \n",
       "hillaryclinton             0.000000  72.482122    3.501192  \n",
       "politics                   6.151220   0.000000    1.766342  \n",
       "ukpolitics                 5.987261  35.592357    0.000000  "
      ]
     },
     "execution_count": 386,
     "metadata": {},
     "output_type": "execute_result"
    }
   ],
   "source": [
    "df_for_total_users = df.set_index(\"subreddit\")\n",
    "\n",
    "df_politics_adj_percentages = df_politics_adj.copy()\n",
    "for i in df_politics_adj_percentages.index:\n",
    "    total_users = len(df_for_total_users.loc[i].users)\n",
    "    df_politics_adj_percentages.loc[i] = df_politics_adj_percentages.loc[i] / total_users * 100\n",
    "df_politics_adj_percentages"
   ]
  },
  {
   "cell_type": "markdown",
   "metadata": {},
   "source": [
    "Now we have more interesting data for the echo-chambing effect study!  \n",
    "Analyzing the data frame row by row, each row contains the percentage of people who have commented in both the index and the column subreddit (of this row) respective to the peoplewho have commented in the index subreddit; i.e.   \n",
    "`%(i,j)=users_commenting_in(i_subreddit,j_subreddit)/users_commenting_in(i_subreddit)` where i refers to the row and j to the column."
   ]
  },
  {
   "cell_type": "code",
   "execution_count": 404,
   "metadata": {},
   "outputs": [
    {
     "data": {
      "text/plain": [
       "22.167321254896528"
      ]
     },
     "execution_count": 404,
     "metadata": {},
     "output_type": "execute_result"
    }
   ],
   "source": [
    " A_perc[A_perc.nonzero()].mean()"
   ]
  },
  {
   "cell_type": "markdown",
   "metadata": {},
   "source": [
    "So we see that the percentage of people who have commented in two determined subreddits usually is very small (less than 25%). Considering that we are working with all the comments posted in these subreddits during 2016, this means that the different political communities (subreddits) in Reddit are not usually very well connected, at least not those which were in the top 200 greatest communities in 2016. Assuming that there exists echo chambing effect inside any of this subreddits, then we have proved that the echo chambing effect is affecting the users of this community in the whole Reddit, since these users are not interacting so much with other communities. \n",
    "\n",
    "In order to strengthen this fact (that the political communities are not well connected), we compute the percentage of people who have comment in more than one of these subreddits:"
   ]
  },
  {
   "cell_type": "code",
   "execution_count": 416,
   "metadata": {},
   "outputs": [
    {
     "data": {
      "text/plain": [
       "50768"
      ]
     },
     "execution_count": 416,
     "metadata": {},
     "output_type": "execute_result"
    }
   ],
   "source": [
    "len(df_users_politic.loc[\"The_Donald\"][\"users\"])"
   ]
  },
  {
   "cell_type": "code",
   "execution_count": 420,
   "metadata": {},
   "outputs": [
    {
     "name": "stdout",
     "output_type": "stream",
     "text": [
      "0.14041382346467093\n"
     ]
    }
   ],
   "source": [
    "df_users_politic = df_number_of_users.loc[political_subreddits].copy()\n",
    "total_users = 0\n",
    "users_in_more_1_subr = 0  #Users who have commented in more than one subreddit\n",
    "for i in range(len(political_subreddits)-1):\n",
    "    for u in df_users_politic.loc[political_subreddits[i]][\"users\"]:\n",
    "        isin_other_subreddit = False\n",
    "        for j in range(i+1, len(political_subreddits)):\n",
    "            if u in df_users_politic.loc[political_subreddits[j]][\"users\"]:\n",
    "                isin_other_subreddit = True\n",
    "                df_users_politic.loc[political_subreddits[j]][\"users\"].remove(u)\n",
    "        if isin_other_subreddit:\n",
    "            users_in_more_1_subr = users_in_more_1_subr+1\n",
    "        total_users = total_users +1\n",
    "\n",
    "print(users_in_more_1_subr/total_users) "
   ]
  },
  {
   "cell_type": "markdown",
   "metadata": {},
   "source": [
    "Just the 14% of the users who commented in one of the political subreddits have commented in more than one! This fact strengthen our claim and so we can reasset that the political communities inside reddit are not well-connected (there are not so much interactions between them)."
   ]
  },
  {
   "cell_type": "markdown",
   "metadata": {},
   "source": [
    "Finally, with these data we can also analyze which of these political subreddits is interacting more or less with the others (and so in which of the communities our claim is strongest). We do that after plot the visualization:"
   ]
  },
  {
   "cell_type": "markdown",
   "metadata": {},
   "source": [
    "#### Visualization 3 "
   ]
  },
  {
   "cell_type": "code",
   "execution_count": 400,
   "metadata": {
    "scrolled": false
   },
   "outputs": [
    {
     "data": {
      "image/svg+xml": [
       "<?xml version=\"1.0\" encoding=\"UTF-8\"?>\n",
       "<svg xmlns=\"http://www.w3.org/2000/svg\" xmlns:xlink=\"http://www.w3.org/1999/xlink\" width=\"800pt\" height=\"600pt\" viewBox=\"0 0 800 600\" version=\"1.1\">\n",
       "<defs>\n",
       "<g>\n",
       "<symbol overflow=\"visible\" id=\"glyph0-0\">\n",
       "<path style=\"stroke:none;\" d=\"M 1.75 0 L 1.75 -8.75 L 8.75 -8.75 L 8.75 0 Z M 1.96875 -0.21875 L 8.53125 -0.21875 L 8.53125 -8.53125 L 1.96875 -8.53125 Z M 1.96875 -0.21875 \"/>\n",
       "</symbol>\n",
       "<symbol overflow=\"visible\" id=\"glyph0-1\">\n",
       "<path style=\"stroke:none;\" d=\"M 1.109375 0 L 1.109375 -10.023438 L 8.351563 -10.023438 L 8.351563 -8.839844 L 2.433594 -8.839844 L 2.433594 -5.769531 L 7.976563 -5.769531 L 7.976563 -4.59375 L 2.433594 -4.59375 L 2.433594 -1.183594 L 8.585938 -1.183594 L 8.585938 0 Z M 1.109375 0 \"/>\n",
       "</symbol>\n",
       "<symbol overflow=\"visible\" id=\"glyph0-2\">\n",
       "<path style=\"stroke:none;\" d=\"M 0.921875 0 L 0.921875 -7.257813 L 2.03125 -7.257813 L 2.03125 -6.226563 C 2.558594 -7.019531 3.328125 -7.417969 4.339844 -7.421875 C 4.773438 -7.417969 5.175781 -7.339844 5.546875 -7.1875 C 5.910156 -7.027344 6.183594 -6.820313 6.371094 -6.570313 C 6.550781 -6.3125 6.679688 -6.011719 6.753906 -5.660156 C 6.796875 -5.433594 6.820313 -5.035156 6.820313 -4.464844 L 6.820313 0 L 5.59375 0 L 5.59375 -4.414063 C 5.589844 -4.914063 5.542969 -5.289063 5.449219 -5.539063 C 5.351563 -5.785156 5.179688 -5.984375 4.9375 -6.136719 C 4.691406 -6.28125 4.40625 -6.355469 4.082031 -6.359375 C 3.554688 -6.355469 3.101563 -6.191406 2.722656 -5.859375 C 2.339844 -5.523438 2.148438 -4.890625 2.152344 -3.964844 L 2.152344 0 Z M 0.921875 0 \"/>\n",
       "</symbol>\n",
       "<symbol overflow=\"visible\" id=\"glyph0-3\">\n",
       "<path style=\"stroke:none;\" d=\"M 0.464844 -3.628906 C 0.460938 -4.972656 0.835938 -5.96875 1.585938 -6.617188 C 2.207031 -7.148438 2.96875 -7.417969 3.867188 -7.421875 C 4.867188 -7.417969 5.683594 -7.089844 6.316406 -6.441406 C 6.949219 -5.785156 7.265625 -4.882813 7.265625 -3.734375 C 7.265625 -2.796875 7.125 -2.0625 6.84375 -1.527344 C 6.5625 -0.992188 6.152344 -0.578125 5.621094 -0.28125 C 5.082031 0.015625 4.5 0.164063 3.867188 0.164063 C 2.851563 0.164063 2.027344 -0.160156 1.402344 -0.8125 C 0.773438 -1.460938 0.460938 -2.398438 0.464844 -3.628906 Z M 1.730469 -3.628906 C 1.726563 -2.695313 1.929688 -2 2.335938 -1.539063 C 2.738281 -1.074219 3.25 -0.84375 3.867188 -0.847656 C 4.476563 -0.84375 4.984375 -1.074219 5.390625 -1.542969 C 5.796875 -2.003906 6 -2.714844 6 -3.671875 C 6 -4.566406 5.792969 -5.246094 5.386719 -5.710938 C 4.976563 -6.171875 4.472656 -6.402344 3.867188 -6.40625 C 3.25 -6.402344 2.738281 -6.171875 2.335938 -5.714844 C 1.929688 -5.25 1.726563 -4.554688 1.730469 -3.628906 Z M 1.730469 -3.628906 \"/>\n",
       "</symbol>\n",
       "<symbol overflow=\"visible\" id=\"glyph0-4\">\n",
       "<path style=\"stroke:none;\" d=\"M 5.679688 0 L 5.679688 -1.066406 C 5.109375 -0.246094 4.34375 0.164063 3.375 0.164063 C 2.945313 0.164063 2.542969 0.0820313 2.175781 -0.0820313 C 1.800781 -0.246094 1.527344 -0.449219 1.347656 -0.699219 C 1.167969 -0.945313 1.039063 -1.25 0.96875 -1.613281 C 0.914063 -1.851563 0.890625 -2.234375 0.894531 -2.761719 L 0.894531 -7.257813 L 2.125 -7.257813 L 2.125 -3.234375 C 2.121094 -2.589844 2.148438 -2.15625 2.203125 -1.933594 C 2.277344 -1.609375 2.4375 -1.355469 2.691406 -1.171875 C 2.941406 -0.984375 3.253906 -0.890625 3.625 -0.894531 C 3.988281 -0.890625 4.332031 -0.984375 4.660156 -1.175781 C 4.980469 -1.363281 5.210938 -1.621094 5.347656 -1.949219 C 5.480469 -2.273438 5.546875 -2.746094 5.550781 -3.371094 L 5.550781 -7.257813 L 6.78125 -7.257813 L 6.78125 0 Z M 5.679688 0 \"/>\n",
       "</symbol>\n",
       "<symbol overflow=\"visible\" id=\"glyph0-5\">\n",
       "<path style=\"stroke:none;\" d=\"M 0.695313 0.601563 L 1.894531 0.78125 C 1.941406 1.144531 2.082031 1.414063 2.3125 1.585938 C 2.613281 1.8125 3.03125 1.925781 3.5625 1.929688 C 4.128906 1.925781 4.566406 1.8125 4.878906 1.585938 C 5.1875 1.355469 5.398438 1.035156 5.507813 0.628906 C 5.570313 0.375 5.597656 -0.148438 5.597656 -0.949219 C 5.058594 -0.316406 4.390625 0 3.589844 0 C 2.589844 0 1.816406 -0.359375 1.273438 -1.078125 C 0.722656 -1.796875 0.449219 -2.660156 0.453125 -3.671875 C 0.449219 -4.363281 0.574219 -5.003906 0.828125 -5.589844 C 1.074219 -6.175781 1.4375 -6.625 1.917969 -6.945313 C 2.390625 -7.257813 2.949219 -7.417969 3.59375 -7.421875 C 4.449219 -7.417969 5.15625 -7.070313 5.714844 -6.382813 L 5.714844 -7.257813 L 6.851563 -7.257813 L 6.851563 -0.984375 C 6.847656 0.144531 6.734375 0.945313 6.503906 1.417969 C 6.273438 1.886719 5.90625 2.257813 5.410156 2.535156 C 4.910156 2.804688 4.296875 2.941406 3.570313 2.945313 C 2.699219 2.941406 2 2.746094 1.46875 2.359375 C 0.933594 1.96875 0.675781 1.382813 0.695313 0.601563 Z M 1.714844 -3.757813 C 1.710938 -2.804688 1.898438 -2.113281 2.28125 -1.675781 C 2.65625 -1.238281 3.132813 -1.019531 3.703125 -1.019531 C 4.269531 -1.019531 4.742188 -1.234375 5.128906 -1.671875 C 5.507813 -2.101563 5.699219 -2.785156 5.703125 -3.71875 C 5.699219 -4.605469 5.503906 -5.273438 5.109375 -5.726563 C 4.714844 -6.175781 4.238281 -6.402344 3.683594 -6.40625 C 3.132813 -6.402344 2.667969 -6.179688 2.289063 -5.738281 C 1.902344 -5.289063 1.710938 -4.628906 1.714844 -3.757813 Z M 1.714844 -3.757813 \"/>\n",
       "</symbol>\n",
       "<symbol overflow=\"visible\" id=\"glyph0-6\">\n",
       "<path style=\"stroke:none;\" d=\"M 0.921875 0 L 0.921875 -10.023438 L 2.152344 -10.023438 L 2.152344 -6.425781 C 2.722656 -7.085938 3.449219 -7.417969 4.328125 -7.421875 C 4.863281 -7.417969 5.328125 -7.3125 5.726563 -7.105469 C 6.121094 -6.890625 6.40625 -6.597656 6.578125 -6.226563 C 6.746094 -5.851563 6.832031 -5.308594 6.835938 -4.601563 L 6.835938 0 L 5.605469 0 L 5.605469 -4.601563 C 5.601563 -5.210938 5.46875 -5.660156 5.203125 -5.941406 C 4.9375 -6.222656 4.558594 -6.363281 4.074219 -6.363281 C 3.707031 -6.363281 3.363281 -6.265625 3.042969 -6.078125 C 2.71875 -5.886719 2.492188 -5.632813 2.355469 -5.3125 C 2.21875 -4.988281 2.148438 -4.542969 2.152344 -3.972656 L 2.152344 0 Z M 0.921875 0 \"/>\n",
       "</symbol>\n",
       "<symbol overflow=\"visible\" id=\"glyph0-7\">\n",
       "<path style=\"stroke:none;\" d=\"M 3.628906 0 L 3.628906 -8.839844 L 0.328125 -8.839844 L 0.328125 -10.023438 L 8.273438 -10.023438 L 8.273438 -8.839844 L 4.957031 -8.839844 L 4.957031 0 Z M 3.628906 0 \"/>\n",
       "</symbol>\n",
       "<symbol overflow=\"visible\" id=\"glyph0-8\">\n",
       "<path style=\"stroke:none;\" d=\"M 0.910156 0 L 0.910156 -7.257813 L 2.015625 -7.257813 L 2.015625 -6.160156 C 2.296875 -6.667969 2.554688 -7.007813 2.796875 -7.175781 C 3.03125 -7.335938 3.296875 -7.417969 3.589844 -7.421875 C 4 -7.417969 4.421875 -7.285156 4.851563 -7.027344 L 4.429688 -5.886719 C 4.125 -6.0625 3.824219 -6.152344 3.527344 -6.152344 C 3.257813 -6.152344 3.015625 -6.070313 2.800781 -5.910156 C 2.585938 -5.746094 2.433594 -5.519531 2.34375 -5.234375 C 2.207031 -4.792969 2.136719 -4.316406 2.140625 -3.800781 L 2.140625 0 Z M 0.910156 0 \"/>\n",
       "</symbol>\n",
       "<symbol overflow=\"visible\" id=\"glyph0-9\">\n",
       "<path style=\"stroke:none;\" d=\"M 0.921875 0 L 0.921875 -7.257813 L 2.023438 -7.257813 L 2.023438 -6.242188 C 2.25 -6.59375 2.554688 -6.878906 2.933594 -7.097656 C 3.308594 -7.308594 3.738281 -7.417969 4.226563 -7.421875 C 4.757813 -7.417969 5.199219 -7.304688 5.546875 -7.085938 C 5.886719 -6.859375 6.128906 -6.550781 6.273438 -6.152344 C 6.847656 -6.996094 7.59375 -7.417969 8.515625 -7.421875 C 9.234375 -7.417969 9.789063 -7.21875 10.175781 -6.824219 C 10.5625 -6.421875 10.757813 -5.808594 10.757813 -4.984375 L 10.757813 0 L 9.535156 0 L 9.535156 -4.574219 C 9.53125 -5.0625 9.492188 -5.417969 9.414063 -5.636719 C 9.332031 -5.851563 9.1875 -6.023438 8.980469 -6.160156 C 8.769531 -6.289063 8.523438 -6.355469 8.242188 -6.359375 C 7.730469 -6.355469 7.308594 -6.1875 6.972656 -5.847656 C 6.636719 -5.507813 6.46875 -4.964844 6.46875 -4.21875 L 6.46875 0 L 5.234375 0 L 5.234375 -4.71875 C 5.230469 -5.261719 5.132813 -5.671875 4.933594 -5.949219 C 4.730469 -6.21875 4.402344 -6.355469 3.953125 -6.359375 C 3.601563 -6.355469 3.28125 -6.265625 2.988281 -6.085938 C 2.695313 -5.902344 2.480469 -5.636719 2.351563 -5.285156 C 2.214844 -4.933594 2.148438 -4.425781 2.152344 -3.765625 L 2.152344 0 Z M 0.921875 0 \"/>\n",
       "</symbol>\n",
       "<symbol overflow=\"visible\" id=\"glyph0-10\">\n",
       "<path style=\"stroke:none;\" d=\"M 0.921875 2.78125 L 0.921875 -7.257813 L 2.042969 -7.257813 L 2.042969 -6.316406 C 2.304688 -6.683594 2.601563 -6.957031 2.9375 -7.144531 C 3.265625 -7.324219 3.671875 -7.417969 4.148438 -7.421875 C 4.765625 -7.417969 5.3125 -7.257813 5.789063 -6.945313 C 6.261719 -6.625 6.617188 -6.175781 6.863281 -5.59375 C 7.101563 -5.011719 7.222656 -4.375 7.226563 -3.683594 C 7.222656 -2.9375 7.089844 -2.269531 6.824219 -1.675781 C 6.554688 -1.082031 6.167969 -0.625 5.664063 -0.308594 C 5.152344 0.0078125 4.617188 0.164063 4.0625 0.164063 C 3.648438 0.164063 3.28125 0.078125 2.957031 -0.09375 C 2.628906 -0.265625 2.359375 -0.484375 2.152344 -0.75 L 2.152344 2.78125 Z M 2.039063 -3.589844 C 2.039063 -2.652344 2.226563 -1.960938 2.605469 -1.515625 C 2.980469 -1.066406 3.4375 -0.84375 3.976563 -0.847656 C 4.519531 -0.84375 4.988281 -1.074219 5.382813 -1.539063 C 5.769531 -2 5.964844 -2.71875 5.96875 -3.691406 C 5.964844 -4.613281 5.773438 -5.304688 5.398438 -5.769531 C 5.015625 -6.226563 4.5625 -6.457031 4.03125 -6.460938 C 3.507813 -6.457031 3.042969 -6.210938 2.640625 -5.726563 C 2.238281 -5.234375 2.039063 -4.523438 2.039063 -3.589844 Z M 2.039063 -3.589844 \"/>\n",
       "</symbol>\n",
       "<symbol overflow=\"visible\" id=\"glyph0-11\">\n",
       "<path style=\"stroke:none;\" d=\"M 0.628906 -3.21875 L 1.878906 -3.328125 C 1.9375 -2.828125 2.074219 -2.414063 2.292969 -2.09375 C 2.503906 -1.769531 2.839844 -1.511719 3.300781 -1.316406 C 3.753906 -1.117188 4.269531 -1.019531 4.839844 -1.019531 C 5.34375 -1.019531 5.789063 -1.09375 6.179688 -1.242188 C 6.566406 -1.390625 6.855469 -1.597656 7.042969 -1.863281 C 7.230469 -2.125 7.324219 -2.410156 7.328125 -2.71875 C 7.324219 -3.03125 7.234375 -3.304688 7.054688 -3.542969 C 6.871094 -3.777344 6.570313 -3.976563 6.152344 -4.136719 C 5.882813 -4.238281 5.285156 -4.398438 4.367188 -4.625 C 3.445313 -4.84375 2.800781 -5.054688 2.433594 -5.25 C 1.949219 -5.5 1.59375 -5.808594 1.363281 -6.183594 C 1.125 -6.550781 1.007813 -6.96875 1.011719 -7.429688 C 1.007813 -7.933594 1.152344 -8.40625 1.441406 -8.847656 C 1.730469 -9.285156 2.148438 -9.617188 2.699219 -9.847656 C 3.25 -10.074219 3.863281 -10.1875 4.539063 -10.191406 C 5.277344 -10.1875 5.933594 -10.070313 6.503906 -9.832031 C 7.070313 -9.59375 7.503906 -9.242188 7.8125 -8.777344 C 8.117188 -8.308594 8.28125 -7.78125 8.304688 -7.199219 L 7.035156 -7.101563 C 6.960938 -7.734375 6.730469 -8.210938 6.339844 -8.539063 C 5.945313 -8.859375 5.363281 -9.023438 4.59375 -9.023438 C 3.789063 -9.023438 3.203125 -8.875 2.839844 -8.582031 C 2.46875 -8.285156 2.285156 -7.929688 2.289063 -7.519531 C 2.285156 -7.15625 2.414063 -6.863281 2.679688 -6.632813 C 2.929688 -6.398438 3.597656 -6.15625 4.679688 -5.914063 C 5.753906 -5.667969 6.492188 -5.457031 6.898438 -5.277344 C 7.476563 -5.007813 7.90625 -4.667969 8.1875 -4.253906 C 8.460938 -3.839844 8.601563 -3.363281 8.605469 -2.828125 C 8.601563 -2.292969 8.449219 -1.792969 8.148438 -1.324219 C 7.839844 -0.851563 7.402344 -0.484375 6.832031 -0.222656 C 6.261719 0.0390625 5.617188 0.167969 4.902344 0.171875 C 3.992188 0.167969 3.230469 0.0390625 2.621094 -0.222656 C 2.003906 -0.488281 1.523438 -0.886719 1.179688 -1.417969 C 0.828125 -1.949219 0.644531 -2.546875 0.628906 -3.21875 Z M 0.628906 -3.21875 \"/>\n",
       "</symbol>\n",
       "<symbol overflow=\"visible\" id=\"glyph0-12\">\n",
       "<path style=\"stroke:none;\" d=\"M 5.660156 -0.894531 C 5.203125 -0.503906 4.761719 -0.230469 4.34375 -0.0742188 C 3.917969 0.0859375 3.46875 0.164063 2.988281 0.164063 C 2.1875 0.164063 1.574219 -0.0273438 1.148438 -0.417969 C 0.71875 -0.804688 0.503906 -1.304688 0.507813 -1.914063 C 0.503906 -2.265625 0.585938 -2.589844 0.75 -2.886719 C 0.910156 -3.179688 1.121094 -3.414063 1.382813 -3.59375 C 1.644531 -3.769531 1.9375 -3.90625 2.269531 -4 C 2.507813 -4.058594 2.875 -4.121094 3.363281 -4.183594 C 4.355469 -4.300781 5.085938 -4.441406 5.558594 -4.609375 C 5.558594 -4.773438 5.558594 -4.878906 5.5625 -4.929688 C 5.558594 -5.425781 5.445313 -5.78125 5.214844 -5.988281 C 4.898438 -6.265625 4.429688 -6.402344 3.8125 -6.40625 C 3.230469 -6.402344 2.804688 -6.300781 2.53125 -6.101563 C 2.253906 -5.894531 2.050781 -5.535156 1.921875 -5.023438 L 0.71875 -5.1875 C 0.824219 -5.699219 1.003906 -6.117188 1.257813 -6.433594 C 1.503906 -6.75 1.867188 -6.992188 2.34375 -7.164063 C 2.816406 -7.332031 3.363281 -7.417969 3.992188 -7.421875 C 4.609375 -7.417969 5.113281 -7.34375 5.503906 -7.203125 C 5.886719 -7.054688 6.171875 -6.871094 6.359375 -6.652344 C 6.539063 -6.429688 6.667969 -6.152344 6.742188 -5.816406 C 6.777344 -5.605469 6.796875 -5.226563 6.800781 -4.683594 L 6.800781 -3.042969 C 6.796875 -1.894531 6.824219 -1.171875 6.878906 -0.871094 C 6.933594 -0.566406 7.035156 -0.277344 7.191406 0 L 5.90625 0 C 5.777344 -0.253906 5.695313 -0.550781 5.660156 -0.894531 Z M 5.558594 -3.644531 C 5.109375 -3.460938 4.4375 -3.304688 3.546875 -3.179688 C 3.039063 -3.105469 2.683594 -3.023438 2.472656 -2.933594 C 2.261719 -2.839844 2.097656 -2.707031 1.988281 -2.53125 C 1.871094 -2.355469 1.816406 -2.160156 1.820313 -1.949219 C 1.816406 -1.617188 1.941406 -1.34375 2.191406 -1.128906 C 2.4375 -0.90625 2.800781 -0.796875 3.28125 -0.800781 C 3.753906 -0.796875 4.175781 -0.898438 4.546875 -1.109375 C 4.914063 -1.3125 5.183594 -1.597656 5.359375 -1.960938 C 5.488281 -2.238281 5.554688 -2.648438 5.558594 -3.191406 Z M 5.558594 -3.644531 \"/>\n",
       "</symbol>\n",
       "<symbol overflow=\"visible\" id=\"glyph0-13\">\n",
       "<path style=\"stroke:none;\" d=\"M 1.078125 0 L 1.078125 -10.023438 L 4.859375 -10.023438 C 5.523438 -10.019531 6.03125 -9.988281 6.382813 -9.925781 C 6.875 -9.84375 7.289063 -9.6875 7.621094 -9.457031 C 7.953125 -9.226563 8.222656 -8.902344 8.425781 -8.488281 C 8.628906 -8.070313 8.730469 -7.617188 8.730469 -7.125 C 8.730469 -6.269531 8.457031 -5.546875 7.914063 -4.957031 C 7.371094 -4.367188 6.390625 -4.070313 4.976563 -4.074219 L 2.40625 -4.074219 L 2.40625 0 Z M 2.40625 -5.257813 L 4.996094 -5.257813 C 5.851563 -5.253906 6.460938 -5.414063 6.820313 -5.734375 C 7.179688 -6.050781 7.359375 -6.5 7.363281 -7.082031 C 7.359375 -7.5 7.253906 -7.859375 7.042969 -8.15625 C 6.832031 -8.453125 6.550781 -8.648438 6.207031 -8.75 C 5.980469 -8.804688 5.570313 -8.835938 4.96875 -8.839844 L 2.40625 -8.839844 Z M 2.40625 -5.257813 \"/>\n",
       "</symbol>\n",
       "<symbol overflow=\"visible\" id=\"glyph0-14\">\n",
       "<path style=\"stroke:none;\" d=\"M 0.894531 0 L 0.894531 -10.023438 L 2.125 -10.023438 L 2.125 0 Z M 0.894531 0 \"/>\n",
       "</symbol>\n",
       "<symbol overflow=\"visible\" id=\"glyph0-15\">\n",
       "<path style=\"stroke:none;\" d=\"M 0.929688 -8.605469 L 0.929688 -10.023438 L 2.160156 -10.023438 L 2.160156 -8.605469 Z M 0.929688 0 L 0.929688 -7.257813 L 2.160156 -7.257813 L 2.160156 0 Z M 0.929688 0 \"/>\n",
       "</symbol>\n",
       "<symbol overflow=\"visible\" id=\"glyph0-16\">\n",
       "<path style=\"stroke:none;\" d=\"M 3.609375 -1.101563 L 3.789063 -0.015625 C 3.4375 0.0585938 3.128906 0.09375 2.859375 0.09375 C 2.410156 0.09375 2.0625 0.0234375 1.816406 -0.117188 C 1.570313 -0.257813 1.394531 -0.441406 1.296875 -0.671875 C 1.195313 -0.902344 1.148438 -1.386719 1.148438 -2.125 L 1.148438 -6.304688 L 0.246094 -6.304688 L 0.246094 -7.257813 L 1.148438 -7.257813 L 1.148438 -9.058594 L 2.371094 -9.796875 L 2.371094 -7.257813 L 3.609375 -7.257813 L 3.609375 -6.304688 L 2.371094 -6.304688 L 2.371094 -2.058594 C 2.367188 -1.703125 2.386719 -1.476563 2.433594 -1.378906 C 2.472656 -1.277344 2.546875 -1.199219 2.648438 -1.140625 C 2.746094 -1.082031 2.886719 -1.054688 3.070313 -1.054688 C 3.203125 -1.054688 3.382813 -1.070313 3.609375 -1.101563 Z M 3.609375 -1.101563 \"/>\n",
       "</symbol>\n",
       "<symbol overflow=\"visible\" id=\"glyph0-17\">\n",
       "<path style=\"stroke:none;\" d=\"M 5.660156 -2.660156 L 6.871094 -2.5 C 6.734375 -1.664063 6.394531 -1.011719 5.855469 -0.542969 C 5.308594 -0.0703125 4.640625 0.164063 3.847656 0.164063 C 2.851563 0.164063 2.054688 -0.160156 1.453125 -0.808594 C 0.847656 -1.457031 0.542969 -2.386719 0.546875 -3.601563 C 0.542969 -4.382813 0.675781 -5.070313 0.9375 -5.660156 C 1.195313 -6.246094 1.589844 -6.683594 2.121094 -6.980469 C 2.652344 -7.269531 3.230469 -7.417969 3.855469 -7.421875 C 4.644531 -7.417969 5.289063 -7.21875 5.789063 -6.824219 C 6.289063 -6.421875 6.609375 -5.855469 6.753906 -5.125 L 5.558594 -4.941406 C 5.441406 -5.425781 5.238281 -5.792969 4.953125 -6.042969 C 4.660156 -6.285156 4.3125 -6.410156 3.902344 -6.414063 C 3.28125 -6.410156 2.777344 -6.1875 2.390625 -5.746094 C 2.003906 -5.296875 1.808594 -4.59375 1.8125 -3.636719 C 1.808594 -2.65625 1.996094 -1.945313 2.371094 -1.507813 C 2.742188 -1.0625 3.230469 -0.84375 3.835938 -0.847656 C 4.316406 -0.84375 4.71875 -0.992188 5.042969 -1.289063 C 5.367188 -1.585938 5.574219 -2.042969 5.660156 -2.660156 Z M 5.660156 -2.660156 \"/>\n",
       "</symbol>\n",
       "<symbol overflow=\"visible\" id=\"glyph0-18\">\n",
       "<path style=\"stroke:none;\" d=\"M 1.078125 0 L 1.078125 -10.023438 L 4.53125 -10.023438 C 5.308594 -10.019531 5.90625 -9.972656 6.316406 -9.878906 C 6.890625 -9.746094 7.378906 -9.503906 7.785156 -9.160156 C 8.3125 -8.710938 8.707031 -8.140625 8.972656 -7.449219 C 9.230469 -6.75 9.363281 -5.957031 9.367188 -5.066406 C 9.363281 -4.300781 9.273438 -3.625 9.097656 -3.039063 C 8.917969 -2.449219 8.691406 -1.964844 8.414063 -1.582031 C 8.136719 -1.195313 7.832031 -0.890625 7.503906 -0.671875 C 7.171875 -0.449219 6.773438 -0.28125 6.304688 -0.171875 C 5.835938 -0.0546875 5.296875 0 4.695313 0 Z M 2.40625 -1.183594 L 4.546875 -1.183594 C 5.207031 -1.183594 5.722656 -1.242188 6.101563 -1.367188 C 6.472656 -1.484375 6.773438 -1.660156 7 -1.886719 C 7.3125 -2.199219 7.558594 -2.621094 7.734375 -3.15625 C 7.910156 -3.683594 7.996094 -4.328125 8 -5.085938 C 7.996094 -6.132813 7.824219 -6.9375 7.480469 -7.5 C 7.132813 -8.0625 6.714844 -8.4375 6.226563 -8.632813 C 5.871094 -8.765625 5.300781 -8.835938 4.511719 -8.839844 L 2.40625 -8.839844 Z M 2.40625 -1.183594 \"/>\n",
       "</symbol>\n",
       "<symbol overflow=\"visible\" id=\"glyph0-19\">\n",
       "<path style=\"stroke:none;\" d=\"M 0.429688 -2.167969 L 1.648438 -2.359375 C 1.710938 -1.867188 1.902344 -1.492188 2.21875 -1.234375 C 2.527344 -0.972656 2.964844 -0.84375 3.527344 -0.847656 C 4.089844 -0.84375 4.507813 -0.957031 4.785156 -1.191406 C 5.054688 -1.417969 5.191406 -1.691406 5.195313 -2.003906 C 5.191406 -2.28125 5.070313 -2.5 4.832031 -2.660156 C 4.660156 -2.769531 4.242188 -2.90625 3.574219 -3.078125 C 2.671875 -3.300781 2.046875 -3.5 1.699219 -3.667969 C 1.347656 -3.832031 1.082031 -4.058594 0.90625 -4.355469 C 0.722656 -4.644531 0.632813 -4.972656 0.636719 -5.332031 C 0.632813 -5.652344 0.707031 -5.949219 0.855469 -6.230469 C 1.003906 -6.503906 1.203125 -6.734375 1.460938 -6.917969 C 1.648438 -7.054688 1.910156 -7.171875 2.246094 -7.273438 C 2.574219 -7.367188 2.929688 -7.417969 3.308594 -7.421875 C 3.875 -7.417969 4.375 -7.335938 4.808594 -7.175781 C 5.234375 -7.007813 5.550781 -6.785156 5.761719 -6.507813 C 5.964844 -6.226563 6.109375 -5.851563 6.1875 -5.386719 L 4.984375 -5.222656 C 4.925781 -5.589844 4.765625 -5.882813 4.507813 -6.097656 C 4.242188 -6.304688 3.875 -6.410156 3.398438 -6.414063 C 2.832031 -6.410156 2.425781 -6.316406 2.1875 -6.132813 C 1.941406 -5.941406 1.820313 -5.722656 1.824219 -5.476563 C 1.820313 -5.3125 1.871094 -5.167969 1.976563 -5.046875 C 2.070313 -4.910156 2.226563 -4.800781 2.445313 -4.71875 C 2.566406 -4.667969 2.929688 -4.5625 3.535156 -4.402344 C 4.402344 -4.167969 5.011719 -3.980469 5.355469 -3.832031 C 5.699219 -3.683594 5.96875 -3.464844 6.164063 -3.183594 C 6.359375 -2.898438 6.457031 -2.550781 6.460938 -2.132813 C 6.457031 -1.71875 6.335938 -1.332031 6.101563 -0.972656 C 5.859375 -0.609375 5.515625 -0.328125 5.066406 -0.132813 C 4.613281 0.0664063 4.101563 0.164063 3.535156 0.164063 C 2.585938 0.164063 1.867188 -0.03125 1.375 -0.421875 C 0.878906 -0.8125 0.5625 -1.394531 0.429688 -2.167969 Z M 0.429688 -2.167969 \"/>\n",
       "</symbol>\n",
       "<symbol overflow=\"visible\" id=\"glyph0-20\">\n",
       "<path style=\"stroke:none;\" d=\"M 5.632813 0 L 5.632813 -0.914063 C 5.167969 -0.195313 4.492188 0.164063 3.601563 0.164063 C 3.019531 0.164063 2.488281 0.0078125 2.003906 -0.3125 C 1.519531 -0.628906 1.140625 -1.074219 0.875 -1.648438 C 0.605469 -2.21875 0.472656 -2.878906 0.476563 -3.625 C 0.472656 -4.347656 0.59375 -5.003906 0.839844 -5.59375 C 1.078125 -6.183594 1.441406 -6.636719 1.925781 -6.949219 C 2.40625 -7.261719 2.945313 -7.417969 3.546875 -7.421875 C 3.980469 -7.417969 4.371094 -7.324219 4.714844 -7.144531 C 5.054688 -6.957031 5.332031 -6.71875 5.550781 -6.425781 L 5.550781 -10.023438 L 6.773438 -10.023438 L 6.773438 0 Z M 1.742188 -3.625 C 1.738281 -2.691406 1.933594 -1.996094 2.328125 -1.535156 C 2.71875 -1.074219 3.183594 -0.84375 3.71875 -0.847656 C 4.253906 -0.84375 4.710938 -1.0625 5.085938 -1.507813 C 5.460938 -1.945313 5.648438 -2.617188 5.652344 -3.519531 C 5.648438 -4.511719 5.457031 -5.242188 5.078125 -5.707031 C 4.691406 -6.171875 4.21875 -6.402344 3.664063 -6.40625 C 3.113281 -6.402344 2.65625 -6.179688 2.292969 -5.734375 C 1.921875 -5.285156 1.738281 -4.582031 1.742188 -3.625 Z M 1.742188 -3.625 \"/>\n",
       "</symbol>\n",
       "<symbol overflow=\"visible\" id=\"glyph0-21\">\n",
       "<path style=\"stroke:none;\" d=\"M 5.890625 -2.335938 L 7.164063 -2.179688 C 6.960938 -1.4375 6.589844 -0.859375 6.046875 -0.449219 C 5.503906 -0.0390625 4.8125 0.164063 3.972656 0.164063 C 2.910156 0.164063 2.066406 -0.160156 1.445313 -0.816406 C 0.820313 -1.464844 0.507813 -2.382813 0.511719 -3.570313 C 0.507813 -4.785156 0.824219 -5.734375 1.453125 -6.410156 C 2.082031 -7.082031 2.898438 -7.417969 3.902344 -7.421875 C 4.871094 -7.417969 5.664063 -7.085938 6.28125 -6.429688 C 6.894531 -5.765625 7.199219 -4.839844 7.203125 -3.644531 C 7.199219 -3.570313 7.199219 -3.460938 7.199219 -3.316406 L 1.785156 -3.316406 C 1.828125 -2.515625 2.054688 -1.902344 2.460938 -1.480469 C 2.867188 -1.054688 3.371094 -0.84375 3.976563 -0.847656 C 4.425781 -0.84375 4.8125 -0.960938 5.132813 -1.203125 C 5.453125 -1.4375 5.703125 -1.816406 5.890625 -2.335938 Z M 1.851563 -4.328125 L 5.90625 -4.328125 C 5.851563 -4.933594 5.695313 -5.390625 5.441406 -5.703125 C 5.046875 -6.171875 4.539063 -6.410156 3.917969 -6.414063 C 3.351563 -6.410156 2.875 -6.21875 2.492188 -5.84375 C 2.101563 -5.460938 1.890625 -4.957031 1.851563 -4.328125 Z M 1.851563 -4.328125 \"/>\n",
       "</symbol>\n",
       "<symbol overflow=\"visible\" id=\"glyph0-22\">\n",
       "<path style=\"stroke:none;\" d=\"M 1.148438 0 L 1.148438 -10.023438 L 7.910156 -10.023438 L 7.910156 -8.839844 L 2.476563 -8.839844 L 2.476563 -5.734375 L 7.179688 -5.734375 L 7.179688 -4.554688 L 2.476563 -4.554688 L 2.476563 0 Z M 1.148438 0 \"/>\n",
       "</symbol>\n",
       "<symbol overflow=\"visible\" id=\"glyph0-23\">\n",
       "<path style=\"stroke:none;\" d=\"M -0.210938 2.78125 L -0.210938 1.894531 L 7.945313 1.894531 L 7.945313 2.78125 Z M -0.210938 2.78125 \"/>\n",
       "</symbol>\n",
       "<symbol overflow=\"visible\" id=\"glyph0-24\">\n",
       "<path style=\"stroke:none;\" d=\"M 0.867188 2.796875 L 0.730469 1.640625 C 0.996094 1.710938 1.230469 1.746094 1.4375 1.75 C 1.703125 1.746094 1.921875 1.699219 2.089844 1.613281 C 2.25 1.519531 2.386719 1.394531 2.496094 1.230469 C 2.570313 1.105469 2.695313 0.796875 2.871094 0.3125 C 2.894531 0.242188 2.929688 0.144531 2.980469 0.015625 L 0.226563 -7.257813 L 1.550781 -7.257813 L 3.0625 -3.054688 C 3.253906 -2.519531 3.429688 -1.960938 3.589844 -1.375 C 3.726563 -1.9375 3.894531 -2.488281 4.09375 -3.027344 L 5.648438 -7.257813 L 6.875 -7.257813 L 4.117188 0.125 C 3.816406 0.917969 3.585938 1.46875 3.425781 1.769531 C 3.203125 2.175781 2.953125 2.472656 2.671875 2.660156 C 2.390625 2.847656 2.050781 2.941406 1.660156 2.945313 C 1.417969 2.941406 1.15625 2.890625 0.867188 2.796875 Z M 0.867188 2.796875 \"/>\n",
       "</symbol>\n",
       "<symbol overflow=\"visible\" id=\"glyph0-25\">\n",
       "<path style=\"stroke:none;\" d=\"M 0.929688 0 L 0.929688 -10.023438 L 2.160156 -10.023438 L 2.160156 -4.304688 L 5.070313 -7.257813 L 6.664063 -7.257813 L 3.890625 -4.566406 L 6.945313 0 L 5.429688 0 L 3.027344 -3.710938 L 2.160156 -2.878906 L 2.160156 0 Z M 0.929688 0 \"/>\n",
       "</symbol>\n",
       "</g>\n",
       "</defs>\n",
       "<g id=\"surface657\">\n",
       "<rect x=\"0\" y=\"0\" width=\"800\" height=\"600\" style=\"fill:rgb(100%,100%,100%);fill-opacity:1;stroke:none;\"/>\n",
       "<path style=\"fill:none;stroke-width:1.077192;stroke-linecap:butt;stroke-linejoin:miter;stroke:rgb(100%,0%,0%);stroke-opacity:1;stroke-miterlimit:10;\" d=\"M 158.429688 386.128906 C 343.445313 510.875 522.691406 503.039063 693.289063 359.214844 \"/>\n",
       "<path style=\" stroke:none;fill-rule:nonzero;fill:rgb(100%,0%,0%);fill-opacity:1;\" d=\"M 696.648438 356.386719 L 694.210938 360.308594 L 692.371094 358.125 L 696.648438 356.386719 \"/>\n",
       "<path style=\"fill:none;stroke-width:2.31077;stroke-linecap:butt;stroke-linejoin:miter;stroke:rgb(100%,0%,0%);stroke-opacity:1;stroke-miterlimit:10;\" d=\"M 158.429688 386.128906 C 245.269531 464.292969 340.316406 475.589844 437.71875 411.160156 \"/>\n",
       "<path style=\" stroke:none;fill-rule:nonzero;fill:rgb(100%,0%,0%);fill-opacity:1;\" d=\"M 445.574219 405.960938 L 439.40625 413.710938 L 436.03125 408.605469 L 445.574219 405.960938 \"/>\n",
       "<path style=\"fill:none;stroke-width:3.232161;stroke-linecap:butt;stroke-linejoin:miter;stroke:rgb(100%,0%,0%);stroke-opacity:1;stroke-miterlimit:10;\" d=\"M 158.429688 386.128906 C 205.496094 398.285156 246.179688 385.636719 266.304688 341.691406 \"/>\n",
       "<path style=\" stroke:none;fill-rule:nonzero;fill:rgb(100%,0%,0%);fill-opacity:1;\" d=\"M 271.789063 329.714844 L 270.195313 343.472656 L 262.410156 339.910156 L 271.789063 329.714844 \"/>\n",
       "<path style=\"fill:none;stroke-width:1.360787;stroke-linecap:butt;stroke-linejoin:miter;stroke:rgb(100%,0%,0%);stroke-opacity:1;stroke-miterlimit:10;\" d=\"M 158.429688 386.128906 C 304.128906 418.515625 414.714844 370.261719 484.8125 238.503906 \"/>\n",
       "<path style=\" stroke:none;fill-rule:nonzero;fill:rgb(100%,0%,0%);fill-opacity:1;\" d=\"M 487.417969 233.609375 L 486.402344 239.351563 L 483.222656 237.65625 L 487.417969 233.609375 \"/>\n",
       "<path style=\"fill:none;stroke-width:1.081861;stroke-linecap:butt;stroke-linejoin:miter;stroke:rgb(100%,0%,0%);stroke-opacity:1;stroke-miterlimit:10;\" d=\"M 158.429688 386.128906 C 205.371094 481.398438 281.402344 521.21875 385.742188 501.453125 \"/>\n",
       "<path style=\" stroke:none;fill-rule:nonzero;fill:rgb(100%,0%,0%);fill-opacity:1;\" d=\"M 390.074219 500.632813 L 386.007813 502.859375 L 385.472656 500.046875 L 390.074219 500.632813 \"/>\n",
       "<path style=\"fill:none;stroke-width:4.862538;stroke-linecap:butt;stroke-linejoin:miter;stroke:rgb(100%,0%,0%);stroke-opacity:1;stroke-miterlimit:10;\" d=\"M 158.429688 386.128906 C 234.726563 436.988281 313.667969 438.597656 378.15625 373.910156 \"/>\n",
       "<path style=\" stroke:none;fill-rule:nonzero;fill:rgb(100%,0%,0%);fill-opacity:1;\" d=\"M 392.148438 359.875 L 382.714844 378.457031 L 373.59375 369.363281 L 392.148438 359.875 \"/>\n",
       "<path style=\"fill:none;stroke-width:0.240997;stroke-linecap:butt;stroke-linejoin:miter;stroke:rgb(100%,0%,0%);stroke-opacity:1;stroke-miterlimit:10;\" d=\"M 158.429688 386.128906 C 210.730469 277.359375 192.273438 182.324219 102.21875 101.976563 \"/>\n",
       "<path style=\" stroke:none;fill-rule:nonzero;fill:rgb(100%,0%,0%);fill-opacity:1;\" d=\"M 101.484375 101.324219 L 102.429688 101.738281 L 102.003906 102.214844 L 101.484375 101.324219 \"/>\n",
       "<path style=\"fill:none;stroke-width:1.49301;stroke-linecap:butt;stroke-linejoin:miter;stroke:rgb(100%,64.705882%,0%);stroke-opacity:1;stroke-miterlimit:10;\" d=\"M 700 353.558594 C 516.390625 228.742188 337.644531 235.410156 167.734375 378.304688 \"/>\n",
       "<path style=\" stroke:none;fill-rule:nonzero;fill:rgb(100%,64.705882%,0%);fill-opacity:1;\" d=\"M 163.078125 382.222656 L 166.460938 376.789063 L 169.007813 379.816406 L 163.078125 382.222656 \"/>\n",
       "<path style=\"fill:none;stroke-width:2.551704;stroke-linecap:butt;stroke-linejoin:miter;stroke:rgb(100%,64.705882%,0%);stroke-opacity:1;stroke-miterlimit:10;\" d=\"M 700 353.558594 C 617.804688 306.152344 539.734375 312.648438 473.921875 380.898438 \"/>\n",
       "<path style=\" stroke:none;fill-rule:nonzero;fill:rgb(100%,64.705882%,0%);fill-opacity:1;\" d=\"M 466.703125 388.386719 L 471.492188 378.554688 L 476.355469 383.246094 L 466.703125 388.386719 \"/>\n",
       "<path style=\"fill:none;stroke-width:2.457077;stroke-linecap:butt;stroke-linejoin:miter;stroke:rgb(100%,64.705882%,0%);stroke-opacity:1;stroke-miterlimit:10;\" d=\"M 700 353.558594 C 587.453125 235.34375 456.4375 209.648438 313.683594 288.648438 \"/>\n",
       "<path style=\" stroke:none;fill-rule:nonzero;fill:rgb(100%,64.705882%,0%);fill-opacity:1;\" d=\"M 304.917969 293.5 L 312.105469 285.804688 L 315.257813 291.496094 L 304.917969 293.5 \"/>\n",
       "<path style=\"fill:none;stroke-width:1.120971;stroke-linecap:butt;stroke-linejoin:miter;stroke:rgb(100%,64.705882%,0%);stroke-opacity:1;stroke-miterlimit:10;\" d=\"M 700 353.558594 C 666.046875 261.738281 600.085938 217.503906 502.585938 226.15625 \"/>\n",
       "<path style=\" stroke:none;fill-rule:nonzero;fill:rgb(100%,64.705882%,0%);fill-opacity:1;\" d=\"M 498.035156 226.5625 L 502.453125 224.679688 L 502.71875 227.636719 L 498.035156 226.5625 \"/>\n",
       "<path style=\"fill:none;stroke-width:1.410514;stroke-linecap:butt;stroke-linejoin:miter;stroke:rgb(100%,64.705882%,0%);stroke-opacity:1;stroke-miterlimit:10;\" d=\"M 700 353.558594 C 564.640625 324.097656 462.328125 369.402344 397.679688 491.910156 \"/>\n",
       "<path style=\" stroke:none;fill-rule:nonzero;fill:rgb(100%,64.705882%,0%);fill-opacity:1;\" d=\"M 394.996094 496.996094 L 396.027344 491.039063 L 399.332031 492.78125 L 394.996094 496.996094 \"/>\n",
       "<path style=\"fill:none;stroke-width:5.403466;stroke-linecap:butt;stroke-linejoin:miter;stroke:rgb(100%,64.705882%,0%);stroke-opacity:1;stroke-miterlimit:10;\" d=\"M 700 353.558594 C 639.003906 280.039063 560.546875 254.691406 477.019531 300.238281 \"/>\n",
       "<path style=\" stroke:none;fill-rule:nonzero;fill:rgb(100%,64.705882%,0%);fill-opacity:1;\" d=\"M 457.683594 310.78125 L 473.59375 293.953125 L 480.445313 306.519531 L 457.683594 310.78125 \"/>\n",
       "<path style=\"fill:none;stroke-width:0.300867;stroke-linecap:butt;stroke-linejoin:miter;stroke:rgb(100%,64.705882%,0%);stroke-opacity:1;stroke-miterlimit:10;\" d=\"M 700 353.558594 C 564.625 119.5625 365.550781 34.316406 103.125 99.226563 \"/>\n",
       "<path style=\" stroke:none;fill-rule:nonzero;fill:rgb(100%,64.705882%,0%);fill-opacity:1;\" d=\"M 101.933594 99.523438 L 103.027344 98.839844 L 103.21875 99.613281 L 101.933594 99.523438 \"/>\n",
       "<path style=\"fill:none;stroke-width:1.003148;stroke-linecap:butt;stroke-linejoin:miter;stroke:rgb(100%,0%,0%);stroke-opacity:1;stroke-miterlimit:10;\" d=\"M 457.121094 398.324219 C 364.828125 319.792969 267.195313 312.542969 166.832031 380.445313 \"/>\n",
       "<path style=\" stroke:none;fill-rule:nonzero;fill:rgb(100%,0%,0%);fill-opacity:1;\" d=\"M 163.445313 382.734375 L 166.089844 379.34375 L 167.578125 381.542969 L 163.445313 382.734375 \"/>\n",
       "<path style=\"fill:none;stroke-width:0.799226;stroke-linecap:butt;stroke-linejoin:miter;stroke:rgb(100%,0%,0%);stroke-opacity:1;stroke-miterlimit:10;\" d=\"M 457.121094 398.324219 C 546.140625 444.675781 626.242188 432.433594 694.789063 359.132813 \"/>\n",
       "<path style=\" stroke:none;fill-rule:nonzero;fill:rgb(100%,0%,0%);fill-opacity:1;\" d=\"M 697.011719 356.753906 L 695.5625 359.855469 L 694.015625 358.410156 L 697.011719 356.753906 \"/>\n",
       "<path style=\"fill:none;stroke-width:2.52687;stroke-linecap:butt;stroke-linejoin:miter;stroke:rgb(100%,0%,0%);stroke-opacity:1;stroke-miterlimit:10;\" d=\"M 457.121094 398.324219 C 434.699219 331.410156 387.761719 294.867188 317.710938 302.136719 \"/>\n",
       "<path style=\" stroke:none;fill-rule:nonzero;fill:rgb(100%,0%,0%);fill-opacity:1;\" d=\"M 307.46875 303.199219 L 317.367188 298.808594 L 318.058594 305.464844 L 307.46875 303.199219 \"/>\n",
       "<path style=\"fill:none;stroke-width:0.925632;stroke-linecap:butt;stroke-linejoin:miter;stroke:rgb(100%,0%,0%);stroke-opacity:1;stroke-miterlimit:10;\" d=\"M 457.121094 398.324219 C 510.179688 354.183594 524.371094 299.8125 495.433594 237.171875 \"/>\n",
       "<path style=\" stroke:none;fill-rule:nonzero;fill:rgb(100%,0%,0%);fill-opacity:1;\" d=\"M 493.851563 233.746094 L 496.546875 236.660156 L 494.320313 237.6875 L 493.851563 233.746094 \"/>\n",
       "<path style=\"fill:none;stroke-width:0.752615;stroke-linecap:butt;stroke-linejoin:miter;stroke:rgb(100%,0%,0%);stroke-opacity:1;stroke-miterlimit:10;\" d=\"M 457.121094 398.324219 C 411.914063 414.027344 389.464844 445.851563 392.941406 493.570313 \"/>\n",
       "<path style=\" stroke:none;fill-rule:nonzero;fill:rgb(100%,0%,0%);fill-opacity:1;\" d=\"M 393.164063 496.628906 L 391.945313 493.640625 L 393.933594 493.496094 L 393.164063 496.628906 \"/>\n",
       "<path style=\"fill:none;stroke-width:4.260594;stroke-linecap:butt;stroke-linejoin:miter;stroke:rgb(100%,0%,0%);stroke-opacity:1;stroke-miterlimit:10;\" d=\"M 457.121094 398.324219 C 467.125 390.070313 473.265625 375.730469 464.445313 368.066406 \"/>\n",
       "<path style=\" stroke:none;fill-rule:nonzero;fill:rgb(100%,0%,0%);fill-opacity:1;\" d=\"M 451.335938 356.675781 L 468.148438 363.808594 L 460.746094 372.328125 L 451.335938 356.675781 \"/>\n",
       "<path style=\"fill:none;stroke-width:0.125394;stroke-linecap:butt;stroke-linejoin:miter;stroke:rgb(100%,0%,0%);stroke-opacity:1;stroke-miterlimit:10;\" d=\"M 457.121094 398.324219 C 413.460938 210.273438 295.269531 110.570313 102.5 100.136719 \"/>\n",
       "<path style=\" stroke:none;fill-rule:nonzero;fill:rgb(100%,0%,0%);fill-opacity:1;\" d=\"M 101.988281 100.109375 L 102.507813 99.96875 L 102.488281 100.300781 L 101.988281 100.109375 \"/>\n",
       "<path style=\"fill:none;stroke-width:0.763729;stroke-linecap:butt;stroke-linejoin:miter;stroke:rgb(0%,0%,100%);stroke-opacity:1;stroke-miterlimit:10;\" d=\"M 282.753906 305.765625 C 224.453125 299.457031 182.898438 322.9375 161.730469 377.613281 \"/>\n",
       "<path style=\" stroke:none;fill-rule:nonzero;fill:rgb(0%,0%,100%);fill-opacity:1;\" d=\"M 160.605469 380.515625 L 160.785156 377.246094 L 162.671875 377.976563 L 160.605469 380.515625 \"/>\n",
       "<path style=\"fill:none;stroke-width:0.418886;stroke-linecap:butt;stroke-linejoin:miter;stroke:rgb(0%,0%,100%);stroke-opacity:1;stroke-miterlimit:10;\" d=\"M 282.753906 305.765625 C 407.367188 425.710938 545.105469 443.367188 694.730469 356.613281 \"/>\n",
       "<path style=\" stroke:none;fill-rule:nonzero;fill:rgb(0%,0%,100%);fill-opacity:1;\" d=\"M 696.210938 355.757813 L 695.011719 357.09375 L 694.453125 356.132813 L 696.210938 355.757813 \"/>\n",
       "<path style=\"fill:none;stroke-width:1.375374;stroke-linecap:butt;stroke-linejoin:miter;stroke:rgb(0%,0%,100%);stroke-opacity:1;stroke-miterlimit:10;\" d=\"M 282.753906 305.765625 C 310.722656 376.230469 362.769531 410.433594 437.921875 400.789063 \"/>\n",
       "<path style=\" stroke:none;fill-rule:nonzero;fill:rgb(0%,0%,100%);fill-opacity:1;\" d=\"M 443.480469 400.074219 L 438.152344 402.59375 L 437.6875 398.980469 L 443.480469 400.074219 \"/>\n",
       "<path style=\"fill:none;stroke-width:0.821915;stroke-linecap:butt;stroke-linejoin:miter;stroke:rgb(0%,0%,100%);stroke-opacity:1;stroke-miterlimit:10;\" d=\"M 282.753906 305.765625 C 367.609375 333.101563 436.265625 310.664063 485.039063 236.058594 \"/>\n",
       "<path style=\" stroke:none;fill-rule:nonzero;fill:rgb(0%,0%,100%);fill-opacity:1;\" d=\"M 486.871094 233.253906 L 485.949219 236.652344 L 484.125 235.460938 L 486.871094 233.253906 \"/>\n",
       "<path style=\"fill:none;stroke-width:0.401375;stroke-linecap:butt;stroke-linejoin:miter;stroke:rgb(0%,0%,100%);stroke-opacity:1;stroke-miterlimit:10;\" d=\"M 282.753906 305.765625 C 270.054688 396.347656 305.121094 461.066406 388.808594 497.96875 \"/>\n",
       "<path style=\" stroke:none;fill-rule:nonzero;fill:rgb(0%,0%,100%);fill-opacity:1;\" d=\"M 390.304688 498.628906 L 388.59375 498.457031 L 389.023438 497.484375 L 390.304688 498.628906 \"/>\n",
       "<path style=\"fill:none;stroke-width:2.995214;stroke-linecap:butt;stroke-linejoin:miter;stroke:rgb(0%,0%,100%);stroke-opacity:1;stroke-miterlimit:10;\" d=\"M 282.753906 305.765625 C 302.09375 342.164063 333.75 361.332031 372.296875 347.804688 \"/>\n",
       "<path style=\" stroke:none;fill-rule:nonzero;fill:rgb(0%,0%,100%);fill-opacity:1;\" d=\"M 383.816406 343.765625 L 373.613281 351.550781 L 370.984375 344.0625 L 383.816406 343.765625 \"/>\n",
       "<path style=\"fill:none;stroke-width:0.119682;stroke-linecap:butt;stroke-linejoin:miter;stroke:rgb(0%,0%,100%);stroke-opacity:1;stroke-miterlimit:10;\" d=\"M 282.753906 305.765625 C 273.960938 192.261719 213.910156 123.546875 102.425781 100.5 \"/>\n",
       "<path style=\" stroke:none;fill-rule:nonzero;fill:rgb(0%,0%,100%);fill-opacity:1;\" d=\"M 101.949219 100.402344 L 102.457031 100.347656 L 102.394531 100.65625 L 101.949219 100.402344 \"/>\n",
       "<path style=\"fill:none;stroke-width:1.135741;stroke-linecap:butt;stroke-linejoin:miter;stroke:rgb(100%,64.705882%,0%);stroke-opacity:1;stroke-miterlimit:10;\" d=\"M 490.828125 227.199219 C 344.328125 195.183594 233.703125 244.214844 163.441406 376.683594 \"/>\n",
       "<path style=\" stroke:none;fill-rule:nonzero;fill:rgb(100%,64.705882%,0%);fill-opacity:1;\" d=\"M 161.269531 380.773438 L 162.113281 375.980469 L 164.769531 377.386719 L 161.269531 380.773438 \"/>\n",
       "<path style=\"fill:none;stroke-width:0.675016;stroke-linecap:butt;stroke-linejoin:miter;stroke:rgb(100%,64.705882%,0%);stroke-opacity:1;stroke-miterlimit:10;\" d=\"M 490.828125 227.199219 C 526.429688 320.0625 593.890625 363.472656 692.90625 354.222656 \"/>\n",
       "<path style=\" stroke:none;fill-rule:nonzero;fill:rgb(100%,64.705882%,0%);fill-opacity:1;\" d=\"M 695.648438 353.96875 L 692.988281 355.113281 L 692.824219 353.332031 L 695.648438 353.96875 \"/>\n",
       "<path style=\"fill:none;stroke-width:1.779587;stroke-linecap:butt;stroke-linejoin:miter;stroke:rgb(100%,64.705882%,0%);stroke-opacity:1;stroke-miterlimit:10;\" d=\"M 490.828125 227.199219 C 438.769531 267.300781 422.007813 319.148438 448.621094 379.15625 \"/>\n",
       "<path style=\" stroke:none;fill-rule:nonzero;fill:rgb(100%,64.705882%,0%);fill-opacity:1;\" d=\"M 451.5625 385.789063 L 446.464844 380.113281 L 450.773438 378.203125 L 451.5625 385.789063 \"/>\n",
       "<path style=\"fill:none;stroke-width:2.903152;stroke-linecap:butt;stroke-linejoin:miter;stroke:rgb(100%,64.705882%,0%);stroke-opacity:1;stroke-miterlimit:10;\" d=\"M 490.828125 227.199219 C 416.398438 196.621094 350.050781 209.945313 303.894531 275.667969 \"/>\n",
       "<path style=\" stroke:none;fill-rule:nonzero;fill:rgb(100%,64.705882%,0%);fill-opacity:1;\" d=\"M 297.09375 285.351563 L 300.746094 273.457031 L 307.039063 277.875 L 297.09375 285.351563 \"/>\n",
       "<path style=\"fill:none;stroke-width:0.562513;stroke-linecap:butt;stroke-linejoin:miter;stroke:rgb(100%,64.705882%,0%);stroke-opacity:1;stroke-miterlimit:10;\" d=\"M 490.828125 227.199219 C 390.960938 291.550781 357.097656 380.925781 391.75 494.558594 \"/>\n",
       "<path style=\" stroke:none;fill-rule:nonzero;fill:rgb(100%,64.705882%,0%);fill-opacity:1;\" d=\"M 392.417969 496.75 L 391.039063 494.773438 L 392.460938 494.339844 L 392.417969 496.75 \"/>\n",
       "<path style=\"fill:none;stroke-width:3.630279;stroke-linecap:butt;stroke-linejoin:miter;stroke:rgb(100%,64.705882%,0%);stroke-opacity:1;stroke-miterlimit:10;\" d=\"M 490.828125 227.199219 C 457.003906 227.613281 429.652344 243.550781 426.484375 276.699219 \"/>\n",
       "<path style=\" stroke:none;fill-rule:nonzero;fill:rgb(100%,64.705882%,0%);fill-opacity:1;\" d=\"M 425.074219 291.429688 L 421.695313 276.242188 L 431.269531 277.15625 L 425.074219 291.429688 \"/>\n",
       "<path style=\"fill:none;stroke-width:0.195297;stroke-linecap:butt;stroke-linejoin:miter;stroke:rgb(100%,64.705882%,0%);stroke-opacity:1;stroke-miterlimit:10;\" d=\"M 490.828125 227.199219 C 393.453125 87.457031 263.9375 44.398438 102.640625 99.105469 \"/>\n",
       "<path style=\" stroke:none;fill-rule:nonzero;fill:rgb(100%,64.705882%,0%);fill-opacity:1;\" d=\"M 101.886719 99.359375 L 102.554688 98.859375 L 102.722656 99.351563 L 101.886719 99.359375 \"/>\n",
       "<path style=\"fill:none;stroke-width:1.933552;stroke-linecap:butt;stroke-linejoin:miter;stroke:rgb(100%,0%,0%);stroke-opacity:1;stroke-miterlimit:10;\" d=\"M 393.410156 500 C 348.75 405.875 274.535156 364.613281 172.128906 383.589844 \"/>\n",
       "<path style=\" stroke:none;fill-rule:nonzero;fill:rgb(100%,0%,0%);fill-opacity:1;\" d=\"M 164.378906 385.027344 L 171.664063 381.074219 L 172.597656 386.109375 L 164.378906 385.027344 \"/>\n",
       "<path style=\"fill:none;stroke-width:1.818832;stroke-linecap:butt;stroke-linejoin:miter;stroke:rgb(100%,0%,0%);stroke-opacity:1;stroke-miterlimit:10;\" d=\"M 393.410156 500 C 527.773438 529.929688 630.113281 485.640625 694.484375 363.984375 \"/>\n",
       "<path style=\" stroke:none;fill-rule:nonzero;fill:rgb(100%,0%,0%);fill-opacity:1;\" d=\"M 697.953125 357.429688 L 696.613281 365.109375 L 692.355469 362.855469 L 697.953125 357.429688 \"/>\n",
       "<path style=\"fill:none;stroke-width:3.09848;stroke-linecap:butt;stroke-linejoin:miter;stroke:rgb(100%,0%,0%);stroke-opacity:1;stroke-miterlimit:10;\" d=\"M 393.410156 500 C 433.84375 491.007813 459.632813 465.6875 458.097656 424.507813 \"/>\n",
       "<path style=\" stroke:none;fill-rule:nonzero;fill:rgb(100%,0%,0%);fill-opacity:1;\" d=\"M 457.625 411.890625 L 462.199219 424.355469 L 453.996094 424.664063 L 457.625 411.890625 \"/>\n",
       "<path style=\"fill:none;stroke-width:3.035906;stroke-linecap:butt;stroke-linejoin:miter;stroke:rgb(100%,0%,0%);stroke-opacity:1;stroke-miterlimit:10;\" d=\"M 393.410156 500 C 412.15625 421.441406 388.671875 357.613281 316.277344 322.175781 \"/>\n",
       "<path style=\" stroke:none;fill-rule:nonzero;fill:rgb(100%,0%,0%);fill-opacity:1;\" d=\"M 305.164063 316.734375 L 318.046875 318.566406 L 314.511719 325.785156 L 305.164063 316.734375 \"/>\n",
       "<path style=\"fill:none;stroke-width:1.204559;stroke-linecap:butt;stroke-linejoin:miter;stroke:rgb(100%,0%,0%);stroke-opacity:1;stroke-miterlimit:10;\" d=\"M 393.410156 500 C 492.332031 438.175781 527.75 350.589844 494.3125 238.847656 \"/>\n",
       "<path style=\" stroke:none;fill-rule:nonzero;fill:rgb(100%,0%,0%);fill-opacity:1;\" d=\"M 492.902344 234.144531 L 495.839844 238.390625 L 492.785156 239.304688 L 492.902344 234.144531 \"/>\n",
       "<path style=\"fill:none;stroke-width:5.073749;stroke-linecap:butt;stroke-linejoin:miter;stroke:rgb(100%,0%,0%);stroke-opacity:1;stroke-miterlimit:10;\" d=\"M 393.410156 500 C 438.351563 475.035156 462.414063 434.605469 443.746094 387.347656 \"/>\n",
       "<path style=\" stroke:none;fill-rule:nonzero;fill:rgb(100%,0%,0%);fill-opacity:1;\" d=\"M 436.148438 368.113281 L 449.996094 384.878906 L 437.496094 389.816406 L 436.148438 368.113281 \"/>\n",
       "<path style=\"fill:none;stroke-width:0.245083;stroke-linecap:butt;stroke-linejoin:miter;stroke:rgb(100%,0%,0%);stroke-opacity:1;stroke-miterlimit:10;\" d=\"M 393.410156 500 C 396.339844 294.320313 299.617188 160.867188 102.859375 100.871094 \"/>\n",
       "<path style=\" stroke:none;fill-rule:nonzero;fill:rgb(100%,0%,0%);fill-opacity:1;\" d=\"M 101.90625 100.582031 L 102.953125 100.5625 L 102.765625 101.183594 L 101.90625 100.582031 \"/>\n",
       "<path style=\"fill:none;stroke-width:0.737527;stroke-linecap:butt;stroke-linejoin:miter;stroke:rgb(100%,64.705882%,0%);stroke-opacity:1;stroke-miterlimit:10;\" d=\"M 421.332031 330.601563 C 323.515625 282.640625 236.933594 298.039063 164.457031 379.367188 \"/>\n",
       "<path style=\" stroke:none;fill-rule:nonzero;fill:rgb(100%,64.705882%,0%);fill-opacity:1;\" d=\"M 162.457031 381.609375 L 163.726563 378.714844 L 165.1875 380.015625 L 162.457031 381.609375 \"/>\n",
       "<path style=\"fill:none;stroke-width:0.591314;stroke-linecap:butt;stroke-linejoin:miter;stroke:rgb(100%,64.705882%,0%);stroke-opacity:1;stroke-miterlimit:10;\" d=\"M 421.332031 330.601563 C 505.664063 407.671875 597.15625 417.359375 694.234375 357.136719 \"/>\n",
       "<path style=\" stroke:none;fill-rule:nonzero;fill:rgb(100%,64.705882%,0%);fill-opacity:1;\" d=\"M 696.28125 355.867188 L 694.648438 357.800781 L 693.820313 356.472656 L 696.28125 355.867188 \"/>\n",
       "<path style=\"fill:none;stroke-width:1.488595;stroke-linecap:butt;stroke-linejoin:miter;stroke:rgb(100%,64.705882%,0%);stroke-opacity:1;stroke-miterlimit:10;\" d=\"M 421.332031 330.601563 C 412.976563 354.328125 417.757813 375.71875 439.457031 388.183594 \"/>\n",
       "<path style=\" stroke:none;fill-rule:nonzero;fill:rgb(100%,64.705882%,0%);fill-opacity:1;\" d=\"M 444.71875 391.203125 L 438.476563 389.890625 L 440.441406 386.472656 L 444.71875 391.203125 \"/>\n",
       "<path style=\"fill:none;stroke-width:1.922632;stroke-linecap:butt;stroke-linejoin:miter;stroke:rgb(100%,64.705882%,0%);stroke-opacity:1;stroke-miterlimit:10;\" d=\"M 421.332031 330.601563 C 395.089844 291.300781 357.988281 275.1875 314.351563 292.921875 \"/>\n",
       "<path style=\" stroke:none;fill-rule:nonzero;fill:rgb(100%,64.705882%,0%);fill-opacity:1;\" d=\"M 307.09375 295.875 L 313.394531 290.5625 L 315.3125 295.28125 L 307.09375 295.875 \"/>\n",
       "<path style=\"fill:none;stroke-width:0.659729;stroke-linecap:butt;stroke-linejoin:miter;stroke:rgb(100%,64.705882%,0%);stroke-opacity:1;stroke-miterlimit:10;\" d=\"M 421.332031 330.601563 C 467.976563 316.867188 492.515625 285.652344 491.113281 237.0625 \"/>\n",
       "<path style=\" stroke:none;fill-rule:nonzero;fill:rgb(100%,64.705882%,0%);fill-opacity:1;\" d=\"M 491.035156 234.375 L 491.984375 237.039063 L 490.238281 237.089844 L 491.035156 234.375 \"/>\n",
       "<path style=\"fill:none;stroke-width:0.430585;stroke-linecap:butt;stroke-linejoin:miter;stroke:rgb(100%,64.705882%,0%);stroke-opacity:1;stroke-miterlimit:10;\" d=\"M 421.332031 330.601563 C 370.039063 377.976563 359.296875 433.25 391.070313 495.417969 \"/>\n",
       "<path style=\" stroke:none;fill-rule:nonzero;fill:rgb(100%,64.705882%,0%);fill-opacity:1;\" d=\"M 391.867188 496.980469 L 390.5625 495.679688 L 391.578125 495.160156 L 391.867188 496.980469 \"/>\n",
       "<path style=\"fill:none;stroke-width:0.123644;stroke-linecap:butt;stroke-linejoin:miter;stroke:rgb(100%,64.705882%,0%);stroke-opacity:1;stroke-miterlimit:10;\" d=\"M 421.332031 330.601563 C 372.714844 174.011719 266.429688 96.824219 102.492188 99.953125 \"/>\n",
       "<path style=\" stroke:none;fill-rule:nonzero;fill:rgb(100%,64.705882%,0%);fill-opacity:1;\" d=\"M 101.988281 99.960938 L 102.492188 99.789063 L 102.496094 100.117188 L 101.988281 99.960938 \"/>\n",
       "<path style=\"fill:none;stroke-width:0.736561;stroke-linecap:butt;stroke-linejoin:miter;stroke:rgb(0%,100%,0%);stroke-opacity:1;stroke-miterlimit:10;\" d=\"M 100 100 C 47.21875 206.28125 63.59375 300.585938 151.703125 380.0625 \"/>\n",
       "<path style=\" stroke:none;fill-rule:nonzero;fill:rgb(0%,100%,0%);fill-opacity:1;\" d=\"M 153.933594 382.074219 L 151.050781 380.785156 L 152.359375 379.339844 L 153.933594 382.074219 \"/>\n",
       "<path style=\"fill:none;stroke-width:0.663439;stroke-linecap:butt;stroke-linejoin:miter;stroke:rgb(0%,100%,0%);stroke-opacity:1;stroke-miterlimit:10;\" d=\"M 100 100 C 233.890625 333.363281 431.851563 419.484375 693.113281 355.253906 \"/>\n",
       "<path style=\" stroke:none;fill-rule:nonzero;fill:rgb(0%,100%,0%);fill-opacity:1;\" d=\"M 695.742188 354.609375 L 693.324219 356.105469 L 692.90625 354.398438 L 695.742188 354.609375 \"/>\n",
       "<path style=\"fill:none;stroke-width:0.882803;stroke-linecap:butt;stroke-linejoin:miter;stroke:rgb(0%,100%,0%);stroke-opacity:1;stroke-miterlimit:10;\" d=\"M 100 100 C 138.914063 283.980469 251.996094 385.15625 439.648438 397.203125 \"/>\n",
       "<path style=\" stroke:none;fill-rule:nonzero;fill:rgb(0%,100%,0%);fill-opacity:1;\" d=\"M 443.238281 397.433594 L 439.570313 398.367188 L 439.722656 396.035156 L 443.238281 397.433594 \"/>\n",
       "<path style=\"fill:none;stroke-width:1.548025;stroke-linecap:butt;stroke-linejoin:miter;stroke:rgb(0%,100%,0%);stroke-opacity:1;stroke-miterlimit:10;\" d=\"M 100 100 C 101.152344 204.175781 151.042969 273.8125 252.230469 298.359375 \"/>\n",
       "<path style=\" stroke:none;fill-rule:nonzero;fill:rgb(0%,100%,0%);fill-opacity:1;\" d=\"M 258.359375 299.847656 L 251.746094 300.351563 L 252.710938 296.367188 L 258.359375 299.847656 \"/>\n",
       "<path style=\"fill:none;stroke-width:0.715159;stroke-linecap:butt;stroke-linejoin:miter;stroke:rgb(0%,100%,0%);stroke-opacity:1;stroke-miterlimit:10;\" d=\"M 100 100 C 194.453125 238.765625 321.945313 283.539063 481.171875 230.421875 \"/>\n",
       "<path style=\" stroke:none;fill-rule:nonzero;fill:rgb(0%,100%,0%);fill-opacity:1;\" d=\"M 483.9375 229.5 L 481.472656 231.320313 L 480.875 229.523438 L 483.9375 229.5 \"/>\n",
       "<path style=\"fill:none;stroke-width:0.419108;stroke-linecap:butt;stroke-linejoin:miter;stroke:rgb(0%,100%,0%);stroke-opacity:1;stroke-miterlimit:10;\" d=\"M 100 100 C 96.546875 304.964844 192.507813 438.5 388.523438 498.503906 \"/>\n",
       "<path style=\" stroke:none;fill-rule:nonzero;fill:rgb(0%,100%,0%);fill-opacity:1;\" d=\"M 390.15625 499.003906 L 388.359375 499.035156 L 388.6875 497.972656 L 390.15625 499.003906 \"/>\n",
       "<path style=\"fill:none;stroke-width:2.491465;stroke-linecap:butt;stroke-linejoin:miter;stroke:rgb(0%,100%,0%);stroke-opacity:1;stroke-miterlimit:10;\" d=\"M 100 100 C 133.304688 244.59375 223.917969 326.828125 372.164063 329.664063 \"/>\n",
       "<path style=\" stroke:none;fill-rule:nonzero;fill:rgb(0%,100%,0%);fill-opacity:1;\" d=\"M 382.316406 329.855469 L 372.101563 332.960938 L 372.226563 326.363281 L 382.316406 329.855469 \"/>\n",
       "<path style=\"fill-rule:nonzero;fill:rgb(100%,0%,0%);fill-opacity:1;stroke-width:1;stroke-linecap:butt;stroke-linejoin:miter;stroke:rgb(0%,0%,0%);stroke-opacity:1;stroke-miterlimit:10;\" d=\"M 164.429688 386.128906 C 164.429688 389.441406 161.742188 392.128906 158.429688 392.128906 C 155.117188 392.128906 152.433594 389.441406 152.433594 386.128906 C 152.433594 382.816406 155.117188 380.132813 158.429688 380.132813 C 161.742188 380.132813 164.429688 382.816406 164.429688 386.128906 \"/>\n",
       "<path style=\"fill-rule:nonzero;fill:rgb(100%,64.705882%,0%);fill-opacity:1;stroke-width:1;stroke-linecap:butt;stroke-linejoin:miter;stroke:rgb(0%,0%,0%);stroke-opacity:1;stroke-miterlimit:10;\" d=\"M 704.328125 353.558594 C 704.328125 359.332031 695.671875 359.332031 695.671875 353.558594 C 695.671875 347.789063 704.328125 347.789063 704.328125 353.558594 \"/>\n",
       "<path style=\"fill-rule:nonzero;fill:rgb(100%,0%,0%);fill-opacity:1;stroke-width:1;stroke-linecap:butt;stroke-linejoin:miter;stroke:rgb(0%,0%,0%);stroke-opacity:1;stroke-miterlimit:10;\" d=\"M 470.9375 398.324219 C 470.9375 405.953125 464.75 412.140625 457.121094 412.140625 C 449.488281 412.140625 443.304688 405.953125 443.304688 398.324219 C 443.304688 390.695313 449.488281 384.507813 457.121094 384.507813 C 464.75 384.507813 470.9375 390.695313 470.9375 398.324219 \"/>\n",
       "<path style=\"fill-rule:nonzero;fill:rgb(0%,0%,100%);fill-opacity:1;stroke-width:1;stroke-linecap:butt;stroke-linejoin:miter;stroke:rgb(0%,0%,0%);stroke-opacity:1;stroke-miterlimit:10;\" d=\"M 308.140625 305.765625 C 308.140625 319.785156 296.773438 331.148438 282.753906 331.148438 C 268.734375 331.148438 257.371094 319.785156 257.371094 305.765625 C 257.371094 291.746094 268.734375 280.382813 282.753906 280.382813 C 296.773438 280.382813 308.140625 291.746094 308.140625 305.765625 \"/>\n",
       "<path style=\"fill-rule:nonzero;fill:rgb(100%,64.705882%,0%);fill-opacity:1;stroke-width:1;stroke-linecap:butt;stroke-linejoin:miter;stroke:rgb(0%,0%,0%);stroke-opacity:1;stroke-miterlimit:10;\" d=\"M 498.011719 227.199219 C 498.011719 231.167969 494.796875 234.386719 490.828125 234.386719 C 486.859375 234.386719 483.640625 231.167969 483.640625 227.199219 C 483.640625 223.230469 486.859375 220.015625 490.828125 220.015625 C 494.796875 220.015625 498.011719 223.230469 498.011719 227.199219 \"/>\n",
       "<path style=\"fill-rule:nonzero;fill:rgb(100%,0%,0%);fill-opacity:1;stroke-width:1;stroke-linecap:butt;stroke-linejoin:miter;stroke:rgb(0%,0%,0%);stroke-opacity:1;stroke-miterlimit:10;\" d=\"M 396.765625 500 C 396.765625 504.476563 390.054688 504.476563 390.054688 500 C 390.054688 495.523438 396.765625 495.523438 396.765625 500 \"/>\n",
       "<path style=\"fill-rule:nonzero;fill:rgb(100%,64.705882%,0%);fill-opacity:1;stroke-width:1;stroke-linecap:butt;stroke-linejoin:miter;stroke:rgb(0%,0%,0%);stroke-opacity:1;stroke-miterlimit:10;\" d=\"M 460.875 330.601563 C 460.875 352.441406 443.171875 370.148438 421.332031 370.148438 C 399.492188 370.148438 381.785156 352.441406 381.785156 330.601563 C 381.785156 308.761719 399.492188 291.058594 421.332031 291.058594 C 443.171875 291.058594 460.875 308.761719 460.875 330.601563 \"/>\n",
       "<path style=\"fill-rule:nonzero;fill:rgb(0%,100%,0%);fill-opacity:1;stroke-width:1;stroke-linecap:butt;stroke-linejoin:miter;stroke:rgb(0%,0%,0%);stroke-opacity:1;stroke-miterlimit:10;\" d=\"M 101.960938 100 C 101.960938 102.617188 98.039063 102.617188 98.039063 100 C 98.039063 97.382813 101.960938 97.382813 101.960938 100 \"/>\n",
       "<g style=\"fill:rgb(0%,0%,0%);fill-opacity:1;\">\n",
       "  <use xlink:href=\"#glyph0-1\" x=\"95.683594\" y=\"392.726563\"/>\n",
       "  <use xlink:href=\"#glyph0-2\" x=\"105.021484\" y=\"392.726563\"/>\n",
       "  <use xlink:href=\"#glyph0-3\" x=\"112.807617\" y=\"392.726563\"/>\n",
       "  <use xlink:href=\"#glyph0-4\" x=\"120.59375\" y=\"392.726563\"/>\n",
       "  <use xlink:href=\"#glyph0-5\" x=\"128.379883\" y=\"392.726563\"/>\n",
       "  <use xlink:href=\"#glyph0-6\" x=\"136.166016\" y=\"392.726563\"/>\n",
       "  <use xlink:href=\"#glyph0-7\" x=\"143.952148\" y=\"392.726563\"/>\n",
       "  <use xlink:href=\"#glyph0-8\" x=\"152.503906\" y=\"392.726563\"/>\n",
       "  <use xlink:href=\"#glyph0-4\" x=\"157.166016\" y=\"392.726563\"/>\n",
       "  <use xlink:href=\"#glyph0-9\" x=\"164.952148\" y=\"392.726563\"/>\n",
       "  <use xlink:href=\"#glyph0-10\" x=\"176.614258\" y=\"392.726563\"/>\n",
       "  <use xlink:href=\"#glyph0-11\" x=\"184.400391\" y=\"392.726563\"/>\n",
       "  <use xlink:href=\"#glyph0-10\" x=\"193.738281\" y=\"392.726563\"/>\n",
       "  <use xlink:href=\"#glyph0-12\" x=\"201.524414\" y=\"392.726563\"/>\n",
       "  <use xlink:href=\"#glyph0-9\" x=\"209.310547\" y=\"392.726563\"/>\n",
       "</g>\n",
       "<g style=\"fill:rgb(0%,0%,0%);fill-opacity:1;\">\n",
       "  <use xlink:href=\"#glyph0-13\" x=\"641.976563\" y=\"360.070313\"/>\n",
       "  <use xlink:href=\"#glyph0-3\" x=\"651.314453\" y=\"360.070313\"/>\n",
       "  <use xlink:href=\"#glyph0-14\" x=\"659.100586\" y=\"360.070313\"/>\n",
       "  <use xlink:href=\"#glyph0-15\" x=\"662.210938\" y=\"360.070313\"/>\n",
       "  <use xlink:href=\"#glyph0-16\" x=\"665.321289\" y=\"360.070313\"/>\n",
       "  <use xlink:href=\"#glyph0-15\" x=\"669.210938\" y=\"360.070313\"/>\n",
       "  <use xlink:href=\"#glyph0-17\" x=\"672.321289\" y=\"360.070313\"/>\n",
       "  <use xlink:href=\"#glyph0-12\" x=\"679.321289\" y=\"360.070313\"/>\n",
       "  <use xlink:href=\"#glyph0-14\" x=\"687.107422\" y=\"360.070313\"/>\n",
       "  <use xlink:href=\"#glyph0-18\" x=\"690.217773\" y=\"360.070313\"/>\n",
       "  <use xlink:href=\"#glyph0-15\" x=\"700.328125\" y=\"360.070313\"/>\n",
       "  <use xlink:href=\"#glyph0-19\" x=\"703.438477\" y=\"360.070313\"/>\n",
       "  <use xlink:href=\"#glyph0-17\" x=\"710.438477\" y=\"360.070313\"/>\n",
       "  <use xlink:href=\"#glyph0-4\" x=\"717.438477\" y=\"360.070313\"/>\n",
       "  <use xlink:href=\"#glyph0-19\" x=\"725.224609\" y=\"360.070313\"/>\n",
       "  <use xlink:href=\"#glyph0-19\" x=\"732.224609\" y=\"360.070313\"/>\n",
       "  <use xlink:href=\"#glyph0-15\" x=\"739.224609\" y=\"360.070313\"/>\n",
       "  <use xlink:href=\"#glyph0-3\" x=\"742.334961\" y=\"360.070313\"/>\n",
       "  <use xlink:href=\"#glyph0-2\" x=\"750.121094\" y=\"360.070313\"/>\n",
       "</g>\n",
       "<g style=\"fill:rgb(0%,0%,0%);fill-opacity:1;\">\n",
       "  <use xlink:href=\"#glyph0-11\" x=\"390.710938\" y=\"404.921875\"/>\n",
       "  <use xlink:href=\"#glyph0-12\" x=\"400.048828\" y=\"404.921875\"/>\n",
       "  <use xlink:href=\"#glyph0-2\" x=\"407.834961\" y=\"404.921875\"/>\n",
       "  <use xlink:href=\"#glyph0-20\" x=\"415.621094\" y=\"404.921875\"/>\n",
       "  <use xlink:href=\"#glyph0-21\" x=\"423.407227\" y=\"404.921875\"/>\n",
       "  <use xlink:href=\"#glyph0-8\" x=\"431.193359\" y=\"404.921875\"/>\n",
       "  <use xlink:href=\"#glyph0-19\" x=\"435.855469\" y=\"404.921875\"/>\n",
       "  <use xlink:href=\"#glyph0-22\" x=\"442.855469\" y=\"404.921875\"/>\n",
       "  <use xlink:href=\"#glyph0-3\" x=\"451.407227\" y=\"404.921875\"/>\n",
       "  <use xlink:href=\"#glyph0-8\" x=\"459.193359\" y=\"404.921875\"/>\n",
       "  <use xlink:href=\"#glyph0-13\" x=\"463.855469\" y=\"404.921875\"/>\n",
       "  <use xlink:href=\"#glyph0-8\" x=\"473.193359\" y=\"404.921875\"/>\n",
       "  <use xlink:href=\"#glyph0-21\" x=\"477.855469\" y=\"404.921875\"/>\n",
       "  <use xlink:href=\"#glyph0-19\" x=\"485.641602\" y=\"404.921875\"/>\n",
       "  <use xlink:href=\"#glyph0-15\" x=\"492.641602\" y=\"404.921875\"/>\n",
       "  <use xlink:href=\"#glyph0-20\" x=\"495.751953\" y=\"404.921875\"/>\n",
       "  <use xlink:href=\"#glyph0-21\" x=\"503.538086\" y=\"404.921875\"/>\n",
       "  <use xlink:href=\"#glyph0-2\" x=\"511.324219\" y=\"404.921875\"/>\n",
       "  <use xlink:href=\"#glyph0-16\" x=\"519.110352\" y=\"404.921875\"/>\n",
       "</g>\n",
       "<g style=\"fill:rgb(0%,0%,0%);fill-opacity:1;\">\n",
       "  <use xlink:href=\"#glyph0-7\" x=\"244.960938\" y=\"312.277344\"/>\n",
       "  <use xlink:href=\"#glyph0-6\" x=\"253.512695\" y=\"312.277344\"/>\n",
       "  <use xlink:href=\"#glyph0-21\" x=\"261.298828\" y=\"312.277344\"/>\n",
       "  <use xlink:href=\"#glyph0-23\" x=\"269.084961\" y=\"312.277344\"/>\n",
       "  <use xlink:href=\"#glyph0-18\" x=\"276.871094\" y=\"312.277344\"/>\n",
       "  <use xlink:href=\"#glyph0-3\" x=\"286.981445\" y=\"312.277344\"/>\n",
       "  <use xlink:href=\"#glyph0-2\" x=\"294.767578\" y=\"312.277344\"/>\n",
       "  <use xlink:href=\"#glyph0-12\" x=\"302.553711\" y=\"312.277344\"/>\n",
       "  <use xlink:href=\"#glyph0-14\" x=\"310.339844\" y=\"312.277344\"/>\n",
       "  <use xlink:href=\"#glyph0-20\" x=\"313.450195\" y=\"312.277344\"/>\n",
       "</g>\n",
       "<g style=\"fill:rgb(0%,0%,0%);fill-opacity:1;\">\n",
       "  <use xlink:href=\"#glyph0-17\" x=\"457.15625\" y=\"233.710938\"/>\n",
       "  <use xlink:href=\"#glyph0-3\" x=\"464.15625\" y=\"233.710938\"/>\n",
       "  <use xlink:href=\"#glyph0-2\" x=\"471.942383\" y=\"233.710938\"/>\n",
       "  <use xlink:href=\"#glyph0-19\" x=\"479.728516\" y=\"233.710938\"/>\n",
       "  <use xlink:href=\"#glyph0-10\" x=\"486.728516\" y=\"233.710938\"/>\n",
       "  <use xlink:href=\"#glyph0-15\" x=\"494.514648\" y=\"233.710938\"/>\n",
       "  <use xlink:href=\"#glyph0-8\" x=\"497.625\" y=\"233.710938\"/>\n",
       "  <use xlink:href=\"#glyph0-12\" x=\"502.287109\" y=\"233.710938\"/>\n",
       "  <use xlink:href=\"#glyph0-17\" x=\"510.073242\" y=\"233.710938\"/>\n",
       "  <use xlink:href=\"#glyph0-24\" x=\"517.073242\" y=\"233.710938\"/>\n",
       "</g>\n",
       "<g style=\"fill:rgb(0%,0%,0%);fill-opacity:1;\">\n",
       "  <use xlink:href=\"#glyph0-6\" x=\"354.914063\" y=\"506.511719\"/>\n",
       "  <use xlink:href=\"#glyph0-15\" x=\"362.700195\" y=\"506.511719\"/>\n",
       "  <use xlink:href=\"#glyph0-14\" x=\"365.810547\" y=\"506.511719\"/>\n",
       "  <use xlink:href=\"#glyph0-14\" x=\"368.920898\" y=\"506.511719\"/>\n",
       "  <use xlink:href=\"#glyph0-12\" x=\"372.03125\" y=\"506.511719\"/>\n",
       "  <use xlink:href=\"#glyph0-8\" x=\"379.817383\" y=\"506.511719\"/>\n",
       "  <use xlink:href=\"#glyph0-24\" x=\"384.479492\" y=\"506.511719\"/>\n",
       "  <use xlink:href=\"#glyph0-17\" x=\"391.479492\" y=\"506.511719\"/>\n",
       "  <use xlink:href=\"#glyph0-14\" x=\"398.479492\" y=\"506.511719\"/>\n",
       "  <use xlink:href=\"#glyph0-15\" x=\"401.589844\" y=\"506.511719\"/>\n",
       "  <use xlink:href=\"#glyph0-2\" x=\"404.700195\" y=\"506.511719\"/>\n",
       "  <use xlink:href=\"#glyph0-16\" x=\"412.486328\" y=\"506.511719\"/>\n",
       "  <use xlink:href=\"#glyph0-3\" x=\"416.375977\" y=\"506.511719\"/>\n",
       "  <use xlink:href=\"#glyph0-2\" x=\"424.162109\" y=\"506.511719\"/>\n",
       "</g>\n",
       "<g style=\"fill:rgb(0%,0%,0%);fill-opacity:1;\">\n",
       "  <use xlink:href=\"#glyph0-10\" x=\"399.742188\" y=\"337.113281\"/>\n",
       "  <use xlink:href=\"#glyph0-3\" x=\"407.52832\" y=\"337.113281\"/>\n",
       "  <use xlink:href=\"#glyph0-14\" x=\"415.314453\" y=\"337.113281\"/>\n",
       "  <use xlink:href=\"#glyph0-15\" x=\"418.424805\" y=\"337.113281\"/>\n",
       "  <use xlink:href=\"#glyph0-16\" x=\"421.535156\" y=\"337.113281\"/>\n",
       "  <use xlink:href=\"#glyph0-15\" x=\"425.424805\" y=\"337.113281\"/>\n",
       "  <use xlink:href=\"#glyph0-17\" x=\"428.535156\" y=\"337.113281\"/>\n",
       "  <use xlink:href=\"#glyph0-19\" x=\"435.535156\" y=\"337.113281\"/>\n",
       "</g>\n",
       "<g style=\"fill:rgb(0%,0%,0%);fill-opacity:1;\">\n",
       "  <use xlink:href=\"#glyph0-4\" x=\"71.03125\" y=\"106.511719\"/>\n",
       "  <use xlink:href=\"#glyph0-25\" x=\"78.817383\" y=\"106.511719\"/>\n",
       "  <use xlink:href=\"#glyph0-10\" x=\"85.817383\" y=\"106.511719\"/>\n",
       "  <use xlink:href=\"#glyph0-3\" x=\"93.603516\" y=\"106.511719\"/>\n",
       "  <use xlink:href=\"#glyph0-14\" x=\"101.389648\" y=\"106.511719\"/>\n",
       "  <use xlink:href=\"#glyph0-15\" x=\"104.5\" y=\"106.511719\"/>\n",
       "  <use xlink:href=\"#glyph0-16\" x=\"107.610352\" y=\"106.511719\"/>\n",
       "  <use xlink:href=\"#glyph0-15\" x=\"111.5\" y=\"106.511719\"/>\n",
       "  <use xlink:href=\"#glyph0-17\" x=\"114.610352\" y=\"106.511719\"/>\n",
       "  <use xlink:href=\"#glyph0-19\" x=\"121.610352\" y=\"106.511719\"/>\n",
       "</g>\n",
       "</g>\n",
       "</svg>\n"
      ],
      "text/plain": [
       "<igraph.drawing.Plot at 0x22134cfbe48>"
      ]
     },
     "execution_count": 400,
     "metadata": {},
     "output_type": "execute_result"
    }
   ],
   "source": [
    "A_perc = df_politics_adj_percentages.values\n",
    "g_politics_subreddits_2 = Graph().Adjacency((A_perc > 0).tolist())\n",
    "# Add edge weights and node labels.\n",
    "g_politics_subreddits_2.es['weight'] = A[A.nonzero()]\n",
    "g_politics_subreddits_2.vs['label'] = political_subreddits\n",
    "g_politics_subreddits_2.es['widht'] = A_perc[A_perc.nonzero()] *0.07\n",
    "\n",
    "visual_style = {}\n",
    "visual_style[\"bbox\"] = (800, 600)\n",
    "visual_style[\"margin\"] = 100\n",
    "visual_style[\"vertex_size\"] = [df_number_of_users.loc[s][\"number_of_users\"] * 0.001 for s in political_subreddits]\n",
    "visual_style[\"edge_arrow_size\"] = A_perc[A_perc.nonzero()] * 0.02\n",
    "visual_style[\"vertex_color\"] = subreddit_politic_colors\n",
    "\n",
    "edges_colors = []\n",
    "edge_list = g_politics_subreddits_2.get_edgelist()\n",
    "for edge in edge_list:\n",
    "    edges_colors = edges_colors + [subreddit_politic_colors[edge[0]]]\n",
    "    \n",
    "visual_style[\"edge_color\"] = edges_colors\n",
    "\n",
    "#What this algorithm (fruchterman_reingold) do is printing the nodes which have less weight connection more distanciated\n",
    "layout = g_politics_subreddits_2.layout_fruchterman_reingold(weights = g_politics_subreddits_2.es['weight'])  \n",
    "plot(g_politics_subreddits_2, **visual_style, layout = layout, edge_width = g_politics_subreddits_2.es['widht'])"
   ]
  },
  {
   "cell_type": "markdown",
   "metadata": {},
   "source": [
    "In this graph:\n",
    "* The edges width is proportional to the percentage of users of the origin subreddit who have also commented in the destination subreddit.\n",
    "* The edges color is the color of the subreddit origin (the color of the ball representing the subreddit).\n",
    "* Balls size and layout algorithm same as the last one. Note that the layout do not work proporcionable (as the edges width)\n",
    "\n",
    "As we have seen just before the visuzalization, the connection between these subreddits is soft (there are few users in proportion commenting in two determined subreddits). Now the size of the subreddits is not influencing the measure of the connection between then; so we see that there are not such differences in the edges width comparing with the previous visualization. \n",
    "\n",
    "This graph allows us to compare how are the interactions of the different subreddits with the others and deduct some conclusions: \n",
    "* We can see that the edges who born in the `The_Donald` subreddit (the blue ones) are very thin in comparision with the others, and that his widthest edge is that whose origin is `Politics`, but it is still thin. So we can interpret that if there is echo-chambing in `The_Donald` subreddit (indeed is well-known that there exits echo-chambing in this subreddit, just see its rules), then most of their users would be totally effected by echo-chambing (inside Reddit), since the percentage of them who interact with other subreddits is very low.\n",
    "* The `politics` subreddit is the one which receive as origin the widthest edges. We could think that this is because of its size; however the `The_Donald` subreddit do not have such width edges. So we can conclude that the `politics` subreddit is the one such that the other ones interact the most with. \n",
    "* We see a problem when interpreting some of the results, since we do not know which community is interacting with the other; so we see the necessity of classify the people between the communities. Even though we know that one user can belongs to more than one community, we are going to try to guess which of them is the prefered by each user (see next step)."
   ]
  },
  {
   "cell_type": "markdown",
   "metadata": {},
   "source": [
    "### Last step - Classifying users by their main community"
   ]
  },
  {
   "cell_type": "markdown",
   "metadata": {},
   "source": [
    "Next step is to try to classify the users main subreddit. Assuming that every of these subreddits have their own \"personality\" and features, we are going to determine which of them represents better is the prefered of every user (with the idea of interpret that a certain subreddit owns a certain number of users). \n",
    "\n",
    "For doing that we are going to see in which of the subreddits the user has more score (meaning this that the user opinion is well or bad accepted by the general opinion of the subreddit) and by the number of comments posted in each subreddit (it is normal to thing that people who usually post in an specific subreddit is close to the way of thinking of general people in this subreddit; else this user could be revealed by the score of his comments!) "
   ]
  },
  {
   "cell_type": "markdown",
   "metadata": {},
   "source": [
    "Let's obtain first a data frame with all the neccesary data. First we extract a list with all the users which have posted commments in some of these subreddits:"
   ]
  },
  {
   "cell_type": "code",
   "execution_count": 424,
   "metadata": {},
   "outputs": [
    {
     "data": {
      "text/plain": [
       "48575"
      ]
     },
     "execution_count": 424,
     "metadata": {},
     "output_type": "execute_result"
    }
   ],
   "source": [
    "users_list = []\n",
    "for u in df_users_politic[\"users\"]:\n",
    "    users_list = users_list + u\n",
    "    \n",
    "users_list = list(set(users_list)) #Drop duplicates\n",
    "len(users_list)"
   ]
  },
  {
   "cell_type": "markdown",
   "metadata": {},
   "source": [
    "So, we have to classify every user of this list. The idea is to for every user and for each political subreddit determine a value which means the grade of belonging to it; finally we classify the user according to the gratest value. If there is a tie we add this user to both(or more) kinds of user:\n",
    "\n",
    "\n",
    "Note: Every comment posted in a certain subreddit add +1 point for belonging to it. The score is just added (do not mater if it is positive or negative). With this way of classification we are giving more importance to the score (in case there are great values)."
   ]
  },
  {
   "cell_type": "code",
   "execution_count": 426,
   "metadata": {},
   "outputs": [],
   "source": [
    "#We use the original data frame in order to get the score and the number of comments in each political subreddit!!\n",
    "df_spark.select(\"author\", \"score\", \"subreddit\").write.mode('overwrite').parquet(DATA_DIR + \"temp1.parquet\")\n",
    "df_pd2 = pd.read_parquet(DATA_DIR + \"temp1.parquet\")"
   ]
  },
  {
   "cell_type": "code",
   "execution_count": 435,
   "metadata": {
    "scrolled": true
   },
   "outputs": [],
   "source": [
    "#We are going to classify just a certain number of user (chosen randomly) and extrapolate these results to the vizualizations.\n",
    "n_users_to_classify = 5000\n",
    "users_list_s = random.sample(users_list, n_users_to_classify)\n",
    "df_classifying = df_pd2.loc[df_pd2[\"subreddit\"].isin(political_subreddits) & df_pd2[\"author\"].isin(users_list_s)]"
   ]
  },
  {
   "cell_type": "code",
   "execution_count": null,
   "metadata": {},
   "outputs": [
    {
     "data": {
      "text/plain": [
       "(360092, 3)"
      ]
     },
     "execution_count": 436,
     "metadata": {},
     "output_type": "execute_result"
    }
   ],
   "source": [
    "df_classifying.shape #Almost 1,5 million comments written by 20000 different users"
   ]
  },
  {
   "cell_type": "code",
   "execution_count": null,
   "metadata": {
    "scrolled": true
   },
   "outputs": [],
   "source": [
    "df_classifier = pd.DataFrame(index = political_subreddits)\n",
    "df_classifier[\"Users_list\"] = [list() for x in range(len(df_classifier.index))]\n",
    "\n",
    "for u in users_list_s:\n",
    "    subreddit_values = np.zeros(len(political_subreddits))\n",
    "    df_user_comments = df_classifying[df_classifying[\"author\"] == u]\n",
    "    for index, row in df_user_comments.iterrows():\n",
    "        value = 1\n",
    "        value = value + row.score\n",
    "        sreddit_index = political_subreddits.index(row.subreddit)\n",
    "        subreddit_values[sreddit_index] = subreddit_values[sreddit_index] + value\n",
    "    greatest_value = subreddit_values.max()\n",
    "    for i in range(len(subreddit_values)):         #Neccesary in case there is a tie\n",
    "        if(greatest_value > 0 and subreddit_values[i] == greatest_value):\n",
    "            df_classifier[\"Users_list\"].loc[political_subreddits[i]] = df_classifier[\"Users_list\"].loc[political_subreddits[i]] + [u] \n",
    "    "
   ]
  },
  {
   "cell_type": "code",
   "execution_count": null,
   "metadata": {},
   "outputs": [],
   "source": [
    "df_classifier[\"Number_of_Users_Belonging\"] = [len(i) for i in df_classifier[\"Users_list\"]]\n",
    "df_classifier"
   ]
  },
  {
   "cell_type": "markdown",
   "metadata": {},
   "source": [
    "With the classification done, it is time to do the last graph of this kind:\n",
    "\n",
    "First we need a new adjacency matrix, where the value in the position subreddit1-subreddit2 mean the quantity of users who are from the subreddit1-ideology and who have posted in the subreddit2. (For compute this matrix we use the dataframe `df` obtained at the beginning of this section, which have the list of users who have posted in each subreddit):"
   ]
  },
  {
   "cell_type": "code",
   "execution_count": 103,
   "metadata": {},
   "outputs": [
    {
     "data": {
      "text/html": [
       "<div>\n",
       "<style scoped>\n",
       "    .dataframe tbody tr th:only-of-type {\n",
       "        vertical-align: middle;\n",
       "    }\n",
       "\n",
       "    .dataframe tbody tr th {\n",
       "        vertical-align: top;\n",
       "    }\n",
       "\n",
       "    .dataframe thead th {\n",
       "        text-align: right;\n",
       "    }\n",
       "</style>\n",
       "<table border=\"1\" class=\"dataframe\">\n",
       "  <thead>\n",
       "    <tr style=\"text-align: right;\">\n",
       "      <th></th>\n",
       "      <th>users</th>\n",
       "      <th>number_of_posts</th>\n",
       "    </tr>\n",
       "    <tr>\n",
       "      <th>subreddit</th>\n",
       "      <th></th>\n",
       "      <th></th>\n",
       "    </tr>\n",
       "  </thead>\n",
       "  <tbody>\n",
       "    <tr>\n",
       "      <th>2007scape</th>\n",
       "      <td>[PregnantMale, Mr_Abel, ExtremeWindyGuy, Slaye...</td>\n",
       "      <td>62157</td>\n",
       "    </tr>\n",
       "    <tr>\n",
       "      <th>4chan</th>\n",
       "      <td>[matthewgstat, Boxxi, baconlover24, ChaseDPat,...</td>\n",
       "      <td>69400</td>\n",
       "    </tr>\n",
       "  </tbody>\n",
       "</table>\n",
       "</div>"
      ],
      "text/plain": [
       "                                                       users  number_of_posts\n",
       "subreddit                                                                    \n",
       "2007scape  [PregnantMale, Mr_Abel, ExtremeWindyGuy, Slaye...            62157\n",
       "4chan      [matthewgstat, Boxxi, baconlover24, ChaseDPat,...            69400"
      ]
     },
     "execution_count": 103,
     "metadata": {},
     "output_type": "execute_result"
    }
   ],
   "source": [
    "df.set_index(\"subreddit\", inplace = True)\n",
    "df.head(2)"
   ]
  },
  {
   "cell_type": "code",
   "execution_count": 104,
   "metadata": {},
   "outputs": [],
   "source": [
    "df_pol_final = df_politics_adj.copy()\n",
    "for i in df_pol_final.index:\n",
    "    for j in df_pol_final.columns:\n",
    "        if i == j:\n",
    "            df_pol_final.loc[i][j]=0\n",
    "        else:\n",
    "            df_pol_final.loc[i][j] = len(list(set(df_classifier.loc[i][\"Users_list\"]) & set(df.loc[j][\"users\"])))"
   ]
  },
  {
   "cell_type": "code",
   "execution_count": 105,
   "metadata": {},
   "outputs": [
    {
     "data": {
      "text/html": [
       "<div>\n",
       "<style scoped>\n",
       "    .dataframe tbody tr th:only-of-type {\n",
       "        vertical-align: middle;\n",
       "    }\n",
       "\n",
       "    .dataframe tbody tr th {\n",
       "        vertical-align: top;\n",
       "    }\n",
       "\n",
       "    .dataframe thead th {\n",
       "        text-align: right;\n",
       "    }\n",
       "</style>\n",
       "<table border=\"1\" class=\"dataframe\">\n",
       "  <thead>\n",
       "    <tr style=\"text-align: right;\">\n",
       "      <th></th>\n",
       "      <th>EnoughTrumpSpam</th>\n",
       "      <th>PoliticalDiscussion</th>\n",
       "      <th>SandersForPresident</th>\n",
       "      <th>The_Donald</th>\n",
       "      <th>conspiracy</th>\n",
       "      <th>hillaryclinton</th>\n",
       "      <th>politics</th>\n",
       "      <th>ukpolitics</th>\n",
       "    </tr>\n",
       "    <tr>\n",
       "      <th>subreddits</th>\n",
       "      <th></th>\n",
       "      <th></th>\n",
       "      <th></th>\n",
       "      <th></th>\n",
       "      <th></th>\n",
       "      <th></th>\n",
       "      <th></th>\n",
       "      <th></th>\n",
       "    </tr>\n",
       "  </thead>\n",
       "  <tbody>\n",
       "    <tr>\n",
       "      <th>EnoughTrumpSpam</th>\n",
       "      <td>0.0</td>\n",
       "      <td>31.0</td>\n",
       "      <td>85.0</td>\n",
       "      <td>142.0</td>\n",
       "      <td>54.0</td>\n",
       "      <td>55.0</td>\n",
       "      <td>236.0</td>\n",
       "      <td>10.0</td>\n",
       "    </tr>\n",
       "    <tr>\n",
       "      <th>PoliticalDiscussion</th>\n",
       "      <td>53.0</td>\n",
       "      <td>0.0</td>\n",
       "      <td>77.0</td>\n",
       "      <td>54.0</td>\n",
       "      <td>25.0</td>\n",
       "      <td>39.0</td>\n",
       "      <td>232.0</td>\n",
       "      <td>7.0</td>\n",
       "    </tr>\n",
       "    <tr>\n",
       "      <th>SandersForPresident</th>\n",
       "      <td>97.0</td>\n",
       "      <td>80.0</td>\n",
       "      <td>0.0</td>\n",
       "      <td>324.0</td>\n",
       "      <td>102.0</td>\n",
       "      <td>113.0</td>\n",
       "      <td>730.0</td>\n",
       "      <td>7.0</td>\n",
       "    </tr>\n",
       "    <tr>\n",
       "      <th>The_Donald</th>\n",
       "      <td>306.0</td>\n",
       "      <td>135.0</td>\n",
       "      <td>599.0</td>\n",
       "      <td>0.0</td>\n",
       "      <td>378.0</td>\n",
       "      <td>172.0</td>\n",
       "      <td>1515.0</td>\n",
       "      <td>36.0</td>\n",
       "    </tr>\n",
       "    <tr>\n",
       "      <th>conspiracy</th>\n",
       "      <td>42.0</td>\n",
       "      <td>23.0</td>\n",
       "      <td>86.0</td>\n",
       "      <td>166.0</td>\n",
       "      <td>0.0</td>\n",
       "      <td>10.0</td>\n",
       "      <td>267.0</td>\n",
       "      <td>9.0</td>\n",
       "    </tr>\n",
       "    <tr>\n",
       "      <th>hillaryclinton</th>\n",
       "      <td>35.0</td>\n",
       "      <td>38.0</td>\n",
       "      <td>52.0</td>\n",
       "      <td>30.0</td>\n",
       "      <td>9.0</td>\n",
       "      <td>0.0</td>\n",
       "      <td>94.0</td>\n",
       "      <td>1.0</td>\n",
       "    </tr>\n",
       "    <tr>\n",
       "      <th>politics</th>\n",
       "      <td>650.0</td>\n",
       "      <td>576.0</td>\n",
       "      <td>1307.0</td>\n",
       "      <td>1407.0</td>\n",
       "      <td>525.0</td>\n",
       "      <td>371.0</td>\n",
       "      <td>0.0</td>\n",
       "      <td>69.0</td>\n",
       "    </tr>\n",
       "    <tr>\n",
       "      <th>ukpolitics</th>\n",
       "      <td>15.0</td>\n",
       "      <td>14.0</td>\n",
       "      <td>15.0</td>\n",
       "      <td>48.0</td>\n",
       "      <td>15.0</td>\n",
       "      <td>6.0</td>\n",
       "      <td>83.0</td>\n",
       "      <td>0.0</td>\n",
       "    </tr>\n",
       "  </tbody>\n",
       "</table>\n",
       "</div>"
      ],
      "text/plain": [
       "                     EnoughTrumpSpam  PoliticalDiscussion  \\\n",
       "subreddits                                                  \n",
       "EnoughTrumpSpam                  0.0                 31.0   \n",
       "PoliticalDiscussion             53.0                  0.0   \n",
       "SandersForPresident             97.0                 80.0   \n",
       "The_Donald                     306.0                135.0   \n",
       "conspiracy                      42.0                 23.0   \n",
       "hillaryclinton                  35.0                 38.0   \n",
       "politics                       650.0                576.0   \n",
       "ukpolitics                      15.0                 14.0   \n",
       "\n",
       "                     SandersForPresident  The_Donald  conspiracy  \\\n",
       "subreddits                                                         \n",
       "EnoughTrumpSpam                     85.0       142.0        54.0   \n",
       "PoliticalDiscussion                 77.0        54.0        25.0   \n",
       "SandersForPresident                  0.0       324.0       102.0   \n",
       "The_Donald                         599.0         0.0       378.0   \n",
       "conspiracy                          86.0       166.0         0.0   \n",
       "hillaryclinton                      52.0        30.0         9.0   \n",
       "politics                          1307.0      1407.0       525.0   \n",
       "ukpolitics                          15.0        48.0        15.0   \n",
       "\n",
       "                     hillaryclinton  politics  ukpolitics  \n",
       "subreddits                                                 \n",
       "EnoughTrumpSpam                55.0     236.0        10.0  \n",
       "PoliticalDiscussion            39.0     232.0         7.0  \n",
       "SandersForPresident           113.0     730.0         7.0  \n",
       "The_Donald                    172.0    1515.0        36.0  \n",
       "conspiracy                     10.0     267.0         9.0  \n",
       "hillaryclinton                  0.0      94.0         1.0  \n",
       "politics                      371.0       0.0        69.0  \n",
       "ukpolitics                      6.0      83.0         0.0  "
      ]
     },
     "execution_count": 105,
     "metadata": {},
     "output_type": "execute_result"
    }
   ],
   "source": [
    "df_pol_final"
   ]
  },
  {
   "cell_type": "code",
   "execution_count": 106,
   "metadata": {},
   "outputs": [],
   "source": [
    "df_politics_adj_classified = df_pol_final\n",
    "for i in df_politics_adj_classified.index:\n",
    "    total_users = df_classifier.loc[i][\"Number_of_Users_Belonging\"]\n",
    "    df_politics_adj_classified.loc[i] = df_politics_adj_classified.loc[i] / total_users * 100"
   ]
  },
  {
   "cell_type": "code",
   "execution_count": 107,
   "metadata": {},
   "outputs": [
    {
     "data": {
      "text/html": [
       "<div>\n",
       "<style scoped>\n",
       "    .dataframe tbody tr th:only-of-type {\n",
       "        vertical-align: middle;\n",
       "    }\n",
       "\n",
       "    .dataframe tbody tr th {\n",
       "        vertical-align: top;\n",
       "    }\n",
       "\n",
       "    .dataframe thead th {\n",
       "        text-align: right;\n",
       "    }\n",
       "</style>\n",
       "<table border=\"1\" class=\"dataframe\">\n",
       "  <thead>\n",
       "    <tr style=\"text-align: right;\">\n",
       "      <th></th>\n",
       "      <th>EnoughTrumpSpam</th>\n",
       "      <th>PoliticalDiscussion</th>\n",
       "      <th>SandersForPresident</th>\n",
       "      <th>The_Donald</th>\n",
       "      <th>conspiracy</th>\n",
       "      <th>hillaryclinton</th>\n",
       "      <th>politics</th>\n",
       "      <th>ukpolitics</th>\n",
       "    </tr>\n",
       "    <tr>\n",
       "      <th>subreddits</th>\n",
       "      <th></th>\n",
       "      <th></th>\n",
       "      <th></th>\n",
       "      <th></th>\n",
       "      <th></th>\n",
       "      <th></th>\n",
       "      <th></th>\n",
       "      <th></th>\n",
       "    </tr>\n",
       "  </thead>\n",
       "  <tbody>\n",
       "    <tr>\n",
       "      <th>EnoughTrumpSpam</th>\n",
       "      <td>0.000000</td>\n",
       "      <td>4.952077</td>\n",
       "      <td>13.578275</td>\n",
       "      <td>22.683706</td>\n",
       "      <td>8.626198</td>\n",
       "      <td>8.785942</td>\n",
       "      <td>37.699681</td>\n",
       "      <td>1.597444</td>\n",
       "    </tr>\n",
       "    <tr>\n",
       "      <th>PoliticalDiscussion</th>\n",
       "      <td>11.064718</td>\n",
       "      <td>0.000000</td>\n",
       "      <td>16.075157</td>\n",
       "      <td>11.273486</td>\n",
       "      <td>5.219207</td>\n",
       "      <td>8.141962</td>\n",
       "      <td>48.434238</td>\n",
       "      <td>1.461378</td>\n",
       "    </tr>\n",
       "    <tr>\n",
       "      <th>SandersForPresident</th>\n",
       "      <td>4.549719</td>\n",
       "      <td>3.752345</td>\n",
       "      <td>0.000000</td>\n",
       "      <td>15.196998</td>\n",
       "      <td>4.784240</td>\n",
       "      <td>5.300188</td>\n",
       "      <td>34.240150</td>\n",
       "      <td>0.328330</td>\n",
       "    </tr>\n",
       "    <tr>\n",
       "      <th>The_Donald</th>\n",
       "      <td>5.453573</td>\n",
       "      <td>2.405988</td>\n",
       "      <td>10.675459</td>\n",
       "      <td>0.000000</td>\n",
       "      <td>6.736767</td>\n",
       "      <td>3.065407</td>\n",
       "      <td>27.000535</td>\n",
       "      <td>0.641597</td>\n",
       "    </tr>\n",
       "    <tr>\n",
       "      <th>conspiracy</th>\n",
       "      <td>3.849679</td>\n",
       "      <td>2.108158</td>\n",
       "      <td>7.882676</td>\n",
       "      <td>15.215399</td>\n",
       "      <td>0.000000</td>\n",
       "      <td>0.916590</td>\n",
       "      <td>24.472961</td>\n",
       "      <td>0.824931</td>\n",
       "    </tr>\n",
       "    <tr>\n",
       "      <th>hillaryclinton</th>\n",
       "      <td>12.195122</td>\n",
       "      <td>13.240418</td>\n",
       "      <td>18.118467</td>\n",
       "      <td>10.452962</td>\n",
       "      <td>3.135889</td>\n",
       "      <td>0.000000</td>\n",
       "      <td>32.752613</td>\n",
       "      <td>0.348432</td>\n",
       "    </tr>\n",
       "    <tr>\n",
       "      <th>politics</th>\n",
       "      <td>7.330551</td>\n",
       "      <td>6.495996</td>\n",
       "      <td>14.740047</td>\n",
       "      <td>15.867825</td>\n",
       "      <td>5.920830</td>\n",
       "      <td>4.184053</td>\n",
       "      <td>0.000000</td>\n",
       "      <td>0.778166</td>\n",
       "    </tr>\n",
       "    <tr>\n",
       "      <th>ukpolitics</th>\n",
       "      <td>3.529412</td>\n",
       "      <td>3.294118</td>\n",
       "      <td>3.529412</td>\n",
       "      <td>11.294118</td>\n",
       "      <td>3.529412</td>\n",
       "      <td>1.411765</td>\n",
       "      <td>19.529412</td>\n",
       "      <td>0.000000</td>\n",
       "    </tr>\n",
       "  </tbody>\n",
       "</table>\n",
       "</div>"
      ],
      "text/plain": [
       "                     EnoughTrumpSpam  PoliticalDiscussion  \\\n",
       "subreddits                                                  \n",
       "EnoughTrumpSpam             0.000000             4.952077   \n",
       "PoliticalDiscussion        11.064718             0.000000   \n",
       "SandersForPresident         4.549719             3.752345   \n",
       "The_Donald                  5.453573             2.405988   \n",
       "conspiracy                  3.849679             2.108158   \n",
       "hillaryclinton             12.195122            13.240418   \n",
       "politics                    7.330551             6.495996   \n",
       "ukpolitics                  3.529412             3.294118   \n",
       "\n",
       "                     SandersForPresident  The_Donald  conspiracy  \\\n",
       "subreddits                                                         \n",
       "EnoughTrumpSpam                13.578275   22.683706    8.626198   \n",
       "PoliticalDiscussion            16.075157   11.273486    5.219207   \n",
       "SandersForPresident             0.000000   15.196998    4.784240   \n",
       "The_Donald                     10.675459    0.000000    6.736767   \n",
       "conspiracy                      7.882676   15.215399    0.000000   \n",
       "hillaryclinton                 18.118467   10.452962    3.135889   \n",
       "politics                       14.740047   15.867825    5.920830   \n",
       "ukpolitics                      3.529412   11.294118    3.529412   \n",
       "\n",
       "                     hillaryclinton   politics  ukpolitics  \n",
       "subreddits                                                  \n",
       "EnoughTrumpSpam            8.785942  37.699681    1.597444  \n",
       "PoliticalDiscussion        8.141962  48.434238    1.461378  \n",
       "SandersForPresident        5.300188  34.240150    0.328330  \n",
       "The_Donald                 3.065407  27.000535    0.641597  \n",
       "conspiracy                 0.916590  24.472961    0.824931  \n",
       "hillaryclinton             0.000000  32.752613    0.348432  \n",
       "politics                   4.184053   0.000000    0.778166  \n",
       "ukpolitics                 1.411765  19.529412    0.000000  "
      ]
     },
     "execution_count": 107,
     "metadata": {},
     "output_type": "execute_result"
    }
   ],
   "source": [
    "df_politics_adj_classified"
   ]
  },
  {
   "cell_type": "markdown",
   "metadata": {},
   "source": [
    "#### Visualization 4"
   ]
  },
  {
   "cell_type": "code",
   "execution_count": 110,
   "metadata": {},
   "outputs": [
    {
     "data": {
      "image/svg+xml": [
       "<?xml version=\"1.0\" encoding=\"UTF-8\"?>\n",
       "<svg xmlns=\"http://www.w3.org/2000/svg\" xmlns:xlink=\"http://www.w3.org/1999/xlink\" width=\"600pt\" height=\"600pt\" viewBox=\"0 0 600 600\" version=\"1.1\">\n",
       "<defs>\n",
       "<g>\n",
       "<symbol overflow=\"visible\" id=\"glyph0-0\">\n",
       "<path style=\"stroke:none;\" d=\"M 1.75 0 L 1.75 -8.75 L 8.75 -8.75 L 8.75 0 Z M 1.96875 -0.21875 L 8.53125 -0.21875 L 8.53125 -8.53125 L 1.96875 -8.53125 Z M 1.96875 -0.21875 \"/>\n",
       "</symbol>\n",
       "<symbol overflow=\"visible\" id=\"glyph0-1\">\n",
       "<path style=\"stroke:none;\" d=\"M 1.109375 0 L 1.109375 -10.023438 L 8.351563 -10.023438 L 8.351563 -8.839844 L 2.433594 -8.839844 L 2.433594 -5.769531 L 7.976563 -5.769531 L 7.976563 -4.59375 L 2.433594 -4.59375 L 2.433594 -1.183594 L 8.585938 -1.183594 L 8.585938 0 Z M 1.109375 0 \"/>\n",
       "</symbol>\n",
       "<symbol overflow=\"visible\" id=\"glyph0-2\">\n",
       "<path style=\"stroke:none;\" d=\"M 0.921875 0 L 0.921875 -7.257813 L 2.03125 -7.257813 L 2.03125 -6.226563 C 2.558594 -7.019531 3.328125 -7.417969 4.339844 -7.421875 C 4.773438 -7.417969 5.175781 -7.339844 5.546875 -7.1875 C 5.910156 -7.027344 6.183594 -6.820313 6.371094 -6.570313 C 6.550781 -6.3125 6.679688 -6.011719 6.753906 -5.660156 C 6.796875 -5.433594 6.820313 -5.035156 6.820313 -4.464844 L 6.820313 0 L 5.59375 0 L 5.59375 -4.414063 C 5.589844 -4.914063 5.542969 -5.289063 5.449219 -5.539063 C 5.351563 -5.785156 5.179688 -5.984375 4.9375 -6.136719 C 4.691406 -6.28125 4.40625 -6.355469 4.082031 -6.359375 C 3.554688 -6.355469 3.101563 -6.191406 2.722656 -5.859375 C 2.339844 -5.523438 2.148438 -4.890625 2.152344 -3.964844 L 2.152344 0 Z M 0.921875 0 \"/>\n",
       "</symbol>\n",
       "<symbol overflow=\"visible\" id=\"glyph0-3\">\n",
       "<path style=\"stroke:none;\" d=\"M 0.464844 -3.628906 C 0.460938 -4.972656 0.835938 -5.96875 1.585938 -6.617188 C 2.207031 -7.148438 2.96875 -7.417969 3.867188 -7.421875 C 4.867188 -7.417969 5.683594 -7.089844 6.316406 -6.441406 C 6.949219 -5.785156 7.265625 -4.882813 7.265625 -3.734375 C 7.265625 -2.796875 7.125 -2.0625 6.84375 -1.527344 C 6.5625 -0.992188 6.152344 -0.578125 5.621094 -0.28125 C 5.082031 0.015625 4.5 0.164063 3.867188 0.164063 C 2.851563 0.164063 2.027344 -0.160156 1.402344 -0.8125 C 0.773438 -1.460938 0.460938 -2.398438 0.464844 -3.628906 Z M 1.730469 -3.628906 C 1.726563 -2.695313 1.929688 -2 2.335938 -1.539063 C 2.738281 -1.074219 3.25 -0.84375 3.867188 -0.847656 C 4.476563 -0.84375 4.984375 -1.074219 5.390625 -1.542969 C 5.796875 -2.003906 6 -2.714844 6 -3.671875 C 6 -4.566406 5.792969 -5.246094 5.386719 -5.710938 C 4.976563 -6.171875 4.472656 -6.402344 3.867188 -6.40625 C 3.25 -6.402344 2.738281 -6.171875 2.335938 -5.714844 C 1.929688 -5.25 1.726563 -4.554688 1.730469 -3.628906 Z M 1.730469 -3.628906 \"/>\n",
       "</symbol>\n",
       "<symbol overflow=\"visible\" id=\"glyph0-4\">\n",
       "<path style=\"stroke:none;\" d=\"M 5.679688 0 L 5.679688 -1.066406 C 5.109375 -0.246094 4.34375 0.164063 3.375 0.164063 C 2.945313 0.164063 2.542969 0.0820313 2.175781 -0.0820313 C 1.800781 -0.246094 1.527344 -0.449219 1.347656 -0.699219 C 1.167969 -0.945313 1.039063 -1.25 0.96875 -1.613281 C 0.914063 -1.851563 0.890625 -2.234375 0.894531 -2.761719 L 0.894531 -7.257813 L 2.125 -7.257813 L 2.125 -3.234375 C 2.121094 -2.589844 2.148438 -2.15625 2.203125 -1.933594 C 2.277344 -1.609375 2.4375 -1.355469 2.691406 -1.171875 C 2.941406 -0.984375 3.253906 -0.890625 3.625 -0.894531 C 3.988281 -0.890625 4.332031 -0.984375 4.660156 -1.175781 C 4.980469 -1.363281 5.210938 -1.621094 5.347656 -1.949219 C 5.480469 -2.273438 5.546875 -2.746094 5.550781 -3.371094 L 5.550781 -7.257813 L 6.78125 -7.257813 L 6.78125 0 Z M 5.679688 0 \"/>\n",
       "</symbol>\n",
       "<symbol overflow=\"visible\" id=\"glyph0-5\">\n",
       "<path style=\"stroke:none;\" d=\"M 0.695313 0.601563 L 1.894531 0.78125 C 1.941406 1.144531 2.082031 1.414063 2.3125 1.585938 C 2.613281 1.8125 3.03125 1.925781 3.5625 1.929688 C 4.128906 1.925781 4.566406 1.8125 4.878906 1.585938 C 5.1875 1.355469 5.398438 1.035156 5.507813 0.628906 C 5.570313 0.375 5.597656 -0.148438 5.597656 -0.949219 C 5.058594 -0.316406 4.390625 0 3.589844 0 C 2.589844 0 1.816406 -0.359375 1.273438 -1.078125 C 0.722656 -1.796875 0.449219 -2.660156 0.453125 -3.671875 C 0.449219 -4.363281 0.574219 -5.003906 0.828125 -5.589844 C 1.074219 -6.175781 1.4375 -6.625 1.917969 -6.945313 C 2.390625 -7.257813 2.949219 -7.417969 3.59375 -7.421875 C 4.449219 -7.417969 5.15625 -7.070313 5.714844 -6.382813 L 5.714844 -7.257813 L 6.851563 -7.257813 L 6.851563 -0.984375 C 6.847656 0.144531 6.734375 0.945313 6.503906 1.417969 C 6.273438 1.886719 5.90625 2.257813 5.410156 2.535156 C 4.910156 2.804688 4.296875 2.941406 3.570313 2.945313 C 2.699219 2.941406 2 2.746094 1.46875 2.359375 C 0.933594 1.96875 0.675781 1.382813 0.695313 0.601563 Z M 1.714844 -3.757813 C 1.710938 -2.804688 1.898438 -2.113281 2.28125 -1.675781 C 2.65625 -1.238281 3.132813 -1.019531 3.703125 -1.019531 C 4.269531 -1.019531 4.742188 -1.234375 5.128906 -1.671875 C 5.507813 -2.101563 5.699219 -2.785156 5.703125 -3.71875 C 5.699219 -4.605469 5.503906 -5.273438 5.109375 -5.726563 C 4.714844 -6.175781 4.238281 -6.402344 3.683594 -6.40625 C 3.132813 -6.402344 2.667969 -6.179688 2.289063 -5.738281 C 1.902344 -5.289063 1.710938 -4.628906 1.714844 -3.757813 Z M 1.714844 -3.757813 \"/>\n",
       "</symbol>\n",
       "<symbol overflow=\"visible\" id=\"glyph0-6\">\n",
       "<path style=\"stroke:none;\" d=\"M 0.921875 0 L 0.921875 -10.023438 L 2.152344 -10.023438 L 2.152344 -6.425781 C 2.722656 -7.085938 3.449219 -7.417969 4.328125 -7.421875 C 4.863281 -7.417969 5.328125 -7.3125 5.726563 -7.105469 C 6.121094 -6.890625 6.40625 -6.597656 6.578125 -6.226563 C 6.746094 -5.851563 6.832031 -5.308594 6.835938 -4.601563 L 6.835938 0 L 5.605469 0 L 5.605469 -4.601563 C 5.601563 -5.210938 5.46875 -5.660156 5.203125 -5.941406 C 4.9375 -6.222656 4.558594 -6.363281 4.074219 -6.363281 C 3.707031 -6.363281 3.363281 -6.265625 3.042969 -6.078125 C 2.71875 -5.886719 2.492188 -5.632813 2.355469 -5.3125 C 2.21875 -4.988281 2.148438 -4.542969 2.152344 -3.972656 L 2.152344 0 Z M 0.921875 0 \"/>\n",
       "</symbol>\n",
       "<symbol overflow=\"visible\" id=\"glyph0-7\">\n",
       "<path style=\"stroke:none;\" d=\"M 3.628906 0 L 3.628906 -8.839844 L 0.328125 -8.839844 L 0.328125 -10.023438 L 8.273438 -10.023438 L 8.273438 -8.839844 L 4.957031 -8.839844 L 4.957031 0 Z M 3.628906 0 \"/>\n",
       "</symbol>\n",
       "<symbol overflow=\"visible\" id=\"glyph0-8\">\n",
       "<path style=\"stroke:none;\" d=\"M 0.910156 0 L 0.910156 -7.257813 L 2.015625 -7.257813 L 2.015625 -6.160156 C 2.296875 -6.667969 2.554688 -7.007813 2.796875 -7.175781 C 3.03125 -7.335938 3.296875 -7.417969 3.589844 -7.421875 C 4 -7.417969 4.421875 -7.285156 4.851563 -7.027344 L 4.429688 -5.886719 C 4.125 -6.0625 3.824219 -6.152344 3.527344 -6.152344 C 3.257813 -6.152344 3.015625 -6.070313 2.800781 -5.910156 C 2.585938 -5.746094 2.433594 -5.519531 2.34375 -5.234375 C 2.207031 -4.792969 2.136719 -4.316406 2.140625 -3.800781 L 2.140625 0 Z M 0.910156 0 \"/>\n",
       "</symbol>\n",
       "<symbol overflow=\"visible\" id=\"glyph0-9\">\n",
       "<path style=\"stroke:none;\" d=\"M 0.921875 0 L 0.921875 -7.257813 L 2.023438 -7.257813 L 2.023438 -6.242188 C 2.25 -6.59375 2.554688 -6.878906 2.933594 -7.097656 C 3.308594 -7.308594 3.738281 -7.417969 4.226563 -7.421875 C 4.757813 -7.417969 5.199219 -7.304688 5.546875 -7.085938 C 5.886719 -6.859375 6.128906 -6.550781 6.273438 -6.152344 C 6.847656 -6.996094 7.59375 -7.417969 8.515625 -7.421875 C 9.234375 -7.417969 9.789063 -7.21875 10.175781 -6.824219 C 10.5625 -6.421875 10.757813 -5.808594 10.757813 -4.984375 L 10.757813 0 L 9.535156 0 L 9.535156 -4.574219 C 9.53125 -5.0625 9.492188 -5.417969 9.414063 -5.636719 C 9.332031 -5.851563 9.1875 -6.023438 8.980469 -6.160156 C 8.769531 -6.289063 8.523438 -6.355469 8.242188 -6.359375 C 7.730469 -6.355469 7.308594 -6.1875 6.972656 -5.847656 C 6.636719 -5.507813 6.46875 -4.964844 6.46875 -4.21875 L 6.46875 0 L 5.234375 0 L 5.234375 -4.71875 C 5.230469 -5.261719 5.132813 -5.671875 4.933594 -5.949219 C 4.730469 -6.21875 4.402344 -6.355469 3.953125 -6.359375 C 3.601563 -6.355469 3.28125 -6.265625 2.988281 -6.085938 C 2.695313 -5.902344 2.480469 -5.636719 2.351563 -5.285156 C 2.214844 -4.933594 2.148438 -4.425781 2.152344 -3.765625 L 2.152344 0 Z M 0.921875 0 \"/>\n",
       "</symbol>\n",
       "<symbol overflow=\"visible\" id=\"glyph0-10\">\n",
       "<path style=\"stroke:none;\" d=\"M 0.921875 2.78125 L 0.921875 -7.257813 L 2.042969 -7.257813 L 2.042969 -6.316406 C 2.304688 -6.683594 2.601563 -6.957031 2.9375 -7.144531 C 3.265625 -7.324219 3.671875 -7.417969 4.148438 -7.421875 C 4.765625 -7.417969 5.3125 -7.257813 5.789063 -6.945313 C 6.261719 -6.625 6.617188 -6.175781 6.863281 -5.59375 C 7.101563 -5.011719 7.222656 -4.375 7.226563 -3.683594 C 7.222656 -2.9375 7.089844 -2.269531 6.824219 -1.675781 C 6.554688 -1.082031 6.167969 -0.625 5.664063 -0.308594 C 5.152344 0.0078125 4.617188 0.164063 4.0625 0.164063 C 3.648438 0.164063 3.28125 0.078125 2.957031 -0.09375 C 2.628906 -0.265625 2.359375 -0.484375 2.152344 -0.75 L 2.152344 2.78125 Z M 2.039063 -3.589844 C 2.039063 -2.652344 2.226563 -1.960938 2.605469 -1.515625 C 2.980469 -1.066406 3.4375 -0.84375 3.976563 -0.847656 C 4.519531 -0.84375 4.988281 -1.074219 5.382813 -1.539063 C 5.769531 -2 5.964844 -2.71875 5.96875 -3.691406 C 5.964844 -4.613281 5.773438 -5.304688 5.398438 -5.769531 C 5.015625 -6.226563 4.5625 -6.457031 4.03125 -6.460938 C 3.507813 -6.457031 3.042969 -6.210938 2.640625 -5.726563 C 2.238281 -5.234375 2.039063 -4.523438 2.039063 -3.589844 Z M 2.039063 -3.589844 \"/>\n",
       "</symbol>\n",
       "<symbol overflow=\"visible\" id=\"glyph0-11\">\n",
       "<path style=\"stroke:none;\" d=\"M 0.628906 -3.21875 L 1.878906 -3.328125 C 1.9375 -2.828125 2.074219 -2.414063 2.292969 -2.09375 C 2.503906 -1.769531 2.839844 -1.511719 3.300781 -1.316406 C 3.753906 -1.117188 4.269531 -1.019531 4.839844 -1.019531 C 5.34375 -1.019531 5.789063 -1.09375 6.179688 -1.242188 C 6.566406 -1.390625 6.855469 -1.597656 7.042969 -1.863281 C 7.230469 -2.125 7.324219 -2.410156 7.328125 -2.71875 C 7.324219 -3.03125 7.234375 -3.304688 7.054688 -3.542969 C 6.871094 -3.777344 6.570313 -3.976563 6.152344 -4.136719 C 5.882813 -4.238281 5.285156 -4.398438 4.367188 -4.625 C 3.445313 -4.84375 2.800781 -5.054688 2.433594 -5.25 C 1.949219 -5.5 1.59375 -5.808594 1.363281 -6.183594 C 1.125 -6.550781 1.007813 -6.96875 1.011719 -7.429688 C 1.007813 -7.933594 1.152344 -8.40625 1.441406 -8.847656 C 1.730469 -9.285156 2.148438 -9.617188 2.699219 -9.847656 C 3.25 -10.074219 3.863281 -10.1875 4.539063 -10.191406 C 5.277344 -10.1875 5.933594 -10.070313 6.503906 -9.832031 C 7.070313 -9.59375 7.503906 -9.242188 7.8125 -8.777344 C 8.117188 -8.308594 8.28125 -7.78125 8.304688 -7.199219 L 7.035156 -7.101563 C 6.960938 -7.734375 6.730469 -8.210938 6.339844 -8.539063 C 5.945313 -8.859375 5.363281 -9.023438 4.59375 -9.023438 C 3.789063 -9.023438 3.203125 -8.875 2.839844 -8.582031 C 2.46875 -8.285156 2.285156 -7.929688 2.289063 -7.519531 C 2.285156 -7.15625 2.414063 -6.863281 2.679688 -6.632813 C 2.929688 -6.398438 3.597656 -6.15625 4.679688 -5.914063 C 5.753906 -5.667969 6.492188 -5.457031 6.898438 -5.277344 C 7.476563 -5.007813 7.90625 -4.667969 8.1875 -4.253906 C 8.460938 -3.839844 8.601563 -3.363281 8.605469 -2.828125 C 8.601563 -2.292969 8.449219 -1.792969 8.148438 -1.324219 C 7.839844 -0.851563 7.402344 -0.484375 6.832031 -0.222656 C 6.261719 0.0390625 5.617188 0.167969 4.902344 0.171875 C 3.992188 0.167969 3.230469 0.0390625 2.621094 -0.222656 C 2.003906 -0.488281 1.523438 -0.886719 1.179688 -1.417969 C 0.828125 -1.949219 0.644531 -2.546875 0.628906 -3.21875 Z M 0.628906 -3.21875 \"/>\n",
       "</symbol>\n",
       "<symbol overflow=\"visible\" id=\"glyph0-12\">\n",
       "<path style=\"stroke:none;\" d=\"M 5.660156 -0.894531 C 5.203125 -0.503906 4.761719 -0.230469 4.34375 -0.0742188 C 3.917969 0.0859375 3.46875 0.164063 2.988281 0.164063 C 2.1875 0.164063 1.574219 -0.0273438 1.148438 -0.417969 C 0.71875 -0.804688 0.503906 -1.304688 0.507813 -1.914063 C 0.503906 -2.265625 0.585938 -2.589844 0.75 -2.886719 C 0.910156 -3.179688 1.121094 -3.414063 1.382813 -3.59375 C 1.644531 -3.769531 1.9375 -3.90625 2.269531 -4 C 2.507813 -4.058594 2.875 -4.121094 3.363281 -4.183594 C 4.355469 -4.300781 5.085938 -4.441406 5.558594 -4.609375 C 5.558594 -4.773438 5.558594 -4.878906 5.5625 -4.929688 C 5.558594 -5.425781 5.445313 -5.78125 5.214844 -5.988281 C 4.898438 -6.265625 4.429688 -6.402344 3.8125 -6.40625 C 3.230469 -6.402344 2.804688 -6.300781 2.53125 -6.101563 C 2.253906 -5.894531 2.050781 -5.535156 1.921875 -5.023438 L 0.71875 -5.1875 C 0.824219 -5.699219 1.003906 -6.117188 1.257813 -6.433594 C 1.503906 -6.75 1.867188 -6.992188 2.34375 -7.164063 C 2.816406 -7.332031 3.363281 -7.417969 3.992188 -7.421875 C 4.609375 -7.417969 5.113281 -7.34375 5.503906 -7.203125 C 5.886719 -7.054688 6.171875 -6.871094 6.359375 -6.652344 C 6.539063 -6.429688 6.667969 -6.152344 6.742188 -5.816406 C 6.777344 -5.605469 6.796875 -5.226563 6.800781 -4.683594 L 6.800781 -3.042969 C 6.796875 -1.894531 6.824219 -1.171875 6.878906 -0.871094 C 6.933594 -0.566406 7.035156 -0.277344 7.191406 0 L 5.90625 0 C 5.777344 -0.253906 5.695313 -0.550781 5.660156 -0.894531 Z M 5.558594 -3.644531 C 5.109375 -3.460938 4.4375 -3.304688 3.546875 -3.179688 C 3.039063 -3.105469 2.683594 -3.023438 2.472656 -2.933594 C 2.261719 -2.839844 2.097656 -2.707031 1.988281 -2.53125 C 1.871094 -2.355469 1.816406 -2.160156 1.820313 -1.949219 C 1.816406 -1.617188 1.941406 -1.34375 2.191406 -1.128906 C 2.4375 -0.90625 2.800781 -0.796875 3.28125 -0.800781 C 3.753906 -0.796875 4.175781 -0.898438 4.546875 -1.109375 C 4.914063 -1.3125 5.183594 -1.597656 5.359375 -1.960938 C 5.488281 -2.238281 5.554688 -2.648438 5.558594 -3.191406 Z M 5.558594 -3.644531 \"/>\n",
       "</symbol>\n",
       "<symbol overflow=\"visible\" id=\"glyph0-13\">\n",
       "<path style=\"stroke:none;\" d=\"M 1.078125 0 L 1.078125 -10.023438 L 4.859375 -10.023438 C 5.523438 -10.019531 6.03125 -9.988281 6.382813 -9.925781 C 6.875 -9.84375 7.289063 -9.6875 7.621094 -9.457031 C 7.953125 -9.226563 8.222656 -8.902344 8.425781 -8.488281 C 8.628906 -8.070313 8.730469 -7.617188 8.730469 -7.125 C 8.730469 -6.269531 8.457031 -5.546875 7.914063 -4.957031 C 7.371094 -4.367188 6.390625 -4.070313 4.976563 -4.074219 L 2.40625 -4.074219 L 2.40625 0 Z M 2.40625 -5.257813 L 4.996094 -5.257813 C 5.851563 -5.253906 6.460938 -5.414063 6.820313 -5.734375 C 7.179688 -6.050781 7.359375 -6.5 7.363281 -7.082031 C 7.359375 -7.5 7.253906 -7.859375 7.042969 -8.15625 C 6.832031 -8.453125 6.550781 -8.648438 6.207031 -8.75 C 5.980469 -8.804688 5.570313 -8.835938 4.96875 -8.839844 L 2.40625 -8.839844 Z M 2.40625 -5.257813 \"/>\n",
       "</symbol>\n",
       "<symbol overflow=\"visible\" id=\"glyph0-14\">\n",
       "<path style=\"stroke:none;\" d=\"M 0.894531 0 L 0.894531 -10.023438 L 2.125 -10.023438 L 2.125 0 Z M 0.894531 0 \"/>\n",
       "</symbol>\n",
       "<symbol overflow=\"visible\" id=\"glyph0-15\">\n",
       "<path style=\"stroke:none;\" d=\"M 0.929688 -8.605469 L 0.929688 -10.023438 L 2.160156 -10.023438 L 2.160156 -8.605469 Z M 0.929688 0 L 0.929688 -7.257813 L 2.160156 -7.257813 L 2.160156 0 Z M 0.929688 0 \"/>\n",
       "</symbol>\n",
       "<symbol overflow=\"visible\" id=\"glyph0-16\">\n",
       "<path style=\"stroke:none;\" d=\"M 3.609375 -1.101563 L 3.789063 -0.015625 C 3.4375 0.0585938 3.128906 0.09375 2.859375 0.09375 C 2.410156 0.09375 2.0625 0.0234375 1.816406 -0.117188 C 1.570313 -0.257813 1.394531 -0.441406 1.296875 -0.671875 C 1.195313 -0.902344 1.148438 -1.386719 1.148438 -2.125 L 1.148438 -6.304688 L 0.246094 -6.304688 L 0.246094 -7.257813 L 1.148438 -7.257813 L 1.148438 -9.058594 L 2.371094 -9.796875 L 2.371094 -7.257813 L 3.609375 -7.257813 L 3.609375 -6.304688 L 2.371094 -6.304688 L 2.371094 -2.058594 C 2.367188 -1.703125 2.386719 -1.476563 2.433594 -1.378906 C 2.472656 -1.277344 2.546875 -1.199219 2.648438 -1.140625 C 2.746094 -1.082031 2.886719 -1.054688 3.070313 -1.054688 C 3.203125 -1.054688 3.382813 -1.070313 3.609375 -1.101563 Z M 3.609375 -1.101563 \"/>\n",
       "</symbol>\n",
       "<symbol overflow=\"visible\" id=\"glyph0-17\">\n",
       "<path style=\"stroke:none;\" d=\"M 5.660156 -2.660156 L 6.871094 -2.5 C 6.734375 -1.664063 6.394531 -1.011719 5.855469 -0.542969 C 5.308594 -0.0703125 4.640625 0.164063 3.847656 0.164063 C 2.851563 0.164063 2.054688 -0.160156 1.453125 -0.808594 C 0.847656 -1.457031 0.542969 -2.386719 0.546875 -3.601563 C 0.542969 -4.382813 0.675781 -5.070313 0.9375 -5.660156 C 1.195313 -6.246094 1.589844 -6.683594 2.121094 -6.980469 C 2.652344 -7.269531 3.230469 -7.417969 3.855469 -7.421875 C 4.644531 -7.417969 5.289063 -7.21875 5.789063 -6.824219 C 6.289063 -6.421875 6.609375 -5.855469 6.753906 -5.125 L 5.558594 -4.941406 C 5.441406 -5.425781 5.238281 -5.792969 4.953125 -6.042969 C 4.660156 -6.285156 4.3125 -6.410156 3.902344 -6.414063 C 3.28125 -6.410156 2.777344 -6.1875 2.390625 -5.746094 C 2.003906 -5.296875 1.808594 -4.59375 1.8125 -3.636719 C 1.808594 -2.65625 1.996094 -1.945313 2.371094 -1.507813 C 2.742188 -1.0625 3.230469 -0.84375 3.835938 -0.847656 C 4.316406 -0.84375 4.71875 -0.992188 5.042969 -1.289063 C 5.367188 -1.585938 5.574219 -2.042969 5.660156 -2.660156 Z M 5.660156 -2.660156 \"/>\n",
       "</symbol>\n",
       "<symbol overflow=\"visible\" id=\"glyph0-18\">\n",
       "<path style=\"stroke:none;\" d=\"M 1.078125 0 L 1.078125 -10.023438 L 4.53125 -10.023438 C 5.308594 -10.019531 5.90625 -9.972656 6.316406 -9.878906 C 6.890625 -9.746094 7.378906 -9.503906 7.785156 -9.160156 C 8.3125 -8.710938 8.707031 -8.140625 8.972656 -7.449219 C 9.230469 -6.75 9.363281 -5.957031 9.367188 -5.066406 C 9.363281 -4.300781 9.273438 -3.625 9.097656 -3.039063 C 8.917969 -2.449219 8.691406 -1.964844 8.414063 -1.582031 C 8.136719 -1.195313 7.832031 -0.890625 7.503906 -0.671875 C 7.171875 -0.449219 6.773438 -0.28125 6.304688 -0.171875 C 5.835938 -0.0546875 5.296875 0 4.695313 0 Z M 2.40625 -1.183594 L 4.546875 -1.183594 C 5.207031 -1.183594 5.722656 -1.242188 6.101563 -1.367188 C 6.472656 -1.484375 6.773438 -1.660156 7 -1.886719 C 7.3125 -2.199219 7.558594 -2.621094 7.734375 -3.15625 C 7.910156 -3.683594 7.996094 -4.328125 8 -5.085938 C 7.996094 -6.132813 7.824219 -6.9375 7.480469 -7.5 C 7.132813 -8.0625 6.714844 -8.4375 6.226563 -8.632813 C 5.871094 -8.765625 5.300781 -8.835938 4.511719 -8.839844 L 2.40625 -8.839844 Z M 2.40625 -1.183594 \"/>\n",
       "</symbol>\n",
       "<symbol overflow=\"visible\" id=\"glyph0-19\">\n",
       "<path style=\"stroke:none;\" d=\"M 0.429688 -2.167969 L 1.648438 -2.359375 C 1.710938 -1.867188 1.902344 -1.492188 2.21875 -1.234375 C 2.527344 -0.972656 2.964844 -0.84375 3.527344 -0.847656 C 4.089844 -0.84375 4.507813 -0.957031 4.785156 -1.191406 C 5.054688 -1.417969 5.191406 -1.691406 5.195313 -2.003906 C 5.191406 -2.28125 5.070313 -2.5 4.832031 -2.660156 C 4.660156 -2.769531 4.242188 -2.90625 3.574219 -3.078125 C 2.671875 -3.300781 2.046875 -3.5 1.699219 -3.667969 C 1.347656 -3.832031 1.082031 -4.058594 0.90625 -4.355469 C 0.722656 -4.644531 0.632813 -4.972656 0.636719 -5.332031 C 0.632813 -5.652344 0.707031 -5.949219 0.855469 -6.230469 C 1.003906 -6.503906 1.203125 -6.734375 1.460938 -6.917969 C 1.648438 -7.054688 1.910156 -7.171875 2.246094 -7.273438 C 2.574219 -7.367188 2.929688 -7.417969 3.308594 -7.421875 C 3.875 -7.417969 4.375 -7.335938 4.808594 -7.175781 C 5.234375 -7.007813 5.550781 -6.785156 5.761719 -6.507813 C 5.964844 -6.226563 6.109375 -5.851563 6.1875 -5.386719 L 4.984375 -5.222656 C 4.925781 -5.589844 4.765625 -5.882813 4.507813 -6.097656 C 4.242188 -6.304688 3.875 -6.410156 3.398438 -6.414063 C 2.832031 -6.410156 2.425781 -6.316406 2.1875 -6.132813 C 1.941406 -5.941406 1.820313 -5.722656 1.824219 -5.476563 C 1.820313 -5.3125 1.871094 -5.167969 1.976563 -5.046875 C 2.070313 -4.910156 2.226563 -4.800781 2.445313 -4.71875 C 2.566406 -4.667969 2.929688 -4.5625 3.535156 -4.402344 C 4.402344 -4.167969 5.011719 -3.980469 5.355469 -3.832031 C 5.699219 -3.683594 5.96875 -3.464844 6.164063 -3.183594 C 6.359375 -2.898438 6.457031 -2.550781 6.460938 -2.132813 C 6.457031 -1.71875 6.335938 -1.332031 6.101563 -0.972656 C 5.859375 -0.609375 5.515625 -0.328125 5.066406 -0.132813 C 4.613281 0.0664063 4.101563 0.164063 3.535156 0.164063 C 2.585938 0.164063 1.867188 -0.03125 1.375 -0.421875 C 0.878906 -0.8125 0.5625 -1.394531 0.429688 -2.167969 Z M 0.429688 -2.167969 \"/>\n",
       "</symbol>\n",
       "<symbol overflow=\"visible\" id=\"glyph0-20\">\n",
       "<path style=\"stroke:none;\" d=\"M 5.632813 0 L 5.632813 -0.914063 C 5.167969 -0.195313 4.492188 0.164063 3.601563 0.164063 C 3.019531 0.164063 2.488281 0.0078125 2.003906 -0.3125 C 1.519531 -0.628906 1.140625 -1.074219 0.875 -1.648438 C 0.605469 -2.21875 0.472656 -2.878906 0.476563 -3.625 C 0.472656 -4.347656 0.59375 -5.003906 0.839844 -5.59375 C 1.078125 -6.183594 1.441406 -6.636719 1.925781 -6.949219 C 2.40625 -7.261719 2.945313 -7.417969 3.546875 -7.421875 C 3.980469 -7.417969 4.371094 -7.324219 4.714844 -7.144531 C 5.054688 -6.957031 5.332031 -6.71875 5.550781 -6.425781 L 5.550781 -10.023438 L 6.773438 -10.023438 L 6.773438 0 Z M 1.742188 -3.625 C 1.738281 -2.691406 1.933594 -1.996094 2.328125 -1.535156 C 2.71875 -1.074219 3.183594 -0.84375 3.71875 -0.847656 C 4.253906 -0.84375 4.710938 -1.0625 5.085938 -1.507813 C 5.460938 -1.945313 5.648438 -2.617188 5.652344 -3.519531 C 5.648438 -4.511719 5.457031 -5.242188 5.078125 -5.707031 C 4.691406 -6.171875 4.21875 -6.402344 3.664063 -6.40625 C 3.113281 -6.402344 2.65625 -6.179688 2.292969 -5.734375 C 1.921875 -5.285156 1.738281 -4.582031 1.742188 -3.625 Z M 1.742188 -3.625 \"/>\n",
       "</symbol>\n",
       "<symbol overflow=\"visible\" id=\"glyph0-21\">\n",
       "<path style=\"stroke:none;\" d=\"M 5.890625 -2.335938 L 7.164063 -2.179688 C 6.960938 -1.4375 6.589844 -0.859375 6.046875 -0.449219 C 5.503906 -0.0390625 4.8125 0.164063 3.972656 0.164063 C 2.910156 0.164063 2.066406 -0.160156 1.445313 -0.816406 C 0.820313 -1.464844 0.507813 -2.382813 0.511719 -3.570313 C 0.507813 -4.785156 0.824219 -5.734375 1.453125 -6.410156 C 2.082031 -7.082031 2.898438 -7.417969 3.902344 -7.421875 C 4.871094 -7.417969 5.664063 -7.085938 6.28125 -6.429688 C 6.894531 -5.765625 7.199219 -4.839844 7.203125 -3.644531 C 7.199219 -3.570313 7.199219 -3.460938 7.199219 -3.316406 L 1.785156 -3.316406 C 1.828125 -2.515625 2.054688 -1.902344 2.460938 -1.480469 C 2.867188 -1.054688 3.371094 -0.84375 3.976563 -0.847656 C 4.425781 -0.84375 4.8125 -0.960938 5.132813 -1.203125 C 5.453125 -1.4375 5.703125 -1.816406 5.890625 -2.335938 Z M 1.851563 -4.328125 L 5.90625 -4.328125 C 5.851563 -4.933594 5.695313 -5.390625 5.441406 -5.703125 C 5.046875 -6.171875 4.539063 -6.410156 3.917969 -6.414063 C 3.351563 -6.410156 2.875 -6.21875 2.492188 -5.84375 C 2.101563 -5.460938 1.890625 -4.957031 1.851563 -4.328125 Z M 1.851563 -4.328125 \"/>\n",
       "</symbol>\n",
       "<symbol overflow=\"visible\" id=\"glyph0-22\">\n",
       "<path style=\"stroke:none;\" d=\"M 1.148438 0 L 1.148438 -10.023438 L 7.910156 -10.023438 L 7.910156 -8.839844 L 2.476563 -8.839844 L 2.476563 -5.734375 L 7.179688 -5.734375 L 7.179688 -4.554688 L 2.476563 -4.554688 L 2.476563 0 Z M 1.148438 0 \"/>\n",
       "</symbol>\n",
       "<symbol overflow=\"visible\" id=\"glyph0-23\">\n",
       "<path style=\"stroke:none;\" d=\"M -0.210938 2.78125 L -0.210938 1.894531 L 7.945313 1.894531 L 7.945313 2.78125 Z M -0.210938 2.78125 \"/>\n",
       "</symbol>\n",
       "<symbol overflow=\"visible\" id=\"glyph0-24\">\n",
       "<path style=\"stroke:none;\" d=\"M 0.867188 2.796875 L 0.730469 1.640625 C 0.996094 1.710938 1.230469 1.746094 1.4375 1.75 C 1.703125 1.746094 1.921875 1.699219 2.089844 1.613281 C 2.25 1.519531 2.386719 1.394531 2.496094 1.230469 C 2.570313 1.105469 2.695313 0.796875 2.871094 0.3125 C 2.894531 0.242188 2.929688 0.144531 2.980469 0.015625 L 0.226563 -7.257813 L 1.550781 -7.257813 L 3.0625 -3.054688 C 3.253906 -2.519531 3.429688 -1.960938 3.589844 -1.375 C 3.726563 -1.9375 3.894531 -2.488281 4.09375 -3.027344 L 5.648438 -7.257813 L 6.875 -7.257813 L 4.117188 0.125 C 3.816406 0.917969 3.585938 1.46875 3.425781 1.769531 C 3.203125 2.175781 2.953125 2.472656 2.671875 2.660156 C 2.390625 2.847656 2.050781 2.941406 1.660156 2.945313 C 1.417969 2.941406 1.15625 2.890625 0.867188 2.796875 Z M 0.867188 2.796875 \"/>\n",
       "</symbol>\n",
       "<symbol overflow=\"visible\" id=\"glyph0-25\">\n",
       "<path style=\"stroke:none;\" d=\"M 0.929688 0 L 0.929688 -10.023438 L 2.160156 -10.023438 L 2.160156 -4.304688 L 5.070313 -7.257813 L 6.664063 -7.257813 L 3.890625 -4.566406 L 6.945313 0 L 5.429688 0 L 3.027344 -3.710938 L 2.160156 -2.878906 L 2.160156 0 Z M 0.929688 0 \"/>\n",
       "</symbol>\n",
       "</g>\n",
       "</defs>\n",
       "<g id=\"surface56\">\n",
       "<rect x=\"0\" y=\"0\" width=\"600\" height=\"600\" style=\"fill:rgb(100%,100%,100%);fill-opacity:1;stroke:none;\"/>\n",
       "<path style=\"fill:none;stroke-width:0.495208;stroke-linecap:butt;stroke-linejoin:miter;stroke:rgb(26.666667%,26.666667%,26.666667%);stroke-opacity:1;stroke-miterlimit:10;\" d=\"M 324.953125 20 C 341.882813 163.0625 420.863281 250.238281 563.46875 270.296875 \"/>\n",
       "<path style=\" stroke:none;fill-rule:nonzero;fill:rgb(26.666667%,26.666667%,26.666667%);fill-opacity:1;\" d=\"M 577.597656 272.285156 L 562.824219 274.886719 L 564.113281 265.707031 L 577.597656 272.285156 \"/>\n",
       "<path style=\"fill:none;stroke-width:1.357827;stroke-linecap:butt;stroke-linejoin:miter;stroke:rgb(26.666667%,26.666667%,26.666667%);stroke-opacity:1;stroke-miterlimit:10;\" d=\"M 324.953125 20 C 259.328125 188.464844 295.53125 331.429688 441.542969 437.957031 \"/>\n",
       "<path style=\" stroke:none;fill-rule:nonzero;fill:rgb(26.666667%,26.666667%,26.666667%);fill-opacity:1;\" d=\"M 453.066406 446.363281 L 438.8125 441.699219 L 444.273438 434.210938 L 453.066406 446.363281 \"/>\n",
       "<path style=\"fill:none;stroke-width:2.268371;stroke-linecap:butt;stroke-linejoin:miter;stroke:rgb(26.666667%,26.666667%,26.666667%);stroke-opacity:1;stroke-miterlimit:10;\" d=\"M 324.953125 20 C 228.339844 69.558594 184.65625 149.050781 210.816406 254.273438 \"/>\n",
       "<path style=\" stroke:none;fill-rule:nonzero;fill:rgb(26.666667%,26.666667%,26.666667%);fill-opacity:1;\" d=\"M 214.257813 268.117188 L 206.316406 255.390625 L 215.316406 253.15625 L 214.257813 268.117188 \"/>\n",
       "<path style=\"fill:none;stroke-width:0.86262;stroke-linecap:butt;stroke-linejoin:miter;stroke:rgb(26.666667%,26.666667%,26.666667%);stroke-opacity:1;stroke-miterlimit:10;\" d=\"M 324.953125 20 C 157.4375 176.917969 121.960938 359.652344 229.285156 562.507813 \"/>\n",
       "<path style=\" stroke:none;fill-rule:nonzero;fill:rgb(26.666667%,26.666667%,26.666667%);fill-opacity:1;\" d=\"M 235.957031 575.117188 L 225.1875 564.675781 L 233.382813 560.339844 L 235.957031 575.117188 \"/>\n",
       "<path style=\"fill:none;stroke-width:0.878594;stroke-linecap:butt;stroke-linejoin:miter;stroke:rgb(26.666667%,26.666667%,26.666667%);stroke-opacity:1;stroke-miterlimit:10;\" d=\"M 324.953125 20 C 391.101563 75.101563 462.078125 81.589844 531.300781 30.539063 \"/>\n",
       "<path style=\" stroke:none;fill-rule:nonzero;fill:rgb(26.666667%,26.666667%,26.666667%);fill-opacity:1;\" d=\"M 542.785156 22.070313 L 534.054688 34.269531 L 528.550781 26.808594 L 542.785156 22.070313 \"/>\n",
       "<path style=\"fill:none;stroke-width:3.769968;stroke-linecap:butt;stroke-linejoin:miter;stroke:rgb(26.666667%,26.666667%,26.666667%);stroke-opacity:1;stroke-miterlimit:10;\" d=\"M 324.953125 20 C 281.625 82.605469 279.09375 148.1875 331.921875 202.59375 \"/>\n",
       "<path style=\" stroke:none;fill-rule:nonzero;fill:rgb(26.666667%,26.666667%,26.666667%);fill-opacity:1;\" d=\"M 341.859375 212.828125 L 328.597656 205.824219 L 335.246094 199.367188 L 341.859375 212.828125 \"/>\n",
       "<path style=\"fill:none;stroke-width:0.159744;stroke-linecap:butt;stroke-linejoin:miter;stroke:rgb(26.666667%,26.666667%,26.666667%);stroke-opacity:1;stroke-miterlimit:10;\" d=\"M 324.953125 20 C 211.082031 -32.707031 109.996094 -14.167969 30.417969 82.773438 \"/>\n",
       "<path style=\" stroke:none;fill-rule:nonzero;fill:rgb(26.666667%,26.666667%,26.666667%);fill-opacity:1;\" d=\"M 21.367188 93.800781 L 26.835938 79.835938 L 34 85.714844 L 21.367188 93.800781 \"/>\n",
       "<path style=\"fill:none;stroke-width:1.106472;stroke-linecap:butt;stroke-linejoin:miter;stroke:rgb(26.666667%,26.666667%,26.666667%);stroke-opacity:1;stroke-miterlimit:10;\" d=\"M 580 272.621094 C 563.285156 129.78125 484.5625 42.578125 342.21875 22.441406 \"/>\n",
       "<path style=\" stroke:none;fill-rule:nonzero;fill:rgb(26.666667%,26.666667%,26.666667%);fill-opacity:1;\" d=\"M 328.09375 20.445313 L 342.867188 17.851563 L 341.566406 27.03125 L 328.09375 20.445313 \"/>\n",
       "<path style=\"fill:none;stroke-width:1.607516;stroke-linecap:butt;stroke-linejoin:miter;stroke:rgb(26.666667%,26.666667%,26.666667%);stroke-opacity:1;stroke-miterlimit:10;\" d=\"M 580 272.621094 C 501.4375 294.515625 457.191406 346.429688 460.683594 427.785156 \"/>\n",
       "<path style=\" stroke:none;fill-rule:nonzero;fill:rgb(26.666667%,26.666667%,26.666667%);fill-opacity:1;\" d=\"M 461.296875 442.039063 L 456.054688 427.984375 L 465.316406 427.589844 L 461.296875 442.039063 \"/>\n",
       "<path style=\"fill:none;stroke-width:1.127349;stroke-linecap:butt;stroke-linejoin:miter;stroke:rgb(26.666667%,26.666667%,26.666667%);stroke-opacity:1;stroke-miterlimit:10;\" d=\"M 580 272.621094 C 472.257813 189.777344 359.875 183.886719 253.839844 268.703125 \"/>\n",
       "<path style=\" stroke:none;fill-rule:nonzero;fill:rgb(26.666667%,26.666667%,26.666667%);fill-opacity:1;\" d=\"M 242.699219 277.617188 L 250.945313 265.085938 L 256.734375 272.324219 L 242.699219 277.617188 \"/>\n",
       "<path style=\"fill:none;stroke-width:0.521921;stroke-linecap:butt;stroke-linejoin:miter;stroke:rgb(26.666667%,26.666667%,26.666667%);stroke-opacity:1;stroke-miterlimit:10;\" d=\"M 580 272.621094 C 395.488281 284.230469 278.996094 379.421875 242.453125 560.605469 \"/>\n",
       "<path style=\" stroke:none;fill-rule:nonzero;fill:rgb(26.666667%,26.666667%,26.666667%);fill-opacity:1;\" d=\"M 239.632813 574.589844 L 237.910156 559.6875 L 246.996094 561.519531 L 239.632813 574.589844 \"/>\n",
       "<path style=\"fill:none;stroke-width:0.814196;stroke-linecap:butt;stroke-linejoin:miter;stroke:rgb(26.666667%,26.666667%,26.666667%);stroke-opacity:1;stroke-miterlimit:10;\" d=\"M 580 272.621094 C 631.753906 186.292969 626.054688 103.589844 555.050781 32.34375 \"/>\n",
       "<path style=\" stroke:none;fill-rule:nonzero;fill:rgb(26.666667%,26.666667%,26.666667%);fill-opacity:1;\" d=\"M 544.980469 22.238281 L 558.335938 29.070313 L 551.769531 35.617188 L 544.980469 22.238281 \"/>\n",
       "<path style=\"fill:none;stroke-width:4.843424;stroke-linecap:butt;stroke-linejoin:miter;stroke:rgb(26.666667%,26.666667%,26.666667%);stroke-opacity:1;stroke-miterlimit:10;\" d=\"M 580 272.621094 C 542.230469 217.621094 488.964844 194.476563 428.289063 221.410156 \"/>\n",
       "<path style=\" stroke:none;fill-rule:nonzero;fill:rgb(26.666667%,26.666667%,26.666667%);fill-opacity:1;\" d=\"M 415.25 227.195313 L 426.40625 217.171875 L 430.167969 225.644531 L 415.25 227.195313 \"/>\n",
       "<path style=\"fill:none;stroke-width:0.146138;stroke-linecap:butt;stroke-linejoin:miter;stroke:rgb(26.666667%,26.666667%,26.666667%);stroke-opacity:1;stroke-miterlimit:10;\" d=\"M 580 272.621094 C 444.144531 75.644531 261.40625 11.238281 35.503906 90.058594 \"/>\n",
       "<path style=\" stroke:none;fill-rule:nonzero;fill:rgb(26.666667%,26.666667%,26.666667%);fill-opacity:1;\" d=\"M 22.035156 94.757813 L 33.976563 85.679688 L 37.03125 94.433594 L 22.035156 94.757813 \"/>\n",
       "<path style=\"fill:none;stroke-width:0.454972;stroke-linecap:butt;stroke-linejoin:miter;stroke:rgb(26.666667%,26.666667%,26.666667%);stroke-opacity:1;stroke-miterlimit:10;\" d=\"M 461.753906 452.703125 C 526.5 281.199219 487.867188 137.238281 339.105469 30.1875 \"/>\n",
       "<path style=\" stroke:none;fill-rule:nonzero;fill:rgb(26.666667%,26.666667%,26.666667%);fill-opacity:1;\" d=\"M 327.527344 21.851563 L 341.8125 26.421875 L 336.398438 33.949219 L 327.527344 21.851563 \"/>\n",
       "<path style=\"fill:none;stroke-width:0.375235;stroke-linecap:butt;stroke-linejoin:miter;stroke:rgb(26.666667%,26.666667%,26.666667%);stroke-opacity:1;stroke-miterlimit:10;\" d=\"M 461.753906 452.703125 C 542.347656 428.03125 585.863281 373.339844 580.96875 289.285156 \"/>\n",
       "<path style=\" stroke:none;fill-rule:nonzero;fill:rgb(26.666667%,26.666667%,26.666667%);fill-opacity:1;\" d=\"M 580.140625 275.042969 L 585.597656 289.015625 L 576.34375 289.554688 L 580.140625 275.042969 \"/>\n",
       "<path style=\"fill:none;stroke-width:1.5197;stroke-linecap:butt;stroke-linejoin:miter;stroke:rgb(26.666667%,26.666667%,26.666667%);stroke-opacity:1;stroke-miterlimit:10;\" d=\"M 461.753906 452.703125 C 435.148438 350.082031 368.722656 291.375 262.902344 293.984375 \"/>\n",
       "<path style=\" stroke:none;fill-rule:nonzero;fill:rgb(26.666667%,26.666667%,26.666667%);fill-opacity:1;\" d=\"M 248.640625 294.335938 L 262.789063 289.347656 L 263.015625 298.617188 L 248.640625 294.335938 \"/>\n",
       "<path style=\"fill:none;stroke-width:0.478424;stroke-linecap:butt;stroke-linejoin:miter;stroke:rgb(26.666667%,26.666667%,26.666667%);stroke-opacity:1;stroke-miterlimit:10;\" d=\"M 461.753906 452.703125 C 362.714844 435.308594 287.277344 470.074219 246.554688 561.925781 \"/>\n",
       "<path style=\" stroke:none;fill-rule:nonzero;fill:rgb(26.666667%,26.666667%,26.666667%);fill-opacity:1;\" d=\"M 240.773438 574.964844 L 242.316406 560.046875 L 250.792969 563.804688 L 240.773438 574.964844 \"/>\n",
       "<path style=\"fill:none;stroke-width:0.530019;stroke-linecap:butt;stroke-linejoin:miter;stroke:rgb(26.666667%,26.666667%,26.666667%);stroke-opacity:1;stroke-miterlimit:10;\" d=\"M 461.753906 452.703125 C 595.792969 335.855469 628.8125 195.113281 550.847656 35.339844 \"/>\n",
       "<path style=\" stroke:none;fill-rule:nonzero;fill:rgb(26.666667%,26.666667%,26.666667%);fill-opacity:1;\" d=\"M 544.59375 22.515625 L 555.015625 33.304688 L 546.683594 37.371094 L 544.59375 22.515625 \"/>\n",
       "<path style=\"fill:none;stroke-width:3.424015;stroke-linecap:butt;stroke-linejoin:miter;stroke:rgb(26.666667%,26.666667%,26.666667%);stroke-opacity:1;stroke-miterlimit:10;\" d=\"M 461.753906 452.703125 C 491.886719 385.417969 482.753906 322.378906 422.71875 280.125 \"/>\n",
       "<path style=\" stroke:none;fill-rule:nonzero;fill:rgb(26.666667%,26.666667%,26.666667%);fill-opacity:1;\" d=\"M 411.050781 271.914063 L 425.386719 276.332031 L 420.050781 283.914063 L 411.050781 271.914063 \"/>\n",
       "<path style=\"fill:none;stroke-width:0.032833;stroke-linecap:butt;stroke-linejoin:miter;stroke:rgb(26.666667%,26.666667%,26.666667%);stroke-opacity:1;stroke-miterlimit:10;\" d=\"M 461.753906 452.703125 C 409.125 227.496094 267.488281 104.867188 36.410156 96.089844 \"/>\n",
       "<path style=\" stroke:none;fill-rule:nonzero;fill:rgb(26.666667%,26.666667%,26.666667%);fill-opacity:1;\" d=\"M 22.152344 95.546875 L 36.585938 91.457031 L 36.234375 100.722656 L 22.152344 95.546875 \"/>\n",
       "<path style=\"fill:none;stroke-width:0.545357;stroke-linecap:butt;stroke-linejoin:miter;stroke:rgb(26.666667%,26.666667%,26.666667%);stroke-opacity:1;stroke-miterlimit:10;\" d=\"M 220.945313 295.015625 C 321.769531 236.128906 361.734375 148.992188 329.734375 36.765625 \"/>\n",
       "<path style=\" stroke:none;fill-rule:nonzero;fill:rgb(26.666667%,26.666667%,26.666667%);fill-opacity:1;\" d=\"M 325.820313 23.046875 L 334.191406 35.496094 L 325.277344 38.039063 L 325.820313 23.046875 \"/>\n",
       "<path style=\"fill:none;stroke-width:0.240599;stroke-linecap:butt;stroke-linejoin:miter;stroke:rgb(26.666667%,26.666667%,26.666667%);stroke-opacity:1;stroke-miterlimit:10;\" d=\"M 220.945313 295.015625 C 339.285156 377.730469 457.171875 376.75 567.265625 283.417969 \"/>\n",
       "<path style=\" stroke:none;fill-rule:nonzero;fill:rgb(26.666667%,26.666667%,26.666667%);fill-opacity:1;\" d=\"M 578.148438 274.191406 L 570.265625 286.953125 L 564.269531 279.878906 L 578.148438 274.191406 \"/>\n",
       "<path style=\"fill:none;stroke-width:1.067546;stroke-linecap:butt;stroke-linejoin:miter;stroke:rgb(26.666667%,26.666667%,26.666667%);stroke-opacity:1;stroke-miterlimit:10;\" d=\"M 220.945313 295.015625 C 253.171875 401.953125 325.347656 459.410156 436.808594 453.929688 \"/>\n",
       "<path style=\" stroke:none;fill-rule:nonzero;fill:rgb(26.666667%,26.666667%,26.666667%);fill-opacity:1;\" d=\"M 451.058594 453.226563 L 437.035156 458.558594 L 436.582031 449.300781 L 451.058594 453.226563 \"/>\n",
       "<path style=\"fill:none;stroke-width:0.673677;stroke-linecap:butt;stroke-linejoin:miter;stroke:rgb(26.666667%,26.666667%,26.666667%);stroke-opacity:1;stroke-miterlimit:10;\" d=\"M 220.945313 295.015625 C 155.121094 386.183594 153.644531 478.730469 225.835938 564.84375 \"/>\n",
       "<path style=\" stroke:none;fill-rule:nonzero;fill:rgb(26.666667%,26.666667%,26.666667%);fill-opacity:1;\" d=\"M 235 575.777344 L 222.285156 567.824219 L 229.390625 561.867188 L 235 575.777344 \"/>\n",
       "<path style=\"fill:none;stroke-width:0.306541;stroke-linecap:butt;stroke-linejoin:miter;stroke:rgb(26.666667%,26.666667%,26.666667%);stroke-opacity:1;stroke-miterlimit:10;\" d=\"M 220.945313 295.015625 C 392.066406 288.730469 502.167969 203.394531 540.441406 36.53125 \"/>\n",
       "<path style=\" stroke:none;fill-rule:nonzero;fill:rgb(26.666667%,26.666667%,26.666667%);fill-opacity:1;\" d=\"M 543.628906 22.628906 L 544.957031 37.570313 L 535.921875 35.496094 L 543.628906 22.628906 \"/>\n",
       "<path style=\"fill:none;stroke-width:2.700053;stroke-linecap:butt;stroke-linejoin:miter;stroke:rgb(26.666667%,26.666667%,26.666667%);stroke-opacity:1;stroke-miterlimit:10;\" d=\"M 220.945313 295.015625 C 260.097656 321.292969 302.414063 323.566406 333.957031 289.085938 \"/>\n",
       "<path style=\" stroke:none;fill-rule:nonzero;fill:rgb(26.666667%,26.666667%,26.666667%);fill-opacity:1;\" d=\"M 343.585938 278.5625 L 337.378906 292.214844 L 330.539063 285.957031 L 343.585938 278.5625 \"/>\n",
       "<path style=\"fill:none;stroke-width:0.0641597;stroke-linecap:butt;stroke-linejoin:miter;stroke:rgb(26.666667%,26.666667%,26.666667%);stroke-opacity:1;stroke-miterlimit:10;\" d=\"M 220.945313 295.015625 C 208.691406 183.097656 147.65625 113.632813 36.253906 97.78125 \"/>\n",
       "<path style=\" stroke:none;fill-rule:nonzero;fill:rgb(26.666667%,26.666667%,26.666667%);fill-opacity:1;\" d=\"M 22.132813 95.769531 L 36.910156 93.191406 L 35.601563 102.367188 L 22.132813 95.769531 \"/>\n",
       "<path style=\"fill:none;stroke-width:0.384968;stroke-linecap:butt;stroke-linejoin:miter;stroke:rgb(26.666667%,26.666667%,26.666667%);stroke-opacity:1;stroke-miterlimit:10;\" d=\"M 238.542969 580 C 406.222656 422.117188 441.152344 238.777344 333.132813 35.402344 \"/>\n",
       "<path style=\" stroke:none;fill-rule:nonzero;fill:rgb(26.666667%,26.666667%,26.666667%);fill-opacity:1;\" d=\"M 326.441406 22.804688 L 337.226563 33.226563 L 329.039063 37.578125 L 326.441406 22.804688 \"/>\n",
       "<path style=\"fill:none;stroke-width:0.210816;stroke-linecap:butt;stroke-linejoin:miter;stroke:rgb(26.666667%,26.666667%,26.666667%);stroke-opacity:1;stroke-miterlimit:10;\" d=\"M 238.542969 580 C 424.027344 567.546875 540.472656 471.285156 576.742188 288.996094 \"/>\n",
       "<path style=\" stroke:none;fill-rule:nonzero;fill:rgb(26.666667%,26.666667%,26.666667%);fill-opacity:1;\" d=\"M 579.527344 275.003906 L 581.289063 289.898438 L 572.195313 288.089844 L 579.527344 275.003906 \"/>\n",
       "<path style=\"fill:none;stroke-width:0.788268;stroke-linecap:butt;stroke-linejoin:miter;stroke:rgb(26.666667%,26.666667%,26.666667%);stroke-opacity:1;stroke-miterlimit:10;\" d=\"M 238.542969 580 C 335.652344 598.375 410.710938 565.371094 451.453125 475.4375 \"/>\n",
       "<path style=\" stroke:none;fill-rule:nonzero;fill:rgb(26.666667%,26.666667%,26.666667%);fill-opacity:1;\" d=\"M 457.339844 462.445313 L 455.675781 477.351563 L 447.230469 473.527344 L 457.339844 462.445313 \"/>\n",
       "<path style=\"fill:none;stroke-width:1.52154;stroke-linecap:butt;stroke-linejoin:miter;stroke:rgb(26.666667%,26.666667%,26.666667%);stroke-opacity:1;stroke-miterlimit:10;\" d=\"M 238.542969 580 C 304.3125 498.085938 311.644531 410.511719 246.863281 328.019531 \"/>\n",
       "<path style=\" stroke:none;fill-rule:nonzero;fill:rgb(26.666667%,26.666667%,26.666667%);fill-opacity:1;\" d=\"M 238.050781 316.796875 L 250.507813 325.15625 L 243.21875 330.882813 L 238.050781 316.796875 \"/>\n",
       "<path style=\"fill:none;stroke-width:0.091659;stroke-linecap:butt;stroke-linejoin:miter;stroke:rgb(26.666667%,26.666667%,26.666667%);stroke-opacity:1;stroke-miterlimit:10;\" d=\"M 238.542969 580 C 476.898438 475.835938 583.105469 294.234375 546.1875 36.773438 \"/>\n",
       "<path style=\" stroke:none;fill-rule:nonzero;fill:rgb(26.666667%,26.666667%,26.666667%);fill-opacity:1;\" d=\"M 544.160156 22.648438 L 550.773438 36.113281 L 541.597656 37.429688 L 544.160156 22.648438 \"/>\n",
       "<path style=\"fill:none;stroke-width:2.447296;stroke-linecap:butt;stroke-linejoin:miter;stroke:rgb(26.666667%,26.666667%,26.666667%);stroke-opacity:1;stroke-miterlimit:10;\" d=\"M 238.542969 580 C 357.078125 524.164063 412.957031 430.078125 385.726563 302.097656 \"/>\n",
       "<path style=\" stroke:none;fill-rule:nonzero;fill:rgb(26.666667%,26.666667%,26.666667%);fill-opacity:1;\" d=\"M 382.757813 288.144531 L 390.261719 301.132813 L 381.191406 303.0625 L 382.757813 288.144531 \"/>\n",
       "<path style=\"fill:none;stroke-width:0.0824931;stroke-linecap:butt;stroke-linejoin:miter;stroke:rgb(26.666667%,26.666667%,26.666667%);stroke-opacity:1;stroke-miterlimit:10;\" d=\"M 238.542969 580 C 289.632813 370.09375 223.394531 207.941406 34.371094 103.414063 \"/>\n",
       "<path style=\" stroke:none;fill-rule:nonzero;fill:rgb(26.666667%,26.666667%,26.666667%);fill-opacity:1;\" d=\"M 21.886719 96.511719 L 36.613281 99.355469 L 32.128906 107.46875 L 21.886719 96.511719 \"/>\n",
       "<path style=\"fill:none;stroke-width:1.219512;stroke-linecap:butt;stroke-linejoin:miter;stroke:rgb(26.666667%,26.666667%,26.666667%);stroke-opacity:1;stroke-miterlimit:10;\" d=\"M 543.953125 21.207031 C 478.519531 -33.863281 407.929688 -40.804688 339.011719 9.695313 \"/>\n",
       "<path style=\" stroke:none;fill-rule:nonzero;fill:rgb(26.666667%,26.666667%,26.666667%);fill-opacity:1;\" d=\"M 327.507813 18.128906 L 336.273438 5.957031 L 341.753906 13.4375 L 327.507813 18.128906 \"/>\n",
       "<path style=\"fill:none;stroke-width:1.324042;stroke-linecap:butt;stroke-linejoin:miter;stroke:rgb(26.666667%,26.666667%,26.666667%);stroke-opacity:1;stroke-miterlimit:10;\" d=\"M 543.953125 21.207031 C 492.15625 107.136719 497.566406 189.660156 568.234375 260.78125 \"/>\n",
       "<path style=\" stroke:none;fill-rule:nonzero;fill:rgb(26.666667%,26.666667%,26.666667%);fill-opacity:1;\" d=\"M 578.289063 270.902344 L 564.945313 264.046875 L 571.523438 257.515625 L 578.289063 270.902344 \"/>\n",
       "<path style=\"fill:none;stroke-width:1.811847;stroke-linecap:butt;stroke-linejoin:miter;stroke:rgb(26.666667%,26.666667%,26.666667%);stroke-opacity:1;stroke-miterlimit:10;\" d=\"M 543.953125 21.207031 C 410.730469 134.269531 375.664063 272.519531 450.96875 430.128906 \"/>\n",
       "<path style=\" stroke:none;fill-rule:nonzero;fill:rgb(26.666667%,26.666667%,26.666667%);fill-opacity:1;\" d=\"M 457.121094 443 L 446.789063 432.128906 L 455.152344 428.132813 L 457.121094 443 \"/>\n",
       "<path style=\"fill:none;stroke-width:1.045296;stroke-linecap:butt;stroke-linejoin:miter;stroke:rgb(26.666667%,26.666667%,26.666667%);stroke-opacity:1;stroke-miterlimit:10;\" d=\"M 543.953125 21.207031 C 381.546875 20.710938 271.640625 96.882813 231.410156 254.117188 \"/>\n",
       "<path style=\" stroke:none;fill-rule:nonzero;fill:rgb(26.666667%,26.666667%,26.666667%);fill-opacity:1;\" d=\"M 227.875 267.9375 L 226.921875 252.96875 L 235.902344 255.265625 L 227.875 267.9375 \"/>\n",
       "<path style=\"fill:none;stroke-width:0.313589;stroke-linecap:butt;stroke-linejoin:miter;stroke:rgb(26.666667%,26.666667%,26.666667%);stroke-opacity:1;stroke-miterlimit:10;\" d=\"M 543.953125 21.207031 C 306.429688 123.894531 199.6875 304.191406 235.78125 560.402344 \"/>\n",
       "<path style=\" stroke:none;fill-rule:nonzero;fill:rgb(26.666667%,26.666667%,26.666667%);fill-opacity:1;\" d=\"M 237.769531 574.527344 L 231.191406 561.046875 L 240.371094 559.753906 L 237.769531 574.527344 \"/>\n",
       "<path style=\"fill:none;stroke-width:3.275261;stroke-linecap:butt;stroke-linejoin:miter;stroke:rgb(26.666667%,26.666667%,26.666667%);stroke-opacity:1;stroke-miterlimit:10;\" d=\"M 543.953125 21.207031 C 447.683594 34.488281 385.492188 88.679688 378.238281 185.339844 \"/>\n",
       "<path style=\" stroke:none;fill-rule:nonzero;fill:rgb(26.666667%,26.666667%,26.666667%);fill-opacity:1;\" d=\"M 377.167969 199.566406 L 373.613281 184.992188 L 382.859375 185.6875 L 377.167969 199.566406 \"/>\n",
       "<path style=\"fill:none;stroke-width:0.0348432;stroke-linecap:butt;stroke-linejoin:miter;stroke:rgb(26.666667%,26.666667%,26.666667%);stroke-opacity:1;stroke-miterlimit:10;\" d=\"M 543.953125 21.207031 C 357.515625 -85.976563 184.09375 -67.75 31.644531 83.886719 \"/>\n",
       "<path style=\" stroke:none;fill-rule:nonzero;fill:rgb(26.666667%,26.666667%,26.666667%);fill-opacity:1;\" d=\"M 21.527344 93.945313 L 28.375 80.601563 L 34.910156 87.171875 L 21.527344 93.945313 \"/>\n",
       "<path style=\"fill:none;stroke-width:0.733055;stroke-linecap:butt;stroke-linejoin:miter;stroke:rgb(26.666667%,26.666667%,26.666667%);stroke-opacity:1;stroke-miterlimit:10;\" d=\"M 373.714844 245.636719 C 415.363281 165.339844 406.015625 91.066406 338.0625 31.492188 \"/>\n",
       "<path style=\" stroke:none;fill-rule:nonzero;fill:rgb(26.666667%,26.666667%,26.666667%);fill-opacity:1;\" d=\"M 327.332031 22.085938 L 341.117188 28.007813 L 335.003906 34.976563 L 327.332031 22.085938 \"/>\n",
       "<path style=\"fill:none;stroke-width:0.6496;stroke-linecap:butt;stroke-linejoin:miter;stroke:rgb(26.666667%,26.666667%,26.666667%);stroke-opacity:1;stroke-miterlimit:10;\" d=\"M 373.714844 245.636719 C 428.835938 305.269531 494.585938 320.277344 565.425781 280.753906 \"/>\n",
       "<path style=\" stroke:none;fill-rule:nonzero;fill:rgb(26.666667%,26.666667%,26.666667%);fill-opacity:1;\" d=\"M 577.882813 273.800781 L 567.683594 284.800781 L 563.167969 276.707031 L 577.882813 273.800781 \"/>\n",
       "<path style=\"fill:none;stroke-width:1.474005;stroke-linecap:butt;stroke-linejoin:miter;stroke:rgb(26.666667%,26.666667%,26.666667%);stroke-opacity:1;stroke-miterlimit:10;\" d=\"M 373.714844 245.636719 C 347.40625 327.027344 367.320313 395.578125 440.410156 439.792969 \"/>\n",
       "<path style=\" stroke:none;fill-rule:nonzero;fill:rgb(26.666667%,26.666667%,26.666667%);fill-opacity:1;\" d=\"M 452.617188 447.175781 L 438.011719 443.757813 L 442.808594 435.824219 L 452.617188 447.175781 \"/>\n",
       "<path style=\"fill:none;stroke-width:1.586782;stroke-linecap:butt;stroke-linejoin:miter;stroke:rgb(26.666667%,26.666667%,26.666667%);stroke-opacity:1;stroke-miterlimit:10;\" d=\"M 373.714844 245.636719 C 328.011719 219.695313 281.953125 221.421875 248.613281 261.644531 \"/>\n",
       "<path style=\" stroke:none;fill-rule:nonzero;fill:rgb(26.666667%,26.666667%,26.666667%);fill-opacity:1;\" d=\"M 239.507813 272.625 L 245.042969 258.683594 L 252.179688 264.601563 L 239.507813 272.625 \"/>\n",
       "<path style=\"fill:none;stroke-width:0.592083;stroke-linecap:butt;stroke-linejoin:miter;stroke:rgb(26.666667%,26.666667%,26.666667%);stroke-opacity:1;stroke-miterlimit:10;\" d=\"M 373.714844 245.636719 C 248.199219 315.675781 197.5625 421.761719 233.582031 560.851563 \"/>\n",
       "<path style=\" stroke:none;fill-rule:nonzero;fill:rgb(26.666667%,26.666667%,26.666667%);fill-opacity:1;\" d=\"M 237.160156 574.660156 L 229.09375 562.011719 L 238.070313 559.6875 L 237.160156 574.660156 \"/>\n",
       "<path style=\"fill:none;stroke-width:0.418405;stroke-linecap:butt;stroke-linejoin:miter;stroke:rgb(26.666667%,26.666667%,26.666667%);stroke-opacity:1;stroke-miterlimit:10;\" d=\"M 373.714844 245.636719 C 482.597656 218.597656 543.003906 149.054688 543.835938 36.929688 \"/>\n",
       "<path style=\" stroke:none;fill-rule:nonzero;fill:rgb(26.666667%,26.666667%,26.666667%);fill-opacity:1;\" d=\"M 543.945313 22.664063 L 548.472656 36.964844 L 539.203125 36.894531 L 543.945313 22.664063 \"/>\n",
       "<path style=\"fill:none;stroke-width:0.0778166;stroke-linecap:butt;stroke-linejoin:miter;stroke:rgb(26.666667%,26.666667%,26.666667%);stroke-opacity:1;stroke-miterlimit:10;\" d=\"M 373.714844 245.636719 C 299.644531 109.839844 186.164063 54.828125 35.949219 91.566406 \"/>\n",
       "<path style=\" stroke:none;fill-rule:nonzero;fill:rgb(26.666667%,26.666667%,26.666667%);fill-opacity:1;\" d=\"M 22.09375 94.953125 L 34.847656 87.0625 L 37.050781 96.066406 L 22.09375 94.953125 \"/>\n",
       "<path style=\"fill:none;stroke-width:0.352941;stroke-linecap:butt;stroke-linejoin:miter;stroke:rgb(26.666667%,26.666667%,26.666667%);stroke-opacity:1;stroke-miterlimit:10;\" d=\"M 20 95.464844 C 133.457031 148.265625 234.386719 130.042969 313.871094 33.460938 \"/>\n",
       "<path style=\" stroke:none;fill-rule:nonzero;fill:rgb(26.666667%,26.666667%,26.666667%);fill-opacity:1;\" d=\"M 322.9375 22.449219 L 317.453125 36.40625 L 310.292969 30.515625 L 322.9375 22.449219 \"/>\n",
       "<path style=\"fill:none;stroke-width:0.329412;stroke-linecap:butt;stroke-linejoin:miter;stroke:rgb(26.666667%,26.666667%,26.666667%);stroke-opacity:1;stroke-miterlimit:10;\" d=\"M 20 95.464844 C 155.75 292.410156 338.40625 356.867188 564.234375 278.117188 \"/>\n",
       "<path style=\" stroke:none;fill-rule:nonzero;fill:rgb(26.666667%,26.666667%,26.666667%);fill-opacity:1;\" d=\"M 577.707031 273.421875 L 565.761719 282.496094 L 562.710938 273.742188 L 577.707031 273.421875 \"/>\n",
       "<path style=\"fill:none;stroke-width:0.352941;stroke-linecap:butt;stroke-linejoin:miter;stroke:rgb(26.666667%,26.666667%,26.666667%);stroke-opacity:1;stroke-miterlimit:10;\" d=\"M 20 95.464844 C 69.878906 318.367188 208.597656 441.589844 436.746094 451.605469 \"/>\n",
       "<path style=\" stroke:none;fill-rule:nonzero;fill:rgb(26.666667%,26.666667%,26.666667%);fill-opacity:1;\" d=\"M 450.996094 452.230469 L 436.542969 456.234375 L 436.949219 446.972656 L 450.996094 452.230469 \"/>\n",
       "<path style=\"fill:none;stroke-width:1.129412;stroke-linecap:butt;stroke-linejoin:miter;stroke:rgb(26.666667%,26.666667%,26.666667%);stroke-opacity:1;stroke-miterlimit:10;\" d=\"M 20 95.464844 C 25.191406 199.417969 77.378906 269.164063 179.65625 287.582031 \"/>\n",
       "<path style=\" stroke:none;fill-rule:nonzero;fill:rgb(26.666667%,26.666667%,26.666667%);fill-opacity:1;\" d=\"M 193.695313 290.109375 L 178.832031 292.144531 L 180.476563 283.019531 L 193.695313 290.109375 \"/>\n",
       "<path style=\"fill:none;stroke-width:0.352941;stroke-linecap:butt;stroke-linejoin:miter;stroke:rgb(26.666667%,26.666667%,26.666667%);stroke-opacity:1;stroke-miterlimit:10;\" d=\"M 20 95.464844 C -31.644531 304.082031 33.464844 465.933594 221.246094 570.378906 \"/>\n",
       "<path style=\" stroke:none;fill-rule:nonzero;fill:rgb(26.666667%,26.666667%,26.666667%);fill-opacity:1;\" d=\"M 233.714844 577.316406 L 218.992188 574.429688 L 223.5 566.328125 L 233.714844 577.316406 \"/>\n",
       "<path style=\"fill:none;stroke-width:0.141176;stroke-linecap:butt;stroke-linejoin:miter;stroke:rgb(26.666667%,26.666667%,26.666667%);stroke-opacity:1;stroke-miterlimit:10;\" d=\"M 20 95.464844 C 206.730469 202.613281 380.273438 184.179688 532.8125 32.300781 \"/>\n",
       "<path style=\" stroke:none;fill-rule:nonzero;fill:rgb(26.666667%,26.666667%,26.666667%);fill-opacity:1;\" d=\"M 542.921875 22.234375 L 536.082031 35.585938 L 529.542969 29.015625 L 542.921875 22.234375 \"/>\n",
       "<path style=\"fill:none;stroke-width:1.952941;stroke-linecap:butt;stroke-linejoin:miter;stroke:rgb(26.666667%,26.666667%,26.666667%);stroke-opacity:1;stroke-miterlimit:10;\" d=\"M 20 95.464844 C 78.648438 223.515625 179.007813 284.1875 316.992188 256.867188 \"/>\n",
       "<path style=\" stroke:none;fill-rule:nonzero;fill:rgb(26.666667%,26.666667%,26.666667%);fill-opacity:1;\" d=\"M 330.988281 254.09375 L 317.894531 261.414063 L 316.09375 252.320313 L 330.988281 254.09375 \"/>\n",
       "<path style=\"fill-rule:nonzero;fill:rgb(100%,0%,0%);fill-opacity:1;stroke-width:1;stroke-linecap:butt;stroke-linejoin:miter;stroke:rgb(0%,0%,0%);stroke-opacity:1;stroke-miterlimit:10;\" d=\"M 328.082031 20 C 328.082031 24.171875 321.824219 24.171875 321.824219 20 C 321.824219 15.828125 328.082031 15.828125 328.082031 20 \"/>\n",
       "<path style=\"fill-rule:nonzero;fill:rgb(100%,0%,0%);fill-opacity:1;stroke-width:1;stroke-linecap:butt;stroke-linejoin:miter;stroke:rgb(0%,0%,0%);stroke-opacity:1;stroke-miterlimit:10;\" d=\"M 582.394531 272.621094 C 582.394531 275.816406 577.605469 275.816406 577.605469 272.621094 C 577.605469 269.429688 582.394531 269.429688 582.394531 272.621094 \"/>\n",
       "<path style=\"fill-rule:nonzero;fill:rgb(100%,0%,0%);fill-opacity:1;stroke-width:1;stroke-linecap:butt;stroke-linejoin:miter;stroke:rgb(0%,0%,0%);stroke-opacity:1;stroke-miterlimit:10;\" d=\"M 472.414063 452.703125 C 472.414063 458.589844 467.640625 463.363281 461.753906 463.363281 C 455.867188 463.363281 451.09375 458.589844 451.09375 452.703125 C 451.09375 446.8125 455.867188 442.042969 461.753906 442.042969 C 467.640625 442.042969 472.414063 446.8125 472.414063 452.703125 \"/>\n",
       "<path style=\"fill-rule:nonzero;fill:rgb(100%,0%,0%);fill-opacity:1;stroke-width:1;stroke-linecap:butt;stroke-linejoin:miter;stroke:rgb(0%,0%,0%);stroke-opacity:1;stroke-miterlimit:10;\" d=\"M 249 295.015625 C 249 310.511719 236.441406 323.070313 220.945313 323.070313 C 205.453125 323.070313 192.890625 310.511719 192.890625 295.015625 C 192.890625 279.523438 205.453125 266.960938 220.945313 266.960938 C 236.441406 266.960938 249 279.523438 249 295.015625 \"/>\n",
       "<path style=\"fill-rule:nonzero;fill:rgb(100%,0%,0%);fill-opacity:1;stroke-width:1;stroke-linecap:butt;stroke-linejoin:miter;stroke:rgb(0%,0%,0%);stroke-opacity:1;stroke-miterlimit:10;\" d=\"M 243.996094 580 C 243.996094 583.011719 241.554688 585.453125 238.542969 585.453125 C 235.527344 585.453125 233.085938 583.011719 233.085938 580 C 233.085938 576.988281 235.527344 574.546875 238.542969 574.546875 C 241.554688 574.546875 243.996094 576.988281 243.996094 580 \"/>\n",
       "<path style=\"fill-rule:nonzero;fill:rgb(100%,0%,0%);fill-opacity:1;stroke-width:1;stroke-linecap:butt;stroke-linejoin:miter;stroke:rgb(0%,0%,0%);stroke-opacity:1;stroke-miterlimit:10;\" d=\"M 545.390625 21.207031 C 545.390625 23.121094 542.519531 23.121094 542.519531 21.207031 C 542.519531 19.296875 545.390625 19.296875 545.390625 21.207031 \"/>\n",
       "<path style=\"fill-rule:nonzero;fill:rgb(100%,0%,0%);fill-opacity:1;stroke-width:1;stroke-linecap:butt;stroke-linejoin:miter;stroke:rgb(0%,0%,0%);stroke-opacity:1;stroke-miterlimit:10;\" d=\"M 418.046875 245.636719 C 418.046875 270.121094 398.199219 289.96875 373.714844 289.96875 C 349.226563 289.96875 329.378906 270.121094 329.378906 245.636719 C 329.378906 221.148438 349.226563 201.300781 373.714844 201.300781 C 398.199219 201.300781 418.046875 221.148438 418.046875 245.636719 \"/>\n",
       "<path style=\"fill-rule:nonzero;fill:rgb(100%,0%,0%);fill-opacity:1;stroke-width:1;stroke-linecap:butt;stroke-linejoin:miter;stroke:rgb(0%,0%,0%);stroke-opacity:1;stroke-miterlimit:10;\" d=\"M 22.125 95.464844 C 22.125 98.300781 17.875 98.300781 17.875 95.464844 C 17.875 92.632813 22.125 92.632813 22.125 95.464844 \"/>\n",
       "<g style=\"fill:rgb(0%,0%,0%);fill-opacity:1;\">\n",
       "  <use xlink:href=\"#glyph0-1\" x=\"262.207031\" y=\"26.597656\"/>\n",
       "  <use xlink:href=\"#glyph0-2\" x=\"271.544922\" y=\"26.597656\"/>\n",
       "  <use xlink:href=\"#glyph0-3\" x=\"279.331055\" y=\"26.597656\"/>\n",
       "  <use xlink:href=\"#glyph0-4\" x=\"287.117188\" y=\"26.597656\"/>\n",
       "  <use xlink:href=\"#glyph0-5\" x=\"294.90332\" y=\"26.597656\"/>\n",
       "  <use xlink:href=\"#glyph0-6\" x=\"302.689453\" y=\"26.597656\"/>\n",
       "  <use xlink:href=\"#glyph0-7\" x=\"310.475586\" y=\"26.597656\"/>\n",
       "  <use xlink:href=\"#glyph0-8\" x=\"319.027344\" y=\"26.597656\"/>\n",
       "  <use xlink:href=\"#glyph0-4\" x=\"323.689453\" y=\"26.597656\"/>\n",
       "  <use xlink:href=\"#glyph0-9\" x=\"331.475586\" y=\"26.597656\"/>\n",
       "  <use xlink:href=\"#glyph0-10\" x=\"343.137695\" y=\"26.597656\"/>\n",
       "  <use xlink:href=\"#glyph0-11\" x=\"350.923828\" y=\"26.597656\"/>\n",
       "  <use xlink:href=\"#glyph0-10\" x=\"360.261719\" y=\"26.597656\"/>\n",
       "  <use xlink:href=\"#glyph0-12\" x=\"368.047852\" y=\"26.597656\"/>\n",
       "  <use xlink:href=\"#glyph0-9\" x=\"375.833984\" y=\"26.597656\"/>\n",
       "</g>\n",
       "<g style=\"fill:rgb(0%,0%,0%);fill-opacity:1;\">\n",
       "  <use xlink:href=\"#glyph0-13\" x=\"521.976563\" y=\"279.132813\"/>\n",
       "  <use xlink:href=\"#glyph0-3\" x=\"531.314453\" y=\"279.132813\"/>\n",
       "  <use xlink:href=\"#glyph0-14\" x=\"539.100586\" y=\"279.132813\"/>\n",
       "  <use xlink:href=\"#glyph0-15\" x=\"542.210938\" y=\"279.132813\"/>\n",
       "  <use xlink:href=\"#glyph0-16\" x=\"545.321289\" y=\"279.132813\"/>\n",
       "  <use xlink:href=\"#glyph0-15\" x=\"549.210938\" y=\"279.132813\"/>\n",
       "  <use xlink:href=\"#glyph0-17\" x=\"552.321289\" y=\"279.132813\"/>\n",
       "  <use xlink:href=\"#glyph0-12\" x=\"559.321289\" y=\"279.132813\"/>\n",
       "  <use xlink:href=\"#glyph0-14\" x=\"567.107422\" y=\"279.132813\"/>\n",
       "  <use xlink:href=\"#glyph0-18\" x=\"570.217773\" y=\"279.132813\"/>\n",
       "  <use xlink:href=\"#glyph0-15\" x=\"580.328125\" y=\"279.132813\"/>\n",
       "  <use xlink:href=\"#glyph0-19\" x=\"583.438477\" y=\"279.132813\"/>\n",
       "  <use xlink:href=\"#glyph0-17\" x=\"590.438477\" y=\"279.132813\"/>\n",
       "  <use xlink:href=\"#glyph0-4\" x=\"597.438477\" y=\"279.132813\"/>\n",
       "  <use xlink:href=\"#glyph0-19\" x=\"605.224609\" y=\"279.132813\"/>\n",
       "  <use xlink:href=\"#glyph0-19\" x=\"612.224609\" y=\"279.132813\"/>\n",
       "  <use xlink:href=\"#glyph0-15\" x=\"619.224609\" y=\"279.132813\"/>\n",
       "  <use xlink:href=\"#glyph0-3\" x=\"622.334961\" y=\"279.132813\"/>\n",
       "  <use xlink:href=\"#glyph0-2\" x=\"630.121094\" y=\"279.132813\"/>\n",
       "</g>\n",
       "<g style=\"fill:rgb(0%,0%,0%);fill-opacity:1;\">\n",
       "  <use xlink:href=\"#glyph0-11\" x=\"395.347656\" y=\"459.296875\"/>\n",
       "  <use xlink:href=\"#glyph0-12\" x=\"404.685547\" y=\"459.296875\"/>\n",
       "  <use xlink:href=\"#glyph0-2\" x=\"412.47168\" y=\"459.296875\"/>\n",
       "  <use xlink:href=\"#glyph0-20\" x=\"420.257813\" y=\"459.296875\"/>\n",
       "  <use xlink:href=\"#glyph0-21\" x=\"428.043945\" y=\"459.296875\"/>\n",
       "  <use xlink:href=\"#glyph0-8\" x=\"435.830078\" y=\"459.296875\"/>\n",
       "  <use xlink:href=\"#glyph0-19\" x=\"440.492188\" y=\"459.296875\"/>\n",
       "  <use xlink:href=\"#glyph0-22\" x=\"447.492188\" y=\"459.296875\"/>\n",
       "  <use xlink:href=\"#glyph0-3\" x=\"456.043945\" y=\"459.296875\"/>\n",
       "  <use xlink:href=\"#glyph0-8\" x=\"463.830078\" y=\"459.296875\"/>\n",
       "  <use xlink:href=\"#glyph0-13\" x=\"468.492188\" y=\"459.296875\"/>\n",
       "  <use xlink:href=\"#glyph0-8\" x=\"477.830078\" y=\"459.296875\"/>\n",
       "  <use xlink:href=\"#glyph0-21\" x=\"482.492188\" y=\"459.296875\"/>\n",
       "  <use xlink:href=\"#glyph0-19\" x=\"490.27832\" y=\"459.296875\"/>\n",
       "  <use xlink:href=\"#glyph0-15\" x=\"497.27832\" y=\"459.296875\"/>\n",
       "  <use xlink:href=\"#glyph0-20\" x=\"500.388672\" y=\"459.296875\"/>\n",
       "  <use xlink:href=\"#glyph0-21\" x=\"508.174805\" y=\"459.296875\"/>\n",
       "  <use xlink:href=\"#glyph0-2\" x=\"515.960938\" y=\"459.296875\"/>\n",
       "  <use xlink:href=\"#glyph0-16\" x=\"523.74707\" y=\"459.296875\"/>\n",
       "</g>\n",
       "<g style=\"fill:rgb(0%,0%,0%);fill-opacity:1;\">\n",
       "  <use xlink:href=\"#glyph0-7\" x=\"183.148438\" y=\"301.527344\"/>\n",
       "  <use xlink:href=\"#glyph0-6\" x=\"191.700195\" y=\"301.527344\"/>\n",
       "  <use xlink:href=\"#glyph0-21\" x=\"199.486328\" y=\"301.527344\"/>\n",
       "  <use xlink:href=\"#glyph0-23\" x=\"207.272461\" y=\"301.527344\"/>\n",
       "  <use xlink:href=\"#glyph0-18\" x=\"215.058594\" y=\"301.527344\"/>\n",
       "  <use xlink:href=\"#glyph0-3\" x=\"225.168945\" y=\"301.527344\"/>\n",
       "  <use xlink:href=\"#glyph0-2\" x=\"232.955078\" y=\"301.527344\"/>\n",
       "  <use xlink:href=\"#glyph0-12\" x=\"240.741211\" y=\"301.527344\"/>\n",
       "  <use xlink:href=\"#glyph0-14\" x=\"248.527344\" y=\"301.527344\"/>\n",
       "  <use xlink:href=\"#glyph0-20\" x=\"251.637695\" y=\"301.527344\"/>\n",
       "</g>\n",
       "<g style=\"fill:rgb(0%,0%,0%);fill-opacity:1;\">\n",
       "  <use xlink:href=\"#glyph0-17\" x=\"204.871094\" y=\"586.511719\"/>\n",
       "  <use xlink:href=\"#glyph0-3\" x=\"211.871094\" y=\"586.511719\"/>\n",
       "  <use xlink:href=\"#glyph0-2\" x=\"219.657227\" y=\"586.511719\"/>\n",
       "  <use xlink:href=\"#glyph0-19\" x=\"227.443359\" y=\"586.511719\"/>\n",
       "  <use xlink:href=\"#glyph0-10\" x=\"234.443359\" y=\"586.511719\"/>\n",
       "  <use xlink:href=\"#glyph0-15\" x=\"242.229492\" y=\"586.511719\"/>\n",
       "  <use xlink:href=\"#glyph0-8\" x=\"245.339844\" y=\"586.511719\"/>\n",
       "  <use xlink:href=\"#glyph0-12\" x=\"250.001953\" y=\"586.511719\"/>\n",
       "  <use xlink:href=\"#glyph0-17\" x=\"257.788086\" y=\"586.511719\"/>\n",
       "  <use xlink:href=\"#glyph0-24\" x=\"264.788086\" y=\"586.511719\"/>\n",
       "</g>\n",
       "<g style=\"fill:rgb(0%,0%,0%);fill-opacity:1;\">\n",
       "  <use xlink:href=\"#glyph0-6\" x=\"505.457031\" y=\"27.71875\"/>\n",
       "  <use xlink:href=\"#glyph0-15\" x=\"513.243164\" y=\"27.71875\"/>\n",
       "  <use xlink:href=\"#glyph0-14\" x=\"516.353516\" y=\"27.71875\"/>\n",
       "  <use xlink:href=\"#glyph0-14\" x=\"519.463867\" y=\"27.71875\"/>\n",
       "  <use xlink:href=\"#glyph0-12\" x=\"522.574219\" y=\"27.71875\"/>\n",
       "  <use xlink:href=\"#glyph0-8\" x=\"530.360352\" y=\"27.71875\"/>\n",
       "  <use xlink:href=\"#glyph0-24\" x=\"535.022461\" y=\"27.71875\"/>\n",
       "  <use xlink:href=\"#glyph0-17\" x=\"542.022461\" y=\"27.71875\"/>\n",
       "  <use xlink:href=\"#glyph0-14\" x=\"549.022461\" y=\"27.71875\"/>\n",
       "  <use xlink:href=\"#glyph0-15\" x=\"552.132813\" y=\"27.71875\"/>\n",
       "  <use xlink:href=\"#glyph0-2\" x=\"555.243164\" y=\"27.71875\"/>\n",
       "  <use xlink:href=\"#glyph0-16\" x=\"563.029297\" y=\"27.71875\"/>\n",
       "  <use xlink:href=\"#glyph0-3\" x=\"566.918945\" y=\"27.71875\"/>\n",
       "  <use xlink:href=\"#glyph0-2\" x=\"574.705078\" y=\"27.71875\"/>\n",
       "</g>\n",
       "<g style=\"fill:rgb(0%,0%,0%);fill-opacity:1;\">\n",
       "  <use xlink:href=\"#glyph0-10\" x=\"352.125\" y=\"252.144531\"/>\n",
       "  <use xlink:href=\"#glyph0-3\" x=\"359.911133\" y=\"252.144531\"/>\n",
       "  <use xlink:href=\"#glyph0-14\" x=\"367.697266\" y=\"252.144531\"/>\n",
       "  <use xlink:href=\"#glyph0-15\" x=\"370.807617\" y=\"252.144531\"/>\n",
       "  <use xlink:href=\"#glyph0-16\" x=\"373.917969\" y=\"252.144531\"/>\n",
       "  <use xlink:href=\"#glyph0-15\" x=\"377.807617\" y=\"252.144531\"/>\n",
       "  <use xlink:href=\"#glyph0-17\" x=\"380.917969\" y=\"252.144531\"/>\n",
       "  <use xlink:href=\"#glyph0-19\" x=\"387.917969\" y=\"252.144531\"/>\n",
       "</g>\n",
       "<g style=\"fill:rgb(0%,0%,0%);fill-opacity:1;\">\n",
       "  <use xlink:href=\"#glyph0-4\" x=\"-8.96875\" y=\"101.976563\"/>\n",
       "  <use xlink:href=\"#glyph0-25\" x=\"-1.182617\" y=\"101.976563\"/>\n",
       "  <use xlink:href=\"#glyph0-10\" x=\"5.817383\" y=\"101.976563\"/>\n",
       "  <use xlink:href=\"#glyph0-3\" x=\"13.603516\" y=\"101.976563\"/>\n",
       "  <use xlink:href=\"#glyph0-14\" x=\"21.389648\" y=\"101.976563\"/>\n",
       "  <use xlink:href=\"#glyph0-15\" x=\"24.5\" y=\"101.976563\"/>\n",
       "  <use xlink:href=\"#glyph0-16\" x=\"27.610352\" y=\"101.976563\"/>\n",
       "  <use xlink:href=\"#glyph0-15\" x=\"31.5\" y=\"101.976563\"/>\n",
       "  <use xlink:href=\"#glyph0-17\" x=\"34.610352\" y=\"101.976563\"/>\n",
       "  <use xlink:href=\"#glyph0-19\" x=\"41.610352\" y=\"101.976563\"/>\n",
       "</g>\n",
       "</g>\n",
       "</svg>\n"
      ],
      "text/plain": [
       "<igraph.drawing.Plot at 0x24b0ae685c0>"
      ]
     },
     "execution_count": 110,
     "metadata": {},
     "output_type": "execute_result"
    }
   ],
   "source": [
    "A_classified = df_politics_adj_classified.values\n",
    "g_politic_subreddits_3 = Graph().Adjacency((A_classified > 0).tolist())\n",
    "# Add edge weights and node labels.\n",
    "g_politic_subreddits_3.es['weight'] = A_classified[A_classified.nonzero()]\n",
    "g_politic_subreddits_3.vs['label'] = politic_subreddits\n",
    "g_politic_subreddits_3.es['widht'] = A_classified[A_classified.nonzero()] *0.1\n",
    "\n",
    "\n",
    "visual_style = {}\n",
    "visual_style[\"bbox\"] = (800, 600)\n",
    "visual_style[\"margin\"] = 100\n",
    "visual_style[\"vertex_size\"] = [df_classifier.loc[s][\"Number_of_Users_Belonging\"] * 0.01 for s in politic_subreddits]\n",
    "visual_style[\"edge_arrow_size\"] = A_perc[A.nonzero()] * 0.02\n",
    "visual_style[\"vertex_color\"] = subreddit_politic_colors\n",
    "visual_style[\"edge_color\"] = edges_colors\n",
    "\n",
    "#What this algorithm (fruchterman_reingold) do is printing the nodes which have less weight connection more distanciated\n",
    "layout = g_politic_subreddits_3.layout_fruchterman_reingold(weights = g_politic_subreddits_3.es['weight'])  \n",
    "plot(g_politic_subreddits_3, **visual_style, layout = layout, edge_width = g_politic_subreddits_3.es['widht'])"
   ]
  },
  {
   "cell_type": "code",
   "execution_count": null,
   "metadata": {},
   "outputs": [],
   "source": []
  },
  {
   "cell_type": "code",
   "execution_count": null,
   "metadata": {},
   "outputs": [],
   "source": []
  },
  {
   "cell_type": "code",
   "execution_count": null,
   "metadata": {},
   "outputs": [],
   "source": []
  },
  {
   "cell_type": "code",
   "execution_count": null,
   "metadata": {},
   "outputs": [],
   "source": []
  },
  {
   "cell_type": "code",
   "execution_count": null,
   "metadata": {},
   "outputs": [],
   "source": []
  },
  {
   "cell_type": "code",
   "execution_count": null,
   "metadata": {},
   "outputs": [],
   "source": []
  },
  {
   "cell_type": "code",
   "execution_count": null,
   "metadata": {},
   "outputs": [],
   "source": []
  },
  {
   "cell_type": "code",
   "execution_count": null,
   "metadata": {},
   "outputs": [],
   "source": []
  },
  {
   "cell_type": "code",
   "execution_count": null,
   "metadata": {},
   "outputs": [],
   "source": []
  },
  {
   "cell_type": "code",
   "execution_count": null,
   "metadata": {},
   "outputs": [],
   "source": []
  },
  {
   "cell_type": "code",
   "execution_count": null,
   "metadata": {},
   "outputs": [],
   "source": []
  },
  {
   "cell_type": "code",
   "execution_count": null,
   "metadata": {},
   "outputs": [],
   "source": []
  },
  {
   "cell_type": "code",
   "execution_count": null,
   "metadata": {},
   "outputs": [],
   "source": []
  },
  {
   "cell_type": "code",
   "execution_count": null,
   "metadata": {},
   "outputs": [],
   "source": []
  },
  {
   "cell_type": "code",
   "execution_count": 18,
   "metadata": {
    "scrolled": true
   },
   "outputs": [],
   "source": [
    "political_subreddits_1 = df_topics[df_topics[\"topic\"] == \"politics\"][\"subreddit\"].tolist()\n",
    "edge_list_politics = edge_list.loc[(edge_list.index.isin(political_subreddits_1)) & edge_list['Subreddit2'].isin(political_subreddits_1)]"
   ]
  },
  {
   "cell_type": "code",
   "execution_count": 19,
   "metadata": {},
   "outputs": [],
   "source": [
    "#edge_list_politics.to_csv(DATA_DIR + 'edge_list.csv')"
   ]
  },
  {
   "cell_type": "markdown",
   "metadata": {},
   "source": [
    "### Now let's see what are the subreddits which are more connected with other subreddits (whose users post also in other subreddits)\n"
   ]
  },
  {
   "cell_type": "code",
   "execution_count": 88,
   "metadata": {
    "scrolled": true
   },
   "outputs": [
    {
     "data": {
      "text/html": [
       "<div>\n",
       "<style scoped>\n",
       "    .dataframe tbody tr th:only-of-type {\n",
       "        vertical-align: middle;\n",
       "    }\n",
       "\n",
       "    .dataframe tbody tr th {\n",
       "        vertical-align: top;\n",
       "    }\n",
       "\n",
       "    .dataframe thead th {\n",
       "        text-align: right;\n",
       "    }\n",
       "</style>\n",
       "<table border=\"1\" class=\"dataframe\">\n",
       "  <thead>\n",
       "    <tr style=\"text-align: right;\">\n",
       "      <th></th>\n",
       "      <th>Centralized_value</th>\n",
       "    </tr>\n",
       "  </thead>\n",
       "  <tbody>\n",
       "    <tr>\n",
       "      <th>2007scape</th>\n",
       "      <td>46508</td>\n",
       "    </tr>\n",
       "    <tr>\n",
       "      <th>4chan</th>\n",
       "      <td>224855</td>\n",
       "    </tr>\n",
       "    <tr>\n",
       "      <th>AdviceAnimals</th>\n",
       "      <td>687396</td>\n",
       "    </tr>\n",
       "  </tbody>\n",
       "</table>\n",
       "</div>"
      ],
      "text/plain": [
       "               Centralized_value\n",
       "2007scape                  46508\n",
       "4chan                     224855\n",
       "AdviceAnimals             687396"
      ]
     },
     "execution_count": 88,
     "metadata": {},
     "output_type": "execute_result"
    }
   ],
   "source": [
    "df_centralized = pd.DataFrame(index = subreddit_list, columns = ['Centralized_value']) \n",
    "for i in range(n_subreddits):\n",
    "    centralized_value = 0\n",
    "    for j in range(0, n_subreddits):\n",
    "        centralized_value = centralized_value + adjacency_matrix[i,j]\n",
    "    df_centralized.loc[subreddit_list[i]] = centralized_value\n",
    "    \n",
    "df_centralized.head(3)"
   ]
  },
  {
   "cell_type": "code",
   "execution_count": 89,
   "metadata": {
    "scrolled": true
   },
   "outputs": [
    {
     "data": {
      "text/plain": [
       "Index(['politics', 'pics', 'funny', 'todayilearned', 'worldnews', 'videos',\n",
       "       'news', 'gifs', 'gaming', 'movies', 'Showerthoughts', 'AdviceAnimals',\n",
       "       'WTF', 'The_Donald', 'IAmA', 'mildlyinteresting', 'aww', 'technology',\n",
       "       'television', 'nottheonion', 'Music', 'explainlikeimfive',\n",
       "       'SandersForPresident', 'LifeProTips', 'pcmasterrace',\n",
       "       'BlackPeopleTwitter', 'OldSchoolCool', 'Futurology',\n",
       "       'interestingasfuck', 'science'],\n",
       "      dtype='object')"
      ]
     },
     "execution_count": 89,
     "metadata": {},
     "output_type": "execute_result"
    }
   ],
   "source": [
    "df_centralized.sort_values('Centralized_value', ascending = False).head(30).index"
   ]
  },
  {
   "cell_type": "code",
   "execution_count": 94,
   "metadata": {},
   "outputs": [],
   "source": [
    "edge_list_perce.dropna(inplace= True, axis = 0)"
   ]
  },
  {
   "cell_type": "code",
   "execution_count": 95,
   "metadata": {},
   "outputs": [],
   "source": [
    "edge_list_perce[\"Weight\"]  = edge_list_perce.apply(lambda row: (row[\"Weight\"] / df_centralized.loc[row[\"Subreddit1\"]]) + (row[\"Weight\"] / df_centralized.loc[row[\"Subreddit2\"]]), axis = 1 )"
   ]
  },
  {
   "cell_type": "code",
   "execution_count": 96,
   "metadata": {
    "scrolled": true
   },
   "outputs": [
    {
     "name": "stdout",
     "output_type": "stream",
     "text": [
      "0.010050360382552099\n"
     ]
    }
   ],
   "source": [
    "mean = edge_list_perce[\"Weight\"].mean()\n",
    "print(mean)\n",
    "#edge_list[\"Weight\"] = edge_list[\"Weight\"].apply(lambda x: 0 if x < 15 else x) #Removing soft links for seeing a better graph (weights to 0)\n",
    "edge_list_perce.drop(edge_list[edge_list_perce.Weight < mean].index, inplace = True) #Removing soft links for seeing a better graph (remove edges)\n",
    "\n",
    "edge_list_perce.set_index(\"Subreddit1\", inplace = True) #In order to not export the indexes to the .csv\n",
    "\n",
    "#edge_list[\"Weight\"] = edge_list[\"Weight\"] * 100 #To do a clearly visualization\n",
    "edge_list.to_csv(DATA_DIR + 'edge_list.csv')"
   ]
  },
  {
   "cell_type": "code",
   "execution_count": 97,
   "metadata": {},
   "outputs": [
    {
     "data": {
      "text/html": [
       "<div>\n",
       "<style scoped>\n",
       "    .dataframe tbody tr th:only-of-type {\n",
       "        vertical-align: middle;\n",
       "    }\n",
       "\n",
       "    .dataframe tbody tr th {\n",
       "        vertical-align: top;\n",
       "    }\n",
       "\n",
       "    .dataframe thead th {\n",
       "        text-align: right;\n",
       "    }\n",
       "</style>\n",
       "<table border=\"1\" class=\"dataframe\">\n",
       "  <thead>\n",
       "    <tr style=\"text-align: right;\">\n",
       "      <th></th>\n",
       "      <th>Subreddit2</th>\n",
       "      <th>Weight</th>\n",
       "    </tr>\n",
       "    <tr>\n",
       "      <th>Subreddit1</th>\n",
       "      <th></th>\n",
       "      <th></th>\n",
       "    </tr>\n",
       "  </thead>\n",
       "  <tbody>\n",
       "    <tr>\n",
       "      <th>2007scape</th>\n",
       "      <td>4chan</td>\n",
       "      <td>0.012222</td>\n",
       "    </tr>\n",
       "    <tr>\n",
       "      <th>2007scape</th>\n",
       "      <td>4chan</td>\n",
       "      <td>0.012222</td>\n",
       "    </tr>\n",
       "    <tr>\n",
       "      <th>2007scape</th>\n",
       "      <td>AdviceAnimals</td>\n",
       "      <td>0.019743</td>\n",
       "    </tr>\n",
       "    <tr>\n",
       "      <th>2007scape</th>\n",
       "      <td>BlackPeopleTwitter</td>\n",
       "      <td>0.015725</td>\n",
       "    </tr>\n",
       "    <tr>\n",
       "      <th>2007scape</th>\n",
       "      <td>CringeAnarchy</td>\n",
       "      <td>0.012345</td>\n",
       "    </tr>\n",
       "    <tr>\n",
       "      <th>2007scape</th>\n",
       "      <td>GlobalOffensive</td>\n",
       "      <td>0.013158</td>\n",
       "    </tr>\n",
       "    <tr>\n",
       "      <th>2007scape</th>\n",
       "      <td>IAmA</td>\n",
       "      <td>0.016683</td>\n",
       "    </tr>\n",
       "    <tr>\n",
       "      <th>2007scape</th>\n",
       "      <td>Jokes</td>\n",
       "      <td>0.010321</td>\n",
       "    </tr>\n",
       "    <tr>\n",
       "      <th>2007scape</th>\n",
       "      <td>LifeProTips</td>\n",
       "      <td>0.012385</td>\n",
       "    </tr>\n",
       "    <tr>\n",
       "      <th>2007scape</th>\n",
       "      <td>Music</td>\n",
       "      <td>0.011615</td>\n",
       "    </tr>\n",
       "    <tr>\n",
       "      <th>2007scape</th>\n",
       "      <td>OldSchoolCool</td>\n",
       "      <td>0.010262</td>\n",
       "    </tr>\n",
       "    <tr>\n",
       "      <th>2007scape</th>\n",
       "      <td>Overwatch</td>\n",
       "      <td>0.014203</td>\n",
       "    </tr>\n",
       "    <tr>\n",
       "      <th>2007scape</th>\n",
       "      <td>SandersForPresident</td>\n",
       "      <td>0.014893</td>\n",
       "    </tr>\n",
       "    <tr>\n",
       "      <th>2007scape</th>\n",
       "      <td>Showerthoughts</td>\n",
       "      <td>0.019369</td>\n",
       "    </tr>\n",
       "    <tr>\n",
       "      <th>2007scape</th>\n",
       "      <td>The_Donald</td>\n",
       "      <td>0.027447</td>\n",
       "    </tr>\n",
       "    <tr>\n",
       "      <th>2007scape</th>\n",
       "      <td>TumblrInAction</td>\n",
       "      <td>0.010945</td>\n",
       "    </tr>\n",
       "    <tr>\n",
       "      <th>2007scape</th>\n",
       "      <td>WTF</td>\n",
       "      <td>0.019537</td>\n",
       "    </tr>\n",
       "    <tr>\n",
       "      <th>2007scape</th>\n",
       "      <td>aww</td>\n",
       "      <td>0.015487</td>\n",
       "    </tr>\n",
       "    <tr>\n",
       "      <th>2007scape</th>\n",
       "      <td>explainlikeimfive</td>\n",
       "      <td>0.011589</td>\n",
       "    </tr>\n",
       "    <tr>\n",
       "      <th>2007scape</th>\n",
       "      <td>funny</td>\n",
       "      <td>0.025038</td>\n",
       "    </tr>\n",
       "    <tr>\n",
       "      <th>2007scape</th>\n",
       "      <td>gaming</td>\n",
       "      <td>0.024341</td>\n",
       "    </tr>\n",
       "    <tr>\n",
       "      <th>2007scape</th>\n",
       "      <td>gifs</td>\n",
       "      <td>0.021856</td>\n",
       "    </tr>\n",
       "    <tr>\n",
       "      <th>2007scape</th>\n",
       "      <td>interestingasfuck</td>\n",
       "      <td>0.012043</td>\n",
       "    </tr>\n",
       "    <tr>\n",
       "      <th>2007scape</th>\n",
       "      <td>leagueoflegends</td>\n",
       "      <td>0.014885</td>\n",
       "    </tr>\n",
       "    <tr>\n",
       "      <th>2007scape</th>\n",
       "      <td>me_irl</td>\n",
       "      <td>0.011405</td>\n",
       "    </tr>\n",
       "    <tr>\n",
       "      <th>2007scape</th>\n",
       "      <td>mildlyinteresting</td>\n",
       "      <td>0.016411</td>\n",
       "    </tr>\n",
       "    <tr>\n",
       "      <th>2007scape</th>\n",
       "      <td>movies</td>\n",
       "      <td>0.017132</td>\n",
       "    </tr>\n",
       "    <tr>\n",
       "      <th>2007scape</th>\n",
       "      <td>news</td>\n",
       "      <td>0.021987</td>\n",
       "    </tr>\n",
       "    <tr>\n",
       "      <th>2007scape</th>\n",
       "      <td>nottheonion</td>\n",
       "      <td>0.012632</td>\n",
       "    </tr>\n",
       "    <tr>\n",
       "      <th>2007scape</th>\n",
       "      <td>pcmasterrace</td>\n",
       "      <td>0.018679</td>\n",
       "    </tr>\n",
       "    <tr>\n",
       "      <th>...</th>\n",
       "      <td>...</td>\n",
       "      <td>...</td>\n",
       "    </tr>\n",
       "    <tr>\n",
       "      <th>tifu</th>\n",
       "      <td>unitedkingdom</td>\n",
       "      <td>0.011033</td>\n",
       "    </tr>\n",
       "    <tr>\n",
       "      <th>tifu</th>\n",
       "      <td>videos</td>\n",
       "      <td>0.037107</td>\n",
       "    </tr>\n",
       "    <tr>\n",
       "      <th>tifu</th>\n",
       "      <td>whowouldwin</td>\n",
       "      <td>0.010521</td>\n",
       "    </tr>\n",
       "    <tr>\n",
       "      <th>tifu</th>\n",
       "      <td>worldnews</td>\n",
       "      <td>0.036666</td>\n",
       "    </tr>\n",
       "    <tr>\n",
       "      <th>tifu</th>\n",
       "      <td>wow</td>\n",
       "      <td>0.011645</td>\n",
       "    </tr>\n",
       "    <tr>\n",
       "      <th>tifu</th>\n",
       "      <td>xboxone</td>\n",
       "      <td>0.011811</td>\n",
       "    </tr>\n",
       "    <tr>\n",
       "      <th>todayilearned</th>\n",
       "      <td>trees</td>\n",
       "      <td>0.035146</td>\n",
       "    </tr>\n",
       "    <tr>\n",
       "      <th>todayilearned</th>\n",
       "      <td>ukpolitics</td>\n",
       "      <td>0.030471</td>\n",
       "    </tr>\n",
       "    <tr>\n",
       "      <th>todayilearned</th>\n",
       "      <td>unitedkingdom</td>\n",
       "      <td>0.032057</td>\n",
       "    </tr>\n",
       "    <tr>\n",
       "      <th>todayilearned</th>\n",
       "      <td>videos</td>\n",
       "      <td>0.063376</td>\n",
       "    </tr>\n",
       "    <tr>\n",
       "      <th>todayilearned</th>\n",
       "      <td>whowouldwin</td>\n",
       "      <td>0.029050</td>\n",
       "    </tr>\n",
       "    <tr>\n",
       "      <th>todayilearned</th>\n",
       "      <td>worldnews</td>\n",
       "      <td>0.065153</td>\n",
       "    </tr>\n",
       "    <tr>\n",
       "      <th>todayilearned</th>\n",
       "      <td>wow</td>\n",
       "      <td>0.028804</td>\n",
       "    </tr>\n",
       "    <tr>\n",
       "      <th>todayilearned</th>\n",
       "      <td>xboxone</td>\n",
       "      <td>0.026998</td>\n",
       "    </tr>\n",
       "    <tr>\n",
       "      <th>trees</th>\n",
       "      <td>videos</td>\n",
       "      <td>0.033757</td>\n",
       "    </tr>\n",
       "    <tr>\n",
       "      <th>trees</th>\n",
       "      <td>worldnews</td>\n",
       "      <td>0.032126</td>\n",
       "    </tr>\n",
       "    <tr>\n",
       "      <th>trees</th>\n",
       "      <td>wow</td>\n",
       "      <td>0.010619</td>\n",
       "    </tr>\n",
       "    <tr>\n",
       "      <th>trees</th>\n",
       "      <td>xboxone</td>\n",
       "      <td>0.013025</td>\n",
       "    </tr>\n",
       "    <tr>\n",
       "      <th>ukpolitics</th>\n",
       "      <td>unitedkingdom</td>\n",
       "      <td>0.062528</td>\n",
       "    </tr>\n",
       "    <tr>\n",
       "      <th>ukpolitics</th>\n",
       "      <td>videos</td>\n",
       "      <td>0.027524</td>\n",
       "    </tr>\n",
       "    <tr>\n",
       "      <th>ukpolitics</th>\n",
       "      <td>worldnews</td>\n",
       "      <td>0.041742</td>\n",
       "    </tr>\n",
       "    <tr>\n",
       "      <th>unitedkingdom</th>\n",
       "      <td>videos</td>\n",
       "      <td>0.029864</td>\n",
       "    </tr>\n",
       "    <tr>\n",
       "      <th>unitedkingdom</th>\n",
       "      <td>worldnews</td>\n",
       "      <td>0.040997</td>\n",
       "    </tr>\n",
       "    <tr>\n",
       "      <th>videos</th>\n",
       "      <td>whowouldwin</td>\n",
       "      <td>0.024559</td>\n",
       "    </tr>\n",
       "    <tr>\n",
       "      <th>videos</th>\n",
       "      <td>worldnews</td>\n",
       "      <td>0.061622</td>\n",
       "    </tr>\n",
       "    <tr>\n",
       "      <th>videos</th>\n",
       "      <td>wow</td>\n",
       "      <td>0.029388</td>\n",
       "    </tr>\n",
       "    <tr>\n",
       "      <th>videos</th>\n",
       "      <td>xboxone</td>\n",
       "      <td>0.027261</td>\n",
       "    </tr>\n",
       "    <tr>\n",
       "      <th>whowouldwin</th>\n",
       "      <td>worldnews</td>\n",
       "      <td>0.025544</td>\n",
       "    </tr>\n",
       "    <tr>\n",
       "      <th>worldnews</th>\n",
       "      <td>wow</td>\n",
       "      <td>0.028969</td>\n",
       "    </tr>\n",
       "    <tr>\n",
       "      <th>worldnews</th>\n",
       "      <td>xboxone</td>\n",
       "      <td>0.025147</td>\n",
       "    </tr>\n",
       "  </tbody>\n",
       "</table>\n",
       "<p>7158 rows × 2 columns</p>\n",
       "</div>"
      ],
      "text/plain": [
       "                        Subreddit2    Weight\n",
       "Subreddit1                                  \n",
       "2007scape                    4chan  0.012222\n",
       "2007scape                    4chan  0.012222\n",
       "2007scape            AdviceAnimals  0.019743\n",
       "2007scape       BlackPeopleTwitter  0.015725\n",
       "2007scape            CringeAnarchy  0.012345\n",
       "2007scape          GlobalOffensive  0.013158\n",
       "2007scape                     IAmA  0.016683\n",
       "2007scape                    Jokes  0.010321\n",
       "2007scape              LifeProTips  0.012385\n",
       "2007scape                    Music  0.011615\n",
       "2007scape            OldSchoolCool  0.010262\n",
       "2007scape                Overwatch  0.014203\n",
       "2007scape      SandersForPresident  0.014893\n",
       "2007scape           Showerthoughts  0.019369\n",
       "2007scape               The_Donald  0.027447\n",
       "2007scape           TumblrInAction  0.010945\n",
       "2007scape                      WTF  0.019537\n",
       "2007scape                      aww  0.015487\n",
       "2007scape        explainlikeimfive  0.011589\n",
       "2007scape                    funny  0.025038\n",
       "2007scape                   gaming  0.024341\n",
       "2007scape                     gifs  0.021856\n",
       "2007scape        interestingasfuck  0.012043\n",
       "2007scape          leagueoflegends  0.014885\n",
       "2007scape                   me_irl  0.011405\n",
       "2007scape        mildlyinteresting  0.016411\n",
       "2007scape                   movies  0.017132\n",
       "2007scape                     news  0.021987\n",
       "2007scape              nottheonion  0.012632\n",
       "2007scape             pcmasterrace  0.018679\n",
       "...                            ...       ...\n",
       "tifu                 unitedkingdom  0.011033\n",
       "tifu                        videos  0.037107\n",
       "tifu                   whowouldwin  0.010521\n",
       "tifu                     worldnews  0.036666\n",
       "tifu                           wow  0.011645\n",
       "tifu                       xboxone  0.011811\n",
       "todayilearned                trees  0.035146\n",
       "todayilearned           ukpolitics  0.030471\n",
       "todayilearned        unitedkingdom  0.032057\n",
       "todayilearned               videos  0.063376\n",
       "todayilearned          whowouldwin  0.029050\n",
       "todayilearned            worldnews  0.065153\n",
       "todayilearned                  wow  0.028804\n",
       "todayilearned              xboxone  0.026998\n",
       "trees                       videos  0.033757\n",
       "trees                    worldnews  0.032126\n",
       "trees                          wow  0.010619\n",
       "trees                      xboxone  0.013025\n",
       "ukpolitics           unitedkingdom  0.062528\n",
       "ukpolitics                  videos  0.027524\n",
       "ukpolitics               worldnews  0.041742\n",
       "unitedkingdom               videos  0.029864\n",
       "unitedkingdom            worldnews  0.040997\n",
       "videos                 whowouldwin  0.024559\n",
       "videos                   worldnews  0.061622\n",
       "videos                         wow  0.029388\n",
       "videos                     xboxone  0.027261\n",
       "whowouldwin              worldnews  0.025544\n",
       "worldnews                      wow  0.028969\n",
       "worldnews                  xboxone  0.025147\n",
       "\n",
       "[7158 rows x 2 columns]"
      ]
     },
     "execution_count": 97,
     "metadata": {},
     "output_type": "execute_result"
    }
   ],
   "source": [
    "edge_list_perce"
   ]
  },
  {
   "cell_type": "markdown",
   "metadata": {},
   "source": [
    "## Using igraph library:"
   ]
  },
  {
   "cell_type": "code",
   "execution_count": 44,
   "metadata": {
    "scrolled": false
   },
   "outputs": [],
   "source": [
    "#import igraph\n",
    "import cairo \n",
    "from igraph import *\n",
    "\n",
    "import random"
   ]
  },
  {
   "cell_type": "code",
   "execution_count": 21,
   "metadata": {},
   "outputs": [],
   "source": [
    "A = df_adj.values"
   ]
  },
  {
   "cell_type": "code",
   "execution_count": 22,
   "metadata": {},
   "outputs": [
    {
     "data": {
      "text/plain": [
       "['2007scape',\n",
       " '4chan',\n",
       " 'AdviceAnimals',\n",
       " 'Amd',\n",
       " 'Android',\n",
       " 'AskMen',\n",
       " 'AskWomen',\n",
       " 'BabyBumps',\n",
       " 'BigBrother',\n",
       " 'Bitcoin',\n",
       " 'BlackPeopleTwitter',\n",
       " 'CFB',\n",
       " 'CFBOffTopic',\n",
       " 'CHICubs',\n",
       " 'CODZombies',\n",
       " 'CampHalfBloodRP',\n",
       " 'CasualConversation',\n",
       " 'Christianity',\n",
       " 'ClashRoyale',\n",
       " 'CollegeBasketball',\n",
       " 'Cricket',\n",
       " 'CringeAnarchy',\n",
       " 'DBZDokkanBattle',\n",
       " 'DC_Cinematic',\n",
       " 'DestinyTheGame',\n",
       " 'DnD',\n",
       " 'DotA2',\n",
       " 'Drugs',\n",
       " 'EliteDangerous',\n",
       " 'EnoughTrumpSpam',\n",
       " 'Eve',\n",
       " 'FFBraveExvius',\n",
       " 'FFRecordKeeper',\n",
       " 'FIFA',\n",
       " 'Fallout',\n",
       " 'Fireteams',\n",
       " 'Fitness',\n",
       " 'Futurology',\n",
       " 'Games',\n",
       " 'GlobalOffensive',\n",
       " 'GlobalOffensiveTrade',\n",
       " 'Guildwars2',\n",
       " 'Gunners',\n",
       " 'IAmA',\n",
       " 'Jokes',\n",
       " 'KotakuInAction',\n",
       " 'LifeProTips',\n",
       " 'LiverpoolFC',\n",
       " 'MLS',\n",
       " 'MMA',\n",
       " 'MaddenUltimateTeam',\n",
       " 'MakeupAddiction',\n",
       " 'MechanicalKeyboards',\n",
       " 'Music',\n",
       " 'NHLHUT',\n",
       " 'NoMansSkyTheGame',\n",
       " 'OkCupid',\n",
       " 'OldSchoolCool',\n",
       " 'Overwatch',\n",
       " 'PS4',\n",
       " 'Philippines',\n",
       " 'Pokemongiveaway',\n",
       " 'PoliticalDiscussion',\n",
       " 'RWBY',\n",
       " 'Rainbow6',\n",
       " 'Random_Acts_Of_Amazon',\n",
       " 'RoastMe',\n",
       " 'RocketLeague',\n",
       " 'RocketLeagueExchange',\n",
       " 'SVExchange',\n",
       " 'SandersForPresident',\n",
       " 'Showerthoughts',\n",
       " 'Smite',\n",
       " 'Sneakers',\n",
       " 'SquaredCircle',\n",
       " 'StarWars',\n",
       " 'SubredditDrama',\n",
       " 'TheSilphRoad',\n",
       " 'The_Donald',\n",
       " 'TrollXChromosomes',\n",
       " 'TumblrInAction',\n",
       " 'TwoXChromosomes',\n",
       " 'Undertale',\n",
       " 'Vive',\n",
       " 'WTF',\n",
       " 'Warframe',\n",
       " 'anime',\n",
       " 'apple',\n",
       " 'argentina',\n",
       " 'asoiaf',\n",
       " 'atheism',\n",
       " 'australia',\n",
       " 'aww',\n",
       " 'baseball',\n",
       " 'battlefield_one',\n",
       " 'blackdesertonline',\n",
       " 'blackops3',\n",
       " 'boardgames',\n",
       " 'bodybuilding',\n",
       " 'books',\n",
       " 'bravefrontier',\n",
       " 'buildapc',\n",
       " 'canada',\n",
       " 'cars',\n",
       " 'changemyview',\n",
       " 'childfree',\n",
       " 'conspiracy',\n",
       " 'darksouls3',\n",
       " 'dataisbeautiful',\n",
       " 'de',\n",
       " 'electronic_cigarette',\n",
       " 'europe',\n",
       " 'exmormon',\n",
       " 'explainlikeimfive',\n",
       " 'fantasyfootball',\n",
       " 'fatlogic',\n",
       " 'ffxiv',\n",
       " 'fireemblem',\n",
       " 'fivenightsatfreddys',\n",
       " 'fo4',\n",
       " 'food',\n",
       " 'formula1',\n",
       " 'france',\n",
       " 'friendsafari',\n",
       " 'funkopop',\n",
       " 'funny',\n",
       " 'gameofthrones',\n",
       " 'gaming',\n",
       " 'gifs',\n",
       " 'gonewild',\n",
       " 'guns',\n",
       " 'halo',\n",
       " 'hardwareswap',\n",
       " 'hearthstone',\n",
       " 'heroesofthestorm',\n",
       " 'hillaryclinton',\n",
       " 'hiphopheads',\n",
       " 'hockey',\n",
       " 'india',\n",
       " 'interestingasfuck',\n",
       " 'jailbreak',\n",
       " 'leagueoflegends',\n",
       " 'legaladvice',\n",
       " 'loseit',\n",
       " 'magicTCG',\n",
       " 'malefashionadvice',\n",
       " 'marvelstudios',\n",
       " 'me_irl',\n",
       " 'mildlyinteresting',\n",
       " 'motorcycles',\n",
       " 'movies',\n",
       " 'nba',\n",
       " 'news',\n",
       " 'nfl',\n",
       " 'nottheonion',\n",
       " 'nrl',\n",
       " 'oculus',\n",
       " 'opieandanthony',\n",
       " 'pathofexile',\n",
       " 'pcgaming',\n",
       " 'pcmasterrace',\n",
       " 'personalfinance',\n",
       " 'pics',\n",
       " 'pokemon',\n",
       " 'pokemongo',\n",
       " 'pokemontrades',\n",
       " 'politics',\n",
       " 'reddevils',\n",
       " 'relationships',\n",
       " 'runescape',\n",
       " 'rupaulsdragrace',\n",
       " 'science',\n",
       " 'sex',\n",
       " 'smashbros',\n",
       " 'soccer',\n",
       " 'starcitizen',\n",
       " 'stevenuniverse',\n",
       " 'streetwear',\n",
       " 'summonerschool',\n",
       " 'summonerswar',\n",
       " 'survivor',\n",
       " 'sweden',\n",
       " 'syriancivilwar',\n",
       " 'sysadmin',\n",
       " 'technology',\n",
       " 'teenagers',\n",
       " 'television',\n",
       " 'tf2',\n",
       " 'thedivision',\n",
       " 'thewalkingdead',\n",
       " 'tifu',\n",
       " 'todayilearned',\n",
       " 'trees',\n",
       " 'ukpolitics',\n",
       " 'unitedkingdom',\n",
       " 'videos',\n",
       " 'whowouldwin',\n",
       " 'worldnews',\n",
       " 'wow',\n",
       " 'xboxone']"
      ]
     },
     "execution_count": 22,
     "metadata": {},
     "output_type": "execute_result"
    }
   ],
   "source": [
    "subreddit_list"
   ]
  },
  {
   "cell_type": "code",
   "execution_count": null,
   "metadata": {},
   "outputs": [],
   "source": [
    "for i in range(len(A)):                  #Removing soft links for seeing a better graph\n",
    "    for j in range(len(A[i])):\n",
    "        if A[i,j]<5:\n",
    "            A[i,j]=0"
   ]
  },
  {
   "cell_type": "code",
   "execution_count": null,
   "metadata": {},
   "outputs": [],
   "source": [
    "A"
   ]
  },
  {
   "cell_type": "code",
   "execution_count": null,
   "metadata": {},
   "outputs": [],
   "source": [
    "#g_all_subreddits = igraph.Graph.Adjacency((A > 0).tolist())\n",
    "g_all_subreddits = Graph()\n",
    "g_all_subreddits = g_all_subreddits.Adjacency((A > 0).tolist())"
   ]
  },
  {
   "cell_type": "code",
   "execution_count": null,
   "metadata": {},
   "outputs": [],
   "source": [
    "# Add edge weights and node labels.\n",
    "g_all_subreddits.es['weight'] = A[A.nonzero()]\n",
    "g_all_subreddits.vs['label'] = subreddit_list  # or a.index/a.columns"
   ]
  },
  {
   "cell_type": "code",
   "execution_count": null,
   "metadata": {},
   "outputs": [],
   "source": [
    "layout = g_all_subreddits.layout"
   ]
  },
  {
   "cell_type": "code",
   "execution_count": null,
   "metadata": {
    "scrolled": true
   },
   "outputs": [],
   "source": [
    "plot(g_all_subreddits)"
   ]
  },
  {
   "cell_type": "code",
   "execution_count": null,
   "metadata": {
    "scrolled": true
   },
   "outputs": [],
   "source": [
    "layout = g_all_subreddits.layout_fruchterman_reingold()\n",
    "plot(g_all_subreddits, layout = layout)"
   ]
  },
  {
   "cell_type": "markdown",
   "metadata": {},
   "source": [
    "We obtain the list of politic subreddits that we have in the current dataset:"
   ]
  },
  {
   "cell_type": "code",
   "execution_count": 23,
   "metadata": {},
   "outputs": [
    {
     "data": {
      "text/html": [
       "<div>\n",
       "<style scoped>\n",
       "    .dataframe tbody tr th:only-of-type {\n",
       "        vertical-align: middle;\n",
       "    }\n",
       "\n",
       "    .dataframe tbody tr th {\n",
       "        vertical-align: top;\n",
       "    }\n",
       "\n",
       "    .dataframe thead th {\n",
       "        text-align: right;\n",
       "    }\n",
       "</style>\n",
       "<table border=\"1\" class=\"dataframe\">\n",
       "  <thead>\n",
       "    <tr style=\"text-align: right;\">\n",
       "      <th></th>\n",
       "      <th>Subreddit1</th>\n",
       "      <th>Subreddit2</th>\n",
       "      <th>Weight</th>\n",
       "    </tr>\n",
       "  </thead>\n",
       "  <tbody>\n",
       "    <tr>\n",
       "      <th>0</th>\n",
       "      <td>EnoughTrumpSpam</td>\n",
       "      <td>PoliticalDiscussion</td>\n",
       "      <td>184600.0</td>\n",
       "    </tr>\n",
       "    <tr>\n",
       "      <th>1</th>\n",
       "      <td>EnoughTrumpSpam</td>\n",
       "      <td>SandersForPresident</td>\n",
       "      <td>396000.0</td>\n",
       "    </tr>\n",
       "  </tbody>\n",
       "</table>\n",
       "</div>"
      ],
      "text/plain": [
       "        Subreddit1           Subreddit2    Weight\n",
       "0  EnoughTrumpSpam  PoliticalDiscussion  184600.0\n",
       "1  EnoughTrumpSpam  SandersForPresident  396000.0"
      ]
     },
     "execution_count": 23,
     "metadata": {},
     "output_type": "execute_result"
    }
   ],
   "source": [
    "edge_list_politics.reset_index().head(2)"
   ]
  },
  {
   "cell_type": "code",
   "execution_count": 24,
   "metadata": {
    "scrolled": true
   },
   "outputs": [
    {
     "data": {
      "text/plain": [
       "['hillaryclinton',\n",
       " 'EnoughTrumpSpam',\n",
       " 'The_Donald',\n",
       " 'conspiracy',\n",
       " 'ukpolitics',\n",
       " 'politics',\n",
       " 'PoliticalDiscussion',\n",
       " 'SandersForPresident']"
      ]
     },
     "execution_count": 24,
     "metadata": {},
     "output_type": "execute_result"
    }
   ],
   "source": [
    "edge_list_politics.reset_index(inplace = True)\n",
    "politic_subreddits = edge_list_politics['Subreddit1'].values.tolist()\n",
    "politic_subreddits= politic_subreddits + (edge_list_politics['Subreddit2'].values.tolist())\n",
    "politic_subreddits = list(set(politic_subreddits))\n",
    "politic_subreddits"
   ]
  },
  {
   "cell_type": "code",
   "execution_count": null,
   "metadata": {},
   "outputs": [],
   "source": []
  },
  {
   "cell_type": "code",
   "execution_count": null,
   "metadata": {},
   "outputs": [],
   "source": []
  },
  {
   "cell_type": "code",
   "execution_count": null,
   "metadata": {},
   "outputs": [],
   "source": []
  },
  {
   "cell_type": "code",
   "execution_count": null,
   "metadata": {},
   "outputs": [],
   "source": []
  },
  {
   "cell_type": "code",
   "execution_count": null,
   "metadata": {},
   "outputs": [],
   "source": []
  },
  {
   "cell_type": "markdown",
   "metadata": {},
   "source": [
    "## Classifying users in the range Democrat - Republican by NLP and topic detection"
   ]
  },
  {
   "cell_type": "markdown",
   "metadata": {},
   "source": [
    "We assume as an hypothesis that the democrats  and the republicans talk about different topics (inside the political topics); since they have different worries and it is usual to criticize differents aspects from the point of view of a democrat and a republican. So they should talk more about certain subtopics; let's try to classify them:"
   ]
  },
  {
   "cell_type": "code",
   "execution_count": 98,
   "metadata": {},
   "outputs": [],
   "source": [
    "import warnings; warnings.simplefilter('ignore')\n",
    "import os, codecs, string, random\n",
    "import numpy as np\n",
    "from numpy.random import seed as random_seed\n",
    "from numpy.random import shuffle as random_shuffle\n",
    "\n",
    "\n",
    "seed = 42\n",
    "random.seed(seed)\n",
    "np.random.seed(seed)\n",
    "\n",
    "#NLP libraries\n",
    "import spacy, nltk, gensim, sklearn\n",
    "import pyLDAvis.gensim"
   ]
  },
  {
   "cell_type": "markdown",
   "metadata": {},
   "source": [
    "First we load the data which we are going to use to train our predictor:"
   ]
  },
  {
   "cell_type": "code",
   "execution_count": 99,
   "metadata": {},
   "outputs": [
    {
     "data": {
      "text/html": [
       "<div>\n",
       "<style scoped>\n",
       "    .dataframe tbody tr th:only-of-type {\n",
       "        vertical-align: middle;\n",
       "    }\n",
       "\n",
       "    .dataframe tbody tr th {\n",
       "        vertical-align: top;\n",
       "    }\n",
       "\n",
       "    .dataframe thead th {\n",
       "        text-align: right;\n",
       "    }\n",
       "</style>\n",
       "<table border=\"1\" class=\"dataframe\">\n",
       "  <thead>\n",
       "    <tr style=\"text-align: right;\">\n",
       "      <th></th>\n",
       "      <th>id</th>\n",
       "      <th>author</th>\n",
       "      <th>subreddit</th>\n",
       "      <th>body</th>\n",
       "      <th>score</th>\n",
       "      <th>controversiality</th>\n",
       "      <th>compound_sent</th>\n",
       "      <th>category</th>\n",
       "    </tr>\n",
       "  </thead>\n",
       "  <tbody>\n",
       "    <tr>\n",
       "      <th>0</th>\n",
       "      <td>dbb0mui</td>\n",
       "      <td>JohnnyJamBoogie_</td>\n",
       "      <td>Conservative</td>\n",
       "      <td>Recipe for an Evan McMuffin:\\nFirst you start ...</td>\n",
       "      <td>20</td>\n",
       "      <td>0</td>\n",
       "      <td>0.4404</td>\n",
       "      <td>1</td>\n",
       "    </tr>\n",
       "    <tr>\n",
       "      <th>1</th>\n",
       "      <td>dbb0vac</td>\n",
       "      <td>Laxidazical</td>\n",
       "      <td>Conservative</td>\n",
       "      <td>That is some serious self delusion. \\n\\nHer hu...</td>\n",
       "      <td>29</td>\n",
       "      <td>0</td>\n",
       "      <td>-0.264</td>\n",
       "      <td>1</td>\n",
       "    </tr>\n",
       "    <tr>\n",
       "      <th>2</th>\n",
       "      <td>dbb1gbn</td>\n",
       "      <td>deadally</td>\n",
       "      <td>Conservative</td>\n",
       "      <td>I don't care what the DNC thinks. Their manipu...</td>\n",
       "      <td>4281</td>\n",
       "      <td>0</td>\n",
       "      <td>-0.8941</td>\n",
       "      <td>1</td>\n",
       "    </tr>\n",
       "  </tbody>\n",
       "</table>\n",
       "</div>"
      ],
      "text/plain": [
       "        id            author     subreddit  \\\n",
       "0  dbb0mui  JohnnyJamBoogie_  Conservative   \n",
       "1  dbb0vac       Laxidazical  Conservative   \n",
       "2  dbb1gbn          deadally  Conservative   \n",
       "\n",
       "                                                body  score  controversiality  \\\n",
       "0  Recipe for an Evan McMuffin:\\nFirst you start ...     20                 0   \n",
       "1  That is some serious self delusion. \\n\\nHer hu...     29                 0   \n",
       "2  I don't care what the DNC thinks. Their manipu...   4281                 0   \n",
       "\n",
       "  compound_sent  category  \n",
       "0        0.4404         1  \n",
       "1        -0.264         1  \n",
       "2       -0.8941         1  "
      ]
     },
     "execution_count": 99,
     "metadata": {},
     "output_type": "execute_result"
    }
   ],
   "source": [
    "df_train_data = pd.read_parquet(DATA_DIR + \"training_data_cleaned.parquet\")\n",
    "df_train_data.head(3)"
   ]
  },
  {
   "cell_type": "markdown",
   "metadata": {},
   "source": [
    "This data set is formed by the comments of the republicans, conservatives, liberal and democrats subreddits."
   ]
  },
  {
   "cell_type": "code",
   "execution_count": null,
   "metadata": {},
   "outputs": [],
   "source": []
  },
  {
   "cell_type": "code",
   "execution_count": 100,
   "metadata": {},
   "outputs": [
    {
     "ename": "NameError",
     "evalue": "name 'df_pd' is not defined",
     "output_type": "error",
     "traceback": [
      "\u001b[1;31m---------------------------------------------------------------------------\u001b[0m",
      "\u001b[1;31mNameError\u001b[0m                                 Traceback (most recent call last)",
      "\u001b[1;32m<ipython-input-100-9ffa95a0eb9d>\u001b[0m in \u001b[0;36m<module>\u001b[1;34m\u001b[0m\n\u001b[0;32m      3\u001b[0m \u001b[0mdemocrats_for_training\u001b[0m \u001b[1;33m=\u001b[0m \u001b[1;33m[\u001b[0m\u001b[1;34m\"democrats\"\u001b[0m\u001b[1;33m,\u001b[0m \u001b[1;34m\"Liberal\"\u001b[0m\u001b[1;33m]\u001b[0m\u001b[1;33m\u001b[0m\u001b[1;33m\u001b[0m\u001b[0m\n\u001b[0;32m      4\u001b[0m \u001b[1;33m\u001b[0m\u001b[0m\n\u001b[1;32m----> 5\u001b[1;33m \u001b[0mdf_training\u001b[0m \u001b[1;33m=\u001b[0m \u001b[1;33m(\u001b[0m\u001b[0mdf_train_data\u001b[0m\u001b[1;33m.\u001b[0m\u001b[0mloc\u001b[0m\u001b[1;33m[\u001b[0m\u001b[0mdf_pd\u001b[0m\u001b[1;33m[\u001b[0m\u001b[1;34m'subreddit'\u001b[0m\u001b[1;33m]\u001b[0m\u001b[1;33m.\u001b[0m\u001b[0misin\u001b[0m\u001b[1;33m(\u001b[0m\u001b[0msubreddits_for_training\u001b[0m\u001b[1;33m)\u001b[0m\u001b[1;33m]\u001b[0m\u001b[1;33m)\u001b[0m\u001b[1;33m[\u001b[0m\u001b[1;33m[\u001b[0m\u001b[1;34m\"subreddit\"\u001b[0m\u001b[1;33m,\u001b[0m \u001b[1;34m\"body\"\u001b[0m\u001b[1;33m]\u001b[0m\u001b[1;33m]\u001b[0m\u001b[1;33m\u001b[0m\u001b[1;33m\u001b[0m\u001b[0m\n\u001b[0m",
      "\u001b[1;31mNameError\u001b[0m: name 'df_pd' is not defined"
     ]
    }
   ],
   "source": [
    "subreddits_for_training = [\"democrats\", \"Republican\", \"Liberal\", \"Conservative\"]\n",
    "republicans_for_training = [\"Republican\", \"Conservative\"]\n",
    "democrats_for_training = [\"democrats\", \"Liberal\"]\n",
    "\n",
    "df_training = (df_train_data.loc[df_pd['subreddit'].isin(subreddits_for_training)])[[\"subreddit\", \"body\"]]"
   ]
  },
  {
   "cell_type": "code",
   "execution_count": null,
   "metadata": {},
   "outputs": [],
   "source": [
    "df_training[\"Conservative\"] = df_pd['subreddit'].isin(republicans_for_training)"
   ]
  },
  {
   "cell_type": "code",
   "execution_count": null,
   "metadata": {},
   "outputs": [],
   "source": [
    "df_training[\"Conservative\"] = df_training[\"Conservative\"].apply(lambda x: 1 if x == True else 0)"
   ]
  },
  {
   "cell_type": "code",
   "execution_count": null,
   "metadata": {},
   "outputs": [],
   "source": [
    "df_training[df_training[\"Conservative\"]==1].count()"
   ]
  },
  {
   "cell_type": "code",
   "execution_count": null,
   "metadata": {},
   "outputs": [],
   "source": [
    "comments_list = df_training[\"body\"].values\n",
    "comments_list_class = df_training[\"Conservative\"].values"
   ]
  },
  {
   "cell_type": "code",
   "execution_count": null,
   "metadata": {},
   "outputs": [],
   "source": [
    "comments_list"
   ]
  },
  {
   "cell_type": "code",
   "execution_count": null,
   "metadata": {
    "scrolled": false
   },
   "outputs": [],
   "source": [
    "STOPWORDS = spacy.lang.en.stop_words.STOP_WORDS\n",
    "\n",
    "processed_docs = list()\n",
    "for doc in nlp.pipe(comments_list, n_threads=5, batch_size=10):\n",
    "\n",
    "    # Process document using Spacy NLP pipeline.\n",
    "    ents = doc.ents  # Named entities\n",
    "\n",
    "    # Keep only words (no numbers, no punctuation).\n",
    "    # Lemmatize tokens, remove punctuation and remove stopwords.\n",
    "    doc = [token.lemma_ for token in doc if token.is_alpha and not token.is_stop]\n",
    "\n",
    "    # Remove common words from a stopword list and keep only words of length 3 or more.\n",
    "    doc = [token for token in doc if token not in STOPWORDS and len(token) > 2]\n",
    "\n",
    "    # Add named entities, but only if they are a compound of more than word.\n",
    "    doc.extend([str(entity) for entity in ents if len(entity) > 1])\n",
    "\n",
    "    processed_docs.append(doc)\n",
    "docs = processed_docs\n",
    "del processed_docs"
   ]
  },
  {
   "cell_type": "code",
   "execution_count": null,
   "metadata": {},
   "outputs": [],
   "source": [
    "# Add bigrams too\n",
    "from gensim.models.phrases import Phrases\n",
    "\n",
    "# Add bigrams to docs (only ones that appear 15 times or more).\n",
    "bigram = Phrases(docs, min_count=15)\n",
    "\n",
    "for idx in range(len(docs)):\n",
    "    for token in bigram[docs[idx]]:\n",
    "        if '_' in token:\n",
    "            # Token is a bigram, add to document.\n",
    "            docs[idx].append(token)"
   ]
  },
  {
   "cell_type": "code",
   "execution_count": null,
   "metadata": {},
   "outputs": [],
   "source": [
    "# Create a dictionary representation of the documents, and filter out frequent and rare words.\n",
    "from gensim.corpora import Dictionary\n",
    "dictionary = Dictionary(docs)\n",
    "\n",
    "# Remove rare and common tokens.\n",
    "# Filter out words that occur too frequently or too rarely.\n",
    "max_freq = 0.5\n",
    "min_wordcount = 5\n",
    "dictionary.filter_extremes(no_below=min_wordcount, no_above=max_freq)\n",
    "\n",
    "# Bag-of-words representation of the documents.\n",
    "corpus = [dictionary.doc2bow(doc) for doc in docs]\n",
    "#MmCorpus.serialize(\"models/corpus.mm\", corpus)\n",
    "\n",
    "print('Number of unique tokens: %d' % len(dictionary))\n",
    "print('Number of chunks: %d' % len(corpus))"
   ]
  },
  {
   "cell_type": "code",
   "execution_count": null,
   "metadata": {},
   "outputs": [],
   "source": [
    "# models\n",
    "from gensim.models import LdaMulticore\n",
    "params = {'passes': 10, 'random_state': seed}\n",
    "base_models = dict()\n",
    "model = LdaMulticore(corpus=corpus, num_topics=2, id2word=dictionary, workers=6,\n",
    "                passes=params['passes'], random_state=params['random_state'])"
   ]
  },
  {
   "cell_type": "code",
   "execution_count": null,
   "metadata": {},
   "outputs": [],
   "source": [
    "model.show_topics(num_words=5)"
   ]
  },
  {
   "cell_type": "code",
   "execution_count": null,
   "metadata": {},
   "outputs": [],
   "source": [
    "model.show_topic(1,20)"
   ]
  },
  {
   "cell_type": "code",
   "execution_count": null,
   "metadata": {},
   "outputs": [],
   "source": [
    "sorted(model[corpus[0]],key=lambda x:x[1],reverse=True)"
   ]
  },
  {
   "cell_type": "code",
   "execution_count": null,
   "metadata": {},
   "outputs": [],
   "source": [
    "# plot topics\n",
    "data =  pyLDAvis.gensim.prepare(model, corpus, dictionary)\n",
    "pyLDAvis.save_html(data, 'lda.html')\n",
    "pyLDAvis.display(data)"
   ]
  },
  {
   "cell_type": "code",
   "execution_count": null,
   "metadata": {},
   "outputs": [],
   "source": [
    "# assignment\n",
    "sent_to_cluster = list()\n",
    "for n,doc in enumerate(corpus):\n",
    "    if doc:\n",
    "        cluster = max(model[doc],key=lambda x:x[1])\n",
    "        sent_to_cluster.append(cluster[0])"
   ]
  },
  {
   "cell_type": "code",
   "execution_count": null,
   "metadata": {},
   "outputs": [],
   "source": [
    "# accuracy\n",
    "from collections import Counter\n",
    "for book, cluster in book_id.items():\n",
    "    assignments = list()\n",
    "    for real,given in zip(comments_list_class,sent_to_cluster):\n",
    "        if real == cluster:\n",
    "            assignments.append(given)\n",
    "    most_common,num_most_common = Counter(assignments).most_common(1)[0] # 4, 6 times\n",
    "    print(book,\":\",most_common,\"-\",num_most_common)\n",
    "    print(\"Accuracy:\",num_most_common/limit)\n",
    "    print(\"------\")"
   ]
  },
  {
   "cell_type": "code",
   "execution_count": null,
   "metadata": {},
   "outputs": [],
   "source": []
  },
  {
   "cell_type": "code",
   "execution_count": null,
   "metadata": {},
   "outputs": [],
   "source": []
  }
 ],
 "metadata": {
  "kernelspec": {
   "display_name": "Python 3",
   "language": "python",
   "name": "python3"
  },
  "language_info": {
   "codemirror_mode": {
    "name": "ipython",
    "version": 3
   },
   "file_extension": ".py",
   "mimetype": "text/x-python",
   "name": "python",
   "nbconvert_exporter": "python",
   "pygments_lexer": "ipython3",
   "version": "3.6.7"
  }
 },
 "nbformat": 4,
 "nbformat_minor": 2
}
